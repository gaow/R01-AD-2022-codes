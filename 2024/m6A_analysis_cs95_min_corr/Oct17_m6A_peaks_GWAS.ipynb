{
 "cells": [
  {
   "cell_type": "markdown",
   "id": "6dded65c-ccd3-4c1b-bb9f-ca0607975db4",
   "metadata": {
    "kernel": "SoS"
   },
   "source": [
    "# m6A peaks and AD GWAS signals"
   ]
  },
  {
   "cell_type": "markdown",
   "id": "466aa701-0af1-4291-a187-ed31d2e372e7",
   "metadata": {
    "kernel": "SoS"
   },
   "source": [
    "- Data: we have m6A peaks (bed-file like) from different tissues, as well as a version merging all tissues. We also have multiple AD GWAS summary stats from different AD studies where we know the z-score for each variant we analyze, as well as if a variant is in 95% CS from fine-mapping.\n"
   ]
  },
  {
   "cell_type": "markdown",
   "id": "c4a6d3f1-0dca-410c-ae41-7568191dacaa",
   "metadata": {
    "kernel": "SoS"
   },
   "source": [
    "## Overall\n",
    "In this notebook, I aim to map m6A peaks to our finemapped AD variants to explore potential enrichment of m6A peaks. The steps are as follows:\n",
    "\n",
    "1.\tOrganize m6A peak data, including:\n",
    "- Conversion from hg19 to hg38 (not shown in this notebook)\n",
    "- Check m6A peak sizes and downsize those larger than 1kb\n",
    "- Annotate each peak with a possible associated gene\n",
    "2.\tLoad AD finemapped data and Bellenguez sumstats to use as background.\n",
    "3.\tMap m6A peaks to AD finemapped and non-AD finemapped data.\n",
    "4.\tPerform enrichment analysis based on different contexts in Step 3.\n",
    "5.\tCompare whether this enrichment is brain-specific by examining the number of regions with or without AD variants in brain tissue compared to other tissues."
   ]
  },
  {
   "cell_type": "markdown",
   "id": "52da16e2-0987-4cf9-a775-377e235401ff",
   "metadata": {
    "kernel": "SoS"
   },
   "source": [
    "all GWAS analysis are focusing on Bellenguze in notebook"
   ]
  },
  {
   "cell_type": "code",
   "execution_count": 1,
   "id": "99c0997c-5261-49c6-977b-8ae787ba71b0",
   "metadata": {
    "kernel": "R"
   },
   "outputs": [
    {
     "name": "stderr",
     "output_type": "stream",
     "text": [
      "── \u001b[1mAttaching core tidyverse packages\u001b[22m ──────────────────────── tidyverse 2.0.0 ──\n",
      "\u001b[32m✔\u001b[39m \u001b[34mdplyr    \u001b[39m 1.1.4     \u001b[32m✔\u001b[39m \u001b[34mreadr    \u001b[39m 2.1.5\n",
      "\u001b[32m✔\u001b[39m \u001b[34mforcats  \u001b[39m 1.0.0     \u001b[32m✔\u001b[39m \u001b[34mstringr  \u001b[39m 1.5.1\n",
      "\u001b[32m✔\u001b[39m \u001b[34mggplot2  \u001b[39m 3.5.1     \u001b[32m✔\u001b[39m \u001b[34mtibble   \u001b[39m 3.2.1\n",
      "\u001b[32m✔\u001b[39m \u001b[34mlubridate\u001b[39m 1.9.3     \u001b[32m✔\u001b[39m \u001b[34mtidyr    \u001b[39m 1.3.1\n",
      "\u001b[32m✔\u001b[39m \u001b[34mpurrr    \u001b[39m 1.0.2     \n",
      "── \u001b[1mConflicts\u001b[22m ────────────────────────────────────────── tidyverse_conflicts() ──\n",
      "\u001b[31m✖\u001b[39m \u001b[34mpurrr\u001b[39m::\u001b[32m%||%()\u001b[39m   masks \u001b[34mbase\u001b[39m::%||%()\n",
      "\u001b[31m✖\u001b[39m \u001b[34mdplyr\u001b[39m::\u001b[32mfilter()\u001b[39m masks \u001b[34mstats\u001b[39m::filter()\n",
      "\u001b[31m✖\u001b[39m \u001b[34mdplyr\u001b[39m::\u001b[32mlag()\u001b[39m    masks \u001b[34mstats\u001b[39m::lag()\n",
      "\u001b[36mℹ\u001b[39m Use the conflicted package (\u001b[3m\u001b[34m<http://conflicted.r-lib.org/>\u001b[39m\u001b[23m) to force all conflicts to become errors\n",
      "\n",
      "Attaching package: ‘data.table’\n",
      "\n",
      "\n",
      "The following objects are masked from ‘package:lubridate’:\n",
      "\n",
      "    hour, isoweek, mday, minute, month, quarter, second, wday, week,\n",
      "    yday, year\n",
      "\n",
      "\n",
      "The following objects are masked from ‘package:dplyr’:\n",
      "\n",
      "    between, first, last\n",
      "\n",
      "\n",
      "The following object is masked from ‘package:purrr’:\n",
      "\n",
      "    transpose\n",
      "\n",
      "\n",
      "Warning message in fun(libname, pkgname):\n",
      "“bedtoolsr was built with bedtools version 2.30.0 but you have version 2.31.1 installed. Function syntax may have changed and wrapper will not function correctly. To fix this, please install bedtools version 2.30.0 and either add it to your PATH or run:\n",
      "options(bedtools.path = \\\"[bedtools path]\\\")”\n",
      "Loading required package: stats4\n",
      "\n",
      "Loading required package: BiocGenerics\n",
      "\n",
      "\n",
      "Attaching package: ‘BiocGenerics’\n",
      "\n",
      "\n",
      "The following objects are masked from ‘package:lubridate’:\n",
      "\n",
      "    intersect, setdiff, union\n",
      "\n",
      "\n",
      "The following objects are masked from ‘package:dplyr’:\n",
      "\n",
      "    combine, intersect, setdiff, union\n",
      "\n",
      "\n",
      "The following objects are masked from ‘package:stats’:\n",
      "\n",
      "    IQR, mad, sd, var, xtabs\n",
      "\n",
      "\n",
      "The following objects are masked from ‘package:base’:\n",
      "\n",
      "    anyDuplicated, aperm, append, as.data.frame, basename, cbind,\n",
      "    colnames, dirname, do.call, duplicated, eval, evalq, Filter, Find,\n",
      "    get, grep, grepl, intersect, is.unsorted, lapply, Map, mapply,\n",
      "    match, mget, order, paste, pmax, pmax.int, pmin, pmin.int,\n",
      "    Position, rank, rbind, Reduce, rownames, sapply, setdiff, table,\n",
      "    tapply, union, unique, unsplit, which.max, which.min\n",
      "\n",
      "\n",
      "Loading required package: S4Vectors\n",
      "\n",
      "\n",
      "Attaching package: ‘S4Vectors’\n",
      "\n",
      "\n",
      "The following objects are masked from ‘package:data.table’:\n",
      "\n",
      "    first, second\n",
      "\n",
      "\n",
      "The following objects are masked from ‘package:lubridate’:\n",
      "\n",
      "    second, second<-\n",
      "\n",
      "\n",
      "The following objects are masked from ‘package:dplyr’:\n",
      "\n",
      "    first, rename\n",
      "\n",
      "\n",
      "The following object is masked from ‘package:tidyr’:\n",
      "\n",
      "    expand\n",
      "\n",
      "\n",
      "The following object is masked from ‘package:utils’:\n",
      "\n",
      "    findMatches\n",
      "\n",
      "\n",
      "The following objects are masked from ‘package:base’:\n",
      "\n",
      "    expand.grid, I, unname\n",
      "\n",
      "\n",
      "Loading required package: IRanges\n",
      "\n",
      "\n",
      "Attaching package: ‘IRanges’\n",
      "\n",
      "\n",
      "The following object is masked from ‘package:data.table’:\n",
      "\n",
      "    shift\n",
      "\n",
      "\n",
      "The following object is masked from ‘package:lubridate’:\n",
      "\n",
      "    %within%\n",
      "\n",
      "\n",
      "The following objects are masked from ‘package:dplyr’:\n",
      "\n",
      "    collapse, desc, slice\n",
      "\n",
      "\n",
      "The following object is masked from ‘package:purrr’:\n",
      "\n",
      "    reduce\n",
      "\n",
      "\n",
      "Loading required package: GenomeInfoDb\n",
      "\n"
     ]
    }
   ],
   "source": [
    "library(tidyverse)\n",
    "library(data.table)\n",
    "library(bedtoolsr)\n",
    "library(GenomicRanges)\n"
   ]
  },
  {
   "cell_type": "markdown",
   "id": "880f89d6-c9f5-4b38-a55c-14c3aae67a78",
   "metadata": {
    "kernel": "R"
   },
   "source": [
    "## Organize m6A data"
   ]
  },
  {
   "cell_type": "markdown",
   "id": "856aa0bd-7471-4614-a33e-ae4ee5dea9fc",
   "metadata": {
    "kernel": "R"
   },
   "source": [
    "combine m6A region file from all contexts together"
   ]
  },
  {
   "cell_type": "code",
   "execution_count": 45,
   "id": "bfac6428-0e32-4219-bb36-6196743d40b5",
   "metadata": {
    "kernel": "R"
   },
   "outputs": [],
   "source": [
    "m6a = data.frame()\n",
    "for(file_name in list.files('~/data/m6A/m6A_RELIC/', 'bed$',full.names = T)){\n",
    "    m6a_tmp <- fread(file_name) %>% mutate(V1 = paste0('chr', V1), \n",
    "                                           hg38_ID = paste(V1,V2,V3, sep = \":\"), \n",
    "                                           context = basename(file_name) %>% gsub('.bed','',.) %>% gsub('adult_','',.))\n",
    "    m6a <- rbind(m6a, m6a_tmp)\n",
    "}"
   ]
  },
  {
   "cell_type": "code",
   "execution_count": 46,
   "id": "9cae3b63-362d-462d-bd1c-ded790944a94",
   "metadata": {},
   "outputs": [
    {
     "data": {
      "text/html": [
       "<table class=\"dataframe\">\n",
       "<caption>A data.table: 6 × 7</caption>\n",
       "<thead>\n",
       "\t<tr><th scope=col>V1</th><th scope=col>V2</th><th scope=col>V3</th><th scope=col>V4</th><th scope=col>V5</th><th scope=col>hg38_ID</th><th scope=col>context</th></tr>\n",
       "\t<tr><th scope=col>&lt;chr&gt;</th><th scope=col>&lt;int&gt;</th><th scope=col>&lt;int&gt;</th><th scope=col>&lt;int&gt;</th><th scope=col>&lt;chr&gt;</th><th scope=col>&lt;chr&gt;</th><th scope=col>&lt;chr&gt;</th></tr>\n",
       "</thead>\n",
       "<tbody>\n",
       "\t<tr><td>chr1</td><td>266893</td><td>267014</td><td>122</td><td>-</td><td>chr1:266893:267014</td><td>brain_cortex</td></tr>\n",
       "\t<tr><td>chr1</td><td>633754</td><td>633844</td><td> 91</td><td>+</td><td>chr1:633754:633844</td><td>brain_cortex</td></tr>\n",
       "\t<tr><td>chr1</td><td>853436</td><td>853567</td><td>132</td><td>+</td><td>chr1:853436:853567</td><td>brain_cortex</td></tr>\n",
       "\t<tr><td>chr1</td><td>853716</td><td>853867</td><td>152</td><td>+</td><td>chr1:853716:853867</td><td>brain_cortex</td></tr>\n",
       "\t<tr><td>chr1</td><td>856305</td><td>856496</td><td>192</td><td>+</td><td>chr1:856305:856496</td><td>brain_cortex</td></tr>\n",
       "\t<tr><td>chr1</td><td>856515</td><td>856636</td><td>122</td><td>+</td><td>chr1:856515:856636</td><td>brain_cortex</td></tr>\n",
       "</tbody>\n",
       "</table>\n"
      ],
      "text/latex": [
       "A data.table: 6 × 7\n",
       "\\begin{tabular}{lllllll}\n",
       " V1 & V2 & V3 & V4 & V5 & hg38\\_ID & context\\\\\n",
       " <chr> & <int> & <int> & <int> & <chr> & <chr> & <chr>\\\\\n",
       "\\hline\n",
       "\t chr1 & 266893 & 267014 & 122 & - & chr1:266893:267014 & brain\\_cortex\\\\\n",
       "\t chr1 & 633754 & 633844 &  91 & + & chr1:633754:633844 & brain\\_cortex\\\\\n",
       "\t chr1 & 853436 & 853567 & 132 & + & chr1:853436:853567 & brain\\_cortex\\\\\n",
       "\t chr1 & 853716 & 853867 & 152 & + & chr1:853716:853867 & brain\\_cortex\\\\\n",
       "\t chr1 & 856305 & 856496 & 192 & + & chr1:856305:856496 & brain\\_cortex\\\\\n",
       "\t chr1 & 856515 & 856636 & 122 & + & chr1:856515:856636 & brain\\_cortex\\\\\n",
       "\\end{tabular}\n"
      ],
      "text/markdown": [
       "\n",
       "A data.table: 6 × 7\n",
       "\n",
       "| V1 &lt;chr&gt; | V2 &lt;int&gt; | V3 &lt;int&gt; | V4 &lt;int&gt; | V5 &lt;chr&gt; | hg38_ID &lt;chr&gt; | context &lt;chr&gt; |\n",
       "|---|---|---|---|---|---|---|\n",
       "| chr1 | 266893 | 267014 | 122 | - | chr1:266893:267014 | brain_cortex |\n",
       "| chr1 | 633754 | 633844 |  91 | + | chr1:633754:633844 | brain_cortex |\n",
       "| chr1 | 853436 | 853567 | 132 | + | chr1:853436:853567 | brain_cortex |\n",
       "| chr1 | 853716 | 853867 | 152 | + | chr1:853716:853867 | brain_cortex |\n",
       "| chr1 | 856305 | 856496 | 192 | + | chr1:856305:856496 | brain_cortex |\n",
       "| chr1 | 856515 | 856636 | 122 | + | chr1:856515:856636 | brain_cortex |\n",
       "\n"
      ],
      "text/plain": [
       "  V1   V2     V3     V4  V5 hg38_ID            context     \n",
       "1 chr1 266893 267014 122 -  chr1:266893:267014 brain_cortex\n",
       "2 chr1 633754 633844  91 +  chr1:633754:633844 brain_cortex\n",
       "3 chr1 853436 853567 132 +  chr1:853436:853567 brain_cortex\n",
       "4 chr1 853716 853867 152 +  chr1:853716:853867 brain_cortex\n",
       "5 chr1 856305 856496 192 +  chr1:856305:856496 brain_cortex\n",
       "6 chr1 856515 856636 122 +  chr1:856515:856636 brain_cortex"
      ]
     },
     "metadata": {},
     "output_type": "display_data"
    }
   ],
   "source": [
    "m6a %>% head"
   ]
  },
  {
   "cell_type": "markdown",
   "id": "f6ff392f-581f-4446-8497-904b7a175d11",
   "metadata": {
    "kernel": "R"
   },
   "source": [
    "### Check the size of m6A peaks. If the peak is > 1 Kb, take the center and extend 500 bp on each side."
   ]
  },
  {
   "cell_type": "code",
   "execution_count": 47,
   "id": "8f040455-1eda-4435-8c0e-28c1677be2b1",
   "metadata": {
    "kernel": "R"
   },
   "outputs": [],
   "source": [
    "m6a <- m6a %>% mutate(distance = V4, \n",
    "               center = as.integer((V2+V3)/2),\n",
    "               start = ifelse(distance <= 1000, V2, center - 500), \n",
    "               end = ifelse(distance <= 1000, V3, center + 500)) \n",
    "m6a %>% fwrite(., '~/data/m6A/m6A_RELIC/m6A_adult.all.modifyregion.bed.gz', sep = '\\t')"
   ]
  },
  {
   "cell_type": "code",
   "execution_count": 50,
   "id": "e257a086-1d5d-456e-bed0-0c8422811450",
   "metadata": {},
   "outputs": [
    {
     "data": {
      "text/plain": [
       "    Min.  1st Qu.   Median     Mean  3rd Qu.     Max. \n",
       "    79.0    122.0    182.0    899.4    328.0 863470.0 "
      ]
     },
     "metadata": {},
     "output_type": "display_data"
    }
   ],
   "source": [
    "summary(m6a$V4)"
   ]
  },
  {
   "cell_type": "markdown",
   "id": "70aa1639-1886-4313-a45c-a374f7a66638",
   "metadata": {
    "kernel": "R"
   },
   "source": [
    "The maxium size of m6A peaks is 298"
   ]
  },
  {
   "cell_type": "markdown",
   "id": "1886720e-4f64-467d-a47b-19672e8d18e3",
   "metadata": {
    "kernel": "R"
   },
   "source": [
    "Add gene information into each peak. \n",
    "For the peak region we can keep every gene overlapped with it , and for the regions not covered with any gene body we pick the one with nearest TSS to center of m6A region"
   ]
  },
  {
   "cell_type": "code",
   "execution_count": 10,
   "id": "1f1c94ec-3b95-4e8e-af63-37d244b0eef4",
   "metadata": {
    "kernel": "R"
   },
   "outputs": [],
   "source": [
    "gene_region <- fread('~/data/ref_data_Ru/gene_region.tsv')\n",
    "\n",
    "gene_region <- gene_region %>%\n",
    "  mutate(gene_name = str_extract(V9, 'gene_name.*?;'), \n",
    "         gene_name = str_replace_all(gene_name, 'gene_name\\\\s*\"\"?|\"\"|;', \"\"),\n",
    "        TSS = ifelse(V7 == \"+\", V4, V5))"
   ]
  },
  {
   "cell_type": "code",
   "execution_count": 11,
   "id": "d1e2b7ed-8d1b-4a54-8054-88e233bc498a",
   "metadata": {
    "kernel": "R"
   },
   "outputs": [
    {
     "data": {
      "text/html": [
       "<style>\n",
       ".list-inline {list-style: none; margin:0; padding: 0}\n",
       ".list-inline>li {display: inline-block}\n",
       ".list-inline>li:not(:last-child)::after {content: \"\\00b7\"; padding: 0 .5ex}\n",
       "</style>\n",
       "<ol class=list-inline><li>19933</li><li>12</li></ol>\n"
      ],
      "text/latex": [
       "\\begin{enumerate*}\n",
       "\\item 19933\n",
       "\\item 12\n",
       "\\end{enumerate*}\n"
      ],
      "text/markdown": [
       "1. 19933\n",
       "2. 12\n",
       "\n",
       "\n"
      ],
      "text/plain": [
       "[1] 19933    12"
      ]
     },
     "metadata": {},
     "output_type": "display_data"
    }
   ],
   "source": [
    "# we only kept protein coding gene here\n",
    "pro_gene_region <- gene_region %>% filter(str_detect(V9, \"protein_coding\")) \n",
    "\n",
    "colnames(pro_gene_region)[1] <- 'V1'\n",
    "pro_gene_region %>% dim\n"
   ]
  },
  {
   "cell_type": "code",
   "execution_count": 12,
   "id": "492294c9-fcc4-48f4-bb6b-da80229ea2fa",
   "metadata": {
    "kernel": "R",
    "scrolled": true
   },
   "outputs": [
    {
     "data": {
      "text/html": [
       "<style>\n",
       ".list-inline {list-style: none; margin:0; padding: 0}\n",
       ".list-inline>li {display: inline-block}\n",
       ".list-inline>li:not(:last-child)::after {content: \"\\00b7\"; padding: 0 .5ex}\n",
       "</style>\n",
       "<ol class=list-inline><li>202241</li><li>11</li></ol>\n"
      ],
      "text/latex": [
       "\\begin{enumerate*}\n",
       "\\item 202241\n",
       "\\item 11\n",
       "\\end{enumerate*}\n"
      ],
      "text/markdown": [
       "1. 202241\n",
       "2. 11\n",
       "\n",
       "\n"
      ],
      "text/plain": [
       "[1] 202241     11"
      ]
     },
     "metadata": {},
     "output_type": "display_data"
    },
    {
     "data": {
      "text/html": [
       "<table class=\"dataframe\">\n",
       "<caption>A data.table: 6 × 11</caption>\n",
       "<thead>\n",
       "\t<tr><th scope=col>V1</th><th scope=col>V2</th><th scope=col>V3</th><th scope=col>V4</th><th scope=col>V5</th><th scope=col>hg38_ID</th><th scope=col>context</th><th scope=col>distance</th><th scope=col>center</th><th scope=col>start</th><th scope=col>end</th></tr>\n",
       "\t<tr><th scope=col>&lt;chr&gt;</th><th scope=col>&lt;int&gt;</th><th scope=col>&lt;int&gt;</th><th scope=col>&lt;int&gt;</th><th scope=col>&lt;chr&gt;</th><th scope=col>&lt;chr&gt;</th><th scope=col>&lt;chr&gt;</th><th scope=col>&lt;int&gt;</th><th scope=col>&lt;int&gt;</th><th scope=col>&lt;dbl&gt;</th><th scope=col>&lt;dbl&gt;</th></tr>\n",
       "</thead>\n",
       "<tbody>\n",
       "\t<tr><td>chr1</td><td>266893</td><td>267014</td><td>122</td><td>-</td><td>chr1:266893:267014</td><td>brain_cortex</td><td>122</td><td>266953</td><td>266893</td><td>267014</td></tr>\n",
       "\t<tr><td>chr1</td><td>633754</td><td>633844</td><td> 91</td><td>+</td><td>chr1:633754:633844</td><td>brain_cortex</td><td> 91</td><td>633799</td><td>633754</td><td>633844</td></tr>\n",
       "\t<tr><td>chr1</td><td>853436</td><td>853567</td><td>132</td><td>+</td><td>chr1:853436:853567</td><td>brain_cortex</td><td>132</td><td>853501</td><td>853436</td><td>853567</td></tr>\n",
       "\t<tr><td>chr1</td><td>853716</td><td>853867</td><td>152</td><td>+</td><td>chr1:853716:853867</td><td>brain_cortex</td><td>152</td><td>853791</td><td>853716</td><td>853867</td></tr>\n",
       "\t<tr><td>chr1</td><td>856305</td><td>856496</td><td>192</td><td>+</td><td>chr1:856305:856496</td><td>brain_cortex</td><td>192</td><td>856400</td><td>856305</td><td>856496</td></tr>\n",
       "\t<tr><td>chr1</td><td>856515</td><td>856636</td><td>122</td><td>+</td><td>chr1:856515:856636</td><td>brain_cortex</td><td>122</td><td>856575</td><td>856515</td><td>856636</td></tr>\n",
       "</tbody>\n",
       "</table>\n"
      ],
      "text/latex": [
       "A data.table: 6 × 11\n",
       "\\begin{tabular}{lllllllllll}\n",
       " V1 & V2 & V3 & V4 & V5 & hg38\\_ID & context & distance & center & start & end\\\\\n",
       " <chr> & <int> & <int> & <int> & <chr> & <chr> & <chr> & <int> & <int> & <dbl> & <dbl>\\\\\n",
       "\\hline\n",
       "\t chr1 & 266893 & 267014 & 122 & - & chr1:266893:267014 & brain\\_cortex & 122 & 266953 & 266893 & 267014\\\\\n",
       "\t chr1 & 633754 & 633844 &  91 & + & chr1:633754:633844 & brain\\_cortex &  91 & 633799 & 633754 & 633844\\\\\n",
       "\t chr1 & 853436 & 853567 & 132 & + & chr1:853436:853567 & brain\\_cortex & 132 & 853501 & 853436 & 853567\\\\\n",
       "\t chr1 & 853716 & 853867 & 152 & + & chr1:853716:853867 & brain\\_cortex & 152 & 853791 & 853716 & 853867\\\\\n",
       "\t chr1 & 856305 & 856496 & 192 & + & chr1:856305:856496 & brain\\_cortex & 192 & 856400 & 856305 & 856496\\\\\n",
       "\t chr1 & 856515 & 856636 & 122 & + & chr1:856515:856636 & brain\\_cortex & 122 & 856575 & 856515 & 856636\\\\\n",
       "\\end{tabular}\n"
      ],
      "text/markdown": [
       "\n",
       "A data.table: 6 × 11\n",
       "\n",
       "| V1 &lt;chr&gt; | V2 &lt;int&gt; | V3 &lt;int&gt; | V4 &lt;int&gt; | V5 &lt;chr&gt; | hg38_ID &lt;chr&gt; | context &lt;chr&gt; | distance &lt;int&gt; | center &lt;int&gt; | start &lt;dbl&gt; | end &lt;dbl&gt; |\n",
       "|---|---|---|---|---|---|---|---|---|---|---|\n",
       "| chr1 | 266893 | 267014 | 122 | - | chr1:266893:267014 | brain_cortex | 122 | 266953 | 266893 | 267014 |\n",
       "| chr1 | 633754 | 633844 |  91 | + | chr1:633754:633844 | brain_cortex |  91 | 633799 | 633754 | 633844 |\n",
       "| chr1 | 853436 | 853567 | 132 | + | chr1:853436:853567 | brain_cortex | 132 | 853501 | 853436 | 853567 |\n",
       "| chr1 | 853716 | 853867 | 152 | + | chr1:853716:853867 | brain_cortex | 152 | 853791 | 853716 | 853867 |\n",
       "| chr1 | 856305 | 856496 | 192 | + | chr1:856305:856496 | brain_cortex | 192 | 856400 | 856305 | 856496 |\n",
       "| chr1 | 856515 | 856636 | 122 | + | chr1:856515:856636 | brain_cortex | 122 | 856575 | 856515 | 856636 |\n",
       "\n"
      ],
      "text/plain": [
       "  V1   V2     V3     V4  V5 hg38_ID            context      distance center\n",
       "1 chr1 266893 267014 122 -  chr1:266893:267014 brain_cortex 122      266953\n",
       "2 chr1 633754 633844  91 +  chr1:633754:633844 brain_cortex  91      633799\n",
       "3 chr1 853436 853567 132 +  chr1:853436:853567 brain_cortex 132      853501\n",
       "4 chr1 853716 853867 152 +  chr1:853716:853867 brain_cortex 152      853791\n",
       "5 chr1 856305 856496 192 +  chr1:856305:856496 brain_cortex 192      856400\n",
       "6 chr1 856515 856636 122 +  chr1:856515:856636 brain_cortex 122      856575\n",
       "  start  end   \n",
       "1 266893 267014\n",
       "2 633754 633844\n",
       "3 853436 853567\n",
       "4 853716 853867\n",
       "5 856305 856496\n",
       "6 856515 856636"
      ]
     },
     "metadata": {},
     "output_type": "display_data"
    }
   ],
   "source": [
    "m6a %>% dim\n",
    "m6a %>% head"
   ]
  },
  {
   "cell_type": "markdown",
   "id": "08f6651e-65fb-42e8-968e-da009e970ef8",
   "metadata": {
    "kernel": "R"
   },
   "source": [
    "### Overlap the m6A peaks and gene region annotation file"
   ]
  },
  {
   "cell_type": "code",
   "execution_count": 13,
   "id": "ad7425d9-d0fd-42f3-bdf5-1756eef3e33b",
   "metadata": {
    "kernel": "R"
   },
   "outputs": [],
   "source": [
    "# Load necessary libraries\n",
    "\n",
    "# Convert m6a peaks data and gene region data (pro_gene_region) to GRanges objects\n",
    "m6a_gr <- GRanges(\n",
    "  seqnames = m6a$V1,\n",
    "  ranges = IRanges(start = m6a$start, end = m6a$end)\n",
    ")\n",
    "\n",
    "gene_gr <- GRanges(\n",
    "  seqnames = pro_gene_region$V1,\n",
    "  ranges = IRanges(start = pro_gene_region$V4, end = pro_gene_region$V5),\n",
    "  gene_id = pro_gene_region$gene,\n",
    "  gene_name = pro_gene_region$gene_name\n",
    ")"
   ]
  },
  {
   "cell_type": "markdown",
   "id": "ff7f4487-30e5-42fb-b805-4058e4782173",
   "metadata": {
    "kernel": "R"
   },
   "source": [
    "For the peak region we can keep every gene overlapped with it "
   ]
  },
  {
   "cell_type": "code",
   "execution_count": 14,
   "id": "ae393b71-291b-4b6a-85d8-8c368b247059",
   "metadata": {
    "kernel": "R"
   },
   "outputs": [
    {
     "name": "stderr",
     "output_type": "stream",
     "text": [
      "Warning message in .merge_two_Seqinfo_objects(x, y):\n",
      "“Each of the 2 combined objects has sequence levels not in the other:\n",
      "  - in 'x': chrM\n",
      "  - in 'y': chrMT\n",
      "  Make sure to always combine/compare objects based on the same reference\n",
      "  genome (use suppressWarnings() to suppress this warning).”\n"
     ]
    }
   ],
   "source": [
    "# Find overlaps between m6a data and gene regions\n",
    "overlaps <- findOverlaps(m6a_gr, gene_gr)\n",
    "\n",
    "# Extract overlapping rows and annotate with gene information\n",
    "m6a_with_gene <- m6a[queryHits(overlaps), ]\n",
    "m6a_with_gene$gene_id <- pro_gene_region$gene[subjectHits(overlaps)]\n",
    "m6a_with_gene$gene_name <- pro_gene_region$gene_name[subjectHits(overlaps)]\n",
    "\n",
    "# For non-overlapping rows, find the nearest TSS\n",
    "non_overlapping_indices <- setdiff(seq_len(nrow(m6a)), queryHits(overlaps))\n",
    "m6a_no_gene <- m6a[non_overlapping_indices, ]"
   ]
  },
  {
   "cell_type": "markdown",
   "id": "86bed5f9-618a-4cb6-b7b4-b8f6166d89c9",
   "metadata": {
    "kernel": "R"
   },
   "source": [
    "for the regions not covered with any gene body we pick the one with nearest TSS to center of m6A region"
   ]
  },
  {
   "cell_type": "code",
   "execution_count": 15,
   "id": "54f663e4-209a-47f0-95a8-7a70f2053d30",
   "metadata": {
    "kernel": "R"
   },
   "outputs": [
    {
     "name": "stderr",
     "output_type": "stream",
     "text": [
      "Warning message in .merge_two_Seqinfo_objects(x, y):\n",
      "“Each of the 2 combined objects has sequence levels not in the other:\n",
      "  - in 'x': chrM\n",
      "  - in 'y': chrMT\n",
      "  Make sure to always combine/compare objects based on the same reference\n",
      "  genome (use suppressWarnings() to suppress this warning).”\n"
     ]
    }
   ],
   "source": [
    "# Convert non-overlapping data to GRanges object using the center column\n",
    "m6a_center_gr <- GRanges(\n",
    "  seqnames = m6a_no_gene$V1,\n",
    "  ranges = IRanges(start = m6a_no_gene$center, end = m6a_no_gene$center),  # Use the center column\n",
    "  strand = m6a_no_gene$strand\n",
    ")\n",
    "\n",
    "# Create a GRanges object for gene data using the TSS as the start and end coordinates\n",
    "gene_tss_gr <- GRanges(\n",
    "  seqnames = pro_gene_region$V1,\n",
    "  ranges = IRanges(start = pro_gene_region$TSS, end = pro_gene_region$TSS),  # TSS is used for both start and end\n",
    "  strand = pro_gene_region$V7,\n",
    "  gene_id = pro_gene_region$gene,\n",
    "  gene_name = pro_gene_region$gene_name\n",
    ")\n",
    "\n",
    "# Find the nearest TSS for m6A peaks using the center\n",
    "nearest_tss_indices <- nearest(m6a_center_gr, gene_tss_gr)"
   ]
  },
  {
   "cell_type": "markdown",
   "id": "0aa08d4c-3dd4-4a73-93d7-55c7b0575afb",
   "metadata": {
    "kernel": "R"
   },
   "source": [
    "combine above together"
   ]
  },
  {
   "cell_type": "code",
   "execution_count": 16,
   "id": "4419157f-65d1-45d9-a2cc-0b50c503dbd2",
   "metadata": {
    "kernel": "R",
    "scrolled": true
   },
   "outputs": [
    {
     "data": {
      "text/html": [
       "<style>\n",
       ".list-inline {list-style: none; margin:0; padding: 0}\n",
       ".list-inline>li {display: inline-block}\n",
       ".list-inline>li:not(:last-child)::after {content: \"\\00b7\"; padding: 0 .5ex}\n",
       "</style>\n",
       "<ol class=list-inline><li>13844</li><li>13</li></ol>\n"
      ],
      "text/latex": [
       "\\begin{enumerate*}\n",
       "\\item 13844\n",
       "\\item 13\n",
       "\\end{enumerate*}\n"
      ],
      "text/markdown": [
       "1. 13844\n",
       "2. 13\n",
       "\n",
       "\n"
      ],
      "text/plain": [
       "[1] 13844    13"
      ]
     },
     "metadata": {},
     "output_type": "display_data"
    },
    {
     "data": {
      "text/html": [
       "<table class=\"dataframe\">\n",
       "<caption>A data.table: 6 × 13</caption>\n",
       "<thead>\n",
       "\t<tr><th scope=col>V1</th><th scope=col>V2</th><th scope=col>V3</th><th scope=col>V4</th><th scope=col>V5</th><th scope=col>hg38_ID</th><th scope=col>context</th><th scope=col>distance</th><th scope=col>center</th><th scope=col>start</th><th scope=col>end</th><th scope=col>gene_id</th><th scope=col>gene_name</th></tr>\n",
       "\t<tr><th scope=col>&lt;chr&gt;</th><th scope=col>&lt;int&gt;</th><th scope=col>&lt;int&gt;</th><th scope=col>&lt;int&gt;</th><th scope=col>&lt;chr&gt;</th><th scope=col>&lt;chr&gt;</th><th scope=col>&lt;chr&gt;</th><th scope=col>&lt;int&gt;</th><th scope=col>&lt;int&gt;</th><th scope=col>&lt;dbl&gt;</th><th scope=col>&lt;dbl&gt;</th><th scope=col>&lt;chr&gt;</th><th scope=col>&lt;chr&gt;</th></tr>\n",
       "</thead>\n",
       "<tbody>\n",
       "\t<tr><td>chr1</td><td>923957</td><td>924278</td><td>322</td><td>+</td><td>chr1:923957:924278</td><td>brain_cortex</td><td>322</td><td>924117</td><td>923957</td><td>924278</td><td>ENSG00000187634</td><td>SAMD11</td></tr>\n",
       "\t<tr><td>chr1</td><td>924676</td><td>924807</td><td>132</td><td>+</td><td>chr1:924676:924807</td><td>brain_cortex</td><td>132</td><td>924741</td><td>924676</td><td>924807</td><td>ENSG00000187634</td><td>SAMD11</td></tr>\n",
       "\t<tr><td>chr1</td><td>924836</td><td>925188</td><td>353</td><td>+</td><td>chr1:924836:925188</td><td>brain_cortex</td><td>353</td><td>925012</td><td>924836</td><td>925188</td><td>ENSG00000187634</td><td>SAMD11</td></tr>\n",
       "\t<tr><td>chr1</td><td>942778</td><td>942938</td><td>161</td><td>+</td><td>chr1:942778:942938</td><td>brain_cortex</td><td>161</td><td>942858</td><td>942778</td><td>942938</td><td>ENSG00000187634</td><td>SAMD11</td></tr>\n",
       "\t<tr><td>chr1</td><td>960706</td><td>961368</td><td>663</td><td>+</td><td>chr1:960706:961368</td><td>brain_cortex</td><td>663</td><td>961037</td><td>960706</td><td>961368</td><td>ENSG00000187961</td><td>KLHL17</td></tr>\n",
       "\t<tr><td>chr1</td><td>999902</td><td>999983</td><td> 82</td><td>-</td><td>chr1:999902:999983</td><td>brain_cortex</td><td> 82</td><td>999942</td><td>999902</td><td>999983</td><td>ENSG00000188290</td><td>HES4  </td></tr>\n",
       "</tbody>\n",
       "</table>\n"
      ],
      "text/latex": [
       "A data.table: 6 × 13\n",
       "\\begin{tabular}{lllllllllllll}\n",
       " V1 & V2 & V3 & V4 & V5 & hg38\\_ID & context & distance & center & start & end & gene\\_id & gene\\_name\\\\\n",
       " <chr> & <int> & <int> & <int> & <chr> & <chr> & <chr> & <int> & <int> & <dbl> & <dbl> & <chr> & <chr>\\\\\n",
       "\\hline\n",
       "\t chr1 & 923957 & 924278 & 322 & + & chr1:923957:924278 & brain\\_cortex & 322 & 924117 & 923957 & 924278 & ENSG00000187634 & SAMD11\\\\\n",
       "\t chr1 & 924676 & 924807 & 132 & + & chr1:924676:924807 & brain\\_cortex & 132 & 924741 & 924676 & 924807 & ENSG00000187634 & SAMD11\\\\\n",
       "\t chr1 & 924836 & 925188 & 353 & + & chr1:924836:925188 & brain\\_cortex & 353 & 925012 & 924836 & 925188 & ENSG00000187634 & SAMD11\\\\\n",
       "\t chr1 & 942778 & 942938 & 161 & + & chr1:942778:942938 & brain\\_cortex & 161 & 942858 & 942778 & 942938 & ENSG00000187634 & SAMD11\\\\\n",
       "\t chr1 & 960706 & 961368 & 663 & + & chr1:960706:961368 & brain\\_cortex & 663 & 961037 & 960706 & 961368 & ENSG00000187961 & KLHL17\\\\\n",
       "\t chr1 & 999902 & 999983 &  82 & - & chr1:999902:999983 & brain\\_cortex &  82 & 999942 & 999902 & 999983 & ENSG00000188290 & HES4  \\\\\n",
       "\\end{tabular}\n"
      ],
      "text/markdown": [
       "\n",
       "A data.table: 6 × 13\n",
       "\n",
       "| V1 &lt;chr&gt; | V2 &lt;int&gt; | V3 &lt;int&gt; | V4 &lt;int&gt; | V5 &lt;chr&gt; | hg38_ID &lt;chr&gt; | context &lt;chr&gt; | distance &lt;int&gt; | center &lt;int&gt; | start &lt;dbl&gt; | end &lt;dbl&gt; | gene_id &lt;chr&gt; | gene_name &lt;chr&gt; |\n",
       "|---|---|---|---|---|---|---|---|---|---|---|---|---|\n",
       "| chr1 | 923957 | 924278 | 322 | + | chr1:923957:924278 | brain_cortex | 322 | 924117 | 923957 | 924278 | ENSG00000187634 | SAMD11 |\n",
       "| chr1 | 924676 | 924807 | 132 | + | chr1:924676:924807 | brain_cortex | 132 | 924741 | 924676 | 924807 | ENSG00000187634 | SAMD11 |\n",
       "| chr1 | 924836 | 925188 | 353 | + | chr1:924836:925188 | brain_cortex | 353 | 925012 | 924836 | 925188 | ENSG00000187634 | SAMD11 |\n",
       "| chr1 | 942778 | 942938 | 161 | + | chr1:942778:942938 | brain_cortex | 161 | 942858 | 942778 | 942938 | ENSG00000187634 | SAMD11 |\n",
       "| chr1 | 960706 | 961368 | 663 | + | chr1:960706:961368 | brain_cortex | 663 | 961037 | 960706 | 961368 | ENSG00000187961 | KLHL17 |\n",
       "| chr1 | 999902 | 999983 |  82 | - | chr1:999902:999983 | brain_cortex |  82 | 999942 | 999902 | 999983 | ENSG00000188290 | HES4   |\n",
       "\n"
      ],
      "text/plain": [
       "  V1   V2     V3     V4  V5 hg38_ID            context      distance center\n",
       "1 chr1 923957 924278 322 +  chr1:923957:924278 brain_cortex 322      924117\n",
       "2 chr1 924676 924807 132 +  chr1:924676:924807 brain_cortex 132      924741\n",
       "3 chr1 924836 925188 353 +  chr1:924836:925188 brain_cortex 353      925012\n",
       "4 chr1 942778 942938 161 +  chr1:942778:942938 brain_cortex 161      942858\n",
       "5 chr1 960706 961368 663 +  chr1:960706:961368 brain_cortex 663      961037\n",
       "6 chr1 999902 999983  82 -  chr1:999902:999983 brain_cortex  82      999942\n",
       "  start  end    gene_id         gene_name\n",
       "1 923957 924278 ENSG00000187634 SAMD11   \n",
       "2 924676 924807 ENSG00000187634 SAMD11   \n",
       "3 924836 925188 ENSG00000187634 SAMD11   \n",
       "4 942778 942938 ENSG00000187634 SAMD11   \n",
       "5 960706 961368 ENSG00000187961 KLHL17   \n",
       "6 999902 999983 ENSG00000188290 HES4     "
      ]
     },
     "metadata": {},
     "output_type": "display_data"
    }
   ],
   "source": [
    "# Add nearest gene info to non-overlapping peaks\n",
    "m6a_no_gene$gene_id <- gene_tss_gr$gene_id[nearest_tss_indices]\n",
    "m6a_no_gene$gene_name <- gene_tss_gr$gene_name[nearest_tss_indices]\n",
    "\n",
    "# Combine overlapping and non-overlapping data\n",
    "m6a_gene_anno <- bind_rows(m6a_with_gene, m6a_no_gene)\n",
    "\n",
    "# Check dimensions and preview data\n",
    "m6a_no_gene %>% dim()\n",
    "m6a_gene_anno %>% head()"
   ]
  },
  {
   "cell_type": "code",
   "execution_count": 17,
   "id": "54ec779c-3a9b-4cf0-92ca-16d2da9a3516",
   "metadata": {
    "kernel": "R"
   },
   "outputs": [
    {
     "data": {
      "text/html": [
       "0.932474212700758"
      ],
      "text/latex": [
       "0.932474212700758"
      ],
      "text/markdown": [
       "0.932474212700758"
      ],
      "text/plain": [
       "[1] 0.9324742"
      ]
     },
     "metadata": {},
     "output_type": "display_data"
    }
   ],
   "source": [
    "1 - (m6a_no_gene %>% distinct(hg38_ID, context) %>% nrow) / (m6a_gene_anno %>% distinct(hg38_ID, context) %>% nrow)"
   ]
  },
  {
   "cell_type": "markdown",
   "id": "19033e6d-30cd-4366-8e2f-4d752c24eb69",
   "metadata": {
    "kernel": "R"
   },
   "source": [
    " >93% peaks can be overlapped with gene body"
   ]
  },
  {
   "cell_type": "markdown",
   "id": "6ba08e80-9fd0-4b7c-9b63-449c1355e69c",
   "metadata": {
    "kernel": "R"
   },
   "source": [
    "## Load AD GWAS finemapping data\n",
    "We focused on `AD_Bellenguez_2022` data and the variants in `cs_coverage_0.95_min_corr`"
   ]
  },
  {
   "cell_type": "code",
   "execution_count": 18,
   "id": "ba73565a-0ba8-4965-a44f-b47174cc26d9",
   "metadata": {
    "kernel": "R",
    "scrolled": true
   },
   "outputs": [
    {
     "data": {
      "text/html": [
       "<style>\n",
       ".list-inline {list-style: none; margin:0; padding: 0}\n",
       ".list-inline>li {display: inline-block}\n",
       ".list-inline>li:not(:last-child)::after {content: \"\\00b7\"; padding: 0 .5ex}\n",
       "</style>\n",
       "<ol class=list-inline><li>66479</li><li>15</li></ol>\n"
      ],
      "text/latex": [
       "\\begin{enumerate*}\n",
       "\\item 66479\n",
       "\\item 15\n",
       "\\end{enumerate*}\n"
      ],
      "text/markdown": [
       "1. 66479\n",
       "2. 15\n",
       "\n",
       "\n"
      ],
      "text/plain": [
       "[1] 66479    15"
      ]
     },
     "metadata": {},
     "output_type": "display_data"
    },
    {
     "data": {
      "text/html": [
       "<table class=\"dataframe\">\n",
       "<caption>A data.table: 2 × 17</caption>\n",
       "<thead>\n",
       "\t<tr><th scope=col>variant_id</th><th scope=col>z</th><th scope=col>pip</th><th scope=col>cs_coverage_0.95</th><th scope=col>cs_coverage_0.7</th><th scope=col>cs_coverage_0.5</th><th scope=col>cs_coverage_0.95_min_corr</th><th scope=col>cs_coverage_0.7_min_corr</th><th scope=col>cs_coverage_0.5_min_corr</th><th scope=col>cs_coverage_0.95_attainable</th><th scope=col>cs_coverage_0.7_attainable</th><th scope=col>cs_coverage_0.5_attainable</th><th scope=col>study</th><th scope=col>method</th><th scope=col>block</th><th scope=col>chr</th><th scope=col>pos</th></tr>\n",
       "\t<tr><th scope=col>&lt;chr&gt;</th><th scope=col>&lt;dbl&gt;</th><th scope=col>&lt;dbl&gt;</th><th scope=col>&lt;int&gt;</th><th scope=col>&lt;int&gt;</th><th scope=col>&lt;int&gt;</th><th scope=col>&lt;int&gt;</th><th scope=col>&lt;int&gt;</th><th scope=col>&lt;int&gt;</th><th scope=col>&lt;int&gt;</th><th scope=col>&lt;int&gt;</th><th scope=col>&lt;int&gt;</th><th scope=col>&lt;chr&gt;</th><th scope=col>&lt;chr&gt;</th><th scope=col>&lt;chr&gt;</th><th scope=col>&lt;chr&gt;</th><th scope=col>&lt;dbl&gt;</th></tr>\n",
       "</thead>\n",
       "<tbody>\n",
       "\t<tr><td>10:11676714:A:G</td><td>6.975610</td><td>0.97921653</td><td>1</td><td>1</td><td>1</td><td>1</td><td>1</td><td>1</td><td>1</td><td>1</td><td>1</td><td>AD_Bellenguez_2022</td><td>RSS_QC_RAISS_imputed</td><td>chr10_10500888_12817813</td><td>chr10</td><td>11676714</td></tr>\n",
       "\t<tr><td>10:11672508:C:T</td><td>5.323441</td><td>0.03323309</td><td>1</td><td>0</td><td>0</td><td>1</td><td>0</td><td>0</td><td>1</td><td>0</td><td>0</td><td>AD_Jansen_2021    </td><td>RSS_QC_RAISS_imputed</td><td>chr10_10500888_12817813</td><td>chr10</td><td>11672508</td></tr>\n",
       "</tbody>\n",
       "</table>\n"
      ],
      "text/latex": [
       "A data.table: 2 × 17\n",
       "\\begin{tabular}{lllllllllllllllll}\n",
       " variant\\_id & z & pip & cs\\_coverage\\_0.95 & cs\\_coverage\\_0.7 & cs\\_coverage\\_0.5 & cs\\_coverage\\_0.95\\_min\\_corr & cs\\_coverage\\_0.7\\_min\\_corr & cs\\_coverage\\_0.5\\_min\\_corr & cs\\_coverage\\_0.95\\_attainable & cs\\_coverage\\_0.7\\_attainable & cs\\_coverage\\_0.5\\_attainable & study & method & block & chr & pos\\\\\n",
       " <chr> & <dbl> & <dbl> & <int> & <int> & <int> & <int> & <int> & <int> & <int> & <int> & <int> & <chr> & <chr> & <chr> & <chr> & <dbl>\\\\\n",
       "\\hline\n",
       "\t 10:11676714:A:G & 6.975610 & 0.97921653 & 1 & 1 & 1 & 1 & 1 & 1 & 1 & 1 & 1 & AD\\_Bellenguez\\_2022 & RSS\\_QC\\_RAISS\\_imputed & chr10\\_10500888\\_12817813 & chr10 & 11676714\\\\\n",
       "\t 10:11672508:C:T & 5.323441 & 0.03323309 & 1 & 0 & 0 & 1 & 0 & 0 & 1 & 0 & 0 & AD\\_Jansen\\_2021     & RSS\\_QC\\_RAISS\\_imputed & chr10\\_10500888\\_12817813 & chr10 & 11672508\\\\\n",
       "\\end{tabular}\n"
      ],
      "text/markdown": [
       "\n",
       "A data.table: 2 × 17\n",
       "\n",
       "| variant_id &lt;chr&gt; | z &lt;dbl&gt; | pip &lt;dbl&gt; | cs_coverage_0.95 &lt;int&gt; | cs_coverage_0.7 &lt;int&gt; | cs_coverage_0.5 &lt;int&gt; | cs_coverage_0.95_min_corr &lt;int&gt; | cs_coverage_0.7_min_corr &lt;int&gt; | cs_coverage_0.5_min_corr &lt;int&gt; | cs_coverage_0.95_attainable &lt;int&gt; | cs_coverage_0.7_attainable &lt;int&gt; | cs_coverage_0.5_attainable &lt;int&gt; | study &lt;chr&gt; | method &lt;chr&gt; | block &lt;chr&gt; | chr &lt;chr&gt; | pos &lt;dbl&gt; |\n",
       "|---|---|---|---|---|---|---|---|---|---|---|---|---|---|---|---|---|\n",
       "| 10:11676714:A:G | 6.975610 | 0.97921653 | 1 | 1 | 1 | 1 | 1 | 1 | 1 | 1 | 1 | AD_Bellenguez_2022 | RSS_QC_RAISS_imputed | chr10_10500888_12817813 | chr10 | 11676714 |\n",
       "| 10:11672508:C:T | 5.323441 | 0.03323309 | 1 | 0 | 0 | 1 | 0 | 0 | 1 | 0 | 0 | AD_Jansen_2021     | RSS_QC_RAISS_imputed | chr10_10500888_12817813 | chr10 | 11672508 |\n",
       "\n"
      ],
      "text/plain": [
       "  variant_id      z        pip        cs_coverage_0.95 cs_coverage_0.7\n",
       "1 10:11676714:A:G 6.975610 0.97921653 1                1              \n",
       "2 10:11672508:C:T 5.323441 0.03323309 1                0              \n",
       "  cs_coverage_0.5 cs_coverage_0.95_min_corr cs_coverage_0.7_min_corr\n",
       "1 1               1                         1                       \n",
       "2 0               1                         0                       \n",
       "  cs_coverage_0.5_min_corr cs_coverage_0.95_attainable\n",
       "1 1                        1                          \n",
       "2 0                        1                          \n",
       "  cs_coverage_0.7_attainable cs_coverage_0.5_attainable study             \n",
       "1 1                          1                          AD_Bellenguez_2022\n",
       "2 0                          0                          AD_Jansen_2021    \n",
       "  method               block                   chr   pos     \n",
       "1 RSS_QC_RAISS_imputed chr10_10500888_12817813 chr10 11676714\n",
       "2 RSS_QC_RAISS_imputed chr10_10500888_12817813 chr10 11672508"
      ]
     },
     "metadata": {},
     "output_type": "display_data"
    },
    {
     "data": {
      "text/html": [
       "<style>\n",
       ".list-inline {list-style: none; margin:0; padding: 0}\n",
       ".list-inline>li {display: inline-block}\n",
       ".list-inline>li:not(:last-child)::after {content: \"\\00b7\"; padding: 0 .5ex}\n",
       "</style>\n",
       "<ol class=list-inline><li>5749</li><li>17</li></ol>\n"
      ],
      "text/latex": [
       "\\begin{enumerate*}\n",
       "\\item 5749\n",
       "\\item 17\n",
       "\\end{enumerate*}\n"
      ],
      "text/markdown": [
       "1. 5749\n",
       "2. 17\n",
       "\n",
       "\n"
      ],
      "text/plain": [
       "[1] 5749   17"
      ]
     },
     "metadata": {},
     "output_type": "display_data"
    }
   ],
   "source": [
    "gwas <- fread('/mnt/vast/hpc/csg/rf2872/Work/Multivariate/GWAS_finemapping_Apr9/GWAS_finemapping_Apr9.union_export.tsv.gz')\n",
    "\n",
    "gwas %>% dim\n",
    "gwas <- gwas %>% \n",
    "        # filter(study == 'AD_Bellenguez_2022') %>% \n",
    "        mutate(chr = str_split(variant_id, \":\", simplify = T) %>% .[,1] %>% paste0(\"chr\",.),\n",
    "                pos = str_split(variant_id, \":\", simplify = T) %>% .[,2] %>% as.numeric) %>% filter(cs_coverage_0.95_min_corr > 0)\n",
    "gwas %>% head(n = 2)\n",
    "gwas %>% dim"
   ]
  },
  {
   "cell_type": "markdown",
   "id": "833e0bcf-064e-4830-82cb-693804c1098b",
   "metadata": {
    "kernel": "R"
   },
   "source": [
    "## Map m6A peaks to AD finemapped variants"
   ]
  },
  {
   "cell_type": "code",
   "execution_count": 26,
   "id": "12627ddb-529f-4d34-909f-7962459df33f",
   "metadata": {
    "kernel": "R"
   },
   "outputs": [],
   "source": [
    "m6a_gene_anno_bed <- m6a_gene_anno[, c(\"V1\", \"start\", \"end\", \"hg38_ID\", \"context\", \"gene_id\", \"gene_name\")]\n",
    "gwas_bed <- gwas[, .(chr, start_variant = as.integer(pos), end_variant = as.integer(pos), variant_id,z,pip,cs_coverage_0.95_min_corr,block, study)]\n",
    "\n",
    "m6a_gene_bed_ad <- bt.intersect(a = m6a_gene_anno_bed, b = gwas_bed, wa = T, wb = T) "
   ]
  },
  {
   "cell_type": "code",
   "execution_count": 27,
   "id": "5f9e91b6-2b2e-4ad9-88a6-04104350d85c",
   "metadata": {
    "kernel": "R"
   },
   "outputs": [
    {
     "data": {
      "text/html": [
       "<style>\n",
       ".list-inline {list-style: none; margin:0; padding: 0}\n",
       ".list-inline>li {display: inline-block}\n",
       ".list-inline>li:not(:last-child)::after {content: \"\\00b7\"; padding: 0 .5ex}\n",
       "</style>\n",
       "<ol class=list-inline><li>411</li><li>16</li></ol>\n"
      ],
      "text/latex": [
       "\\begin{enumerate*}\n",
       "\\item 411\n",
       "\\item 16\n",
       "\\end{enumerate*}\n"
      ],
      "text/markdown": [
       "1. 411\n",
       "2. 16\n",
       "\n",
       "\n"
      ],
      "text/plain": [
       "[1] 411  16"
      ]
     },
     "metadata": {},
     "output_type": "display_data"
    },
    {
     "data": {
      "text/html": [
       "<table class=\"dataframe\">\n",
       "<caption>A data.frame: 6 × 16</caption>\n",
       "<thead>\n",
       "\t<tr><th></th><th scope=col>chrom</th><th scope=col>start</th><th scope=col>end</th><th scope=col>hg38_ID</th><th scope=col>context</th><th scope=col>gene_id</th><th scope=col>gene_name</th><th scope=col>chr</th><th scope=col>start_variant</th><th scope=col>end_variant</th><th scope=col>variant_id</th><th scope=col>z</th><th scope=col>pip</th><th scope=col>cs_coverage_0.95_min_corr</th><th scope=col>block</th><th scope=col>study</th></tr>\n",
       "\t<tr><th></th><th scope=col>&lt;chr&gt;</th><th scope=col>&lt;int&gt;</th><th scope=col>&lt;int&gt;</th><th scope=col>&lt;chr&gt;</th><th scope=col>&lt;chr&gt;</th><th scope=col>&lt;chr&gt;</th><th scope=col>&lt;chr&gt;</th><th scope=col>&lt;chr&gt;</th><th scope=col>&lt;int&gt;</th><th scope=col>&lt;int&gt;</th><th scope=col>&lt;chr&gt;</th><th scope=col>&lt;dbl&gt;</th><th scope=col>&lt;dbl&gt;</th><th scope=col>&lt;int&gt;</th><th scope=col>&lt;chr&gt;</th><th scope=col>&lt;chr&gt;</th></tr>\n",
       "</thead>\n",
       "<tbody>\n",
       "\t<tr><th scope=row>1</th><td>chr4 </td><td>   989659</td><td>   990070</td><td>chr4:989659:990070       </td><td>brain_cortex</td><td>ENSG00000145217</td><td>SLC26A1</td><td>chr4 </td><td>   990021</td><td>   990021</td><td>4:990021:C:T    </td><td>4.592800</td><td>0.023361370</td><td>1</td><td>chr4_10208_1524981       </td><td>AD_Bellenguez_EADB_2022          </td></tr>\n",
       "\t<tr><th scope=row>2</th><td>chr4 </td><td>   989659</td><td>   990070</td><td>chr4:989659:990070       </td><td>brain_cortex</td><td>ENSG00000127415</td><td>IDUA   </td><td>chr4 </td><td>   990021</td><td>   990021</td><td>4:990021:C:T    </td><td>4.592800</td><td>0.023361370</td><td>1</td><td>chr4_10208_1524981       </td><td>AD_Bellenguez_EADB_2022          </td></tr>\n",
       "\t<tr><th scope=row>3</th><td>chr7 </td><td>100494149</td><td>100494240</td><td>chr7:100494149:100494240 </td><td>brain_cortex</td><td>ENSG00000166924</td><td>NYAP1  </td><td>chr7 </td><td>100494172</td><td>100494172</td><td>7:100494172:T:C </td><td>7.014278</td><td>0.037611436</td><td>1</td><td>chr7_98297733_101733715  </td><td>AD_Wightman_Excluding23andMe_2021</td></tr>\n",
       "\t<tr><th scope=row>4</th><td>chr12</td><td>113159016</td><td>113159156</td><td>chr12:113159016:113159156</td><td>brain_cortex</td><td>ENSG00000186710</td><td>CFAP73 </td><td>chr12</td><td>113159061</td><td>113159061</td><td>12:113159061:G:A</td><td>4.575949</td><td>0.006127578</td><td>1</td><td>chr12_112825713_115165608</td><td>AD_Bellenguez_2022               </td></tr>\n",
       "\t<tr><th scope=row>5</th><td>chr12</td><td>113159016</td><td>113159156</td><td>chr12:113159016:113159156</td><td>brain_cortex</td><td>ENSG00000123064</td><td>DDX54  </td><td>chr12</td><td>113159061</td><td>113159061</td><td>12:113159061:G:A</td><td>4.575949</td><td>0.006127578</td><td>1</td><td>chr12_112825713_115165608</td><td>AD_Bellenguez_2022               </td></tr>\n",
       "\t<tr><th scope=row>6</th><td>chr12</td><td>113159016</td><td>113159156</td><td>chr12:113159016:113159156</td><td>brain_cortex</td><td>ENSG00000186710</td><td>CFAP73 </td><td>chr12</td><td>113159061</td><td>113159061</td><td>12:113159061:G:A</td><td>4.575949</td><td>0.006127578</td><td>1</td><td>chr12_112825713_115165608</td><td>AD_Bellenguez_2022               </td></tr>\n",
       "</tbody>\n",
       "</table>\n"
      ],
      "text/latex": [
       "A data.frame: 6 × 16\n",
       "\\begin{tabular}{r|llllllllllllllll}\n",
       "  & chrom & start & end & hg38\\_ID & context & gene\\_id & gene\\_name & chr & start\\_variant & end\\_variant & variant\\_id & z & pip & cs\\_coverage\\_0.95\\_min\\_corr & block & study\\\\\n",
       "  & <chr> & <int> & <int> & <chr> & <chr> & <chr> & <chr> & <chr> & <int> & <int> & <chr> & <dbl> & <dbl> & <int> & <chr> & <chr>\\\\\n",
       "\\hline\n",
       "\t1 & chr4  &    989659 &    990070 & chr4:989659:990070        & brain\\_cortex & ENSG00000145217 & SLC26A1 & chr4  &    990021 &    990021 & 4:990021:C:T     & 4.592800 & 0.023361370 & 1 & chr4\\_10208\\_1524981        & AD\\_Bellenguez\\_EADB\\_2022          \\\\\n",
       "\t2 & chr4  &    989659 &    990070 & chr4:989659:990070        & brain\\_cortex & ENSG00000127415 & IDUA    & chr4  &    990021 &    990021 & 4:990021:C:T     & 4.592800 & 0.023361370 & 1 & chr4\\_10208\\_1524981        & AD\\_Bellenguez\\_EADB\\_2022          \\\\\n",
       "\t3 & chr7  & 100494149 & 100494240 & chr7:100494149:100494240  & brain\\_cortex & ENSG00000166924 & NYAP1   & chr7  & 100494172 & 100494172 & 7:100494172:T:C  & 7.014278 & 0.037611436 & 1 & chr7\\_98297733\\_101733715   & AD\\_Wightman\\_Excluding23andMe\\_2021\\\\\n",
       "\t4 & chr12 & 113159016 & 113159156 & chr12:113159016:113159156 & brain\\_cortex & ENSG00000186710 & CFAP73  & chr12 & 113159061 & 113159061 & 12:113159061:G:A & 4.575949 & 0.006127578 & 1 & chr12\\_112825713\\_115165608 & AD\\_Bellenguez\\_2022               \\\\\n",
       "\t5 & chr12 & 113159016 & 113159156 & chr12:113159016:113159156 & brain\\_cortex & ENSG00000123064 & DDX54   & chr12 & 113159061 & 113159061 & 12:113159061:G:A & 4.575949 & 0.006127578 & 1 & chr12\\_112825713\\_115165608 & AD\\_Bellenguez\\_2022               \\\\\n",
       "\t6 & chr12 & 113159016 & 113159156 & chr12:113159016:113159156 & brain\\_cortex & ENSG00000186710 & CFAP73  & chr12 & 113159061 & 113159061 & 12:113159061:G:A & 4.575949 & 0.006127578 & 1 & chr12\\_112825713\\_115165608 & AD\\_Bellenguez\\_2022               \\\\\n",
       "\\end{tabular}\n"
      ],
      "text/markdown": [
       "\n",
       "A data.frame: 6 × 16\n",
       "\n",
       "| <!--/--> | chrom &lt;chr&gt; | start &lt;int&gt; | end &lt;int&gt; | hg38_ID &lt;chr&gt; | context &lt;chr&gt; | gene_id &lt;chr&gt; | gene_name &lt;chr&gt; | chr &lt;chr&gt; | start_variant &lt;int&gt; | end_variant &lt;int&gt; | variant_id &lt;chr&gt; | z &lt;dbl&gt; | pip &lt;dbl&gt; | cs_coverage_0.95_min_corr &lt;int&gt; | block &lt;chr&gt; | study &lt;chr&gt; |\n",
       "|---|---|---|---|---|---|---|---|---|---|---|---|---|---|---|---|---|\n",
       "| 1 | chr4  |    989659 |    990070 | chr4:989659:990070        | brain_cortex | ENSG00000145217 | SLC26A1 | chr4  |    990021 |    990021 | 4:990021:C:T     | 4.592800 | 0.023361370 | 1 | chr4_10208_1524981        | AD_Bellenguez_EADB_2022           |\n",
       "| 2 | chr4  |    989659 |    990070 | chr4:989659:990070        | brain_cortex | ENSG00000127415 | IDUA    | chr4  |    990021 |    990021 | 4:990021:C:T     | 4.592800 | 0.023361370 | 1 | chr4_10208_1524981        | AD_Bellenguez_EADB_2022           |\n",
       "| 3 | chr7  | 100494149 | 100494240 | chr7:100494149:100494240  | brain_cortex | ENSG00000166924 | NYAP1   | chr7  | 100494172 | 100494172 | 7:100494172:T:C  | 7.014278 | 0.037611436 | 1 | chr7_98297733_101733715   | AD_Wightman_Excluding23andMe_2021 |\n",
       "| 4 | chr12 | 113159016 | 113159156 | chr12:113159016:113159156 | brain_cortex | ENSG00000186710 | CFAP73  | chr12 | 113159061 | 113159061 | 12:113159061:G:A | 4.575949 | 0.006127578 | 1 | chr12_112825713_115165608 | AD_Bellenguez_2022                |\n",
       "| 5 | chr12 | 113159016 | 113159156 | chr12:113159016:113159156 | brain_cortex | ENSG00000123064 | DDX54   | chr12 | 113159061 | 113159061 | 12:113159061:G:A | 4.575949 | 0.006127578 | 1 | chr12_112825713_115165608 | AD_Bellenguez_2022                |\n",
       "| 6 | chr12 | 113159016 | 113159156 | chr12:113159016:113159156 | brain_cortex | ENSG00000186710 | CFAP73  | chr12 | 113159061 | 113159061 | 12:113159061:G:A | 4.575949 | 0.006127578 | 1 | chr12_112825713_115165608 | AD_Bellenguez_2022                |\n",
       "\n"
      ],
      "text/plain": [
       "  chrom start     end       hg38_ID                   context     \n",
       "1 chr4     989659    990070 chr4:989659:990070        brain_cortex\n",
       "2 chr4     989659    990070 chr4:989659:990070        brain_cortex\n",
       "3 chr7  100494149 100494240 chr7:100494149:100494240  brain_cortex\n",
       "4 chr12 113159016 113159156 chr12:113159016:113159156 brain_cortex\n",
       "5 chr12 113159016 113159156 chr12:113159016:113159156 brain_cortex\n",
       "6 chr12 113159016 113159156 chr12:113159016:113159156 brain_cortex\n",
       "  gene_id         gene_name chr   start_variant end_variant variant_id      \n",
       "1 ENSG00000145217 SLC26A1   chr4     990021        990021   4:990021:C:T    \n",
       "2 ENSG00000127415 IDUA      chr4     990021        990021   4:990021:C:T    \n",
       "3 ENSG00000166924 NYAP1     chr7  100494172     100494172   7:100494172:T:C \n",
       "4 ENSG00000186710 CFAP73    chr12 113159061     113159061   12:113159061:G:A\n",
       "5 ENSG00000123064 DDX54     chr12 113159061     113159061   12:113159061:G:A\n",
       "6 ENSG00000186710 CFAP73    chr12 113159061     113159061   12:113159061:G:A\n",
       "  z        pip         cs_coverage_0.95_min_corr block                    \n",
       "1 4.592800 0.023361370 1                         chr4_10208_1524981       \n",
       "2 4.592800 0.023361370 1                         chr4_10208_1524981       \n",
       "3 7.014278 0.037611436 1                         chr7_98297733_101733715  \n",
       "4 4.575949 0.006127578 1                         chr12_112825713_115165608\n",
       "5 4.575949 0.006127578 1                         chr12_112825713_115165608\n",
       "6 4.575949 0.006127578 1                         chr12_112825713_115165608\n",
       "  study                            \n",
       "1 AD_Bellenguez_EADB_2022          \n",
       "2 AD_Bellenguez_EADB_2022          \n",
       "3 AD_Wightman_Excluding23andMe_2021\n",
       "4 AD_Bellenguez_2022               \n",
       "5 AD_Bellenguez_2022               \n",
       "6 AD_Bellenguez_2022               "
      ]
     },
     "metadata": {},
     "output_type": "display_data"
    }
   ],
   "source": [
    "colnames(m6a_gene_bed_ad) <- c(\"chrom\", \"start\", \"end\", \"hg38_ID\", \"context\", \"gene_id\", \"gene_name\", colnames(gwas_bed))\n",
    "m6a_gene_bed_ad %>% dim\n",
    "m6a_gene_bed_ad %>% head"
   ]
  },
  {
   "cell_type": "markdown",
   "id": "e2ec1052-3ef6-4d0c-bacc-d2ef705e2038",
   "metadata": {
    "kernel": "R"
   },
   "source": [
    "The reginos numbers can have AD signals in each context are like below"
   ]
  },
  {
   "cell_type": "code",
   "execution_count": 28,
   "id": "090d64fb-ecf0-4014-9af4-1dc86d95c577",
   "metadata": {
    "kernel": "R",
    "scrolled": true
   },
   "outputs": [
    {
     "data": {
      "text/plain": [
       ".\n",
       "                     AD_Bellenguez_2022                 AD_Bellenguez_EADB_2022 \n",
       "                                     35                                       5 \n",
       "               AD_Bellenguez_GRACE_2022                   AD_Kunkle_Stage1_2019 \n",
       "                                     85                                      13 \n",
       "      AD_Wightman_Excluding23andMe_2021 AD_Wightman_ExcludingUKBand23andME_2021 \n",
       "                                     10                                       1 \n",
       "                  AD_Wightman_Full_2021 \n",
       "                                      2 "
      ]
     },
     "metadata": {},
     "output_type": "display_data"
    }
   ],
   "source": [
    "m6a_gene_bed_ad %>% distinct(variant_id,context,hg38_ID, .keep_all = T) %>% pull(study) %>% table"
   ]
  },
  {
   "cell_type": "code",
   "execution_count": 29,
   "id": "80883c6c-7b21-4324-8601-1725f5876885",
   "metadata": {
    "kernel": "R"
   },
   "outputs": [
    {
     "data": {
      "text/plain": [
       ".\n",
       "chr17_45383525_50162864 chr19_42346101_44935906 \n",
       "                    204                      10 "
      ]
     },
     "metadata": {},
     "output_type": "display_data"
    }
   ],
   "source": [
    "m6a_gene_bed_ad %>% filter(study == 'AD_Bellenguez_GRACE_2022') %>% pull(block) %>% table"
   ]
  },
  {
   "cell_type": "markdown",
   "id": "3e43da23-3303-4c56-8e7f-fe480369b5c1",
   "metadata": {
    "kernel": "R"
   },
   "source": [
    "a lot of peaks overlapped with AD_Bellenguez_GRACE_2022 due to a big and complex block in chr17"
   ]
  },
  {
   "cell_type": "code",
   "execution_count": 30,
   "id": "7046afbe-5a8a-4b0e-86b4-cf4a580386f3",
   "metadata": {
    "kernel": "R"
   },
   "outputs": [],
   "source": [
    "fwrite(m6a_gene_bed_ad, \"Oct17_m6a_adult_all_ADGWAS_cs95_mincorr_1kb.overlap.tsv\", sep = '\\t')"
   ]
  },
  {
   "cell_type": "code",
   "execution_count": 31,
   "id": "36d61c23-f799-4473-b86b-d44433fd7a3c",
   "metadata": {
    "kernel": "R"
   },
   "outputs": [],
   "source": [
    "m6a_gene_bed_ad <- m6a_gene_bed_ad %>% filter(study == 'AD_Bellenguez_2022')"
   ]
  },
  {
   "cell_type": "code",
   "execution_count": 32,
   "id": "c2c72ee0-e73e-4f16-921c-39ad1b1fcc0b",
   "metadata": {
    "kernel": "R"
   },
   "outputs": [],
   "source": [
    "fwrite(m6a_gene_bed_ad, \"Oct17_m6a_adult_AD_Bellenguez_2022_cs95_mincorr_1kb.overlap.tsv\", sep = '\\t')"
   ]
  },
  {
   "cell_type": "markdown",
   "id": "db9dc43a-d9f4-4b1a-9696-a67c5440a2bf",
   "metadata": {
    "kernel": "R"
   },
   "source": [
    "## Results for the comparison of annotated m6A peaks"
   ]
  },
  {
   "cell_type": "markdown",
   "id": "b236cc90-b8d3-4c32-83ef-8fbb1005fd47",
   "metadata": {
    "kernel": "R"
   },
   "source": [
    "### Figure 1: The consistency among different context/tissue\n",
    "Define AD variants as variants in 95% CS from any AD GWAS data, we annotate these variants to see how many are m6A peaks. We see that brain m6A annotates more variants than other data-sets. Notice that this is variant level summary not CS level --- you can imagine limitations summarizing it this way, and how this can be improved to loci level summary if needed. I did not push it because I dont think we will use the UpsetR plot anyways, and I will get loci level information in the FET section i suggested."
   ]
  },
  {
   "cell_type": "code",
   "execution_count": 33,
   "id": "47ee20ac-e401-468e-9952-536d8b6e67f8",
   "metadata": {
    "kernel": "R"
   },
   "outputs": [
    {
     "data": {
      "text/html": [
       "<style>\n",
       ".dl-inline {width: auto; margin:0; padding: 0}\n",
       ".dl-inline>dt, .dl-inline>dd {float: none; width: auto; display: inline-block}\n",
       ".dl-inline>dt::after {content: \":\\0020\"; padding-right: .5ex}\n",
       ".dl-inline>dt:not(:first-of-type) {padding-left: .5ex}\n",
       "</style><dl class=dl-inline><dt>brain_cortex</dt><dd>7</dd><dt>hNPC</dt><dd>7</dd></dl>\n"
      ],
      "text/latex": [
       "\\begin{description*}\n",
       "\\item[brain\\textbackslash{}\\_cortex] 7\n",
       "\\item[hNPC] 7\n",
       "\\end{description*}\n"
      ],
      "text/markdown": [
       "brain_cortex\n",
       ":   7hNPC\n",
       ":   7\n",
       "\n"
      ],
      "text/plain": [
       "brain_cortex         hNPC \n",
       "           7            7 "
      ]
     },
     "metadata": {},
     "output_type": "display_data"
    },
    {
     "name": "stderr",
     "output_type": "stream",
     "text": [
      "\u001b[1m\u001b[22m`geom_line()`: Each group consists of only one observation.\n",
      "\u001b[36mℹ\u001b[39m Do you need to adjust the \u001b[32mgroup\u001b[39m aesthetic?\n"
     ]
    },
    {
     "data": {
      "image/png": "[encoded data removed]",
      "text/plain": [
       "plot without title"
      ]
     },
     "metadata": {
      "image/png": {
       "height": 480,
       "width": 840
      }
     },
     "output_type": "display_data"
    }
   ],
   "source": [
    "library(UpSetR)\n",
    "library(tidyr)\n",
    "library(dplyr)\n",
    "\n",
    "options(repr.plot.width=14, repr.plot.height=8)\n",
    "upset_data <- m6a_gene_bed_ad %>%\n",
    "  select(variant_id, context) %>%\n",
    "  distinct() %>%\n",
    "  mutate(present = 1) %>%\n",
    "  spread(key = context, value = present, fill = 0)\n",
    "upset_data[,-1]%>% colSums\n",
    "# Plot the UpSet plot to show how many variants are shared by contexts\n",
    "upset(upset_data, sets = colnames(upset_data)[-1], order.by = \"freq\", text.scale = 2)"
   ]
  },
  {
   "cell_type": "markdown",
   "id": "b82ae7e3-66dd-49a9-b78c-5f076b22c979",
   "metadata": {
    "kernel": "R"
   },
   "source": [
    "### Figure 2: Summarize the proportion of AD risk variants covered by peaks for each context and chromosome\n",
    "Given a CS contain m6A peaks, we want to see what's the proportion of variants in the CS are m6A peaks. It's like how \"pure\" or \"enriched\" a CS is in terms of m6A modification. The goal here is to rule out if we have a very large CS with just one or two variants being m6A sites. And also to see if the overlap is not cluttered on a certain chromosome with large CS --- these are not clear from upsetR plot. Since we condition on CS containing m6A peak this is a relative metric and explains why brain has move CS+m6A overlaps than kidney but within those that are overlap, they behave similar. As I said I think this figure is more of a diagnosis although it does complement Figure 1 to further suggest that brain is interesting."
   ]
  },
  {
   "cell_type": "code",
   "execution_count": 34,
   "id": "404b68f9-9590-4bb6-bde3-64f2b0b51bf5",
   "metadata": {
    "kernel": "R"
   },
   "outputs": [],
   "source": [
    "# Create a contingency table for intersected_data by context and chr\n",
    "m6a_gene_bed_ad_table <- table(m6a_gene_bed_ad$context, m6a_gene_bed_ad$chrom)\n",
    "\n",
    "# Create a table of gwas_bed counts by chromosome\n",
    "gwas_chr_table <- table(gwas_bed$chr)\n",
    "\n",
    "# Subset gwas_chr_table for chromosomes in intersected_table and repeat rows to match contexts\n",
    "gwas_chr_counts <- gwas_chr_table[match(colnames(m6a_gene_bed_ad_table), names(gwas_chr_table))]\n",
    "\n",
    "# Create a matrix where each row corresponds to a context and contains the chr counts from gwas_bed\n",
    "gwas_chr_matrix <- matrix(gwas_chr_counts, nrow = nrow(m6a_gene_bed_ad_table), ncol = length(gwas_chr_counts), byrow = TRUE)\n",
    "\n",
    "# Normalize the intersected_table by the corresponding gwas_bed counts\n",
    "normalized_table <- m6a_gene_bed_ad_table / gwas_chr_matrix\n"
   ]
  },
  {
   "cell_type": "code",
   "execution_count": 35,
   "id": "c5037447-8fb1-41cf-b384-ca999362cc68",
   "metadata": {
    "kernel": "R"
   },
   "outputs": [
    {
     "data": {
      "image/png": "[encoded data removed]",
      "text/plain": [
       "plot without title"
      ]
     },
     "metadata": {
      "image/png": {
       "height": 480,
       "width": 840
      }
     },
     "output_type": "display_data"
    }
   ],
   "source": [
    "# Convert normalized_table to a data frame\n",
    "normalized_df <- as.data.frame(as.table(normalized_table))\n",
    "\n",
    "# Rename columns for clarity\n",
    "colnames(normalized_df) <- c(\"Context\", \"Chromosome\", \"Proportion\")\n",
    "library(ggplot2)\n",
    "\n",
    "# Plot the normalized table as a heatmap\n",
    "ggplot(normalized_df, aes(x = Chromosome, y = Context, fill = Proportion)) +\n",
    "  geom_tile() +   # Use tiles for the heatmap\n",
    "  scale_fill_gradient(low = \"white\", high = \"blue\") +  # Customize colors\n",
    "  labs(title = \"Normalized Proportions of Context by Chromosome\",\n",
    "       x = \"Chromosome\", \n",
    "       y = \"Context\",\n",
    "       fill = \"Proportion\") +\n",
    "  theme_minimal() +\n",
    "  theme(  axis.text.x = element_text(angle = 45, hjust = 1, size = 14),  # Increase font size for x-axis labels\n",
    "    axis.text.y = element_text(size = 14),  # Increase font size for y-axis labels\n",
    "    axis.title.x = element_text(size = 16),  # Increase font size for x-axis title\n",
    "    axis.title.y = element_text(size = 16),  # Increase font size for y-axis title\n",
    "    plot.title = element_text(size = 18)  # Increase font size for plot title\n",
    "  ) "
   ]
  },
  {
   "cell_type": "markdown",
   "id": "3bf24789-a8e1-454a-8a16-0b80b03dcd38",
   "metadata": {
    "kernel": "R"
   },
   "source": [
    "## AD enrichment analysis "
   ]
  },
  {
   "cell_type": "markdown",
   "id": "8f124e3a-aa29-4277-8e82-7ad00a066906",
   "metadata": {
    "kernel": "R"
   },
   "source": [
    "fisher test with 1. m6A and AD loci, 2. m6a and not AD loci, 3. not m6a and AD loci, 4. not m6a and not AD loci"
   ]
  },
  {
   "cell_type": "markdown",
   "id": "86bd7d20-e8ef-47ff-9e2a-dc8d61776a48",
   "metadata": {
    "kernel": "R"
   },
   "source": [
    "m6a_gene_bed_ad is the peak regions has AD variants in them "
   ]
  },
  {
   "cell_type": "code",
   "execution_count": 36,
   "id": "09a03b50-cff5-48f3-b0d7-db775eed2629",
   "metadata": {
    "kernel": "R",
    "scrolled": true
   },
   "outputs": [
    {
     "data": {
      "text/html": [
       "<table class=\"dataframe\">\n",
       "<caption>A data.frame: 91 × 16</caption>\n",
       "<thead>\n",
       "\t<tr><th scope=col>chrom</th><th scope=col>start</th><th scope=col>end</th><th scope=col>hg38_ID</th><th scope=col>context</th><th scope=col>gene_id</th><th scope=col>gene_name</th><th scope=col>chr</th><th scope=col>start_variant</th><th scope=col>end_variant</th><th scope=col>variant_id</th><th scope=col>z</th><th scope=col>pip</th><th scope=col>cs_coverage_0.95_min_corr</th><th scope=col>block</th><th scope=col>study</th></tr>\n",
       "\t<tr><th scope=col>&lt;chr&gt;</th><th scope=col>&lt;int&gt;</th><th scope=col>&lt;int&gt;</th><th scope=col>&lt;chr&gt;</th><th scope=col>&lt;chr&gt;</th><th scope=col>&lt;chr&gt;</th><th scope=col>&lt;chr&gt;</th><th scope=col>&lt;chr&gt;</th><th scope=col>&lt;int&gt;</th><th scope=col>&lt;int&gt;</th><th scope=col>&lt;chr&gt;</th><th scope=col>&lt;dbl&gt;</th><th scope=col>&lt;dbl&gt;</th><th scope=col>&lt;int&gt;</th><th scope=col>&lt;chr&gt;</th><th scope=col>&lt;chr&gt;</th></tr>\n",
       "</thead>\n",
       "<tbody>\n",
       "\t<tr><td>chr12</td><td>113159016</td><td>113159156</td><td>chr12:113159016:113159156</td><td>brain_cortex</td><td>ENSG00000186710</td><td>CFAP73</td><td>chr12</td><td>113159061</td><td>113159061</td><td>12:113159061:G:A</td><td> 4.575949</td><td>0.006127578</td><td>1</td><td>chr12_112825713_115165608</td><td>AD_Bellenguez_2022</td></tr>\n",
       "\t<tr><td>chr12</td><td>113159016</td><td>113159156</td><td>chr12:113159016:113159156</td><td>brain_cortex</td><td>ENSG00000123064</td><td>DDX54 </td><td>chr12</td><td>113159061</td><td>113159061</td><td>12:113159061:G:A</td><td> 4.575949</td><td>0.006127578</td><td>1</td><td>chr12_112825713_115165608</td><td>AD_Bellenguez_2022</td></tr>\n",
       "\t<tr><td>chr12</td><td>113159016</td><td>113159156</td><td>chr12:113159016:113159156</td><td>brain_cortex</td><td>ENSG00000186710</td><td>CFAP73</td><td>chr12</td><td>113159061</td><td>113159061</td><td>12:113159061:G:A</td><td> 4.575949</td><td>0.006127578</td><td>1</td><td>chr12_112825713_115165608</td><td>AD_Bellenguez_2022</td></tr>\n",
       "\t<tr><td>chr12</td><td>113159016</td><td>113159156</td><td>chr12:113159016:113159156</td><td>brain_cortex</td><td>ENSG00000123064</td><td>DDX54 </td><td>chr12</td><td>113159061</td><td>113159061</td><td>12:113159061:G:A</td><td> 4.575949</td><td>0.006127578</td><td>1</td><td>chr12_112825713_115165608</td><td>AD_Bellenguez_2022</td></tr>\n",
       "\t<tr><td>chr12</td><td>113159016</td><td>113159156</td><td>chr12:113159016:113159156</td><td>brain_cortex</td><td>ENSG00000186710</td><td>CFAP73</td><td>chr12</td><td>113159061</td><td>113159061</td><td>12:113159061:G:A</td><td> 4.575949</td><td>0.006127578</td><td>1</td><td>chr12_112825713_115165608</td><td>AD_Bellenguez_2022</td></tr>\n",
       "\t<tr><td>chr12</td><td>113159016</td><td>113159156</td><td>chr12:113159016:113159156</td><td>brain_cortex</td><td>ENSG00000123064</td><td>DDX54 </td><td>chr12</td><td>113159061</td><td>113159061</td><td>12:113159061:G:A</td><td> 4.575949</td><td>0.006127578</td><td>1</td><td>chr12_112825713_115165608</td><td>AD_Bellenguez_2022</td></tr>\n",
       "\t<tr><td>chr12</td><td>113162998</td><td>113163165</td><td>chr12:113162998:113163165</td><td>brain_cortex</td><td>ENSG00000123064</td><td>DDX54 </td><td>chr12</td><td>113163098</td><td>113163098</td><td>12:113163098:A:G</td><td> 4.483871</td><td>0.004119767</td><td>1</td><td>chr12_112825713_115165608</td><td>AD_Bellenguez_2022</td></tr>\n",
       "\t<tr><td>chr12</td><td>113162998</td><td>113163165</td><td>chr12:113162998:113163165</td><td>brain_cortex</td><td>ENSG00000123064</td><td>DDX54 </td><td>chr12</td><td>113163135</td><td>113163135</td><td>12:113163135:C:T</td><td> 4.518987</td><td>0.004788665</td><td>1</td><td>chr12_112825713_115165608</td><td>AD_Bellenguez_2022</td></tr>\n",
       "\t<tr><td>chr12</td><td>113163184</td><td>113164127</td><td>chr12:113163184:113164127</td><td>brain_cortex</td><td>ENSG00000123064</td><td>DDX54 </td><td>chr12</td><td>113163602</td><td>113163602</td><td>12:113163602:T:C</td><td> 4.458065</td><td>0.003691296</td><td>1</td><td>chr12_112825713_115165608</td><td>AD_Bellenguez_2022</td></tr>\n",
       "\t<tr><td>chr12</td><td>113158888</td><td>113159170</td><td>chr12:113158888:113159170</td><td>brain_cortex</td><td>ENSG00000186710</td><td>CFAP73</td><td>chr12</td><td>113159061</td><td>113159061</td><td>12:113159061:G:A</td><td> 4.575949</td><td>0.006127578</td><td>1</td><td>chr12_112825713_115165608</td><td>AD_Bellenguez_2022</td></tr>\n",
       "\t<tr><td>chr12</td><td>113158888</td><td>113159170</td><td>chr12:113158888:113159170</td><td>brain_cortex</td><td>ENSG00000123064</td><td>DDX54 </td><td>chr12</td><td>113159061</td><td>113159061</td><td>12:113159061:G:A</td><td> 4.575949</td><td>0.006127578</td><td>1</td><td>chr12_112825713_115165608</td><td>AD_Bellenguez_2022</td></tr>\n",
       "\t<tr><td>chr12</td><td>113158888</td><td>113159170</td><td>chr12:113158888:113159170</td><td>brain_cortex</td><td>ENSG00000186710</td><td>CFAP73</td><td>chr12</td><td>113159061</td><td>113159061</td><td>12:113159061:G:A</td><td> 4.575949</td><td>0.006127578</td><td>1</td><td>chr12_112825713_115165608</td><td>AD_Bellenguez_2022</td></tr>\n",
       "\t<tr><td>chr12</td><td>113158888</td><td>113159170</td><td>chr12:113158888:113159170</td><td>brain_cortex</td><td>ENSG00000123064</td><td>DDX54 </td><td>chr12</td><td>113159061</td><td>113159061</td><td>12:113159061:G:A</td><td> 4.575949</td><td>0.006127578</td><td>1</td><td>chr12_112825713_115165608</td><td>AD_Bellenguez_2022</td></tr>\n",
       "\t<tr><td>chr12</td><td>113158888</td><td>113159170</td><td>chr12:113158888:113159170</td><td>brain_cortex</td><td>ENSG00000186710</td><td>CFAP73</td><td>chr12</td><td>113159061</td><td>113159061</td><td>12:113159061:G:A</td><td> 4.575949</td><td>0.006127578</td><td>1</td><td>chr12_112825713_115165608</td><td>AD_Bellenguez_2022</td></tr>\n",
       "\t<tr><td>chr12</td><td>113158888</td><td>113159170</td><td>chr12:113158888:113159170</td><td>brain_cortex</td><td>ENSG00000123064</td><td>DDX54 </td><td>chr12</td><td>113159061</td><td>113159061</td><td>12:113159061:G:A</td><td> 4.575949</td><td>0.006127578</td><td>1</td><td>chr12_112825713_115165608</td><td>AD_Bellenguez_2022</td></tr>\n",
       "\t<tr><td>chr12</td><td>113162999</td><td>113163368</td><td>chr12:113162999:113163368</td><td>brain_cortex</td><td>ENSG00000123064</td><td>DDX54 </td><td>chr12</td><td>113163098</td><td>113163098</td><td>12:113163098:A:G</td><td> 4.483871</td><td>0.004119767</td><td>1</td><td>chr12_112825713_115165608</td><td>AD_Bellenguez_2022</td></tr>\n",
       "\t<tr><td>chr12</td><td>113162999</td><td>113163368</td><td>chr12:113162999:113163368</td><td>brain_cortex</td><td>ENSG00000123064</td><td>DDX54 </td><td>chr12</td><td>113163135</td><td>113163135</td><td>12:113163135:C:T</td><td> 4.518987</td><td>0.004788665</td><td>1</td><td>chr12_112825713_115165608</td><td>AD_Bellenguez_2022</td></tr>\n",
       "\t<tr><td>chr12</td><td>113159016</td><td>113159156</td><td>chr12:113159016:113159156</td><td>brain_cortex</td><td>ENSG00000186710</td><td>CFAP73</td><td>chr12</td><td>113159061</td><td>113159061</td><td>12:113159061:G:A</td><td> 4.575949</td><td>0.006127578</td><td>1</td><td>chr12_112825713_115165608</td><td>AD_Bellenguez_2022</td></tr>\n",
       "\t<tr><td>chr12</td><td>113159016</td><td>113159156</td><td>chr12:113159016:113159156</td><td>brain_cortex</td><td>ENSG00000123064</td><td>DDX54 </td><td>chr12</td><td>113159061</td><td>113159061</td><td>12:113159061:G:A</td><td> 4.575949</td><td>0.006127578</td><td>1</td><td>chr12_112825713_115165608</td><td>AD_Bellenguez_2022</td></tr>\n",
       "\t<tr><td>chr12</td><td>113159016</td><td>113159156</td><td>chr12:113159016:113159156</td><td>brain_cortex</td><td>ENSG00000186710</td><td>CFAP73</td><td>chr12</td><td>113159061</td><td>113159061</td><td>12:113159061:G:A</td><td> 4.575949</td><td>0.006127578</td><td>1</td><td>chr12_112825713_115165608</td><td>AD_Bellenguez_2022</td></tr>\n",
       "\t<tr><td>chr12</td><td>113159016</td><td>113159156</td><td>chr12:113159016:113159156</td><td>brain_cortex</td><td>ENSG00000123064</td><td>DDX54 </td><td>chr12</td><td>113159061</td><td>113159061</td><td>12:113159061:G:A</td><td> 4.575949</td><td>0.006127578</td><td>1</td><td>chr12_112825713_115165608</td><td>AD_Bellenguez_2022</td></tr>\n",
       "\t<tr><td>chr12</td><td>113159016</td><td>113159156</td><td>chr12:113159016:113159156</td><td>brain_cortex</td><td>ENSG00000186710</td><td>CFAP73</td><td>chr12</td><td>113159061</td><td>113159061</td><td>12:113159061:G:A</td><td> 4.575949</td><td>0.006127578</td><td>1</td><td>chr12_112825713_115165608</td><td>AD_Bellenguez_2022</td></tr>\n",
       "\t<tr><td>chr12</td><td>113159016</td><td>113159156</td><td>chr12:113159016:113159156</td><td>brain_cortex</td><td>ENSG00000123064</td><td>DDX54 </td><td>chr12</td><td>113159061</td><td>113159061</td><td>12:113159061:G:A</td><td> 4.575949</td><td>0.006127578</td><td>1</td><td>chr12_112825713_115165608</td><td>AD_Bellenguez_2022</td></tr>\n",
       "\t<tr><td>chr12</td><td>113162998</td><td>113163165</td><td>chr12:113162998:113163165</td><td>brain_cortex</td><td>ENSG00000123064</td><td>DDX54 </td><td>chr12</td><td>113163098</td><td>113163098</td><td>12:113163098:A:G</td><td> 4.483871</td><td>0.004119767</td><td>1</td><td>chr12_112825713_115165608</td><td>AD_Bellenguez_2022</td></tr>\n",
       "\t<tr><td>chr12</td><td>113162998</td><td>113163165</td><td>chr12:113162998:113163165</td><td>brain_cortex</td><td>ENSG00000123064</td><td>DDX54 </td><td>chr12</td><td>113163135</td><td>113163135</td><td>12:113163135:C:T</td><td> 4.518987</td><td>0.004788665</td><td>1</td><td>chr12_112825713_115165608</td><td>AD_Bellenguez_2022</td></tr>\n",
       "\t<tr><td>chr12</td><td>113163184</td><td>113164127</td><td>chr12:113163184:113164127</td><td>brain_cortex</td><td>ENSG00000123064</td><td>DDX54 </td><td>chr12</td><td>113163602</td><td>113163602</td><td>12:113163602:T:C</td><td> 4.458065</td><td>0.003691296</td><td>1</td><td>chr12_112825713_115165608</td><td>AD_Bellenguez_2022</td></tr>\n",
       "\t<tr><td>chr2 </td><td>202871461</td><td>202871765</td><td>chr2:202871461:202871765 </td><td>brain_cortex</td><td>ENSG00000163596</td><td>ICA1L </td><td>chr2 </td><td>202871528</td><td>202871528</td><td>2:202871528:C:G </td><td>-4.991667</td><td>0.003991468</td><td>1</td><td>chr2_201677542_203951659 </td><td>AD_Bellenguez_2022</td></tr>\n",
       "\t<tr><td>chr12</td><td>113158906</td><td>113159116</td><td>chr12:113158906:113159116</td><td>brain_cortex</td><td>ENSG00000186710</td><td>CFAP73</td><td>chr12</td><td>113159061</td><td>113159061</td><td>12:113159061:G:A</td><td> 4.575949</td><td>0.006127578</td><td>1</td><td>chr12_112825713_115165608</td><td>AD_Bellenguez_2022</td></tr>\n",
       "\t<tr><td>chr12</td><td>113158906</td><td>113159116</td><td>chr12:113158906:113159116</td><td>brain_cortex</td><td>ENSG00000123064</td><td>DDX54 </td><td>chr12</td><td>113159061</td><td>113159061</td><td>12:113159061:G:A</td><td> 4.575949</td><td>0.006127578</td><td>1</td><td>chr12_112825713_115165608</td><td>AD_Bellenguez_2022</td></tr>\n",
       "\t<tr><td>chr12</td><td>113158906</td><td>113159116</td><td>chr12:113158906:113159116</td><td>brain_cortex</td><td>ENSG00000186710</td><td>CFAP73</td><td>chr12</td><td>113159061</td><td>113159061</td><td>12:113159061:G:A</td><td> 4.575949</td><td>0.006127578</td><td>1</td><td>chr12_112825713_115165608</td><td>AD_Bellenguez_2022</td></tr>\n",
       "\t<tr><td>⋮</td><td>⋮</td><td>⋮</td><td>⋮</td><td>⋮</td><td>⋮</td><td>⋮</td><td>⋮</td><td>⋮</td><td>⋮</td><td>⋮</td><td>⋮</td><td>⋮</td><td>⋮</td><td>⋮</td><td>⋮</td></tr>\n",
       "\t<tr><td>chr12</td><td>113163224</td><td>113164117</td><td>chr12:113163224:113164117</td><td>brain_cortex</td><td>ENSG00000123064</td><td>DDX54 </td><td>chr12</td><td>113163602</td><td>113163602</td><td>12:113163602:T:C</td><td> 4.458065</td><td>0.003691296</td><td>1</td><td>chr12_112825713_115165608</td><td>AD_Bellenguez_2022</td></tr>\n",
       "\t<tr><td>chr19</td><td>  1829160</td><td>  1830160</td><td>chr19:1828583:1830738    </td><td>brain_cortex</td><td>ENSG00000079313</td><td>REXO1 </td><td>chr19</td><td>  1829830</td><td>  1829830</td><td>19:1829830:G:A  </td><td>-5.568182</td><td>0.037866345</td><td>1</td><td>chr19_1507536_3368979    </td><td>AD_Bellenguez_2022</td></tr>\n",
       "\t<tr><td>chr12</td><td>113158741</td><td>113159173</td><td>chr12:113158741:113159173</td><td>brain_cortex</td><td>ENSG00000186710</td><td>CFAP73</td><td>chr12</td><td>113159061</td><td>113159061</td><td>12:113159061:G:A</td><td> 4.575949</td><td>0.006127578</td><td>1</td><td>chr12_112825713_115165608</td><td>AD_Bellenguez_2022</td></tr>\n",
       "\t<tr><td>chr12</td><td>113158741</td><td>113159173</td><td>chr12:113158741:113159173</td><td>brain_cortex</td><td>ENSG00000123064</td><td>DDX54 </td><td>chr12</td><td>113159061</td><td>113159061</td><td>12:113159061:G:A</td><td> 4.575949</td><td>0.006127578</td><td>1</td><td>chr12_112825713_115165608</td><td>AD_Bellenguez_2022</td></tr>\n",
       "\t<tr><td>chr12</td><td>113158741</td><td>113159173</td><td>chr12:113158741:113159173</td><td>brain_cortex</td><td>ENSG00000186710</td><td>CFAP73</td><td>chr12</td><td>113159061</td><td>113159061</td><td>12:113159061:G:A</td><td> 4.575949</td><td>0.006127578</td><td>1</td><td>chr12_112825713_115165608</td><td>AD_Bellenguez_2022</td></tr>\n",
       "\t<tr><td>chr12</td><td>113158741</td><td>113159173</td><td>chr12:113158741:113159173</td><td>brain_cortex</td><td>ENSG00000123064</td><td>DDX54 </td><td>chr12</td><td>113159061</td><td>113159061</td><td>12:113159061:G:A</td><td> 4.575949</td><td>0.006127578</td><td>1</td><td>chr12_112825713_115165608</td><td>AD_Bellenguez_2022</td></tr>\n",
       "\t<tr><td>chr12</td><td>113158741</td><td>113159173</td><td>chr12:113158741:113159173</td><td>brain_cortex</td><td>ENSG00000186710</td><td>CFAP73</td><td>chr12</td><td>113159061</td><td>113159061</td><td>12:113159061:G:A</td><td> 4.575949</td><td>0.006127578</td><td>1</td><td>chr12_112825713_115165608</td><td>AD_Bellenguez_2022</td></tr>\n",
       "\t<tr><td>chr12</td><td>113158741</td><td>113159173</td><td>chr12:113158741:113159173</td><td>brain_cortex</td><td>ENSG00000123064</td><td>DDX54 </td><td>chr12</td><td>113159061</td><td>113159061</td><td>12:113159061:G:A</td><td> 4.575949</td><td>0.006127578</td><td>1</td><td>chr12_112825713_115165608</td><td>AD_Bellenguez_2022</td></tr>\n",
       "\t<tr><td>chr12</td><td>113158986</td><td>113159156</td><td>chr12:113158986:113159156</td><td>brain_cortex</td><td>ENSG00000186710</td><td>CFAP73</td><td>chr12</td><td>113159061</td><td>113159061</td><td>12:113159061:G:A</td><td> 4.575949</td><td>0.006127578</td><td>1</td><td>chr12_112825713_115165608</td><td>AD_Bellenguez_2022</td></tr>\n",
       "\t<tr><td>chr12</td><td>113158986</td><td>113159156</td><td>chr12:113158986:113159156</td><td>brain_cortex</td><td>ENSG00000123064</td><td>DDX54 </td><td>chr12</td><td>113159061</td><td>113159061</td><td>12:113159061:G:A</td><td> 4.575949</td><td>0.006127578</td><td>1</td><td>chr12_112825713_115165608</td><td>AD_Bellenguez_2022</td></tr>\n",
       "\t<tr><td>chr12</td><td>113158986</td><td>113159156</td><td>chr12:113158986:113159156</td><td>brain_cortex</td><td>ENSG00000186710</td><td>CFAP73</td><td>chr12</td><td>113159061</td><td>113159061</td><td>12:113159061:G:A</td><td> 4.575949</td><td>0.006127578</td><td>1</td><td>chr12_112825713_115165608</td><td>AD_Bellenguez_2022</td></tr>\n",
       "\t<tr><td>chr12</td><td>113158986</td><td>113159156</td><td>chr12:113158986:113159156</td><td>brain_cortex</td><td>ENSG00000123064</td><td>DDX54 </td><td>chr12</td><td>113159061</td><td>113159061</td><td>12:113159061:G:A</td><td> 4.575949</td><td>0.006127578</td><td>1</td><td>chr12_112825713_115165608</td><td>AD_Bellenguez_2022</td></tr>\n",
       "\t<tr><td>chr12</td><td>113158986</td><td>113159156</td><td>chr12:113158986:113159156</td><td>brain_cortex</td><td>ENSG00000186710</td><td>CFAP73</td><td>chr12</td><td>113159061</td><td>113159061</td><td>12:113159061:G:A</td><td> 4.575949</td><td>0.006127578</td><td>1</td><td>chr12_112825713_115165608</td><td>AD_Bellenguez_2022</td></tr>\n",
       "\t<tr><td>chr12</td><td>113158986</td><td>113159156</td><td>chr12:113158986:113159156</td><td>brain_cortex</td><td>ENSG00000123064</td><td>DDX54 </td><td>chr12</td><td>113159061</td><td>113159061</td><td>12:113159061:G:A</td><td> 4.575949</td><td>0.006127578</td><td>1</td><td>chr12_112825713_115165608</td><td>AD_Bellenguez_2022</td></tr>\n",
       "\t<tr><td>chr12</td><td>113163224</td><td>113164117</td><td>chr12:113163224:113164117</td><td>brain_cortex</td><td>ENSG00000123064</td><td>DDX54 </td><td>chr12</td><td>113163602</td><td>113163602</td><td>12:113163602:T:C</td><td> 4.458065</td><td>0.003691296</td><td>1</td><td>chr12_112825713_115165608</td><td>AD_Bellenguez_2022</td></tr>\n",
       "\t<tr><td>chr19</td><td>  1829170</td><td>  1830170</td><td>chr19:1828583:1830758    </td><td>brain_cortex</td><td>ENSG00000079313</td><td>REXO1 </td><td>chr19</td><td>  1829830</td><td>  1829830</td><td>19:1829830:G:A  </td><td>-5.568182</td><td>0.037866345</td><td>1</td><td>chr19_1507536_3368979    </td><td>AD_Bellenguez_2022</td></tr>\n",
       "\t<tr><td>chr2 </td><td>134953447</td><td>134954208</td><td>chr2:134953447:134954208 </td><td>hNPC        </td><td>ENSG00000082258</td><td>CCNT2 </td><td>chr2 </td><td>134953946</td><td>134953946</td><td>2:134953946:C:T </td><td> 4.535714</td><td>0.010923557</td><td>1</td><td>chr2_134400811_137009736 </td><td>AD_Bellenguez_2022</td></tr>\n",
       "\t<tr><td>chr2 </td><td>134953447</td><td>134954208</td><td>chr2:134953447:134954208 </td><td>hNPC        </td><td>ENSG00000082258</td><td>CCNT2 </td><td>chr2 </td><td>134954087</td><td>134954087</td><td>2:134954087:G:A </td><td> 4.511905</td><td>0.009860142</td><td>1</td><td>chr2_134400811_137009736 </td><td>AD_Bellenguez_2022</td></tr>\n",
       "\t<tr><td>chr2 </td><td>202888094</td><td>202889094</td><td>chr2:202884498:202892690 </td><td>hNPC        </td><td>ENSG00000138442</td><td>WDR12 </td><td>chr2 </td><td>202888293</td><td>202888293</td><td>2:202888293:G:A </td><td>-5.041667</td><td>0.004942385</td><td>1</td><td>chr2_201677542_203951659 </td><td>AD_Bellenguez_2022</td></tr>\n",
       "\t<tr><td>chr2 </td><td>202888094</td><td>202889094</td><td>chr2:202884498:202892690 </td><td>hNPC        </td><td>ENSG00000138442</td><td>WDR12 </td><td>chr2 </td><td>202888349</td><td>202888349</td><td>2:202888349:T:C </td><td>-5.033333</td><td>0.004766691</td><td>1</td><td>chr2_201677542_203951659 </td><td>AD_Bellenguez_2022</td></tr>\n",
       "\t<tr><td>chr8 </td><td> 27607034</td><td> 27608034</td><td>chr8:27606436:27608633   </td><td>hNPC        </td><td>ENSG00000120885</td><td>CLU   </td><td>chr8 </td><td> 27607412</td><td> 27607412</td><td>8:27607412:A:G  </td><td>11.952381</td><td>0.028314120</td><td>1</td><td>chr8_27515963_29469590   </td><td>AD_Bellenguez_2022</td></tr>\n",
       "\t<tr><td>chr8 </td><td> 27607034</td><td> 27608034</td><td>chr8:27606436:27608633   </td><td>hNPC        </td><td>ENSG00000120885</td><td>CLU   </td><td>chr8 </td><td> 27607795</td><td> 27607795</td><td>8:27607795:T:C  </td><td>12.072289</td><td>0.143118125</td><td>1</td><td>chr8_27515963_29469590   </td><td>AD_Bellenguez_2022</td></tr>\n",
       "\t<tr><td>chr2 </td><td>134952676</td><td>134952845</td><td>chr2:134952676:134952845 </td><td>hNPC        </td><td>ENSG00000082258</td><td>CCNT2 </td><td>chr2 </td><td>134952752</td><td>134952752</td><td>2:134952752:A:G </td><td> 4.511905</td><td>0.009860142</td><td>1</td><td>chr2_134400811_137009736 </td><td>AD_Bellenguez_2022</td></tr>\n",
       "\t<tr><td>chr2 </td><td>134953490</td><td>134954260</td><td>chr2:134953490:134954260 </td><td>hNPC        </td><td>ENSG00000082258</td><td>CCNT2 </td><td>chr2 </td><td>134953946</td><td>134953946</td><td>2:134953946:C:T </td><td> 4.535714</td><td>0.010923557</td><td>1</td><td>chr2_134400811_137009736 </td><td>AD_Bellenguez_2022</td></tr>\n",
       "\t<tr><td>chr2 </td><td>134953490</td><td>134954260</td><td>chr2:134953490:134954260 </td><td>hNPC        </td><td>ENSG00000082258</td><td>CCNT2 </td><td>chr2 </td><td>134954087</td><td>134954087</td><td>2:134954087:G:A </td><td> 4.511905</td><td>0.009860142</td><td>1</td><td>chr2_134400811_137009736 </td><td>AD_Bellenguez_2022</td></tr>\n",
       "\t<tr><td>chr2 </td><td>134952717</td><td>134952798</td><td>chr2:134952717:134952798 </td><td>hNPC        </td><td>ENSG00000082258</td><td>CCNT2 </td><td>chr2 </td><td>134952752</td><td>134952752</td><td>2:134952752:A:G </td><td> 4.511905</td><td>0.009860142</td><td>1</td><td>chr2_134400811_137009736 </td><td>AD_Bellenguez_2022</td></tr>\n",
       "\t<tr><td>chr2 </td><td>134953447</td><td>134954208</td><td>chr2:134953447:134954208 </td><td>hNPC        </td><td>ENSG00000082258</td><td>CCNT2 </td><td>chr2 </td><td>134953946</td><td>134953946</td><td>2:134953946:C:T </td><td> 4.535714</td><td>0.010923557</td><td>1</td><td>chr2_134400811_137009736 </td><td>AD_Bellenguez_2022</td></tr>\n",
       "\t<tr><td>chr2 </td><td>134953447</td><td>134954208</td><td>chr2:134953447:134954208 </td><td>hNPC        </td><td>ENSG00000082258</td><td>CCNT2 </td><td>chr2 </td><td>134954087</td><td>134954087</td><td>2:134954087:G:A </td><td> 4.511905</td><td>0.009860142</td><td>1</td><td>chr2_134400811_137009736 </td><td>AD_Bellenguez_2022</td></tr>\n",
       "\t<tr><td>chr2 </td><td>202888099</td><td>202889099</td><td>chr2:202884498:202892700 </td><td>hNPC        </td><td>ENSG00000138442</td><td>WDR12 </td><td>chr2 </td><td>202888293</td><td>202888293</td><td>2:202888293:G:A </td><td>-5.041667</td><td>0.004942385</td><td>1</td><td>chr2_201677542_203951659 </td><td>AD_Bellenguez_2022</td></tr>\n",
       "\t<tr><td>chr2 </td><td>202888099</td><td>202889099</td><td>chr2:202884498:202892700 </td><td>hNPC        </td><td>ENSG00000138442</td><td>WDR12 </td><td>chr2 </td><td>202888349</td><td>202888349</td><td>2:202888349:T:C </td><td>-5.033333</td><td>0.004766691</td><td>1</td><td>chr2_201677542_203951659 </td><td>AD_Bellenguez_2022</td></tr>\n",
       "</tbody>\n",
       "</table>\n"
      ],
      "text/latex": [
       "A data.frame: 91 × 16\n",
       "\\begin{tabular}{llllllllllllllll}\n",
       " chrom & start & end & hg38\\_ID & context & gene\\_id & gene\\_name & chr & start\\_variant & end\\_variant & variant\\_id & z & pip & cs\\_coverage\\_0.95\\_min\\_corr & block & study\\\\\n",
       " <chr> & <int> & <int> & <chr> & <chr> & <chr> & <chr> & <chr> & <int> & <int> & <chr> & <dbl> & <dbl> & <int> & <chr> & <chr>\\\\\n",
       "\\hline\n",
       "\t chr12 & 113159016 & 113159156 & chr12:113159016:113159156 & brain\\_cortex & ENSG00000186710 & CFAP73 & chr12 & 113159061 & 113159061 & 12:113159061:G:A &  4.575949 & 0.006127578 & 1 & chr12\\_112825713\\_115165608 & AD\\_Bellenguez\\_2022\\\\\n",
       "\t chr12 & 113159016 & 113159156 & chr12:113159016:113159156 & brain\\_cortex & ENSG00000123064 & DDX54  & chr12 & 113159061 & 113159061 & 12:113159061:G:A &  4.575949 & 0.006127578 & 1 & chr12\\_112825713\\_115165608 & AD\\_Bellenguez\\_2022\\\\\n",
       "\t chr12 & 113159016 & 113159156 & chr12:113159016:113159156 & brain\\_cortex & ENSG00000186710 & CFAP73 & chr12 & 113159061 & 113159061 & 12:113159061:G:A &  4.575949 & 0.006127578 & 1 & chr12\\_112825713\\_115165608 & AD\\_Bellenguez\\_2022\\\\\n",
       "\t chr12 & 113159016 & 113159156 & chr12:113159016:113159156 & brain\\_cortex & ENSG00000123064 & DDX54  & chr12 & 113159061 & 113159061 & 12:113159061:G:A &  4.575949 & 0.006127578 & 1 & chr12\\_112825713\\_115165608 & AD\\_Bellenguez\\_2022\\\\\n",
       "\t chr12 & 113159016 & 113159156 & chr12:113159016:113159156 & brain\\_cortex & ENSG00000186710 & CFAP73 & chr12 & 113159061 & 113159061 & 12:113159061:G:A &  4.575949 & 0.006127578 & 1 & chr12\\_112825713\\_115165608 & AD\\_Bellenguez\\_2022\\\\\n",
       "\t chr12 & 113159016 & 113159156 & chr12:113159016:113159156 & brain\\_cortex & ENSG00000123064 & DDX54  & chr12 & 113159061 & 113159061 & 12:113159061:G:A &  4.575949 & 0.006127578 & 1 & chr12\\_112825713\\_115165608 & AD\\_Bellenguez\\_2022\\\\\n",
       "\t chr12 & 113162998 & 113163165 & chr12:113162998:113163165 & brain\\_cortex & ENSG00000123064 & DDX54  & chr12 & 113163098 & 113163098 & 12:113163098:A:G &  4.483871 & 0.004119767 & 1 & chr12\\_112825713\\_115165608 & AD\\_Bellenguez\\_2022\\\\\n",
       "\t chr12 & 113162998 & 113163165 & chr12:113162998:113163165 & brain\\_cortex & ENSG00000123064 & DDX54  & chr12 & 113163135 & 113163135 & 12:113163135:C:T &  4.518987 & 0.004788665 & 1 & chr12\\_112825713\\_115165608 & AD\\_Bellenguez\\_2022\\\\\n",
       "\t chr12 & 113163184 & 113164127 & chr12:113163184:113164127 & brain\\_cortex & ENSG00000123064 & DDX54  & chr12 & 113163602 & 113163602 & 12:113163602:T:C &  4.458065 & 0.003691296 & 1 & chr12\\_112825713\\_115165608 & AD\\_Bellenguez\\_2022\\\\\n",
       "\t chr12 & 113158888 & 113159170 & chr12:113158888:113159170 & brain\\_cortex & ENSG00000186710 & CFAP73 & chr12 & 113159061 & 113159061 & 12:113159061:G:A &  4.575949 & 0.006127578 & 1 & chr12\\_112825713\\_115165608 & AD\\_Bellenguez\\_2022\\\\\n",
       "\t chr12 & 113158888 & 113159170 & chr12:113158888:113159170 & brain\\_cortex & ENSG00000123064 & DDX54  & chr12 & 113159061 & 113159061 & 12:113159061:G:A &  4.575949 & 0.006127578 & 1 & chr12\\_112825713\\_115165608 & AD\\_Bellenguez\\_2022\\\\\n",
       "\t chr12 & 113158888 & 113159170 & chr12:113158888:113159170 & brain\\_cortex & ENSG00000186710 & CFAP73 & chr12 & 113159061 & 113159061 & 12:113159061:G:A &  4.575949 & 0.006127578 & 1 & chr12\\_112825713\\_115165608 & AD\\_Bellenguez\\_2022\\\\\n",
       "\t chr12 & 113158888 & 113159170 & chr12:113158888:113159170 & brain\\_cortex & ENSG00000123064 & DDX54  & chr12 & 113159061 & 113159061 & 12:113159061:G:A &  4.575949 & 0.006127578 & 1 & chr12\\_112825713\\_115165608 & AD\\_Bellenguez\\_2022\\\\\n",
       "\t chr12 & 113158888 & 113159170 & chr12:113158888:113159170 & brain\\_cortex & ENSG00000186710 & CFAP73 & chr12 & 113159061 & 113159061 & 12:113159061:G:A &  4.575949 & 0.006127578 & 1 & chr12\\_112825713\\_115165608 & AD\\_Bellenguez\\_2022\\\\\n",
       "\t chr12 & 113158888 & 113159170 & chr12:113158888:113159170 & brain\\_cortex & ENSG00000123064 & DDX54  & chr12 & 113159061 & 113159061 & 12:113159061:G:A &  4.575949 & 0.006127578 & 1 & chr12\\_112825713\\_115165608 & AD\\_Bellenguez\\_2022\\\\\n",
       "\t chr12 & 113162999 & 113163368 & chr12:113162999:113163368 & brain\\_cortex & ENSG00000123064 & DDX54  & chr12 & 113163098 & 113163098 & 12:113163098:A:G &  4.483871 & 0.004119767 & 1 & chr12\\_112825713\\_115165608 & AD\\_Bellenguez\\_2022\\\\\n",
       "\t chr12 & 113162999 & 113163368 & chr12:113162999:113163368 & brain\\_cortex & ENSG00000123064 & DDX54  & chr12 & 113163135 & 113163135 & 12:113163135:C:T &  4.518987 & 0.004788665 & 1 & chr12\\_112825713\\_115165608 & AD\\_Bellenguez\\_2022\\\\\n",
       "\t chr12 & 113159016 & 113159156 & chr12:113159016:113159156 & brain\\_cortex & ENSG00000186710 & CFAP73 & chr12 & 113159061 & 113159061 & 12:113159061:G:A &  4.575949 & 0.006127578 & 1 & chr12\\_112825713\\_115165608 & AD\\_Bellenguez\\_2022\\\\\n",
       "\t chr12 & 113159016 & 113159156 & chr12:113159016:113159156 & brain\\_cortex & ENSG00000123064 & DDX54  & chr12 & 113159061 & 113159061 & 12:113159061:G:A &  4.575949 & 0.006127578 & 1 & chr12\\_112825713\\_115165608 & AD\\_Bellenguez\\_2022\\\\\n",
       "\t chr12 & 113159016 & 113159156 & chr12:113159016:113159156 & brain\\_cortex & ENSG00000186710 & CFAP73 & chr12 & 113159061 & 113159061 & 12:113159061:G:A &  4.575949 & 0.006127578 & 1 & chr12\\_112825713\\_115165608 & AD\\_Bellenguez\\_2022\\\\\n",
       "\t chr12 & 113159016 & 113159156 & chr12:113159016:113159156 & brain\\_cortex & ENSG00000123064 & DDX54  & chr12 & 113159061 & 113159061 & 12:113159061:G:A &  4.575949 & 0.006127578 & 1 & chr12\\_112825713\\_115165608 & AD\\_Bellenguez\\_2022\\\\\n",
       "\t chr12 & 113159016 & 113159156 & chr12:113159016:113159156 & brain\\_cortex & ENSG00000186710 & CFAP73 & chr12 & 113159061 & 113159061 & 12:113159061:G:A &  4.575949 & 0.006127578 & 1 & chr12\\_112825713\\_115165608 & AD\\_Bellenguez\\_2022\\\\\n",
       "\t chr12 & 113159016 & 113159156 & chr12:113159016:113159156 & brain\\_cortex & ENSG00000123064 & DDX54  & chr12 & 113159061 & 113159061 & 12:113159061:G:A &  4.575949 & 0.006127578 & 1 & chr12\\_112825713\\_115165608 & AD\\_Bellenguez\\_2022\\\\\n",
       "\t chr12 & 113162998 & 113163165 & chr12:113162998:113163165 & brain\\_cortex & ENSG00000123064 & DDX54  & chr12 & 113163098 & 113163098 & 12:113163098:A:G &  4.483871 & 0.004119767 & 1 & chr12\\_112825713\\_115165608 & AD\\_Bellenguez\\_2022\\\\\n",
       "\t chr12 & 113162998 & 113163165 & chr12:113162998:113163165 & brain\\_cortex & ENSG00000123064 & DDX54  & chr12 & 113163135 & 113163135 & 12:113163135:C:T &  4.518987 & 0.004788665 & 1 & chr12\\_112825713\\_115165608 & AD\\_Bellenguez\\_2022\\\\\n",
       "\t chr12 & 113163184 & 113164127 & chr12:113163184:113164127 & brain\\_cortex & ENSG00000123064 & DDX54  & chr12 & 113163602 & 113163602 & 12:113163602:T:C &  4.458065 & 0.003691296 & 1 & chr12\\_112825713\\_115165608 & AD\\_Bellenguez\\_2022\\\\\n",
       "\t chr2  & 202871461 & 202871765 & chr2:202871461:202871765  & brain\\_cortex & ENSG00000163596 & ICA1L  & chr2  & 202871528 & 202871528 & 2:202871528:C:G  & -4.991667 & 0.003991468 & 1 & chr2\\_201677542\\_203951659  & AD\\_Bellenguez\\_2022\\\\\n",
       "\t chr12 & 113158906 & 113159116 & chr12:113158906:113159116 & brain\\_cortex & ENSG00000186710 & CFAP73 & chr12 & 113159061 & 113159061 & 12:113159061:G:A &  4.575949 & 0.006127578 & 1 & chr12\\_112825713\\_115165608 & AD\\_Bellenguez\\_2022\\\\\n",
       "\t chr12 & 113158906 & 113159116 & chr12:113158906:113159116 & brain\\_cortex & ENSG00000123064 & DDX54  & chr12 & 113159061 & 113159061 & 12:113159061:G:A &  4.575949 & 0.006127578 & 1 & chr12\\_112825713\\_115165608 & AD\\_Bellenguez\\_2022\\\\\n",
       "\t chr12 & 113158906 & 113159116 & chr12:113158906:113159116 & brain\\_cortex & ENSG00000186710 & CFAP73 & chr12 & 113159061 & 113159061 & 12:113159061:G:A &  4.575949 & 0.006127578 & 1 & chr12\\_112825713\\_115165608 & AD\\_Bellenguez\\_2022\\\\\n",
       "\t ⋮ & ⋮ & ⋮ & ⋮ & ⋮ & ⋮ & ⋮ & ⋮ & ⋮ & ⋮ & ⋮ & ⋮ & ⋮ & ⋮ & ⋮ & ⋮\\\\\n",
       "\t chr12 & 113163224 & 113164117 & chr12:113163224:113164117 & brain\\_cortex & ENSG00000123064 & DDX54  & chr12 & 113163602 & 113163602 & 12:113163602:T:C &  4.458065 & 0.003691296 & 1 & chr12\\_112825713\\_115165608 & AD\\_Bellenguez\\_2022\\\\\n",
       "\t chr19 &   1829160 &   1830160 & chr19:1828583:1830738     & brain\\_cortex & ENSG00000079313 & REXO1  & chr19 &   1829830 &   1829830 & 19:1829830:G:A   & -5.568182 & 0.037866345 & 1 & chr19\\_1507536\\_3368979     & AD\\_Bellenguez\\_2022\\\\\n",
       "\t chr12 & 113158741 & 113159173 & chr12:113158741:113159173 & brain\\_cortex & ENSG00000186710 & CFAP73 & chr12 & 113159061 & 113159061 & 12:113159061:G:A &  4.575949 & 0.006127578 & 1 & chr12\\_112825713\\_115165608 & AD\\_Bellenguez\\_2022\\\\\n",
       "\t chr12 & 113158741 & 113159173 & chr12:113158741:113159173 & brain\\_cortex & ENSG00000123064 & DDX54  & chr12 & 113159061 & 113159061 & 12:113159061:G:A &  4.575949 & 0.006127578 & 1 & chr12\\_112825713\\_115165608 & AD\\_Bellenguez\\_2022\\\\\n",
       "\t chr12 & 113158741 & 113159173 & chr12:113158741:113159173 & brain\\_cortex & ENSG00000186710 & CFAP73 & chr12 & 113159061 & 113159061 & 12:113159061:G:A &  4.575949 & 0.006127578 & 1 & chr12\\_112825713\\_115165608 & AD\\_Bellenguez\\_2022\\\\\n",
       "\t chr12 & 113158741 & 113159173 & chr12:113158741:113159173 & brain\\_cortex & ENSG00000123064 & DDX54  & chr12 & 113159061 & 113159061 & 12:113159061:G:A &  4.575949 & 0.006127578 & 1 & chr12\\_112825713\\_115165608 & AD\\_Bellenguez\\_2022\\\\\n",
       "\t chr12 & 113158741 & 113159173 & chr12:113158741:113159173 & brain\\_cortex & ENSG00000186710 & CFAP73 & chr12 & 113159061 & 113159061 & 12:113159061:G:A &  4.575949 & 0.006127578 & 1 & chr12\\_112825713\\_115165608 & AD\\_Bellenguez\\_2022\\\\\n",
       "\t chr12 & 113158741 & 113159173 & chr12:113158741:113159173 & brain\\_cortex & ENSG00000123064 & DDX54  & chr12 & 113159061 & 113159061 & 12:113159061:G:A &  4.575949 & 0.006127578 & 1 & chr12\\_112825713\\_115165608 & AD\\_Bellenguez\\_2022\\\\\n",
       "\t chr12 & 113158986 & 113159156 & chr12:113158986:113159156 & brain\\_cortex & ENSG00000186710 & CFAP73 & chr12 & 113159061 & 113159061 & 12:113159061:G:A &  4.575949 & 0.006127578 & 1 & chr12\\_112825713\\_115165608 & AD\\_Bellenguez\\_2022\\\\\n",
       "\t chr12 & 113158986 & 113159156 & chr12:113158986:113159156 & brain\\_cortex & ENSG00000123064 & DDX54  & chr12 & 113159061 & 113159061 & 12:113159061:G:A &  4.575949 & 0.006127578 & 1 & chr12\\_112825713\\_115165608 & AD\\_Bellenguez\\_2022\\\\\n",
       "\t chr12 & 113158986 & 113159156 & chr12:113158986:113159156 & brain\\_cortex & ENSG00000186710 & CFAP73 & chr12 & 113159061 & 113159061 & 12:113159061:G:A &  4.575949 & 0.006127578 & 1 & chr12\\_112825713\\_115165608 & AD\\_Bellenguez\\_2022\\\\\n",
       "\t chr12 & 113158986 & 113159156 & chr12:113158986:113159156 & brain\\_cortex & ENSG00000123064 & DDX54  & chr12 & 113159061 & 113159061 & 12:113159061:G:A &  4.575949 & 0.006127578 & 1 & chr12\\_112825713\\_115165608 & AD\\_Bellenguez\\_2022\\\\\n",
       "\t chr12 & 113158986 & 113159156 & chr12:113158986:113159156 & brain\\_cortex & ENSG00000186710 & CFAP73 & chr12 & 113159061 & 113159061 & 12:113159061:G:A &  4.575949 & 0.006127578 & 1 & chr12\\_112825713\\_115165608 & AD\\_Bellenguez\\_2022\\\\\n",
       "\t chr12 & 113158986 & 113159156 & chr12:113158986:113159156 & brain\\_cortex & ENSG00000123064 & DDX54  & chr12 & 113159061 & 113159061 & 12:113159061:G:A &  4.575949 & 0.006127578 & 1 & chr12\\_112825713\\_115165608 & AD\\_Bellenguez\\_2022\\\\\n",
       "\t chr12 & 113163224 & 113164117 & chr12:113163224:113164117 & brain\\_cortex & ENSG00000123064 & DDX54  & chr12 & 113163602 & 113163602 & 12:113163602:T:C &  4.458065 & 0.003691296 & 1 & chr12\\_112825713\\_115165608 & AD\\_Bellenguez\\_2022\\\\\n",
       "\t chr19 &   1829170 &   1830170 & chr19:1828583:1830758     & brain\\_cortex & ENSG00000079313 & REXO1  & chr19 &   1829830 &   1829830 & 19:1829830:G:A   & -5.568182 & 0.037866345 & 1 & chr19\\_1507536\\_3368979     & AD\\_Bellenguez\\_2022\\\\\n",
       "\t chr2  & 134953447 & 134954208 & chr2:134953447:134954208  & hNPC         & ENSG00000082258 & CCNT2  & chr2  & 134953946 & 134953946 & 2:134953946:C:T  &  4.535714 & 0.010923557 & 1 & chr2\\_134400811\\_137009736  & AD\\_Bellenguez\\_2022\\\\\n",
       "\t chr2  & 134953447 & 134954208 & chr2:134953447:134954208  & hNPC         & ENSG00000082258 & CCNT2  & chr2  & 134954087 & 134954087 & 2:134954087:G:A  &  4.511905 & 0.009860142 & 1 & chr2\\_134400811\\_137009736  & AD\\_Bellenguez\\_2022\\\\\n",
       "\t chr2  & 202888094 & 202889094 & chr2:202884498:202892690  & hNPC         & ENSG00000138442 & WDR12  & chr2  & 202888293 & 202888293 & 2:202888293:G:A  & -5.041667 & 0.004942385 & 1 & chr2\\_201677542\\_203951659  & AD\\_Bellenguez\\_2022\\\\\n",
       "\t chr2  & 202888094 & 202889094 & chr2:202884498:202892690  & hNPC         & ENSG00000138442 & WDR12  & chr2  & 202888349 & 202888349 & 2:202888349:T:C  & -5.033333 & 0.004766691 & 1 & chr2\\_201677542\\_203951659  & AD\\_Bellenguez\\_2022\\\\\n",
       "\t chr8  &  27607034 &  27608034 & chr8:27606436:27608633    & hNPC         & ENSG00000120885 & CLU    & chr8  &  27607412 &  27607412 & 8:27607412:A:G   & 11.952381 & 0.028314120 & 1 & chr8\\_27515963\\_29469590    & AD\\_Bellenguez\\_2022\\\\\n",
       "\t chr8  &  27607034 &  27608034 & chr8:27606436:27608633    & hNPC         & ENSG00000120885 & CLU    & chr8  &  27607795 &  27607795 & 8:27607795:T:C   & 12.072289 & 0.143118125 & 1 & chr8\\_27515963\\_29469590    & AD\\_Bellenguez\\_2022\\\\\n",
       "\t chr2  & 134952676 & 134952845 & chr2:134952676:134952845  & hNPC         & ENSG00000082258 & CCNT2  & chr2  & 134952752 & 134952752 & 2:134952752:A:G  &  4.511905 & 0.009860142 & 1 & chr2\\_134400811\\_137009736  & AD\\_Bellenguez\\_2022\\\\\n",
       "\t chr2  & 134953490 & 134954260 & chr2:134953490:134954260  & hNPC         & ENSG00000082258 & CCNT2  & chr2  & 134953946 & 134953946 & 2:134953946:C:T  &  4.535714 & 0.010923557 & 1 & chr2\\_134400811\\_137009736  & AD\\_Bellenguez\\_2022\\\\\n",
       "\t chr2  & 134953490 & 134954260 & chr2:134953490:134954260  & hNPC         & ENSG00000082258 & CCNT2  & chr2  & 134954087 & 134954087 & 2:134954087:G:A  &  4.511905 & 0.009860142 & 1 & chr2\\_134400811\\_137009736  & AD\\_Bellenguez\\_2022\\\\\n",
       "\t chr2  & 134952717 & 134952798 & chr2:134952717:134952798  & hNPC         & ENSG00000082258 & CCNT2  & chr2  & 134952752 & 134952752 & 2:134952752:A:G  &  4.511905 & 0.009860142 & 1 & chr2\\_134400811\\_137009736  & AD\\_Bellenguez\\_2022\\\\\n",
       "\t chr2  & 134953447 & 134954208 & chr2:134953447:134954208  & hNPC         & ENSG00000082258 & CCNT2  & chr2  & 134953946 & 134953946 & 2:134953946:C:T  &  4.535714 & 0.010923557 & 1 & chr2\\_134400811\\_137009736  & AD\\_Bellenguez\\_2022\\\\\n",
       "\t chr2  & 134953447 & 134954208 & chr2:134953447:134954208  & hNPC         & ENSG00000082258 & CCNT2  & chr2  & 134954087 & 134954087 & 2:134954087:G:A  &  4.511905 & 0.009860142 & 1 & chr2\\_134400811\\_137009736  & AD\\_Bellenguez\\_2022\\\\\n",
       "\t chr2  & 202888099 & 202889099 & chr2:202884498:202892700  & hNPC         & ENSG00000138442 & WDR12  & chr2  & 202888293 & 202888293 & 2:202888293:G:A  & -5.041667 & 0.004942385 & 1 & chr2\\_201677542\\_203951659  & AD\\_Bellenguez\\_2022\\\\\n",
       "\t chr2  & 202888099 & 202889099 & chr2:202884498:202892700  & hNPC         & ENSG00000138442 & WDR12  & chr2  & 202888349 & 202888349 & 2:202888349:T:C  & -5.033333 & 0.004766691 & 1 & chr2\\_201677542\\_203951659  & AD\\_Bellenguez\\_2022\\\\\n",
       "\\end{tabular}\n"
      ],
      "text/markdown": [
       "\n",
       "A data.frame: 91 × 16\n",
       "\n",
       "| chrom &lt;chr&gt; | start &lt;int&gt; | end &lt;int&gt; | hg38_ID &lt;chr&gt; | context &lt;chr&gt; | gene_id &lt;chr&gt; | gene_name &lt;chr&gt; | chr &lt;chr&gt; | start_variant &lt;int&gt; | end_variant &lt;int&gt; | variant_id &lt;chr&gt; | z &lt;dbl&gt; | pip &lt;dbl&gt; | cs_coverage_0.95_min_corr &lt;int&gt; | block &lt;chr&gt; | study &lt;chr&gt; |\n",
       "|---|---|---|---|---|---|---|---|---|---|---|---|---|---|---|---|\n",
       "| chr12 | 113159016 | 113159156 | chr12:113159016:113159156 | brain_cortex | ENSG00000186710 | CFAP73 | chr12 | 113159061 | 113159061 | 12:113159061:G:A |  4.575949 | 0.006127578 | 1 | chr12_112825713_115165608 | AD_Bellenguez_2022 |\n",
       "| chr12 | 113159016 | 113159156 | chr12:113159016:113159156 | brain_cortex | ENSG00000123064 | DDX54  | chr12 | 113159061 | 113159061 | 12:113159061:G:A |  4.575949 | 0.006127578 | 1 | chr12_112825713_115165608 | AD_Bellenguez_2022 |\n",
       "| chr12 | 113159016 | 113159156 | chr12:113159016:113159156 | brain_cortex | ENSG00000186710 | CFAP73 | chr12 | 113159061 | 113159061 | 12:113159061:G:A |  4.575949 | 0.006127578 | 1 | chr12_112825713_115165608 | AD_Bellenguez_2022 |\n",
       "| chr12 | 113159016 | 113159156 | chr12:113159016:113159156 | brain_cortex | ENSG00000123064 | DDX54  | chr12 | 113159061 | 113159061 | 12:113159061:G:A |  4.575949 | 0.006127578 | 1 | chr12_112825713_115165608 | AD_Bellenguez_2022 |\n",
       "| chr12 | 113159016 | 113159156 | chr12:113159016:113159156 | brain_cortex | ENSG00000186710 | CFAP73 | chr12 | 113159061 | 113159061 | 12:113159061:G:A |  4.575949 | 0.006127578 | 1 | chr12_112825713_115165608 | AD_Bellenguez_2022 |\n",
       "| chr12 | 113159016 | 113159156 | chr12:113159016:113159156 | brain_cortex | ENSG00000123064 | DDX54  | chr12 | 113159061 | 113159061 | 12:113159061:G:A |  4.575949 | 0.006127578 | 1 | chr12_112825713_115165608 | AD_Bellenguez_2022 |\n",
       "| chr12 | 113162998 | 113163165 | chr12:113162998:113163165 | brain_cortex | ENSG00000123064 | DDX54  | chr12 | 113163098 | 113163098 | 12:113163098:A:G |  4.483871 | 0.004119767 | 1 | chr12_112825713_115165608 | AD_Bellenguez_2022 |\n",
       "| chr12 | 113162998 | 113163165 | chr12:113162998:113163165 | brain_cortex | ENSG00000123064 | DDX54  | chr12 | 113163135 | 113163135 | 12:113163135:C:T |  4.518987 | 0.004788665 | 1 | chr12_112825713_115165608 | AD_Bellenguez_2022 |\n",
       "| chr12 | 113163184 | 113164127 | chr12:113163184:113164127 | brain_cortex | ENSG00000123064 | DDX54  | chr12 | 113163602 | 113163602 | 12:113163602:T:C |  4.458065 | 0.003691296 | 1 | chr12_112825713_115165608 | AD_Bellenguez_2022 |\n",
       "| chr12 | 113158888 | 113159170 | chr12:113158888:113159170 | brain_cortex | ENSG00000186710 | CFAP73 | chr12 | 113159061 | 113159061 | 12:113159061:G:A |  4.575949 | 0.006127578 | 1 | chr12_112825713_115165608 | AD_Bellenguez_2022 |\n",
       "| chr12 | 113158888 | 113159170 | chr12:113158888:113159170 | brain_cortex | ENSG00000123064 | DDX54  | chr12 | 113159061 | 113159061 | 12:113159061:G:A |  4.575949 | 0.006127578 | 1 | chr12_112825713_115165608 | AD_Bellenguez_2022 |\n",
       "| chr12 | 113158888 | 113159170 | chr12:113158888:113159170 | brain_cortex | ENSG00000186710 | CFAP73 | chr12 | 113159061 | 113159061 | 12:113159061:G:A |  4.575949 | 0.006127578 | 1 | chr12_112825713_115165608 | AD_Bellenguez_2022 |\n",
       "| chr12 | 113158888 | 113159170 | chr12:113158888:113159170 | brain_cortex | ENSG00000123064 | DDX54  | chr12 | 113159061 | 113159061 | 12:113159061:G:A |  4.575949 | 0.006127578 | 1 | chr12_112825713_115165608 | AD_Bellenguez_2022 |\n",
       "| chr12 | 113158888 | 113159170 | chr12:113158888:113159170 | brain_cortex | ENSG00000186710 | CFAP73 | chr12 | 113159061 | 113159061 | 12:113159061:G:A |  4.575949 | 0.006127578 | 1 | chr12_112825713_115165608 | AD_Bellenguez_2022 |\n",
       "| chr12 | 113158888 | 113159170 | chr12:113158888:113159170 | brain_cortex | ENSG00000123064 | DDX54  | chr12 | 113159061 | 113159061 | 12:113159061:G:A |  4.575949 | 0.006127578 | 1 | chr12_112825713_115165608 | AD_Bellenguez_2022 |\n",
       "| chr12 | 113162999 | 113163368 | chr12:113162999:113163368 | brain_cortex | ENSG00000123064 | DDX54  | chr12 | 113163098 | 113163098 | 12:113163098:A:G |  4.483871 | 0.004119767 | 1 | chr12_112825713_115165608 | AD_Bellenguez_2022 |\n",
       "| chr12 | 113162999 | 113163368 | chr12:113162999:113163368 | brain_cortex | ENSG00000123064 | DDX54  | chr12 | 113163135 | 113163135 | 12:113163135:C:T |  4.518987 | 0.004788665 | 1 | chr12_112825713_115165608 | AD_Bellenguez_2022 |\n",
       "| chr12 | 113159016 | 113159156 | chr12:113159016:113159156 | brain_cortex | ENSG00000186710 | CFAP73 | chr12 | 113159061 | 113159061 | 12:113159061:G:A |  4.575949 | 0.006127578 | 1 | chr12_112825713_115165608 | AD_Bellenguez_2022 |\n",
       "| chr12 | 113159016 | 113159156 | chr12:113159016:113159156 | brain_cortex | ENSG00000123064 | DDX54  | chr12 | 113159061 | 113159061 | 12:113159061:G:A |  4.575949 | 0.006127578 | 1 | chr12_112825713_115165608 | AD_Bellenguez_2022 |\n",
       "| chr12 | 113159016 | 113159156 | chr12:113159016:113159156 | brain_cortex | ENSG00000186710 | CFAP73 | chr12 | 113159061 | 113159061 | 12:113159061:G:A |  4.575949 | 0.006127578 | 1 | chr12_112825713_115165608 | AD_Bellenguez_2022 |\n",
       "| chr12 | 113159016 | 113159156 | chr12:113159016:113159156 | brain_cortex | ENSG00000123064 | DDX54  | chr12 | 113159061 | 113159061 | 12:113159061:G:A |  4.575949 | 0.006127578 | 1 | chr12_112825713_115165608 | AD_Bellenguez_2022 |\n",
       "| chr12 | 113159016 | 113159156 | chr12:113159016:113159156 | brain_cortex | ENSG00000186710 | CFAP73 | chr12 | 113159061 | 113159061 | 12:113159061:G:A |  4.575949 | 0.006127578 | 1 | chr12_112825713_115165608 | AD_Bellenguez_2022 |\n",
       "| chr12 | 113159016 | 113159156 | chr12:113159016:113159156 | brain_cortex | ENSG00000123064 | DDX54  | chr12 | 113159061 | 113159061 | 12:113159061:G:A |  4.575949 | 0.006127578 | 1 | chr12_112825713_115165608 | AD_Bellenguez_2022 |\n",
       "| chr12 | 113162998 | 113163165 | chr12:113162998:113163165 | brain_cortex | ENSG00000123064 | DDX54  | chr12 | 113163098 | 113163098 | 12:113163098:A:G |  4.483871 | 0.004119767 | 1 | chr12_112825713_115165608 | AD_Bellenguez_2022 |\n",
       "| chr12 | 113162998 | 113163165 | chr12:113162998:113163165 | brain_cortex | ENSG00000123064 | DDX54  | chr12 | 113163135 | 113163135 | 12:113163135:C:T |  4.518987 | 0.004788665 | 1 | chr12_112825713_115165608 | AD_Bellenguez_2022 |\n",
       "| chr12 | 113163184 | 113164127 | chr12:113163184:113164127 | brain_cortex | ENSG00000123064 | DDX54  | chr12 | 113163602 | 113163602 | 12:113163602:T:C |  4.458065 | 0.003691296 | 1 | chr12_112825713_115165608 | AD_Bellenguez_2022 |\n",
       "| chr2  | 202871461 | 202871765 | chr2:202871461:202871765  | brain_cortex | ENSG00000163596 | ICA1L  | chr2  | 202871528 | 202871528 | 2:202871528:C:G  | -4.991667 | 0.003991468 | 1 | chr2_201677542_203951659  | AD_Bellenguez_2022 |\n",
       "| chr12 | 113158906 | 113159116 | chr12:113158906:113159116 | brain_cortex | ENSG00000186710 | CFAP73 | chr12 | 113159061 | 113159061 | 12:113159061:G:A |  4.575949 | 0.006127578 | 1 | chr12_112825713_115165608 | AD_Bellenguez_2022 |\n",
       "| chr12 | 113158906 | 113159116 | chr12:113158906:113159116 | brain_cortex | ENSG00000123064 | DDX54  | chr12 | 113159061 | 113159061 | 12:113159061:G:A |  4.575949 | 0.006127578 | 1 | chr12_112825713_115165608 | AD_Bellenguez_2022 |\n",
       "| chr12 | 113158906 | 113159116 | chr12:113158906:113159116 | brain_cortex | ENSG00000186710 | CFAP73 | chr12 | 113159061 | 113159061 | 12:113159061:G:A |  4.575949 | 0.006127578 | 1 | chr12_112825713_115165608 | AD_Bellenguez_2022 |\n",
       "| ⋮ | ⋮ | ⋮ | ⋮ | ⋮ | ⋮ | ⋮ | ⋮ | ⋮ | ⋮ | ⋮ | ⋮ | ⋮ | ⋮ | ⋮ | ⋮ |\n",
       "| chr12 | 113163224 | 113164117 | chr12:113163224:113164117 | brain_cortex | ENSG00000123064 | DDX54  | chr12 | 113163602 | 113163602 | 12:113163602:T:C |  4.458065 | 0.003691296 | 1 | chr12_112825713_115165608 | AD_Bellenguez_2022 |\n",
       "| chr19 |   1829160 |   1830160 | chr19:1828583:1830738     | brain_cortex | ENSG00000079313 | REXO1  | chr19 |   1829830 |   1829830 | 19:1829830:G:A   | -5.568182 | 0.037866345 | 1 | chr19_1507536_3368979     | AD_Bellenguez_2022 |\n",
       "| chr12 | 113158741 | 113159173 | chr12:113158741:113159173 | brain_cortex | ENSG00000186710 | CFAP73 | chr12 | 113159061 | 113159061 | 12:113159061:G:A |  4.575949 | 0.006127578 | 1 | chr12_112825713_115165608 | AD_Bellenguez_2022 |\n",
       "| chr12 | 113158741 | 113159173 | chr12:113158741:113159173 | brain_cortex | ENSG00000123064 | DDX54  | chr12 | 113159061 | 113159061 | 12:113159061:G:A |  4.575949 | 0.006127578 | 1 | chr12_112825713_115165608 | AD_Bellenguez_2022 |\n",
       "| chr12 | 113158741 | 113159173 | chr12:113158741:113159173 | brain_cortex | ENSG00000186710 | CFAP73 | chr12 | 113159061 | 113159061 | 12:113159061:G:A |  4.575949 | 0.006127578 | 1 | chr12_112825713_115165608 | AD_Bellenguez_2022 |\n",
       "| chr12 | 113158741 | 113159173 | chr12:113158741:113159173 | brain_cortex | ENSG00000123064 | DDX54  | chr12 | 113159061 | 113159061 | 12:113159061:G:A |  4.575949 | 0.006127578 | 1 | chr12_112825713_115165608 | AD_Bellenguez_2022 |\n",
       "| chr12 | 113158741 | 113159173 | chr12:113158741:113159173 | brain_cortex | ENSG00000186710 | CFAP73 | chr12 | 113159061 | 113159061 | 12:113159061:G:A |  4.575949 | 0.006127578 | 1 | chr12_112825713_115165608 | AD_Bellenguez_2022 |\n",
       "| chr12 | 113158741 | 113159173 | chr12:113158741:113159173 | brain_cortex | ENSG00000123064 | DDX54  | chr12 | 113159061 | 113159061 | 12:113159061:G:A |  4.575949 | 0.006127578 | 1 | chr12_112825713_115165608 | AD_Bellenguez_2022 |\n",
       "| chr12 | 113158986 | 113159156 | chr12:113158986:113159156 | brain_cortex | ENSG00000186710 | CFAP73 | chr12 | 113159061 | 113159061 | 12:113159061:G:A |  4.575949 | 0.006127578 | 1 | chr12_112825713_115165608 | AD_Bellenguez_2022 |\n",
       "| chr12 | 113158986 | 113159156 | chr12:113158986:113159156 | brain_cortex | ENSG00000123064 | DDX54  | chr12 | 113159061 | 113159061 | 12:113159061:G:A |  4.575949 | 0.006127578 | 1 | chr12_112825713_115165608 | AD_Bellenguez_2022 |\n",
       "| chr12 | 113158986 | 113159156 | chr12:113158986:113159156 | brain_cortex | ENSG00000186710 | CFAP73 | chr12 | 113159061 | 113159061 | 12:113159061:G:A |  4.575949 | 0.006127578 | 1 | chr12_112825713_115165608 | AD_Bellenguez_2022 |\n",
       "| chr12 | 113158986 | 113159156 | chr12:113158986:113159156 | brain_cortex | ENSG00000123064 | DDX54  | chr12 | 113159061 | 113159061 | 12:113159061:G:A |  4.575949 | 0.006127578 | 1 | chr12_112825713_115165608 | AD_Bellenguez_2022 |\n",
       "| chr12 | 113158986 | 113159156 | chr12:113158986:113159156 | brain_cortex | ENSG00000186710 | CFAP73 | chr12 | 113159061 | 113159061 | 12:113159061:G:A |  4.575949 | 0.006127578 | 1 | chr12_112825713_115165608 | AD_Bellenguez_2022 |\n",
       "| chr12 | 113158986 | 113159156 | chr12:113158986:113159156 | brain_cortex | ENSG00000123064 | DDX54  | chr12 | 113159061 | 113159061 | 12:113159061:G:A |  4.575949 | 0.006127578 | 1 | chr12_112825713_115165608 | AD_Bellenguez_2022 |\n",
       "| chr12 | 113163224 | 113164117 | chr12:113163224:113164117 | brain_cortex | ENSG00000123064 | DDX54  | chr12 | 113163602 | 113163602 | 12:113163602:T:C |  4.458065 | 0.003691296 | 1 | chr12_112825713_115165608 | AD_Bellenguez_2022 |\n",
       "| chr19 |   1829170 |   1830170 | chr19:1828583:1830758     | brain_cortex | ENSG00000079313 | REXO1  | chr19 |   1829830 |   1829830 | 19:1829830:G:A   | -5.568182 | 0.037866345 | 1 | chr19_1507536_3368979     | AD_Bellenguez_2022 |\n",
       "| chr2  | 134953447 | 134954208 | chr2:134953447:134954208  | hNPC         | ENSG00000082258 | CCNT2  | chr2  | 134953946 | 134953946 | 2:134953946:C:T  |  4.535714 | 0.010923557 | 1 | chr2_134400811_137009736  | AD_Bellenguez_2022 |\n",
       "| chr2  | 134953447 | 134954208 | chr2:134953447:134954208  | hNPC         | ENSG00000082258 | CCNT2  | chr2  | 134954087 | 134954087 | 2:134954087:G:A  |  4.511905 | 0.009860142 | 1 | chr2_134400811_137009736  | AD_Bellenguez_2022 |\n",
       "| chr2  | 202888094 | 202889094 | chr2:202884498:202892690  | hNPC         | ENSG00000138442 | WDR12  | chr2  | 202888293 | 202888293 | 2:202888293:G:A  | -5.041667 | 0.004942385 | 1 | chr2_201677542_203951659  | AD_Bellenguez_2022 |\n",
       "| chr2  | 202888094 | 202889094 | chr2:202884498:202892690  | hNPC         | ENSG00000138442 | WDR12  | chr2  | 202888349 | 202888349 | 2:202888349:T:C  | -5.033333 | 0.004766691 | 1 | chr2_201677542_203951659  | AD_Bellenguez_2022 |\n",
       "| chr8  |  27607034 |  27608034 | chr8:27606436:27608633    | hNPC         | ENSG00000120885 | CLU    | chr8  |  27607412 |  27607412 | 8:27607412:A:G   | 11.952381 | 0.028314120 | 1 | chr8_27515963_29469590    | AD_Bellenguez_2022 |\n",
       "| chr8  |  27607034 |  27608034 | chr8:27606436:27608633    | hNPC         | ENSG00000120885 | CLU    | chr8  |  27607795 |  27607795 | 8:27607795:T:C   | 12.072289 | 0.143118125 | 1 | chr8_27515963_29469590    | AD_Bellenguez_2022 |\n",
       "| chr2  | 134952676 | 134952845 | chr2:134952676:134952845  | hNPC         | ENSG00000082258 | CCNT2  | chr2  | 134952752 | 134952752 | 2:134952752:A:G  |  4.511905 | 0.009860142 | 1 | chr2_134400811_137009736  | AD_Bellenguez_2022 |\n",
       "| chr2  | 134953490 | 134954260 | chr2:134953490:134954260  | hNPC         | ENSG00000082258 | CCNT2  | chr2  | 134953946 | 134953946 | 2:134953946:C:T  |  4.535714 | 0.010923557 | 1 | chr2_134400811_137009736  | AD_Bellenguez_2022 |\n",
       "| chr2  | 134953490 | 134954260 | chr2:134953490:134954260  | hNPC         | ENSG00000082258 | CCNT2  | chr2  | 134954087 | 134954087 | 2:134954087:G:A  |  4.511905 | 0.009860142 | 1 | chr2_134400811_137009736  | AD_Bellenguez_2022 |\n",
       "| chr2  | 134952717 | 134952798 | chr2:134952717:134952798  | hNPC         | ENSG00000082258 | CCNT2  | chr2  | 134952752 | 134952752 | 2:134952752:A:G  |  4.511905 | 0.009860142 | 1 | chr2_134400811_137009736  | AD_Bellenguez_2022 |\n",
       "| chr2  | 134953447 | 134954208 | chr2:134953447:134954208  | hNPC         | ENSG00000082258 | CCNT2  | chr2  | 134953946 | 134953946 | 2:134953946:C:T  |  4.535714 | 0.010923557 | 1 | chr2_134400811_137009736  | AD_Bellenguez_2022 |\n",
       "| chr2  | 134953447 | 134954208 | chr2:134953447:134954208  | hNPC         | ENSG00000082258 | CCNT2  | chr2  | 134954087 | 134954087 | 2:134954087:G:A  |  4.511905 | 0.009860142 | 1 | chr2_134400811_137009736  | AD_Bellenguez_2022 |\n",
       "| chr2  | 202888099 | 202889099 | chr2:202884498:202892700  | hNPC         | ENSG00000138442 | WDR12  | chr2  | 202888293 | 202888293 | 2:202888293:G:A  | -5.041667 | 0.004942385 | 1 | chr2_201677542_203951659  | AD_Bellenguez_2022 |\n",
       "| chr2  | 202888099 | 202889099 | chr2:202884498:202892700  | hNPC         | ENSG00000138442 | WDR12  | chr2  | 202888349 | 202888349 | 2:202888349:T:C  | -5.033333 | 0.004766691 | 1 | chr2_201677542_203951659  | AD_Bellenguez_2022 |\n",
       "\n"
      ],
      "text/plain": [
       "   chrom start     end       hg38_ID                   context     \n",
       "1  chr12 113159016 113159156 chr12:113159016:113159156 brain_cortex\n",
       "2  chr12 113159016 113159156 chr12:113159016:113159156 brain_cortex\n",
       "3  chr12 113159016 113159156 chr12:113159016:113159156 brain_cortex\n",
       "4  chr12 113159016 113159156 chr12:113159016:113159156 brain_cortex\n",
       "5  chr12 113159016 113159156 chr12:113159016:113159156 brain_cortex\n",
       "6  chr12 113159016 113159156 chr12:113159016:113159156 brain_cortex\n",
       "7  chr12 113162998 113163165 chr12:113162998:113163165 brain_cortex\n",
       "8  chr12 113162998 113163165 chr12:113162998:113163165 brain_cortex\n",
       "9  chr12 113163184 113164127 chr12:113163184:113164127 brain_cortex\n",
       "10 chr12 113158888 113159170 chr12:113158888:113159170 brain_cortex\n",
       "11 chr12 113158888 113159170 chr12:113158888:113159170 brain_cortex\n",
       "12 chr12 113158888 113159170 chr12:113158888:113159170 brain_cortex\n",
       "13 chr12 113158888 113159170 chr12:113158888:113159170 brain_cortex\n",
       "14 chr12 113158888 113159170 chr12:113158888:113159170 brain_cortex\n",
       "15 chr12 113158888 113159170 chr12:113158888:113159170 brain_cortex\n",
       "16 chr12 113162999 113163368 chr12:113162999:113163368 brain_cortex\n",
       "17 chr12 113162999 113163368 chr12:113162999:113163368 brain_cortex\n",
       "18 chr12 113159016 113159156 chr12:113159016:113159156 brain_cortex\n",
       "19 chr12 113159016 113159156 chr12:113159016:113159156 brain_cortex\n",
       "20 chr12 113159016 113159156 chr12:113159016:113159156 brain_cortex\n",
       "21 chr12 113159016 113159156 chr12:113159016:113159156 brain_cortex\n",
       "22 chr12 113159016 113159156 chr12:113159016:113159156 brain_cortex\n",
       "23 chr12 113159016 113159156 chr12:113159016:113159156 brain_cortex\n",
       "24 chr12 113162998 113163165 chr12:113162998:113163165 brain_cortex\n",
       "25 chr12 113162998 113163165 chr12:113162998:113163165 brain_cortex\n",
       "26 chr12 113163184 113164127 chr12:113163184:113164127 brain_cortex\n",
       "27 chr2  202871461 202871765 chr2:202871461:202871765  brain_cortex\n",
       "28 chr12 113158906 113159116 chr12:113158906:113159116 brain_cortex\n",
       "29 chr12 113158906 113159116 chr12:113158906:113159116 brain_cortex\n",
       "30 chr12 113158906 113159116 chr12:113158906:113159116 brain_cortex\n",
       "⋮  ⋮     ⋮         ⋮         ⋮                         ⋮           \n",
       "62 chr12 113163224 113164117 chr12:113163224:113164117 brain_cortex\n",
       "63 chr19   1829160   1830160 chr19:1828583:1830738     brain_cortex\n",
       "64 chr12 113158741 113159173 chr12:113158741:113159173 brain_cortex\n",
       "65 chr12 113158741 113159173 chr12:113158741:113159173 brain_cortex\n",
       "66 chr12 113158741 113159173 chr12:113158741:113159173 brain_cortex\n",
       "67 chr12 113158741 113159173 chr12:113158741:113159173 brain_cortex\n",
       "68 chr12 113158741 113159173 chr12:113158741:113159173 brain_cortex\n",
       "69 chr12 113158741 113159173 chr12:113158741:113159173 brain_cortex\n",
       "70 chr12 113158986 113159156 chr12:113158986:113159156 brain_cortex\n",
       "71 chr12 113158986 113159156 chr12:113158986:113159156 brain_cortex\n",
       "72 chr12 113158986 113159156 chr12:113158986:113159156 brain_cortex\n",
       "73 chr12 113158986 113159156 chr12:113158986:113159156 brain_cortex\n",
       "74 chr12 113158986 113159156 chr12:113158986:113159156 brain_cortex\n",
       "75 chr12 113158986 113159156 chr12:113158986:113159156 brain_cortex\n",
       "76 chr12 113163224 113164117 chr12:113163224:113164117 brain_cortex\n",
       "77 chr19   1829170   1830170 chr19:1828583:1830758     brain_cortex\n",
       "78 chr2  134953447 134954208 chr2:134953447:134954208  hNPC        \n",
       "79 chr2  134953447 134954208 chr2:134953447:134954208  hNPC        \n",
       "80 chr2  202888094 202889094 chr2:202884498:202892690  hNPC        \n",
       "81 chr2  202888094 202889094 chr2:202884498:202892690  hNPC        \n",
       "82 chr8   27607034  27608034 chr8:27606436:27608633    hNPC        \n",
       "83 chr8   27607034  27608034 chr8:27606436:27608633    hNPC        \n",
       "84 chr2  134952676 134952845 chr2:134952676:134952845  hNPC        \n",
       "85 chr2  134953490 134954260 chr2:134953490:134954260  hNPC        \n",
       "86 chr2  134953490 134954260 chr2:134953490:134954260  hNPC        \n",
       "87 chr2  134952717 134952798 chr2:134952717:134952798  hNPC        \n",
       "88 chr2  134953447 134954208 chr2:134953447:134954208  hNPC        \n",
       "89 chr2  134953447 134954208 chr2:134953447:134954208  hNPC        \n",
       "90 chr2  202888099 202889099 chr2:202884498:202892700  hNPC        \n",
       "91 chr2  202888099 202889099 chr2:202884498:202892700  hNPC        \n",
       "   gene_id         gene_name chr   start_variant end_variant variant_id      \n",
       "1  ENSG00000186710 CFAP73    chr12 113159061     113159061   12:113159061:G:A\n",
       "2  ENSG00000123064 DDX54     chr12 113159061     113159061   12:113159061:G:A\n",
       "3  ENSG00000186710 CFAP73    chr12 113159061     113159061   12:113159061:G:A\n",
       "4  ENSG00000123064 DDX54     chr12 113159061     113159061   12:113159061:G:A\n",
       "5  ENSG00000186710 CFAP73    chr12 113159061     113159061   12:113159061:G:A\n",
       "6  ENSG00000123064 DDX54     chr12 113159061     113159061   12:113159061:G:A\n",
       "7  ENSG00000123064 DDX54     chr12 113163098     113163098   12:113163098:A:G\n",
       "8  ENSG00000123064 DDX54     chr12 113163135     113163135   12:113163135:C:T\n",
       "9  ENSG00000123064 DDX54     chr12 113163602     113163602   12:113163602:T:C\n",
       "10 ENSG00000186710 CFAP73    chr12 113159061     113159061   12:113159061:G:A\n",
       "11 ENSG00000123064 DDX54     chr12 113159061     113159061   12:113159061:G:A\n",
       "12 ENSG00000186710 CFAP73    chr12 113159061     113159061   12:113159061:G:A\n",
       "13 ENSG00000123064 DDX54     chr12 113159061     113159061   12:113159061:G:A\n",
       "14 ENSG00000186710 CFAP73    chr12 113159061     113159061   12:113159061:G:A\n",
       "15 ENSG00000123064 DDX54     chr12 113159061     113159061   12:113159061:G:A\n",
       "16 ENSG00000123064 DDX54     chr12 113163098     113163098   12:113163098:A:G\n",
       "17 ENSG00000123064 DDX54     chr12 113163135     113163135   12:113163135:C:T\n",
       "18 ENSG00000186710 CFAP73    chr12 113159061     113159061   12:113159061:G:A\n",
       "19 ENSG00000123064 DDX54     chr12 113159061     113159061   12:113159061:G:A\n",
       "20 ENSG00000186710 CFAP73    chr12 113159061     113159061   12:113159061:G:A\n",
       "21 ENSG00000123064 DDX54     chr12 113159061     113159061   12:113159061:G:A\n",
       "22 ENSG00000186710 CFAP73    chr12 113159061     113159061   12:113159061:G:A\n",
       "23 ENSG00000123064 DDX54     chr12 113159061     113159061   12:113159061:G:A\n",
       "24 ENSG00000123064 DDX54     chr12 113163098     113163098   12:113163098:A:G\n",
       "25 ENSG00000123064 DDX54     chr12 113163135     113163135   12:113163135:C:T\n",
       "26 ENSG00000123064 DDX54     chr12 113163602     113163602   12:113163602:T:C\n",
       "27 ENSG00000163596 ICA1L     chr2  202871528     202871528   2:202871528:C:G \n",
       "28 ENSG00000186710 CFAP73    chr12 113159061     113159061   12:113159061:G:A\n",
       "29 ENSG00000123064 DDX54     chr12 113159061     113159061   12:113159061:G:A\n",
       "30 ENSG00000186710 CFAP73    chr12 113159061     113159061   12:113159061:G:A\n",
       "⋮  ⋮               ⋮         ⋮     ⋮             ⋮           ⋮               \n",
       "62 ENSG00000123064 DDX54     chr12 113163602     113163602   12:113163602:T:C\n",
       "63 ENSG00000079313 REXO1     chr19   1829830       1829830   19:1829830:G:A  \n",
       "64 ENSG00000186710 CFAP73    chr12 113159061     113159061   12:113159061:G:A\n",
       "65 ENSG00000123064 DDX54     chr12 113159061     113159061   12:113159061:G:A\n",
       "66 ENSG00000186710 CFAP73    chr12 113159061     113159061   12:113159061:G:A\n",
       "67 ENSG00000123064 DDX54     chr12 113159061     113159061   12:113159061:G:A\n",
       "68 ENSG00000186710 CFAP73    chr12 113159061     113159061   12:113159061:G:A\n",
       "69 ENSG00000123064 DDX54     chr12 113159061     113159061   12:113159061:G:A\n",
       "70 ENSG00000186710 CFAP73    chr12 113159061     113159061   12:113159061:G:A\n",
       "71 ENSG00000123064 DDX54     chr12 113159061     113159061   12:113159061:G:A\n",
       "72 ENSG00000186710 CFAP73    chr12 113159061     113159061   12:113159061:G:A\n",
       "73 ENSG00000123064 DDX54     chr12 113159061     113159061   12:113159061:G:A\n",
       "74 ENSG00000186710 CFAP73    chr12 113159061     113159061   12:113159061:G:A\n",
       "75 ENSG00000123064 DDX54     chr12 113159061     113159061   12:113159061:G:A\n",
       "76 ENSG00000123064 DDX54     chr12 113163602     113163602   12:113163602:T:C\n",
       "77 ENSG00000079313 REXO1     chr19   1829830       1829830   19:1829830:G:A  \n",
       "78 ENSG00000082258 CCNT2     chr2  134953946     134953946   2:134953946:C:T \n",
       "79 ENSG00000082258 CCNT2     chr2  134954087     134954087   2:134954087:G:A \n",
       "80 ENSG00000138442 WDR12     chr2  202888293     202888293   2:202888293:G:A \n",
       "81 ENSG00000138442 WDR12     chr2  202888349     202888349   2:202888349:T:C \n",
       "82 ENSG00000120885 CLU       chr8   27607412      27607412   8:27607412:A:G  \n",
       "83 ENSG00000120885 CLU       chr8   27607795      27607795   8:27607795:T:C  \n",
       "84 ENSG00000082258 CCNT2     chr2  134952752     134952752   2:134952752:A:G \n",
       "85 ENSG00000082258 CCNT2     chr2  134953946     134953946   2:134953946:C:T \n",
       "86 ENSG00000082258 CCNT2     chr2  134954087     134954087   2:134954087:G:A \n",
       "87 ENSG00000082258 CCNT2     chr2  134952752     134952752   2:134952752:A:G \n",
       "88 ENSG00000082258 CCNT2     chr2  134953946     134953946   2:134953946:C:T \n",
       "89 ENSG00000082258 CCNT2     chr2  134954087     134954087   2:134954087:G:A \n",
       "90 ENSG00000138442 WDR12     chr2  202888293     202888293   2:202888293:G:A \n",
       "91 ENSG00000138442 WDR12     chr2  202888349     202888349   2:202888349:T:C \n",
       "   z         pip         cs_coverage_0.95_min_corr block                    \n",
       "1   4.575949 0.006127578 1                         chr12_112825713_115165608\n",
       "2   4.575949 0.006127578 1                         chr12_112825713_115165608\n",
       "3   4.575949 0.006127578 1                         chr12_112825713_115165608\n",
       "4   4.575949 0.006127578 1                         chr12_112825713_115165608\n",
       "5   4.575949 0.006127578 1                         chr12_112825713_115165608\n",
       "6   4.575949 0.006127578 1                         chr12_112825713_115165608\n",
       "7   4.483871 0.004119767 1                         chr12_112825713_115165608\n",
       "8   4.518987 0.004788665 1                         chr12_112825713_115165608\n",
       "9   4.458065 0.003691296 1                         chr12_112825713_115165608\n",
       "10  4.575949 0.006127578 1                         chr12_112825713_115165608\n",
       "11  4.575949 0.006127578 1                         chr12_112825713_115165608\n",
       "12  4.575949 0.006127578 1                         chr12_112825713_115165608\n",
       "13  4.575949 0.006127578 1                         chr12_112825713_115165608\n",
       "14  4.575949 0.006127578 1                         chr12_112825713_115165608\n",
       "15  4.575949 0.006127578 1                         chr12_112825713_115165608\n",
       "16  4.483871 0.004119767 1                         chr12_112825713_115165608\n",
       "17  4.518987 0.004788665 1                         chr12_112825713_115165608\n",
       "18  4.575949 0.006127578 1                         chr12_112825713_115165608\n",
       "19  4.575949 0.006127578 1                         chr12_112825713_115165608\n",
       "20  4.575949 0.006127578 1                         chr12_112825713_115165608\n",
       "21  4.575949 0.006127578 1                         chr12_112825713_115165608\n",
       "22  4.575949 0.006127578 1                         chr12_112825713_115165608\n",
       "23  4.575949 0.006127578 1                         chr12_112825713_115165608\n",
       "24  4.483871 0.004119767 1                         chr12_112825713_115165608\n",
       "25  4.518987 0.004788665 1                         chr12_112825713_115165608\n",
       "26  4.458065 0.003691296 1                         chr12_112825713_115165608\n",
       "27 -4.991667 0.003991468 1                         chr2_201677542_203951659 \n",
       "28  4.575949 0.006127578 1                         chr12_112825713_115165608\n",
       "29  4.575949 0.006127578 1                         chr12_112825713_115165608\n",
       "30  4.575949 0.006127578 1                         chr12_112825713_115165608\n",
       "⋮  ⋮         ⋮           ⋮                         ⋮                        \n",
       "62  4.458065 0.003691296 1                         chr12_112825713_115165608\n",
       "63 -5.568182 0.037866345 1                         chr19_1507536_3368979    \n",
       "64  4.575949 0.006127578 1                         chr12_112825713_115165608\n",
       "65  4.575949 0.006127578 1                         chr12_112825713_115165608\n",
       "66  4.575949 0.006127578 1                         chr12_112825713_115165608\n",
       "67  4.575949 0.006127578 1                         chr12_112825713_115165608\n",
       "68  4.575949 0.006127578 1                         chr12_112825713_115165608\n",
       "69  4.575949 0.006127578 1                         chr12_112825713_115165608\n",
       "70  4.575949 0.006127578 1                         chr12_112825713_115165608\n",
       "71  4.575949 0.006127578 1                         chr12_112825713_115165608\n",
       "72  4.575949 0.006127578 1                         chr12_112825713_115165608\n",
       "73  4.575949 0.006127578 1                         chr12_112825713_115165608\n",
       "74  4.575949 0.006127578 1                         chr12_112825713_115165608\n",
       "75  4.575949 0.006127578 1                         chr12_112825713_115165608\n",
       "76  4.458065 0.003691296 1                         chr12_112825713_115165608\n",
       "77 -5.568182 0.037866345 1                         chr19_1507536_3368979    \n",
       "78  4.535714 0.010923557 1                         chr2_134400811_137009736 \n",
       "79  4.511905 0.009860142 1                         chr2_134400811_137009736 \n",
       "80 -5.041667 0.004942385 1                         chr2_201677542_203951659 \n",
       "81 -5.033333 0.004766691 1                         chr2_201677542_203951659 \n",
       "82 11.952381 0.028314120 1                         chr8_27515963_29469590   \n",
       "83 12.072289 0.143118125 1                         chr8_27515963_29469590   \n",
       "84  4.511905 0.009860142 1                         chr2_134400811_137009736 \n",
       "85  4.535714 0.010923557 1                         chr2_134400811_137009736 \n",
       "86  4.511905 0.009860142 1                         chr2_134400811_137009736 \n",
       "87  4.511905 0.009860142 1                         chr2_134400811_137009736 \n",
       "88  4.535714 0.010923557 1                         chr2_134400811_137009736 \n",
       "89  4.511905 0.009860142 1                         chr2_134400811_137009736 \n",
       "90 -5.041667 0.004942385 1                         chr2_201677542_203951659 \n",
       "91 -5.033333 0.004766691 1                         chr2_201677542_203951659 \n",
       "   study             \n",
       "1  AD_Bellenguez_2022\n",
       "2  AD_Bellenguez_2022\n",
       "3  AD_Bellenguez_2022\n",
       "4  AD_Bellenguez_2022\n",
       "5  AD_Bellenguez_2022\n",
       "6  AD_Bellenguez_2022\n",
       "7  AD_Bellenguez_2022\n",
       "8  AD_Bellenguez_2022\n",
       "9  AD_Bellenguez_2022\n",
       "10 AD_Bellenguez_2022\n",
       "11 AD_Bellenguez_2022\n",
       "12 AD_Bellenguez_2022\n",
       "13 AD_Bellenguez_2022\n",
       "14 AD_Bellenguez_2022\n",
       "15 AD_Bellenguez_2022\n",
       "16 AD_Bellenguez_2022\n",
       "17 AD_Bellenguez_2022\n",
       "18 AD_Bellenguez_2022\n",
       "19 AD_Bellenguez_2022\n",
       "20 AD_Bellenguez_2022\n",
       "21 AD_Bellenguez_2022\n",
       "22 AD_Bellenguez_2022\n",
       "23 AD_Bellenguez_2022\n",
       "24 AD_Bellenguez_2022\n",
       "25 AD_Bellenguez_2022\n",
       "26 AD_Bellenguez_2022\n",
       "27 AD_Bellenguez_2022\n",
       "28 AD_Bellenguez_2022\n",
       "29 AD_Bellenguez_2022\n",
       "30 AD_Bellenguez_2022\n",
       "⋮  ⋮                 \n",
       "62 AD_Bellenguez_2022\n",
       "63 AD_Bellenguez_2022\n",
       "64 AD_Bellenguez_2022\n",
       "65 AD_Bellenguez_2022\n",
       "66 AD_Bellenguez_2022\n",
       "67 AD_Bellenguez_2022\n",
       "68 AD_Bellenguez_2022\n",
       "69 AD_Bellenguez_2022\n",
       "70 AD_Bellenguez_2022\n",
       "71 AD_Bellenguez_2022\n",
       "72 AD_Bellenguez_2022\n",
       "73 AD_Bellenguez_2022\n",
       "74 AD_Bellenguez_2022\n",
       "75 AD_Bellenguez_2022\n",
       "76 AD_Bellenguez_2022\n",
       "77 AD_Bellenguez_2022\n",
       "78 AD_Bellenguez_2022\n",
       "79 AD_Bellenguez_2022\n",
       "80 AD_Bellenguez_2022\n",
       "81 AD_Bellenguez_2022\n",
       "82 AD_Bellenguez_2022\n",
       "83 AD_Bellenguez_2022\n",
       "84 AD_Bellenguez_2022\n",
       "85 AD_Bellenguez_2022\n",
       "86 AD_Bellenguez_2022\n",
       "87 AD_Bellenguez_2022\n",
       "88 AD_Bellenguez_2022\n",
       "89 AD_Bellenguez_2022\n",
       "90 AD_Bellenguez_2022\n",
       "91 AD_Bellenguez_2022"
      ]
     },
     "metadata": {},
     "output_type": "display_data"
    }
   ],
   "source": [
    "m6a_gene_bed_ad"
   ]
  },
  {
   "cell_type": "markdown",
   "id": "0a4bdc38-1c4d-4b7f-9528-71769e9209b1",
   "metadata": {
    "kernel": "R"
   },
   "source": [
    "### load GWAS sumstats to get all GWAS variants "
   ]
  },
  {
   "cell_type": "code",
   "execution_count": 37,
   "id": "0f275711-04f3-43cf-8047-05c0d4144a87",
   "metadata": {
    "kernel": "R"
   },
   "outputs": [],
   "source": [
    "all_gwas <- fread('/mnt/vast/hpc/csg/hs3393/RSS_QC/GWAS_finemapping_Apr9/RSS_QC_RAISS_imputed_concatenate_result/AD_Bellenguez_2022_RSS_QC_RAISS_imputed.tsv.gz')"
   ]
  },
  {
   "cell_type": "code",
   "execution_count": 38,
   "id": "85106c13-603a-4020-8193-6b96dcc0ed05",
   "metadata": {
    "kernel": "R"
   },
   "outputs": [],
   "source": [
    "# extract the GWAS table without AD loci\n",
    "non_ad_df <- all_gwas %>% filter(!(variant_id %in% gwas[gwas$study =='AD_Bellenguez_2022',]$variant_id))%>% \n",
    "            mutate(chr = str_split(variant_id, \":\", simplify = T) %>% .[,1] %>% paste0(\"chr\",.),\n",
    "                pos = str_split(variant_id, \":\", simplify = T) %>% .[,2] %>% as.numeric) "
   ]
  },
  {
   "cell_type": "markdown",
   "id": "27b49772-c9b9-4af2-8276-9181e969b518",
   "metadata": {
    "kernel": "R"
   },
   "source": [
    "### map the m6a region to non-AD GWAS table"
   ]
  },
  {
   "cell_type": "code",
   "execution_count": 39,
   "id": "a31deef0-1b69-4714-af68-abfa74a5595f",
   "metadata": {
    "kernel": "R"
   },
   "outputs": [],
   "source": [
    "m6a_gene_anno_bed <- m6a_gene_anno[, c(\"V1\", \"start\", \"end\", \"hg38_ID\", \"context\", \"gene_id\", \"gene_name\")]\n",
    "non_adgwas_bed <- non_ad_df[, .(chr, start_variant = as.integer(pos), end_variant = as.integer(pos), variant_id)]\n",
    "\n",
    "m6a_non_gene_bed_ad <- bt.intersect(a = m6a_gene_anno_bed, b = non_adgwas_bed, wa = T, wb = T) "
   ]
  },
  {
   "cell_type": "code",
   "execution_count": 40,
   "id": "ddff43da-8dbc-409a-a214-65bd4dd21818",
   "metadata": {
    "kernel": "R"
   },
   "outputs": [
    {
     "data": {
      "text/html": [
       "<table class=\"dataframe\">\n",
       "<caption>A data.frame: 6 × 11</caption>\n",
       "<thead>\n",
       "\t<tr><th></th><th scope=col>chrom</th><th scope=col>start</th><th scope=col>end</th><th scope=col>hg38_ID</th><th scope=col>context</th><th scope=col>gene_id</th><th scope=col>gene_name</th><th scope=col>chr</th><th scope=col>start_variant</th><th scope=col>end_variant</th><th scope=col>variant_id</th></tr>\n",
       "\t<tr><th></th><th scope=col>&lt;chr&gt;</th><th scope=col>&lt;int&gt;</th><th scope=col>&lt;int&gt;</th><th scope=col>&lt;chr&gt;</th><th scope=col>&lt;chr&gt;</th><th scope=col>&lt;chr&gt;</th><th scope=col>&lt;chr&gt;</th><th scope=col>&lt;chr&gt;</th><th scope=col>&lt;int&gt;</th><th scope=col>&lt;int&gt;</th><th scope=col>&lt;chr&gt;</th></tr>\n",
       "</thead>\n",
       "<tbody>\n",
       "\t<tr><th scope=row>1</th><td>chr1</td><td>923957</td><td>924278</td><td>chr1:923957:924278</td><td>brain_cortex</td><td>ENSG00000187634</td><td>SAMD11</td><td>chr1</td><td>924024</td><td>924024</td><td>1:924024:C:G</td></tr>\n",
       "\t<tr><th scope=row>2</th><td>chr1</td><td>923957</td><td>924278</td><td>chr1:923957:924278</td><td>brain_cortex</td><td>ENSG00000187634</td><td>SAMD11</td><td>chr1</td><td>924090</td><td>924090</td><td>1:924090:G:A</td></tr>\n",
       "\t<tr><th scope=row>3</th><td>chr1</td><td>924836</td><td>925188</td><td>chr1:924836:925188</td><td>brain_cortex</td><td>ENSG00000187634</td><td>SAMD11</td><td>chr1</td><td>924983</td><td>924983</td><td>1:924983:C:T</td></tr>\n",
       "\t<tr><th scope=row>4</th><td>chr1</td><td>924836</td><td>925188</td><td>chr1:924836:925188</td><td>brain_cortex</td><td>ENSG00000187634</td><td>SAMD11</td><td>chr1</td><td>925036</td><td>925036</td><td>1:925036:G:A</td></tr>\n",
       "\t<tr><th scope=row>5</th><td>chr1</td><td>924836</td><td>925188</td><td>chr1:924836:925188</td><td>brain_cortex</td><td>ENSG00000187634</td><td>SAMD11</td><td>chr1</td><td>925081</td><td>925081</td><td>1:925081:G:A</td></tr>\n",
       "\t<tr><th scope=row>6</th><td>chr1</td><td>924836</td><td>925188</td><td>chr1:924836:925188</td><td>brain_cortex</td><td>ENSG00000187634</td><td>SAMD11</td><td>chr1</td><td>925141</td><td>925141</td><td>1:925141:C:A</td></tr>\n",
       "</tbody>\n",
       "</table>\n"
      ],
      "text/latex": [
       "A data.frame: 6 × 11\n",
       "\\begin{tabular}{r|lllllllllll}\n",
       "  & chrom & start & end & hg38\\_ID & context & gene\\_id & gene\\_name & chr & start\\_variant & end\\_variant & variant\\_id\\\\\n",
       "  & <chr> & <int> & <int> & <chr> & <chr> & <chr> & <chr> & <chr> & <int> & <int> & <chr>\\\\\n",
       "\\hline\n",
       "\t1 & chr1 & 923957 & 924278 & chr1:923957:924278 & brain\\_cortex & ENSG00000187634 & SAMD11 & chr1 & 924024 & 924024 & 1:924024:C:G\\\\\n",
       "\t2 & chr1 & 923957 & 924278 & chr1:923957:924278 & brain\\_cortex & ENSG00000187634 & SAMD11 & chr1 & 924090 & 924090 & 1:924090:G:A\\\\\n",
       "\t3 & chr1 & 924836 & 925188 & chr1:924836:925188 & brain\\_cortex & ENSG00000187634 & SAMD11 & chr1 & 924983 & 924983 & 1:924983:C:T\\\\\n",
       "\t4 & chr1 & 924836 & 925188 & chr1:924836:925188 & brain\\_cortex & ENSG00000187634 & SAMD11 & chr1 & 925036 & 925036 & 1:925036:G:A\\\\\n",
       "\t5 & chr1 & 924836 & 925188 & chr1:924836:925188 & brain\\_cortex & ENSG00000187634 & SAMD11 & chr1 & 925081 & 925081 & 1:925081:G:A\\\\\n",
       "\t6 & chr1 & 924836 & 925188 & chr1:924836:925188 & brain\\_cortex & ENSG00000187634 & SAMD11 & chr1 & 925141 & 925141 & 1:925141:C:A\\\\\n",
       "\\end{tabular}\n"
      ],
      "text/markdown": [
       "\n",
       "A data.frame: 6 × 11\n",
       "\n",
       "| <!--/--> | chrom &lt;chr&gt; | start &lt;int&gt; | end &lt;int&gt; | hg38_ID &lt;chr&gt; | context &lt;chr&gt; | gene_id &lt;chr&gt; | gene_name &lt;chr&gt; | chr &lt;chr&gt; | start_variant &lt;int&gt; | end_variant &lt;int&gt; | variant_id &lt;chr&gt; |\n",
       "|---|---|---|---|---|---|---|---|---|---|---|---|\n",
       "| 1 | chr1 | 923957 | 924278 | chr1:923957:924278 | brain_cortex | ENSG00000187634 | SAMD11 | chr1 | 924024 | 924024 | 1:924024:C:G |\n",
       "| 2 | chr1 | 923957 | 924278 | chr1:923957:924278 | brain_cortex | ENSG00000187634 | SAMD11 | chr1 | 924090 | 924090 | 1:924090:G:A |\n",
       "| 3 | chr1 | 924836 | 925188 | chr1:924836:925188 | brain_cortex | ENSG00000187634 | SAMD11 | chr1 | 924983 | 924983 | 1:924983:C:T |\n",
       "| 4 | chr1 | 924836 | 925188 | chr1:924836:925188 | brain_cortex | ENSG00000187634 | SAMD11 | chr1 | 925036 | 925036 | 1:925036:G:A |\n",
       "| 5 | chr1 | 924836 | 925188 | chr1:924836:925188 | brain_cortex | ENSG00000187634 | SAMD11 | chr1 | 925081 | 925081 | 1:925081:G:A |\n",
       "| 6 | chr1 | 924836 | 925188 | chr1:924836:925188 | brain_cortex | ENSG00000187634 | SAMD11 | chr1 | 925141 | 925141 | 1:925141:C:A |\n",
       "\n"
      ],
      "text/plain": [
       "  chrom start  end    hg38_ID            context      gene_id         gene_name\n",
       "1 chr1  923957 924278 chr1:923957:924278 brain_cortex ENSG00000187634 SAMD11   \n",
       "2 chr1  923957 924278 chr1:923957:924278 brain_cortex ENSG00000187634 SAMD11   \n",
       "3 chr1  924836 925188 chr1:924836:925188 brain_cortex ENSG00000187634 SAMD11   \n",
       "4 chr1  924836 925188 chr1:924836:925188 brain_cortex ENSG00000187634 SAMD11   \n",
       "5 chr1  924836 925188 chr1:924836:925188 brain_cortex ENSG00000187634 SAMD11   \n",
       "6 chr1  924836 925188 chr1:924836:925188 brain_cortex ENSG00000187634 SAMD11   \n",
       "  chr  start_variant end_variant variant_id  \n",
       "1 chr1 924024        924024      1:924024:C:G\n",
       "2 chr1 924090        924090      1:924090:G:A\n",
       "3 chr1 924983        924983      1:924983:C:T\n",
       "4 chr1 925036        925036      1:925036:G:A\n",
       "5 chr1 925081        925081      1:925081:G:A\n",
       "6 chr1 925141        925141      1:925141:C:A"
      ]
     },
     "metadata": {},
     "output_type": "display_data"
    }
   ],
   "source": [
    "colnames(m6a_non_gene_bed_ad) <- c(\"chrom\", \"start\", \"end\", \"hg38_ID\", \"context\", \"gene_id\", \"gene_name\", colnames(non_adgwas_bed))\n",
    "m6a_non_gene_bed_ad %>% head"
   ]
  },
  {
   "cell_type": "markdown",
   "id": "924d0846-eeb0-45af-9de5-8085e010da18",
   "metadata": {
    "kernel": "R"
   },
   "source": [
    "### Enrichment analysis with fisher test\n",
    "To generate 2x2 table:    \n",
    "- ad_m6a: The number of variants within both AD loci and are m6A sites.\n",
    "- ad_non_m6a: The number of variants within AD loci but not m6A sites.\n",
    "- m6a_non_ad: The number of variants outside of AD loci but are m6A sites.\n",
    "- non_m6a_non_ad: The number variants outside of AD loci also not m6A sites.\n",
    "    \n",
    "The first two categories can be calculated by finding the intersection between the m6A regions and the AD GWAS loci. The latter two categories can be calculated by finding the intersection between the m6A regions and the non-AD GWAS loci."
   ]
  },
  {
   "cell_type": "markdown",
   "id": "6c954d6b-65c1-48d3-9956-62976c87e05c",
   "metadata": {
    "kernel": "R"
   },
   "source": [
    "`intersected_data` from above analysis is the intersected table for m6A peak regions and AD GWAS loci table\n",
    "\n",
    "`intersected_data_non_ad` here is the intersected table for m6A peak regions and non-AD GWAS loci table\n"
   ]
  },
  {
   "cell_type": "markdown",
   "id": "c168d802-cd30-48a2-8ee6-e7021591836d",
   "metadata": {
    "kernel": "R"
   },
   "source": [
    "The FET section: the table is focused on Bellenguez et al 2022 and is on variant level. Although I eyeballed 11 CS (we can get an accurate number) and I  know that Bellenguez has maybe 70 CS fine-mapped. So 11 out of 70 CS contain some m6A peaks. The test is still on variants though because I dont know how to make the test on CS .."
   ]
  },
  {
   "cell_type": "code",
   "execution_count": 41,
   "id": "b9d8eaa3-e571-4b03-a3ed-f831fe21e17f",
   "metadata": {
    "kernel": "R"
   },
   "outputs": [],
   "source": [
    "perform_fisher_test <- function(adgwas, all_gwas, m6a_ad, m6a_not_ad, test_context = NULL, greater = FALSE) {\n",
    "  # Define the total number of AD variants\n",
    "  ad <- length(adgwas[adgwas$study == 'AD_Bellenguez_2022',]$variant_id %>% unique())\n",
    "  \n",
    "  # Number of AD loci in m6A regions\n",
    "  ad_m6a_df <- m6a_ad \n",
    "  if(!is.null(test_context)) ad_m6a_df <- ad_m6a_df %>% filter(context == test_context)\n",
    "  ad_m6a <- length(ad_m6a_df$variant_id %>% unique())\n",
    "  \n",
    "  # Number of AD loci outside m6A regions\n",
    "  ad_non_m6a <- ad - ad_m6a\n",
    "  \n",
    "  # Total number of non-AD variants from GWAS concatenate sumstats\n",
    "  non_ad <- length(all_gwas$variant_id %>% unique()) - ad\n",
    "  \n",
    "  # Number of non-AD loci in m6A regions\n",
    "  m6a_non_ad_df <- m6a_not_ad \n",
    "  if(!is.null(test_context)) m6a_non_ad_df <- m6a_non_ad_df %>% filter(context == test_context)\n",
    "  m6a_non_ad <- length(m6a_non_ad_df$variant_id %>% unique())\n",
    "  \n",
    "  # Number of non-AD loci outside m6A regions\n",
    "  non_m6a_non_ad <- non_ad - m6a_non_ad\n",
    "  \n",
    "  # Create the contingency table\n",
    "  contingency_table <- matrix(c(ad_m6a, ad_non_m6a, m6a_non_ad, non_m6a_non_ad),\n",
    "                              nrow = 2,\n",
    "                              byrow = TRUE,\n",
    "                              dimnames = list(\"AD\" = c(\"AD\", \"not_AD\"),\n",
    "                                              \"m6A\" = c(\"m6A\", \"not_m6A\")))\n",
    "  \n",
    "\n",
    "  # Perform Fisher's Exact Test\n",
    "  if(greater) fisher_test_result <- fisher.test(contingency_table, alternative = \"greater\") else fisher_test_result <- fisher.test(contingency_table)\n",
    "\n",
    "  return(list(data = contingency_table, res = fisher_test_result))\n",
    "}\n"
   ]
  },
  {
   "cell_type": "code",
   "execution_count": 42,
   "id": "094f14a8-d882-4900-a29a-c24c0ab9f05c",
   "metadata": {
    "kernel": "R"
   },
   "outputs": [
    {
     "data": {
      "text/plain": [
       ".\n",
       "brain_cortex         hNPC \n",
       "           7            7 "
      ]
     },
     "metadata": {},
     "output_type": "display_data"
    }
   ],
   "source": [
    "# The number of variants within both AD loci and are m6A sites in different contexts\n",
    "m6a_gene_bed_ad %>% distinct(context, variant_id, .keep_all = TRUE) %>% pull(context) %>% table"
   ]
  },
  {
   "cell_type": "code",
   "execution_count": 43,
   "id": "5e8e8dd4-67f6-4742-b7ef-88e514347657",
   "metadata": {
    "kernel": "R",
    "scrolled": true
   },
   "outputs": [
    {
     "data": {
      "text/plain": [
       ".\n",
       "brain_cortex         hNPC \n",
       "       42514        25200 "
      ]
     },
     "metadata": {},
     "output_type": "display_data"
    }
   ],
   "source": [
    "# The number of variants within both non-AD loci and are m6A sites in different contexts\n",
    "m6a_non_gene_bed_ad %>% distinct(context, variant_id, .keep_all = TRUE) %>% pull(context) %>% table"
   ]
  },
  {
   "cell_type": "markdown",
   "id": "0270fa45-bcfc-4370-85df-837f81c65177",
   "metadata": {
    "kernel": "R"
   },
   "source": [
    "Just show the details for `merged` and `Brian` here"
   ]
  },
  {
   "cell_type": "code",
   "execution_count": 44,
   "id": "1deddbbb-b033-4c9b-8c0c-5c70ab0681d5",
   "metadata": {
    "kernel": "R"
   },
   "outputs": [
    {
     "data": {
      "text/plain": [
       "$data\n",
       "        m6A\n",
       "AD         m6A  not_m6A\n",
       "  AD        14     1269\n",
       "  not_AD 63248 12143387\n",
       "\n",
       "$res\n",
       "\n",
       "\tFisher's Exact Test for Count Data\n",
       "\n",
       "data:  contingency_table\n",
       "p-value = 0.009629\n",
       "alternative hypothesis: true odds ratio is not equal to 1\n",
       "95 percent confidence interval:\n",
       " 1.154589 3.567372\n",
       "sample estimates:\n",
       "odds ratio \n",
       "  2.118182 \n",
       "\n"
      ]
     },
     "metadata": {},
     "output_type": "display_data"
    }
   ],
   "source": [
    "# Two-sided test\n",
    "perform_fisher_test(adgwas = gwas, all_gwas = all_gwas, m6a_ad = m6a_gene_bed_ad, m6a_not_ad = m6a_non_gene_bed_ad) "
   ]
  },
  {
   "cell_type": "markdown",
   "id": "4f122a23-e98c-4d27-bde0-9bb6c84cfaca",
   "metadata": {
    "kernel": "R"
   },
   "source": [
    "## Conclusion:\n",
    "Too few peaks in this data can overlap with our AD fine mapped results, no enrichment either. "
   ]
  },
  {
   "cell_type": "code",
   "execution_count": null,
   "id": "89d20d88-a50f-40d0-af11-6d63ef310c2f",
   "metadata": {
    "kernel": "R"
   },
   "outputs": [],
   "source": []
  }
 ],
 "metadata": {
  "kernelspec": {
   "display_name": "R",
   "language": "R",
   "name": "ir"
  },
  "language_info": {
   "codemirror_mode": "r",
   "file_extension": ".r",
   "mimetype": "text/x-r-source",
   "name": "R",
   "pygments_lexer": "r",
   "version": "4.4.1"
  },
  "sos": {
   "kernels": [
    [
     "R",
     "ir",
     "R",
     "#DCDCDA",
     ""
    ]
   ],
   "version": ""
  }
 },
 "nbformat": 4,
 "nbformat_minor": 5
}
