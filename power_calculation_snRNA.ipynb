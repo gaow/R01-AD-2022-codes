{
 "cells": [
  {
   "cell_type": "markdown",
   "id": "1542fbc4-4964-4d38-8f6a-97d773a704de",
   "metadata": {},
   "source": [
    "# Power calculation for snRNA-seq based QTL studies\n",
    "\n",
    "Here I perform power and sample size calculations for eQTL in snRNA-seq using the pseudo-bulk approach, ie, average gene expression of per cell type."
   ]
  },
  {
   "cell_type": "markdown",
   "id": "2c6763c3-d731-41a0-a4f0-ce435527eb70",
   "metadata": {},
   "source": [
    "## Motivation\n",
    "\n",
    "What we are interested in is how sample size $N$, number of cells per sample $M$, and cell proportions $P$ impact the power of pseudo-bulk RNA-seq expression.\n",
    "\n",
    "What we will not evaluate are:\n",
    "\n",
    "- Variance QTL: it is not our priority to study \"noise genetics\" and even so, we may need [thousands of samples to detect an effect](https://journals.plos.org/plosgenetics/article?id=10.1371/journal.pgen.1008045).\n",
    "- [Non-Gaussian model for single-cell eQTL](https://www.biorxiv.org/content/10.1101/2022.08.14.503915v1.full.pdf), because we know the ground truth and we evaluate it per cell type. Calculations here represent an optimal estimate of power, ie, an underestimate in the real world snRNA/scRNA data."
   ]
  },
  {
   "cell_type": "markdown",
   "id": "d5641cf8-46d1-4185-a6ab-d8cf2fa49510",
   "metadata": {},
   "source": [
    "## Approach"
   ]
  },
  {
   "cell_type": "markdown",
   "id": "8645df82-98fe-40bc-9cf8-74ac3bc54e41",
   "metadata": {},
   "source": [
    "1. Simulate genotype data for one variant across $N$ individuals, $x_i, \\ldots, x_N$ are genotypic value of a variant sampled for $N$ individuals from $Binom(2, 0.1)$ (assuming MAF = 10%), then standardized to have mean zero and unit variance."
   ]
  },
  {
   "cell_type": "markdown",
   "id": "eae91ba4-447f-493f-b5b4-82b169a30bd1",
   "metadata": {},
   "source": [
    "2. Simulation of gene expressions of a cell for from generative model $y_{ic} = x_ib + e$ where $y_{ic}$ is the expression value of a cell $c$ in individual $i$, $y_{ic} \\sim N(0,1)$, $b$ is effect size of eQTL, $b \\sim N(0, \\sigma^2)$ where $\\sigma^2$ is effect size that reflects heritability of $x$, eg, $\\sigma^2 = 5\\%$ means that the variant $x$ explains 5% variation for the expression. Finally, $e \\sim N(0, 1-\\sigma^2)$."
   ]
  },
  {
   "cell_type": "markdown",
   "id": "1df84da5-c6f9-4416-957a-129e36f10b9a",
   "metadata": {},
   "source": [
    "3. Determine how many cells are observed from an individual for cell type $c$, via sampling from a binomial distribution $M_c \\sim Binom(M, P_c)$ where $M$ is the total number of cells measured per individual and $P_c$ is the proportion of cell type $c$."
   ]
  },
  {
   "cell_type": "markdown",
   "id": "cb86115b-6d31-4427-96b1-4710975b1560",
   "metadata": {},
   "source": [
    "4. Compute pseudo-bulk mean expression values of an individual as $y_i = \\sum_c^{M_c} y_{ic} / M_c$ where $M_c$ is the total number of cells for cell type $c$ in an individual sampled. "
   ]
  },
  {
   "cell_type": "markdown",
   "id": "4c7f2a86-78ad-4abf-980e-41aa6853920e",
   "metadata": {},
   "source": [
    "5. Repeat 2 ~ 4 on $N$ individuals to get the expression value $y$ which is a length $N$ vector of expression values; then fit a regression model `lm(y~x)` and get the p-value from it."
   ]
  },
  {
   "cell_type": "markdown",
   "id": "efe8f57d-cf15-4fdf-8b68-860682f1a8e7",
   "metadata": {},
   "source": [
    "6. Repeat 1 ~ 5 for 1,000 times. A p-value cutoff of $5 \\times 10^{-5}$ will be used as the significant threshold, assuming there are 1,000 independent genetic variants evaluated for eQTLs in the cis-region of a gene. "
   ]
  },
  {
   "cell_type": "markdown",
   "id": "f02670f5-02f6-4478-90d1-b69193463810",
   "metadata": {},
   "source": [
    "## Implemenetation"
   ]
  },
  {
   "cell_type": "markdown",
   "id": "2247426c-224b-437e-b7f0-8eaa3c23f6bd",
   "metadata": {},
   "source": [
    "Simulate genotype data,"
   ]
  },
  {
   "cell_type": "code",
   "execution_count": 2,
   "id": "716a1fbf-e26b-4f09-a675-a0ff3930d94f",
   "metadata": {},
   "outputs": [],
   "source": [
    "get_genotypes = function(N, MAF) {\n",
    "    x = rbinom(10, 2, 0.1)\n",
    "    return (scale(x, center=T))\n",
    "}"
   ]
  },
  {
   "cell_type": "markdown",
   "id": "1f69613a-ce3a-47a3-a34a-3533669b548a",
   "metadata": {},
   "source": [
    "Simulate per cell effect from generative model, for $M_c \\sim Binom(M, P_c)$ cells, then take the average to get the phenotype for each individual,"
   ]
  },
  {
   "cell_type": "code",
   "execution_count": 3,
   "id": "c9257960-052e-451b-a43a-a9c6372cf011",
   "metadata": {},
   "outputs": [],
   "source": [
    "get_cell_count_individual = function(M, p) {\n",
    "    return (rbinom(1, M, p))\n",
    "}\n",
    "\n",
    "get_phenotype = function(x, C, sigma2) {\n",
    "    # genetic effect, fixed for all cells and all individuals as our association testing model assumes\n",
    "    b = rnorm(1, 0, sqrt(sigma2))\n",
    "    # \n",
    "    e = rnorm(C, 0, sqrt(1-sigma2))\n",
    "    return (mean(xi * b + e))\n",
    "}"
   ]
  },
  {
   "cell_type": "code",
   "execution_count": null,
   "id": "4d7f102d-4394-471c-a331-c3b7a855eefe",
   "metadata": {},
   "outputs": [],
   "source": []
  }
 ],
 "metadata": {
  "kernelspec": {
   "display_name": "R",
   "language": "R",
   "name": "ir"
  },
  "language_info": {
   "codemirror_mode": "r",
   "file_extension": ".r",
   "mimetype": "text/x-r-source",
   "name": "R",
   "pygments_lexer": "r",
   "version": "3.6.3"
  }
 },
 "nbformat": 4,
 "nbformat_minor": 5
}
