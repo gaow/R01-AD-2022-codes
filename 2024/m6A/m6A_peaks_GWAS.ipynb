{
 "cells": [
  {
   "cell_type": "markdown",
   "id": "6dded65c-ccd3-4c1b-bb9f-ca0607975db4",
   "metadata": {
    "kernel": "SoS"
   },
   "source": [
    "# m6A peaks and AD GWAS signals"
   ]
  },
  {
   "cell_type": "markdown",
   "id": "466aa701-0af1-4291-a187-ed31d2e372e7",
   "metadata": {
    "kernel": "SoS"
   },
   "source": [
    "- Data: we have m6A peaks (bed-file like) from different tissues, as well as a version merging all tissues. We also have multiple AD GWAS summary stats from different AD studies where we know the z-score for each variant we analyze, as well as if a variant is in 95% CS from fine-mapping.\n"
   ]
  },
  {
   "cell_type": "markdown",
   "id": "c4a6d3f1-0dca-410c-ae41-7568191dacaa",
   "metadata": {
    "kernel": "SoS"
   },
   "source": [
    "## Overall\n",
    "In this notebook, I aim to map m6A peaks to our finemapped AD variants to explore potential enrichment of m6A peaks. The steps are as follows:\n",
    "\n",
    "1.\tOrganize m6A peak data, including:\n",
    "- Conversion from hg19 to hg38 (not shown in this notebook)\n",
    "- Check m6A peak sizes and downsize those larger than 1kb\n",
    "- Annotate each peak with a possible associated gene\n",
    "2.\tLoad AD finemapped data and Bellenguez sumstats to use as background.\n",
    "3.\tMap m6A peaks to AD finemapped and non-AD finemapped data.\n",
    "4.\tPerform enrichment analysis based on different contexts in Step 3.\n",
    "5.\tCompare whether this enrichment is brain-specific by examining the number of regions with or without AD variants in brain tissue compared to other tissues."
   ]
  },
  {
   "cell_type": "markdown",
   "id": "52da16e2-0987-4cf9-a775-377e235401ff",
   "metadata": {
    "kernel": "SoS"
   },
   "source": [
    "all GWAS analysis are focusing on Bellenguze in notebook"
   ]
  },
  {
   "cell_type": "code",
   "execution_count": 6,
   "id": "99c0997c-5261-49c6-977b-8ae787ba71b0",
   "metadata": {
    "kernel": "R"
   },
   "outputs": [],
   "source": [
    "library(tidyverse)\n",
    "library(data.table)\n",
    "library(bedtoolsr)"
   ]
  },
  {
   "cell_type": "markdown",
   "id": "880f89d6-c9f5-4b38-a55c-14c3aae67a78",
   "metadata": {
    "kernel": "R"
   },
   "source": [
    "## Organize m6A data"
   ]
  },
  {
   "cell_type": "markdown",
   "id": "856aa0bd-7471-4614-a33e-ae4ee5dea9fc",
   "metadata": {
    "kernel": "R"
   },
   "source": [
    "combine m6A region file from all contexts together"
   ]
  },
  {
   "cell_type": "code",
   "execution_count": 7,
   "id": "8588d46c-5ec4-4056-b9b0-71d2b9c02e05",
   "metadata": {
    "kernel": "R"
   },
   "outputs": [],
   "source": [
    "# file_name <- '~/data/m6A/hg38_convert/GSE114150_Brain_hg19Tohg38.bed'\n",
    "m6a = data.frame()\n",
    "for(file_name in list.files('~/data/m6A/hg38_convert/', 'bed$',full.names = T)){\n",
    "    m6a_tmp <- fread(file_name) %>% mutate(hg38_ID = paste(V1,V2,V3, sep = \":\"), context = basename(file_name) %>% gsub('_hg19Tohg38.bed','',.))\n",
    "    m6a <- rbind(m6a, m6a_tmp)\n",
    "}\n"
   ]
  },
  {
   "cell_type": "markdown",
   "id": "f6ff392f-581f-4446-8497-904b7a175d11",
   "metadata": {
    "kernel": "R"
   },
   "source": [
    "### Check the size of m6A peaks. If the peak is > 1 Kb, take the center and extend 500 bp on each side."
   ]
  },
  {
   "cell_type": "code",
   "execution_count": 8,
   "id": "8f040455-1eda-4435-8c0e-28c1677be2b1",
   "metadata": {
    "kernel": "R"
   },
   "outputs": [],
   "source": [
    "m6a <- m6a %>% mutate(distance = V3-V2, \n",
    "               center = as.integer((V2+V3)/2),\n",
    "               start = ifelse(distance <= 1000, V2, center - 500), \n",
    "               end = ifelse(distance <= 1000, V3, center + 500)) \n",
    "m6a %>% fwrite(., '~/data/m6A/hg38_convert/GSE114150_hg19Tohg38.all.modifyregion.bed.gz', sep = '\\t')"
   ]
  },
  {
   "cell_type": "code",
   "execution_count": 9,
   "id": "de7de8dd-3228-4531-81bb-61d386aacd87",
   "metadata": {
    "kernel": "R"
   },
   "outputs": [
    {
     "data": {
      "text/plain": [
       "   Min. 1st Qu.  Median    Mean 3rd Qu.    Max. \n",
       "    0.0   179.0   283.0   416.3   495.0 18918.0 "
      ]
     },
     "metadata": {},
     "output_type": "display_data"
    }
   ],
   "source": [
    "summary(m6a$distance)"
   ]
  },
  {
   "cell_type": "markdown",
   "id": "70aa1639-1886-4313-a45c-a374f7a66638",
   "metadata": {
    "kernel": "R"
   },
   "source": [
    "The median size of m6A peaks is 283"
   ]
  },
  {
   "cell_type": "code",
   "execution_count": 10,
   "id": "d3801e5e-50ff-4559-ae5b-c756236c0dbf",
   "metadata": {
    "kernel": "R"
   },
   "outputs": [
    {
     "data": {
      "text/html": [
       "<style>\n",
       ".list-inline {list-style: none; margin:0; padding: 0}\n",
       ".list-inline>li {display: inline-block}\n",
       ".list-inline>li:not(:last-child)::after {content: \"\\00b7\"; padding: 0 .5ex}\n",
       "</style>\n",
       "<ol class=list-inline><li>374927</li><li>10</li></ol>\n"
      ],
      "text/latex": [
       "\\begin{enumerate*}\n",
       "\\item 374927\n",
       "\\item 10\n",
       "\\end{enumerate*}\n"
      ],
      "text/markdown": [
       "1. 374927\n",
       "2. 10\n",
       "\n",
       "\n"
      ],
      "text/plain": [
       "[1] 374927     10"
      ]
     },
     "metadata": {},
     "output_type": "display_data"
    },
    {
     "data": {
      "text/html": [
       "<style>\n",
       ".list-inline {list-style: none; margin:0; padding: 0}\n",
       ".list-inline>li {display: inline-block}\n",
       ".list-inline>li:not(:last-child)::after {content: \"\\00b7\"; padding: 0 .5ex}\n",
       "</style>\n",
       "<ol class=list-inline><li>28511</li><li>10</li></ol>\n"
      ],
      "text/latex": [
       "\\begin{enumerate*}\n",
       "\\item 28511\n",
       "\\item 10\n",
       "\\end{enumerate*}\n"
      ],
      "text/markdown": [
       "1. 28511\n",
       "2. 10\n",
       "\n",
       "\n"
      ],
      "text/plain": [
       "[1] 28511    10"
      ]
     },
     "metadata": {},
     "output_type": "display_data"
    }
   ],
   "source": [
    "m6a %>% filter(distance <= 1000) %>% dim\n",
    "m6a %>% filter(distance > 1000) %>% dim"
   ]
  },
  {
   "cell_type": "markdown",
   "id": "6a413470-567e-409a-8f99-46ff5e06eefd",
   "metadata": {
    "kernel": "R"
   },
   "source": [
    "There are 374927 peaks (among all contexts) with size <= 1000 bp, and 28511 peaks with size > 1000bp"
   ]
  },
  {
   "cell_type": "code",
   "execution_count": 11,
   "id": "674cf8b7-484c-4a5c-86d5-1b09a6a28b8b",
   "metadata": {
    "kernel": "R"
   },
   "outputs": [
    {
     "data": {
      "text/html": [
       "<style>\n",
       ".list-inline {list-style: none; margin:0; padding: 0}\n",
       ".list-inline>li {display: inline-block}\n",
       ".list-inline>li:not(:last-child)::after {content: \"\\00b7\"; padding: 0 .5ex}\n",
       "</style>\n",
       "<ol class=list-inline><li>82998</li><li>10</li></ol>\n"
      ],
      "text/latex": [
       "\\begin{enumerate*}\n",
       "\\item 82998\n",
       "\\item 10\n",
       "\\end{enumerate*}\n"
      ],
      "text/markdown": [
       "1. 82998\n",
       "2. 10\n",
       "\n",
       "\n"
      ],
      "text/plain": [
       "[1] 82998    10"
      ]
     },
     "metadata": {},
     "output_type": "display_data"
    },
    {
     "data": {
      "text/html": [
       "<style>\n",
       ".list-inline {list-style: none; margin:0; padding: 0}\n",
       ".list-inline>li {display: inline-block}\n",
       ".list-inline>li:not(:last-child)::after {content: \"\\00b7\"; padding: 0 .5ex}\n",
       "</style>\n",
       "<ol class=list-inline><li>7700</li><li>10</li></ol>\n"
      ],
      "text/latex": [
       "\\begin{enumerate*}\n",
       "\\item 7700\n",
       "\\item 10\n",
       "\\end{enumerate*}\n"
      ],
      "text/markdown": [
       "1. 7700\n",
       "2. 10\n",
       "\n",
       "\n"
      ],
      "text/plain": [
       "[1] 7700   10"
      ]
     },
     "metadata": {},
     "output_type": "display_data"
    }
   ],
   "source": [
    "m6a %>% filter(context == 'GSE114150_merged')  %>% filter(distance <= 1000) %>% dim\n",
    "m6a %>% filter(context == 'GSE114150_merged')  %>% filter(distance > 1000) %>% dim"
   ]
  },
  {
   "cell_type": "markdown",
   "id": "3b6cadd3-fe92-4fcb-9dc7-bc7ea01fbf93",
   "metadata": {
    "kernel": "R"
   },
   "source": [
    "There are 82998 peaks in `GSE114150_merged` with size <= 1000 bp, and 28511 peaks in `GSE114150_merged` with size > 1000bp"
   ]
  },
  {
   "cell_type": "markdown",
   "id": "1886720e-4f64-467d-a47b-19672e8d18e3",
   "metadata": {
    "kernel": "R"
   },
   "source": [
    "Add gene information into each peak. \n",
    "For the peak region we can keep every gene overlapped with it , and for the regions not covered with any gene body we pick the one with nearest TSS to center of m6A region"
   ]
  },
  {
   "cell_type": "code",
   "execution_count": 12,
   "id": "1f1c94ec-3b95-4e8e-af63-37d244b0eef4",
   "metadata": {
    "kernel": "R"
   },
   "outputs": [],
   "source": [
    "gene_region <- fread('~/data/ref_data_Ru/gene_region.tsv')\n",
    "\n",
    "gene_region <- gene_region %>%\n",
    "  mutate(gene_name = str_extract(V9, 'gene_name.*?;'), \n",
    "         gene_name = str_replace_all(gene_name, 'gene_name\\\\s*\"\"?|\"\"|;', \"\"),\n",
    "        TSS = ifelse(V7 == \"+\", V4, V5))"
   ]
  },
  {
   "cell_type": "code",
   "execution_count": 13,
   "id": "d1e2b7ed-8d1b-4a54-8054-88e233bc498a",
   "metadata": {
    "kernel": "R"
   },
   "outputs": [
    {
     "data": {
      "text/html": [
       "<style>\n",
       ".list-inline {list-style: none; margin:0; padding: 0}\n",
       ".list-inline>li {display: inline-block}\n",
       ".list-inline>li:not(:last-child)::after {content: \"\\00b7\"; padding: 0 .5ex}\n",
       "</style>\n",
       "<ol class=list-inline><li>19933</li><li>12</li></ol>\n"
      ],
      "text/latex": [
       "\\begin{enumerate*}\n",
       "\\item 19933\n",
       "\\item 12\n",
       "\\end{enumerate*}\n"
      ],
      "text/markdown": [
       "1. 19933\n",
       "2. 12\n",
       "\n",
       "\n"
      ],
      "text/plain": [
       "[1] 19933    12"
      ]
     },
     "metadata": {},
     "output_type": "display_data"
    }
   ],
   "source": [
    "# we only kept protein coding gene here\n",
    "pro_gene_region <- gene_region %>% filter(str_detect(V9, \"protein_coding\")) \n",
    "\n",
    "colnames(pro_gene_region)[1] <- 'V1'\n",
    "pro_gene_region %>% dim\n"
   ]
  },
  {
   "cell_type": "code",
   "execution_count": 14,
   "id": "492294c9-fcc4-48f4-bb6b-da80229ea2fa",
   "metadata": {
    "kernel": "R",
    "scrolled": true
   },
   "outputs": [
    {
     "data": {
      "text/html": [
       "<style>\n",
       ".list-inline {list-style: none; margin:0; padding: 0}\n",
       ".list-inline>li {display: inline-block}\n",
       ".list-inline>li:not(:last-child)::after {content: \"\\00b7\"; padding: 0 .5ex}\n",
       "</style>\n",
       "<ol class=list-inline><li>403438</li><li>10</li></ol>\n"
      ],
      "text/latex": [
       "\\begin{enumerate*}\n",
       "\\item 403438\n",
       "\\item 10\n",
       "\\end{enumerate*}\n"
      ],
      "text/markdown": [
       "1. 403438\n",
       "2. 10\n",
       "\n",
       "\n"
      ],
      "text/plain": [
       "[1] 403438     10"
      ]
     },
     "metadata": {},
     "output_type": "display_data"
    },
    {
     "data": {
      "text/html": [
       "<table class=\"dataframe\">\n",
       "<caption>A data.table: 6 × 10</caption>\n",
       "<thead>\n",
       "\t<tr><th scope=col>V1</th><th scope=col>V2</th><th scope=col>V3</th><th scope=col>V4</th><th scope=col>hg38_ID</th><th scope=col>context</th><th scope=col>distance</th><th scope=col>center</th><th scope=col>start</th><th scope=col>end</th></tr>\n",
       "\t<tr><th scope=col>&lt;chr&gt;</th><th scope=col>&lt;int&gt;</th><th scope=col>&lt;int&gt;</th><th scope=col>&lt;chr&gt;</th><th scope=col>&lt;chr&gt;</th><th scope=col>&lt;chr&gt;</th><th scope=col>&lt;int&gt;</th><th scope=col>&lt;int&gt;</th><th scope=col>&lt;dbl&gt;</th><th scope=col>&lt;dbl&gt;</th></tr>\n",
       "</thead>\n",
       "<tbody>\n",
       "\t<tr><td>chr1</td><td>788796</td><td>789694</td><td>1:724176:725074</td><td>chr1:788796:789694</td><td>GSE114150_Brain</td><td>898</td><td>789245</td><td>788796</td><td>789694</td></tr>\n",
       "\t<tr><td>chr1</td><td>789859</td><td>790063</td><td>1:725239:725443</td><td>chr1:789859:790063</td><td>GSE114150_Brain</td><td>204</td><td>789961</td><td>789859</td><td>790063</td></tr>\n",
       "\t<tr><td>chr1</td><td>790159</td><td>790277</td><td>1:725539:725657</td><td>chr1:790159:790277</td><td>GSE114150_Brain</td><td>118</td><td>790218</td><td>790159</td><td>790277</td></tr>\n",
       "\t<tr><td>chr1</td><td>790486</td><td>790653</td><td>1:725866:726033</td><td>chr1:790486:790653</td><td>GSE114150_Brain</td><td>167</td><td>790569</td><td>790486</td><td>790653</td></tr>\n",
       "\t<tr><td>chr1</td><td>791162</td><td>791412</td><td>1:726542:726792</td><td>chr1:791162:791412</td><td>GSE114150_Brain</td><td>250</td><td>791287</td><td>791162</td><td>791412</td></tr>\n",
       "\t<tr><td>chr1</td><td>818005</td><td>818185</td><td>1:753385:753565</td><td>chr1:818005:818185</td><td>GSE114150_Brain</td><td>180</td><td>818095</td><td>818005</td><td>818185</td></tr>\n",
       "</tbody>\n",
       "</table>\n"
      ],
      "text/latex": [
       "A data.table: 6 × 10\n",
       "\\begin{tabular}{llllllllll}\n",
       " V1 & V2 & V3 & V4 & hg38\\_ID & context & distance & center & start & end\\\\\n",
       " <chr> & <int> & <int> & <chr> & <chr> & <chr> & <int> & <int> & <dbl> & <dbl>\\\\\n",
       "\\hline\n",
       "\t chr1 & 788796 & 789694 & 1:724176:725074 & chr1:788796:789694 & GSE114150\\_Brain & 898 & 789245 & 788796 & 789694\\\\\n",
       "\t chr1 & 789859 & 790063 & 1:725239:725443 & chr1:789859:790063 & GSE114150\\_Brain & 204 & 789961 & 789859 & 790063\\\\\n",
       "\t chr1 & 790159 & 790277 & 1:725539:725657 & chr1:790159:790277 & GSE114150\\_Brain & 118 & 790218 & 790159 & 790277\\\\\n",
       "\t chr1 & 790486 & 790653 & 1:725866:726033 & chr1:790486:790653 & GSE114150\\_Brain & 167 & 790569 & 790486 & 790653\\\\\n",
       "\t chr1 & 791162 & 791412 & 1:726542:726792 & chr1:791162:791412 & GSE114150\\_Brain & 250 & 791287 & 791162 & 791412\\\\\n",
       "\t chr1 & 818005 & 818185 & 1:753385:753565 & chr1:818005:818185 & GSE114150\\_Brain & 180 & 818095 & 818005 & 818185\\\\\n",
       "\\end{tabular}\n"
      ],
      "text/markdown": [
       "\n",
       "A data.table: 6 × 10\n",
       "\n",
       "| V1 &lt;chr&gt; | V2 &lt;int&gt; | V3 &lt;int&gt; | V4 &lt;chr&gt; | hg38_ID &lt;chr&gt; | context &lt;chr&gt; | distance &lt;int&gt; | center &lt;int&gt; | start &lt;dbl&gt; | end &lt;dbl&gt; |\n",
       "|---|---|---|---|---|---|---|---|---|---|\n",
       "| chr1 | 788796 | 789694 | 1:724176:725074 | chr1:788796:789694 | GSE114150_Brain | 898 | 789245 | 788796 | 789694 |\n",
       "| chr1 | 789859 | 790063 | 1:725239:725443 | chr1:789859:790063 | GSE114150_Brain | 204 | 789961 | 789859 | 790063 |\n",
       "| chr1 | 790159 | 790277 | 1:725539:725657 | chr1:790159:790277 | GSE114150_Brain | 118 | 790218 | 790159 | 790277 |\n",
       "| chr1 | 790486 | 790653 | 1:725866:726033 | chr1:790486:790653 | GSE114150_Brain | 167 | 790569 | 790486 | 790653 |\n",
       "| chr1 | 791162 | 791412 | 1:726542:726792 | chr1:791162:791412 | GSE114150_Brain | 250 | 791287 | 791162 | 791412 |\n",
       "| chr1 | 818005 | 818185 | 1:753385:753565 | chr1:818005:818185 | GSE114150_Brain | 180 | 818095 | 818005 | 818185 |\n",
       "\n"
      ],
      "text/plain": [
       "  V1   V2     V3     V4              hg38_ID            context        \n",
       "1 chr1 788796 789694 1:724176:725074 chr1:788796:789694 GSE114150_Brain\n",
       "2 chr1 789859 790063 1:725239:725443 chr1:789859:790063 GSE114150_Brain\n",
       "3 chr1 790159 790277 1:725539:725657 chr1:790159:790277 GSE114150_Brain\n",
       "4 chr1 790486 790653 1:725866:726033 chr1:790486:790653 GSE114150_Brain\n",
       "5 chr1 791162 791412 1:726542:726792 chr1:791162:791412 GSE114150_Brain\n",
       "6 chr1 818005 818185 1:753385:753565 chr1:818005:818185 GSE114150_Brain\n",
       "  distance center start  end   \n",
       "1 898      789245 788796 789694\n",
       "2 204      789961 789859 790063\n",
       "3 118      790218 790159 790277\n",
       "4 167      790569 790486 790653\n",
       "5 250      791287 791162 791412\n",
       "6 180      818095 818005 818185"
      ]
     },
     "metadata": {},
     "output_type": "display_data"
    }
   ],
   "source": [
    "m6a %>% dim\n",
    "m6a %>% head"
   ]
  },
  {
   "cell_type": "markdown",
   "id": "08f6651e-65fb-42e8-968e-da009e970ef8",
   "metadata": {
    "kernel": "R"
   },
   "source": [
    "### Overlap the m6A peaks and gene region annotation file"
   ]
  },
  {
   "cell_type": "code",
   "execution_count": null,
   "id": "ad7425d9-d0fd-42f3-bdf5-1756eef3e33b",
   "metadata": {
    "kernel": "R"
   },
   "outputs": [],
   "source": [
    "# Load necessary libraries\n",
    "library(GenomicRanges)\n",
    "\n",
    "# Convert m6a peaks data and gene region data (pro_gene_region) to GRanges objects\n",
    "m6a_gr <- GRanges(\n",
    "  seqnames = m6a$V1,\n",
    "  ranges = IRanges(start = m6a$start, end = m6a$end)\n",
    ")\n",
    "\n",
    "gene_gr <- GRanges(\n",
    "  seqnames = pro_gene_region$V1,\n",
    "  ranges = IRanges(start = pro_gene_region$V4, end = pro_gene_region$V5),\n",
    "  gene_id = pro_gene_region$gene,\n",
    "  gene_name = pro_gene_region$gene_name\n",
    ")"
   ]
  },
  {
   "cell_type": "markdown",
   "id": "ff7f4487-30e5-42fb-b805-4058e4782173",
   "metadata": {
    "kernel": "R"
   },
   "source": [
    "For the peak region we can keep every gene overlapped with it "
   ]
  },
  {
   "cell_type": "code",
   "execution_count": 16,
   "id": "ae393b71-291b-4b6a-85d8-8c368b247059",
   "metadata": {
    "kernel": "R"
   },
   "outputs": [],
   "source": [
    "# Find overlaps between m6a data and gene regions\n",
    "overlaps <- findOverlaps(m6a_gr, gene_gr)\n",
    "\n",
    "# Extract overlapping rows and annotate with gene information\n",
    "m6a_with_gene <- m6a[queryHits(overlaps), ]\n",
    "m6a_with_gene$gene_id <- pro_gene_region$gene[subjectHits(overlaps)]\n",
    "m6a_with_gene$gene_name <- pro_gene_region$gene_name[subjectHits(overlaps)]\n",
    "\n",
    "# For non-overlapping rows, find the nearest TSS\n",
    "non_overlapping_indices <- setdiff(seq_len(nrow(m6a)), queryHits(overlaps))\n",
    "m6a_no_gene <- m6a[non_overlapping_indices, ]"
   ]
  },
  {
   "cell_type": "markdown",
   "id": "86bed5f9-618a-4cb6-b7b4-b8f6166d89c9",
   "metadata": {
    "kernel": "R"
   },
   "source": [
    "for the regions not covered with any gene body we pick the one with nearest TSS to center of m6A region"
   ]
  },
  {
   "cell_type": "code",
   "execution_count": 17,
   "id": "54f663e4-209a-47f0-95a8-7a70f2053d30",
   "metadata": {
    "kernel": "R"
   },
   "outputs": [],
   "source": [
    "# Convert non-overlapping data to GRanges object using the center column\n",
    "m6a_center_gr <- GRanges(\n",
    "  seqnames = m6a_no_gene$V1,\n",
    "  ranges = IRanges(start = m6a_no_gene$center, end = m6a_no_gene$center),  # Use the center column\n",
    "  strand = m6a_no_gene$strand\n",
    ")\n",
    "\n",
    "# Create a GRanges object for gene data using the TSS as the start and end coordinates\n",
    "gene_tss_gr <- GRanges(\n",
    "  seqnames = pro_gene_region$V1,\n",
    "  ranges = IRanges(start = pro_gene_region$TSS, end = pro_gene_region$TSS),  # TSS is used for both start and end\n",
    "  strand = pro_gene_region$V7,\n",
    "  gene_id = pro_gene_region$gene,\n",
    "  gene_name = pro_gene_region$gene_name\n",
    ")\n",
    "\n",
    "# Find the nearest TSS for m6A peaks using the center\n",
    "nearest_tss_indices <- nearest(m6a_center_gr, gene_tss_gr)"
   ]
  },
  {
   "cell_type": "markdown",
   "id": "0aa08d4c-3dd4-4a73-93d7-55c7b0575afb",
   "metadata": {
    "kernel": "R"
   },
   "source": [
    "combine above together"
   ]
  },
  {
   "cell_type": "code",
   "execution_count": 18,
   "id": "4419157f-65d1-45d9-a2cc-0b50c503dbd2",
   "metadata": {
    "kernel": "R",
    "scrolled": true
   },
   "outputs": [
    {
     "data": {
      "text/html": [
       "<style>\n",
       ".list-inline {list-style: none; margin:0; padding: 0}\n",
       ".list-inline>li {display: inline-block}\n",
       ".list-inline>li:not(:last-child)::after {content: \"\\00b7\"; padding: 0 .5ex}\n",
       "</style>\n",
       "<ol class=list-inline><li>57581</li><li>12</li></ol>\n"
      ],
      "text/latex": [
       "\\begin{enumerate*}\n",
       "\\item 57581\n",
       "\\item 12\n",
       "\\end{enumerate*}\n"
      ],
      "text/markdown": [
       "1. 57581\n",
       "2. 12\n",
       "\n",
       "\n"
      ],
      "text/plain": [
       "[1] 57581    12"
      ]
     },
     "metadata": {},
     "output_type": "display_data"
    },
    {
     "data": {
      "text/html": [
       "<table class=\"dataframe\">\n",
       "<caption>A data.table: 6 × 12</caption>\n",
       "<thead>\n",
       "\t<tr><th scope=col>V1</th><th scope=col>V2</th><th scope=col>V3</th><th scope=col>V4</th><th scope=col>hg38_ID</th><th scope=col>context</th><th scope=col>distance</th><th scope=col>center</th><th scope=col>start</th><th scope=col>end</th><th scope=col>gene_id</th><th scope=col>gene_name</th></tr>\n",
       "\t<tr><th scope=col>&lt;chr&gt;</th><th scope=col>&lt;int&gt;</th><th scope=col>&lt;int&gt;</th><th scope=col>&lt;chr&gt;</th><th scope=col>&lt;chr&gt;</th><th scope=col>&lt;chr&gt;</th><th scope=col>&lt;int&gt;</th><th scope=col>&lt;int&gt;</th><th scope=col>&lt;dbl&gt;</th><th scope=col>&lt;dbl&gt;</th><th scope=col>&lt;chr&gt;</th><th scope=col>&lt;chr&gt;</th></tr>\n",
       "</thead>\n",
       "<tbody>\n",
       "\t<tr><td>chr1</td><td> 958977</td><td> 959238</td><td>1:894357:894618  </td><td>chr1:958977:959238  </td><td>GSE114150_Brain</td><td> 261</td><td> 959107</td><td> 958977</td><td> 959238</td><td>ENSG00000188976</td><td>NOC2L   </td></tr>\n",
       "\t<tr><td>chr1</td><td>1027235</td><td>1027730</td><td>1:962615:963110  </td><td>chr1:1027235:1027730</td><td>GSE114150_Brain</td><td> 495</td><td>1027482</td><td>1027235</td><td>1027730</td><td>ENSG00000188157</td><td>AGRN    </td></tr>\n",
       "\t<tr><td>chr1</td><td>1034120</td><td>1034622</td><td>1:969500:970002  </td><td>chr1:1034120:1034622</td><td>GSE114150_Brain</td><td> 502</td><td>1034371</td><td>1034120</td><td>1034622</td><td>ENSG00000188157</td><td>AGRN    </td></tr>\n",
       "\t<tr><td>chr1</td><td>1043431</td><td>1043633</td><td>1:978811:979013  </td><td>chr1:1043431:1043633</td><td>GSE114150_Brain</td><td> 202</td><td>1043532</td><td>1043431</td><td>1043633</td><td>ENSG00000188157</td><td>AGRN    </td></tr>\n",
       "\t<tr><td>chr1</td><td>1054842</td><td>1055887</td><td>1:990222:991267  </td><td>chr1:1054842:1055887</td><td>GSE114150_Brain</td><td>1045</td><td>1055364</td><td>1054864</td><td>1055864</td><td>ENSG00000188157</td><td>AGRN    </td></tr>\n",
       "\t<tr><td>chr1</td><td>1082006</td><td>1082102</td><td>1:1017386:1017482</td><td>chr1:1082006:1082102</td><td>GSE114150_Brain</td><td>  96</td><td>1082054</td><td>1082006</td><td>1082102</td><td>ENSG00000131591</td><td>C1orf159</td></tr>\n",
       "</tbody>\n",
       "</table>\n"
      ],
      "text/latex": [
       "A data.table: 6 × 12\n",
       "\\begin{tabular}{llllllllllll}\n",
       " V1 & V2 & V3 & V4 & hg38\\_ID & context & distance & center & start & end & gene\\_id & gene\\_name\\\\\n",
       " <chr> & <int> & <int> & <chr> & <chr> & <chr> & <int> & <int> & <dbl> & <dbl> & <chr> & <chr>\\\\\n",
       "\\hline\n",
       "\t chr1 &  958977 &  959238 & 1:894357:894618   & chr1:958977:959238   & GSE114150\\_Brain &  261 &  959107 &  958977 &  959238 & ENSG00000188976 & NOC2L   \\\\\n",
       "\t chr1 & 1027235 & 1027730 & 1:962615:963110   & chr1:1027235:1027730 & GSE114150\\_Brain &  495 & 1027482 & 1027235 & 1027730 & ENSG00000188157 & AGRN    \\\\\n",
       "\t chr1 & 1034120 & 1034622 & 1:969500:970002   & chr1:1034120:1034622 & GSE114150\\_Brain &  502 & 1034371 & 1034120 & 1034622 & ENSG00000188157 & AGRN    \\\\\n",
       "\t chr1 & 1043431 & 1043633 & 1:978811:979013   & chr1:1043431:1043633 & GSE114150\\_Brain &  202 & 1043532 & 1043431 & 1043633 & ENSG00000188157 & AGRN    \\\\\n",
       "\t chr1 & 1054842 & 1055887 & 1:990222:991267   & chr1:1054842:1055887 & GSE114150\\_Brain & 1045 & 1055364 & 1054864 & 1055864 & ENSG00000188157 & AGRN    \\\\\n",
       "\t chr1 & 1082006 & 1082102 & 1:1017386:1017482 & chr1:1082006:1082102 & GSE114150\\_Brain &   96 & 1082054 & 1082006 & 1082102 & ENSG00000131591 & C1orf159\\\\\n",
       "\\end{tabular}\n"
      ],
      "text/markdown": [
       "\n",
       "A data.table: 6 × 12\n",
       "\n",
       "| V1 &lt;chr&gt; | V2 &lt;int&gt; | V3 &lt;int&gt; | V4 &lt;chr&gt; | hg38_ID &lt;chr&gt; | context &lt;chr&gt; | distance &lt;int&gt; | center &lt;int&gt; | start &lt;dbl&gt; | end &lt;dbl&gt; | gene_id &lt;chr&gt; | gene_name &lt;chr&gt; |\n",
       "|---|---|---|---|---|---|---|---|---|---|---|---|\n",
       "| chr1 |  958977 |  959238 | 1:894357:894618   | chr1:958977:959238   | GSE114150_Brain |  261 |  959107 |  958977 |  959238 | ENSG00000188976 | NOC2L    |\n",
       "| chr1 | 1027235 | 1027730 | 1:962615:963110   | chr1:1027235:1027730 | GSE114150_Brain |  495 | 1027482 | 1027235 | 1027730 | ENSG00000188157 | AGRN     |\n",
       "| chr1 | 1034120 | 1034622 | 1:969500:970002   | chr1:1034120:1034622 | GSE114150_Brain |  502 | 1034371 | 1034120 | 1034622 | ENSG00000188157 | AGRN     |\n",
       "| chr1 | 1043431 | 1043633 | 1:978811:979013   | chr1:1043431:1043633 | GSE114150_Brain |  202 | 1043532 | 1043431 | 1043633 | ENSG00000188157 | AGRN     |\n",
       "| chr1 | 1054842 | 1055887 | 1:990222:991267   | chr1:1054842:1055887 | GSE114150_Brain | 1045 | 1055364 | 1054864 | 1055864 | ENSG00000188157 | AGRN     |\n",
       "| chr1 | 1082006 | 1082102 | 1:1017386:1017482 | chr1:1082006:1082102 | GSE114150_Brain |   96 | 1082054 | 1082006 | 1082102 | ENSG00000131591 | C1orf159 |\n",
       "\n"
      ],
      "text/plain": [
       "  V1   V2      V3      V4                hg38_ID              context        \n",
       "1 chr1  958977  959238 1:894357:894618   chr1:958977:959238   GSE114150_Brain\n",
       "2 chr1 1027235 1027730 1:962615:963110   chr1:1027235:1027730 GSE114150_Brain\n",
       "3 chr1 1034120 1034622 1:969500:970002   chr1:1034120:1034622 GSE114150_Brain\n",
       "4 chr1 1043431 1043633 1:978811:979013   chr1:1043431:1043633 GSE114150_Brain\n",
       "5 chr1 1054842 1055887 1:990222:991267   chr1:1054842:1055887 GSE114150_Brain\n",
       "6 chr1 1082006 1082102 1:1017386:1017482 chr1:1082006:1082102 GSE114150_Brain\n",
       "  distance center  start   end     gene_id         gene_name\n",
       "1  261      959107  958977  959238 ENSG00000188976 NOC2L    \n",
       "2  495     1027482 1027235 1027730 ENSG00000188157 AGRN     \n",
       "3  502     1034371 1034120 1034622 ENSG00000188157 AGRN     \n",
       "4  202     1043532 1043431 1043633 ENSG00000188157 AGRN     \n",
       "5 1045     1055364 1054864 1055864 ENSG00000188157 AGRN     \n",
       "6   96     1082054 1082006 1082102 ENSG00000131591 C1orf159 "
      ]
     },
     "metadata": {},
     "output_type": "display_data"
    }
   ],
   "source": [
    "# Add nearest gene info to non-overlapping peaks\n",
    "m6a_no_gene$gene_id <- gene_tss_gr$gene_id[nearest_tss_indices]\n",
    "m6a_no_gene$gene_name <- gene_tss_gr$gene_name[nearest_tss_indices]\n",
    "\n",
    "# Combine overlapping and non-overlapping data\n",
    "m6a_gene_anno <- bind_rows(m6a_with_gene, m6a_no_gene)\n",
    "\n",
    "# Check dimensions and preview data\n",
    "m6a_no_gene %>% dim()\n",
    "m6a_gene_anno %>% head()"
   ]
  },
  {
   "cell_type": "code",
   "execution_count": 23,
   "id": "54ec779c-3a9b-4cf0-92ca-16d2da9a3516",
   "metadata": {
    "kernel": "R"
   },
   "outputs": [
    {
     "data": {
      "text/html": [
       "0.857274228010252"
      ],
      "text/latex": [
       "0.857274228010252"
      ],
      "text/markdown": [
       "0.857274228010252"
      ],
      "text/plain": [
       "[1] 0.8572742"
      ]
     },
     "metadata": {},
     "output_type": "display_data"
    }
   ],
   "source": [
    "1 - (m6a_no_gene %>% distinct(hg38_ID, context) %>% nrow) / (m6a_gene_anno %>% distinct(hg38_ID, context) %>% nrow)"
   ]
  },
  {
   "cell_type": "markdown",
   "id": "19033e6d-30cd-4366-8e2f-4d752c24eb69",
   "metadata": {
    "kernel": "R"
   },
   "source": [
    " >85% peaks can be overlapped with gene body"
   ]
  },
  {
   "cell_type": "markdown",
   "id": "6ba08e80-9fd0-4b7c-9b63-449c1355e69c",
   "metadata": {
    "kernel": "R"
   },
   "source": [
    "## Load AD GWAS finemapping data\n",
    "We focused on `AD_Bellenguez_2022` data and the variants in `cs_coverage_0.95_min_corr`"
   ]
  },
  {
   "cell_type": "code",
   "execution_count": 24,
   "id": "ba73565a-0ba8-4965-a44f-b47174cc26d9",
   "metadata": {
    "kernel": "R",
    "scrolled": true
   },
   "outputs": [
    {
     "data": {
      "text/html": [
       "<style>\n",
       ".list-inline {list-style: none; margin:0; padding: 0}\n",
       ".list-inline>li {display: inline-block}\n",
       ".list-inline>li:not(:last-child)::after {content: \"\\00b7\"; padding: 0 .5ex}\n",
       "</style>\n",
       "<ol class=list-inline><li>66479</li><li>15</li></ol>\n"
      ],
      "text/latex": [
       "\\begin{enumerate*}\n",
       "\\item 66479\n",
       "\\item 15\n",
       "\\end{enumerate*}\n"
      ],
      "text/markdown": [
       "1. 66479\n",
       "2. 15\n",
       "\n",
       "\n"
      ],
      "text/plain": [
       "[1] 66479    15"
      ]
     },
     "metadata": {},
     "output_type": "display_data"
    },
    {
     "data": {
      "text/html": [
       "<table class=\"dataframe\">\n",
       "<caption>A data.table: 2 × 17</caption>\n",
       "<thead>\n",
       "\t<tr><th scope=col>variant_id</th><th scope=col>z</th><th scope=col>pip</th><th scope=col>cs_coverage_0.95</th><th scope=col>cs_coverage_0.7</th><th scope=col>cs_coverage_0.5</th><th scope=col>cs_coverage_0.95_min_corr</th><th scope=col>cs_coverage_0.7_min_corr</th><th scope=col>cs_coverage_0.5_min_corr</th><th scope=col>cs_coverage_0.95_attainable</th><th scope=col>cs_coverage_0.7_attainable</th><th scope=col>cs_coverage_0.5_attainable</th><th scope=col>study</th><th scope=col>method</th><th scope=col>block</th><th scope=col>chr</th><th scope=col>pos</th></tr>\n",
       "\t<tr><th scope=col>&lt;chr&gt;</th><th scope=col>&lt;dbl&gt;</th><th scope=col>&lt;dbl&gt;</th><th scope=col>&lt;int&gt;</th><th scope=col>&lt;int&gt;</th><th scope=col>&lt;int&gt;</th><th scope=col>&lt;int&gt;</th><th scope=col>&lt;int&gt;</th><th scope=col>&lt;int&gt;</th><th scope=col>&lt;int&gt;</th><th scope=col>&lt;int&gt;</th><th scope=col>&lt;int&gt;</th><th scope=col>&lt;chr&gt;</th><th scope=col>&lt;chr&gt;</th><th scope=col>&lt;chr&gt;</th><th scope=col>&lt;chr&gt;</th><th scope=col>&lt;dbl&gt;</th></tr>\n",
       "</thead>\n",
       "<tbody>\n",
       "\t<tr><td>10:11676714:A:G</td><td>6.975610</td><td>0.979216533</td><td>1</td><td>1</td><td>1</td><td>1</td><td>1</td><td>1</td><td> 1</td><td> 1</td><td> 1</td><td>AD_Bellenguez_2022</td><td>RSS_QC_RAISS_imputed</td><td>chr10_10500888_12817813</td><td>chr10</td><td>11676714</td></tr>\n",
       "\t<tr><td>10:58094891:A:C</td><td>3.678899</td><td>0.001395639</td><td>1</td><td>0</td><td>0</td><td>1</td><td>0</td><td>0</td><td>NA</td><td>NA</td><td>NA</td><td>AD_Bellenguez_2022</td><td>RSS_QC_RAISS_imputed</td><td>chr10_57667362_59558848</td><td>chr10</td><td>58094891</td></tr>\n",
       "</tbody>\n",
       "</table>\n"
      ],
      "text/latex": [
       "A data.table: 2 × 17\n",
       "\\begin{tabular}{lllllllllllllllll}\n",
       " variant\\_id & z & pip & cs\\_coverage\\_0.95 & cs\\_coverage\\_0.7 & cs\\_coverage\\_0.5 & cs\\_coverage\\_0.95\\_min\\_corr & cs\\_coverage\\_0.7\\_min\\_corr & cs\\_coverage\\_0.5\\_min\\_corr & cs\\_coverage\\_0.95\\_attainable & cs\\_coverage\\_0.7\\_attainable & cs\\_coverage\\_0.5\\_attainable & study & method & block & chr & pos\\\\\n",
       " <chr> & <dbl> & <dbl> & <int> & <int> & <int> & <int> & <int> & <int> & <int> & <int> & <int> & <chr> & <chr> & <chr> & <chr> & <dbl>\\\\\n",
       "\\hline\n",
       "\t 10:11676714:A:G & 6.975610 & 0.979216533 & 1 & 1 & 1 & 1 & 1 & 1 &  1 &  1 &  1 & AD\\_Bellenguez\\_2022 & RSS\\_QC\\_RAISS\\_imputed & chr10\\_10500888\\_12817813 & chr10 & 11676714\\\\\n",
       "\t 10:58094891:A:C & 3.678899 & 0.001395639 & 1 & 0 & 0 & 1 & 0 & 0 & NA & NA & NA & AD\\_Bellenguez\\_2022 & RSS\\_QC\\_RAISS\\_imputed & chr10\\_57667362\\_59558848 & chr10 & 58094891\\\\\n",
       "\\end{tabular}\n"
      ],
      "text/markdown": [
       "\n",
       "A data.table: 2 × 17\n",
       "\n",
       "| variant_id &lt;chr&gt; | z &lt;dbl&gt; | pip &lt;dbl&gt; | cs_coverage_0.95 &lt;int&gt; | cs_coverage_0.7 &lt;int&gt; | cs_coverage_0.5 &lt;int&gt; | cs_coverage_0.95_min_corr &lt;int&gt; | cs_coverage_0.7_min_corr &lt;int&gt; | cs_coverage_0.5_min_corr &lt;int&gt; | cs_coverage_0.95_attainable &lt;int&gt; | cs_coverage_0.7_attainable &lt;int&gt; | cs_coverage_0.5_attainable &lt;int&gt; | study &lt;chr&gt; | method &lt;chr&gt; | block &lt;chr&gt; | chr &lt;chr&gt; | pos &lt;dbl&gt; |\n",
       "|---|---|---|---|---|---|---|---|---|---|---|---|---|---|---|---|---|\n",
       "| 10:11676714:A:G | 6.975610 | 0.979216533 | 1 | 1 | 1 | 1 | 1 | 1 |  1 |  1 |  1 | AD_Bellenguez_2022 | RSS_QC_RAISS_imputed | chr10_10500888_12817813 | chr10 | 11676714 |\n",
       "| 10:58094891:A:C | 3.678899 | 0.001395639 | 1 | 0 | 0 | 1 | 0 | 0 | NA | NA | NA | AD_Bellenguez_2022 | RSS_QC_RAISS_imputed | chr10_57667362_59558848 | chr10 | 58094891 |\n",
       "\n"
      ],
      "text/plain": [
       "  variant_id      z        pip         cs_coverage_0.95 cs_coverage_0.7\n",
       "1 10:11676714:A:G 6.975610 0.979216533 1                1              \n",
       "2 10:58094891:A:C 3.678899 0.001395639 1                0              \n",
       "  cs_coverage_0.5 cs_coverage_0.95_min_corr cs_coverage_0.7_min_corr\n",
       "1 1               1                         1                       \n",
       "2 0               1                         0                       \n",
       "  cs_coverage_0.5_min_corr cs_coverage_0.95_attainable\n",
       "1 1                         1                         \n",
       "2 0                        NA                         \n",
       "  cs_coverage_0.7_attainable cs_coverage_0.5_attainable study             \n",
       "1  1                          1                         AD_Bellenguez_2022\n",
       "2 NA                         NA                         AD_Bellenguez_2022\n",
       "  method               block                   chr   pos     \n",
       "1 RSS_QC_RAISS_imputed chr10_10500888_12817813 chr10 11676714\n",
       "2 RSS_QC_RAISS_imputed chr10_57667362_59558848 chr10 58094891"
      ]
     },
     "metadata": {},
     "output_type": "display_data"
    },
    {
     "data": {
      "text/html": [
       "<style>\n",
       ".list-inline {list-style: none; margin:0; padding: 0}\n",
       ".list-inline>li {display: inline-block}\n",
       ".list-inline>li:not(:last-child)::after {content: \"\\00b7\"; padding: 0 .5ex}\n",
       "</style>\n",
       "<ol class=list-inline><li>1284</li><li>17</li></ol>\n"
      ],
      "text/latex": [
       "\\begin{enumerate*}\n",
       "\\item 1284\n",
       "\\item 17\n",
       "\\end{enumerate*}\n"
      ],
      "text/markdown": [
       "1. 1284\n",
       "2. 17\n",
       "\n",
       "\n"
      ],
      "text/plain": [
       "[1] 1284   17"
      ]
     },
     "metadata": {},
     "output_type": "display_data"
    }
   ],
   "source": [
    "gwas <- fread('/mnt/vast/hpc/csg/rf2872/Work/Multivariate/GWAS_finemapping_Apr9/GWAS_finemapping_Apr9.union_export.tsv.gz')\n",
    "\n",
    "gwas %>% dim\n",
    "gwas <- gwas %>% \n",
    "        filter(study == 'AD_Bellenguez_2022') %>% \n",
    "        mutate(chr = str_split(variant_id, \":\", simplify = T) %>% .[,1] %>% paste0(\"chr\",.),\n",
    "                pos = str_split(variant_id, \":\", simplify = T) %>% .[,2] %>% as.numeric) %>% filter(cs_coverage_0.95_min_corr > 0)\n",
    "gwas %>% head(n = 2)\n",
    "gwas %>% dim"
   ]
  },
  {
   "cell_type": "markdown",
   "id": "833e0bcf-064e-4830-82cb-693804c1098b",
   "metadata": {
    "kernel": "R"
   },
   "source": [
    "## Map m6A peaks to AD finemapped variants"
   ]
  },
  {
   "cell_type": "code",
   "execution_count": 25,
   "id": "12627ddb-529f-4d34-909f-7962459df33f",
   "metadata": {
    "kernel": "R"
   },
   "outputs": [],
   "source": [
    "m6a_gene_anno_bed <- m6a_gene_anno[, c(\"V1\", \"start\", \"end\", \"hg38_ID\", \"context\", \"gene_id\", \"gene_name\")]\n",
    "gwas_bed <- gwas[, .(chr, start_variant = as.integer(pos), end_variant = as.integer(pos), variant_id,z,pip,cs_coverage_0.95_min_corr,block, study)]\n",
    "\n",
    "m6a_gene_bed_ad <- bt.intersect(a = m6a_gene_anno_bed, b = gwas_bed, wa = T, wb = T) "
   ]
  },
  {
   "cell_type": "code",
   "execution_count": 26,
   "id": "5f9e91b6-2b2e-4ad9-88a6-04104350d85c",
   "metadata": {
    "kernel": "R"
   },
   "outputs": [
    {
     "data": {
      "text/html": [
       "<style>\n",
       ".list-inline {list-style: none; margin:0; padding: 0}\n",
       ".list-inline>li {display: inline-block}\n",
       ".list-inline>li:not(:last-child)::after {content: \"\\00b7\"; padding: 0 .5ex}\n",
       "</style>\n",
       "<ol class=list-inline><li>181</li><li>16</li></ol>\n"
      ],
      "text/latex": [
       "\\begin{enumerate*}\n",
       "\\item 181\n",
       "\\item 16\n",
       "\\end{enumerate*}\n"
      ],
      "text/markdown": [
       "1. 181\n",
       "2. 16\n",
       "\n",
       "\n"
      ],
      "text/plain": [
       "[1] 181  16"
      ]
     },
     "metadata": {},
     "output_type": "display_data"
    },
    {
     "data": {
      "text/html": [
       "<table class=\"dataframe\">\n",
       "<caption>A data.frame: 6 × 16</caption>\n",
       "<thead>\n",
       "\t<tr><th></th><th scope=col>chrom</th><th scope=col>start</th><th scope=col>end</th><th scope=col>hg38_ID</th><th scope=col>context</th><th scope=col>gene_id</th><th scope=col>gene_name</th><th scope=col>chr</th><th scope=col>start_variant</th><th scope=col>end_variant</th><th scope=col>variant_id</th><th scope=col>z</th><th scope=col>pip</th><th scope=col>cs_coverage_0.95_min_corr</th><th scope=col>block</th><th scope=col>study</th></tr>\n",
       "\t<tr><th></th><th scope=col>&lt;chr&gt;</th><th scope=col>&lt;int&gt;</th><th scope=col>&lt;int&gt;</th><th scope=col>&lt;chr&gt;</th><th scope=col>&lt;chr&gt;</th><th scope=col>&lt;chr&gt;</th><th scope=col>&lt;chr&gt;</th><th scope=col>&lt;chr&gt;</th><th scope=col>&lt;int&gt;</th><th scope=col>&lt;int&gt;</th><th scope=col>&lt;chr&gt;</th><th scope=col>&lt;dbl&gt;</th><th scope=col>&lt;dbl&gt;</th><th scope=col>&lt;int&gt;</th><th scope=col>&lt;chr&gt;</th><th scope=col>&lt;chr&gt;</th></tr>\n",
       "</thead>\n",
       "<tbody>\n",
       "\t<tr><th scope=row>1</th><td>chr12</td><td>113158551</td><td>113159178</td><td>chr12:113158551:113159178</td><td>GSE114150_Brain</td><td>ENSG00000186710</td><td>CFAP73</td><td>chr12</td><td>113159061</td><td>113159061</td><td>12:113159061:G:A</td><td>4.575949</td><td>0.006127578</td><td>1</td><td>chr12_112825713_115165608</td><td>AD_Bellenguez_2022</td></tr>\n",
       "\t<tr><th scope=row>2</th><td>chr12</td><td>113158551</td><td>113159178</td><td>chr12:113158551:113159178</td><td>GSE114150_Brain</td><td>ENSG00000123064</td><td>DDX54 </td><td>chr12</td><td>113159061</td><td>113159061</td><td>12:113159061:G:A</td><td>4.575949</td><td>0.006127578</td><td>1</td><td>chr12_112825713_115165608</td><td>AD_Bellenguez_2022</td></tr>\n",
       "\t<tr><th scope=row>3</th><td>chr12</td><td>113161821</td><td>113162088</td><td>chr12:113161821:113162088</td><td>GSE114150_Brain</td><td>ENSG00000123064</td><td>DDX54 </td><td>chr12</td><td>113162061</td><td>113162061</td><td>12:113162061:T:C</td><td>4.490323</td><td>0.004234860</td><td>1</td><td>chr12_112825713_115165608</td><td>AD_Bellenguez_2022</td></tr>\n",
       "\t<tr><th scope=row>4</th><td>chr12</td><td>113162795</td><td>113163180</td><td>chr12:113162795:113163180</td><td>GSE114150_Brain</td><td>ENSG00000123064</td><td>DDX54 </td><td>chr12</td><td>113163098</td><td>113163098</td><td>12:113163098:A:G</td><td>4.483871</td><td>0.004119767</td><td>1</td><td>chr12_112825713_115165608</td><td>AD_Bellenguez_2022</td></tr>\n",
       "\t<tr><th scope=row>5</th><td>chr12</td><td>113162795</td><td>113163180</td><td>chr12:113162795:113163180</td><td>GSE114150_Brain</td><td>ENSG00000123064</td><td>DDX54 </td><td>chr12</td><td>113163135</td><td>113163135</td><td>12:113163135:C:T</td><td>4.518987</td><td>0.004788665</td><td>1</td><td>chr12_112825713_115165608</td><td>AD_Bellenguez_2022</td></tr>\n",
       "\t<tr><th scope=row>6</th><td>chr12</td><td>113191735</td><td>113192015</td><td>chr12:113191735:113192015</td><td>GSE114150_Brain</td><td>ENSG00000139405</td><td>RITA1 </td><td>chr12</td><td>113191832</td><td>113191832</td><td>12:113191832:G:A</td><td>4.449367</td><td>0.003557680</td><td>1</td><td>chr12_112825713_115165608</td><td>AD_Bellenguez_2022</td></tr>\n",
       "</tbody>\n",
       "</table>\n"
      ],
      "text/latex": [
       "A data.frame: 6 × 16\n",
       "\\begin{tabular}{r|llllllllllllllll}\n",
       "  & chrom & start & end & hg38\\_ID & context & gene\\_id & gene\\_name & chr & start\\_variant & end\\_variant & variant\\_id & z & pip & cs\\_coverage\\_0.95\\_min\\_corr & block & study\\\\\n",
       "  & <chr> & <int> & <int> & <chr> & <chr> & <chr> & <chr> & <chr> & <int> & <int> & <chr> & <dbl> & <dbl> & <int> & <chr> & <chr>\\\\\n",
       "\\hline\n",
       "\t1 & chr12 & 113158551 & 113159178 & chr12:113158551:113159178 & GSE114150\\_Brain & ENSG00000186710 & CFAP73 & chr12 & 113159061 & 113159061 & 12:113159061:G:A & 4.575949 & 0.006127578 & 1 & chr12\\_112825713\\_115165608 & AD\\_Bellenguez\\_2022\\\\\n",
       "\t2 & chr12 & 113158551 & 113159178 & chr12:113158551:113159178 & GSE114150\\_Brain & ENSG00000123064 & DDX54  & chr12 & 113159061 & 113159061 & 12:113159061:G:A & 4.575949 & 0.006127578 & 1 & chr12\\_112825713\\_115165608 & AD\\_Bellenguez\\_2022\\\\\n",
       "\t3 & chr12 & 113161821 & 113162088 & chr12:113161821:113162088 & GSE114150\\_Brain & ENSG00000123064 & DDX54  & chr12 & 113162061 & 113162061 & 12:113162061:T:C & 4.490323 & 0.004234860 & 1 & chr12\\_112825713\\_115165608 & AD\\_Bellenguez\\_2022\\\\\n",
       "\t4 & chr12 & 113162795 & 113163180 & chr12:113162795:113163180 & GSE114150\\_Brain & ENSG00000123064 & DDX54  & chr12 & 113163098 & 113163098 & 12:113163098:A:G & 4.483871 & 0.004119767 & 1 & chr12\\_112825713\\_115165608 & AD\\_Bellenguez\\_2022\\\\\n",
       "\t5 & chr12 & 113162795 & 113163180 & chr12:113162795:113163180 & GSE114150\\_Brain & ENSG00000123064 & DDX54  & chr12 & 113163135 & 113163135 & 12:113163135:C:T & 4.518987 & 0.004788665 & 1 & chr12\\_112825713\\_115165608 & AD\\_Bellenguez\\_2022\\\\\n",
       "\t6 & chr12 & 113191735 & 113192015 & chr12:113191735:113192015 & GSE114150\\_Brain & ENSG00000139405 & RITA1  & chr12 & 113191832 & 113191832 & 12:113191832:G:A & 4.449367 & 0.003557680 & 1 & chr12\\_112825713\\_115165608 & AD\\_Bellenguez\\_2022\\\\\n",
       "\\end{tabular}\n"
      ],
      "text/markdown": [
       "\n",
       "A data.frame: 6 × 16\n",
       "\n",
       "| <!--/--> | chrom &lt;chr&gt; | start &lt;int&gt; | end &lt;int&gt; | hg38_ID &lt;chr&gt; | context &lt;chr&gt; | gene_id &lt;chr&gt; | gene_name &lt;chr&gt; | chr &lt;chr&gt; | start_variant &lt;int&gt; | end_variant &lt;int&gt; | variant_id &lt;chr&gt; | z &lt;dbl&gt; | pip &lt;dbl&gt; | cs_coverage_0.95_min_corr &lt;int&gt; | block &lt;chr&gt; | study &lt;chr&gt; |\n",
       "|---|---|---|---|---|---|---|---|---|---|---|---|---|---|---|---|---|\n",
       "| 1 | chr12 | 113158551 | 113159178 | chr12:113158551:113159178 | GSE114150_Brain | ENSG00000186710 | CFAP73 | chr12 | 113159061 | 113159061 | 12:113159061:G:A | 4.575949 | 0.006127578 | 1 | chr12_112825713_115165608 | AD_Bellenguez_2022 |\n",
       "| 2 | chr12 | 113158551 | 113159178 | chr12:113158551:113159178 | GSE114150_Brain | ENSG00000123064 | DDX54  | chr12 | 113159061 | 113159061 | 12:113159061:G:A | 4.575949 | 0.006127578 | 1 | chr12_112825713_115165608 | AD_Bellenguez_2022 |\n",
       "| 3 | chr12 | 113161821 | 113162088 | chr12:113161821:113162088 | GSE114150_Brain | ENSG00000123064 | DDX54  | chr12 | 113162061 | 113162061 | 12:113162061:T:C | 4.490323 | 0.004234860 | 1 | chr12_112825713_115165608 | AD_Bellenguez_2022 |\n",
       "| 4 | chr12 | 113162795 | 113163180 | chr12:113162795:113163180 | GSE114150_Brain | ENSG00000123064 | DDX54  | chr12 | 113163098 | 113163098 | 12:113163098:A:G | 4.483871 | 0.004119767 | 1 | chr12_112825713_115165608 | AD_Bellenguez_2022 |\n",
       "| 5 | chr12 | 113162795 | 113163180 | chr12:113162795:113163180 | GSE114150_Brain | ENSG00000123064 | DDX54  | chr12 | 113163135 | 113163135 | 12:113163135:C:T | 4.518987 | 0.004788665 | 1 | chr12_112825713_115165608 | AD_Bellenguez_2022 |\n",
       "| 6 | chr12 | 113191735 | 113192015 | chr12:113191735:113192015 | GSE114150_Brain | ENSG00000139405 | RITA1  | chr12 | 113191832 | 113191832 | 12:113191832:G:A | 4.449367 | 0.003557680 | 1 | chr12_112825713_115165608 | AD_Bellenguez_2022 |\n",
       "\n"
      ],
      "text/plain": [
       "  chrom start     end       hg38_ID                   context        \n",
       "1 chr12 113158551 113159178 chr12:113158551:113159178 GSE114150_Brain\n",
       "2 chr12 113158551 113159178 chr12:113158551:113159178 GSE114150_Brain\n",
       "3 chr12 113161821 113162088 chr12:113161821:113162088 GSE114150_Brain\n",
       "4 chr12 113162795 113163180 chr12:113162795:113163180 GSE114150_Brain\n",
       "5 chr12 113162795 113163180 chr12:113162795:113163180 GSE114150_Brain\n",
       "6 chr12 113191735 113192015 chr12:113191735:113192015 GSE114150_Brain\n",
       "  gene_id         gene_name chr   start_variant end_variant variant_id      \n",
       "1 ENSG00000186710 CFAP73    chr12 113159061     113159061   12:113159061:G:A\n",
       "2 ENSG00000123064 DDX54     chr12 113159061     113159061   12:113159061:G:A\n",
       "3 ENSG00000123064 DDX54     chr12 113162061     113162061   12:113162061:T:C\n",
       "4 ENSG00000123064 DDX54     chr12 113163098     113163098   12:113163098:A:G\n",
       "5 ENSG00000123064 DDX54     chr12 113163135     113163135   12:113163135:C:T\n",
       "6 ENSG00000139405 RITA1     chr12 113191832     113191832   12:113191832:G:A\n",
       "  z        pip         cs_coverage_0.95_min_corr block                    \n",
       "1 4.575949 0.006127578 1                         chr12_112825713_115165608\n",
       "2 4.575949 0.006127578 1                         chr12_112825713_115165608\n",
       "3 4.490323 0.004234860 1                         chr12_112825713_115165608\n",
       "4 4.483871 0.004119767 1                         chr12_112825713_115165608\n",
       "5 4.518987 0.004788665 1                         chr12_112825713_115165608\n",
       "6 4.449367 0.003557680 1                         chr12_112825713_115165608\n",
       "  study             \n",
       "1 AD_Bellenguez_2022\n",
       "2 AD_Bellenguez_2022\n",
       "3 AD_Bellenguez_2022\n",
       "4 AD_Bellenguez_2022\n",
       "5 AD_Bellenguez_2022\n",
       "6 AD_Bellenguez_2022"
      ]
     },
     "metadata": {},
     "output_type": "display_data"
    }
   ],
   "source": [
    "colnames(m6a_gene_bed_ad) <- c(\"chrom\", \"start\", \"end\", \"hg38_ID\", \"context\", \"gene_id\", \"gene_name\", colnames(gwas_bed))\n",
    "m6a_gene_bed_ad %>% dim\n",
    "m6a_gene_bed_ad %>% head"
   ]
  },
  {
   "cell_type": "markdown",
   "id": "e2ec1052-3ef6-4d0c-bacc-d2ef705e2038",
   "metadata": {
    "kernel": "R"
   },
   "source": [
    "The reginos numbers can have AD signals in each context are like below"
   ]
  },
  {
   "cell_type": "code",
   "execution_count": 27,
   "id": "090d64fb-ecf0-4014-9af4-1dc86d95c577",
   "metadata": {
    "kernel": "R",
    "scrolled": true
   },
   "outputs": [
    {
     "data": {
      "text/plain": [
       ".\n",
       "   GSE114150_Brain    GSE114150_Heart   GSE114150_Kidney    GSE114150_Liver \n",
       "                18                 16                 26                 11 \n",
       "    GSE114150_Lung   GSE114150_merged   GSE114150_Muscle GSE114150_Placenta \n",
       "                 8                 30                 14                 19 \n",
       " GSE114150_Stomach \n",
       "                10 "
      ]
     },
     "metadata": {},
     "output_type": "display_data"
    }
   ],
   "source": [
    "m6a_gene_bed_ad %>% distinct(variant_id,context,hg38_ID, .keep_all = T) %>% pull(context) %>% table"
   ]
  },
  {
   "cell_type": "code",
   "execution_count": 28,
   "id": "7046afbe-5a8a-4b0e-86b4-cf4a580386f3",
   "metadata": {
    "kernel": "R"
   },
   "outputs": [],
   "source": [
    "fwrite(m6a_gene_bed_ad, \"GSE114150_Bellenguez_ADGWAS_cs95_mincorr_1kb.overlap.tsv\", sep = '\\t')"
   ]
  },
  {
   "cell_type": "markdown",
   "id": "db9dc43a-d9f4-4b1a-9696-a67c5440a2bf",
   "metadata": {
    "kernel": "R"
   },
   "source": [
    "## Results for the comparison of annotated m6A peaks"
   ]
  },
  {
   "cell_type": "markdown",
   "id": "b236cc90-b8d3-4c32-83ef-8fbb1005fd47",
   "metadata": {
    "kernel": "R"
   },
   "source": [
    "### Figure 1: The consistency among different context/tissue\n",
    "Define AD variants as variants in 95% CS from any AD GWAS data, we annotate these variants to see how many are m6A peaks. We see that brain m6A annotates more variants than other data-sets. Notice that this is variant level summary not CS level --- you can imagine limitations summarizing it this way, and how this can be improved to loci level summary if needed. I did not push it because I dont think we will use the UpsetR plot anyways, and I will get loci level information in the FET section i suggested."
   ]
  },
  {
   "cell_type": "code",
   "execution_count": 29,
   "id": "47ee20ac-e401-468e-9952-536d8b6e67f8",
   "metadata": {
    "kernel": "R"
   },
   "outputs": [
    {
     "data": {
      "text/html": [
       "<style>\n",
       ".dl-inline {width: auto; margin:0; padding: 0}\n",
       ".dl-inline>dt, .dl-inline>dd {float: none; width: auto; display: inline-block}\n",
       ".dl-inline>dt::after {content: \":\\0020\"; padding-right: .5ex}\n",
       ".dl-inline>dt:not(:first-of-type) {padding-left: .5ex}\n",
       "</style><dl class=dl-inline><dt>GSE114150_Brain</dt><dd>18</dd><dt>GSE114150_Heart</dt><dd>16</dd><dt>GSE114150_Kidney</dt><dd>26</dd><dt>GSE114150_Liver</dt><dd>11</dd><dt>GSE114150_Lung</dt><dd>8</dd><dt>GSE114150_merged</dt><dd>30</dd><dt>GSE114150_Muscle</dt><dd>14</dd><dt>GSE114150_Placenta</dt><dd>19</dd><dt>GSE114150_Stomach</dt><dd>10</dd></dl>\n"
      ],
      "text/latex": [
       "\\begin{description*}\n",
       "\\item[GSE114150\\textbackslash{}\\_Brain] 18\n",
       "\\item[GSE114150\\textbackslash{}\\_Heart] 16\n",
       "\\item[GSE114150\\textbackslash{}\\_Kidney] 26\n",
       "\\item[GSE114150\\textbackslash{}\\_Liver] 11\n",
       "\\item[GSE114150\\textbackslash{}\\_Lung] 8\n",
       "\\item[GSE114150\\textbackslash{}\\_merged] 30\n",
       "\\item[GSE114150\\textbackslash{}\\_Muscle] 14\n",
       "\\item[GSE114150\\textbackslash{}\\_Placenta] 19\n",
       "\\item[GSE114150\\textbackslash{}\\_Stomach] 10\n",
       "\\end{description*}\n"
      ],
      "text/markdown": [
       "GSE114150_Brain\n",
       ":   18GSE114150_Heart\n",
       ":   16GSE114150_Kidney\n",
       ":   26GSE114150_Liver\n",
       ":   11GSE114150_Lung\n",
       ":   8GSE114150_merged\n",
       ":   30GSE114150_Muscle\n",
       ":   14GSE114150_Placenta\n",
       ":   19GSE114150_Stomach\n",
       ":   10\n",
       "\n"
      ],
      "text/plain": [
       "   GSE114150_Brain    GSE114150_Heart   GSE114150_Kidney    GSE114150_Liver \n",
       "                18                 16                 26                 11 \n",
       "    GSE114150_Lung   GSE114150_merged   GSE114150_Muscle GSE114150_Placenta \n",
       "                 8                 30                 14                 19 \n",
       " GSE114150_Stomach \n",
       "                10 "
      ]
     },
     "metadata": {},
     "output_type": "display_data"
    },
    {
     "data": {
      "image/png": "[encoded data removed]",
      "text/plain": [
       "plot without title"
      ]
     },
     "metadata": {
      "image/png": {
       "height": 480,
       "width": 840
      }
     },
     "output_type": "display_data"
    }
   ],
   "source": [
    "library(UpSetR)\n",
    "library(tidyr)\n",
    "library(dplyr)\n",
    "\n",
    "options(repr.plot.width=14, repr.plot.height=8)\n",
    "upset_data <- m6a_gene_bed_ad %>%\n",
    "  select(variant_id, context) %>%\n",
    "  distinct() %>%\n",
    "  mutate(present = 1) %>%\n",
    "  spread(key = context, value = present, fill = 0)\n",
    "upset_data[,-1]%>% colSums\n",
    "# Plot the UpSet plot to show how many variants are shared by contexts\n",
    "upset(upset_data, sets = colnames(upset_data)[-1], order.by = \"freq\", text.scale = 2)"
   ]
  },
  {
   "cell_type": "markdown",
   "id": "b82ae7e3-66dd-49a9-b78c-5f076b22c979",
   "metadata": {
    "kernel": "R"
   },
   "source": [
    "### Figure 2: Summarize the proportion of AD risk variants covered by peaks for each context and chromosome\n",
    "Given a CS contain m6A peaks, we want to see what's the proportion of variants in the CS are m6A peaks. It's like how \"pure\" or \"enriched\" a CS is in terms of m6A modification. The goal here is to rule out if we have a very large CS with just one or two variants being m6A sites. And also to see if the overlap is not cluttered on a certain chromosome with large CS --- these are not clear from upsetR plot. Since we condition on CS containing m6A peak this is a relative metric and explains why brain has move CS+m6A overlaps than kidney but within those that are overlap, they behave similar. As I said I think this figure is more of a diagnosis although it does complement Figure 1 to further suggest that brain is interesting."
   ]
  },
  {
   "cell_type": "code",
   "execution_count": 30,
   "id": "404b68f9-9590-4bb6-bde3-64f2b0b51bf5",
   "metadata": {
    "kernel": "R"
   },
   "outputs": [],
   "source": [
    "# Create a contingency table for intersected_data by context and chr\n",
    "m6a_gene_bed_ad_table <- table(m6a_gene_bed_ad$context, m6a_gene_bed_ad$chrom)\n",
    "\n",
    "# Create a table of gwas_bed counts by chromosome\n",
    "gwas_chr_table <- table(gwas_bed$chr)\n",
    "\n",
    "# Subset gwas_chr_table for chromosomes in intersected_table and repeat rows to match contexts\n",
    "gwas_chr_counts <- gwas_chr_table[match(colnames(m6a_gene_bed_ad_table), names(gwas_chr_table))]\n",
    "\n",
    "# Create a matrix where each row corresponds to a context and contains the chr counts from gwas_bed\n",
    "gwas_chr_matrix <- matrix(gwas_chr_counts, nrow = nrow(m6a_gene_bed_ad_table), ncol = length(gwas_chr_counts), byrow = TRUE)\n",
    "\n",
    "# Normalize the intersected_table by the corresponding gwas_bed counts\n",
    "normalized_table <- m6a_gene_bed_ad_table / gwas_chr_matrix\n"
   ]
  },
  {
   "cell_type": "code",
   "execution_count": 31,
   "id": "c5037447-8fb1-41cf-b384-ca999362cc68",
   "metadata": {
    "kernel": "R"
   },
   "outputs": [
    {
     "data": {
      "image/png": "[encoded data removed]",
      "text/plain": [
       "plot without title"
      ]
     },
     "metadata": {
      "image/png": {
       "height": 480,
       "width": 840
      }
     },
     "output_type": "display_data"
    }
   ],
   "source": [
    "# Convert normalized_table to a data frame\n",
    "normalized_df <- as.data.frame(as.table(normalized_table))\n",
    "\n",
    "# Rename columns for clarity\n",
    "colnames(normalized_df) <- c(\"Context\", \"Chromosome\", \"Proportion\")\n",
    "library(ggplot2)\n",
    "\n",
    "# Plot the normalized table as a heatmap\n",
    "ggplot(normalized_df, aes(x = Chromosome, y = Context, fill = Proportion)) +\n",
    "  geom_tile() +   # Use tiles for the heatmap\n",
    "  scale_fill_gradient(low = \"white\", high = \"blue\") +  # Customize colors\n",
    "  labs(title = \"Normalized Proportions of Context by Chromosome\",\n",
    "       x = \"Chromosome\", \n",
    "       y = \"Context\",\n",
    "       fill = \"Proportion\") +\n",
    "  theme_minimal() +\n",
    "  theme(  axis.text.x = element_text(angle = 45, hjust = 1, size = 14),  # Increase font size for x-axis labels\n",
    "    axis.text.y = element_text(size = 14),  # Increase font size for y-axis labels\n",
    "    axis.title.x = element_text(size = 16),  # Increase font size for x-axis title\n",
    "    axis.title.y = element_text(size = 16),  # Increase font size for y-axis title\n",
    "    plot.title = element_text(size = 18)  # Increase font size for plot title\n",
    "  ) "
   ]
  },
  {
   "cell_type": "markdown",
   "id": "3bf24789-a8e1-454a-8a16-0b80b03dcd38",
   "metadata": {
    "kernel": "R"
   },
   "source": [
    "## AD enrichment analysis "
   ]
  },
  {
   "cell_type": "markdown",
   "id": "8f124e3a-aa29-4277-8e82-7ad00a066906",
   "metadata": {
    "kernel": "R"
   },
   "source": [
    "fisher test with 1. m6A and AD loci, 2. m6a and not AD loci, 3. not m6a and AD loci, 4. not m6a and not AD loci"
   ]
  },
  {
   "cell_type": "markdown",
   "id": "86bd7d20-e8ef-47ff-9e2a-dc8d61776a48",
   "metadata": {
    "kernel": "R"
   },
   "source": [
    "m6a_gene_bed_ad is the peak regions has AD variants in them "
   ]
  },
  {
   "cell_type": "code",
   "execution_count": 32,
   "id": "c694fe72-ce59-470d-9369-5c8ba46901c4",
   "metadata": {
    "kernel": "R"
   },
   "outputs": [
    {
     "data": {
      "text/html": [
       "<table class=\"dataframe\">\n",
       "<caption>A data.frame: 37 × 16</caption>\n",
       "<thead>\n",
       "\t<tr><th scope=col>chrom</th><th scope=col>start</th><th scope=col>end</th><th scope=col>hg38_ID</th><th scope=col>context</th><th scope=col>gene_id</th><th scope=col>gene_name</th><th scope=col>chr</th><th scope=col>start_variant</th><th scope=col>end_variant</th><th scope=col>variant_id</th><th scope=col>z</th><th scope=col>pip</th><th scope=col>cs_coverage_0.95_min_corr</th><th scope=col>block</th><th scope=col>study</th></tr>\n",
       "\t<tr><th scope=col>&lt;chr&gt;</th><th scope=col>&lt;int&gt;</th><th scope=col>&lt;int&gt;</th><th scope=col>&lt;chr&gt;</th><th scope=col>&lt;chr&gt;</th><th scope=col>&lt;chr&gt;</th><th scope=col>&lt;chr&gt;</th><th scope=col>&lt;chr&gt;</th><th scope=col>&lt;int&gt;</th><th scope=col>&lt;int&gt;</th><th scope=col>&lt;chr&gt;</th><th scope=col>&lt;dbl&gt;</th><th scope=col>&lt;dbl&gt;</th><th scope=col>&lt;int&gt;</th><th scope=col>&lt;chr&gt;</th><th scope=col>&lt;chr&gt;</th></tr>\n",
       "</thead>\n",
       "<tbody>\n",
       "\t<tr><td>chr10</td><td> 58269167</td><td> 58269407</td><td>chr10:58269167:58269407  </td><td>GSE114150_merged</td><td>ENSG00000122873</td><td>CISD1  </td><td>chr10</td><td> 58269403</td><td> 58269403</td><td>10:58269403:C:T </td><td>-4.010101</td><td>0.003389421</td><td> 1</td><td>chr10_57667362_59558848  </td><td>AD_Bellenguez_2022</td></tr>\n",
       "\t<tr><td>chr10</td><td> 96266187</td><td> 96266701</td><td>chr10:96266187:96266701  </td><td>GSE114150_merged</td><td>ENSG00000095585</td><td>BLNK   </td><td>chr10</td><td> 96266318</td><td> 96266318</td><td>10:96266318:A:G </td><td> 5.182243</td><td>0.032637387</td><td> 1</td><td>chr10_95280986_98320874  </td><td>AD_Bellenguez_2022</td></tr>\n",
       "\t<tr><td>chr10</td><td> 96266187</td><td> 96266701</td><td>chr10:96266187:96266701  </td><td>GSE114150_merged</td><td>ENSG00000095585</td><td>BLNK   </td><td>chr10</td><td> 96266554</td><td> 96266554</td><td>10:96266554:A:G </td><td> 5.205607</td><td>0.036940414</td><td> 1</td><td>chr10_95280986_98320874  </td><td>AD_Bellenguez_2022</td></tr>\n",
       "\t<tr><td>chr10</td><td> 96266187</td><td> 96266701</td><td>chr10:96266187:96266701  </td><td>GSE114150_merged</td><td>ENSG00000095585</td><td>BLNK   </td><td>chr10</td><td> 96266650</td><td> 96266650</td><td>10:96266650:G:A </td><td> 5.224299</td><td>0.040605957</td><td> 1</td><td>chr10_95280986_98320874  </td><td>AD_Bellenguez_2022</td></tr>\n",
       "\t<tr><td>chr12</td><td>113158529</td><td>113159178</td><td>chr12:113158529:113159178</td><td>GSE114150_merged</td><td>ENSG00000186710</td><td>CFAP73 </td><td>chr12</td><td>113159061</td><td>113159061</td><td>12:113159061:G:A</td><td> 4.575949</td><td>0.006127578</td><td> 1</td><td>chr12_112825713_115165608</td><td>AD_Bellenguez_2022</td></tr>\n",
       "\t<tr><td>chr12</td><td>113158529</td><td>113159178</td><td>chr12:113158529:113159178</td><td>GSE114150_merged</td><td>ENSG00000123064</td><td>DDX54  </td><td>chr12</td><td>113159061</td><td>113159061</td><td>12:113159061:G:A</td><td> 4.575949</td><td>0.006127578</td><td> 1</td><td>chr12_112825713_115165608</td><td>AD_Bellenguez_2022</td></tr>\n",
       "\t<tr><td>chr12</td><td>113161818</td><td>113162088</td><td>chr12:113161818:113162088</td><td>GSE114150_merged</td><td>ENSG00000123064</td><td>DDX54  </td><td>chr12</td><td>113162061</td><td>113162061</td><td>12:113162061:T:C</td><td> 4.490323</td><td>0.004234860</td><td> 1</td><td>chr12_112825713_115165608</td><td>AD_Bellenguez_2022</td></tr>\n",
       "\t<tr><td>chr12</td><td>113162795</td><td>113163268</td><td>chr12:113162795:113163268</td><td>GSE114150_merged</td><td>ENSG00000123064</td><td>DDX54  </td><td>chr12</td><td>113163098</td><td>113163098</td><td>12:113163098:A:G</td><td> 4.483871</td><td>0.004119767</td><td> 1</td><td>chr12_112825713_115165608</td><td>AD_Bellenguez_2022</td></tr>\n",
       "\t<tr><td>chr12</td><td>113162795</td><td>113163268</td><td>chr12:113162795:113163268</td><td>GSE114150_merged</td><td>ENSG00000123064</td><td>DDX54  </td><td>chr12</td><td>113163135</td><td>113163135</td><td>12:113163135:C:T</td><td> 4.518987</td><td>0.004788665</td><td> 1</td><td>chr12_112825713_115165608</td><td>AD_Bellenguez_2022</td></tr>\n",
       "\t<tr><td>chr12</td><td>113191735</td><td>113192065</td><td>chr12:113191735:113192065</td><td>GSE114150_merged</td><td>ENSG00000139405</td><td>RITA1  </td><td>chr12</td><td>113191832</td><td>113191832</td><td>12:113191832:G:A</td><td> 4.449367</td><td>0.003557680</td><td> 1</td><td>chr12_112825713_115165608</td><td>AD_Bellenguez_2022</td></tr>\n",
       "\t<tr><td>chr12</td><td>113220931</td><td>113221081</td><td>chr12:113220931:113221081</td><td>GSE114150_merged</td><td>ENSG00000166578</td><td>IQCD   </td><td>chr12</td><td>113221042</td><td>113221042</td><td>12:113221042:G:A</td><td> 4.563291</td><td>0.005799341</td><td> 1</td><td>chr12_112825713_115165608</td><td>AD_Bellenguez_2022</td></tr>\n",
       "\t<tr><td>chr12</td><td>113220931</td><td>113221081</td><td>chr12:113220931:113221081</td><td>GSE114150_merged</td><td>ENSG00000186815</td><td>TPCN1  </td><td>chr12</td><td>113221042</td><td>113221042</td><td>12:113221042:G:A</td><td> 4.563291</td><td>0.005799341</td><td> 1</td><td>chr12_112825713_115165608</td><td>AD_Bellenguez_2022</td></tr>\n",
       "\t<tr><td>chr12</td><td>113295999</td><td>113296786</td><td>chr12:113295999:113296786</td><td>GSE114150_merged</td><td>ENSG00000186815</td><td>TPCN1  </td><td>chr12</td><td>113296025</td><td>113296025</td><td>12:113296025:C:T</td><td> 4.606250</td><td>0.006995084</td><td> 1</td><td>chr12_112825713_115165608</td><td>AD_Bellenguez_2022</td></tr>\n",
       "\t<tr><td>chr12</td><td>113295999</td><td>113296786</td><td>chr12:113295999:113296786</td><td>GSE114150_merged</td><td>ENSG00000186815</td><td>TPCN1  </td><td>chr12</td><td>113296542</td><td>113296542</td><td>12:113296542:G:A</td><td> 4.593750</td><td>0.006622541</td><td> 1</td><td>chr12_112825713_115165608</td><td>AD_Bellenguez_2022</td></tr>\n",
       "\t<tr><td>chr12</td><td>113295999</td><td>113296786</td><td>chr12:113295999:113296786</td><td>GSE114150_merged</td><td>ENSG00000186815</td><td>TPCN1  </td><td>chr12</td><td>113296659</td><td>113296659</td><td>12:113296659:A:G</td><td> 4.537500</td><td>0.005186406</td><td> 1</td><td>chr12_112825713_115165608</td><td>AD_Bellenguez_2022</td></tr>\n",
       "\t<tr><td>chr12</td><td>113299197</td><td>113300018</td><td>chr12:113299197:113300018</td><td>GSE114150_merged</td><td>ENSG00000089060</td><td>SLC8B1 </td><td>chr12</td><td>113299825</td><td>113299825</td><td>12:113299825:G:A</td><td> 4.600000</td><td>0.006806138</td><td> 1</td><td>chr12_112825713_115165608</td><td>AD_Bellenguez_2022</td></tr>\n",
       "\t<tr><td>chr15</td><td> 58692838</td><td> 58693104</td><td>chr15:58692838:58693104  </td><td>GSE114150_merged</td><td>ENSG00000137845</td><td>ADAM10 </td><td>chr15</td><td> 58692965</td><td> 58692965</td><td>15:58692965:T:G </td><td>-6.527473</td><td>0.032327348</td><td> 1</td><td>chr15_58149891_59314387  </td><td>AD_Bellenguez_2022</td></tr>\n",
       "\t<tr><td>chr19</td><td>  1847506</td><td>  1848461</td><td>chr19:1847506:1848461    </td><td>GSE114150_merged</td><td>ENSG00000079313</td><td>REXO1  </td><td>chr19</td><td>  1847744</td><td>  1847744</td><td>19:1847744:G:A  </td><td>-5.659091</td><td>0.061457253</td><td> 1</td><td>chr19_1507536_3368979    </td><td>AD_Bellenguez_2022</td></tr>\n",
       "\t<tr><td>chr19</td><td>  1854085</td><td>  1854788</td><td>chr19:1854085:1854788    </td><td>GSE114150_merged</td><td>ENSG00000129911</td><td>KLF16  </td><td>chr19</td><td>  1854152</td><td>  1854152</td><td>19:1854152:G:C  </td><td>-5.733333</td><td>0.096541324</td><td> 1</td><td>chr19_1507536_3368979    </td><td>AD_Bellenguez_2022</td></tr>\n",
       "\t<tr><td>chr19</td><td>  1854085</td><td>  1854788</td><td>chr19:1854085:1854788    </td><td>GSE114150_merged</td><td>ENSG00000129911</td><td>KLF16  </td><td>chr19</td><td>  1854254</td><td>  1854254</td><td>19:1854254:G:GC </td><td>-5.815217</td><td>0.165940073</td><td> 1</td><td>chr19_1507536_3368979    </td><td>AD_Bellenguez_2022</td></tr>\n",
       "\t<tr><td>chr19</td><td> 44859766</td><td> 44860140</td><td>chr19:44859766:44860140  </td><td>GSE114150_merged</td><td>ENSG00000130202</td><td>NECTIN2</td><td>chr19</td><td> 44859997</td><td> 44859997</td><td>19:44859997:G:A </td><td>10.449438</td><td>0.192689914</td><td>15</td><td>chr19_42346101_44935906  </td><td>AD_Bellenguez_2022</td></tr>\n",
       "\t<tr><td>chr2 </td><td>134953712</td><td>134954712</td><td>chr2:134953245:134955180 </td><td>GSE114150_merged</td><td>ENSG00000082258</td><td>CCNT2  </td><td>chr2 </td><td>134953946</td><td>134953946</td><td>2:134953946:C:T </td><td> 4.535714</td><td>0.010923557</td><td> 1</td><td>chr2_134400811_137009736 </td><td>AD_Bellenguez_2022</td></tr>\n",
       "\t<tr><td>chr2 </td><td>134953712</td><td>134954712</td><td>chr2:134953245:134955180 </td><td>GSE114150_merged</td><td>ENSG00000082258</td><td>CCNT2  </td><td>chr2 </td><td>134954087</td><td>134954087</td><td>2:134954087:G:A </td><td> 4.511905</td><td>0.009860142</td><td> 1</td><td>chr2_134400811_137009736 </td><td>AD_Bellenguez_2022</td></tr>\n",
       "\t<tr><td>chr2 </td><td>202843035</td><td>202843434</td><td>chr2:202843035:202843434 </td><td>GSE114150_merged</td><td>ENSG00000163596</td><td>ICA1L  </td><td>chr2 </td><td>202843155</td><td>202843155</td><td>2:202843155:G:A </td><td>-5.008333</td><td>0.004282488</td><td> 1</td><td>chr2_201677542_203951659 </td><td>AD_Bellenguez_2022</td></tr>\n",
       "\t<tr><td>chr2 </td><td>202924671</td><td>202925412</td><td>chr2:202924671:202925412 </td><td>GSE114150_merged</td><td>ENSG00000138442</td><td>WDR12  </td><td>chr2 </td><td>202924956</td><td>202924956</td><td>2:202924956:C:T </td><td>-5.025000</td><td>0.004598489</td><td> 1</td><td>chr2_201677542_203951659 </td><td>AD_Bellenguez_2022</td></tr>\n",
       "\t<tr><td>chr2 </td><td>202924671</td><td>202925412</td><td>chr2:202924671:202925412 </td><td>GSE114150_merged</td><td>ENSG00000138380</td><td>CARF   </td><td>chr2 </td><td>202924956</td><td>202924956</td><td>2:202924956:C:T </td><td>-5.025000</td><td>0.004598489</td><td> 1</td><td>chr2_201677542_203951659 </td><td>AD_Bellenguez_2022</td></tr>\n",
       "\t<tr><td>chr2 </td><td>202925517</td><td>202926271</td><td>chr2:202925517:202926271 </td><td>GSE114150_merged</td><td>ENSG00000138442</td><td>WDR12  </td><td>chr2 </td><td>202926166</td><td>202926166</td><td>2:202926166:T:C </td><td>-5.016667</td><td>0.004437132</td><td> 1</td><td>chr2_201677542_203951659 </td><td>AD_Bellenguez_2022</td></tr>\n",
       "\t<tr><td>chr2 </td><td>202925517</td><td>202926271</td><td>chr2:202925517:202926271 </td><td>GSE114150_merged</td><td>ENSG00000138380</td><td>CARF   </td><td>chr2 </td><td>202926166</td><td>202926166</td><td>2:202926166:T:C </td><td>-5.016667</td><td>0.004437132</td><td> 1</td><td>chr2_201677542_203951659 </td><td>AD_Bellenguez_2022</td></tr>\n",
       "\t<tr><td>chr2 </td><td>202946507</td><td>202947507</td><td>chr2:202946437:202947578 </td><td>GSE114150_merged</td><td>ENSG00000138442</td><td>WDR12  </td><td>chr2 </td><td>202946905</td><td>202946905</td><td>2:202946905:G:A </td><td>-4.983333</td><td>0.003854730</td><td> 1</td><td>chr2_201677542_203951659 </td><td>AD_Bellenguez_2022</td></tr>\n",
       "\t<tr><td>chr2 </td><td>202946507</td><td>202947507</td><td>chr2:202946437:202947578 </td><td>GSE114150_merged</td><td>ENSG00000138442</td><td>WDR12  </td><td>chr2 </td><td>202947189</td><td>202947189</td><td>2:202947189:A:C </td><td>-5.008333</td><td>0.004282178</td><td> 1</td><td>chr2_201677542_203951659 </td><td>AD_Bellenguez_2022</td></tr>\n",
       "\t<tr><td>chr2 </td><td>202946507</td><td>202947507</td><td>chr2:202946437:202947578 </td><td>GSE114150_merged</td><td>ENSG00000138380</td><td>CARF   </td><td>chr2 </td><td>202946905</td><td>202946905</td><td>2:202946905:G:A </td><td>-4.983333</td><td>0.003854730</td><td> 1</td><td>chr2_201677542_203951659 </td><td>AD_Bellenguez_2022</td></tr>\n",
       "\t<tr><td>chr2 </td><td>202946507</td><td>202947507</td><td>chr2:202946437:202947578 </td><td>GSE114150_merged</td><td>ENSG00000138380</td><td>CARF   </td><td>chr2 </td><td>202947189</td><td>202947189</td><td>2:202947189:A:C </td><td>-5.008333</td><td>0.004282178</td><td> 1</td><td>chr2_201677542_203951659 </td><td>AD_Bellenguez_2022</td></tr>\n",
       "\t<tr><td>chr2 </td><td>202983419</td><td>202983767</td><td>chr2:202983419:202983767 </td><td>GSE114150_merged</td><td>ENSG00000138442</td><td>WDR12  </td><td>chr2 </td><td>202983679</td><td>202983679</td><td>2:202983679:G:A </td><td>-5.008333</td><td>0.004282489</td><td> 1</td><td>chr2_201677542_203951659 </td><td>AD_Bellenguez_2022</td></tr>\n",
       "\t<tr><td>chr2 </td><td>202983419</td><td>202983767</td><td>chr2:202983419:202983767 </td><td>GSE114150_merged</td><td>ENSG00000138380</td><td>CARF   </td><td>chr2 </td><td>202983679</td><td>202983679</td><td>2:202983679:G:A </td><td>-5.008333</td><td>0.004282489</td><td> 1</td><td>chr2_201677542_203951659 </td><td>AD_Bellenguez_2022</td></tr>\n",
       "\t<tr><td>chr5 </td><td>177515977</td><td>177516942</td><td>chr5:177515977:177516942 </td><td>GSE114150_merged</td><td>ENSG00000183258</td><td>DDX41  </td><td>chr5 </td><td>177516672</td><td>177516672</td><td>5:177516672:C:T </td><td> 4.424731</td><td>0.040098390</td><td> 1</td><td>chr5_176014330_177963776 </td><td>AD_Bellenguez_2022</td></tr>\n",
       "\t<tr><td>chr7 </td><td>100374156</td><td>100374656</td><td>chr7:100374156:100374656 </td><td>GSE114150_merged</td><td>ENSG00000085514</td><td>PILRA  </td><td>chr7 </td><td>100374211</td><td>100374211</td><td>7:100374211:A:G </td><td> 8.556818</td><td>0.205500185</td><td> 1</td><td>chr7_98297733_101733715  </td><td>AD_Bellenguez_2022</td></tr>\n",
       "\t<tr><td>chr8 </td><td> 27604941</td><td> 27605369</td><td>chr8:27604941:27605369   </td><td>GSE114150_merged</td><td>ENSG00000120885</td><td>CLU    </td><td>chr8 </td><td> 27604964</td><td> 27604964</td><td>8:27604964:A:G  </td><td>11.963855</td><td>0.037208520</td><td> 1</td><td>chr8_27515963_29469590   </td><td>AD_Bellenguez_2022</td></tr>\n",
       "</tbody>\n",
       "</table>\n"
      ],
      "text/latex": [
       "A data.frame: 37 × 16\n",
       "\\begin{tabular}{llllllllllllllll}\n",
       " chrom & start & end & hg38\\_ID & context & gene\\_id & gene\\_name & chr & start\\_variant & end\\_variant & variant\\_id & z & pip & cs\\_coverage\\_0.95\\_min\\_corr & block & study\\\\\n",
       " <chr> & <int> & <int> & <chr> & <chr> & <chr> & <chr> & <chr> & <int> & <int> & <chr> & <dbl> & <dbl> & <int> & <chr> & <chr>\\\\\n",
       "\\hline\n",
       "\t chr10 &  58269167 &  58269407 & chr10:58269167:58269407   & GSE114150\\_merged & ENSG00000122873 & CISD1   & chr10 &  58269403 &  58269403 & 10:58269403:C:T  & -4.010101 & 0.003389421 &  1 & chr10\\_57667362\\_59558848   & AD\\_Bellenguez\\_2022\\\\\n",
       "\t chr10 &  96266187 &  96266701 & chr10:96266187:96266701   & GSE114150\\_merged & ENSG00000095585 & BLNK    & chr10 &  96266318 &  96266318 & 10:96266318:A:G  &  5.182243 & 0.032637387 &  1 & chr10\\_95280986\\_98320874   & AD\\_Bellenguez\\_2022\\\\\n",
       "\t chr10 &  96266187 &  96266701 & chr10:96266187:96266701   & GSE114150\\_merged & ENSG00000095585 & BLNK    & chr10 &  96266554 &  96266554 & 10:96266554:A:G  &  5.205607 & 0.036940414 &  1 & chr10\\_95280986\\_98320874   & AD\\_Bellenguez\\_2022\\\\\n",
       "\t chr10 &  96266187 &  96266701 & chr10:96266187:96266701   & GSE114150\\_merged & ENSG00000095585 & BLNK    & chr10 &  96266650 &  96266650 & 10:96266650:G:A  &  5.224299 & 0.040605957 &  1 & chr10\\_95280986\\_98320874   & AD\\_Bellenguez\\_2022\\\\\n",
       "\t chr12 & 113158529 & 113159178 & chr12:113158529:113159178 & GSE114150\\_merged & ENSG00000186710 & CFAP73  & chr12 & 113159061 & 113159061 & 12:113159061:G:A &  4.575949 & 0.006127578 &  1 & chr12\\_112825713\\_115165608 & AD\\_Bellenguez\\_2022\\\\\n",
       "\t chr12 & 113158529 & 113159178 & chr12:113158529:113159178 & GSE114150\\_merged & ENSG00000123064 & DDX54   & chr12 & 113159061 & 113159061 & 12:113159061:G:A &  4.575949 & 0.006127578 &  1 & chr12\\_112825713\\_115165608 & AD\\_Bellenguez\\_2022\\\\\n",
       "\t chr12 & 113161818 & 113162088 & chr12:113161818:113162088 & GSE114150\\_merged & ENSG00000123064 & DDX54   & chr12 & 113162061 & 113162061 & 12:113162061:T:C &  4.490323 & 0.004234860 &  1 & chr12\\_112825713\\_115165608 & AD\\_Bellenguez\\_2022\\\\\n",
       "\t chr12 & 113162795 & 113163268 & chr12:113162795:113163268 & GSE114150\\_merged & ENSG00000123064 & DDX54   & chr12 & 113163098 & 113163098 & 12:113163098:A:G &  4.483871 & 0.004119767 &  1 & chr12\\_112825713\\_115165608 & AD\\_Bellenguez\\_2022\\\\\n",
       "\t chr12 & 113162795 & 113163268 & chr12:113162795:113163268 & GSE114150\\_merged & ENSG00000123064 & DDX54   & chr12 & 113163135 & 113163135 & 12:113163135:C:T &  4.518987 & 0.004788665 &  1 & chr12\\_112825713\\_115165608 & AD\\_Bellenguez\\_2022\\\\\n",
       "\t chr12 & 113191735 & 113192065 & chr12:113191735:113192065 & GSE114150\\_merged & ENSG00000139405 & RITA1   & chr12 & 113191832 & 113191832 & 12:113191832:G:A &  4.449367 & 0.003557680 &  1 & chr12\\_112825713\\_115165608 & AD\\_Bellenguez\\_2022\\\\\n",
       "\t chr12 & 113220931 & 113221081 & chr12:113220931:113221081 & GSE114150\\_merged & ENSG00000166578 & IQCD    & chr12 & 113221042 & 113221042 & 12:113221042:G:A &  4.563291 & 0.005799341 &  1 & chr12\\_112825713\\_115165608 & AD\\_Bellenguez\\_2022\\\\\n",
       "\t chr12 & 113220931 & 113221081 & chr12:113220931:113221081 & GSE114150\\_merged & ENSG00000186815 & TPCN1   & chr12 & 113221042 & 113221042 & 12:113221042:G:A &  4.563291 & 0.005799341 &  1 & chr12\\_112825713\\_115165608 & AD\\_Bellenguez\\_2022\\\\\n",
       "\t chr12 & 113295999 & 113296786 & chr12:113295999:113296786 & GSE114150\\_merged & ENSG00000186815 & TPCN1   & chr12 & 113296025 & 113296025 & 12:113296025:C:T &  4.606250 & 0.006995084 &  1 & chr12\\_112825713\\_115165608 & AD\\_Bellenguez\\_2022\\\\\n",
       "\t chr12 & 113295999 & 113296786 & chr12:113295999:113296786 & GSE114150\\_merged & ENSG00000186815 & TPCN1   & chr12 & 113296542 & 113296542 & 12:113296542:G:A &  4.593750 & 0.006622541 &  1 & chr12\\_112825713\\_115165608 & AD\\_Bellenguez\\_2022\\\\\n",
       "\t chr12 & 113295999 & 113296786 & chr12:113295999:113296786 & GSE114150\\_merged & ENSG00000186815 & TPCN1   & chr12 & 113296659 & 113296659 & 12:113296659:A:G &  4.537500 & 0.005186406 &  1 & chr12\\_112825713\\_115165608 & AD\\_Bellenguez\\_2022\\\\\n",
       "\t chr12 & 113299197 & 113300018 & chr12:113299197:113300018 & GSE114150\\_merged & ENSG00000089060 & SLC8B1  & chr12 & 113299825 & 113299825 & 12:113299825:G:A &  4.600000 & 0.006806138 &  1 & chr12\\_112825713\\_115165608 & AD\\_Bellenguez\\_2022\\\\\n",
       "\t chr15 &  58692838 &  58693104 & chr15:58692838:58693104   & GSE114150\\_merged & ENSG00000137845 & ADAM10  & chr15 &  58692965 &  58692965 & 15:58692965:T:G  & -6.527473 & 0.032327348 &  1 & chr15\\_58149891\\_59314387   & AD\\_Bellenguez\\_2022\\\\\n",
       "\t chr19 &   1847506 &   1848461 & chr19:1847506:1848461     & GSE114150\\_merged & ENSG00000079313 & REXO1   & chr19 &   1847744 &   1847744 & 19:1847744:G:A   & -5.659091 & 0.061457253 &  1 & chr19\\_1507536\\_3368979     & AD\\_Bellenguez\\_2022\\\\\n",
       "\t chr19 &   1854085 &   1854788 & chr19:1854085:1854788     & GSE114150\\_merged & ENSG00000129911 & KLF16   & chr19 &   1854152 &   1854152 & 19:1854152:G:C   & -5.733333 & 0.096541324 &  1 & chr19\\_1507536\\_3368979     & AD\\_Bellenguez\\_2022\\\\\n",
       "\t chr19 &   1854085 &   1854788 & chr19:1854085:1854788     & GSE114150\\_merged & ENSG00000129911 & KLF16   & chr19 &   1854254 &   1854254 & 19:1854254:G:GC  & -5.815217 & 0.165940073 &  1 & chr19\\_1507536\\_3368979     & AD\\_Bellenguez\\_2022\\\\\n",
       "\t chr19 &  44859766 &  44860140 & chr19:44859766:44860140   & GSE114150\\_merged & ENSG00000130202 & NECTIN2 & chr19 &  44859997 &  44859997 & 19:44859997:G:A  & 10.449438 & 0.192689914 & 15 & chr19\\_42346101\\_44935906   & AD\\_Bellenguez\\_2022\\\\\n",
       "\t chr2  & 134953712 & 134954712 & chr2:134953245:134955180  & GSE114150\\_merged & ENSG00000082258 & CCNT2   & chr2  & 134953946 & 134953946 & 2:134953946:C:T  &  4.535714 & 0.010923557 &  1 & chr2\\_134400811\\_137009736  & AD\\_Bellenguez\\_2022\\\\\n",
       "\t chr2  & 134953712 & 134954712 & chr2:134953245:134955180  & GSE114150\\_merged & ENSG00000082258 & CCNT2   & chr2  & 134954087 & 134954087 & 2:134954087:G:A  &  4.511905 & 0.009860142 &  1 & chr2\\_134400811\\_137009736  & AD\\_Bellenguez\\_2022\\\\\n",
       "\t chr2  & 202843035 & 202843434 & chr2:202843035:202843434  & GSE114150\\_merged & ENSG00000163596 & ICA1L   & chr2  & 202843155 & 202843155 & 2:202843155:G:A  & -5.008333 & 0.004282488 &  1 & chr2\\_201677542\\_203951659  & AD\\_Bellenguez\\_2022\\\\\n",
       "\t chr2  & 202924671 & 202925412 & chr2:202924671:202925412  & GSE114150\\_merged & ENSG00000138442 & WDR12   & chr2  & 202924956 & 202924956 & 2:202924956:C:T  & -5.025000 & 0.004598489 &  1 & chr2\\_201677542\\_203951659  & AD\\_Bellenguez\\_2022\\\\\n",
       "\t chr2  & 202924671 & 202925412 & chr2:202924671:202925412  & GSE114150\\_merged & ENSG00000138380 & CARF    & chr2  & 202924956 & 202924956 & 2:202924956:C:T  & -5.025000 & 0.004598489 &  1 & chr2\\_201677542\\_203951659  & AD\\_Bellenguez\\_2022\\\\\n",
       "\t chr2  & 202925517 & 202926271 & chr2:202925517:202926271  & GSE114150\\_merged & ENSG00000138442 & WDR12   & chr2  & 202926166 & 202926166 & 2:202926166:T:C  & -5.016667 & 0.004437132 &  1 & chr2\\_201677542\\_203951659  & AD\\_Bellenguez\\_2022\\\\\n",
       "\t chr2  & 202925517 & 202926271 & chr2:202925517:202926271  & GSE114150\\_merged & ENSG00000138380 & CARF    & chr2  & 202926166 & 202926166 & 2:202926166:T:C  & -5.016667 & 0.004437132 &  1 & chr2\\_201677542\\_203951659  & AD\\_Bellenguez\\_2022\\\\\n",
       "\t chr2  & 202946507 & 202947507 & chr2:202946437:202947578  & GSE114150\\_merged & ENSG00000138442 & WDR12   & chr2  & 202946905 & 202946905 & 2:202946905:G:A  & -4.983333 & 0.003854730 &  1 & chr2\\_201677542\\_203951659  & AD\\_Bellenguez\\_2022\\\\\n",
       "\t chr2  & 202946507 & 202947507 & chr2:202946437:202947578  & GSE114150\\_merged & ENSG00000138442 & WDR12   & chr2  & 202947189 & 202947189 & 2:202947189:A:C  & -5.008333 & 0.004282178 &  1 & chr2\\_201677542\\_203951659  & AD\\_Bellenguez\\_2022\\\\\n",
       "\t chr2  & 202946507 & 202947507 & chr2:202946437:202947578  & GSE114150\\_merged & ENSG00000138380 & CARF    & chr2  & 202946905 & 202946905 & 2:202946905:G:A  & -4.983333 & 0.003854730 &  1 & chr2\\_201677542\\_203951659  & AD\\_Bellenguez\\_2022\\\\\n",
       "\t chr2  & 202946507 & 202947507 & chr2:202946437:202947578  & GSE114150\\_merged & ENSG00000138380 & CARF    & chr2  & 202947189 & 202947189 & 2:202947189:A:C  & -5.008333 & 0.004282178 &  1 & chr2\\_201677542\\_203951659  & AD\\_Bellenguez\\_2022\\\\\n",
       "\t chr2  & 202983419 & 202983767 & chr2:202983419:202983767  & GSE114150\\_merged & ENSG00000138442 & WDR12   & chr2  & 202983679 & 202983679 & 2:202983679:G:A  & -5.008333 & 0.004282489 &  1 & chr2\\_201677542\\_203951659  & AD\\_Bellenguez\\_2022\\\\\n",
       "\t chr2  & 202983419 & 202983767 & chr2:202983419:202983767  & GSE114150\\_merged & ENSG00000138380 & CARF    & chr2  & 202983679 & 202983679 & 2:202983679:G:A  & -5.008333 & 0.004282489 &  1 & chr2\\_201677542\\_203951659  & AD\\_Bellenguez\\_2022\\\\\n",
       "\t chr5  & 177515977 & 177516942 & chr5:177515977:177516942  & GSE114150\\_merged & ENSG00000183258 & DDX41   & chr5  & 177516672 & 177516672 & 5:177516672:C:T  &  4.424731 & 0.040098390 &  1 & chr5\\_176014330\\_177963776  & AD\\_Bellenguez\\_2022\\\\\n",
       "\t chr7  & 100374156 & 100374656 & chr7:100374156:100374656  & GSE114150\\_merged & ENSG00000085514 & PILRA   & chr7  & 100374211 & 100374211 & 7:100374211:A:G  &  8.556818 & 0.205500185 &  1 & chr7\\_98297733\\_101733715   & AD\\_Bellenguez\\_2022\\\\\n",
       "\t chr8  &  27604941 &  27605369 & chr8:27604941:27605369    & GSE114150\\_merged & ENSG00000120885 & CLU     & chr8  &  27604964 &  27604964 & 8:27604964:A:G   & 11.963855 & 0.037208520 &  1 & chr8\\_27515963\\_29469590    & AD\\_Bellenguez\\_2022\\\\\n",
       "\\end{tabular}\n"
      ],
      "text/markdown": [
       "\n",
       "A data.frame: 37 × 16\n",
       "\n",
       "| chrom &lt;chr&gt; | start &lt;int&gt; | end &lt;int&gt; | hg38_ID &lt;chr&gt; | context &lt;chr&gt; | gene_id &lt;chr&gt; | gene_name &lt;chr&gt; | chr &lt;chr&gt; | start_variant &lt;int&gt; | end_variant &lt;int&gt; | variant_id &lt;chr&gt; | z &lt;dbl&gt; | pip &lt;dbl&gt; | cs_coverage_0.95_min_corr &lt;int&gt; | block &lt;chr&gt; | study &lt;chr&gt; |\n",
       "|---|---|---|---|---|---|---|---|---|---|---|---|---|---|---|---|\n",
       "| chr10 |  58269167 |  58269407 | chr10:58269167:58269407   | GSE114150_merged | ENSG00000122873 | CISD1   | chr10 |  58269403 |  58269403 | 10:58269403:C:T  | -4.010101 | 0.003389421 |  1 | chr10_57667362_59558848   | AD_Bellenguez_2022 |\n",
       "| chr10 |  96266187 |  96266701 | chr10:96266187:96266701   | GSE114150_merged | ENSG00000095585 | BLNK    | chr10 |  96266318 |  96266318 | 10:96266318:A:G  |  5.182243 | 0.032637387 |  1 | chr10_95280986_98320874   | AD_Bellenguez_2022 |\n",
       "| chr10 |  96266187 |  96266701 | chr10:96266187:96266701   | GSE114150_merged | ENSG00000095585 | BLNK    | chr10 |  96266554 |  96266554 | 10:96266554:A:G  |  5.205607 | 0.036940414 |  1 | chr10_95280986_98320874   | AD_Bellenguez_2022 |\n",
       "| chr10 |  96266187 |  96266701 | chr10:96266187:96266701   | GSE114150_merged | ENSG00000095585 | BLNK    | chr10 |  96266650 |  96266650 | 10:96266650:G:A  |  5.224299 | 0.040605957 |  1 | chr10_95280986_98320874   | AD_Bellenguez_2022 |\n",
       "| chr12 | 113158529 | 113159178 | chr12:113158529:113159178 | GSE114150_merged | ENSG00000186710 | CFAP73  | chr12 | 113159061 | 113159061 | 12:113159061:G:A |  4.575949 | 0.006127578 |  1 | chr12_112825713_115165608 | AD_Bellenguez_2022 |\n",
       "| chr12 | 113158529 | 113159178 | chr12:113158529:113159178 | GSE114150_merged | ENSG00000123064 | DDX54   | chr12 | 113159061 | 113159061 | 12:113159061:G:A |  4.575949 | 0.006127578 |  1 | chr12_112825713_115165608 | AD_Bellenguez_2022 |\n",
       "| chr12 | 113161818 | 113162088 | chr12:113161818:113162088 | GSE114150_merged | ENSG00000123064 | DDX54   | chr12 | 113162061 | 113162061 | 12:113162061:T:C |  4.490323 | 0.004234860 |  1 | chr12_112825713_115165608 | AD_Bellenguez_2022 |\n",
       "| chr12 | 113162795 | 113163268 | chr12:113162795:113163268 | GSE114150_merged | ENSG00000123064 | DDX54   | chr12 | 113163098 | 113163098 | 12:113163098:A:G |  4.483871 | 0.004119767 |  1 | chr12_112825713_115165608 | AD_Bellenguez_2022 |\n",
       "| chr12 | 113162795 | 113163268 | chr12:113162795:113163268 | GSE114150_merged | ENSG00000123064 | DDX54   | chr12 | 113163135 | 113163135 | 12:113163135:C:T |  4.518987 | 0.004788665 |  1 | chr12_112825713_115165608 | AD_Bellenguez_2022 |\n",
       "| chr12 | 113191735 | 113192065 | chr12:113191735:113192065 | GSE114150_merged | ENSG00000139405 | RITA1   | chr12 | 113191832 | 113191832 | 12:113191832:G:A |  4.449367 | 0.003557680 |  1 | chr12_112825713_115165608 | AD_Bellenguez_2022 |\n",
       "| chr12 | 113220931 | 113221081 | chr12:113220931:113221081 | GSE114150_merged | ENSG00000166578 | IQCD    | chr12 | 113221042 | 113221042 | 12:113221042:G:A |  4.563291 | 0.005799341 |  1 | chr12_112825713_115165608 | AD_Bellenguez_2022 |\n",
       "| chr12 | 113220931 | 113221081 | chr12:113220931:113221081 | GSE114150_merged | ENSG00000186815 | TPCN1   | chr12 | 113221042 | 113221042 | 12:113221042:G:A |  4.563291 | 0.005799341 |  1 | chr12_112825713_115165608 | AD_Bellenguez_2022 |\n",
       "| chr12 | 113295999 | 113296786 | chr12:113295999:113296786 | GSE114150_merged | ENSG00000186815 | TPCN1   | chr12 | 113296025 | 113296025 | 12:113296025:C:T |  4.606250 | 0.006995084 |  1 | chr12_112825713_115165608 | AD_Bellenguez_2022 |\n",
       "| chr12 | 113295999 | 113296786 | chr12:113295999:113296786 | GSE114150_merged | ENSG00000186815 | TPCN1   | chr12 | 113296542 | 113296542 | 12:113296542:G:A |  4.593750 | 0.006622541 |  1 | chr12_112825713_115165608 | AD_Bellenguez_2022 |\n",
       "| chr12 | 113295999 | 113296786 | chr12:113295999:113296786 | GSE114150_merged | ENSG00000186815 | TPCN1   | chr12 | 113296659 | 113296659 | 12:113296659:A:G |  4.537500 | 0.005186406 |  1 | chr12_112825713_115165608 | AD_Bellenguez_2022 |\n",
       "| chr12 | 113299197 | 113300018 | chr12:113299197:113300018 | GSE114150_merged | ENSG00000089060 | SLC8B1  | chr12 | 113299825 | 113299825 | 12:113299825:G:A |  4.600000 | 0.006806138 |  1 | chr12_112825713_115165608 | AD_Bellenguez_2022 |\n",
       "| chr15 |  58692838 |  58693104 | chr15:58692838:58693104   | GSE114150_merged | ENSG00000137845 | ADAM10  | chr15 |  58692965 |  58692965 | 15:58692965:T:G  | -6.527473 | 0.032327348 |  1 | chr15_58149891_59314387   | AD_Bellenguez_2022 |\n",
       "| chr19 |   1847506 |   1848461 | chr19:1847506:1848461     | GSE114150_merged | ENSG00000079313 | REXO1   | chr19 |   1847744 |   1847744 | 19:1847744:G:A   | -5.659091 | 0.061457253 |  1 | chr19_1507536_3368979     | AD_Bellenguez_2022 |\n",
       "| chr19 |   1854085 |   1854788 | chr19:1854085:1854788     | GSE114150_merged | ENSG00000129911 | KLF16   | chr19 |   1854152 |   1854152 | 19:1854152:G:C   | -5.733333 | 0.096541324 |  1 | chr19_1507536_3368979     | AD_Bellenguez_2022 |\n",
       "| chr19 |   1854085 |   1854788 | chr19:1854085:1854788     | GSE114150_merged | ENSG00000129911 | KLF16   | chr19 |   1854254 |   1854254 | 19:1854254:G:GC  | -5.815217 | 0.165940073 |  1 | chr19_1507536_3368979     | AD_Bellenguez_2022 |\n",
       "| chr19 |  44859766 |  44860140 | chr19:44859766:44860140   | GSE114150_merged | ENSG00000130202 | NECTIN2 | chr19 |  44859997 |  44859997 | 19:44859997:G:A  | 10.449438 | 0.192689914 | 15 | chr19_42346101_44935906   | AD_Bellenguez_2022 |\n",
       "| chr2  | 134953712 | 134954712 | chr2:134953245:134955180  | GSE114150_merged | ENSG00000082258 | CCNT2   | chr2  | 134953946 | 134953946 | 2:134953946:C:T  |  4.535714 | 0.010923557 |  1 | chr2_134400811_137009736  | AD_Bellenguez_2022 |\n",
       "| chr2  | 134953712 | 134954712 | chr2:134953245:134955180  | GSE114150_merged | ENSG00000082258 | CCNT2   | chr2  | 134954087 | 134954087 | 2:134954087:G:A  |  4.511905 | 0.009860142 |  1 | chr2_134400811_137009736  | AD_Bellenguez_2022 |\n",
       "| chr2  | 202843035 | 202843434 | chr2:202843035:202843434  | GSE114150_merged | ENSG00000163596 | ICA1L   | chr2  | 202843155 | 202843155 | 2:202843155:G:A  | -5.008333 | 0.004282488 |  1 | chr2_201677542_203951659  | AD_Bellenguez_2022 |\n",
       "| chr2  | 202924671 | 202925412 | chr2:202924671:202925412  | GSE114150_merged | ENSG00000138442 | WDR12   | chr2  | 202924956 | 202924956 | 2:202924956:C:T  | -5.025000 | 0.004598489 |  1 | chr2_201677542_203951659  | AD_Bellenguez_2022 |\n",
       "| chr2  | 202924671 | 202925412 | chr2:202924671:202925412  | GSE114150_merged | ENSG00000138380 | CARF    | chr2  | 202924956 | 202924956 | 2:202924956:C:T  | -5.025000 | 0.004598489 |  1 | chr2_201677542_203951659  | AD_Bellenguez_2022 |\n",
       "| chr2  | 202925517 | 202926271 | chr2:202925517:202926271  | GSE114150_merged | ENSG00000138442 | WDR12   | chr2  | 202926166 | 202926166 | 2:202926166:T:C  | -5.016667 | 0.004437132 |  1 | chr2_201677542_203951659  | AD_Bellenguez_2022 |\n",
       "| chr2  | 202925517 | 202926271 | chr2:202925517:202926271  | GSE114150_merged | ENSG00000138380 | CARF    | chr2  | 202926166 | 202926166 | 2:202926166:T:C  | -5.016667 | 0.004437132 |  1 | chr2_201677542_203951659  | AD_Bellenguez_2022 |\n",
       "| chr2  | 202946507 | 202947507 | chr2:202946437:202947578  | GSE114150_merged | ENSG00000138442 | WDR12   | chr2  | 202946905 | 202946905 | 2:202946905:G:A  | -4.983333 | 0.003854730 |  1 | chr2_201677542_203951659  | AD_Bellenguez_2022 |\n",
       "| chr2  | 202946507 | 202947507 | chr2:202946437:202947578  | GSE114150_merged | ENSG00000138442 | WDR12   | chr2  | 202947189 | 202947189 | 2:202947189:A:C  | -5.008333 | 0.004282178 |  1 | chr2_201677542_203951659  | AD_Bellenguez_2022 |\n",
       "| chr2  | 202946507 | 202947507 | chr2:202946437:202947578  | GSE114150_merged | ENSG00000138380 | CARF    | chr2  | 202946905 | 202946905 | 2:202946905:G:A  | -4.983333 | 0.003854730 |  1 | chr2_201677542_203951659  | AD_Bellenguez_2022 |\n",
       "| chr2  | 202946507 | 202947507 | chr2:202946437:202947578  | GSE114150_merged | ENSG00000138380 | CARF    | chr2  | 202947189 | 202947189 | 2:202947189:A:C  | -5.008333 | 0.004282178 |  1 | chr2_201677542_203951659  | AD_Bellenguez_2022 |\n",
       "| chr2  | 202983419 | 202983767 | chr2:202983419:202983767  | GSE114150_merged | ENSG00000138442 | WDR12   | chr2  | 202983679 | 202983679 | 2:202983679:G:A  | -5.008333 | 0.004282489 |  1 | chr2_201677542_203951659  | AD_Bellenguez_2022 |\n",
       "| chr2  | 202983419 | 202983767 | chr2:202983419:202983767  | GSE114150_merged | ENSG00000138380 | CARF    | chr2  | 202983679 | 202983679 | 2:202983679:G:A  | -5.008333 | 0.004282489 |  1 | chr2_201677542_203951659  | AD_Bellenguez_2022 |\n",
       "| chr5  | 177515977 | 177516942 | chr5:177515977:177516942  | GSE114150_merged | ENSG00000183258 | DDX41   | chr5  | 177516672 | 177516672 | 5:177516672:C:T  |  4.424731 | 0.040098390 |  1 | chr5_176014330_177963776  | AD_Bellenguez_2022 |\n",
       "| chr7  | 100374156 | 100374656 | chr7:100374156:100374656  | GSE114150_merged | ENSG00000085514 | PILRA   | chr7  | 100374211 | 100374211 | 7:100374211:A:G  |  8.556818 | 0.205500185 |  1 | chr7_98297733_101733715   | AD_Bellenguez_2022 |\n",
       "| chr8  |  27604941 |  27605369 | chr8:27604941:27605369    | GSE114150_merged | ENSG00000120885 | CLU     | chr8  |  27604964 |  27604964 | 8:27604964:A:G   | 11.963855 | 0.037208520 |  1 | chr8_27515963_29469590    | AD_Bellenguez_2022 |\n",
       "\n"
      ],
      "text/plain": [
       "   chrom start     end       hg38_ID                   context         \n",
       "1  chr10  58269167  58269407 chr10:58269167:58269407   GSE114150_merged\n",
       "2  chr10  96266187  96266701 chr10:96266187:96266701   GSE114150_merged\n",
       "3  chr10  96266187  96266701 chr10:96266187:96266701   GSE114150_merged\n",
       "4  chr10  96266187  96266701 chr10:96266187:96266701   GSE114150_merged\n",
       "5  chr12 113158529 113159178 chr12:113158529:113159178 GSE114150_merged\n",
       "6  chr12 113158529 113159178 chr12:113158529:113159178 GSE114150_merged\n",
       "7  chr12 113161818 113162088 chr12:113161818:113162088 GSE114150_merged\n",
       "8  chr12 113162795 113163268 chr12:113162795:113163268 GSE114150_merged\n",
       "9  chr12 113162795 113163268 chr12:113162795:113163268 GSE114150_merged\n",
       "10 chr12 113191735 113192065 chr12:113191735:113192065 GSE114150_merged\n",
       "11 chr12 113220931 113221081 chr12:113220931:113221081 GSE114150_merged\n",
       "12 chr12 113220931 113221081 chr12:113220931:113221081 GSE114150_merged\n",
       "13 chr12 113295999 113296786 chr12:113295999:113296786 GSE114150_merged\n",
       "14 chr12 113295999 113296786 chr12:113295999:113296786 GSE114150_merged\n",
       "15 chr12 113295999 113296786 chr12:113295999:113296786 GSE114150_merged\n",
       "16 chr12 113299197 113300018 chr12:113299197:113300018 GSE114150_merged\n",
       "17 chr15  58692838  58693104 chr15:58692838:58693104   GSE114150_merged\n",
       "18 chr19   1847506   1848461 chr19:1847506:1848461     GSE114150_merged\n",
       "19 chr19   1854085   1854788 chr19:1854085:1854788     GSE114150_merged\n",
       "20 chr19   1854085   1854788 chr19:1854085:1854788     GSE114150_merged\n",
       "21 chr19  44859766  44860140 chr19:44859766:44860140   GSE114150_merged\n",
       "22 chr2  134953712 134954712 chr2:134953245:134955180  GSE114150_merged\n",
       "23 chr2  134953712 134954712 chr2:134953245:134955180  GSE114150_merged\n",
       "24 chr2  202843035 202843434 chr2:202843035:202843434  GSE114150_merged\n",
       "25 chr2  202924671 202925412 chr2:202924671:202925412  GSE114150_merged\n",
       "26 chr2  202924671 202925412 chr2:202924671:202925412  GSE114150_merged\n",
       "27 chr2  202925517 202926271 chr2:202925517:202926271  GSE114150_merged\n",
       "28 chr2  202925517 202926271 chr2:202925517:202926271  GSE114150_merged\n",
       "29 chr2  202946507 202947507 chr2:202946437:202947578  GSE114150_merged\n",
       "30 chr2  202946507 202947507 chr2:202946437:202947578  GSE114150_merged\n",
       "31 chr2  202946507 202947507 chr2:202946437:202947578  GSE114150_merged\n",
       "32 chr2  202946507 202947507 chr2:202946437:202947578  GSE114150_merged\n",
       "33 chr2  202983419 202983767 chr2:202983419:202983767  GSE114150_merged\n",
       "34 chr2  202983419 202983767 chr2:202983419:202983767  GSE114150_merged\n",
       "35 chr5  177515977 177516942 chr5:177515977:177516942  GSE114150_merged\n",
       "36 chr7  100374156 100374656 chr7:100374156:100374656  GSE114150_merged\n",
       "37 chr8   27604941  27605369 chr8:27604941:27605369    GSE114150_merged\n",
       "   gene_id         gene_name chr   start_variant end_variant variant_id      \n",
       "1  ENSG00000122873 CISD1     chr10  58269403      58269403   10:58269403:C:T \n",
       "2  ENSG00000095585 BLNK      chr10  96266318      96266318   10:96266318:A:G \n",
       "3  ENSG00000095585 BLNK      chr10  96266554      96266554   10:96266554:A:G \n",
       "4  ENSG00000095585 BLNK      chr10  96266650      96266650   10:96266650:G:A \n",
       "5  ENSG00000186710 CFAP73    chr12 113159061     113159061   12:113159061:G:A\n",
       "6  ENSG00000123064 DDX54     chr12 113159061     113159061   12:113159061:G:A\n",
       "7  ENSG00000123064 DDX54     chr12 113162061     113162061   12:113162061:T:C\n",
       "8  ENSG00000123064 DDX54     chr12 113163098     113163098   12:113163098:A:G\n",
       "9  ENSG00000123064 DDX54     chr12 113163135     113163135   12:113163135:C:T\n",
       "10 ENSG00000139405 RITA1     chr12 113191832     113191832   12:113191832:G:A\n",
       "11 ENSG00000166578 IQCD      chr12 113221042     113221042   12:113221042:G:A\n",
       "12 ENSG00000186815 TPCN1     chr12 113221042     113221042   12:113221042:G:A\n",
       "13 ENSG00000186815 TPCN1     chr12 113296025     113296025   12:113296025:C:T\n",
       "14 ENSG00000186815 TPCN1     chr12 113296542     113296542   12:113296542:G:A\n",
       "15 ENSG00000186815 TPCN1     chr12 113296659     113296659   12:113296659:A:G\n",
       "16 ENSG00000089060 SLC8B1    chr12 113299825     113299825   12:113299825:G:A\n",
       "17 ENSG00000137845 ADAM10    chr15  58692965      58692965   15:58692965:T:G \n",
       "18 ENSG00000079313 REXO1     chr19   1847744       1847744   19:1847744:G:A  \n",
       "19 ENSG00000129911 KLF16     chr19   1854152       1854152   19:1854152:G:C  \n",
       "20 ENSG00000129911 KLF16     chr19   1854254       1854254   19:1854254:G:GC \n",
       "21 ENSG00000130202 NECTIN2   chr19  44859997      44859997   19:44859997:G:A \n",
       "22 ENSG00000082258 CCNT2     chr2  134953946     134953946   2:134953946:C:T \n",
       "23 ENSG00000082258 CCNT2     chr2  134954087     134954087   2:134954087:G:A \n",
       "24 ENSG00000163596 ICA1L     chr2  202843155     202843155   2:202843155:G:A \n",
       "25 ENSG00000138442 WDR12     chr2  202924956     202924956   2:202924956:C:T \n",
       "26 ENSG00000138380 CARF      chr2  202924956     202924956   2:202924956:C:T \n",
       "27 ENSG00000138442 WDR12     chr2  202926166     202926166   2:202926166:T:C \n",
       "28 ENSG00000138380 CARF      chr2  202926166     202926166   2:202926166:T:C \n",
       "29 ENSG00000138442 WDR12     chr2  202946905     202946905   2:202946905:G:A \n",
       "30 ENSG00000138442 WDR12     chr2  202947189     202947189   2:202947189:A:C \n",
       "31 ENSG00000138380 CARF      chr2  202946905     202946905   2:202946905:G:A \n",
       "32 ENSG00000138380 CARF      chr2  202947189     202947189   2:202947189:A:C \n",
       "33 ENSG00000138442 WDR12     chr2  202983679     202983679   2:202983679:G:A \n",
       "34 ENSG00000138380 CARF      chr2  202983679     202983679   2:202983679:G:A \n",
       "35 ENSG00000183258 DDX41     chr5  177516672     177516672   5:177516672:C:T \n",
       "36 ENSG00000085514 PILRA     chr7  100374211     100374211   7:100374211:A:G \n",
       "37 ENSG00000120885 CLU       chr8   27604964      27604964   8:27604964:A:G  \n",
       "   z         pip         cs_coverage_0.95_min_corr block                    \n",
       "1  -4.010101 0.003389421  1                        chr10_57667362_59558848  \n",
       "2   5.182243 0.032637387  1                        chr10_95280986_98320874  \n",
       "3   5.205607 0.036940414  1                        chr10_95280986_98320874  \n",
       "4   5.224299 0.040605957  1                        chr10_95280986_98320874  \n",
       "5   4.575949 0.006127578  1                        chr12_112825713_115165608\n",
       "6   4.575949 0.006127578  1                        chr12_112825713_115165608\n",
       "7   4.490323 0.004234860  1                        chr12_112825713_115165608\n",
       "8   4.483871 0.004119767  1                        chr12_112825713_115165608\n",
       "9   4.518987 0.004788665  1                        chr12_112825713_115165608\n",
       "10  4.449367 0.003557680  1                        chr12_112825713_115165608\n",
       "11  4.563291 0.005799341  1                        chr12_112825713_115165608\n",
       "12  4.563291 0.005799341  1                        chr12_112825713_115165608\n",
       "13  4.606250 0.006995084  1                        chr12_112825713_115165608\n",
       "14  4.593750 0.006622541  1                        chr12_112825713_115165608\n",
       "15  4.537500 0.005186406  1                        chr12_112825713_115165608\n",
       "16  4.600000 0.006806138  1                        chr12_112825713_115165608\n",
       "17 -6.527473 0.032327348  1                        chr15_58149891_59314387  \n",
       "18 -5.659091 0.061457253  1                        chr19_1507536_3368979    \n",
       "19 -5.733333 0.096541324  1                        chr19_1507536_3368979    \n",
       "20 -5.815217 0.165940073  1                        chr19_1507536_3368979    \n",
       "21 10.449438 0.192689914 15                        chr19_42346101_44935906  \n",
       "22  4.535714 0.010923557  1                        chr2_134400811_137009736 \n",
       "23  4.511905 0.009860142  1                        chr2_134400811_137009736 \n",
       "24 -5.008333 0.004282488  1                        chr2_201677542_203951659 \n",
       "25 -5.025000 0.004598489  1                        chr2_201677542_203951659 \n",
       "26 -5.025000 0.004598489  1                        chr2_201677542_203951659 \n",
       "27 -5.016667 0.004437132  1                        chr2_201677542_203951659 \n",
       "28 -5.016667 0.004437132  1                        chr2_201677542_203951659 \n",
       "29 -4.983333 0.003854730  1                        chr2_201677542_203951659 \n",
       "30 -5.008333 0.004282178  1                        chr2_201677542_203951659 \n",
       "31 -4.983333 0.003854730  1                        chr2_201677542_203951659 \n",
       "32 -5.008333 0.004282178  1                        chr2_201677542_203951659 \n",
       "33 -5.008333 0.004282489  1                        chr2_201677542_203951659 \n",
       "34 -5.008333 0.004282489  1                        chr2_201677542_203951659 \n",
       "35  4.424731 0.040098390  1                        chr5_176014330_177963776 \n",
       "36  8.556818 0.205500185  1                        chr7_98297733_101733715  \n",
       "37 11.963855 0.037208520  1                        chr8_27515963_29469590   \n",
       "   study             \n",
       "1  AD_Bellenguez_2022\n",
       "2  AD_Bellenguez_2022\n",
       "3  AD_Bellenguez_2022\n",
       "4  AD_Bellenguez_2022\n",
       "5  AD_Bellenguez_2022\n",
       "6  AD_Bellenguez_2022\n",
       "7  AD_Bellenguez_2022\n",
       "8  AD_Bellenguez_2022\n",
       "9  AD_Bellenguez_2022\n",
       "10 AD_Bellenguez_2022\n",
       "11 AD_Bellenguez_2022\n",
       "12 AD_Bellenguez_2022\n",
       "13 AD_Bellenguez_2022\n",
       "14 AD_Bellenguez_2022\n",
       "15 AD_Bellenguez_2022\n",
       "16 AD_Bellenguez_2022\n",
       "17 AD_Bellenguez_2022\n",
       "18 AD_Bellenguez_2022\n",
       "19 AD_Bellenguez_2022\n",
       "20 AD_Bellenguez_2022\n",
       "21 AD_Bellenguez_2022\n",
       "22 AD_Bellenguez_2022\n",
       "23 AD_Bellenguez_2022\n",
       "24 AD_Bellenguez_2022\n",
       "25 AD_Bellenguez_2022\n",
       "26 AD_Bellenguez_2022\n",
       "27 AD_Bellenguez_2022\n",
       "28 AD_Bellenguez_2022\n",
       "29 AD_Bellenguez_2022\n",
       "30 AD_Bellenguez_2022\n",
       "31 AD_Bellenguez_2022\n",
       "32 AD_Bellenguez_2022\n",
       "33 AD_Bellenguez_2022\n",
       "34 AD_Bellenguez_2022\n",
       "35 AD_Bellenguez_2022\n",
       "36 AD_Bellenguez_2022\n",
       "37 AD_Bellenguez_2022"
      ]
     },
     "metadata": {},
     "output_type": "display_data"
    }
   ],
   "source": [
    "m6a_gene_bed_ad %>% filter(context == 'GSE114150_merged') "
   ]
  },
  {
   "cell_type": "code",
   "execution_count": 33,
   "id": "09a03b50-cff5-48f3-b0d7-db775eed2629",
   "metadata": {
    "kernel": "R",
    "scrolled": true
   },
   "outputs": [
    {
     "data": {
      "text/html": [
       "<table class=\"dataframe\">\n",
       "<caption>A data.frame: 24 × 16</caption>\n",
       "<thead>\n",
       "\t<tr><th scope=col>chrom</th><th scope=col>start</th><th scope=col>end</th><th scope=col>hg38_ID</th><th scope=col>context</th><th scope=col>gene_id</th><th scope=col>gene_name</th><th scope=col>chr</th><th scope=col>start_variant</th><th scope=col>end_variant</th><th scope=col>variant_id</th><th scope=col>z</th><th scope=col>pip</th><th scope=col>cs_coverage_0.95_min_corr</th><th scope=col>block</th><th scope=col>study</th></tr>\n",
       "\t<tr><th scope=col>&lt;chr&gt;</th><th scope=col>&lt;int&gt;</th><th scope=col>&lt;int&gt;</th><th scope=col>&lt;chr&gt;</th><th scope=col>&lt;chr&gt;</th><th scope=col>&lt;chr&gt;</th><th scope=col>&lt;chr&gt;</th><th scope=col>&lt;chr&gt;</th><th scope=col>&lt;int&gt;</th><th scope=col>&lt;int&gt;</th><th scope=col>&lt;chr&gt;</th><th scope=col>&lt;dbl&gt;</th><th scope=col>&lt;dbl&gt;</th><th scope=col>&lt;int&gt;</th><th scope=col>&lt;chr&gt;</th><th scope=col>&lt;chr&gt;</th></tr>\n",
       "</thead>\n",
       "<tbody>\n",
       "\t<tr><td>chr12</td><td>113158551</td><td>113159178</td><td>chr12:113158551:113159178</td><td>GSE114150_Brain</td><td>ENSG00000186710</td><td>CFAP73 </td><td>chr12</td><td>113159061</td><td>113159061</td><td>12:113159061:G:A</td><td> 4.575949</td><td>0.006127578</td><td> 1</td><td>chr12_112825713_115165608</td><td>AD_Bellenguez_2022</td></tr>\n",
       "\t<tr><td>chr12</td><td>113158551</td><td>113159178</td><td>chr12:113158551:113159178</td><td>GSE114150_Brain</td><td>ENSG00000123064</td><td>DDX54  </td><td>chr12</td><td>113159061</td><td>113159061</td><td>12:113159061:G:A</td><td> 4.575949</td><td>0.006127578</td><td> 1</td><td>chr12_112825713_115165608</td><td>AD_Bellenguez_2022</td></tr>\n",
       "\t<tr><td>chr12</td><td>113161821</td><td>113162088</td><td>chr12:113161821:113162088</td><td>GSE114150_Brain</td><td>ENSG00000123064</td><td>DDX54  </td><td>chr12</td><td>113162061</td><td>113162061</td><td>12:113162061:T:C</td><td> 4.490323</td><td>0.004234860</td><td> 1</td><td>chr12_112825713_115165608</td><td>AD_Bellenguez_2022</td></tr>\n",
       "\t<tr><td>chr12</td><td>113162795</td><td>113163180</td><td>chr12:113162795:113163180</td><td>GSE114150_Brain</td><td>ENSG00000123064</td><td>DDX54  </td><td>chr12</td><td>113163098</td><td>113163098</td><td>12:113163098:A:G</td><td> 4.483871</td><td>0.004119767</td><td> 1</td><td>chr12_112825713_115165608</td><td>AD_Bellenguez_2022</td></tr>\n",
       "\t<tr><td>chr12</td><td>113162795</td><td>113163180</td><td>chr12:113162795:113163180</td><td>GSE114150_Brain</td><td>ENSG00000123064</td><td>DDX54  </td><td>chr12</td><td>113163135</td><td>113163135</td><td>12:113163135:C:T</td><td> 4.518987</td><td>0.004788665</td><td> 1</td><td>chr12_112825713_115165608</td><td>AD_Bellenguez_2022</td></tr>\n",
       "\t<tr><td>chr12</td><td>113191735</td><td>113192015</td><td>chr12:113191735:113192015</td><td>GSE114150_Brain</td><td>ENSG00000139405</td><td>RITA1  </td><td>chr12</td><td>113191832</td><td>113191832</td><td>12:113191832:G:A</td><td> 4.449367</td><td>0.003557680</td><td> 1</td><td>chr12_112825713_115165608</td><td>AD_Bellenguez_2022</td></tr>\n",
       "\t<tr><td>chr12</td><td>113220931</td><td>113221081</td><td>chr12:113220931:113221081</td><td>GSE114150_Brain</td><td>ENSG00000166578</td><td>IQCD   </td><td>chr12</td><td>113221042</td><td>113221042</td><td>12:113221042:G:A</td><td> 4.563291</td><td>0.005799341</td><td> 1</td><td>chr12_112825713_115165608</td><td>AD_Bellenguez_2022</td></tr>\n",
       "\t<tr><td>chr12</td><td>113220931</td><td>113221081</td><td>chr12:113220931:113221081</td><td>GSE114150_Brain</td><td>ENSG00000186815</td><td>TPCN1  </td><td>chr12</td><td>113221042</td><td>113221042</td><td>12:113221042:G:A</td><td> 4.563291</td><td>0.005799341</td><td> 1</td><td>chr12_112825713_115165608</td><td>AD_Bellenguez_2022</td></tr>\n",
       "\t<tr><td>chr19</td><td>  1854218</td><td>  1854735</td><td>chr19:1854218:1854735    </td><td>GSE114150_Brain</td><td>ENSG00000129911</td><td>KLF16  </td><td>chr19</td><td>  1854254</td><td>  1854254</td><td>19:1854254:G:GC </td><td>-5.815217</td><td>0.165940073</td><td> 1</td><td>chr19_1507536_3368979    </td><td>AD_Bellenguez_2022</td></tr>\n",
       "\t<tr><td>chr19</td><td> 44859854</td><td> 44860081</td><td>chr19:44859854:44860081  </td><td>GSE114150_Brain</td><td>ENSG00000130202</td><td>NECTIN2</td><td>chr19</td><td> 44859997</td><td> 44859997</td><td>19:44859997:G:A </td><td>10.449438</td><td>0.192689914</td><td>15</td><td>chr19_42346101_44935906  </td><td>AD_Bellenguez_2022</td></tr>\n",
       "\t<tr><td>chr2 </td><td>134953712</td><td>134954712</td><td>chr2:134953245:134955180 </td><td>GSE114150_Brain</td><td>ENSG00000082258</td><td>CCNT2  </td><td>chr2 </td><td>134953946</td><td>134953946</td><td>2:134953946:C:T </td><td> 4.535714</td><td>0.010923557</td><td> 1</td><td>chr2_134400811_137009736 </td><td>AD_Bellenguez_2022</td></tr>\n",
       "\t<tr><td>chr2 </td><td>134953712</td><td>134954712</td><td>chr2:134953245:134955180 </td><td>GSE114150_Brain</td><td>ENSG00000082258</td><td>CCNT2  </td><td>chr2 </td><td>134954087</td><td>134954087</td><td>2:134954087:G:A </td><td> 4.511905</td><td>0.009860142</td><td> 1</td><td>chr2_134400811_137009736 </td><td>AD_Bellenguez_2022</td></tr>\n",
       "\t<tr><td>chr2 </td><td>202843035</td><td>202843434</td><td>chr2:202843035:202843434 </td><td>GSE114150_Brain</td><td>ENSG00000163596</td><td>ICA1L  </td><td>chr2 </td><td>202843155</td><td>202843155</td><td>2:202843155:G:A </td><td>-5.008333</td><td>0.004282488</td><td> 1</td><td>chr2_201677542_203951659 </td><td>AD_Bellenguez_2022</td></tr>\n",
       "\t<tr><td>chr2 </td><td>202924671</td><td>202925412</td><td>chr2:202924671:202925412 </td><td>GSE114150_Brain</td><td>ENSG00000138442</td><td>WDR12  </td><td>chr2 </td><td>202924956</td><td>202924956</td><td>2:202924956:C:T </td><td>-5.025000</td><td>0.004598489</td><td> 1</td><td>chr2_201677542_203951659 </td><td>AD_Bellenguez_2022</td></tr>\n",
       "\t<tr><td>chr2 </td><td>202924671</td><td>202925412</td><td>chr2:202924671:202925412 </td><td>GSE114150_Brain</td><td>ENSG00000138380</td><td>CARF   </td><td>chr2 </td><td>202924956</td><td>202924956</td><td>2:202924956:C:T </td><td>-5.025000</td><td>0.004598489</td><td> 1</td><td>chr2_201677542_203951659 </td><td>AD_Bellenguez_2022</td></tr>\n",
       "\t<tr><td>chr2 </td><td>202946486</td><td>202947486</td><td>chr2:202946450:202947523 </td><td>GSE114150_Brain</td><td>ENSG00000138442</td><td>WDR12  </td><td>chr2 </td><td>202946905</td><td>202946905</td><td>2:202946905:G:A </td><td>-4.983333</td><td>0.003854730</td><td> 1</td><td>chr2_201677542_203951659 </td><td>AD_Bellenguez_2022</td></tr>\n",
       "\t<tr><td>chr2 </td><td>202946486</td><td>202947486</td><td>chr2:202946450:202947523 </td><td>GSE114150_Brain</td><td>ENSG00000138442</td><td>WDR12  </td><td>chr2 </td><td>202947189</td><td>202947189</td><td>2:202947189:A:C </td><td>-5.008333</td><td>0.004282178</td><td> 1</td><td>chr2_201677542_203951659 </td><td>AD_Bellenguez_2022</td></tr>\n",
       "\t<tr><td>chr2 </td><td>202946486</td><td>202947486</td><td>chr2:202946450:202947523 </td><td>GSE114150_Brain</td><td>ENSG00000138380</td><td>CARF   </td><td>chr2 </td><td>202946905</td><td>202946905</td><td>2:202946905:G:A </td><td>-4.983333</td><td>0.003854730</td><td> 1</td><td>chr2_201677542_203951659 </td><td>AD_Bellenguez_2022</td></tr>\n",
       "\t<tr><td>chr2 </td><td>202946486</td><td>202947486</td><td>chr2:202946450:202947523 </td><td>GSE114150_Brain</td><td>ENSG00000138380</td><td>CARF   </td><td>chr2 </td><td>202947189</td><td>202947189</td><td>2:202947189:A:C </td><td>-5.008333</td><td>0.004282178</td><td> 1</td><td>chr2_201677542_203951659 </td><td>AD_Bellenguez_2022</td></tr>\n",
       "\t<tr><td>chr2 </td><td>202983419</td><td>202983739</td><td>chr2:202983419:202983739 </td><td>GSE114150_Brain</td><td>ENSG00000138442</td><td>WDR12  </td><td>chr2 </td><td>202983679</td><td>202983679</td><td>2:202983679:G:A </td><td>-5.008333</td><td>0.004282489</td><td> 1</td><td>chr2_201677542_203951659 </td><td>AD_Bellenguez_2022</td></tr>\n",
       "\t<tr><td>chr2 </td><td>202983419</td><td>202983739</td><td>chr2:202983419:202983739 </td><td>GSE114150_Brain</td><td>ENSG00000138380</td><td>CARF   </td><td>chr2 </td><td>202983679</td><td>202983679</td><td>2:202983679:G:A </td><td>-5.008333</td><td>0.004282489</td><td> 1</td><td>chr2_201677542_203951659 </td><td>AD_Bellenguez_2022</td></tr>\n",
       "\t<tr><td>chr5 </td><td>177515977</td><td>177516937</td><td>chr5:177515977:177516937 </td><td>GSE114150_Brain</td><td>ENSG00000183258</td><td>DDX41  </td><td>chr5 </td><td>177516672</td><td>177516672</td><td>5:177516672:C:T </td><td> 4.424731</td><td>0.040098390</td><td> 1</td><td>chr5_176014330_177963776 </td><td>AD_Bellenguez_2022</td></tr>\n",
       "\t<tr><td>chr7 </td><td>100374156</td><td>100374656</td><td>chr7:100374156:100374656 </td><td>GSE114150_Brain</td><td>ENSG00000085514</td><td>PILRA  </td><td>chr7 </td><td>100374211</td><td>100374211</td><td>7:100374211:A:G </td><td> 8.556818</td><td>0.205500185</td><td> 1</td><td>chr7_98297733_101733715  </td><td>AD_Bellenguez_2022</td></tr>\n",
       "\t<tr><td>chr8 </td><td> 27604960</td><td> 27605366</td><td>chr8:27604960:27605366   </td><td>GSE114150_Brain</td><td>ENSG00000120885</td><td>CLU    </td><td>chr8 </td><td> 27604964</td><td> 27604964</td><td>8:27604964:A:G  </td><td>11.963855</td><td>0.037208520</td><td> 1</td><td>chr8_27515963_29469590   </td><td>AD_Bellenguez_2022</td></tr>\n",
       "</tbody>\n",
       "</table>\n"
      ],
      "text/latex": [
       "A data.frame: 24 × 16\n",
       "\\begin{tabular}{llllllllllllllll}\n",
       " chrom & start & end & hg38\\_ID & context & gene\\_id & gene\\_name & chr & start\\_variant & end\\_variant & variant\\_id & z & pip & cs\\_coverage\\_0.95\\_min\\_corr & block & study\\\\\n",
       " <chr> & <int> & <int> & <chr> & <chr> & <chr> & <chr> & <chr> & <int> & <int> & <chr> & <dbl> & <dbl> & <int> & <chr> & <chr>\\\\\n",
       "\\hline\n",
       "\t chr12 & 113158551 & 113159178 & chr12:113158551:113159178 & GSE114150\\_Brain & ENSG00000186710 & CFAP73  & chr12 & 113159061 & 113159061 & 12:113159061:G:A &  4.575949 & 0.006127578 &  1 & chr12\\_112825713\\_115165608 & AD\\_Bellenguez\\_2022\\\\\n",
       "\t chr12 & 113158551 & 113159178 & chr12:113158551:113159178 & GSE114150\\_Brain & ENSG00000123064 & DDX54   & chr12 & 113159061 & 113159061 & 12:113159061:G:A &  4.575949 & 0.006127578 &  1 & chr12\\_112825713\\_115165608 & AD\\_Bellenguez\\_2022\\\\\n",
       "\t chr12 & 113161821 & 113162088 & chr12:113161821:113162088 & GSE114150\\_Brain & ENSG00000123064 & DDX54   & chr12 & 113162061 & 113162061 & 12:113162061:T:C &  4.490323 & 0.004234860 &  1 & chr12\\_112825713\\_115165608 & AD\\_Bellenguez\\_2022\\\\\n",
       "\t chr12 & 113162795 & 113163180 & chr12:113162795:113163180 & GSE114150\\_Brain & ENSG00000123064 & DDX54   & chr12 & 113163098 & 113163098 & 12:113163098:A:G &  4.483871 & 0.004119767 &  1 & chr12\\_112825713\\_115165608 & AD\\_Bellenguez\\_2022\\\\\n",
       "\t chr12 & 113162795 & 113163180 & chr12:113162795:113163180 & GSE114150\\_Brain & ENSG00000123064 & DDX54   & chr12 & 113163135 & 113163135 & 12:113163135:C:T &  4.518987 & 0.004788665 &  1 & chr12\\_112825713\\_115165608 & AD\\_Bellenguez\\_2022\\\\\n",
       "\t chr12 & 113191735 & 113192015 & chr12:113191735:113192015 & GSE114150\\_Brain & ENSG00000139405 & RITA1   & chr12 & 113191832 & 113191832 & 12:113191832:G:A &  4.449367 & 0.003557680 &  1 & chr12\\_112825713\\_115165608 & AD\\_Bellenguez\\_2022\\\\\n",
       "\t chr12 & 113220931 & 113221081 & chr12:113220931:113221081 & GSE114150\\_Brain & ENSG00000166578 & IQCD    & chr12 & 113221042 & 113221042 & 12:113221042:G:A &  4.563291 & 0.005799341 &  1 & chr12\\_112825713\\_115165608 & AD\\_Bellenguez\\_2022\\\\\n",
       "\t chr12 & 113220931 & 113221081 & chr12:113220931:113221081 & GSE114150\\_Brain & ENSG00000186815 & TPCN1   & chr12 & 113221042 & 113221042 & 12:113221042:G:A &  4.563291 & 0.005799341 &  1 & chr12\\_112825713\\_115165608 & AD\\_Bellenguez\\_2022\\\\\n",
       "\t chr19 &   1854218 &   1854735 & chr19:1854218:1854735     & GSE114150\\_Brain & ENSG00000129911 & KLF16   & chr19 &   1854254 &   1854254 & 19:1854254:G:GC  & -5.815217 & 0.165940073 &  1 & chr19\\_1507536\\_3368979     & AD\\_Bellenguez\\_2022\\\\\n",
       "\t chr19 &  44859854 &  44860081 & chr19:44859854:44860081   & GSE114150\\_Brain & ENSG00000130202 & NECTIN2 & chr19 &  44859997 &  44859997 & 19:44859997:G:A  & 10.449438 & 0.192689914 & 15 & chr19\\_42346101\\_44935906   & AD\\_Bellenguez\\_2022\\\\\n",
       "\t chr2  & 134953712 & 134954712 & chr2:134953245:134955180  & GSE114150\\_Brain & ENSG00000082258 & CCNT2   & chr2  & 134953946 & 134953946 & 2:134953946:C:T  &  4.535714 & 0.010923557 &  1 & chr2\\_134400811\\_137009736  & AD\\_Bellenguez\\_2022\\\\\n",
       "\t chr2  & 134953712 & 134954712 & chr2:134953245:134955180  & GSE114150\\_Brain & ENSG00000082258 & CCNT2   & chr2  & 134954087 & 134954087 & 2:134954087:G:A  &  4.511905 & 0.009860142 &  1 & chr2\\_134400811\\_137009736  & AD\\_Bellenguez\\_2022\\\\\n",
       "\t chr2  & 202843035 & 202843434 & chr2:202843035:202843434  & GSE114150\\_Brain & ENSG00000163596 & ICA1L   & chr2  & 202843155 & 202843155 & 2:202843155:G:A  & -5.008333 & 0.004282488 &  1 & chr2\\_201677542\\_203951659  & AD\\_Bellenguez\\_2022\\\\\n",
       "\t chr2  & 202924671 & 202925412 & chr2:202924671:202925412  & GSE114150\\_Brain & ENSG00000138442 & WDR12   & chr2  & 202924956 & 202924956 & 2:202924956:C:T  & -5.025000 & 0.004598489 &  1 & chr2\\_201677542\\_203951659  & AD\\_Bellenguez\\_2022\\\\\n",
       "\t chr2  & 202924671 & 202925412 & chr2:202924671:202925412  & GSE114150\\_Brain & ENSG00000138380 & CARF    & chr2  & 202924956 & 202924956 & 2:202924956:C:T  & -5.025000 & 0.004598489 &  1 & chr2\\_201677542\\_203951659  & AD\\_Bellenguez\\_2022\\\\\n",
       "\t chr2  & 202946486 & 202947486 & chr2:202946450:202947523  & GSE114150\\_Brain & ENSG00000138442 & WDR12   & chr2  & 202946905 & 202946905 & 2:202946905:G:A  & -4.983333 & 0.003854730 &  1 & chr2\\_201677542\\_203951659  & AD\\_Bellenguez\\_2022\\\\\n",
       "\t chr2  & 202946486 & 202947486 & chr2:202946450:202947523  & GSE114150\\_Brain & ENSG00000138442 & WDR12   & chr2  & 202947189 & 202947189 & 2:202947189:A:C  & -5.008333 & 0.004282178 &  1 & chr2\\_201677542\\_203951659  & AD\\_Bellenguez\\_2022\\\\\n",
       "\t chr2  & 202946486 & 202947486 & chr2:202946450:202947523  & GSE114150\\_Brain & ENSG00000138380 & CARF    & chr2  & 202946905 & 202946905 & 2:202946905:G:A  & -4.983333 & 0.003854730 &  1 & chr2\\_201677542\\_203951659  & AD\\_Bellenguez\\_2022\\\\\n",
       "\t chr2  & 202946486 & 202947486 & chr2:202946450:202947523  & GSE114150\\_Brain & ENSG00000138380 & CARF    & chr2  & 202947189 & 202947189 & 2:202947189:A:C  & -5.008333 & 0.004282178 &  1 & chr2\\_201677542\\_203951659  & AD\\_Bellenguez\\_2022\\\\\n",
       "\t chr2  & 202983419 & 202983739 & chr2:202983419:202983739  & GSE114150\\_Brain & ENSG00000138442 & WDR12   & chr2  & 202983679 & 202983679 & 2:202983679:G:A  & -5.008333 & 0.004282489 &  1 & chr2\\_201677542\\_203951659  & AD\\_Bellenguez\\_2022\\\\\n",
       "\t chr2  & 202983419 & 202983739 & chr2:202983419:202983739  & GSE114150\\_Brain & ENSG00000138380 & CARF    & chr2  & 202983679 & 202983679 & 2:202983679:G:A  & -5.008333 & 0.004282489 &  1 & chr2\\_201677542\\_203951659  & AD\\_Bellenguez\\_2022\\\\\n",
       "\t chr5  & 177515977 & 177516937 & chr5:177515977:177516937  & GSE114150\\_Brain & ENSG00000183258 & DDX41   & chr5  & 177516672 & 177516672 & 5:177516672:C:T  &  4.424731 & 0.040098390 &  1 & chr5\\_176014330\\_177963776  & AD\\_Bellenguez\\_2022\\\\\n",
       "\t chr7  & 100374156 & 100374656 & chr7:100374156:100374656  & GSE114150\\_Brain & ENSG00000085514 & PILRA   & chr7  & 100374211 & 100374211 & 7:100374211:A:G  &  8.556818 & 0.205500185 &  1 & chr7\\_98297733\\_101733715   & AD\\_Bellenguez\\_2022\\\\\n",
       "\t chr8  &  27604960 &  27605366 & chr8:27604960:27605366    & GSE114150\\_Brain & ENSG00000120885 & CLU     & chr8  &  27604964 &  27604964 & 8:27604964:A:G   & 11.963855 & 0.037208520 &  1 & chr8\\_27515963\\_29469590    & AD\\_Bellenguez\\_2022\\\\\n",
       "\\end{tabular}\n"
      ],
      "text/markdown": [
       "\n",
       "A data.frame: 24 × 16\n",
       "\n",
       "| chrom &lt;chr&gt; | start &lt;int&gt; | end &lt;int&gt; | hg38_ID &lt;chr&gt; | context &lt;chr&gt; | gene_id &lt;chr&gt; | gene_name &lt;chr&gt; | chr &lt;chr&gt; | start_variant &lt;int&gt; | end_variant &lt;int&gt; | variant_id &lt;chr&gt; | z &lt;dbl&gt; | pip &lt;dbl&gt; | cs_coverage_0.95_min_corr &lt;int&gt; | block &lt;chr&gt; | study &lt;chr&gt; |\n",
       "|---|---|---|---|---|---|---|---|---|---|---|---|---|---|---|---|\n",
       "| chr12 | 113158551 | 113159178 | chr12:113158551:113159178 | GSE114150_Brain | ENSG00000186710 | CFAP73  | chr12 | 113159061 | 113159061 | 12:113159061:G:A |  4.575949 | 0.006127578 |  1 | chr12_112825713_115165608 | AD_Bellenguez_2022 |\n",
       "| chr12 | 113158551 | 113159178 | chr12:113158551:113159178 | GSE114150_Brain | ENSG00000123064 | DDX54   | chr12 | 113159061 | 113159061 | 12:113159061:G:A |  4.575949 | 0.006127578 |  1 | chr12_112825713_115165608 | AD_Bellenguez_2022 |\n",
       "| chr12 | 113161821 | 113162088 | chr12:113161821:113162088 | GSE114150_Brain | ENSG00000123064 | DDX54   | chr12 | 113162061 | 113162061 | 12:113162061:T:C |  4.490323 | 0.004234860 |  1 | chr12_112825713_115165608 | AD_Bellenguez_2022 |\n",
       "| chr12 | 113162795 | 113163180 | chr12:113162795:113163180 | GSE114150_Brain | ENSG00000123064 | DDX54   | chr12 | 113163098 | 113163098 | 12:113163098:A:G |  4.483871 | 0.004119767 |  1 | chr12_112825713_115165608 | AD_Bellenguez_2022 |\n",
       "| chr12 | 113162795 | 113163180 | chr12:113162795:113163180 | GSE114150_Brain | ENSG00000123064 | DDX54   | chr12 | 113163135 | 113163135 | 12:113163135:C:T |  4.518987 | 0.004788665 |  1 | chr12_112825713_115165608 | AD_Bellenguez_2022 |\n",
       "| chr12 | 113191735 | 113192015 | chr12:113191735:113192015 | GSE114150_Brain | ENSG00000139405 | RITA1   | chr12 | 113191832 | 113191832 | 12:113191832:G:A |  4.449367 | 0.003557680 |  1 | chr12_112825713_115165608 | AD_Bellenguez_2022 |\n",
       "| chr12 | 113220931 | 113221081 | chr12:113220931:113221081 | GSE114150_Brain | ENSG00000166578 | IQCD    | chr12 | 113221042 | 113221042 | 12:113221042:G:A |  4.563291 | 0.005799341 |  1 | chr12_112825713_115165608 | AD_Bellenguez_2022 |\n",
       "| chr12 | 113220931 | 113221081 | chr12:113220931:113221081 | GSE114150_Brain | ENSG00000186815 | TPCN1   | chr12 | 113221042 | 113221042 | 12:113221042:G:A |  4.563291 | 0.005799341 |  1 | chr12_112825713_115165608 | AD_Bellenguez_2022 |\n",
       "| chr19 |   1854218 |   1854735 | chr19:1854218:1854735     | GSE114150_Brain | ENSG00000129911 | KLF16   | chr19 |   1854254 |   1854254 | 19:1854254:G:GC  | -5.815217 | 0.165940073 |  1 | chr19_1507536_3368979     | AD_Bellenguez_2022 |\n",
       "| chr19 |  44859854 |  44860081 | chr19:44859854:44860081   | GSE114150_Brain | ENSG00000130202 | NECTIN2 | chr19 |  44859997 |  44859997 | 19:44859997:G:A  | 10.449438 | 0.192689914 | 15 | chr19_42346101_44935906   | AD_Bellenguez_2022 |\n",
       "| chr2  | 134953712 | 134954712 | chr2:134953245:134955180  | GSE114150_Brain | ENSG00000082258 | CCNT2   | chr2  | 134953946 | 134953946 | 2:134953946:C:T  |  4.535714 | 0.010923557 |  1 | chr2_134400811_137009736  | AD_Bellenguez_2022 |\n",
       "| chr2  | 134953712 | 134954712 | chr2:134953245:134955180  | GSE114150_Brain | ENSG00000082258 | CCNT2   | chr2  | 134954087 | 134954087 | 2:134954087:G:A  |  4.511905 | 0.009860142 |  1 | chr2_134400811_137009736  | AD_Bellenguez_2022 |\n",
       "| chr2  | 202843035 | 202843434 | chr2:202843035:202843434  | GSE114150_Brain | ENSG00000163596 | ICA1L   | chr2  | 202843155 | 202843155 | 2:202843155:G:A  | -5.008333 | 0.004282488 |  1 | chr2_201677542_203951659  | AD_Bellenguez_2022 |\n",
       "| chr2  | 202924671 | 202925412 | chr2:202924671:202925412  | GSE114150_Brain | ENSG00000138442 | WDR12   | chr2  | 202924956 | 202924956 | 2:202924956:C:T  | -5.025000 | 0.004598489 |  1 | chr2_201677542_203951659  | AD_Bellenguez_2022 |\n",
       "| chr2  | 202924671 | 202925412 | chr2:202924671:202925412  | GSE114150_Brain | ENSG00000138380 | CARF    | chr2  | 202924956 | 202924956 | 2:202924956:C:T  | -5.025000 | 0.004598489 |  1 | chr2_201677542_203951659  | AD_Bellenguez_2022 |\n",
       "| chr2  | 202946486 | 202947486 | chr2:202946450:202947523  | GSE114150_Brain | ENSG00000138442 | WDR12   | chr2  | 202946905 | 202946905 | 2:202946905:G:A  | -4.983333 | 0.003854730 |  1 | chr2_201677542_203951659  | AD_Bellenguez_2022 |\n",
       "| chr2  | 202946486 | 202947486 | chr2:202946450:202947523  | GSE114150_Brain | ENSG00000138442 | WDR12   | chr2  | 202947189 | 202947189 | 2:202947189:A:C  | -5.008333 | 0.004282178 |  1 | chr2_201677542_203951659  | AD_Bellenguez_2022 |\n",
       "| chr2  | 202946486 | 202947486 | chr2:202946450:202947523  | GSE114150_Brain | ENSG00000138380 | CARF    | chr2  | 202946905 | 202946905 | 2:202946905:G:A  | -4.983333 | 0.003854730 |  1 | chr2_201677542_203951659  | AD_Bellenguez_2022 |\n",
       "| chr2  | 202946486 | 202947486 | chr2:202946450:202947523  | GSE114150_Brain | ENSG00000138380 | CARF    | chr2  | 202947189 | 202947189 | 2:202947189:A:C  | -5.008333 | 0.004282178 |  1 | chr2_201677542_203951659  | AD_Bellenguez_2022 |\n",
       "| chr2  | 202983419 | 202983739 | chr2:202983419:202983739  | GSE114150_Brain | ENSG00000138442 | WDR12   | chr2  | 202983679 | 202983679 | 2:202983679:G:A  | -5.008333 | 0.004282489 |  1 | chr2_201677542_203951659  | AD_Bellenguez_2022 |\n",
       "| chr2  | 202983419 | 202983739 | chr2:202983419:202983739  | GSE114150_Brain | ENSG00000138380 | CARF    | chr2  | 202983679 | 202983679 | 2:202983679:G:A  | -5.008333 | 0.004282489 |  1 | chr2_201677542_203951659  | AD_Bellenguez_2022 |\n",
       "| chr5  | 177515977 | 177516937 | chr5:177515977:177516937  | GSE114150_Brain | ENSG00000183258 | DDX41   | chr5  | 177516672 | 177516672 | 5:177516672:C:T  |  4.424731 | 0.040098390 |  1 | chr5_176014330_177963776  | AD_Bellenguez_2022 |\n",
       "| chr7  | 100374156 | 100374656 | chr7:100374156:100374656  | GSE114150_Brain | ENSG00000085514 | PILRA   | chr7  | 100374211 | 100374211 | 7:100374211:A:G  |  8.556818 | 0.205500185 |  1 | chr7_98297733_101733715   | AD_Bellenguez_2022 |\n",
       "| chr8  |  27604960 |  27605366 | chr8:27604960:27605366    | GSE114150_Brain | ENSG00000120885 | CLU     | chr8  |  27604964 |  27604964 | 8:27604964:A:G   | 11.963855 | 0.037208520 |  1 | chr8_27515963_29469590    | AD_Bellenguez_2022 |\n",
       "\n"
      ],
      "text/plain": [
       "   chrom start     end       hg38_ID                   context        \n",
       "1  chr12 113158551 113159178 chr12:113158551:113159178 GSE114150_Brain\n",
       "2  chr12 113158551 113159178 chr12:113158551:113159178 GSE114150_Brain\n",
       "3  chr12 113161821 113162088 chr12:113161821:113162088 GSE114150_Brain\n",
       "4  chr12 113162795 113163180 chr12:113162795:113163180 GSE114150_Brain\n",
       "5  chr12 113162795 113163180 chr12:113162795:113163180 GSE114150_Brain\n",
       "6  chr12 113191735 113192015 chr12:113191735:113192015 GSE114150_Brain\n",
       "7  chr12 113220931 113221081 chr12:113220931:113221081 GSE114150_Brain\n",
       "8  chr12 113220931 113221081 chr12:113220931:113221081 GSE114150_Brain\n",
       "9  chr19   1854218   1854735 chr19:1854218:1854735     GSE114150_Brain\n",
       "10 chr19  44859854  44860081 chr19:44859854:44860081   GSE114150_Brain\n",
       "11 chr2  134953712 134954712 chr2:134953245:134955180  GSE114150_Brain\n",
       "12 chr2  134953712 134954712 chr2:134953245:134955180  GSE114150_Brain\n",
       "13 chr2  202843035 202843434 chr2:202843035:202843434  GSE114150_Brain\n",
       "14 chr2  202924671 202925412 chr2:202924671:202925412  GSE114150_Brain\n",
       "15 chr2  202924671 202925412 chr2:202924671:202925412  GSE114150_Brain\n",
       "16 chr2  202946486 202947486 chr2:202946450:202947523  GSE114150_Brain\n",
       "17 chr2  202946486 202947486 chr2:202946450:202947523  GSE114150_Brain\n",
       "18 chr2  202946486 202947486 chr2:202946450:202947523  GSE114150_Brain\n",
       "19 chr2  202946486 202947486 chr2:202946450:202947523  GSE114150_Brain\n",
       "20 chr2  202983419 202983739 chr2:202983419:202983739  GSE114150_Brain\n",
       "21 chr2  202983419 202983739 chr2:202983419:202983739  GSE114150_Brain\n",
       "22 chr5  177515977 177516937 chr5:177515977:177516937  GSE114150_Brain\n",
       "23 chr7  100374156 100374656 chr7:100374156:100374656  GSE114150_Brain\n",
       "24 chr8   27604960  27605366 chr8:27604960:27605366    GSE114150_Brain\n",
       "   gene_id         gene_name chr   start_variant end_variant variant_id      \n",
       "1  ENSG00000186710 CFAP73    chr12 113159061     113159061   12:113159061:G:A\n",
       "2  ENSG00000123064 DDX54     chr12 113159061     113159061   12:113159061:G:A\n",
       "3  ENSG00000123064 DDX54     chr12 113162061     113162061   12:113162061:T:C\n",
       "4  ENSG00000123064 DDX54     chr12 113163098     113163098   12:113163098:A:G\n",
       "5  ENSG00000123064 DDX54     chr12 113163135     113163135   12:113163135:C:T\n",
       "6  ENSG00000139405 RITA1     chr12 113191832     113191832   12:113191832:G:A\n",
       "7  ENSG00000166578 IQCD      chr12 113221042     113221042   12:113221042:G:A\n",
       "8  ENSG00000186815 TPCN1     chr12 113221042     113221042   12:113221042:G:A\n",
       "9  ENSG00000129911 KLF16     chr19   1854254       1854254   19:1854254:G:GC \n",
       "10 ENSG00000130202 NECTIN2   chr19  44859997      44859997   19:44859997:G:A \n",
       "11 ENSG00000082258 CCNT2     chr2  134953946     134953946   2:134953946:C:T \n",
       "12 ENSG00000082258 CCNT2     chr2  134954087     134954087   2:134954087:G:A \n",
       "13 ENSG00000163596 ICA1L     chr2  202843155     202843155   2:202843155:G:A \n",
       "14 ENSG00000138442 WDR12     chr2  202924956     202924956   2:202924956:C:T \n",
       "15 ENSG00000138380 CARF      chr2  202924956     202924956   2:202924956:C:T \n",
       "16 ENSG00000138442 WDR12     chr2  202946905     202946905   2:202946905:G:A \n",
       "17 ENSG00000138442 WDR12     chr2  202947189     202947189   2:202947189:A:C \n",
       "18 ENSG00000138380 CARF      chr2  202946905     202946905   2:202946905:G:A \n",
       "19 ENSG00000138380 CARF      chr2  202947189     202947189   2:202947189:A:C \n",
       "20 ENSG00000138442 WDR12     chr2  202983679     202983679   2:202983679:G:A \n",
       "21 ENSG00000138380 CARF      chr2  202983679     202983679   2:202983679:G:A \n",
       "22 ENSG00000183258 DDX41     chr5  177516672     177516672   5:177516672:C:T \n",
       "23 ENSG00000085514 PILRA     chr7  100374211     100374211   7:100374211:A:G \n",
       "24 ENSG00000120885 CLU       chr8   27604964      27604964   8:27604964:A:G  \n",
       "   z         pip         cs_coverage_0.95_min_corr block                    \n",
       "1   4.575949 0.006127578  1                        chr12_112825713_115165608\n",
       "2   4.575949 0.006127578  1                        chr12_112825713_115165608\n",
       "3   4.490323 0.004234860  1                        chr12_112825713_115165608\n",
       "4   4.483871 0.004119767  1                        chr12_112825713_115165608\n",
       "5   4.518987 0.004788665  1                        chr12_112825713_115165608\n",
       "6   4.449367 0.003557680  1                        chr12_112825713_115165608\n",
       "7   4.563291 0.005799341  1                        chr12_112825713_115165608\n",
       "8   4.563291 0.005799341  1                        chr12_112825713_115165608\n",
       "9  -5.815217 0.165940073  1                        chr19_1507536_3368979    \n",
       "10 10.449438 0.192689914 15                        chr19_42346101_44935906  \n",
       "11  4.535714 0.010923557  1                        chr2_134400811_137009736 \n",
       "12  4.511905 0.009860142  1                        chr2_134400811_137009736 \n",
       "13 -5.008333 0.004282488  1                        chr2_201677542_203951659 \n",
       "14 -5.025000 0.004598489  1                        chr2_201677542_203951659 \n",
       "15 -5.025000 0.004598489  1                        chr2_201677542_203951659 \n",
       "16 -4.983333 0.003854730  1                        chr2_201677542_203951659 \n",
       "17 -5.008333 0.004282178  1                        chr2_201677542_203951659 \n",
       "18 -4.983333 0.003854730  1                        chr2_201677542_203951659 \n",
       "19 -5.008333 0.004282178  1                        chr2_201677542_203951659 \n",
       "20 -5.008333 0.004282489  1                        chr2_201677542_203951659 \n",
       "21 -5.008333 0.004282489  1                        chr2_201677542_203951659 \n",
       "22  4.424731 0.040098390  1                        chr5_176014330_177963776 \n",
       "23  8.556818 0.205500185  1                        chr7_98297733_101733715  \n",
       "24 11.963855 0.037208520  1                        chr8_27515963_29469590   \n",
       "   study             \n",
       "1  AD_Bellenguez_2022\n",
       "2  AD_Bellenguez_2022\n",
       "3  AD_Bellenguez_2022\n",
       "4  AD_Bellenguez_2022\n",
       "5  AD_Bellenguez_2022\n",
       "6  AD_Bellenguez_2022\n",
       "7  AD_Bellenguez_2022\n",
       "8  AD_Bellenguez_2022\n",
       "9  AD_Bellenguez_2022\n",
       "10 AD_Bellenguez_2022\n",
       "11 AD_Bellenguez_2022\n",
       "12 AD_Bellenguez_2022\n",
       "13 AD_Bellenguez_2022\n",
       "14 AD_Bellenguez_2022\n",
       "15 AD_Bellenguez_2022\n",
       "16 AD_Bellenguez_2022\n",
       "17 AD_Bellenguez_2022\n",
       "18 AD_Bellenguez_2022\n",
       "19 AD_Bellenguez_2022\n",
       "20 AD_Bellenguez_2022\n",
       "21 AD_Bellenguez_2022\n",
       "22 AD_Bellenguez_2022\n",
       "23 AD_Bellenguez_2022\n",
       "24 AD_Bellenguez_2022"
      ]
     },
     "metadata": {},
     "output_type": "display_data"
    }
   ],
   "source": [
    "m6a_gene_bed_ad %>% filter(context == 'GSE114150_Brain') "
   ]
  },
  {
   "cell_type": "markdown",
   "id": "0a4bdc38-1c4d-4b7f-9528-71769e9209b1",
   "metadata": {
    "kernel": "R"
   },
   "source": [
    "### load GWAS sumstats to get all GWAS variants "
   ]
  },
  {
   "cell_type": "code",
   "execution_count": 34,
   "id": "0f275711-04f3-43cf-8047-05c0d4144a87",
   "metadata": {
    "kernel": "R"
   },
   "outputs": [],
   "source": [
    "all_gwas <- fread('/mnt/vast/hpc/csg/hs3393/RSS_QC/GWAS_finemapping_Apr9/RSS_QC_RAISS_imputed_concatenate_result/AD_Bellenguez_2022_RSS_QC_RAISS_imputed.tsv.gz')"
   ]
  },
  {
   "cell_type": "code",
   "execution_count": 35,
   "id": "85106c13-603a-4020-8193-6b96dcc0ed05",
   "metadata": {
    "kernel": "R"
   },
   "outputs": [],
   "source": [
    "# extract the GWAS table without AD loci\n",
    "non_ad_df <- all_gwas %>% filter(!(variant_id %in% gwas[gwas$study =='AD_Bellenguez_2022',]$variant_id))%>% \n",
    "            mutate(chr = str_split(variant_id, \":\", simplify = T) %>% .[,1] %>% paste0(\"chr\",.),\n",
    "                pos = str_split(variant_id, \":\", simplify = T) %>% .[,2] %>% as.numeric) "
   ]
  },
  {
   "cell_type": "markdown",
   "id": "27b49772-c9b9-4af2-8276-9181e969b518",
   "metadata": {
    "kernel": "R"
   },
   "source": [
    "### map the m6a region to non-AD GWAS table"
   ]
  },
  {
   "cell_type": "code",
   "execution_count": 36,
   "id": "a31deef0-1b69-4714-af68-abfa74a5595f",
   "metadata": {
    "kernel": "R"
   },
   "outputs": [],
   "source": [
    "m6a_gene_anno_bed <- m6a_gene_anno[, c(\"V1\", \"start\", \"end\", \"hg38_ID\", \"context\", \"gene_id\", \"gene_name\")]\n",
    "non_adgwas_bed <- non_ad_df[, .(chr, start_variant = as.integer(pos), end_variant = as.integer(pos), variant_id)]\n",
    "\n",
    "m6a_non_gene_bed_ad <- bt.intersect(a = m6a_gene_anno_bed, b = non_adgwas_bed, wa = T, wb = T) "
   ]
  },
  {
   "cell_type": "code",
   "execution_count": 37,
   "id": "ddff43da-8dbc-409a-a214-65bd4dd21818",
   "metadata": {
    "kernel": "R"
   },
   "outputs": [
    {
     "data": {
      "text/html": [
       "<table class=\"dataframe\">\n",
       "<caption>A data.frame: 6 × 11</caption>\n",
       "<thead>\n",
       "\t<tr><th></th><th scope=col>chrom</th><th scope=col>start</th><th scope=col>end</th><th scope=col>hg38_ID</th><th scope=col>context</th><th scope=col>gene_id</th><th scope=col>gene_name</th><th scope=col>chr</th><th scope=col>start_variant</th><th scope=col>end_variant</th><th scope=col>variant_id</th></tr>\n",
       "\t<tr><th></th><th scope=col>&lt;chr&gt;</th><th scope=col>&lt;int&gt;</th><th scope=col>&lt;int&gt;</th><th scope=col>&lt;chr&gt;</th><th scope=col>&lt;chr&gt;</th><th scope=col>&lt;chr&gt;</th><th scope=col>&lt;chr&gt;</th><th scope=col>&lt;chr&gt;</th><th scope=col>&lt;int&gt;</th><th scope=col>&lt;int&gt;</th><th scope=col>&lt;chr&gt;</th></tr>\n",
       "</thead>\n",
       "<tbody>\n",
       "\t<tr><th scope=row>1</th><td>chr1</td><td> 958977</td><td> 959238</td><td>chr1:958977:959238  </td><td>GSE114150_Brain</td><td>ENSG00000188976</td><td>NOC2L</td><td>chr1</td><td> 959139</td><td> 959139</td><td>1:959139:G:A </td></tr>\n",
       "\t<tr><th scope=row>2</th><td>chr1</td><td> 958977</td><td> 959238</td><td>chr1:958977:959238  </td><td>GSE114150_Brain</td><td>ENSG00000188976</td><td>NOC2L</td><td>chr1</td><td> 959193</td><td> 959193</td><td>1:959193:G:A </td></tr>\n",
       "\t<tr><th scope=row>3</th><td>chr1</td><td>1027235</td><td>1027730</td><td>chr1:1027235:1027730</td><td>GSE114150_Brain</td><td>ENSG00000188157</td><td>AGRN </td><td>chr1</td><td>1027340</td><td>1027340</td><td>1:1027340:C:T</td></tr>\n",
       "\t<tr><th scope=row>4</th><td>chr1</td><td>1027235</td><td>1027730</td><td>chr1:1027235:1027730</td><td>GSE114150_Brain</td><td>ENSG00000188157</td><td>AGRN </td><td>chr1</td><td>1027450</td><td>1027450</td><td>1:1027450:T:G</td></tr>\n",
       "\t<tr><th scope=row>5</th><td>chr1</td><td>1027235</td><td>1027730</td><td>chr1:1027235:1027730</td><td>GSE114150_Brain</td><td>ENSG00000188157</td><td>AGRN </td><td>chr1</td><td>1027511</td><td>1027511</td><td>1:1027511:C:T</td></tr>\n",
       "\t<tr><th scope=row>6</th><td>chr1</td><td>1027235</td><td>1027730</td><td>chr1:1027235:1027730</td><td>GSE114150_Brain</td><td>ENSG00000188157</td><td>AGRN </td><td>chr1</td><td>1027633</td><td>1027633</td><td>1:1027633:C:T</td></tr>\n",
       "</tbody>\n",
       "</table>\n"
      ],
      "text/latex": [
       "A data.frame: 6 × 11\n",
       "\\begin{tabular}{r|lllllllllll}\n",
       "  & chrom & start & end & hg38\\_ID & context & gene\\_id & gene\\_name & chr & start\\_variant & end\\_variant & variant\\_id\\\\\n",
       "  & <chr> & <int> & <int> & <chr> & <chr> & <chr> & <chr> & <chr> & <int> & <int> & <chr>\\\\\n",
       "\\hline\n",
       "\t1 & chr1 &  958977 &  959238 & chr1:958977:959238   & GSE114150\\_Brain & ENSG00000188976 & NOC2L & chr1 &  959139 &  959139 & 1:959139:G:A \\\\\n",
       "\t2 & chr1 &  958977 &  959238 & chr1:958977:959238   & GSE114150\\_Brain & ENSG00000188976 & NOC2L & chr1 &  959193 &  959193 & 1:959193:G:A \\\\\n",
       "\t3 & chr1 & 1027235 & 1027730 & chr1:1027235:1027730 & GSE114150\\_Brain & ENSG00000188157 & AGRN  & chr1 & 1027340 & 1027340 & 1:1027340:C:T\\\\\n",
       "\t4 & chr1 & 1027235 & 1027730 & chr1:1027235:1027730 & GSE114150\\_Brain & ENSG00000188157 & AGRN  & chr1 & 1027450 & 1027450 & 1:1027450:T:G\\\\\n",
       "\t5 & chr1 & 1027235 & 1027730 & chr1:1027235:1027730 & GSE114150\\_Brain & ENSG00000188157 & AGRN  & chr1 & 1027511 & 1027511 & 1:1027511:C:T\\\\\n",
       "\t6 & chr1 & 1027235 & 1027730 & chr1:1027235:1027730 & GSE114150\\_Brain & ENSG00000188157 & AGRN  & chr1 & 1027633 & 1027633 & 1:1027633:C:T\\\\\n",
       "\\end{tabular}\n"
      ],
      "text/markdown": [
       "\n",
       "A data.frame: 6 × 11\n",
       "\n",
       "| <!--/--> | chrom &lt;chr&gt; | start &lt;int&gt; | end &lt;int&gt; | hg38_ID &lt;chr&gt; | context &lt;chr&gt; | gene_id &lt;chr&gt; | gene_name &lt;chr&gt; | chr &lt;chr&gt; | start_variant &lt;int&gt; | end_variant &lt;int&gt; | variant_id &lt;chr&gt; |\n",
       "|---|---|---|---|---|---|---|---|---|---|---|---|\n",
       "| 1 | chr1 |  958977 |  959238 | chr1:958977:959238   | GSE114150_Brain | ENSG00000188976 | NOC2L | chr1 |  959139 |  959139 | 1:959139:G:A  |\n",
       "| 2 | chr1 |  958977 |  959238 | chr1:958977:959238   | GSE114150_Brain | ENSG00000188976 | NOC2L | chr1 |  959193 |  959193 | 1:959193:G:A  |\n",
       "| 3 | chr1 | 1027235 | 1027730 | chr1:1027235:1027730 | GSE114150_Brain | ENSG00000188157 | AGRN  | chr1 | 1027340 | 1027340 | 1:1027340:C:T |\n",
       "| 4 | chr1 | 1027235 | 1027730 | chr1:1027235:1027730 | GSE114150_Brain | ENSG00000188157 | AGRN  | chr1 | 1027450 | 1027450 | 1:1027450:T:G |\n",
       "| 5 | chr1 | 1027235 | 1027730 | chr1:1027235:1027730 | GSE114150_Brain | ENSG00000188157 | AGRN  | chr1 | 1027511 | 1027511 | 1:1027511:C:T |\n",
       "| 6 | chr1 | 1027235 | 1027730 | chr1:1027235:1027730 | GSE114150_Brain | ENSG00000188157 | AGRN  | chr1 | 1027633 | 1027633 | 1:1027633:C:T |\n",
       "\n"
      ],
      "text/plain": [
       "  chrom start   end     hg38_ID              context         gene_id        \n",
       "1 chr1   958977  959238 chr1:958977:959238   GSE114150_Brain ENSG00000188976\n",
       "2 chr1   958977  959238 chr1:958977:959238   GSE114150_Brain ENSG00000188976\n",
       "3 chr1  1027235 1027730 chr1:1027235:1027730 GSE114150_Brain ENSG00000188157\n",
       "4 chr1  1027235 1027730 chr1:1027235:1027730 GSE114150_Brain ENSG00000188157\n",
       "5 chr1  1027235 1027730 chr1:1027235:1027730 GSE114150_Brain ENSG00000188157\n",
       "6 chr1  1027235 1027730 chr1:1027235:1027730 GSE114150_Brain ENSG00000188157\n",
       "  gene_name chr  start_variant end_variant variant_id   \n",
       "1 NOC2L     chr1  959139        959139     1:959139:G:A \n",
       "2 NOC2L     chr1  959193        959193     1:959193:G:A \n",
       "3 AGRN      chr1 1027340       1027340     1:1027340:C:T\n",
       "4 AGRN      chr1 1027450       1027450     1:1027450:T:G\n",
       "5 AGRN      chr1 1027511       1027511     1:1027511:C:T\n",
       "6 AGRN      chr1 1027633       1027633     1:1027633:C:T"
      ]
     },
     "metadata": {},
     "output_type": "display_data"
    }
   ],
   "source": [
    "colnames(m6a_non_gene_bed_ad) <- c(\"chrom\", \"start\", \"end\", \"hg38_ID\", \"context\", \"gene_id\", \"gene_name\", colnames(non_adgwas_bed))\n",
    "m6a_non_gene_bed_ad %>% head"
   ]
  },
  {
   "cell_type": "markdown",
   "id": "924d0846-eeb0-45af-9de5-8085e010da18",
   "metadata": {
    "kernel": "R"
   },
   "source": [
    "### Enrichment analysis with fisher test\n",
    "To generate 2x2 table:    \n",
    "- ad_m6a: The number of variants within both AD loci and are m6A sites.\n",
    "- ad_non_m6a: The number of variants within AD loci but not m6A sites.\n",
    "- m6a_non_ad: The number of variants outside of AD loci but are m6A sites.\n",
    "- non_m6a_non_ad: The number variants outside of AD loci also not m6A sites.\n",
    "    \n",
    "The first two categories can be calculated by finding the intersection between the m6A regions and the AD GWAS loci. The latter two categories can be calculated by finding the intersection between the m6A regions and the non-AD GWAS loci."
   ]
  },
  {
   "cell_type": "markdown",
   "id": "6c954d6b-65c1-48d3-9956-62976c87e05c",
   "metadata": {
    "kernel": "R"
   },
   "source": [
    "`intersected_data` from above analysis is the intersected table for m6A peak regions and AD GWAS loci table\n",
    "\n",
    "`intersected_data_non_ad` here is the intersected table for m6A peak regions and non-AD GWAS loci table\n"
   ]
  },
  {
   "cell_type": "markdown",
   "id": "c168d802-cd30-48a2-8ee6-e7021591836d",
   "metadata": {
    "kernel": "R"
   },
   "source": [
    "The FET section: the table is focused on Bellenguez et al 2022 and is on variant level. Although I eyeballed 11 CS (we can get an accurate number) and I  know that Bellenguez has maybe 70 CS fine-mapped. So 11 out of 70 CS contain some m6A peaks. The test is still on variants though because I dont know how to make the test on CS .."
   ]
  },
  {
   "cell_type": "code",
   "execution_count": 38,
   "id": "b9d8eaa3-e571-4b03-a3ed-f831fe21e17f",
   "metadata": {
    "kernel": "R"
   },
   "outputs": [],
   "source": [
    "perform_fisher_test <- function(adgwas, all_gwas, m6a_ad, m6a_not_ad, test_context, greater = FALSE) {\n",
    "  # Define the total number of AD variants\n",
    "  ad <- length(adgwas[adgwas$study == 'AD_Bellenguez_2022',]$variant_id %>% unique())\n",
    "  \n",
    "  # Number of AD loci in m6A regions\n",
    "  ad_m6a_df <- m6a_ad %>% filter(context == test_context)\n",
    "  ad_m6a <- length(ad_m6a_df$variant_id %>% unique())\n",
    "  \n",
    "  # Number of AD loci outside m6A regions\n",
    "  ad_non_m6a <- ad - ad_m6a\n",
    "  \n",
    "  # Total number of non-AD variants from GWAS concatenate sumstats\n",
    "  non_ad <- length(all_gwas$variant_id %>% unique()) - ad\n",
    "  \n",
    "  # Number of non-AD loci in m6A regions\n",
    "  m6a_non_ad_df <- m6a_not_ad %>% filter(context == test_context)\n",
    "  m6a_non_ad <- length(m6a_non_ad_df$variant_id %>% unique())\n",
    "  \n",
    "  # Number of non-AD loci outside m6A regions\n",
    "  non_m6a_non_ad <- non_ad - m6a_non_ad\n",
    "  \n",
    "  # Create the contingency table\n",
    "  contingency_table <- matrix(c(ad_m6a, ad_non_m6a, m6a_non_ad, non_m6a_non_ad),\n",
    "                              nrow = 2,\n",
    "                              byrow = TRUE,\n",
    "                              dimnames = list(\"AD\" = c(\"AD\", \"not_AD\"),\n",
    "                                              \"m6A\" = c(\"m6A\", \"not_m6A\")))\n",
    "  \n",
    "\n",
    "  # Perform Fisher's Exact Test\n",
    "  if(greater) fisher_test_result <- fisher.test(contingency_table, alternative = \"greater\") else fisher_test_result <- fisher.test(contingency_table)\n",
    "\n",
    "  return(list(data = contingency_table, res = fisher_test_result))\n",
    "}\n"
   ]
  },
  {
   "cell_type": "code",
   "execution_count": 39,
   "id": "094f14a8-d882-4900-a29a-c24c0ab9f05c",
   "metadata": {
    "kernel": "R"
   },
   "outputs": [
    {
     "data": {
      "text/plain": [
       ".\n",
       "   GSE114150_Brain    GSE114150_Heart   GSE114150_Kidney    GSE114150_Liver \n",
       "                18                 16                 26                 11 \n",
       "    GSE114150_Lung   GSE114150_merged   GSE114150_Muscle GSE114150_Placenta \n",
       "                 8                 30                 14                 19 \n",
       " GSE114150_Stomach \n",
       "                10 "
      ]
     },
     "metadata": {},
     "output_type": "display_data"
    }
   ],
   "source": [
    "# The number of variants within both AD loci and are m6A sites in different contexts\n",
    "m6a_gene_bed_ad %>% distinct(context, variant_id, .keep_all = TRUE) %>% pull(context) %>% table"
   ]
  },
  {
   "cell_type": "code",
   "execution_count": 40,
   "id": "5e8e8dd4-67f6-4742-b7ef-88e514347657",
   "metadata": {
    "kernel": "R",
    "scrolled": true
   },
   "outputs": [
    {
     "data": {
      "text/plain": [
       ".\n",
       "   GSE114150_Brain    GSE114150_Heart   GSE114150_Kidney    GSE114150_Liver \n",
       "             75191              42598              86650              38289 \n",
       "    GSE114150_Lung   GSE114150_merged   GSE114150_Muscle GSE114150_Placenta \n",
       "             39834             140595              55354              64046 \n",
       " GSE114150_Stomach \n",
       "             38073 "
      ]
     },
     "metadata": {},
     "output_type": "display_data"
    }
   ],
   "source": [
    "# The number of variants within both non-AD loci and are m6A sites in different contexts\n",
    "m6a_non_gene_bed_ad %>% distinct(context, variant_id, .keep_all = TRUE) %>% pull(context) %>% table"
   ]
  },
  {
   "cell_type": "markdown",
   "id": "0270fa45-bcfc-4370-85df-837f81c65177",
   "metadata": {
    "kernel": "R"
   },
   "source": [
    "Just show the details for `merged` and `Brian` here"
   ]
  },
  {
   "cell_type": "code",
   "execution_count": 41,
   "id": "1deddbbb-b033-4c9b-8c0c-5c70ab0681d5",
   "metadata": {
    "kernel": "R"
   },
   "outputs": [
    {
     "data": {
      "text/plain": [
       "$data\n",
       "        m6A\n",
       "AD         m6A  not_m6A\n",
       "  AD        18     1265\n",
       "  not_AD 75191 12131444\n",
       "\n",
       "$res\n",
       "\n",
       "\tFisher's Exact Test for Count Data\n",
       "\n",
       "data:  contingency_table\n",
       "p-value = 0.001708\n",
       "alternative hypothesis: true odds ratio is not equal to 1\n",
       "95 percent confidence interval:\n",
       " 1.356091 3.643755\n",
       "sample estimates:\n",
       "odds ratio \n",
       "  2.295742 \n",
       "\n"
      ]
     },
     "metadata": {},
     "output_type": "display_data"
    }
   ],
   "source": [
    "# Two-sided test\n",
    "perform_fisher_test(adgwas = gwas, all_gwas = all_gwas, m6a_ad = m6a_gene_bed_ad, m6a_not_ad = m6a_non_gene_bed_ad, test_context = 'GSE114150_Brain') "
   ]
  },
  {
   "cell_type": "markdown",
   "id": "dbef856f-57ca-47b9-beaa-5c75c47d7bf6",
   "metadata": {
    "kernel": "R"
   },
   "source": [
    "for other contexts, just show the pvalue for them ( two-sided)"
   ]
  },
  {
   "cell_type": "code",
   "execution_count": 42,
   "id": "d3352e77-c6a4-40d2-b50f-6518231c82d4",
   "metadata": {
    "kernel": "R"
   },
   "outputs": [
    {
     "name": "stderr",
     "output_type": "stream",
     "text": [
      "GSE114150_Brain:0.00170783178965425\n",
      "\n",
      "GSE114150_Heart:1.82234233114467e-05\n",
      "\n",
      "GSE114150_Kidney:3.2503989334749e-06\n",
      "\n",
      "GSE114150_Liver:0.00292249902068156\n",
      "\n",
      "GSE114150_Lung:0.0778295043433078\n",
      "\n",
      "GSE114150_merged:0.000346147666541701\n",
      "\n",
      "GSE114150_Muscle:0.00271227729392887\n",
      "\n",
      "GSE114150_Placenta:7.50263296649612e-05\n",
      "\n",
      "GSE114150_Stomach:0.00805683048277676\n",
      "\n"
     ]
    }
   ],
   "source": [
    "contexts <- m6a_gene_anno_bed %>% pull(context) %>% unique\n",
    "for(test_context in contexts){\n",
    "    message(test_context,\":\",perform_fisher_test(adgwas = gwas, all_gwas = all_gwas, m6a_ad = m6a_gene_bed_ad, m6a_not_ad = m6a_non_gene_bed_ad, test_context = test_context)$res$p.value)\n",
    "}"
   ]
  },
  {
   "cell_type": "markdown",
   "id": "67bcef0b-e29e-4f17-8552-1eb0d98bbabd",
   "metadata": {
    "kernel": "R"
   },
   "source": [
    "In most contexts, there is an enrichment of AD loci in m6A regions, which may be inflated due to the non-independence of variants in LD?"
   ]
  },
  {
   "cell_type": "markdown",
   "id": "97eb67dd-4eb6-498f-ba09-ff75d48d02f4",
   "metadata": {
    "kernel": "R"
   },
   "source": [
    "## compare brain m6A peaks vs. m6A peaks in all other tissues\n",
    "set A = brain specific, set B = both brain and other tissues, set C = other tissues but not brains. \n",
    "\n",
    "\n",
    "The test would be  1) number of \"brain m6A\" overlapping with Bellenguez 2022 AD CS  (AD CS hereafter) 2) number of \"brain m6A\" non-overlapping with AD CS, 3) number of \"non-brain m6A\" overlapping with AD CS , 4) number of \"non-brain m6A\" non-overlapping with AD CS."
   ]
  },
  {
   "cell_type": "markdown",
   "id": "cfe43c39-949c-406d-ac5f-95adb9c2ac4d",
   "metadata": {
    "kernel": "R"
   },
   "source": [
    "when we talk about the overlap between peak regions here, if we only focus on the exactly region: same start and end. Then brain and other tissue do not have overlap. "
   ]
  },
  {
   "cell_type": "code",
   "execution_count": 270,
   "id": "8cf2824a-1185-468e-bee0-14dae1d9f382",
   "metadata": {
    "kernel": "R",
    "scrolled": true
   },
   "outputs": [
    {
     "data": {
      "image/png": "[encoded data removed]",
      "text/plain": [
       "plot without title"
      ]
     },
     "metadata": {
      "image/png": {
       "height": 480,
       "width": 840
      }
     },
     "output_type": "display_data"
    }
   ],
   "source": [
    "library(VennDiagram)\n",
    "library(dplyr)\n",
    "\n",
    "brain <- m6a_gene_bed_ad %>%\n",
    "  filter(context == 'GSE114150_Brain') %>%\n",
    "  pull(hg38_ID)\n",
    "\n",
    "other <- m6a_gene_bed_ad %>%\n",
    "  filter(context != 'GSE114150_Brain', context != 'GSE114150_merged') %>%\n",
    "  pull(hg38_ID)\n",
    "\n",
    "merged <- m6a_gene_bed_ad %>%\n",
    "  filter(context == 'GSE114150_merged') %>%\n",
    "  pull(hg38_ID)\n",
    "\n",
    "venn_data <- list(\n",
    "  \"Brain\" = brain,\n",
    "  \"Other Tissues\" = other,\n",
    "  \"Merged\" = merged\n",
    ")\n",
    "\n",
    "venn.plot <- venn.diagram(\n",
    "  x = venn_data,\n",
    "  filename = NULL,  \n",
    "  fill = c(\"#66c2a5\", \"#fc8d62\", \"#8da0cb\"),  # \n",
    "  alpha = 0.6,  # \n",
    "  cex = 2,  # \n",
    "  fontface = \"bold\",  # \n",
    "  fontfamily = \"sans\",  # \n",
    "  cat.col = c(\"#66c2a5\", \"#fc8d62\", \"#8da0cb\"),  # \n",
    "  cat.cex = 1.8,  # \n",
    "  cat.fontface = \"bold\",  # \n",
    "  cat.pos = c(-20, 20, 20),  # \n",
    "  cat.dist = c(0.05, 0.05, 0.05),  # \n",
    "  margin = 0.05,  # \n",
    "  lwd = 2,  # \n",
    "  lty = \"solid\",  # \n",
    "  col = \"black\"  # \n",
    ")\n",
    "\n",
    "grid.draw(venn.plot)"
   ]
  },
  {
   "cell_type": "markdown",
   "id": "88e5ffa2-a84d-4a09-ae1f-b5b9caa3e0e2",
   "metadata": {
    "kernel": "R"
   },
   "source": [
    "If we accept overlapping regions, meaning that regions with different start and end coordinates (e.g., chr1:1-100 and chr1:20-120) can be considered the same, then almost all brain peaks are covered by peaks from other tissues. However, the numbers shown in the plot do not reflect the actual number of peaks, as they are influenced by the cutoffs applied to define peak regions. Moreover, I am unsure how to easily compare the regions based on this overlapping definition."
   ]
  },
  {
   "cell_type": "code",
   "execution_count": 286,
   "id": "43327838-39c3-4ecc-9cd0-9eeaf8275d25",
   "metadata": {
    "kernel": "R"
   },
   "outputs": [
    {
     "data": {
      "image/png": "[encoded data removed]",
      "text/plain": [
       "plot without title"
      ]
     },
     "metadata": {
      "image/png": {
       "height": 480,
       "width": 840
      }
     },
     "output_type": "display_data"
    }
   ],
   "source": [
    "\n",
    "# Helper function to convert region string into GRanges object\n",
    "convert_to_granges <- function(region_list) {\n",
    "  parsed_regions <- do.call(rbind, strsplit(region_list, \":\"))\n",
    "  gr <- GRanges(seqnames = parsed_regions[,1],\n",
    "                ranges = IRanges(start = as.numeric(parsed_regions[,2]),\n",
    "                                 end = as.numeric(parsed_regions[,3])))\n",
    "  return(gr)\n",
    "}\n",
    "\n",
    "# Convert both region sets to GRanges\n",
    "gr_brain <- convert_to_granges(brain)\n",
    "gr_other <- convert_to_granges(other)\n",
    "\n",
    "# Find overlaps between the two sets\n",
    "overlaps <- findOverlaps(gr_brain, gr_other)\n",
    "\n",
    "# Prepare counts for Venn diagram\n",
    "unique_brain <- length(setdiff(seq_along(gr_brain), queryHits(overlaps)))\n",
    "unique_other <- length(setdiff(seq_along(gr_other), subjectHits(overlaps)))\n",
    "overlap_count <- length(queryHits(overlaps))\n",
    "\n",
    "# Generate Venn diagram\n",
    "venn.plot <- draw.pairwise.venn(area1 = unique_set1 + overlap_count,\n",
    "                                area2 = unique_set2 + overlap_count,\n",
    "                                cross.area = overlap_count,\n",
    "                                category = c(\"Brain\", \"Other\"),\n",
    "                                fill = c(\"#66c2a5\", \"#fc8d62\"),\n",
    "                                alpha = 0.5,\n",
    "                                cex = 2,\n",
    "                                cat.cex = 2,\n",
    "                                cat.pos = c(-20, 20))\n",
    "\n",
    "# Display the Venn diagram\n",
    "grid.draw(venn.plot)"
   ]
  },
  {
   "cell_type": "markdown",
   "id": "7853a3ba-3cf2-4a3f-94a1-975df9c34538",
   "metadata": {
    "kernel": "R"
   },
   "source": [
    "So I am here still using the former difinition to check sets, so there is actually no overlapped region between Brain and Other tissues, which means we don't have `B` set, the compare is simply between A and C"
   ]
  },
  {
   "cell_type": "markdown",
   "id": "e3941228-a359-466b-9c9a-f73c301d8572",
   "metadata": {
    "kernel": "R"
   },
   "source": [
    "### use all AD signals in Bellenguez data here"
   ]
  },
  {
   "cell_type": "markdown",
   "id": "83a89624-1125-414c-ad21-6af523373929",
   "metadata": {
    "kernel": "R"
   },
   "source": [
    "#### compare brain and combined other tissues"
   ]
  },
  {
   "cell_type": "code",
   "execution_count": 164,
   "id": "1ffe9fe7-2fe2-4676-8173-2ca875888630",
   "metadata": {
    "kernel": "R"
   },
   "outputs": [
    {
     "data": {
      "text/html": [
       "15"
      ],
      "text/latex": [
       "15"
      ],
      "text/markdown": [
       "15"
      ],
      "text/plain": [
       "[1] 15"
      ]
     },
     "metadata": {},
     "output_type": "display_data"
    },
    {
     "data": {
      "text/html": [
       "46057"
      ],
      "text/latex": [
       "46057"
      ],
      "text/markdown": [
       "46057"
      ],
      "text/plain": [
       "[1] 46057"
      ]
     },
     "metadata": {},
     "output_type": "display_data"
    }
   ],
   "source": [
    "brain <- m6a_gene_anno_bed %>%\n",
    "  filter(context == 'GSE114150_Brain')  \n",
    "brain_ad <- m6a_gene_bed_ad %>%\n",
    "  filter(context == 'GSE114150_Brain') %>% pull(hg38_ID) %>% unique %>% length\n",
    "brain_nonad <- brain %>% pull(hg38_ID) %>% unique %>% length - brain_ad\n",
    "brain_ad\n",
    "brain_nonad"
   ]
  },
  {
   "cell_type": "code",
   "execution_count": 165,
   "id": "4ecf56e1-96cf-4dac-add8-7ad0f6c293c1",
   "metadata": {
    "kernel": "R"
   },
   "outputs": [
    {
     "data": {
      "text/html": [
       "80"
      ],
      "text/latex": [
       "80"
      ],
      "text/markdown": [
       "80"
      ],
      "text/plain": [
       "[1] 80"
      ]
     },
     "metadata": {},
     "output_type": "display_data"
    },
    {
     "data": {
      "text/html": [
       "266302"
      ],
      "text/latex": [
       "266302"
      ],
      "text/markdown": [
       "266302"
      ],
      "text/plain": [
       "[1] 266302"
      ]
     },
     "metadata": {},
     "output_type": "display_data"
    }
   ],
   "source": [
    "other <- m6a_gene_anno_bed %>%\n",
    "  filter(context != 'GSE114150_Brain', context != 'GSE114150_merged') \n",
    "other_ad <- m6a_gene_bed_ad %>%\n",
    "  filter(context != 'GSE114150_Brain', context != 'GSE114150_merged')  %>% pull(hg38_ID) %>% unique %>% length\n",
    "other_nonad <- other %>% pull(hg38_ID) %>% unique %>% length - other_ad\n",
    "other_ad\n",
    "other_nonad"
   ]
  },
  {
   "cell_type": "code",
   "execution_count": 166,
   "id": "63087560-11df-439c-8df6-eb1233d1e1ad",
   "metadata": {
    "kernel": "R"
   },
   "outputs": [
    {
     "name": "stdout",
     "output_type": "stream",
     "text": [
      "       AD\n",
      "Tissue  AD not_AD\n",
      "  Brian 15  46057\n",
      "  Other 80 266302\n",
      "\n",
      "\tFisher's Exact Test for Count Data\n",
      "\n",
      "data:  contingency_table\n",
      "p-value = 0.7719\n",
      "alternative hypothesis: true odds ratio is not equal to 1\n",
      "95 percent confidence interval:\n",
      " 0.5798321 1.8970019\n",
      "sample estimates:\n",
      "odds ratio \n",
      "   1.08415 \n",
      "\n",
      "\n",
      "\tFisher's Exact Test for Count Data\n",
      "\n",
      "data:  contingency_table\n",
      "p-value = 0.4302\n",
      "alternative hypothesis: true odds ratio is greater than 1\n",
      "95 percent confidence interval:\n",
      " 0.6418247       Inf\n",
      "sample estimates:\n",
      "odds ratio \n",
      "   1.08415 \n",
      "\n"
     ]
    }
   ],
   "source": [
    "# Create the contingency table\n",
    "contingency_table <- matrix(c(brain_ad, brain_nonad, other_ad, other_nonad),\n",
    "                            nrow = 2,\n",
    "                            byrow = TRUE,\n",
    "                            dimnames = list(\"Tissue\" = c(\"Brian\", \"Other\"),\n",
    "                                            \"AD\" = c(\"AD\", \"not_AD\")))\n",
    "\n",
    "# Print the contingency table\n",
    "print(contingency_table)\n",
    "\n",
    "# Perform Fisher's Exact Test\n",
    "# two sides\n",
    "fisher_test_result_two <- fisher.test(contingency_table)\n",
    "# one side\n",
    "fisher_test_result_one <- fisher.test(contingency_table, alternative = \"greater\")\n",
    "\n",
    "# Print the Fisher test result\n",
    "print(fisher_test_result_two)\n",
    "print(fisher_test_result_one)"
   ]
  },
  {
   "cell_type": "markdown",
   "id": "2cb2e9be-5c08-468e-adea-4fc82b677e5a",
   "metadata": {
    "kernel": "R"
   },
   "source": [
    "#### compare brain and each other tissue"
   ]
  },
  {
   "cell_type": "code",
   "execution_count": 44,
   "id": "55158c86-a726-474c-b3f3-271946dd3876",
   "metadata": {
    "kernel": "R"
   },
   "outputs": [],
   "source": [
    "contexts <- m6a_gene_anno_bed %>% pull(context) %>% unique\n",
    "# contexts <- contexts[contexts!= 'GSE114150_Brain' & contexts!= 'GSE114150_merged']\n",
    "contexts <- contexts[contexts!= 'GSE114150_Brain']"
   ]
  },
  {
   "cell_type": "code",
   "execution_count": 47,
   "id": "2f122d3f-d184-441d-b247-b1778db85d01",
   "metadata": {
    "kernel": "R"
   },
   "outputs": [
    {
     "data": {
      "text/html": [
       "<strong>odds ratio:</strong> 1.24669959330886"
      ],
      "text/latex": [
       "\\textbf{odds ratio:} 1.24669959330886"
      ],
      "text/markdown": [
       "**odds ratio:** 1.24669959330886"
      ],
      "text/plain": [
       "odds ratio \n",
       "    1.2467 "
      ]
     },
     "metadata": {},
     "output_type": "display_data"
    }
   ],
   "source": [
    "fisher_test_result_two$estimate"
   ]
  },
  {
   "cell_type": "code",
   "execution_count": 51,
   "id": "912f2005-9b23-4398-b55a-a1751a4fb8d4",
   "metadata": {
    "kernel": "R",
    "scrolled": true
   },
   "outputs": [
    {
     "name": "stderr",
     "output_type": "stream",
     "text": [
      "Brian AD vs GSE114150_Heart AD\n",
      "\n"
     ]
    },
    {
     "name": "stdout",
     "output_type": "stream",
     "text": [
      "                 AD\n",
      "Tissue            AD not_AD\n",
      "  Brian           15  46057\n",
      "  GSE114150_Heart 13  34035\n",
      "[1] \"Two-sided Fisher exact test pvalue: 0.705025698655218 with odds: 0.852668675251988\"\n",
      "[1] \"One-sided Fisher exact test pvalue: 0.731408100708024 with odds: 0.852668675251988\"\n"
     ]
    },
    {
     "name": "stderr",
     "output_type": "stream",
     "text": [
      "Brian AD vs GSE114150_Kidney AD\n",
      "\n"
     ]
    },
    {
     "name": "stdout",
     "output_type": "stream",
     "text": [
      "                  AD\n",
      "Tissue             AD not_AD\n",
      "  Brian            15  46057\n",
      "  GSE114150_Kidney 20  58513\n",
      "[1] \"Two-sided Fisher exact test pvalue: 1 with odds: 0.952827963742047\"\n",
      "[1] \"One-sided Fisher exact test pvalue: 0.619742010822722 with odds: 0.952827963742047\"\n"
     ]
    },
    {
     "name": "stderr",
     "output_type": "stream",
     "text": [
      "Brian AD vs GSE114150_Liver AD\n",
      "\n"
     ]
    },
    {
     "name": "stdout",
     "output_type": "stream",
     "text": [
      "                 AD\n",
      "Tissue            AD not_AD\n",
      "  Brian           15  46057\n",
      "  GSE114150_Liver  8  31989\n",
      "[1] \"Two-sided Fisher exact test pvalue: 0.673072632775722 with odds: 1.30228078370832\"\n",
      "[1] \"One-sided Fisher exact test pvalue: 0.351764452052364 with odds: 1.30228078370832\"\n"
     ]
    },
    {
     "name": "stderr",
     "output_type": "stream",
     "text": [
      "Brian AD vs GSE114150_Lung AD\n",
      "\n"
     ]
    },
    {
     "name": "stdout",
     "output_type": "stream",
     "text": [
      "                AD\n",
      "Tissue           AD not_AD\n",
      "  Brian          15  46057\n",
      "  GSE114150_Lung  6  30120\n",
      "[1] \"Two-sided Fisher exact test pvalue: 0.375719641406137 with odds: 1.6349186391035\"\n",
      "[1] \"One-sided Fisher exact test pvalue: 0.212555930282887 with odds: 1.6349186391035\"\n"
     ]
    },
    {
     "name": "stderr",
     "output_type": "stream",
     "text": [
      "Brian AD vs GSE114150_merged AD\n",
      "\n"
     ]
    },
    {
     "name": "stdout",
     "output_type": "stream",
     "text": [
      "                  AD\n",
      "Tissue             AD not_AD\n",
      "  Brian            15  46057\n",
      "  GSE114150_merged 22  90676\n",
      "[1] \"Two-sided Fisher exact test pvalue: 0.387466180705427 with odds: 1.34229237449146\"\n",
      "[1] \"One-sided Fisher exact test pvalue: 0.236613543233916 with odds: 1.34229237449146\"\n"
     ]
    },
    {
     "name": "stderr",
     "output_type": "stream",
     "text": [
      "Brian AD vs GSE114150_Muscle AD\n",
      "\n"
     ]
    },
    {
     "name": "stdout",
     "output_type": "stream",
     "text": [
      "                  AD\n",
      "Tissue             AD not_AD\n",
      "  Brian            15  46057\n",
      "  GSE114150_Muscle 11  37190\n",
      "[1] \"Two-sided Fisher exact test pvalue: 0.846324301549198 with odds: 1.10113965564508\"\n",
      "[1] \"One-sided Fisher exact test pvalue: 0.484780680348804 with odds: 1.10113965564508\"\n"
     ]
    },
    {
     "name": "stderr",
     "output_type": "stream",
     "text": [
      "Brian AD vs GSE114150_Placenta AD\n",
      "\n"
     ]
    },
    {
     "name": "stdout",
     "output_type": "stream",
     "text": [
      "                    AD\n",
      "Tissue               AD not_AD\n",
      "  Brian              15  46057\n",
      "  GSE114150_Placenta 15  47946\n",
      "[1] \"Two-sided Fisher exact test pvalue: 1 with odds: 1.04102708190973\"\n",
      "[1] \"One-sided Fisher exact test pvalue: 0.528351415845771 with odds: 1.04102708190973\"\n"
     ]
    },
    {
     "name": "stderr",
     "output_type": "stream",
     "text": [
      "Brian AD vs GSE114150_Stomach AD\n",
      "\n"
     ]
    },
    {
     "name": "stdout",
     "output_type": "stream",
     "text": [
      "                   AD\n",
      "Tissue              AD not_AD\n",
      "  Brian             15  46057\n",
      "  GSE114150_Stomach  7  26795\n",
      "[1] \"Two-sided Fisher exact test pvalue: 0.825513423039724 with odds: 1.24669959330886\"\n",
      "[1] \"One-sided Fisher exact test pvalue: 0.404468569987525 with odds: 1.24669959330886\"\n"
     ]
    }
   ],
   "source": [
    "brain <- m6a_gene_anno_bed %>%\n",
    "  filter(context == 'GSE114150_Brain')  \n",
    "brain_ad <- m6a_gene_bed_ad %>%\n",
    "  filter(context == 'GSE114150_Brain') %>% pull(hg38_ID) %>% unique %>% length\n",
    "brain_nonad <- brain %>% pull(hg38_ID) %>% unique %>% length - brain_ad\n",
    "\n",
    "for(context_target in contexts){\n",
    "    other <- m6a_gene_anno_bed %>%\n",
    "      filter(context == context_target) \n",
    "    other_ad <- m6a_gene_bed_ad %>%\n",
    "      filter(context == context_target)  %>% pull(hg38_ID) %>% unique %>% length\n",
    "    other_nonad <- other %>% pull(hg38_ID) %>% unique %>% length - other_ad\n",
    "    \n",
    "    # Create the contingency table\n",
    "    contingency_table <- matrix(c(brain_ad, brain_nonad, other_ad, other_nonad),\n",
    "                                nrow = 2,\n",
    "                                byrow = TRUE,\n",
    "                                dimnames = list(\"Tissue\" = c(\"Brian\", context_target),\n",
    "                                                \"AD\" = c(\"AD\", \"not_AD\")))\n",
    "\n",
    "    message(\"Brian AD vs \", context_target, \" AD\")\n",
    "    \n",
    "    # Print the contingency table\n",
    "    print(contingency_table)\n",
    "        # two sides\n",
    "    fisher_test_result_two <- fisher.test(contingency_table)\n",
    "    # one side\n",
    "    fisher_test_result_one <- fisher.test(contingency_table, alternative = \"greater\")\n",
    "    \n",
    "    # Print the Fisher test result\n",
    "    print(paste('Two-sided Fisher exact test pvalue:',fisher_test_result_two$p.value, 'with odds:', fisher_test_result_two$estimate))\n",
    "    print(paste('One-sided Fisher exact test pvalue:',fisher_test_result_one$p.value, 'with odds:', fisher_test_result_one$estimate))\n",
    "}"
   ]
  },
  {
   "cell_type": "markdown",
   "id": "b0ac72ee-68ce-43ad-a3a7-c88df60ea945",
   "metadata": {
    "kernel": "R"
   },
   "source": [
    "There is no significant difference between Brain-AD enrichment and other tissue-AD enrichment. No matter for two-sided or one-sided. "
   ]
  },
  {
   "cell_type": "markdown",
   "id": "7871967e-828e-4cf6-9702-3d25436af5f5",
   "metadata": {
    "kernel": "R"
   },
   "source": [
    "### in 245 gene list\n",
    "Then I am wondering if we can get significant difference if we use our AD genelist as background... Which is a 245 genelist from our sharing QTL-AD sharing evidence, could be a potential AD risk gene list. "
   ]
  },
  {
   "cell_type": "markdown",
   "id": "308fe5a9-0b39-4ccf-981f-0b30e5d52cf6",
   "metadata": {
    "kernel": "R"
   },
   "source": [
    "#### compare brain and combined other tissues"
   ]
  },
  {
   "cell_type": "code",
   "execution_count": 52,
   "id": "c15da46f-fbb0-46ac-b166-92b062abc970",
   "metadata": {
    "kernel": "R",
    "scrolled": true
   },
   "outputs": [],
   "source": [
    "ad_genes <- fread('/mnt/vast/hpc/csg/rf2872/data/resource_Ru/Fungen_xQTL.overlapped.gwas.min_corr_gwas95_qtl70.Apr.tsv')"
   ]
  },
  {
   "cell_type": "code",
   "execution_count": 53,
   "id": "9743c2ff-57af-4e14-b474-080ebc3aaeb7",
   "metadata": {
    "kernel": "R"
   },
   "outputs": [
    {
     "data": {
      "text/html": [
       "9"
      ],
      "text/latex": [
       "9"
      ],
      "text/markdown": [
       "9"
      ],
      "text/plain": [
       "[1] 9"
      ]
     },
     "metadata": {},
     "output_type": "display_data"
    },
    {
     "data": {
      "text/html": [
       "893"
      ],
      "text/latex": [
       "893"
      ],
      "text/markdown": [
       "893"
      ],
      "text/plain": [
       "[1] 893"
      ]
     },
     "metadata": {},
     "output_type": "display_data"
    }
   ],
   "source": [
    "brain <- m6a_gene_anno_bed %>%\n",
    "  filter(context == 'GSE114150_Brain', gene_id %in% ad_genes$region_id)  \n",
    "brain_ad <- m6a_gene_bed_ad %>%\n",
    "  filter(context == 'GSE114150_Brain', gene_id %in% ad_genes$region_id) %>% pull(hg38_ID) %>% unique %>% length\n",
    "brain_nonad <- (brain %>% pull(hg38_ID) %>% unique %>% length) - brain_ad\n",
    "brain_ad\n",
    "brain_nonad"
   ]
  },
  {
   "cell_type": "code",
   "execution_count": 54,
   "id": "b6a1e302-12ce-417d-9a41-24d71cc88779",
   "metadata": {
    "kernel": "R"
   },
   "outputs": [
    {
     "data": {
      "text/html": [
       "45"
      ],
      "text/latex": [
       "45"
      ],
      "text/markdown": [
       "45"
      ],
      "text/plain": [
       "[1] 45"
      ]
     },
     "metadata": {},
     "output_type": "display_data"
    },
    {
     "data": {
      "text/html": [
       "4843"
      ],
      "text/latex": [
       "4843"
      ],
      "text/markdown": [
       "4843"
      ],
      "text/plain": [
       "[1] 4843"
      ]
     },
     "metadata": {},
     "output_type": "display_data"
    }
   ],
   "source": [
    "other <- m6a_gene_anno_bed %>%\n",
    "  filter(context != 'GSE114150_Brain', context != 'GSE114150_merged', gene_id %in% ad_genes$region_id) \n",
    "other_ad <- m6a_gene_bed_ad %>%\n",
    "  filter(context != 'GSE114150_Brain', context != 'GSE114150_merged', gene_id %in% ad_genes$region_id)  %>% pull(hg38_ID) %>% unique %>% length\n",
    "other_nonad <- other %>% pull(hg38_ID) %>% unique %>% length - other_ad\n",
    "other_ad\n",
    "other_nonad"
   ]
  },
  {
   "cell_type": "code",
   "execution_count": 55,
   "id": "ac433881-ea2d-43d4-98ed-3c1ac04b95ff",
   "metadata": {
    "kernel": "R"
   },
   "outputs": [
    {
     "name": "stdout",
     "output_type": "stream",
     "text": [
      "       AD\n",
      "Tissue  AD not_AD\n",
      "  Brian  9    893\n",
      "  Other 45   4843\n",
      "\n",
      "\tFisher's Exact Test for Count Data\n",
      "\n",
      "data:  contingency_table\n",
      "p-value = 0.85\n",
      "alternative hypothesis: true odds ratio is not equal to 1\n",
      "95 percent confidence interval:\n",
      " 0.4645135 2.2571937\n",
      "sample estimates:\n",
      "odds ratio \n",
      "  1.084664 \n",
      "\n",
      "\n",
      "\tFisher's Exact Test for Count Data\n",
      "\n",
      "data:  contingency_table\n",
      "p-value = 0.4697\n",
      "alternative hypothesis: true odds ratio is greater than 1\n",
      "95 percent confidence interval:\n",
      " 0.5333085       Inf\n",
      "sample estimates:\n",
      "odds ratio \n",
      "  1.084664 \n",
      "\n"
     ]
    }
   ],
   "source": [
    "# Create the contingency table\n",
    "contingency_table <- matrix(c(brain_ad, brain_nonad, other_ad, other_nonad),\n",
    "                            nrow = 2,\n",
    "                            byrow = TRUE,\n",
    "                            dimnames = list(\"Tissue\" = c(\"Brian\", \"Other\"),\n",
    "                                            \"AD\" = c(\"AD\", \"not_AD\")))\n",
    "\n",
    "# Print the contingency table\n",
    "print(contingency_table)\n",
    "\n",
    "# Perform Fisher's Exact Test\n",
    "# two sides\n",
    "fisher_test_result_two <- fisher.test(contingency_table)\n",
    "# one side\n",
    "fisher_test_result_one <- fisher.test(contingency_table, alternative = \"greater\")\n",
    "\n",
    "# Print the Fisher test result\n",
    "print(fisher_test_result_two)\n",
    "print(fisher_test_result_one)"
   ]
  },
  {
   "cell_type": "markdown",
   "id": "cd86dd5b-c86e-4a88-bf92-6c6271fc1c45",
   "metadata": {
    "kernel": "R"
   },
   "source": [
    "#### compare brain and each other tissue"
   ]
  },
  {
   "cell_type": "code",
   "execution_count": 56,
   "id": "cd7bc447-c5ab-4cc6-84c4-2ae45f2b303f",
   "metadata": {
    "kernel": "R"
   },
   "outputs": [],
   "source": [
    "contexts <- m6a_gene_anno_bed %>% pull(context) %>% unique\n",
    "contexts <- contexts[contexts!= 'GSE114150_Brain']"
   ]
  },
  {
   "cell_type": "code",
   "execution_count": 57,
   "id": "0ef5ffcf-7fb2-4243-b169-33eb4adf723e",
   "metadata": {
    "kernel": "R",
    "scrolled": true
   },
   "outputs": [
    {
     "name": "stderr",
     "output_type": "stream",
     "text": [
      "Brian AD vs GSE114150_Heart AD\n",
      "\n"
     ]
    },
    {
     "name": "stdout",
     "output_type": "stream",
     "text": [
      "                 AD\n",
      "Tissue            AD not_AD\n",
      "  Brian            9    893\n",
      "  GSE114150_Heart  7    647\n",
      "[1] \"Two-sided Fisher exact test pvalue: 1 with odds: 0.931574048474409\"\n",
      "[1] \"One-sided Fisher exact test pvalue: 0.656976970776917 with odds: 0.931574048474409\"\n"
     ]
    },
    {
     "name": "stderr",
     "output_type": "stream",
     "text": [
      "Brian AD vs GSE114150_Kidney AD\n",
      "\n"
     ]
    },
    {
     "name": "stdout",
     "output_type": "stream",
     "text": [
      "                  AD\n",
      "Tissue             AD not_AD\n",
      "  Brian             9    893\n",
      "  GSE114150_Kidney 13   1065\n",
      "[1] \"Two-sided Fisher exact test pvalue: 0.830196186141041 with odds: 0.825732131654412\"\n",
      "[1] \"One-sided Fisher exact test pvalue: 0.742172682806257 with odds: 0.825732131654412\"\n"
     ]
    },
    {
     "name": "stderr",
     "output_type": "stream",
     "text": [
      "Brian AD vs GSE114150_Liver AD\n",
      "\n"
     ]
    },
    {
     "name": "stdout",
     "output_type": "stream",
     "text": [
      "                 AD\n",
      "Tissue            AD not_AD\n",
      "  Brian            9    893\n",
      "  GSE114150_Liver  5    575\n",
      "[1] \"Two-sided Fisher exact test pvalue: 1 with odds: 1.15894040248409\"\n",
      "[1] \"One-sided Fisher exact test pvalue: 0.512606389265845 with odds: 1.15894040248409\"\n"
     ]
    },
    {
     "name": "stderr",
     "output_type": "stream",
     "text": [
      "Brian AD vs GSE114150_Lung AD\n",
      "\n"
     ]
    },
    {
     "name": "stdout",
     "output_type": "stream",
     "text": [
      "                AD\n",
      "Tissue           AD not_AD\n",
      "  Brian           9    893\n",
      "  GSE114150_Lung  3    556\n",
      "[1] \"Two-sided Fisher exact test pvalue: 0.391565438044484 with odds: 1.86713342566236\"\n",
      "[1] \"One-sided Fisher exact test pvalue: 0.263226416752623 with odds: 1.86713342566236\"\n"
     ]
    },
    {
     "name": "stderr",
     "output_type": "stream",
     "text": [
      "Brian AD vs GSE114150_merged AD\n",
      "\n"
     ]
    },
    {
     "name": "stdout",
     "output_type": "stream",
     "text": [
      "                  AD\n",
      "Tissue             AD not_AD\n",
      "  Brian             9    893\n",
      "  GSE114150_merged 15   1576\n",
      "[1] \"Two-sided Fisher exact test pvalue: 1 with odds: 1.05887752143922\"\n",
      "[1] \"One-sided Fisher exact test pvalue: 0.523311685959939 with odds: 1.05887752143922\"\n"
     ]
    },
    {
     "name": "stderr",
     "output_type": "stream",
     "text": [
      "Brian AD vs GSE114150_Muscle AD\n",
      "\n"
     ]
    },
    {
     "name": "stdout",
     "output_type": "stream",
     "text": [
      "                  AD\n",
      "Tissue             AD not_AD\n",
      "  Brian             9    893\n",
      "  GSE114150_Muscle  5    654\n",
      "[1] \"Two-sided Fisher exact test pvalue: 0.787754482822999 with odds: 1.3180248996632\"\n",
      "[1] \"One-sided Fisher exact test pvalue: 0.417616489744591 with odds: 1.3180248996632\"\n"
     ]
    },
    {
     "name": "stderr",
     "output_type": "stream",
     "text": [
      "Brian AD vs GSE114150_Placenta AD\n",
      "\n"
     ]
    },
    {
     "name": "stdout",
     "output_type": "stream",
     "text": [
      "                    AD\n",
      "Tissue               AD not_AD\n",
      "  Brian               9    893\n",
      "  GSE114150_Placenta  9    837\n",
      "[1] \"Two-sided Fisher exact test pvalue: 1 with odds: 0.937354792934511\"\n",
      "[1] \"One-sided Fisher exact test pvalue: 0.645926052634077 with odds: 0.937354792934511\"\n"
     ]
    },
    {
     "name": "stderr",
     "output_type": "stream",
     "text": [
      "Brian AD vs GSE114150_Stomach AD\n",
      "\n"
     ]
    },
    {
     "name": "stdout",
     "output_type": "stream",
     "text": [
      "                   AD\n",
      "Tissue              AD not_AD\n",
      "  Brian              9    893\n",
      "  GSE114150_Stomach  3    510\n",
      "[1] \"Two-sided Fisher exact test pvalue: 0.552933335862799 with odds: 1.71272973250973\"\n",
      "[1] \"One-sided Fisher exact test pvalue: 0.312637355116514 with odds: 1.71272973250973\"\n"
     ]
    }
   ],
   "source": [
    "brain <- m6a_gene_anno_bed %>%\n",
    "  filter(context == 'GSE114150_Brain', gene_id %in% ad_genes$region_id)  \n",
    "brain_ad <- m6a_gene_bed_ad %>%\n",
    "  filter(context == 'GSE114150_Brain', gene_id %in% ad_genes$region_id) %>% pull(hg38_ID) %>% unique %>% length\n",
    "brain_nonad <- brain %>% pull(hg38_ID) %>% unique %>% length - brain_ad\n",
    "\n",
    "for(context_target in contexts){\n",
    "    other <- m6a_gene_anno_bed %>%\n",
    "      filter(context == context_target, gene_id %in% ad_genes$region_id) \n",
    "    other_ad <- m6a_gene_bed_ad %>%\n",
    "      filter(context == context_target, gene_id %in% ad_genes$region_id)  %>% pull(hg38_ID) %>% unique %>% length\n",
    "    other_nonad <- other %>% pull(hg38_ID) %>% unique %>% length - other_ad\n",
    "    \n",
    "    # Create the contingency table\n",
    "    contingency_table <- matrix(c(brain_ad, brain_nonad, other_ad, other_nonad),\n",
    "                                nrow = 2,\n",
    "                                byrow = TRUE,\n",
    "                                dimnames = list(\"Tissue\" = c(\"Brian\", context_target),\n",
    "                                                \"AD\" = c(\"AD\", \"not_AD\")))\n",
    "\n",
    "    message(\"Brian AD vs \", context_target, \" AD\")\n",
    "    \n",
    "    # Print the contingency table\n",
    "    print(contingency_table)\n",
    "        # two sides\n",
    "    fisher_test_result_two <- fisher.test(contingency_table)\n",
    "    # one side\n",
    "    fisher_test_result_one <- fisher.test(contingency_table, alternative = \"greater\")\n",
    "    \n",
    "     # Print the Fisher test result\n",
    "    print(paste('Two-sided Fisher exact test pvalue:',fisher_test_result_two$p.value, 'with odds:', fisher_test_result_two$estimate))\n",
    "    print(paste('One-sided Fisher exact test pvalue:',fisher_test_result_one$p.value, 'with odds:', fisher_test_result_one$estimate))\n",
    "}"
   ]
  },
  {
   "cell_type": "markdown",
   "id": "3c878226-9938-481d-bf7c-3d40f8ff8ae3",
   "metadata": {
    "kernel": "R"
   },
   "source": [
    "which is even more unsignificant..."
   ]
  },
  {
   "cell_type": "markdown",
   "id": "17666c7b-d4bb-4b31-bcb5-991703b7b460",
   "metadata": {
    "kernel": "R"
   },
   "source": [
    "### in different chromosome\n",
    "what about if we focus on different chromosome?.. If there is some chromosome can show Brain peak specificty, e.g. chr19?"
   ]
  },
  {
   "cell_type": "markdown",
   "id": "eb656f78-9aa2-401e-b92a-5a0c45c20e73",
   "metadata": {
    "kernel": "R"
   },
   "source": [
    "#### compare brain and combined other tissues"
   ]
  },
  {
   "cell_type": "code",
   "execution_count": 58,
   "id": "e6fa8d03-b3f1-4da5-a694-ac2861bad2ec",
   "metadata": {
    "kernel": "R"
   },
   "outputs": [
    {
     "name": "stderr",
     "output_type": "stream",
     "text": [
      "chr1\n",
      "\n"
     ]
    },
    {
     "name": "stdout",
     "output_type": "stream",
     "text": [
      "[1] \"Two-sided Fisher exact test pvalue: 1 with odds: 0\"\n",
      "[1] \"One-sided Fisher exact test pvalue: 1 with odds: 0\"\n"
     ]
    },
    {
     "name": "stderr",
     "output_type": "stream",
     "text": [
      "chr2\n",
      "\n"
     ]
    },
    {
     "name": "stdout",
     "output_type": "stream",
     "text": [
      "[1] \"Two-sided Fisher exact test pvalue: 0.585740595119632 with odds: 1.30220856225532\"\n",
      "[1] \"One-sided Fisher exact test pvalue: 0.37497185462393 with odds: 1.30220856225532\"\n"
     ]
    },
    {
     "name": "stderr",
     "output_type": "stream",
     "text": [
      "chr3\n",
      "\n"
     ]
    },
    {
     "name": "stdout",
     "output_type": "stream",
     "text": [
      "[1] \"Two-sided Fisher exact test pvalue: 1 with odds: 0\"\n",
      "[1] \"One-sided Fisher exact test pvalue: 1 with odds: 0\"\n"
     ]
    },
    {
     "name": "stderr",
     "output_type": "stream",
     "text": [
      "chr4\n",
      "\n"
     ]
    },
    {
     "name": "stdout",
     "output_type": "stream",
     "text": [
      "[1] \"Two-sided Fisher exact test pvalue: 1 with odds: 0\"\n",
      "[1] \"One-sided Fisher exact test pvalue: 1 with odds: 0\"\n"
     ]
    },
    {
     "name": "stderr",
     "output_type": "stream",
     "text": [
      "chr5\n",
      "\n"
     ]
    },
    {
     "name": "stdout",
     "output_type": "stream",
     "text": [
      "[1] \"Two-sided Fisher exact test pvalue: 0.273581277100361 with odds: 5.771864633231\"\n",
      "[1] \"One-sided Fisher exact test pvalue: 0.273581277100361 with odds: 5.771864633231\"\n"
     ]
    },
    {
     "name": "stderr",
     "output_type": "stream",
     "text": [
      "chr6\n",
      "\n"
     ]
    },
    {
     "name": "stdout",
     "output_type": "stream",
     "text": [
      "[1] \"Two-sided Fisher exact test pvalue: 1 with odds: 0\"\n",
      "[1] \"One-sided Fisher exact test pvalue: 1 with odds: 0\"\n"
     ]
    },
    {
     "name": "stderr",
     "output_type": "stream",
     "text": [
      "chr7\n",
      "\n"
     ]
    },
    {
     "name": "stdout",
     "output_type": "stream",
     "text": [
      "[1] \"Two-sided Fisher exact test pvalue: 1 with odds: 0.886473802285646\"\n",
      "[1] \"One-sided Fisher exact test pvalue: 0.700661712899858 with odds: 0.886473802285646\"\n"
     ]
    },
    {
     "name": "stderr",
     "output_type": "stream",
     "text": [
      "chr8\n",
      "\n"
     ]
    },
    {
     "name": "stdout",
     "output_type": "stream",
     "text": [
      "[1] \"Two-sided Fisher exact test pvalue: 0.407868409117669 with odds: 2.62054188304271\"\n",
      "[1] \"One-sided Fisher exact test pvalue: 0.40786840911767 with odds: 2.62054188304271\"\n"
     ]
    },
    {
     "name": "stderr",
     "output_type": "stream",
     "text": [
      "chr9\n",
      "\n"
     ]
    },
    {
     "name": "stdout",
     "output_type": "stream",
     "text": [
      "[1] \"Two-sided Fisher exact test pvalue: 1 with odds: 0\"\n",
      "[1] \"One-sided Fisher exact test pvalue: 1 with odds: 0\"\n"
     ]
    },
    {
     "name": "stderr",
     "output_type": "stream",
     "text": [
      "chr10\n",
      "\n"
     ]
    },
    {
     "name": "stdout",
     "output_type": "stream",
     "text": [
      "[1] \"Two-sided Fisher exact test pvalue: 1 with odds: 0\"\n",
      "[1] \"One-sided Fisher exact test pvalue: 1 with odds: 0\"\n"
     ]
    },
    {
     "name": "stderr",
     "output_type": "stream",
     "text": [
      "chr11\n",
      "\n"
     ]
    },
    {
     "name": "stdout",
     "output_type": "stream",
     "text": [
      "[1] \"Two-sided Fisher exact test pvalue: 1 with odds: 0\"\n",
      "[1] \"One-sided Fisher exact test pvalue: 1 with odds: 0\"\n"
     ]
    },
    {
     "name": "stderr",
     "output_type": "stream",
     "text": [
      "chr12\n",
      "\n"
     ]
    },
    {
     "name": "stdout",
     "output_type": "stream",
     "text": [
      "[1] \"Two-sided Fisher exact test pvalue: 1 with odds: 0.918961829867608\"\n",
      "[1] \"One-sided Fisher exact test pvalue: 0.640832673943328 with odds: 0.918961829867608\"\n"
     ]
    },
    {
     "name": "stderr",
     "output_type": "stream",
     "text": [
      "chr13\n",
      "\n"
     ]
    },
    {
     "name": "stdout",
     "output_type": "stream",
     "text": [
      "[1] \"Two-sided Fisher exact test pvalue: 1 with odds: 0\"\n",
      "[1] \"One-sided Fisher exact test pvalue: 1 with odds: 0\"\n"
     ]
    },
    {
     "name": "stderr",
     "output_type": "stream",
     "text": [
      "chr14\n",
      "\n"
     ]
    },
    {
     "name": "stdout",
     "output_type": "stream",
     "text": [
      "[1] \"Two-sided Fisher exact test pvalue: 1 with odds: 0\"\n",
      "[1] \"One-sided Fisher exact test pvalue: 1 with odds: 0\"\n"
     ]
    },
    {
     "name": "stderr",
     "output_type": "stream",
     "text": [
      "chr15\n",
      "\n"
     ]
    },
    {
     "name": "stdout",
     "output_type": "stream",
     "text": [
      "[1] \"Two-sided Fisher exact test pvalue: 1 with odds: 0\"\n",
      "[1] \"One-sided Fisher exact test pvalue: 1 with odds: 0\"\n"
     ]
    },
    {
     "name": "stderr",
     "output_type": "stream",
     "text": [
      "chr16\n",
      "\n"
     ]
    },
    {
     "name": "stdout",
     "output_type": "stream",
     "text": [
      "[1] \"Two-sided Fisher exact test pvalue: 1 with odds: 0\"\n",
      "[1] \"One-sided Fisher exact test pvalue: 1 with odds: 0\"\n"
     ]
    },
    {
     "name": "stderr",
     "output_type": "stream",
     "text": [
      "chr17\n",
      "\n"
     ]
    },
    {
     "name": "stdout",
     "output_type": "stream",
     "text": [
      "[1] \"Two-sided Fisher exact test pvalue: 1 with odds: 0\"\n",
      "[1] \"One-sided Fisher exact test pvalue: 1 with odds: 0\"\n"
     ]
    },
    {
     "name": "stderr",
     "output_type": "stream",
     "text": [
      "chr18\n",
      "\n"
     ]
    },
    {
     "name": "stdout",
     "output_type": "stream",
     "text": [
      "[1] \"Two-sided Fisher exact test pvalue: 1 with odds: 0\"\n",
      "[1] \"One-sided Fisher exact test pvalue: 1 with odds: 0\"\n"
     ]
    },
    {
     "name": "stderr",
     "output_type": "stream",
     "text": [
      "chr19\n",
      "\n"
     ]
    },
    {
     "name": "stdout",
     "output_type": "stream",
     "text": [
      "[1] \"Two-sided Fisher exact test pvalue: 0.706186206480467 with odds: 1.09781847948715\"\n",
      "[1] \"One-sided Fisher exact test pvalue: 0.56805884591674 with odds: 1.09781847948715\"\n"
     ]
    },
    {
     "name": "stderr",
     "output_type": "stream",
     "text": [
      "chr20\n",
      "\n"
     ]
    },
    {
     "name": "stdout",
     "output_type": "stream",
     "text": [
      "[1] \"Two-sided Fisher exact test pvalue: 1 with odds: 0\"\n",
      "[1] \"One-sided Fisher exact test pvalue: 1 with odds: 0\"\n"
     ]
    },
    {
     "name": "stderr",
     "output_type": "stream",
     "text": [
      "chr21\n",
      "\n"
     ]
    },
    {
     "name": "stdout",
     "output_type": "stream",
     "text": [
      "[1] \"Two-sided Fisher exact test pvalue: 1 with odds: 0\"\n",
      "[1] \"One-sided Fisher exact test pvalue: 1 with odds: 0\"\n"
     ]
    },
    {
     "name": "stderr",
     "output_type": "stream",
     "text": [
      "chr22\n",
      "\n"
     ]
    },
    {
     "name": "stdout",
     "output_type": "stream",
     "text": [
      "[1] \"Two-sided Fisher exact test pvalue: 1 with odds: 0\"\n",
      "[1] \"One-sided Fisher exact test pvalue: 1 with odds: 0\"\n"
     ]
    }
   ],
   "source": [
    "for(i in 1:22){\n",
    "    chromosome = paste0('chr',i)\n",
    "    message(chromosome)\n",
    "    brain <- m6a_gene_anno_bed %>%\n",
    "      filter(context == 'GSE114150_Brain', V1 == chromosome)  \n",
    "    brain_ad <- m6a_gene_bed_ad %>%\n",
    "      filter(context == 'GSE114150_Brain', chrom == chromosome) %>% pull(hg38_ID) %>% unique %>% length\n",
    "    brain_nonad <- (brain %>% pull(hg38_ID) %>% unique %>% length) - brain_ad\n",
    "    \n",
    "    other <- m6a_gene_anno_bed %>%\n",
    "      filter(context != 'GSE114150_Brain', context != 'GSE114150_merged', V1 == chromosome) \n",
    "    other_ad <- m6a_gene_bed_ad %>%\n",
    "      filter(context != 'GSE114150_Brain', context != 'GSE114150_merged', chrom == chromosome)  %>% pull(hg38_ID) %>% unique %>% length\n",
    "    other_nonad <- other %>% pull(hg38_ID) %>% unique %>% length - other_ad\n",
    "    \n",
    "    # Create the contingency table\n",
    "    contingency_table <- matrix(c(brain_ad, brain_nonad, other_ad, other_nonad),\n",
    "                                nrow = 2,\n",
    "                                byrow = TRUE,\n",
    "                                dimnames = list(\"Tissue\" = c(\"Brian\", \"Other\"),\n",
    "                                                \"AD\" = c(\"AD\", \"not_AD\")))\n",
    "    \n",
    "    # Perform Fisher's Exact Test\n",
    "    # two sides\n",
    "    fisher_test_result_two <- fisher.test(contingency_table)\n",
    "    # one side\n",
    "    fisher_test_result_one <- fisher.test(contingency_table, alternative = \"greater\")\n",
    "    \n",
    "    # Print the Fisher test result\n",
    "    print(paste('Two-sided Fisher exact test pvalue:',fisher_test_result_two$p.value, 'with odds:', fisher_test_result_two$estimate))\n",
    "    print(paste('One-sided Fisher exact test pvalue:',fisher_test_result_one$p.value, 'with odds:', fisher_test_result_one$estimate))\n",
    "}"
   ]
  },
  {
   "cell_type": "markdown",
   "id": "aede29e3-82ed-4d65-b87f-414348b30794",
   "metadata": {
    "kernel": "R"
   },
   "source": [
    "Nothing specific if we compare Brain vs pooled_others, may beacause of not enough peaks per chromosome"
   ]
  },
  {
   "cell_type": "markdown",
   "id": "86540def-7df3-4b53-b3c4-21628e6bbafa",
   "metadata": {
    "kernel": "R"
   },
   "source": [
    "#### compare brain and each other tissue"
   ]
  },
  {
   "cell_type": "code",
   "execution_count": 65,
   "id": "71004d32-0570-4962-8368-b8126bd20cd2",
   "metadata": {
    "kernel": "R"
   },
   "outputs": [],
   "source": [
    "contexts <- m6a_gene_anno_bed %>% pull(context) %>% unique\n",
    "contexts <- contexts[contexts!= 'GSE114150_Brain']"
   ]
  },
  {
   "cell_type": "code",
   "execution_count": 69,
   "id": "fbfabbdd-c7ba-4ccb-a6c6-691392fa0566",
   "metadata": {
    "kernel": "R"
   },
   "outputs": [
    {
     "name": "stderr",
     "output_type": "stream",
     "text": [
      "Print One-sided Fisher exact test pvalue < 0.5 only\n",
      "\n",
      "Also printed 2x2 table since some test results have odds as Inf\n",
      "\n",
      "Brian AD vs GSE114150_Liver AD on chr2\n",
      "\n"
     ]
    },
    {
     "name": "stdout",
     "output_type": "stream",
     "text": [
      "                 AD\n",
      "Tissue            AD not_AD\n",
      "  Brian            5   3247\n",
      "  GSE114150_Liver  2   2060\n",
      "[1] \"One-sided Fisher exact test pvalue: 0.446140681483438 with odds: 1.58594927838138\"\n"
     ]
    },
    {
     "name": "stderr",
     "output_type": "stream",
     "text": [
      "Brian AD vs GSE114150_Lung AD on chr2\n",
      "\n"
     ]
    },
    {
     "name": "stdout",
     "output_type": "stream",
     "text": [
      "                AD\n",
      "Tissue           AD not_AD\n",
      "  Brian           5   3247\n",
      "  GSE114150_Lung  2   1886\n",
      "[1] \"One-sided Fisher exact test pvalue: 0.492683275779663 with odds: 1.45200995505478\"\n"
     ]
    },
    {
     "name": "stderr",
     "output_type": "stream",
     "text": [
      "Brian AD vs GSE114150_merged AD on chr2\n",
      "\n"
     ]
    },
    {
     "name": "stdout",
     "output_type": "stream",
     "text": [
      "                  AD\n",
      "Tissue             AD not_AD\n",
      "  Brian             5   3247\n",
      "  GSE114150_merged  6   6545\n",
      "[1] \"One-sided Fisher exact test pvalue: 0.284918845403759 with odds: 1.67970425478151\"\n"
     ]
    },
    {
     "name": "stderr",
     "output_type": "stream",
     "text": [
      "Brian AD vs GSE114150_Stomach AD on chr2\n",
      "\n"
     ]
    },
    {
     "name": "stdout",
     "output_type": "stream",
     "text": [
      "                   AD\n",
      "Tissue              AD not_AD\n",
      "  Brian              5   3247\n",
      "  GSE114150_Stomach  1   1658\n",
      "[1] \"One-sided Fisher exact test pvalue: 0.342240038519065 with odds: 2.5527219156251\"\n"
     ]
    },
    {
     "name": "stderr",
     "output_type": "stream",
     "text": [
      "Brian AD vs GSE114150_Placenta AD on chr5\n",
      "\n"
     ]
    },
    {
     "name": "stdout",
     "output_type": "stream",
     "text": [
      "                    AD\n",
      "Tissue               AD not_AD\n",
      "  Brian               1   2320\n",
      "  GSE114150_Placenta  0   2541\n",
      "[1] \"One-sided Fisher exact test pvalue: 0.47737556561086 with odds: Inf\"\n"
     ]
    },
    {
     "name": "stderr",
     "output_type": "stream",
     "text": [
      "Brian AD vs GSE114150_Kidney AD on chr8\n",
      "\n"
     ]
    },
    {
     "name": "stdout",
     "output_type": "stream",
     "text": [
      "                  AD\n",
      "Tissue             AD not_AD\n",
      "  Brian             1   1895\n",
      "  GSE114150_Kidney  0   2263\n",
      "[1] \"One-sided Fisher exact test pvalue: 0.455878817023322 with odds: Inf\"\n"
     ]
    },
    {
     "name": "stderr",
     "output_type": "stream",
     "text": [
      "Brian AD vs GSE114150_Lung AD on chr12\n",
      "\n"
     ]
    },
    {
     "name": "stdout",
     "output_type": "stream",
     "text": [
      "                AD\n",
      "Tissue           AD not_AD\n",
      "  Brian           5   2173\n",
      "  GSE114150_Lung  2   1356\n",
      "[1] \"One-sided Fisher exact test pvalue: 0.454966193717078 with odds: 1.55987035046571\"\n"
     ]
    },
    {
     "name": "stderr",
     "output_type": "stream",
     "text": [
      "Brian AD vs GSE114150_merged AD on chr12\n",
      "\n"
     ]
    },
    {
     "name": "stdout",
     "output_type": "stream",
     "text": [
      "                  AD\n",
      "Tissue             AD not_AD\n",
      "  Brian             5   2173\n",
      "  GSE114150_merged  7   4296\n",
      "[1] \"One-sided Fisher exact test pvalue: 0.376227224856926 with odds: 1.41210630429866\"\n"
     ]
    }
   ],
   "source": [
    "message('Print One-sided Fisher exact test pvalue < 0.5 only') \n",
    "message('Also printed 2x2 table since some test results have odds as Inf') \n",
    "for(i in 1:22){\n",
    "    chromosome = paste0('chr',i)\n",
    "    brain <- m6a_gene_anno_bed %>%\n",
    "      filter(context == 'GSE114150_Brain', V1 == chromosome)  \n",
    "    brain_ad <- m6a_gene_bed_ad %>%\n",
    "      filter(context == 'GSE114150_Brain', chrom == chromosome) %>% pull(hg38_ID) %>% unique %>% length\n",
    "    brain_nonad <- (brain %>% pull(hg38_ID) %>% unique %>% length) - brain_ad\n",
    "\n",
    "    for(context_target in contexts){\n",
    "        other <- m6a_gene_anno_bed %>%\n",
    "          filter(context == context_target, V1 == chromosome) \n",
    "        other_ad <- m6a_gene_bed_ad %>%\n",
    "          filter(context == context_target, chrom == chromosome)  %>% pull(hg38_ID) %>% unique %>% length\n",
    "        other_nonad <- other %>% pull(hg38_ID) %>% unique %>% length - other_ad\n",
    "        \n",
    "        # Create the contingency table\n",
    "        contingency_table <- matrix(c(brain_ad, brain_nonad, other_ad, other_nonad),\n",
    "                                    nrow = 2,\n",
    "                                    byrow = TRUE,\n",
    "                                    dimnames = list(\"Tissue\" = c(\"Brian\", context_target),\n",
    "                                                    \"AD\" = c(\"AD\", \"not_AD\")))\n",
    "    \n",
    "        \n",
    "            # two sides\n",
    "        fisher_test_result_two <- fisher.test(contingency_table)\n",
    "        # one side\n",
    "        fisher_test_result_one <- fisher.test(contingency_table, alternative = \"greater\")\n",
    "        \n",
    "        # Print the Fisher test result\n",
    "        if (fisher_test_result_one$p.value < 0.5) {\n",
    "    \n",
    "            message(\"Brian AD vs \", context_target, \" AD on \", chromosome)\n",
    "            print(contingency_table)\n",
    "            print(paste('One-sided Fisher exact test pvalue:',fisher_test_result_one$p.value, 'with odds:', fisher_test_result_one$estimate))\n",
    "        }\n",
    "    }\n",
    "}"
   ]
  },
  {
   "cell_type": "markdown",
   "id": "4f122a23-e98c-4d27-bde0-9bb6c84cfaca",
   "metadata": {
    "kernel": "R"
   },
   "source": [
    "## Conclusion:\n",
    "1. In most contexts within the provided data, there is AD enrichment based on Fisher’s test results;\n",
    "2. However, brain tissue does not show greater specificity for AD enrichment compared to other tissues."
   ]
  },
  {
   "cell_type": "code",
   "execution_count": null,
   "id": "89d20d88-a50f-40d0-af11-6d63ef310c2f",
   "metadata": {
    "kernel": "R"
   },
   "outputs": [],
   "source": []
  }
 ],
 "metadata": {
  "kernelspec": {
   "display_name": "SoS",
   "language": "sos",
   "name": "sos"
  },
  "language_info": {
   "codemirror_mode": "sos",
   "file_extension": ".sos",
   "mimetype": "text/x-sos",
   "name": "sos",
   "nbconvert_exporter": "sos_notebook.converter.SoS_Exporter",
   "pygments_lexer": "sos"
  },
  "sos": {
   "kernels": [
    [
     "R",
     "ir",
     "R",
     "#DCDCDA",
     ""
    ]
   ],
   "version": ""
  }
 },
 "nbformat": 4,
 "nbformat_minor": 5
}
