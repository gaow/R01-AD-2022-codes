{
 "cells": [
  {
   "cell_type": "markdown",
   "id": "6dded65c-ccd3-4c1b-bb9f-ca0607975db4",
   "metadata": {
    "kernel": "SoS"
   },
   "source": [
    "# m6A peaks and AD GWAS signals"
   ]
  },
  {
   "cell_type": "markdown",
   "id": "466aa701-0af1-4291-a187-ed31d2e372e7",
   "metadata": {
    "kernel": "SoS"
   },
   "source": [
    "- Data: we have m6A peaks (bed-file like) from different tissues, as well as a version merging all tissues. We also have multiple AD GWAS summary stats from different AD studies where we know the z-score for each variant we analyze, as well as if a variant is in 95% CS from fine-mapping.\n"
   ]
  },
  {
   "cell_type": "markdown",
   "id": "c4a6d3f1-0dca-410c-ae41-7568191dacaa",
   "metadata": {
    "kernel": "SoS"
   },
   "source": [
    "## Overall\n",
    "In this notebook, I aim to map m6A peaks to our finemapped AD variants to explore potential enrichment of m6A peaks. The steps are as follows:\n",
    "\n",
    "1.\tOrganize m6A peak data, including:\n",
    "- Conversion from hg19 to hg38 (not shown in this notebook)\n",
    "- Check m6A peak sizes and downsize those larger than 1kb\n",
    "- Annotate each peak with a possible associated gene\n",
    "2.\tLoad AD finemapped data and Bellenguez sumstats to use as background.\n",
    "3.\tMap m6A peaks to AD finemapped and non-AD finemapped data.\n",
    "4.\tPerform enrichment analysis based on different contexts in Step 3.\n",
    "5.\tCompare whether this enrichment is brain-specific by examining the number of regions with or without AD variants in brain tissue compared to other tissues."
   ]
  },
  {
   "cell_type": "markdown",
   "id": "52da16e2-0987-4cf9-a775-377e235401ff",
   "metadata": {
    "kernel": "SoS"
   },
   "source": [
    "all GWAS analysis are focusing on Bellenguze in notebook"
   ]
  },
  {
   "cell_type": "code",
   "execution_count": 14,
   "id": "99c0997c-5261-49c6-977b-8ae787ba71b0",
   "metadata": {
    "kernel": "R"
   },
   "outputs": [],
   "source": [
    "library(tidyverse)\n",
    "library(data.table)\n",
    "library(bedtoolsr)\n",
    "library(GenomicRanges)\n"
   ]
  },
  {
   "cell_type": "markdown",
   "id": "880f89d6-c9f5-4b38-a55c-14c3aae67a78",
   "metadata": {
    "kernel": "R"
   },
   "source": [
    "## Organize m6A data"
   ]
  },
  {
   "cell_type": "markdown",
   "id": "856aa0bd-7471-4614-a33e-ae4ee5dea9fc",
   "metadata": {
    "kernel": "R"
   },
   "source": [
    "combine m6A region file from all contexts together"
   ]
  },
  {
   "cell_type": "code",
   "execution_count": 4,
   "id": "bfac6428-0e32-4219-bb36-6196743d40b5",
   "metadata": {
    "kernel": "R"
   },
   "outputs": [],
   "source": [
    "m6a = data.frame()\n",
    "for(file_name in list.files('~/data/m6A/Liu2020_m6A/', 'bed$',full.names = T)){\n",
    "    m6a_tmp <- fread(file_name) %>% mutate(V1 = paste0('chr', V1), \n",
    "                                           hg38_ID = paste(V1,V2,V3, sep = \":\"), \n",
    "                                           context = basename(file_name) %>% gsub('.bed','',.) %>% gsub('m6A_adult_','',.))\n",
    "    m6a <- rbind(m6a, m6a_tmp)\n",
    "}"
   ]
  },
  {
   "cell_type": "markdown",
   "id": "f6ff392f-581f-4446-8497-904b7a175d11",
   "metadata": {
    "kernel": "R"
   },
   "source": [
    "### Check the size of m6A peaks. If the peak is > 1 Kb, take the center and extend 500 bp on each side."
   ]
  },
  {
   "cell_type": "code",
   "execution_count": 7,
   "id": "de7de8dd-3228-4531-81bb-61d386aacd87",
   "metadata": {
    "kernel": "R"
   },
   "outputs": [
    {
     "data": {
      "text/plain": [
       "   Min. 1st Qu.  Median    Mean 3rd Qu.    Max. \n",
       "     94     145     175     186     241     298 "
      ]
     },
     "metadata": {},
     "output_type": "display_data"
    }
   ],
   "source": [
    "summary(m6a$distance)"
   ]
  },
  {
   "cell_type": "code",
   "execution_count": 6,
   "id": "8f040455-1eda-4435-8c0e-28c1677be2b1",
   "metadata": {
    "kernel": "R"
   },
   "outputs": [],
   "source": [
    "m6a <- m6a %>% mutate(distance = V3-V2, \n",
    "               center = as.integer((V2+V3)/2),\n",
    "               start = ifelse(distance <= 1000, V2, center - 500), \n",
    "               end = ifelse(distance <= 1000, V3, center + 500)) \n",
    "m6a %>% fwrite(., '~/data/m6A/Liu2020_m6A/m6A_adult_hg19Tohg38.all.modifyregion.bed.gz', sep = '\\t')"
   ]
  },
  {
   "cell_type": "markdown",
   "id": "70aa1639-1886-4313-a45c-a374f7a66638",
   "metadata": {
    "kernel": "R"
   },
   "source": [
    "The maxium size of m6A peaks is 298"
   ]
  },
  {
   "cell_type": "markdown",
   "id": "1886720e-4f64-467d-a47b-19672e8d18e3",
   "metadata": {
    "kernel": "R"
   },
   "source": [
    "Add gene information into each peak. \n",
    "For the peak region we can keep every gene overlapped with it , and for the regions not covered with any gene body we pick the one with nearest TSS to center of m6A region"
   ]
  },
  {
   "cell_type": "code",
   "execution_count": 10,
   "id": "1f1c94ec-3b95-4e8e-af63-37d244b0eef4",
   "metadata": {
    "kernel": "R"
   },
   "outputs": [],
   "source": [
    "gene_region <- fread('~/data/ref_data_Ru/gene_region.tsv')\n",
    "\n",
    "gene_region <- gene_region %>%\n",
    "  mutate(gene_name = str_extract(V9, 'gene_name.*?;'), \n",
    "         gene_name = str_replace_all(gene_name, 'gene_name\\\\s*\"\"?|\"\"|;', \"\"),\n",
    "        TSS = ifelse(V7 == \"+\", V4, V5))"
   ]
  },
  {
   "cell_type": "code",
   "execution_count": 11,
   "id": "d1e2b7ed-8d1b-4a54-8054-88e233bc498a",
   "metadata": {
    "kernel": "R"
   },
   "outputs": [
    {
     "data": {
      "text/html": [
       "<style>\n",
       ".list-inline {list-style: none; margin:0; padding: 0}\n",
       ".list-inline>li {display: inline-block}\n",
       ".list-inline>li:not(:last-child)::after {content: \"\\00b7\"; padding: 0 .5ex}\n",
       "</style>\n",
       "<ol class=list-inline><li>19933</li><li>12</li></ol>\n"
      ],
      "text/latex": [
       "\\begin{enumerate*}\n",
       "\\item 19933\n",
       "\\item 12\n",
       "\\end{enumerate*}\n"
      ],
      "text/markdown": [
       "1. 19933\n",
       "2. 12\n",
       "\n",
       "\n"
      ],
      "text/plain": [
       "[1] 19933    12"
      ]
     },
     "metadata": {},
     "output_type": "display_data"
    }
   ],
   "source": [
    "# we only kept protein coding gene here\n",
    "pro_gene_region <- gene_region %>% filter(str_detect(V9, \"protein_coding\")) \n",
    "\n",
    "colnames(pro_gene_region)[1] <- 'V1'\n",
    "pro_gene_region %>% dim\n"
   ]
  },
  {
   "cell_type": "code",
   "execution_count": 12,
   "id": "492294c9-fcc4-48f4-bb6b-da80229ea2fa",
   "metadata": {
    "kernel": "R",
    "scrolled": true
   },
   "outputs": [
    {
     "data": {
      "text/html": [
       "<style>\n",
       ".list-inline {list-style: none; margin:0; padding: 0}\n",
       ".list-inline>li {display: inline-block}\n",
       ".list-inline>li:not(:last-child)::after {content: \"\\00b7\"; padding: 0 .5ex}\n",
       "</style>\n",
       "<ol class=list-inline><li>48642</li><li>9</li></ol>\n"
      ],
      "text/latex": [
       "\\begin{enumerate*}\n",
       "\\item 48642\n",
       "\\item 9\n",
       "\\end{enumerate*}\n"
      ],
      "text/markdown": [
       "1. 48642\n",
       "2. 9\n",
       "\n",
       "\n"
      ],
      "text/plain": [
       "[1] 48642     9"
      ]
     },
     "metadata": {},
     "output_type": "display_data"
    },
    {
     "data": {
      "text/html": [
       "<table class=\"dataframe\">\n",
       "<caption>A data.table: 6 × 9</caption>\n",
       "<thead>\n",
       "\t<tr><th scope=col>V1</th><th scope=col>V2</th><th scope=col>V3</th><th scope=col>hg38_ID</th><th scope=col>context</th><th scope=col>distance</th><th scope=col>center</th><th scope=col>start</th><th scope=col>end</th></tr>\n",
       "\t<tr><th scope=col>&lt;chr&gt;</th><th scope=col>&lt;int&gt;</th><th scope=col>&lt;int&gt;</th><th scope=col>&lt;chr&gt;</th><th scope=col>&lt;chr&gt;</th><th scope=col>&lt;int&gt;</th><th scope=col>&lt;int&gt;</th><th scope=col>&lt;int&gt;</th><th scope=col>&lt;int&gt;</th></tr>\n",
       "</thead>\n",
       "<tbody>\n",
       "\t<tr><td>chr1</td><td>267973</td><td>268220</td><td>chr1:267973:268220</td><td>cerebellum</td><td>247</td><td>268096</td><td>267973</td><td>268220</td></tr>\n",
       "\t<tr><td>chr1</td><td>348024</td><td>348263</td><td>chr1:348024:348263</td><td>cerebellum</td><td>239</td><td>348143</td><td>348024</td><td>348263</td></tr>\n",
       "\t<tr><td>chr1</td><td>356666</td><td>356887</td><td>chr1:356666:356887</td><td>cerebellum</td><td>221</td><td>356776</td><td>356666</td><td>356887</td></tr>\n",
       "\t<tr><td>chr1</td><td>380695</td><td>380988</td><td>chr1:380695:380988</td><td>cerebellum</td><td>293</td><td>380841</td><td>380695</td><td>380988</td></tr>\n",
       "\t<tr><td>chr1</td><td>487347</td><td>487497</td><td>chr1:487347:487497</td><td>cerebellum</td><td>150</td><td>487422</td><td>487347</td><td>487497</td></tr>\n",
       "\t<tr><td>chr1</td><td>491147</td><td>491366</td><td>chr1:491147:491366</td><td>cerebellum</td><td>219</td><td>491256</td><td>491147</td><td>491366</td></tr>\n",
       "</tbody>\n",
       "</table>\n"
      ],
      "text/latex": [
       "A data.table: 6 × 9\n",
       "\\begin{tabular}{lllllllll}\n",
       " V1 & V2 & V3 & hg38\\_ID & context & distance & center & start & end\\\\\n",
       " <chr> & <int> & <int> & <chr> & <chr> & <int> & <int> & <int> & <int>\\\\\n",
       "\\hline\n",
       "\t chr1 & 267973 & 268220 & chr1:267973:268220 & cerebellum & 247 & 268096 & 267973 & 268220\\\\\n",
       "\t chr1 & 348024 & 348263 & chr1:348024:348263 & cerebellum & 239 & 348143 & 348024 & 348263\\\\\n",
       "\t chr1 & 356666 & 356887 & chr1:356666:356887 & cerebellum & 221 & 356776 & 356666 & 356887\\\\\n",
       "\t chr1 & 380695 & 380988 & chr1:380695:380988 & cerebellum & 293 & 380841 & 380695 & 380988\\\\\n",
       "\t chr1 & 487347 & 487497 & chr1:487347:487497 & cerebellum & 150 & 487422 & 487347 & 487497\\\\\n",
       "\t chr1 & 491147 & 491366 & chr1:491147:491366 & cerebellum & 219 & 491256 & 491147 & 491366\\\\\n",
       "\\end{tabular}\n"
      ],
      "text/markdown": [
       "\n",
       "A data.table: 6 × 9\n",
       "\n",
       "| V1 &lt;chr&gt; | V2 &lt;int&gt; | V3 &lt;int&gt; | hg38_ID &lt;chr&gt; | context &lt;chr&gt; | distance &lt;int&gt; | center &lt;int&gt; | start &lt;int&gt; | end &lt;int&gt; |\n",
       "|---|---|---|---|---|---|---|---|---|\n",
       "| chr1 | 267973 | 268220 | chr1:267973:268220 | cerebellum | 247 | 268096 | 267973 | 268220 |\n",
       "| chr1 | 348024 | 348263 | chr1:348024:348263 | cerebellum | 239 | 348143 | 348024 | 348263 |\n",
       "| chr1 | 356666 | 356887 | chr1:356666:356887 | cerebellum | 221 | 356776 | 356666 | 356887 |\n",
       "| chr1 | 380695 | 380988 | chr1:380695:380988 | cerebellum | 293 | 380841 | 380695 | 380988 |\n",
       "| chr1 | 487347 | 487497 | chr1:487347:487497 | cerebellum | 150 | 487422 | 487347 | 487497 |\n",
       "| chr1 | 491147 | 491366 | chr1:491147:491366 | cerebellum | 219 | 491256 | 491147 | 491366 |\n",
       "\n"
      ],
      "text/plain": [
       "  V1   V2     V3     hg38_ID            context    distance center start \n",
       "1 chr1 267973 268220 chr1:267973:268220 cerebellum 247      268096 267973\n",
       "2 chr1 348024 348263 chr1:348024:348263 cerebellum 239      348143 348024\n",
       "3 chr1 356666 356887 chr1:356666:356887 cerebellum 221      356776 356666\n",
       "4 chr1 380695 380988 chr1:380695:380988 cerebellum 293      380841 380695\n",
       "5 chr1 487347 487497 chr1:487347:487497 cerebellum 150      487422 487347\n",
       "6 chr1 491147 491366 chr1:491147:491366 cerebellum 219      491256 491147\n",
       "  end   \n",
       "1 268220\n",
       "2 348263\n",
       "3 356887\n",
       "4 380988\n",
       "5 487497\n",
       "6 491366"
      ]
     },
     "metadata": {},
     "output_type": "display_data"
    }
   ],
   "source": [
    "m6a %>% dim\n",
    "m6a %>% head"
   ]
  },
  {
   "cell_type": "markdown",
   "id": "08f6651e-65fb-42e8-968e-da009e970ef8",
   "metadata": {
    "kernel": "R"
   },
   "source": [
    "### Overlap the m6A peaks and gene region annotation file"
   ]
  },
  {
   "cell_type": "code",
   "execution_count": 15,
   "id": "ad7425d9-d0fd-42f3-bdf5-1756eef3e33b",
   "metadata": {
    "kernel": "R"
   },
   "outputs": [],
   "source": [
    "# Load necessary libraries\n",
    "\n",
    "# Convert m6a peaks data and gene region data (pro_gene_region) to GRanges objects\n",
    "m6a_gr <- GRanges(\n",
    "  seqnames = m6a$V1,\n",
    "  ranges = IRanges(start = m6a$start, end = m6a$end)\n",
    ")\n",
    "\n",
    "gene_gr <- GRanges(\n",
    "  seqnames = pro_gene_region$V1,\n",
    "  ranges = IRanges(start = pro_gene_region$V4, end = pro_gene_region$V5),\n",
    "  gene_id = pro_gene_region$gene,\n",
    "  gene_name = pro_gene_region$gene_name\n",
    ")"
   ]
  },
  {
   "cell_type": "markdown",
   "id": "ff7f4487-30e5-42fb-b805-4058e4782173",
   "metadata": {
    "kernel": "R"
   },
   "source": [
    "For the peak region we can keep every gene overlapped with it "
   ]
  },
  {
   "cell_type": "code",
   "execution_count": 16,
   "id": "ae393b71-291b-4b6a-85d8-8c368b247059",
   "metadata": {
    "kernel": "R"
   },
   "outputs": [
    {
     "name": "stderr",
     "output_type": "stream",
     "text": [
      "Warning message in .merge_two_Seqinfo_objects(x, y):\n",
      "“Each of the 2 combined objects has sequence levels not in the other:\n",
      "  - in 'x': chrM\n",
      "  - in 'y': chrMT\n",
      "  Make sure to always combine/compare objects based on the same reference\n",
      "  genome (use suppressWarnings() to suppress this warning).”\n"
     ]
    }
   ],
   "source": [
    "# Find overlaps between m6a data and gene regions\n",
    "overlaps <- findOverlaps(m6a_gr, gene_gr)\n",
    "\n",
    "# Extract overlapping rows and annotate with gene information\n",
    "m6a_with_gene <- m6a[queryHits(overlaps), ]\n",
    "m6a_with_gene$gene_id <- pro_gene_region$gene[subjectHits(overlaps)]\n",
    "m6a_with_gene$gene_name <- pro_gene_region$gene_name[subjectHits(overlaps)]\n",
    "\n",
    "# For non-overlapping rows, find the nearest TSS\n",
    "non_overlapping_indices <- setdiff(seq_len(nrow(m6a)), queryHits(overlaps))\n",
    "m6a_no_gene <- m6a[non_overlapping_indices, ]"
   ]
  },
  {
   "cell_type": "markdown",
   "id": "86bed5f9-618a-4cb6-b7b4-b8f6166d89c9",
   "metadata": {
    "kernel": "R"
   },
   "source": [
    "for the regions not covered with any gene body we pick the one with nearest TSS to center of m6A region"
   ]
  },
  {
   "cell_type": "code",
   "execution_count": 17,
   "id": "54f663e4-209a-47f0-95a8-7a70f2053d30",
   "metadata": {
    "kernel": "R"
   },
   "outputs": [
    {
     "name": "stderr",
     "output_type": "stream",
     "text": [
      "Warning message in .merge_two_Seqinfo_objects(x, y):\n",
      "“Each of the 2 combined objects has sequence levels not in the other:\n",
      "  - in 'x': chrM\n",
      "  - in 'y': chrMT\n",
      "  Make sure to always combine/compare objects based on the same reference\n",
      "  genome (use suppressWarnings() to suppress this warning).”\n"
     ]
    }
   ],
   "source": [
    "# Convert non-overlapping data to GRanges object using the center column\n",
    "m6a_center_gr <- GRanges(\n",
    "  seqnames = m6a_no_gene$V1,\n",
    "  ranges = IRanges(start = m6a_no_gene$center, end = m6a_no_gene$center),  # Use the center column\n",
    "  strand = m6a_no_gene$strand\n",
    ")\n",
    "\n",
    "# Create a GRanges object for gene data using the TSS as the start and end coordinates\n",
    "gene_tss_gr <- GRanges(\n",
    "  seqnames = pro_gene_region$V1,\n",
    "  ranges = IRanges(start = pro_gene_region$TSS, end = pro_gene_region$TSS),  # TSS is used for both start and end\n",
    "  strand = pro_gene_region$V7,\n",
    "  gene_id = pro_gene_region$gene,\n",
    "  gene_name = pro_gene_region$gene_name\n",
    ")\n",
    "\n",
    "# Find the nearest TSS for m6A peaks using the center\n",
    "nearest_tss_indices <- nearest(m6a_center_gr, gene_tss_gr)"
   ]
  },
  {
   "cell_type": "markdown",
   "id": "0aa08d4c-3dd4-4a73-93d7-55c7b0575afb",
   "metadata": {
    "kernel": "R"
   },
   "source": [
    "combine above together"
   ]
  },
  {
   "cell_type": "code",
   "execution_count": 18,
   "id": "4419157f-65d1-45d9-a2cc-0b50c503dbd2",
   "metadata": {
    "kernel": "R",
    "scrolled": true
   },
   "outputs": [
    {
     "data": {
      "text/html": [
       "<style>\n",
       ".list-inline {list-style: none; margin:0; padding: 0}\n",
       ".list-inline>li {display: inline-block}\n",
       ".list-inline>li:not(:last-child)::after {content: \"\\00b7\"; padding: 0 .5ex}\n",
       "</style>\n",
       "<ol class=list-inline><li>13816</li><li>11</li></ol>\n"
      ],
      "text/latex": [
       "\\begin{enumerate*}\n",
       "\\item 13816\n",
       "\\item 11\n",
       "\\end{enumerate*}\n"
      ],
      "text/markdown": [
       "1. 13816\n",
       "2. 11\n",
       "\n",
       "\n"
      ],
      "text/plain": [
       "[1] 13816    11"
      ]
     },
     "metadata": {},
     "output_type": "display_data"
    },
    {
     "data": {
      "text/html": [
       "<table class=\"dataframe\">\n",
       "<caption>A data.table: 6 × 11</caption>\n",
       "<thead>\n",
       "\t<tr><th scope=col>V1</th><th scope=col>V2</th><th scope=col>V3</th><th scope=col>hg38_ID</th><th scope=col>context</th><th scope=col>distance</th><th scope=col>center</th><th scope=col>start</th><th scope=col>end</th><th scope=col>gene_id</th><th scope=col>gene_name</th></tr>\n",
       "\t<tr><th scope=col>&lt;chr&gt;</th><th scope=col>&lt;int&gt;</th><th scope=col>&lt;int&gt;</th><th scope=col>&lt;chr&gt;</th><th scope=col>&lt;chr&gt;</th><th scope=col>&lt;int&gt;</th><th scope=col>&lt;int&gt;</th><th scope=col>&lt;int&gt;</th><th scope=col>&lt;int&gt;</th><th scope=col>&lt;chr&gt;</th><th scope=col>&lt;chr&gt;</th></tr>\n",
       "</thead>\n",
       "<tbody>\n",
       "\t<tr><td>chr1</td><td> 923934</td><td> 924208</td><td>chr1:923934:924208  </td><td>cerebellum</td><td>274</td><td> 924071</td><td> 923934</td><td> 924208</td><td>ENSG00000187634</td><td>SAMD11  </td></tr>\n",
       "\t<tr><td>chr1</td><td> 924961</td><td> 925108</td><td>chr1:924961:925108  </td><td>cerebellum</td><td>147</td><td> 925034</td><td> 924961</td><td> 925108</td><td>ENSG00000187634</td><td>SAMD11  </td></tr>\n",
       "\t<tr><td>chr1</td><td>1055050</td><td>1055197</td><td>chr1:1055050:1055197</td><td>cerebellum</td><td>147</td><td>1055123</td><td>1055050</td><td>1055197</td><td>ENSG00000188157</td><td>AGRN    </td></tr>\n",
       "\t<tr><td>chr1</td><td>1093064</td><td>1093230</td><td>chr1:1093064:1093230</td><td>cerebellum</td><td>166</td><td>1093147</td><td>1093064</td><td>1093230</td><td>ENSG00000131591</td><td>C1orf159</td></tr>\n",
       "\t<tr><td>chr1</td><td>1217379</td><td>1217565</td><td>chr1:1217379:1217565</td><td>cerebellum</td><td>186</td><td>1217472</td><td>1217379</td><td>1217565</td><td>ENSG00000078808</td><td>SDF4    </td></tr>\n",
       "\t<tr><td>chr1</td><td>1228913</td><td>1229062</td><td>chr1:1228913:1229062</td><td>cerebellum</td><td>149</td><td>1228987</td><td>1228913</td><td>1229062</td><td>ENSG00000078808</td><td>SDF4    </td></tr>\n",
       "</tbody>\n",
       "</table>\n"
      ],
      "text/latex": [
       "A data.table: 6 × 11\n",
       "\\begin{tabular}{lllllllllll}\n",
       " V1 & V2 & V3 & hg38\\_ID & context & distance & center & start & end & gene\\_id & gene\\_name\\\\\n",
       " <chr> & <int> & <int> & <chr> & <chr> & <int> & <int> & <int> & <int> & <chr> & <chr>\\\\\n",
       "\\hline\n",
       "\t chr1 &  923934 &  924208 & chr1:923934:924208   & cerebellum & 274 &  924071 &  923934 &  924208 & ENSG00000187634 & SAMD11  \\\\\n",
       "\t chr1 &  924961 &  925108 & chr1:924961:925108   & cerebellum & 147 &  925034 &  924961 &  925108 & ENSG00000187634 & SAMD11  \\\\\n",
       "\t chr1 & 1055050 & 1055197 & chr1:1055050:1055197 & cerebellum & 147 & 1055123 & 1055050 & 1055197 & ENSG00000188157 & AGRN    \\\\\n",
       "\t chr1 & 1093064 & 1093230 & chr1:1093064:1093230 & cerebellum & 166 & 1093147 & 1093064 & 1093230 & ENSG00000131591 & C1orf159\\\\\n",
       "\t chr1 & 1217379 & 1217565 & chr1:1217379:1217565 & cerebellum & 186 & 1217472 & 1217379 & 1217565 & ENSG00000078808 & SDF4    \\\\\n",
       "\t chr1 & 1228913 & 1229062 & chr1:1228913:1229062 & cerebellum & 149 & 1228987 & 1228913 & 1229062 & ENSG00000078808 & SDF4    \\\\\n",
       "\\end{tabular}\n"
      ],
      "text/markdown": [
       "\n",
       "A data.table: 6 × 11\n",
       "\n",
       "| V1 &lt;chr&gt; | V2 &lt;int&gt; | V3 &lt;int&gt; | hg38_ID &lt;chr&gt; | context &lt;chr&gt; | distance &lt;int&gt; | center &lt;int&gt; | start &lt;int&gt; | end &lt;int&gt; | gene_id &lt;chr&gt; | gene_name &lt;chr&gt; |\n",
       "|---|---|---|---|---|---|---|---|---|---|---|\n",
       "| chr1 |  923934 |  924208 | chr1:923934:924208   | cerebellum | 274 |  924071 |  923934 |  924208 | ENSG00000187634 | SAMD11   |\n",
       "| chr1 |  924961 |  925108 | chr1:924961:925108   | cerebellum | 147 |  925034 |  924961 |  925108 | ENSG00000187634 | SAMD11   |\n",
       "| chr1 | 1055050 | 1055197 | chr1:1055050:1055197 | cerebellum | 147 | 1055123 | 1055050 | 1055197 | ENSG00000188157 | AGRN     |\n",
       "| chr1 | 1093064 | 1093230 | chr1:1093064:1093230 | cerebellum | 166 | 1093147 | 1093064 | 1093230 | ENSG00000131591 | C1orf159 |\n",
       "| chr1 | 1217379 | 1217565 | chr1:1217379:1217565 | cerebellum | 186 | 1217472 | 1217379 | 1217565 | ENSG00000078808 | SDF4     |\n",
       "| chr1 | 1228913 | 1229062 | chr1:1228913:1229062 | cerebellum | 149 | 1228987 | 1228913 | 1229062 | ENSG00000078808 | SDF4     |\n",
       "\n"
      ],
      "text/plain": [
       "  V1   V2      V3      hg38_ID              context    distance center  start  \n",
       "1 chr1  923934  924208 chr1:923934:924208   cerebellum 274       924071  923934\n",
       "2 chr1  924961  925108 chr1:924961:925108   cerebellum 147       925034  924961\n",
       "3 chr1 1055050 1055197 chr1:1055050:1055197 cerebellum 147      1055123 1055050\n",
       "4 chr1 1093064 1093230 chr1:1093064:1093230 cerebellum 166      1093147 1093064\n",
       "5 chr1 1217379 1217565 chr1:1217379:1217565 cerebellum 186      1217472 1217379\n",
       "6 chr1 1228913 1229062 chr1:1228913:1229062 cerebellum 149      1228987 1228913\n",
       "  end     gene_id         gene_name\n",
       "1  924208 ENSG00000187634 SAMD11   \n",
       "2  925108 ENSG00000187634 SAMD11   \n",
       "3 1055197 ENSG00000188157 AGRN     \n",
       "4 1093230 ENSG00000131591 C1orf159 \n",
       "5 1217565 ENSG00000078808 SDF4     \n",
       "6 1229062 ENSG00000078808 SDF4     "
      ]
     },
     "metadata": {},
     "output_type": "display_data"
    }
   ],
   "source": [
    "# Add nearest gene info to non-overlapping peaks\n",
    "m6a_no_gene$gene_id <- gene_tss_gr$gene_id[nearest_tss_indices]\n",
    "m6a_no_gene$gene_name <- gene_tss_gr$gene_name[nearest_tss_indices]\n",
    "\n",
    "# Combine overlapping and non-overlapping data\n",
    "m6a_gene_anno <- bind_rows(m6a_with_gene, m6a_no_gene)\n",
    "\n",
    "# Check dimensions and preview data\n",
    "m6a_no_gene %>% dim()\n",
    "m6a_gene_anno %>% head()"
   ]
  },
  {
   "cell_type": "code",
   "execution_count": 19,
   "id": "54ec779c-3a9b-4cf0-92ca-16d2da9a3516",
   "metadata": {
    "kernel": "R"
   },
   "outputs": [
    {
     "data": {
      "text/html": [
       "0.715965626413388"
      ],
      "text/latex": [
       "0.715965626413388"
      ],
      "text/markdown": [
       "0.715965626413388"
      ],
      "text/plain": [
       "[1] 0.7159656"
      ]
     },
     "metadata": {},
     "output_type": "display_data"
    }
   ],
   "source": [
    "1 - (m6a_no_gene %>% distinct(hg38_ID, context) %>% nrow) / (m6a_gene_anno %>% distinct(hg38_ID, context) %>% nrow)"
   ]
  },
  {
   "cell_type": "markdown",
   "id": "19033e6d-30cd-4366-8e2f-4d752c24eb69",
   "metadata": {
    "kernel": "R"
   },
   "source": [
    " >71% peaks can be overlapped with gene body"
   ]
  },
  {
   "cell_type": "markdown",
   "id": "6ba08e80-9fd0-4b7c-9b63-449c1355e69c",
   "metadata": {
    "kernel": "R"
   },
   "source": [
    "## Load AD GWAS finemapping data\n",
    "We focused on `AD_Bellenguez_2022` data and the variants in `cs_coverage_0.95_min_corr`"
   ]
  },
  {
   "cell_type": "code",
   "execution_count": 30,
   "id": "ba73565a-0ba8-4965-a44f-b47174cc26d9",
   "metadata": {
    "kernel": "R",
    "scrolled": true
   },
   "outputs": [
    {
     "data": {
      "text/html": [
       "<style>\n",
       ".list-inline {list-style: none; margin:0; padding: 0}\n",
       ".list-inline>li {display: inline-block}\n",
       ".list-inline>li:not(:last-child)::after {content: \"\\00b7\"; padding: 0 .5ex}\n",
       "</style>\n",
       "<ol class=list-inline><li>66479</li><li>15</li></ol>\n"
      ],
      "text/latex": [
       "\\begin{enumerate*}\n",
       "\\item 66479\n",
       "\\item 15\n",
       "\\end{enumerate*}\n"
      ],
      "text/markdown": [
       "1. 66479\n",
       "2. 15\n",
       "\n",
       "\n"
      ],
      "text/plain": [
       "[1] 66479    15"
      ]
     },
     "metadata": {},
     "output_type": "display_data"
    },
    {
     "data": {
      "text/html": [
       "<table class=\"dataframe\">\n",
       "<caption>A data.table: 2 × 17</caption>\n",
       "<thead>\n",
       "\t<tr><th scope=col>variant_id</th><th scope=col>z</th><th scope=col>pip</th><th scope=col>cs_coverage_0.95</th><th scope=col>cs_coverage_0.7</th><th scope=col>cs_coverage_0.5</th><th scope=col>cs_coverage_0.95_min_corr</th><th scope=col>cs_coverage_0.7_min_corr</th><th scope=col>cs_coverage_0.5_min_corr</th><th scope=col>cs_coverage_0.95_attainable</th><th scope=col>cs_coverage_0.7_attainable</th><th scope=col>cs_coverage_0.5_attainable</th><th scope=col>study</th><th scope=col>method</th><th scope=col>block</th><th scope=col>chr</th><th scope=col>pos</th></tr>\n",
       "\t<tr><th scope=col>&lt;chr&gt;</th><th scope=col>&lt;dbl&gt;</th><th scope=col>&lt;dbl&gt;</th><th scope=col>&lt;int&gt;</th><th scope=col>&lt;int&gt;</th><th scope=col>&lt;int&gt;</th><th scope=col>&lt;int&gt;</th><th scope=col>&lt;int&gt;</th><th scope=col>&lt;int&gt;</th><th scope=col>&lt;int&gt;</th><th scope=col>&lt;int&gt;</th><th scope=col>&lt;int&gt;</th><th scope=col>&lt;chr&gt;</th><th scope=col>&lt;chr&gt;</th><th scope=col>&lt;chr&gt;</th><th scope=col>&lt;chr&gt;</th><th scope=col>&lt;dbl&gt;</th></tr>\n",
       "</thead>\n",
       "<tbody>\n",
       "\t<tr><td>10:11676714:A:G</td><td>6.975610</td><td>0.97921653</td><td>1</td><td>1</td><td>1</td><td>1</td><td>1</td><td>1</td><td>1</td><td>1</td><td>1</td><td>AD_Bellenguez_2022</td><td>RSS_QC_RAISS_imputed</td><td>chr10_10500888_12817813</td><td>chr10</td><td>11676714</td></tr>\n",
       "\t<tr><td>10:11672508:C:T</td><td>5.323441</td><td>0.03323309</td><td>1</td><td>0</td><td>0</td><td>1</td><td>0</td><td>0</td><td>1</td><td>0</td><td>0</td><td>AD_Jansen_2021    </td><td>RSS_QC_RAISS_imputed</td><td>chr10_10500888_12817813</td><td>chr10</td><td>11672508</td></tr>\n",
       "</tbody>\n",
       "</table>\n"
      ],
      "text/latex": [
       "A data.table: 2 × 17\n",
       "\\begin{tabular}{lllllllllllllllll}\n",
       " variant\\_id & z & pip & cs\\_coverage\\_0.95 & cs\\_coverage\\_0.7 & cs\\_coverage\\_0.5 & cs\\_coverage\\_0.95\\_min\\_corr & cs\\_coverage\\_0.7\\_min\\_corr & cs\\_coverage\\_0.5\\_min\\_corr & cs\\_coverage\\_0.95\\_attainable & cs\\_coverage\\_0.7\\_attainable & cs\\_coverage\\_0.5\\_attainable & study & method & block & chr & pos\\\\\n",
       " <chr> & <dbl> & <dbl> & <int> & <int> & <int> & <int> & <int> & <int> & <int> & <int> & <int> & <chr> & <chr> & <chr> & <chr> & <dbl>\\\\\n",
       "\\hline\n",
       "\t 10:11676714:A:G & 6.975610 & 0.97921653 & 1 & 1 & 1 & 1 & 1 & 1 & 1 & 1 & 1 & AD\\_Bellenguez\\_2022 & RSS\\_QC\\_RAISS\\_imputed & chr10\\_10500888\\_12817813 & chr10 & 11676714\\\\\n",
       "\t 10:11672508:C:T & 5.323441 & 0.03323309 & 1 & 0 & 0 & 1 & 0 & 0 & 1 & 0 & 0 & AD\\_Jansen\\_2021     & RSS\\_QC\\_RAISS\\_imputed & chr10\\_10500888\\_12817813 & chr10 & 11672508\\\\\n",
       "\\end{tabular}\n"
      ],
      "text/markdown": [
       "\n",
       "A data.table: 2 × 17\n",
       "\n",
       "| variant_id &lt;chr&gt; | z &lt;dbl&gt; | pip &lt;dbl&gt; | cs_coverage_0.95 &lt;int&gt; | cs_coverage_0.7 &lt;int&gt; | cs_coverage_0.5 &lt;int&gt; | cs_coverage_0.95_min_corr &lt;int&gt; | cs_coverage_0.7_min_corr &lt;int&gt; | cs_coverage_0.5_min_corr &lt;int&gt; | cs_coverage_0.95_attainable &lt;int&gt; | cs_coverage_0.7_attainable &lt;int&gt; | cs_coverage_0.5_attainable &lt;int&gt; | study &lt;chr&gt; | method &lt;chr&gt; | block &lt;chr&gt; | chr &lt;chr&gt; | pos &lt;dbl&gt; |\n",
       "|---|---|---|---|---|---|---|---|---|---|---|---|---|---|---|---|---|\n",
       "| 10:11676714:A:G | 6.975610 | 0.97921653 | 1 | 1 | 1 | 1 | 1 | 1 | 1 | 1 | 1 | AD_Bellenguez_2022 | RSS_QC_RAISS_imputed | chr10_10500888_12817813 | chr10 | 11676714 |\n",
       "| 10:11672508:C:T | 5.323441 | 0.03323309 | 1 | 0 | 0 | 1 | 0 | 0 | 1 | 0 | 0 | AD_Jansen_2021     | RSS_QC_RAISS_imputed | chr10_10500888_12817813 | chr10 | 11672508 |\n",
       "\n"
      ],
      "text/plain": [
       "  variant_id      z        pip        cs_coverage_0.95 cs_coverage_0.7\n",
       "1 10:11676714:A:G 6.975610 0.97921653 1                1              \n",
       "2 10:11672508:C:T 5.323441 0.03323309 1                0              \n",
       "  cs_coverage_0.5 cs_coverage_0.95_min_corr cs_coverage_0.7_min_corr\n",
       "1 1               1                         1                       \n",
       "2 0               1                         0                       \n",
       "  cs_coverage_0.5_min_corr cs_coverage_0.95_attainable\n",
       "1 1                        1                          \n",
       "2 0                        1                          \n",
       "  cs_coverage_0.7_attainable cs_coverage_0.5_attainable study             \n",
       "1 1                          1                          AD_Bellenguez_2022\n",
       "2 0                          0                          AD_Jansen_2021    \n",
       "  method               block                   chr   pos     \n",
       "1 RSS_QC_RAISS_imputed chr10_10500888_12817813 chr10 11676714\n",
       "2 RSS_QC_RAISS_imputed chr10_10500888_12817813 chr10 11672508"
      ]
     },
     "metadata": {},
     "output_type": "display_data"
    },
    {
     "data": {
      "text/html": [
       "<style>\n",
       ".list-inline {list-style: none; margin:0; padding: 0}\n",
       ".list-inline>li {display: inline-block}\n",
       ".list-inline>li:not(:last-child)::after {content: \"\\00b7\"; padding: 0 .5ex}\n",
       "</style>\n",
       "<ol class=list-inline><li>5749</li><li>17</li></ol>\n"
      ],
      "text/latex": [
       "\\begin{enumerate*}\n",
       "\\item 5749\n",
       "\\item 17\n",
       "\\end{enumerate*}\n"
      ],
      "text/markdown": [
       "1. 5749\n",
       "2. 17\n",
       "\n",
       "\n"
      ],
      "text/plain": [
       "[1] 5749   17"
      ]
     },
     "metadata": {},
     "output_type": "display_data"
    }
   ],
   "source": [
    "gwas <- fread('/mnt/vast/hpc/csg/rf2872/Work/Multivariate/GWAS_finemapping_Apr9/GWAS_finemapping_Apr9.union_export.tsv.gz')\n",
    "\n",
    "gwas %>% dim\n",
    "gwas <- gwas %>% \n",
    "        # filter(study == 'AD_Bellenguez_2022') %>% \n",
    "        mutate(chr = str_split(variant_id, \":\", simplify = T) %>% .[,1] %>% paste0(\"chr\",.),\n",
    "                pos = str_split(variant_id, \":\", simplify = T) %>% .[,2] %>% as.numeric) %>% filter(cs_coverage_0.95_min_corr > 0)\n",
    "gwas %>% head(n = 2)\n",
    "gwas %>% dim"
   ]
  },
  {
   "cell_type": "markdown",
   "id": "833e0bcf-064e-4830-82cb-693804c1098b",
   "metadata": {
    "kernel": "R"
   },
   "source": [
    "## Map m6A peaks to AD finemapped variants"
   ]
  },
  {
   "cell_type": "code",
   "execution_count": 44,
   "id": "12627ddb-529f-4d34-909f-7962459df33f",
   "metadata": {
    "kernel": "R"
   },
   "outputs": [],
   "source": [
    "m6a_gene_anno_bed <- m6a_gene_anno[, c(\"V1\", \"start\", \"end\", \"hg38_ID\", \"context\", \"gene_id\", \"gene_name\")]\n",
    "gwas_bed <- gwas[, .(chr, start_variant = as.integer(pos), end_variant = as.integer(pos), variant_id,z,pip,cs_coverage_0.95_min_corr,block, study)]\n",
    "\n",
    "m6a_gene_bed_ad <- bt.intersect(a = m6a_gene_anno_bed, b = gwas_bed, wa = T, wb = T) "
   ]
  },
  {
   "cell_type": "code",
   "execution_count": 45,
   "id": "5f9e91b6-2b2e-4ad9-88a6-04104350d85c",
   "metadata": {
    "kernel": "R"
   },
   "outputs": [
    {
     "data": {
      "text/html": [
       "<style>\n",
       ".list-inline {list-style: none; margin:0; padding: 0}\n",
       ".list-inline>li {display: inline-block}\n",
       ".list-inline>li:not(:last-child)::after {content: \"\\00b7\"; padding: 0 .5ex}\n",
       "</style>\n",
       "<ol class=list-inline><li>53</li><li>16</li></ol>\n"
      ],
      "text/latex": [
       "\\begin{enumerate*}\n",
       "\\item 53\n",
       "\\item 16\n",
       "\\end{enumerate*}\n"
      ],
      "text/markdown": [
       "1. 53\n",
       "2. 16\n",
       "\n",
       "\n"
      ],
      "text/plain": [
       "[1] 53 16"
      ]
     },
     "metadata": {},
     "output_type": "display_data"
    },
    {
     "data": {
      "text/html": [
       "<table class=\"dataframe\">\n",
       "<caption>A data.frame: 6 × 16</caption>\n",
       "<thead>\n",
       "\t<tr><th></th><th scope=col>chrom</th><th scope=col>start</th><th scope=col>end</th><th scope=col>hg38_ID</th><th scope=col>context</th><th scope=col>gene_id</th><th scope=col>gene_name</th><th scope=col>chr</th><th scope=col>start_variant</th><th scope=col>end_variant</th><th scope=col>variant_id</th><th scope=col>z</th><th scope=col>pip</th><th scope=col>cs_coverage_0.95_min_corr</th><th scope=col>block</th><th scope=col>study</th></tr>\n",
       "\t<tr><th></th><th scope=col>&lt;chr&gt;</th><th scope=col>&lt;int&gt;</th><th scope=col>&lt;int&gt;</th><th scope=col>&lt;chr&gt;</th><th scope=col>&lt;chr&gt;</th><th scope=col>&lt;chr&gt;</th><th scope=col>&lt;chr&gt;</th><th scope=col>&lt;chr&gt;</th><th scope=col>&lt;int&gt;</th><th scope=col>&lt;int&gt;</th><th scope=col>&lt;chr&gt;</th><th scope=col>&lt;dbl&gt;</th><th scope=col>&lt;dbl&gt;</th><th scope=col>&lt;int&gt;</th><th scope=col>&lt;chr&gt;</th><th scope=col>&lt;chr&gt;</th></tr>\n",
       "</thead>\n",
       "<tbody>\n",
       "\t<tr><th scope=row>1</th><td>chr12</td><td>113296387</td><td>113296637</td><td>chr12:113296387:113296637</td><td>cerebellum</td><td>ENSG00000186815</td><td>TPCN1          </td><td>chr12</td><td>113296542</td><td>113296542</td><td>12:113296542:G:A</td><td> 4.59375</td><td>0.0066225411</td><td>1</td><td>chr12_112825713_115165608</td><td>AD_Bellenguez_2022      </td></tr>\n",
       "\t<tr><th scope=row>2</th><td>chr12</td><td>113299621</td><td>113299844</td><td>chr12:113299621:113299844</td><td>cerebellum</td><td>ENSG00000089060</td><td>SLC8B1         </td><td>chr12</td><td>113299825</td><td>113299825</td><td>12:113299825:G:A</td><td> 4.60000</td><td>0.0068061377</td><td>1</td><td>chr12_112825713_115165608</td><td>AD_Bellenguez_2022      </td></tr>\n",
       "\t<tr><th scope=row>3</th><td>chr17</td><td> 45656494</td><td> 45656749</td><td>chr17:45656494:45656749  </td><td>cerebellum</td><td>ENSG00000263715</td><td>LINC02210-CRHR1</td><td>chr17</td><td> 45656617</td><td> 45656617</td><td>17:45656617:G:A </td><td>-5.52623</td><td>0.0002241048</td><td>1</td><td>chr17_45383525_50162864  </td><td>AD_Bellenguez_GRACE_2022</td></tr>\n",
       "\t<tr><th scope=row>4</th><td>chr17</td><td> 45832590</td><td> 45832823</td><td>chr17:45832590:45832823  </td><td>cerebellum</td><td>ENSG00000263715</td><td>LINC02210-CRHR1</td><td>chr17</td><td> 45832722</td><td> 45832722</td><td>17:45832722:G:A </td><td>-5.65945</td><td>0.0004594405</td><td>1</td><td>chr17_45383525_50162864  </td><td>AD_Bellenguez_GRACE_2022</td></tr>\n",
       "\t<tr><th scope=row>5</th><td>chr17</td><td> 45832590</td><td> 45832823</td><td>chr17:45832590:45832823  </td><td>cerebellum</td><td>ENSG00000263715</td><td>LINC02210-CRHR1</td><td>chr17</td><td> 45832817</td><td> 45832817</td><td>17:45832817:G:A </td><td>-5.61824</td><td>0.0003672812</td><td>1</td><td>chr17_45383525_50162864  </td><td>AD_Bellenguez_GRACE_2022</td></tr>\n",
       "\t<tr><th scope=row>6</th><td>chr17</td><td> 45832590</td><td> 45832823</td><td>chr17:45832590:45832823  </td><td>cerebellum</td><td>ENSG00000120088</td><td>CRHR1          </td><td>chr17</td><td> 45832722</td><td> 45832722</td><td>17:45832722:G:A </td><td>-5.65945</td><td>0.0004594405</td><td>1</td><td>chr17_45383525_50162864  </td><td>AD_Bellenguez_GRACE_2022</td></tr>\n",
       "</tbody>\n",
       "</table>\n"
      ],
      "text/latex": [
       "A data.frame: 6 × 16\n",
       "\\begin{tabular}{r|llllllllllllllll}\n",
       "  & chrom & start & end & hg38\\_ID & context & gene\\_id & gene\\_name & chr & start\\_variant & end\\_variant & variant\\_id & z & pip & cs\\_coverage\\_0.95\\_min\\_corr & block & study\\\\\n",
       "  & <chr> & <int> & <int> & <chr> & <chr> & <chr> & <chr> & <chr> & <int> & <int> & <chr> & <dbl> & <dbl> & <int> & <chr> & <chr>\\\\\n",
       "\\hline\n",
       "\t1 & chr12 & 113296387 & 113296637 & chr12:113296387:113296637 & cerebellum & ENSG00000186815 & TPCN1           & chr12 & 113296542 & 113296542 & 12:113296542:G:A &  4.59375 & 0.0066225411 & 1 & chr12\\_112825713\\_115165608 & AD\\_Bellenguez\\_2022      \\\\\n",
       "\t2 & chr12 & 113299621 & 113299844 & chr12:113299621:113299844 & cerebellum & ENSG00000089060 & SLC8B1          & chr12 & 113299825 & 113299825 & 12:113299825:G:A &  4.60000 & 0.0068061377 & 1 & chr12\\_112825713\\_115165608 & AD\\_Bellenguez\\_2022      \\\\\n",
       "\t3 & chr17 &  45656494 &  45656749 & chr17:45656494:45656749   & cerebellum & ENSG00000263715 & LINC02210-CRHR1 & chr17 &  45656617 &  45656617 & 17:45656617:G:A  & -5.52623 & 0.0002241048 & 1 & chr17\\_45383525\\_50162864   & AD\\_Bellenguez\\_GRACE\\_2022\\\\\n",
       "\t4 & chr17 &  45832590 &  45832823 & chr17:45832590:45832823   & cerebellum & ENSG00000263715 & LINC02210-CRHR1 & chr17 &  45832722 &  45832722 & 17:45832722:G:A  & -5.65945 & 0.0004594405 & 1 & chr17\\_45383525\\_50162864   & AD\\_Bellenguez\\_GRACE\\_2022\\\\\n",
       "\t5 & chr17 &  45832590 &  45832823 & chr17:45832590:45832823   & cerebellum & ENSG00000263715 & LINC02210-CRHR1 & chr17 &  45832817 &  45832817 & 17:45832817:G:A  & -5.61824 & 0.0003672812 & 1 & chr17\\_45383525\\_50162864   & AD\\_Bellenguez\\_GRACE\\_2022\\\\\n",
       "\t6 & chr17 &  45832590 &  45832823 & chr17:45832590:45832823   & cerebellum & ENSG00000120088 & CRHR1           & chr17 &  45832722 &  45832722 & 17:45832722:G:A  & -5.65945 & 0.0004594405 & 1 & chr17\\_45383525\\_50162864   & AD\\_Bellenguez\\_GRACE\\_2022\\\\\n",
       "\\end{tabular}\n"
      ],
      "text/markdown": [
       "\n",
       "A data.frame: 6 × 16\n",
       "\n",
       "| <!--/--> | chrom &lt;chr&gt; | start &lt;int&gt; | end &lt;int&gt; | hg38_ID &lt;chr&gt; | context &lt;chr&gt; | gene_id &lt;chr&gt; | gene_name &lt;chr&gt; | chr &lt;chr&gt; | start_variant &lt;int&gt; | end_variant &lt;int&gt; | variant_id &lt;chr&gt; | z &lt;dbl&gt; | pip &lt;dbl&gt; | cs_coverage_0.95_min_corr &lt;int&gt; | block &lt;chr&gt; | study &lt;chr&gt; |\n",
       "|---|---|---|---|---|---|---|---|---|---|---|---|---|---|---|---|---|\n",
       "| 1 | chr12 | 113296387 | 113296637 | chr12:113296387:113296637 | cerebellum | ENSG00000186815 | TPCN1           | chr12 | 113296542 | 113296542 | 12:113296542:G:A |  4.59375 | 0.0066225411 | 1 | chr12_112825713_115165608 | AD_Bellenguez_2022       |\n",
       "| 2 | chr12 | 113299621 | 113299844 | chr12:113299621:113299844 | cerebellum | ENSG00000089060 | SLC8B1          | chr12 | 113299825 | 113299825 | 12:113299825:G:A |  4.60000 | 0.0068061377 | 1 | chr12_112825713_115165608 | AD_Bellenguez_2022       |\n",
       "| 3 | chr17 |  45656494 |  45656749 | chr17:45656494:45656749   | cerebellum | ENSG00000263715 | LINC02210-CRHR1 | chr17 |  45656617 |  45656617 | 17:45656617:G:A  | -5.52623 | 0.0002241048 | 1 | chr17_45383525_50162864   | AD_Bellenguez_GRACE_2022 |\n",
       "| 4 | chr17 |  45832590 |  45832823 | chr17:45832590:45832823   | cerebellum | ENSG00000263715 | LINC02210-CRHR1 | chr17 |  45832722 |  45832722 | 17:45832722:G:A  | -5.65945 | 0.0004594405 | 1 | chr17_45383525_50162864   | AD_Bellenguez_GRACE_2022 |\n",
       "| 5 | chr17 |  45832590 |  45832823 | chr17:45832590:45832823   | cerebellum | ENSG00000263715 | LINC02210-CRHR1 | chr17 |  45832817 |  45832817 | 17:45832817:G:A  | -5.61824 | 0.0003672812 | 1 | chr17_45383525_50162864   | AD_Bellenguez_GRACE_2022 |\n",
       "| 6 | chr17 |  45832590 |  45832823 | chr17:45832590:45832823   | cerebellum | ENSG00000120088 | CRHR1           | chr17 |  45832722 |  45832722 | 17:45832722:G:A  | -5.65945 | 0.0004594405 | 1 | chr17_45383525_50162864   | AD_Bellenguez_GRACE_2022 |\n",
       "\n"
      ],
      "text/plain": [
       "  chrom start     end       hg38_ID                   context   \n",
       "1 chr12 113296387 113296637 chr12:113296387:113296637 cerebellum\n",
       "2 chr12 113299621 113299844 chr12:113299621:113299844 cerebellum\n",
       "3 chr17  45656494  45656749 chr17:45656494:45656749   cerebellum\n",
       "4 chr17  45832590  45832823 chr17:45832590:45832823   cerebellum\n",
       "5 chr17  45832590  45832823 chr17:45832590:45832823   cerebellum\n",
       "6 chr17  45832590  45832823 chr17:45832590:45832823   cerebellum\n",
       "  gene_id         gene_name       chr   start_variant end_variant\n",
       "1 ENSG00000186815 TPCN1           chr12 113296542     113296542  \n",
       "2 ENSG00000089060 SLC8B1          chr12 113299825     113299825  \n",
       "3 ENSG00000263715 LINC02210-CRHR1 chr17  45656617      45656617  \n",
       "4 ENSG00000263715 LINC02210-CRHR1 chr17  45832722      45832722  \n",
       "5 ENSG00000263715 LINC02210-CRHR1 chr17  45832817      45832817  \n",
       "6 ENSG00000120088 CRHR1           chr17  45832722      45832722  \n",
       "  variant_id       z        pip          cs_coverage_0.95_min_corr\n",
       "1 12:113296542:G:A  4.59375 0.0066225411 1                        \n",
       "2 12:113299825:G:A  4.60000 0.0068061377 1                        \n",
       "3 17:45656617:G:A  -5.52623 0.0002241048 1                        \n",
       "4 17:45832722:G:A  -5.65945 0.0004594405 1                        \n",
       "5 17:45832817:G:A  -5.61824 0.0003672812 1                        \n",
       "6 17:45832722:G:A  -5.65945 0.0004594405 1                        \n",
       "  block                     study                   \n",
       "1 chr12_112825713_115165608 AD_Bellenguez_2022      \n",
       "2 chr12_112825713_115165608 AD_Bellenguez_2022      \n",
       "3 chr17_45383525_50162864   AD_Bellenguez_GRACE_2022\n",
       "4 chr17_45383525_50162864   AD_Bellenguez_GRACE_2022\n",
       "5 chr17_45383525_50162864   AD_Bellenguez_GRACE_2022\n",
       "6 chr17_45383525_50162864   AD_Bellenguez_GRACE_2022"
      ]
     },
     "metadata": {},
     "output_type": "display_data"
    }
   ],
   "source": [
    "colnames(m6a_gene_bed_ad) <- c(\"chrom\", \"start\", \"end\", \"hg38_ID\", \"context\", \"gene_id\", \"gene_name\", colnames(gwas_bed))\n",
    "m6a_gene_bed_ad %>% dim\n",
    "m6a_gene_bed_ad %>% head"
   ]
  },
  {
   "cell_type": "markdown",
   "id": "e2ec1052-3ef6-4d0c-bacc-d2ef705e2038",
   "metadata": {
    "kernel": "R"
   },
   "source": [
    "The reginos numbers can have AD signals in each context are like below"
   ]
  },
  {
   "cell_type": "code",
   "execution_count": 46,
   "id": "090d64fb-ecf0-4014-9af4-1dc86d95c577",
   "metadata": {
    "kernel": "R",
    "scrolled": true
   },
   "outputs": [
    {
     "data": {
      "text/plain": [
       ".\n",
       "                     AD_Bellenguez_2022                AD_Bellenguez_GRACE_2022 \n",
       "                                      4                                      33 \n",
       "                  AD_Kunkle_Stage1_2019       AD_Wightman_Excluding23andMe_2021 \n",
       "                                      1                                       3 \n",
       "AD_Wightman_ExcludingUKBand23andME_2021 \n",
       "                                      1 "
      ]
     },
     "metadata": {},
     "output_type": "display_data"
    }
   ],
   "source": [
    "m6a_gene_bed_ad %>% distinct(variant_id,context,hg38_ID, .keep_all = T) %>% pull(study) %>% table"
   ]
  },
  {
   "cell_type": "code",
   "execution_count": 47,
   "id": "80883c6c-7b21-4324-8601-1725f5876885",
   "metadata": {
    "kernel": "R"
   },
   "outputs": [
    {
     "data": {
      "text/plain": [
       ".\n",
       "chr17_45383525_50162864 chr19_42346101_44935906 \n",
       "                     39                       1 "
      ]
     },
     "metadata": {},
     "output_type": "display_data"
    }
   ],
   "source": [
    "m6a_gene_bed_ad %>% filter(study == 'AD_Bellenguez_GRACE_2022') %>% pull(block) %>% table"
   ]
  },
  {
   "cell_type": "markdown",
   "id": "3e43da23-3303-4c56-8e7f-fe480369b5c1",
   "metadata": {
    "kernel": "R"
   },
   "source": [
    "a lot of peaks overlapped with AD_Bellenguez_GRACE_2022 due to a big and complex block in chr17"
   ]
  },
  {
   "cell_type": "code",
   "execution_count": 49,
   "id": "7046afbe-5a8a-4b0e-86b4-cf4a580386f3",
   "metadata": {
    "kernel": "R"
   },
   "outputs": [],
   "source": [
    "fwrite(m6a_gene_bed_ad, \"m6a_adult_all_ADGWAS_cs95_mincorr_1kb.overlap.tsv\", sep = '\\t')"
   ]
  },
  {
   "cell_type": "code",
   "execution_count": 50,
   "id": "36d61c23-f799-4473-b86b-d44433fd7a3c",
   "metadata": {
    "kernel": "R"
   },
   "outputs": [],
   "source": [
    "m6a_gene_bed_ad <- m6a_gene_bed_ad %>% filter(study == 'AD_Bellenguez_2022')"
   ]
  },
  {
   "cell_type": "code",
   "execution_count": 51,
   "id": "c2c72ee0-e73e-4f16-921c-39ad1b1fcc0b",
   "metadata": {
    "kernel": "R"
   },
   "outputs": [],
   "source": [
    "fwrite(m6a_gene_bed_ad, \"m6a_adult_AD_Bellenguez_2022_cs95_mincorr_1kb.overlap.tsv\", sep = '\\t')"
   ]
  },
  {
   "cell_type": "markdown",
   "id": "db9dc43a-d9f4-4b1a-9696-a67c5440a2bf",
   "metadata": {
    "kernel": "R"
   },
   "source": [
    "## Results for the comparison of annotated m6A peaks"
   ]
  },
  {
   "cell_type": "markdown",
   "id": "b236cc90-b8d3-4c32-83ef-8fbb1005fd47",
   "metadata": {
    "kernel": "R"
   },
   "source": [
    "### Figure 1: The consistency among different context/tissue\n",
    "Define AD variants as variants in 95% CS from any AD GWAS data, we annotate these variants to see how many are m6A peaks. We see that brain m6A annotates more variants than other data-sets. Notice that this is variant level summary not CS level --- you can imagine limitations summarizing it this way, and how this can be improved to loci level summary if needed. I did not push it because I dont think we will use the UpsetR plot anyways, and I will get loci level information in the FET section i suggested."
   ]
  },
  {
   "cell_type": "code",
   "execution_count": 52,
   "id": "47ee20ac-e401-468e-9952-536d8b6e67f8",
   "metadata": {
    "kernel": "R"
   },
   "outputs": [
    {
     "data": {
      "text/html": [
       "<style>\n",
       ".dl-inline {width: auto; margin:0; padding: 0}\n",
       ".dl-inline>dt, .dl-inline>dd {float: none; width: auto; display: inline-block}\n",
       ".dl-inline>dt::after {content: \":\\0020\"; padding-right: .5ex}\n",
       ".dl-inline>dt:not(:first-of-type) {padding-left: .5ex}\n",
       "</style><dl class=dl-inline><dt>cerebellum</dt><dd>2</dd><dt>cerebrum</dt><dd>2</dd></dl>\n"
      ],
      "text/latex": [
       "\\begin{description*}\n",
       "\\item[cerebellum] 2\n",
       "\\item[cerebrum] 2\n",
       "\\end{description*}\n"
      ],
      "text/markdown": [
       "cerebellum\n",
       ":   2cerebrum\n",
       ":   2\n",
       "\n"
      ],
      "text/plain": [
       "cerebellum   cerebrum \n",
       "         2          2 "
      ]
     },
     "metadata": {},
     "output_type": "display_data"
    },
    {
     "name": "stderr",
     "output_type": "stream",
     "text": [
      "\u001b[1m\u001b[22m`geom_line()`: Each group consists of only one observation.\n",
      "\u001b[36mℹ\u001b[39m Do you need to adjust the \u001b[32mgroup\u001b[39m aesthetic?\n"
     ]
    },
    {
     "data": {
      "image/png": "[encoded data removed]",
      "text/plain": [
       "plot without title"
      ]
     },
     "metadata": {
      "image/png": {
       "height": 480,
       "width": 840
      }
     },
     "output_type": "display_data"
    }
   ],
   "source": [
    "library(UpSetR)\n",
    "library(tidyr)\n",
    "library(dplyr)\n",
    "\n",
    "options(repr.plot.width=14, repr.plot.height=8)\n",
    "upset_data <- m6a_gene_bed_ad %>%\n",
    "  select(variant_id, context) %>%\n",
    "  distinct() %>%\n",
    "  mutate(present = 1) %>%\n",
    "  spread(key = context, value = present, fill = 0)\n",
    "upset_data[,-1]%>% colSums\n",
    "# Plot the UpSet plot to show how many variants are shared by contexts\n",
    "upset(upset_data, sets = colnames(upset_data)[-1], order.by = \"freq\", text.scale = 2)"
   ]
  },
  {
   "cell_type": "markdown",
   "id": "b82ae7e3-66dd-49a9-b78c-5f076b22c979",
   "metadata": {
    "kernel": "R"
   },
   "source": [
    "### Figure 2: Summarize the proportion of AD risk variants covered by peaks for each context and chromosome\n",
    "Given a CS contain m6A peaks, we want to see what's the proportion of variants in the CS are m6A peaks. It's like how \"pure\" or \"enriched\" a CS is in terms of m6A modification. The goal here is to rule out if we have a very large CS with just one or two variants being m6A sites. And also to see if the overlap is not cluttered on a certain chromosome with large CS --- these are not clear from upsetR plot. Since we condition on CS containing m6A peak this is a relative metric and explains why brain has move CS+m6A overlaps than kidney but within those that are overlap, they behave similar. As I said I think this figure is more of a diagnosis although it does complement Figure 1 to further suggest that brain is interesting."
   ]
  },
  {
   "cell_type": "code",
   "execution_count": 53,
   "id": "404b68f9-9590-4bb6-bde3-64f2b0b51bf5",
   "metadata": {
    "kernel": "R"
   },
   "outputs": [],
   "source": [
    "# Create a contingency table for intersected_data by context and chr\n",
    "m6a_gene_bed_ad_table <- table(m6a_gene_bed_ad$context, m6a_gene_bed_ad$chrom)\n",
    "\n",
    "# Create a table of gwas_bed counts by chromosome\n",
    "gwas_chr_table <- table(gwas_bed$chr)\n",
    "\n",
    "# Subset gwas_chr_table for chromosomes in intersected_table and repeat rows to match contexts\n",
    "gwas_chr_counts <- gwas_chr_table[match(colnames(m6a_gene_bed_ad_table), names(gwas_chr_table))]\n",
    "\n",
    "# Create a matrix where each row corresponds to a context and contains the chr counts from gwas_bed\n",
    "gwas_chr_matrix <- matrix(gwas_chr_counts, nrow = nrow(m6a_gene_bed_ad_table), ncol = length(gwas_chr_counts), byrow = TRUE)\n",
    "\n",
    "# Normalize the intersected_table by the corresponding gwas_bed counts\n",
    "normalized_table <- m6a_gene_bed_ad_table / gwas_chr_matrix\n"
   ]
  },
  {
   "cell_type": "code",
   "execution_count": 54,
   "id": "c5037447-8fb1-41cf-b384-ca999362cc68",
   "metadata": {
    "kernel": "R"
   },
   "outputs": [
    {
     "data": {
      "image/png": "[encoded data removed]",
      "text/plain": [
       "plot without title"
      ]
     },
     "metadata": {
      "image/png": {
       "height": 480,
       "width": 840
      }
     },
     "output_type": "display_data"
    }
   ],
   "source": [
    "# Convert normalized_table to a data frame\n",
    "normalized_df <- as.data.frame(as.table(normalized_table))\n",
    "\n",
    "# Rename columns for clarity\n",
    "colnames(normalized_df) <- c(\"Context\", \"Chromosome\", \"Proportion\")\n",
    "library(ggplot2)\n",
    "\n",
    "# Plot the normalized table as a heatmap\n",
    "ggplot(normalized_df, aes(x = Chromosome, y = Context, fill = Proportion)) +\n",
    "  geom_tile() +   # Use tiles for the heatmap\n",
    "  scale_fill_gradient(low = \"white\", high = \"blue\") +  # Customize colors\n",
    "  labs(title = \"Normalized Proportions of Context by Chromosome\",\n",
    "       x = \"Chromosome\", \n",
    "       y = \"Context\",\n",
    "       fill = \"Proportion\") +\n",
    "  theme_minimal() +\n",
    "  theme(  axis.text.x = element_text(angle = 45, hjust = 1, size = 14),  # Increase font size for x-axis labels\n",
    "    axis.text.y = element_text(size = 14),  # Increase font size for y-axis labels\n",
    "    axis.title.x = element_text(size = 16),  # Increase font size for x-axis title\n",
    "    axis.title.y = element_text(size = 16),  # Increase font size for y-axis title\n",
    "    plot.title = element_text(size = 18)  # Increase font size for plot title\n",
    "  ) "
   ]
  },
  {
   "cell_type": "markdown",
   "id": "3bf24789-a8e1-454a-8a16-0b80b03dcd38",
   "metadata": {
    "kernel": "R"
   },
   "source": [
    "## AD enrichment analysis "
   ]
  },
  {
   "cell_type": "markdown",
   "id": "8f124e3a-aa29-4277-8e82-7ad00a066906",
   "metadata": {
    "kernel": "R"
   },
   "source": [
    "fisher test with 1. m6A and AD loci, 2. m6a and not AD loci, 3. not m6a and AD loci, 4. not m6a and not AD loci"
   ]
  },
  {
   "cell_type": "markdown",
   "id": "86bd7d20-e8ef-47ff-9e2a-dc8d61776a48",
   "metadata": {
    "kernel": "R"
   },
   "source": [
    "m6a_gene_bed_ad is the peak regions has AD variants in them "
   ]
  },
  {
   "cell_type": "code",
   "execution_count": 55,
   "id": "09a03b50-cff5-48f3-b0d7-db775eed2629",
   "metadata": {
    "kernel": "R",
    "scrolled": true
   },
   "outputs": [
    {
     "data": {
      "text/html": [
       "<table class=\"dataframe\">\n",
       "<caption>A data.frame: 5 × 16</caption>\n",
       "<thead>\n",
       "\t<tr><th scope=col>chrom</th><th scope=col>start</th><th scope=col>end</th><th scope=col>hg38_ID</th><th scope=col>context</th><th scope=col>gene_id</th><th scope=col>gene_name</th><th scope=col>chr</th><th scope=col>start_variant</th><th scope=col>end_variant</th><th scope=col>variant_id</th><th scope=col>z</th><th scope=col>pip</th><th scope=col>cs_coverage_0.95_min_corr</th><th scope=col>block</th><th scope=col>study</th></tr>\n",
       "\t<tr><th scope=col>&lt;chr&gt;</th><th scope=col>&lt;int&gt;</th><th scope=col>&lt;int&gt;</th><th scope=col>&lt;chr&gt;</th><th scope=col>&lt;chr&gt;</th><th scope=col>&lt;chr&gt;</th><th scope=col>&lt;chr&gt;</th><th scope=col>&lt;chr&gt;</th><th scope=col>&lt;int&gt;</th><th scope=col>&lt;int&gt;</th><th scope=col>&lt;chr&gt;</th><th scope=col>&lt;dbl&gt;</th><th scope=col>&lt;dbl&gt;</th><th scope=col>&lt;int&gt;</th><th scope=col>&lt;chr&gt;</th><th scope=col>&lt;chr&gt;</th></tr>\n",
       "</thead>\n",
       "<tbody>\n",
       "\t<tr><td>chr12</td><td>113296387</td><td>113296637</td><td>chr12:113296387:113296637</td><td>cerebellum</td><td>ENSG00000186815</td><td>TPCN1 </td><td>chr12</td><td>113296542</td><td>113296542</td><td>12:113296542:G:A</td><td> 4.593750</td><td>0.006622541</td><td>1</td><td>chr12_112825713_115165608</td><td>AD_Bellenguez_2022</td></tr>\n",
       "\t<tr><td>chr12</td><td>113299621</td><td>113299844</td><td>chr12:113299621:113299844</td><td>cerebellum</td><td>ENSG00000089060</td><td>SLC8B1</td><td>chr12</td><td>113299825</td><td>113299825</td><td>12:113299825:G:A</td><td> 4.600000</td><td>0.006806138</td><td>1</td><td>chr12_112825713_115165608</td><td>AD_Bellenguez_2022</td></tr>\n",
       "\t<tr><td>chr2 </td><td>202983487</td><td>202983724</td><td>chr2:202983487:202983724 </td><td>cerebrum  </td><td>ENSG00000138442</td><td>WDR12 </td><td>chr2 </td><td>202983679</td><td>202983679</td><td>2:202983679:G:A </td><td>-5.008333</td><td>0.004282489</td><td>1</td><td>chr2_201677542_203951659 </td><td>AD_Bellenguez_2022</td></tr>\n",
       "\t<tr><td>chr2 </td><td>202983487</td><td>202983724</td><td>chr2:202983487:202983724 </td><td>cerebrum  </td><td>ENSG00000138380</td><td>CARF  </td><td>chr2 </td><td>202983679</td><td>202983679</td><td>2:202983679:G:A </td><td>-5.008333</td><td>0.004282489</td><td>1</td><td>chr2_201677542_203951659 </td><td>AD_Bellenguez_2022</td></tr>\n",
       "\t<tr><td>chr19</td><td>  1854194</td><td>  1854398</td><td>chr19:1854194:1854398    </td><td>cerebrum  </td><td>ENSG00000129911</td><td>KLF16 </td><td>chr19</td><td>  1854254</td><td>  1854254</td><td>19:1854254:G:GC </td><td>-5.815217</td><td>0.165940073</td><td>1</td><td>chr19_1507536_3368979    </td><td>AD_Bellenguez_2022</td></tr>\n",
       "</tbody>\n",
       "</table>\n"
      ],
      "text/latex": [
       "A data.frame: 5 × 16\n",
       "\\begin{tabular}{llllllllllllllll}\n",
       " chrom & start & end & hg38\\_ID & context & gene\\_id & gene\\_name & chr & start\\_variant & end\\_variant & variant\\_id & z & pip & cs\\_coverage\\_0.95\\_min\\_corr & block & study\\\\\n",
       " <chr> & <int> & <int> & <chr> & <chr> & <chr> & <chr> & <chr> & <int> & <int> & <chr> & <dbl> & <dbl> & <int> & <chr> & <chr>\\\\\n",
       "\\hline\n",
       "\t chr12 & 113296387 & 113296637 & chr12:113296387:113296637 & cerebellum & ENSG00000186815 & TPCN1  & chr12 & 113296542 & 113296542 & 12:113296542:G:A &  4.593750 & 0.006622541 & 1 & chr12\\_112825713\\_115165608 & AD\\_Bellenguez\\_2022\\\\\n",
       "\t chr12 & 113299621 & 113299844 & chr12:113299621:113299844 & cerebellum & ENSG00000089060 & SLC8B1 & chr12 & 113299825 & 113299825 & 12:113299825:G:A &  4.600000 & 0.006806138 & 1 & chr12\\_112825713\\_115165608 & AD\\_Bellenguez\\_2022\\\\\n",
       "\t chr2  & 202983487 & 202983724 & chr2:202983487:202983724  & cerebrum   & ENSG00000138442 & WDR12  & chr2  & 202983679 & 202983679 & 2:202983679:G:A  & -5.008333 & 0.004282489 & 1 & chr2\\_201677542\\_203951659  & AD\\_Bellenguez\\_2022\\\\\n",
       "\t chr2  & 202983487 & 202983724 & chr2:202983487:202983724  & cerebrum   & ENSG00000138380 & CARF   & chr2  & 202983679 & 202983679 & 2:202983679:G:A  & -5.008333 & 0.004282489 & 1 & chr2\\_201677542\\_203951659  & AD\\_Bellenguez\\_2022\\\\\n",
       "\t chr19 &   1854194 &   1854398 & chr19:1854194:1854398     & cerebrum   & ENSG00000129911 & KLF16  & chr19 &   1854254 &   1854254 & 19:1854254:G:GC  & -5.815217 & 0.165940073 & 1 & chr19\\_1507536\\_3368979     & AD\\_Bellenguez\\_2022\\\\\n",
       "\\end{tabular}\n"
      ],
      "text/markdown": [
       "\n",
       "A data.frame: 5 × 16\n",
       "\n",
       "| chrom &lt;chr&gt; | start &lt;int&gt; | end &lt;int&gt; | hg38_ID &lt;chr&gt; | context &lt;chr&gt; | gene_id &lt;chr&gt; | gene_name &lt;chr&gt; | chr &lt;chr&gt; | start_variant &lt;int&gt; | end_variant &lt;int&gt; | variant_id &lt;chr&gt; | z &lt;dbl&gt; | pip &lt;dbl&gt; | cs_coverage_0.95_min_corr &lt;int&gt; | block &lt;chr&gt; | study &lt;chr&gt; |\n",
       "|---|---|---|---|---|---|---|---|---|---|---|---|---|---|---|---|\n",
       "| chr12 | 113296387 | 113296637 | chr12:113296387:113296637 | cerebellum | ENSG00000186815 | TPCN1  | chr12 | 113296542 | 113296542 | 12:113296542:G:A |  4.593750 | 0.006622541 | 1 | chr12_112825713_115165608 | AD_Bellenguez_2022 |\n",
       "| chr12 | 113299621 | 113299844 | chr12:113299621:113299844 | cerebellum | ENSG00000089060 | SLC8B1 | chr12 | 113299825 | 113299825 | 12:113299825:G:A |  4.600000 | 0.006806138 | 1 | chr12_112825713_115165608 | AD_Bellenguez_2022 |\n",
       "| chr2  | 202983487 | 202983724 | chr2:202983487:202983724  | cerebrum   | ENSG00000138442 | WDR12  | chr2  | 202983679 | 202983679 | 2:202983679:G:A  | -5.008333 | 0.004282489 | 1 | chr2_201677542_203951659  | AD_Bellenguez_2022 |\n",
       "| chr2  | 202983487 | 202983724 | chr2:202983487:202983724  | cerebrum   | ENSG00000138380 | CARF   | chr2  | 202983679 | 202983679 | 2:202983679:G:A  | -5.008333 | 0.004282489 | 1 | chr2_201677542_203951659  | AD_Bellenguez_2022 |\n",
       "| chr19 |   1854194 |   1854398 | chr19:1854194:1854398     | cerebrum   | ENSG00000129911 | KLF16  | chr19 |   1854254 |   1854254 | 19:1854254:G:GC  | -5.815217 | 0.165940073 | 1 | chr19_1507536_3368979     | AD_Bellenguez_2022 |\n",
       "\n"
      ],
      "text/plain": [
       "  chrom start     end       hg38_ID                   context   \n",
       "1 chr12 113296387 113296637 chr12:113296387:113296637 cerebellum\n",
       "2 chr12 113299621 113299844 chr12:113299621:113299844 cerebellum\n",
       "3 chr2  202983487 202983724 chr2:202983487:202983724  cerebrum  \n",
       "4 chr2  202983487 202983724 chr2:202983487:202983724  cerebrum  \n",
       "5 chr19   1854194   1854398 chr19:1854194:1854398     cerebrum  \n",
       "  gene_id         gene_name chr   start_variant end_variant variant_id      \n",
       "1 ENSG00000186815 TPCN1     chr12 113296542     113296542   12:113296542:G:A\n",
       "2 ENSG00000089060 SLC8B1    chr12 113299825     113299825   12:113299825:G:A\n",
       "3 ENSG00000138442 WDR12     chr2  202983679     202983679   2:202983679:G:A \n",
       "4 ENSG00000138380 CARF      chr2  202983679     202983679   2:202983679:G:A \n",
       "5 ENSG00000129911 KLF16     chr19   1854254       1854254   19:1854254:G:GC \n",
       "  z         pip         cs_coverage_0.95_min_corr block                    \n",
       "1  4.593750 0.006622541 1                         chr12_112825713_115165608\n",
       "2  4.600000 0.006806138 1                         chr12_112825713_115165608\n",
       "3 -5.008333 0.004282489 1                         chr2_201677542_203951659 \n",
       "4 -5.008333 0.004282489 1                         chr2_201677542_203951659 \n",
       "5 -5.815217 0.165940073 1                         chr19_1507536_3368979    \n",
       "  study             \n",
       "1 AD_Bellenguez_2022\n",
       "2 AD_Bellenguez_2022\n",
       "3 AD_Bellenguez_2022\n",
       "4 AD_Bellenguez_2022\n",
       "5 AD_Bellenguez_2022"
      ]
     },
     "metadata": {},
     "output_type": "display_data"
    }
   ],
   "source": [
    "m6a_gene_bed_ad"
   ]
  },
  {
   "cell_type": "markdown",
   "id": "0a4bdc38-1c4d-4b7f-9528-71769e9209b1",
   "metadata": {
    "kernel": "R"
   },
   "source": [
    "### load GWAS sumstats to get all GWAS variants "
   ]
  },
  {
   "cell_type": "code",
   "execution_count": 56,
   "id": "0f275711-04f3-43cf-8047-05c0d4144a87",
   "metadata": {
    "kernel": "R"
   },
   "outputs": [],
   "source": [
    "all_gwas <- fread('/mnt/vast/hpc/csg/hs3393/RSS_QC/GWAS_finemapping_Apr9/RSS_QC_RAISS_imputed_concatenate_result/AD_Bellenguez_2022_RSS_QC_RAISS_imputed.tsv.gz')"
   ]
  },
  {
   "cell_type": "code",
   "execution_count": 57,
   "id": "85106c13-603a-4020-8193-6b96dcc0ed05",
   "metadata": {
    "kernel": "R"
   },
   "outputs": [],
   "source": [
    "# extract the GWAS table without AD loci\n",
    "non_ad_df <- all_gwas %>% filter(!(variant_id %in% gwas[gwas$study =='AD_Bellenguez_2022',]$variant_id))%>% \n",
    "            mutate(chr = str_split(variant_id, \":\", simplify = T) %>% .[,1] %>% paste0(\"chr\",.),\n",
    "                pos = str_split(variant_id, \":\", simplify = T) %>% .[,2] %>% as.numeric) "
   ]
  },
  {
   "cell_type": "markdown",
   "id": "27b49772-c9b9-4af2-8276-9181e969b518",
   "metadata": {
    "kernel": "R"
   },
   "source": [
    "### map the m6a region to non-AD GWAS table"
   ]
  },
  {
   "cell_type": "code",
   "execution_count": 58,
   "id": "a31deef0-1b69-4714-af68-abfa74a5595f",
   "metadata": {
    "kernel": "R"
   },
   "outputs": [],
   "source": [
    "m6a_gene_anno_bed <- m6a_gene_anno[, c(\"V1\", \"start\", \"end\", \"hg38_ID\", \"context\", \"gene_id\", \"gene_name\")]\n",
    "non_adgwas_bed <- non_ad_df[, .(chr, start_variant = as.integer(pos), end_variant = as.integer(pos), variant_id)]\n",
    "\n",
    "m6a_non_gene_bed_ad <- bt.intersect(a = m6a_gene_anno_bed, b = non_adgwas_bed, wa = T, wb = T) "
   ]
  },
  {
   "cell_type": "code",
   "execution_count": 59,
   "id": "ddff43da-8dbc-409a-a214-65bd4dd21818",
   "metadata": {
    "kernel": "R"
   },
   "outputs": [
    {
     "data": {
      "text/html": [
       "<table class=\"dataframe\">\n",
       "<caption>A data.frame: 6 × 11</caption>\n",
       "<thead>\n",
       "\t<tr><th></th><th scope=col>chrom</th><th scope=col>start</th><th scope=col>end</th><th scope=col>hg38_ID</th><th scope=col>context</th><th scope=col>gene_id</th><th scope=col>gene_name</th><th scope=col>chr</th><th scope=col>start_variant</th><th scope=col>end_variant</th><th scope=col>variant_id</th></tr>\n",
       "\t<tr><th></th><th scope=col>&lt;chr&gt;</th><th scope=col>&lt;int&gt;</th><th scope=col>&lt;int&gt;</th><th scope=col>&lt;chr&gt;</th><th scope=col>&lt;chr&gt;</th><th scope=col>&lt;chr&gt;</th><th scope=col>&lt;chr&gt;</th><th scope=col>&lt;chr&gt;</th><th scope=col>&lt;int&gt;</th><th scope=col>&lt;int&gt;</th><th scope=col>&lt;chr&gt;</th></tr>\n",
       "</thead>\n",
       "<tbody>\n",
       "\t<tr><th scope=row>1</th><td>chr1</td><td> 923934</td><td> 924208</td><td>chr1:923934:924208  </td><td>cerebellum</td><td>ENSG00000187634</td><td>SAMD11</td><td>chr1</td><td> 924024</td><td> 924024</td><td>1:924024:C:G </td></tr>\n",
       "\t<tr><th scope=row>2</th><td>chr1</td><td> 923934</td><td> 924208</td><td>chr1:923934:924208  </td><td>cerebellum</td><td>ENSG00000187634</td><td>SAMD11</td><td>chr1</td><td> 924090</td><td> 924090</td><td>1:924090:G:A </td></tr>\n",
       "\t<tr><th scope=row>3</th><td>chr1</td><td> 924961</td><td> 925108</td><td>chr1:924961:925108  </td><td>cerebellum</td><td>ENSG00000187634</td><td>SAMD11</td><td>chr1</td><td> 924983</td><td> 924983</td><td>1:924983:C:T </td></tr>\n",
       "\t<tr><th scope=row>4</th><td>chr1</td><td> 924961</td><td> 925108</td><td>chr1:924961:925108  </td><td>cerebellum</td><td>ENSG00000187634</td><td>SAMD11</td><td>chr1</td><td> 925036</td><td> 925036</td><td>1:925036:G:A </td></tr>\n",
       "\t<tr><th scope=row>5</th><td>chr1</td><td> 924961</td><td> 925108</td><td>chr1:924961:925108  </td><td>cerebellum</td><td>ENSG00000187634</td><td>SAMD11</td><td>chr1</td><td> 925081</td><td> 925081</td><td>1:925081:G:A </td></tr>\n",
       "\t<tr><th scope=row>6</th><td>chr1</td><td>1055050</td><td>1055197</td><td>chr1:1055050:1055197</td><td>cerebellum</td><td>ENSG00000188157</td><td>AGRN  </td><td>chr1</td><td>1055137</td><td>1055137</td><td>1:1055137:C:T</td></tr>\n",
       "</tbody>\n",
       "</table>\n"
      ],
      "text/latex": [
       "A data.frame: 6 × 11\n",
       "\\begin{tabular}{r|lllllllllll}\n",
       "  & chrom & start & end & hg38\\_ID & context & gene\\_id & gene\\_name & chr & start\\_variant & end\\_variant & variant\\_id\\\\\n",
       "  & <chr> & <int> & <int> & <chr> & <chr> & <chr> & <chr> & <chr> & <int> & <int> & <chr>\\\\\n",
       "\\hline\n",
       "\t1 & chr1 &  923934 &  924208 & chr1:923934:924208   & cerebellum & ENSG00000187634 & SAMD11 & chr1 &  924024 &  924024 & 1:924024:C:G \\\\\n",
       "\t2 & chr1 &  923934 &  924208 & chr1:923934:924208   & cerebellum & ENSG00000187634 & SAMD11 & chr1 &  924090 &  924090 & 1:924090:G:A \\\\\n",
       "\t3 & chr1 &  924961 &  925108 & chr1:924961:925108   & cerebellum & ENSG00000187634 & SAMD11 & chr1 &  924983 &  924983 & 1:924983:C:T \\\\\n",
       "\t4 & chr1 &  924961 &  925108 & chr1:924961:925108   & cerebellum & ENSG00000187634 & SAMD11 & chr1 &  925036 &  925036 & 1:925036:G:A \\\\\n",
       "\t5 & chr1 &  924961 &  925108 & chr1:924961:925108   & cerebellum & ENSG00000187634 & SAMD11 & chr1 &  925081 &  925081 & 1:925081:G:A \\\\\n",
       "\t6 & chr1 & 1055050 & 1055197 & chr1:1055050:1055197 & cerebellum & ENSG00000188157 & AGRN   & chr1 & 1055137 & 1055137 & 1:1055137:C:T\\\\\n",
       "\\end{tabular}\n"
      ],
      "text/markdown": [
       "\n",
       "A data.frame: 6 × 11\n",
       "\n",
       "| <!--/--> | chrom &lt;chr&gt; | start &lt;int&gt; | end &lt;int&gt; | hg38_ID &lt;chr&gt; | context &lt;chr&gt; | gene_id &lt;chr&gt; | gene_name &lt;chr&gt; | chr &lt;chr&gt; | start_variant &lt;int&gt; | end_variant &lt;int&gt; | variant_id &lt;chr&gt; |\n",
       "|---|---|---|---|---|---|---|---|---|---|---|---|\n",
       "| 1 | chr1 |  923934 |  924208 | chr1:923934:924208   | cerebellum | ENSG00000187634 | SAMD11 | chr1 |  924024 |  924024 | 1:924024:C:G  |\n",
       "| 2 | chr1 |  923934 |  924208 | chr1:923934:924208   | cerebellum | ENSG00000187634 | SAMD11 | chr1 |  924090 |  924090 | 1:924090:G:A  |\n",
       "| 3 | chr1 |  924961 |  925108 | chr1:924961:925108   | cerebellum | ENSG00000187634 | SAMD11 | chr1 |  924983 |  924983 | 1:924983:C:T  |\n",
       "| 4 | chr1 |  924961 |  925108 | chr1:924961:925108   | cerebellum | ENSG00000187634 | SAMD11 | chr1 |  925036 |  925036 | 1:925036:G:A  |\n",
       "| 5 | chr1 |  924961 |  925108 | chr1:924961:925108   | cerebellum | ENSG00000187634 | SAMD11 | chr1 |  925081 |  925081 | 1:925081:G:A  |\n",
       "| 6 | chr1 | 1055050 | 1055197 | chr1:1055050:1055197 | cerebellum | ENSG00000188157 | AGRN   | chr1 | 1055137 | 1055137 | 1:1055137:C:T |\n",
       "\n"
      ],
      "text/plain": [
       "  chrom start   end     hg38_ID              context    gene_id        \n",
       "1 chr1   923934  924208 chr1:923934:924208   cerebellum ENSG00000187634\n",
       "2 chr1   923934  924208 chr1:923934:924208   cerebellum ENSG00000187634\n",
       "3 chr1   924961  925108 chr1:924961:925108   cerebellum ENSG00000187634\n",
       "4 chr1   924961  925108 chr1:924961:925108   cerebellum ENSG00000187634\n",
       "5 chr1   924961  925108 chr1:924961:925108   cerebellum ENSG00000187634\n",
       "6 chr1  1055050 1055197 chr1:1055050:1055197 cerebellum ENSG00000188157\n",
       "  gene_name chr  start_variant end_variant variant_id   \n",
       "1 SAMD11    chr1  924024        924024     1:924024:C:G \n",
       "2 SAMD11    chr1  924090        924090     1:924090:G:A \n",
       "3 SAMD11    chr1  924983        924983     1:924983:C:T \n",
       "4 SAMD11    chr1  925036        925036     1:925036:G:A \n",
       "5 SAMD11    chr1  925081        925081     1:925081:G:A \n",
       "6 AGRN      chr1 1055137       1055137     1:1055137:C:T"
      ]
     },
     "metadata": {},
     "output_type": "display_data"
    }
   ],
   "source": [
    "colnames(m6a_non_gene_bed_ad) <- c(\"chrom\", \"start\", \"end\", \"hg38_ID\", \"context\", \"gene_id\", \"gene_name\", colnames(non_adgwas_bed))\n",
    "m6a_non_gene_bed_ad %>% head"
   ]
  },
  {
   "cell_type": "markdown",
   "id": "924d0846-eeb0-45af-9de5-8085e010da18",
   "metadata": {
    "kernel": "R"
   },
   "source": [
    "### Enrichment analysis with fisher test\n",
    "To generate 2x2 table:    \n",
    "- ad_m6a: The number of variants within both AD loci and are m6A sites.\n",
    "- ad_non_m6a: The number of variants within AD loci but not m6A sites.\n",
    "- m6a_non_ad: The number of variants outside of AD loci but are m6A sites.\n",
    "- non_m6a_non_ad: The number variants outside of AD loci also not m6A sites.\n",
    "    \n",
    "The first two categories can be calculated by finding the intersection between the m6A regions and the AD GWAS loci. The latter two categories can be calculated by finding the intersection between the m6A regions and the non-AD GWAS loci."
   ]
  },
  {
   "cell_type": "markdown",
   "id": "6c954d6b-65c1-48d3-9956-62976c87e05c",
   "metadata": {
    "kernel": "R"
   },
   "source": [
    "`intersected_data` from above analysis is the intersected table for m6A peak regions and AD GWAS loci table\n",
    "\n",
    "`intersected_data_non_ad` here is the intersected table for m6A peak regions and non-AD GWAS loci table\n"
   ]
  },
  {
   "cell_type": "markdown",
   "id": "c168d802-cd30-48a2-8ee6-e7021591836d",
   "metadata": {
    "kernel": "R"
   },
   "source": [
    "The FET section: the table is focused on Bellenguez et al 2022 and is on variant level. Although I eyeballed 11 CS (we can get an accurate number) and I  know that Bellenguez has maybe 70 CS fine-mapped. So 11 out of 70 CS contain some m6A peaks. The test is still on variants though because I dont know how to make the test on CS .."
   ]
  },
  {
   "cell_type": "code",
   "execution_count": 64,
   "id": "b9d8eaa3-e571-4b03-a3ed-f831fe21e17f",
   "metadata": {
    "kernel": "R"
   },
   "outputs": [],
   "source": [
    "perform_fisher_test <- function(adgwas, all_gwas, m6a_ad, m6a_not_ad, test_context = NULL, greater = FALSE) {\n",
    "  # Define the total number of AD variants\n",
    "  ad <- length(adgwas[adgwas$study == 'AD_Bellenguez_2022',]$variant_id %>% unique())\n",
    "  \n",
    "  # Number of AD loci in m6A regions\n",
    "  ad_m6a_df <- m6a_ad \n",
    "  if(!is.null(test_context)) ad_m6a_df <- ad_m6a_df %>% filter(context == test_context)\n",
    "  ad_m6a <- length(ad_m6a_df$variant_id %>% unique())\n",
    "  \n",
    "  # Number of AD loci outside m6A regions\n",
    "  ad_non_m6a <- ad - ad_m6a\n",
    "  \n",
    "  # Total number of non-AD variants from GWAS concatenate sumstats\n",
    "  non_ad <- length(all_gwas$variant_id %>% unique()) - ad\n",
    "  \n",
    "  # Number of non-AD loci in m6A regions\n",
    "  m6a_non_ad_df <- m6a_not_ad \n",
    "  if(!is.null(test_context)) m6a_non_ad_df <- m6a_non_ad_df %>% filter(context == test_context)\n",
    "  m6a_non_ad <- length(m6a_non_ad_df$variant_id %>% unique())\n",
    "  \n",
    "  # Number of non-AD loci outside m6A regions\n",
    "  non_m6a_non_ad <- non_ad - m6a_non_ad\n",
    "  \n",
    "  # Create the contingency table\n",
    "  contingency_table <- matrix(c(ad_m6a, ad_non_m6a, m6a_non_ad, non_m6a_non_ad),\n",
    "                              nrow = 2,\n",
    "                              byrow = TRUE,\n",
    "                              dimnames = list(\"AD\" = c(\"AD\", \"not_AD\"),\n",
    "                                              \"m6A\" = c(\"m6A\", \"not_m6A\")))\n",
    "  \n",
    "\n",
    "  # Perform Fisher's Exact Test\n",
    "  if(greater) fisher_test_result <- fisher.test(contingency_table, alternative = \"greater\") else fisher_test_result <- fisher.test(contingency_table)\n",
    "\n",
    "  return(list(data = contingency_table, res = fisher_test_result))\n",
    "}\n"
   ]
  },
  {
   "cell_type": "code",
   "execution_count": 61,
   "id": "094f14a8-d882-4900-a29a-c24c0ab9f05c",
   "metadata": {
    "kernel": "R"
   },
   "outputs": [
    {
     "data": {
      "text/plain": [
       ".\n",
       "cerebellum   cerebrum \n",
       "         2          2 "
      ]
     },
     "metadata": {},
     "output_type": "display_data"
    }
   ],
   "source": [
    "# The number of variants within both AD loci and are m6A sites in different contexts\n",
    "m6a_gene_bed_ad %>% distinct(context, variant_id, .keep_all = TRUE) %>% pull(context) %>% table"
   ]
  },
  {
   "cell_type": "code",
   "execution_count": 62,
   "id": "5e8e8dd4-67f6-4742-b7ef-88e514347657",
   "metadata": {
    "kernel": "R",
    "scrolled": true
   },
   "outputs": [
    {
     "data": {
      "text/plain": [
       ".\n",
       "  cerebellum     cerebrum Hypothalamus \n",
       "       12236        16848         5824 "
      ]
     },
     "metadata": {},
     "output_type": "display_data"
    }
   ],
   "source": [
    "# The number of variants within both non-AD loci and are m6A sites in different contexts\n",
    "m6a_non_gene_bed_ad %>% distinct(context, variant_id, .keep_all = TRUE) %>% pull(context) %>% table"
   ]
  },
  {
   "cell_type": "markdown",
   "id": "0270fa45-bcfc-4370-85df-837f81c65177",
   "metadata": {
    "kernel": "R"
   },
   "source": [
    "Just show the details for `merged` and `Brian` here"
   ]
  },
  {
   "cell_type": "code",
   "execution_count": 65,
   "id": "1deddbbb-b033-4c9b-8c0c-5c70ab0681d5",
   "metadata": {
    "kernel": "R"
   },
   "outputs": [
    {
     "data": {
      "text/plain": [
       "$data\n",
       "        m6A\n",
       "AD         m6A  not_m6A\n",
       "  AD         4     1279\n",
       "  not_AD 30395 12176240\n",
       "\n",
       "$res\n",
       "\n",
       "\tFisher's Exact Test for Count Data\n",
       "\n",
       "data:  contingency_table\n",
       "p-value = 0.5679\n",
       "alternative hypothesis: true odds ratio is not equal to 1\n",
       "95 percent confidence interval:\n",
       " 0.3408197 3.2160375\n",
       "sample estimates:\n",
       "odds ratio \n",
       "  1.252851 \n",
       "\n"
      ]
     },
     "metadata": {},
     "output_type": "display_data"
    }
   ],
   "source": [
    "# Two-sided test\n",
    "perform_fisher_test(adgwas = gwas, all_gwas = all_gwas, m6a_ad = m6a_gene_bed_ad, m6a_not_ad = m6a_non_gene_bed_ad) "
   ]
  },
  {
   "cell_type": "markdown",
   "id": "dbef856f-57ca-47b9-beaa-5c75c47d7bf6",
   "metadata": {
    "kernel": "R"
   },
   "source": [
    "for other contexts, just show the pvalue for them ( two-sided)"
   ]
  },
  {
   "cell_type": "code",
   "execution_count": null,
   "id": "d3352e77-c6a4-40d2-b50f-6518231c82d4",
   "metadata": {
    "kernel": "R"
   },
   "outputs": [],
   "source": [
    "# contexts <- m6a_gene_anno_bed %>% pull(context) %>% unique\n",
    "# for(test_context in contexts){\n",
    "#     message(test_context,\":\",perform_fisher_test(adgwas = gwas, all_gwas = all_gwas, m6a_ad = m6a_gene_bed_ad, m6a_not_ad = m6a_non_gene_bed_ad, test_context = test_context)$res$p.value)\n",
    "# }"
   ]
  },
  {
   "cell_type": "markdown",
   "id": "67bcef0b-e29e-4f17-8552-1eb0d98bbabd",
   "metadata": {
    "kernel": "R"
   },
   "source": [
    "In most contexts, there is an enrichment of AD loci in m6A regions, which may be inflated due to the non-independence of variants in LD?"
   ]
  },
  {
   "cell_type": "markdown",
   "id": "97eb67dd-4eb6-498f-ba09-ff75d48d02f4",
   "metadata": {
    "kernel": "R"
   },
   "source": [
    "## compare brain m6A peaks vs. m6A peaks in all other tissues\n",
    "set A = brain specific, set B = both brain and other tissues, set C = other tissues but not brains. \n",
    "\n",
    "\n",
    "The test would be  1) number of \"brain m6A\" overlapping with Bellenguez 2022 AD CS  (AD CS hereafter) 2) number of \"brain m6A\" non-overlapping with AD CS, 3) number of \"non-brain m6A\" overlapping with AD CS , 4) number of \"non-brain m6A\" non-overlapping with AD CS."
   ]
  },
  {
   "cell_type": "markdown",
   "id": "cfe43c39-949c-406d-ac5f-95adb9c2ac4d",
   "metadata": {
    "kernel": "R"
   },
   "source": [
    "when we talk about the overlap between peak regions here, if we only focus on the exactly region: same start and end. Then brain and other tissue do not have overlap. "
   ]
  },
  {
   "cell_type": "code",
   "execution_count": 270,
   "id": "8cf2824a-1185-468e-bee0-14dae1d9f382",
   "metadata": {
    "kernel": "R",
    "scrolled": true
   },
   "outputs": [
    {
     "data": {
      "image/png": "[encoded data removed]",
      "text/plain": [
       "plot without title"
      ]
     },
     "metadata": {
      "image/png": {
       "height": 480,
       "width": 840
      }
     },
     "output_type": "display_data"
    }
   ],
   "source": [
    "library(VennDiagram)\n",
    "library(dplyr)\n",
    "\n",
    "brain <- m6a_gene_bed_ad %>%\n",
    "  filter(context == 'GSE114150_Brain') %>%\n",
    "  pull(hg38_ID)\n",
    "\n",
    "other <- m6a_gene_bed_ad %>%\n",
    "  filter(context != 'GSE114150_Brain', context != 'GSE114150_merged') %>%\n",
    "  pull(hg38_ID)\n",
    "\n",
    "merged <- m6a_gene_bed_ad %>%\n",
    "  filter(context == 'GSE114150_merged') %>%\n",
    "  pull(hg38_ID)\n",
    "\n",
    "venn_data <- list(\n",
    "  \"Brain\" = brain,\n",
    "  \"Other Tissues\" = other,\n",
    "  \"Merged\" = merged\n",
    ")\n",
    "\n",
    "venn.plot <- venn.diagram(\n",
    "  x = venn_data,\n",
    "  filename = NULL,  \n",
    "  fill = c(\"#66c2a5\", \"#fc8d62\", \"#8da0cb\"),  # \n",
    "  alpha = 0.6,  # \n",
    "  cex = 2,  # \n",
    "  fontface = \"bold\",  # \n",
    "  fontfamily = \"sans\",  # \n",
    "  cat.col = c(\"#66c2a5\", \"#fc8d62\", \"#8da0cb\"),  # \n",
    "  cat.cex = 1.8,  # \n",
    "  cat.fontface = \"bold\",  # \n",
    "  cat.pos = c(-20, 20, 20),  # \n",
    "  cat.dist = c(0.05, 0.05, 0.05),  # \n",
    "  margin = 0.05,  # \n",
    "  lwd = 2,  # \n",
    "  lty = \"solid\",  # \n",
    "  col = \"black\"  # \n",
    ")\n",
    "\n",
    "grid.draw(venn.plot)"
   ]
  },
  {
   "cell_type": "markdown",
   "id": "88e5ffa2-a84d-4a09-ae1f-b5b9caa3e0e2",
   "metadata": {
    "kernel": "R"
   },
   "source": [
    "If we accept overlapping regions, meaning that regions with different start and end coordinates (e.g., chr1:1-100 and chr1:20-120) can be considered the same, then almost all brain peaks are covered by peaks from other tissues. However, the numbers shown in the plot do not reflect the actual number of peaks, as they are influenced by the cutoffs applied to define peak regions. Moreover, I am unsure how to easily compare the regions based on this overlapping definition."
   ]
  },
  {
   "cell_type": "code",
   "execution_count": 286,
   "id": "43327838-39c3-4ecc-9cd0-9eeaf8275d25",
   "metadata": {
    "kernel": "R"
   },
   "outputs": [
    {
     "data": {
      "image/png": "[encoded data removed]",
      "text/plain": [
       "plot without title"
      ]
     },
     "metadata": {
      "image/png": {
       "height": 480,
       "width": 840
      }
     },
     "output_type": "display_data"
    }
   ],
   "source": [
    "\n",
    "# Helper function to convert region string into GRanges object\n",
    "convert_to_granges <- function(region_list) {\n",
    "  parsed_regions <- do.call(rbind, strsplit(region_list, \":\"))\n",
    "  gr <- GRanges(seqnames = parsed_regions[,1],\n",
    "                ranges = IRanges(start = as.numeric(parsed_regions[,2]),\n",
    "                                 end = as.numeric(parsed_regions[,3])))\n",
    "  return(gr)\n",
    "}\n",
    "\n",
    "# Convert both region sets to GRanges\n",
    "gr_brain <- convert_to_granges(brain)\n",
    "gr_other <- convert_to_granges(other)\n",
    "\n",
    "# Find overlaps between the two sets\n",
    "overlaps <- findOverlaps(gr_brain, gr_other)\n",
    "\n",
    "# Prepare counts for Venn diagram\n",
    "unique_brain <- length(setdiff(seq_along(gr_brain), queryHits(overlaps)))\n",
    "unique_other <- length(setdiff(seq_along(gr_other), subjectHits(overlaps)))\n",
    "overlap_count <- length(queryHits(overlaps))\n",
    "\n",
    "# Generate Venn diagram\n",
    "venn.plot <- draw.pairwise.venn(area1 = unique_set1 + overlap_count,\n",
    "                                area2 = unique_set2 + overlap_count,\n",
    "                                cross.area = overlap_count,\n",
    "                                category = c(\"Brain\", \"Other\"),\n",
    "                                fill = c(\"#66c2a5\", \"#fc8d62\"),\n",
    "                                alpha = 0.5,\n",
    "                                cex = 2,\n",
    "                                cat.cex = 2,\n",
    "                                cat.pos = c(-20, 20))\n",
    "\n",
    "# Display the Venn diagram\n",
    "grid.draw(venn.plot)"
   ]
  },
  {
   "cell_type": "markdown",
   "id": "7853a3ba-3cf2-4a3f-94a1-975df9c34538",
   "metadata": {
    "kernel": "R"
   },
   "source": [
    "So I am here still using the former difinition to check sets, so there is actually no overlapped region between Brain and Other tissues, which means we don't have `B` set, the compare is simply between A and C"
   ]
  },
  {
   "cell_type": "markdown",
   "id": "e3941228-a359-466b-9c9a-f73c301d8572",
   "metadata": {
    "kernel": "R"
   },
   "source": [
    "### use all AD signals in Bellenguez data here"
   ]
  },
  {
   "cell_type": "markdown",
   "id": "83a89624-1125-414c-ad21-6af523373929",
   "metadata": {
    "kernel": "R"
   },
   "source": [
    "#### compare brain and combined other tissues"
   ]
  },
  {
   "cell_type": "code",
   "execution_count": 164,
   "id": "1ffe9fe7-2fe2-4676-8173-2ca875888630",
   "metadata": {
    "kernel": "R"
   },
   "outputs": [
    {
     "data": {
      "text/html": [
       "15"
      ],
      "text/latex": [
       "15"
      ],
      "text/markdown": [
       "15"
      ],
      "text/plain": [
       "[1] 15"
      ]
     },
     "metadata": {},
     "output_type": "display_data"
    },
    {
     "data": {
      "text/html": [
       "46057"
      ],
      "text/latex": [
       "46057"
      ],
      "text/markdown": [
       "46057"
      ],
      "text/plain": [
       "[1] 46057"
      ]
     },
     "metadata": {},
     "output_type": "display_data"
    }
   ],
   "source": [
    "brain <- m6a_gene_anno_bed %>%\n",
    "  filter(context == 'GSE114150_Brain')  \n",
    "brain_ad <- m6a_gene_bed_ad %>%\n",
    "  filter(context == 'GSE114150_Brain') %>% pull(hg38_ID) %>% unique %>% length\n",
    "brain_nonad <- brain %>% pull(hg38_ID) %>% unique %>% length - brain_ad\n",
    "brain_ad\n",
    "brain_nonad"
   ]
  },
  {
   "cell_type": "code",
   "execution_count": 165,
   "id": "4ecf56e1-96cf-4dac-add8-7ad0f6c293c1",
   "metadata": {
    "kernel": "R"
   },
   "outputs": [
    {
     "data": {
      "text/html": [
       "80"
      ],
      "text/latex": [
       "80"
      ],
      "text/markdown": [
       "80"
      ],
      "text/plain": [
       "[1] 80"
      ]
     },
     "metadata": {},
     "output_type": "display_data"
    },
    {
     "data": {
      "text/html": [
       "266302"
      ],
      "text/latex": [
       "266302"
      ],
      "text/markdown": [
       "266302"
      ],
      "text/plain": [
       "[1] 266302"
      ]
     },
     "metadata": {},
     "output_type": "display_data"
    }
   ],
   "source": [
    "other <- m6a_gene_anno_bed %>%\n",
    "  filter(context != 'GSE114150_Brain', context != 'GSE114150_merged') \n",
    "other_ad <- m6a_gene_bed_ad %>%\n",
    "  filter(context != 'GSE114150_Brain', context != 'GSE114150_merged')  %>% pull(hg38_ID) %>% unique %>% length\n",
    "other_nonad <- other %>% pull(hg38_ID) %>% unique %>% length - other_ad\n",
    "other_ad\n",
    "other_nonad"
   ]
  },
  {
   "cell_type": "code",
   "execution_count": 166,
   "id": "63087560-11df-439c-8df6-eb1233d1e1ad",
   "metadata": {
    "kernel": "R"
   },
   "outputs": [
    {
     "name": "stdout",
     "output_type": "stream",
     "text": [
      "       AD\n",
      "Tissue  AD not_AD\n",
      "  Brian 15  46057\n",
      "  Other 80 266302\n",
      "\n",
      "\tFisher's Exact Test for Count Data\n",
      "\n",
      "data:  contingency_table\n",
      "p-value = 0.7719\n",
      "alternative hypothesis: true odds ratio is not equal to 1\n",
      "95 percent confidence interval:\n",
      " 0.5798321 1.8970019\n",
      "sample estimates:\n",
      "odds ratio \n",
      "   1.08415 \n",
      "\n",
      "\n",
      "\tFisher's Exact Test for Count Data\n",
      "\n",
      "data:  contingency_table\n",
      "p-value = 0.4302\n",
      "alternative hypothesis: true odds ratio is greater than 1\n",
      "95 percent confidence interval:\n",
      " 0.6418247       Inf\n",
      "sample estimates:\n",
      "odds ratio \n",
      "   1.08415 \n",
      "\n"
     ]
    }
   ],
   "source": [
    "# Create the contingency table\n",
    "contingency_table <- matrix(c(brain_ad, brain_nonad, other_ad, other_nonad),\n",
    "                            nrow = 2,\n",
    "                            byrow = TRUE,\n",
    "                            dimnames = list(\"Tissue\" = c(\"Brian\", \"Other\"),\n",
    "                                            \"AD\" = c(\"AD\", \"not_AD\")))\n",
    "\n",
    "# Print the contingency table\n",
    "print(contingency_table)\n",
    "\n",
    "# Perform Fisher's Exact Test\n",
    "# two sides\n",
    "fisher_test_result_two <- fisher.test(contingency_table)\n",
    "# one side\n",
    "fisher_test_result_one <- fisher.test(contingency_table, alternative = \"greater\")\n",
    "\n",
    "# Print the Fisher test result\n",
    "print(fisher_test_result_two)\n",
    "print(fisher_test_result_one)"
   ]
  },
  {
   "cell_type": "markdown",
   "id": "2cb2e9be-5c08-468e-adea-4fc82b677e5a",
   "metadata": {
    "kernel": "R"
   },
   "source": [
    "#### compare brain and each other tissue"
   ]
  },
  {
   "cell_type": "code",
   "execution_count": 44,
   "id": "55158c86-a726-474c-b3f3-271946dd3876",
   "metadata": {
    "kernel": "R"
   },
   "outputs": [],
   "source": [
    "contexts <- m6a_gene_anno_bed %>% pull(context) %>% unique\n",
    "# contexts <- contexts[contexts!= 'GSE114150_Brain' & contexts!= 'GSE114150_merged']\n",
    "contexts <- contexts[contexts!= 'GSE114150_Brain']"
   ]
  },
  {
   "cell_type": "code",
   "execution_count": 47,
   "id": "2f122d3f-d184-441d-b247-b1778db85d01",
   "metadata": {
    "kernel": "R"
   },
   "outputs": [
    {
     "data": {
      "text/html": [
       "<strong>odds ratio:</strong> 1.24669959330886"
      ],
      "text/latex": [
       "\\textbf{odds ratio:} 1.24669959330886"
      ],
      "text/markdown": [
       "**odds ratio:** 1.24669959330886"
      ],
      "text/plain": [
       "odds ratio \n",
       "    1.2467 "
      ]
     },
     "metadata": {},
     "output_type": "display_data"
    }
   ],
   "source": [
    "fisher_test_result_two$estimate"
   ]
  },
  {
   "cell_type": "code",
   "execution_count": 51,
   "id": "912f2005-9b23-4398-b55a-a1751a4fb8d4",
   "metadata": {
    "kernel": "R",
    "scrolled": true
   },
   "outputs": [
    {
     "name": "stderr",
     "output_type": "stream",
     "text": [
      "Brian AD vs GSE114150_Heart AD\n",
      "\n"
     ]
    },
    {
     "name": "stdout",
     "output_type": "stream",
     "text": [
      "                 AD\n",
      "Tissue            AD not_AD\n",
      "  Brian           15  46057\n",
      "  GSE114150_Heart 13  34035\n",
      "[1] \"Two-sided Fisher exact test pvalue: 0.705025698655218 with odds: 0.852668675251988\"\n",
      "[1] \"One-sided Fisher exact test pvalue: 0.731408100708024 with odds: 0.852668675251988\"\n"
     ]
    },
    {
     "name": "stderr",
     "output_type": "stream",
     "text": [
      "Brian AD vs GSE114150_Kidney AD\n",
      "\n"
     ]
    },
    {
     "name": "stdout",
     "output_type": "stream",
     "text": [
      "                  AD\n",
      "Tissue             AD not_AD\n",
      "  Brian            15  46057\n",
      "  GSE114150_Kidney 20  58513\n",
      "[1] \"Two-sided Fisher exact test pvalue: 1 with odds: 0.952827963742047\"\n",
      "[1] \"One-sided Fisher exact test pvalue: 0.619742010822722 with odds: 0.952827963742047\"\n"
     ]
    },
    {
     "name": "stderr",
     "output_type": "stream",
     "text": [
      "Brian AD vs GSE114150_Liver AD\n",
      "\n"
     ]
    },
    {
     "name": "stdout",
     "output_type": "stream",
     "text": [
      "                 AD\n",
      "Tissue            AD not_AD\n",
      "  Brian           15  46057\n",
      "  GSE114150_Liver  8  31989\n",
      "[1] \"Two-sided Fisher exact test pvalue: 0.673072632775722 with odds: 1.30228078370832\"\n",
      "[1] \"One-sided Fisher exact test pvalue: 0.351764452052364 with odds: 1.30228078370832\"\n"
     ]
    },
    {
     "name": "stderr",
     "output_type": "stream",
     "text": [
      "Brian AD vs GSE114150_Lung AD\n",
      "\n"
     ]
    },
    {
     "name": "stdout",
     "output_type": "stream",
     "text": [
      "                AD\n",
      "Tissue           AD not_AD\n",
      "  Brian          15  46057\n",
      "  GSE114150_Lung  6  30120\n",
      "[1] \"Two-sided Fisher exact test pvalue: 0.375719641406137 with odds: 1.6349186391035\"\n",
      "[1] \"One-sided Fisher exact test pvalue: 0.212555930282887 with odds: 1.6349186391035\"\n"
     ]
    },
    {
     "name": "stderr",
     "output_type": "stream",
     "text": [
      "Brian AD vs GSE114150_merged AD\n",
      "\n"
     ]
    },
    {
     "name": "stdout",
     "output_type": "stream",
     "text": [
      "                  AD\n",
      "Tissue             AD not_AD\n",
      "  Brian            15  46057\n",
      "  GSE114150_merged 22  90676\n",
      "[1] \"Two-sided Fisher exact test pvalue: 0.387466180705427 with odds: 1.34229237449146\"\n",
      "[1] \"One-sided Fisher exact test pvalue: 0.236613543233916 with odds: 1.34229237449146\"\n"
     ]
    },
    {
     "name": "stderr",
     "output_type": "stream",
     "text": [
      "Brian AD vs GSE114150_Muscle AD\n",
      "\n"
     ]
    },
    {
     "name": "stdout",
     "output_type": "stream",
     "text": [
      "                  AD\n",
      "Tissue             AD not_AD\n",
      "  Brian            15  46057\n",
      "  GSE114150_Muscle 11  37190\n",
      "[1] \"Two-sided Fisher exact test pvalue: 0.846324301549198 with odds: 1.10113965564508\"\n",
      "[1] \"One-sided Fisher exact test pvalue: 0.484780680348804 with odds: 1.10113965564508\"\n"
     ]
    },
    {
     "name": "stderr",
     "output_type": "stream",
     "text": [
      "Brian AD vs GSE114150_Placenta AD\n",
      "\n"
     ]
    },
    {
     "name": "stdout",
     "output_type": "stream",
     "text": [
      "                    AD\n",
      "Tissue               AD not_AD\n",
      "  Brian              15  46057\n",
      "  GSE114150_Placenta 15  47946\n",
      "[1] \"Two-sided Fisher exact test pvalue: 1 with odds: 1.04102708190973\"\n",
      "[1] \"One-sided Fisher exact test pvalue: 0.528351415845771 with odds: 1.04102708190973\"\n"
     ]
    },
    {
     "name": "stderr",
     "output_type": "stream",
     "text": [
      "Brian AD vs GSE114150_Stomach AD\n",
      "\n"
     ]
    },
    {
     "name": "stdout",
     "output_type": "stream",
     "text": [
      "                   AD\n",
      "Tissue              AD not_AD\n",
      "  Brian             15  46057\n",
      "  GSE114150_Stomach  7  26795\n",
      "[1] \"Two-sided Fisher exact test pvalue: 0.825513423039724 with odds: 1.24669959330886\"\n",
      "[1] \"One-sided Fisher exact test pvalue: 0.404468569987525 with odds: 1.24669959330886\"\n"
     ]
    }
   ],
   "source": [
    "brain <- m6a_gene_anno_bed %>%\n",
    "  filter(context == 'GSE114150_Brain')  \n",
    "brain_ad <- m6a_gene_bed_ad %>%\n",
    "  filter(context == 'GSE114150_Brain') %>% pull(hg38_ID) %>% unique %>% length\n",
    "brain_nonad <- brain %>% pull(hg38_ID) %>% unique %>% length - brain_ad\n",
    "\n",
    "for(context_target in contexts){\n",
    "    other <- m6a_gene_anno_bed %>%\n",
    "      filter(context == context_target) \n",
    "    other_ad <- m6a_gene_bed_ad %>%\n",
    "      filter(context == context_target)  %>% pull(hg38_ID) %>% unique %>% length\n",
    "    other_nonad <- other %>% pull(hg38_ID) %>% unique %>% length - other_ad\n",
    "    \n",
    "    # Create the contingency table\n",
    "    contingency_table <- matrix(c(brain_ad, brain_nonad, other_ad, other_nonad),\n",
    "                                nrow = 2,\n",
    "                                byrow = TRUE,\n",
    "                                dimnames = list(\"Tissue\" = c(\"Brian\", context_target),\n",
    "                                                \"AD\" = c(\"AD\", \"not_AD\")))\n",
    "\n",
    "    message(\"Brian AD vs \", context_target, \" AD\")\n",
    "    \n",
    "    # Print the contingency table\n",
    "    print(contingency_table)\n",
    "        # two sides\n",
    "    fisher_test_result_two <- fisher.test(contingency_table)\n",
    "    # one side\n",
    "    fisher_test_result_one <- fisher.test(contingency_table, alternative = \"greater\")\n",
    "    \n",
    "    # Print the Fisher test result\n",
    "    print(paste('Two-sided Fisher exact test pvalue:',fisher_test_result_two$p.value, 'with odds:', fisher_test_result_two$estimate))\n",
    "    print(paste('One-sided Fisher exact test pvalue:',fisher_test_result_one$p.value, 'with odds:', fisher_test_result_one$estimate))\n",
    "}"
   ]
  },
  {
   "cell_type": "markdown",
   "id": "b0ac72ee-68ce-43ad-a3a7-c88df60ea945",
   "metadata": {
    "kernel": "R"
   },
   "source": [
    "There is no significant difference between Brain-AD enrichment and other tissue-AD enrichment. No matter for two-sided or one-sided. "
   ]
  },
  {
   "cell_type": "markdown",
   "id": "7871967e-828e-4cf6-9702-3d25436af5f5",
   "metadata": {
    "kernel": "R"
   },
   "source": [
    "### in 245 gene list\n",
    "Then I am wondering if we can get significant difference if we use our AD genelist as background... Which is a 245 genelist from our sharing QTL-AD sharing evidence, could be a potential AD risk gene list. "
   ]
  },
  {
   "cell_type": "markdown",
   "id": "308fe5a9-0b39-4ccf-981f-0b30e5d52cf6",
   "metadata": {
    "kernel": "R"
   },
   "source": [
    "#### compare brain and combined other tissues"
   ]
  },
  {
   "cell_type": "code",
   "execution_count": 52,
   "id": "c15da46f-fbb0-46ac-b166-92b062abc970",
   "metadata": {
    "kernel": "R",
    "scrolled": true
   },
   "outputs": [],
   "source": [
    "ad_genes <- fread('/mnt/vast/hpc/csg/rf2872/data/resource_Ru/Fungen_xQTL.overlapped.gwas.min_corr_gwas95_qtl70.Apr.tsv')"
   ]
  },
  {
   "cell_type": "code",
   "execution_count": 53,
   "id": "9743c2ff-57af-4e14-b474-080ebc3aaeb7",
   "metadata": {
    "kernel": "R"
   },
   "outputs": [
    {
     "data": {
      "text/html": [
       "9"
      ],
      "text/latex": [
       "9"
      ],
      "text/markdown": [
       "9"
      ],
      "text/plain": [
       "[1] 9"
      ]
     },
     "metadata": {},
     "output_type": "display_data"
    },
    {
     "data": {
      "text/html": [
       "893"
      ],
      "text/latex": [
       "893"
      ],
      "text/markdown": [
       "893"
      ],
      "text/plain": [
       "[1] 893"
      ]
     },
     "metadata": {},
     "output_type": "display_data"
    }
   ],
   "source": [
    "brain <- m6a_gene_anno_bed %>%\n",
    "  filter(context == 'GSE114150_Brain', gene_id %in% ad_genes$region_id)  \n",
    "brain_ad <- m6a_gene_bed_ad %>%\n",
    "  filter(context == 'GSE114150_Brain', gene_id %in% ad_genes$region_id) %>% pull(hg38_ID) %>% unique %>% length\n",
    "brain_nonad <- (brain %>% pull(hg38_ID) %>% unique %>% length) - brain_ad\n",
    "brain_ad\n",
    "brain_nonad"
   ]
  },
  {
   "cell_type": "code",
   "execution_count": 54,
   "id": "b6a1e302-12ce-417d-9a41-24d71cc88779",
   "metadata": {
    "kernel": "R"
   },
   "outputs": [
    {
     "data": {
      "text/html": [
       "45"
      ],
      "text/latex": [
       "45"
      ],
      "text/markdown": [
       "45"
      ],
      "text/plain": [
       "[1] 45"
      ]
     },
     "metadata": {},
     "output_type": "display_data"
    },
    {
     "data": {
      "text/html": [
       "4843"
      ],
      "text/latex": [
       "4843"
      ],
      "text/markdown": [
       "4843"
      ],
      "text/plain": [
       "[1] 4843"
      ]
     },
     "metadata": {},
     "output_type": "display_data"
    }
   ],
   "source": [
    "other <- m6a_gene_anno_bed %>%\n",
    "  filter(context != 'GSE114150_Brain', context != 'GSE114150_merged', gene_id %in% ad_genes$region_id) \n",
    "other_ad <- m6a_gene_bed_ad %>%\n",
    "  filter(context != 'GSE114150_Brain', context != 'GSE114150_merged', gene_id %in% ad_genes$region_id)  %>% pull(hg38_ID) %>% unique %>% length\n",
    "other_nonad <- other %>% pull(hg38_ID) %>% unique %>% length - other_ad\n",
    "other_ad\n",
    "other_nonad"
   ]
  },
  {
   "cell_type": "code",
   "execution_count": 55,
   "id": "ac433881-ea2d-43d4-98ed-3c1ac04b95ff",
   "metadata": {
    "kernel": "R"
   },
   "outputs": [
    {
     "name": "stdout",
     "output_type": "stream",
     "text": [
      "       AD\n",
      "Tissue  AD not_AD\n",
      "  Brian  9    893\n",
      "  Other 45   4843\n",
      "\n",
      "\tFisher's Exact Test for Count Data\n",
      "\n",
      "data:  contingency_table\n",
      "p-value = 0.85\n",
      "alternative hypothesis: true odds ratio is not equal to 1\n",
      "95 percent confidence interval:\n",
      " 0.4645135 2.2571937\n",
      "sample estimates:\n",
      "odds ratio \n",
      "  1.084664 \n",
      "\n",
      "\n",
      "\tFisher's Exact Test for Count Data\n",
      "\n",
      "data:  contingency_table\n",
      "p-value = 0.4697\n",
      "alternative hypothesis: true odds ratio is greater than 1\n",
      "95 percent confidence interval:\n",
      " 0.5333085       Inf\n",
      "sample estimates:\n",
      "odds ratio \n",
      "  1.084664 \n",
      "\n"
     ]
    }
   ],
   "source": [
    "# Create the contingency table\n",
    "contingency_table <- matrix(c(brain_ad, brain_nonad, other_ad, other_nonad),\n",
    "                            nrow = 2,\n",
    "                            byrow = TRUE,\n",
    "                            dimnames = list(\"Tissue\" = c(\"Brian\", \"Other\"),\n",
    "                                            \"AD\" = c(\"AD\", \"not_AD\")))\n",
    "\n",
    "# Print the contingency table\n",
    "print(contingency_table)\n",
    "\n",
    "# Perform Fisher's Exact Test\n",
    "# two sides\n",
    "fisher_test_result_two <- fisher.test(contingency_table)\n",
    "# one side\n",
    "fisher_test_result_one <- fisher.test(contingency_table, alternative = \"greater\")\n",
    "\n",
    "# Print the Fisher test result\n",
    "print(fisher_test_result_two)\n",
    "print(fisher_test_result_one)"
   ]
  },
  {
   "cell_type": "markdown",
   "id": "cd86dd5b-c86e-4a88-bf92-6c6271fc1c45",
   "metadata": {
    "kernel": "R"
   },
   "source": [
    "#### compare brain and each other tissue"
   ]
  },
  {
   "cell_type": "code",
   "execution_count": 56,
   "id": "cd7bc447-c5ab-4cc6-84c4-2ae45f2b303f",
   "metadata": {
    "kernel": "R"
   },
   "outputs": [],
   "source": [
    "contexts <- m6a_gene_anno_bed %>% pull(context) %>% unique\n",
    "contexts <- contexts[contexts!= 'GSE114150_Brain']"
   ]
  },
  {
   "cell_type": "code",
   "execution_count": 57,
   "id": "0ef5ffcf-7fb2-4243-b169-33eb4adf723e",
   "metadata": {
    "kernel": "R",
    "scrolled": true
   },
   "outputs": [
    {
     "name": "stderr",
     "output_type": "stream",
     "text": [
      "Brian AD vs GSE114150_Heart AD\n",
      "\n"
     ]
    },
    {
     "name": "stdout",
     "output_type": "stream",
     "text": [
      "                 AD\n",
      "Tissue            AD not_AD\n",
      "  Brian            9    893\n",
      "  GSE114150_Heart  7    647\n",
      "[1] \"Two-sided Fisher exact test pvalue: 1 with odds: 0.931574048474409\"\n",
      "[1] \"One-sided Fisher exact test pvalue: 0.656976970776917 with odds: 0.931574048474409\"\n"
     ]
    },
    {
     "name": "stderr",
     "output_type": "stream",
     "text": [
      "Brian AD vs GSE114150_Kidney AD\n",
      "\n"
     ]
    },
    {
     "name": "stdout",
     "output_type": "stream",
     "text": [
      "                  AD\n",
      "Tissue             AD not_AD\n",
      "  Brian             9    893\n",
      "  GSE114150_Kidney 13   1065\n",
      "[1] \"Two-sided Fisher exact test pvalue: 0.830196186141041 with odds: 0.825732131654412\"\n",
      "[1] \"One-sided Fisher exact test pvalue: 0.742172682806257 with odds: 0.825732131654412\"\n"
     ]
    },
    {
     "name": "stderr",
     "output_type": "stream",
     "text": [
      "Brian AD vs GSE114150_Liver AD\n",
      "\n"
     ]
    },
    {
     "name": "stdout",
     "output_type": "stream",
     "text": [
      "                 AD\n",
      "Tissue            AD not_AD\n",
      "  Brian            9    893\n",
      "  GSE114150_Liver  5    575\n",
      "[1] \"Two-sided Fisher exact test pvalue: 1 with odds: 1.15894040248409\"\n",
      "[1] \"One-sided Fisher exact test pvalue: 0.512606389265845 with odds: 1.15894040248409\"\n"
     ]
    },
    {
     "name": "stderr",
     "output_type": "stream",
     "text": [
      "Brian AD vs GSE114150_Lung AD\n",
      "\n"
     ]
    },
    {
     "name": "stdout",
     "output_type": "stream",
     "text": [
      "                AD\n",
      "Tissue           AD not_AD\n",
      "  Brian           9    893\n",
      "  GSE114150_Lung  3    556\n",
      "[1] \"Two-sided Fisher exact test pvalue: 0.391565438044484 with odds: 1.86713342566236\"\n",
      "[1] \"One-sided Fisher exact test pvalue: 0.263226416752623 with odds: 1.86713342566236\"\n"
     ]
    },
    {
     "name": "stderr",
     "output_type": "stream",
     "text": [
      "Brian AD vs GSE114150_merged AD\n",
      "\n"
     ]
    },
    {
     "name": "stdout",
     "output_type": "stream",
     "text": [
      "                  AD\n",
      "Tissue             AD not_AD\n",
      "  Brian             9    893\n",
      "  GSE114150_merged 15   1576\n",
      "[1] \"Two-sided Fisher exact test pvalue: 1 with odds: 1.05887752143922\"\n",
      "[1] \"One-sided Fisher exact test pvalue: 0.523311685959939 with odds: 1.05887752143922\"\n"
     ]
    },
    {
     "name": "stderr",
     "output_type": "stream",
     "text": [
      "Brian AD vs GSE114150_Muscle AD\n",
      "\n"
     ]
    },
    {
     "name": "stdout",
     "output_type": "stream",
     "text": [
      "                  AD\n",
      "Tissue             AD not_AD\n",
      "  Brian             9    893\n",
      "  GSE114150_Muscle  5    654\n",
      "[1] \"Two-sided Fisher exact test pvalue: 0.787754482822999 with odds: 1.3180248996632\"\n",
      "[1] \"One-sided Fisher exact test pvalue: 0.417616489744591 with odds: 1.3180248996632\"\n"
     ]
    },
    {
     "name": "stderr",
     "output_type": "stream",
     "text": [
      "Brian AD vs GSE114150_Placenta AD\n",
      "\n"
     ]
    },
    {
     "name": "stdout",
     "output_type": "stream",
     "text": [
      "                    AD\n",
      "Tissue               AD not_AD\n",
      "  Brian               9    893\n",
      "  GSE114150_Placenta  9    837\n",
      "[1] \"Two-sided Fisher exact test pvalue: 1 with odds: 0.937354792934511\"\n",
      "[1] \"One-sided Fisher exact test pvalue: 0.645926052634077 with odds: 0.937354792934511\"\n"
     ]
    },
    {
     "name": "stderr",
     "output_type": "stream",
     "text": [
      "Brian AD vs GSE114150_Stomach AD\n",
      "\n"
     ]
    },
    {
     "name": "stdout",
     "output_type": "stream",
     "text": [
      "                   AD\n",
      "Tissue              AD not_AD\n",
      "  Brian              9    893\n",
      "  GSE114150_Stomach  3    510\n",
      "[1] \"Two-sided Fisher exact test pvalue: 0.552933335862799 with odds: 1.71272973250973\"\n",
      "[1] \"One-sided Fisher exact test pvalue: 0.312637355116514 with odds: 1.71272973250973\"\n"
     ]
    }
   ],
   "source": [
    "brain <- m6a_gene_anno_bed %>%\n",
    "  filter(context == 'GSE114150_Brain', gene_id %in% ad_genes$region_id)  \n",
    "brain_ad <- m6a_gene_bed_ad %>%\n",
    "  filter(context == 'GSE114150_Brain', gene_id %in% ad_genes$region_id) %>% pull(hg38_ID) %>% unique %>% length\n",
    "brain_nonad <- brain %>% pull(hg38_ID) %>% unique %>% length - brain_ad\n",
    "\n",
    "for(context_target in contexts){\n",
    "    other <- m6a_gene_anno_bed %>%\n",
    "      filter(context == context_target, gene_id %in% ad_genes$region_id) \n",
    "    other_ad <- m6a_gene_bed_ad %>%\n",
    "      filter(context == context_target, gene_id %in% ad_genes$region_id)  %>% pull(hg38_ID) %>% unique %>% length\n",
    "    other_nonad <- other %>% pull(hg38_ID) %>% unique %>% length - other_ad\n",
    "    \n",
    "    # Create the contingency table\n",
    "    contingency_table <- matrix(c(brain_ad, brain_nonad, other_ad, other_nonad),\n",
    "                                nrow = 2,\n",
    "                                byrow = TRUE,\n",
    "                                dimnames = list(\"Tissue\" = c(\"Brian\", context_target),\n",
    "                                                \"AD\" = c(\"AD\", \"not_AD\")))\n",
    "\n",
    "    message(\"Brian AD vs \", context_target, \" AD\")\n",
    "    \n",
    "    # Print the contingency table\n",
    "    print(contingency_table)\n",
    "        # two sides\n",
    "    fisher_test_result_two <- fisher.test(contingency_table)\n",
    "    # one side\n",
    "    fisher_test_result_one <- fisher.test(contingency_table, alternative = \"greater\")\n",
    "    \n",
    "     # Print the Fisher test result\n",
    "    print(paste('Two-sided Fisher exact test pvalue:',fisher_test_result_two$p.value, 'with odds:', fisher_test_result_two$estimate))\n",
    "    print(paste('One-sided Fisher exact test pvalue:',fisher_test_result_one$p.value, 'with odds:', fisher_test_result_one$estimate))\n",
    "}"
   ]
  },
  {
   "cell_type": "markdown",
   "id": "3c878226-9938-481d-bf7c-3d40f8ff8ae3",
   "metadata": {
    "kernel": "R"
   },
   "source": [
    "which is even more unsignificant..."
   ]
  },
  {
   "cell_type": "markdown",
   "id": "17666c7b-d4bb-4b31-bcb5-991703b7b460",
   "metadata": {
    "kernel": "R"
   },
   "source": [
    "### in different chromosome\n",
    "what about if we focus on different chromosome?.. If there is some chromosome can show Brain peak specificty, e.g. chr19?"
   ]
  },
  {
   "cell_type": "markdown",
   "id": "eb656f78-9aa2-401e-b92a-5a0c45c20e73",
   "metadata": {
    "kernel": "R"
   },
   "source": [
    "#### compare brain and combined other tissues"
   ]
  },
  {
   "cell_type": "code",
   "execution_count": 58,
   "id": "e6fa8d03-b3f1-4da5-a694-ac2861bad2ec",
   "metadata": {
    "kernel": "R"
   },
   "outputs": [
    {
     "name": "stderr",
     "output_type": "stream",
     "text": [
      "chr1\n",
      "\n"
     ]
    },
    {
     "name": "stdout",
     "output_type": "stream",
     "text": [
      "[1] \"Two-sided Fisher exact test pvalue: 1 with odds: 0\"\n",
      "[1] \"One-sided Fisher exact test pvalue: 1 with odds: 0\"\n"
     ]
    },
    {
     "name": "stderr",
     "output_type": "stream",
     "text": [
      "chr2\n",
      "\n"
     ]
    },
    {
     "name": "stdout",
     "output_type": "stream",
     "text": [
      "[1] \"Two-sided Fisher exact test pvalue: 0.585740595119632 with odds: 1.30220856225532\"\n",
      "[1] \"One-sided Fisher exact test pvalue: 0.37497185462393 with odds: 1.30220856225532\"\n"
     ]
    },
    {
     "name": "stderr",
     "output_type": "stream",
     "text": [
      "chr3\n",
      "\n"
     ]
    },
    {
     "name": "stdout",
     "output_type": "stream",
     "text": [
      "[1] \"Two-sided Fisher exact test pvalue: 1 with odds: 0\"\n",
      "[1] \"One-sided Fisher exact test pvalue: 1 with odds: 0\"\n"
     ]
    },
    {
     "name": "stderr",
     "output_type": "stream",
     "text": [
      "chr4\n",
      "\n"
     ]
    },
    {
     "name": "stdout",
     "output_type": "stream",
     "text": [
      "[1] \"Two-sided Fisher exact test pvalue: 1 with odds: 0\"\n",
      "[1] \"One-sided Fisher exact test pvalue: 1 with odds: 0\"\n"
     ]
    },
    {
     "name": "stderr",
     "output_type": "stream",
     "text": [
      "chr5\n",
      "\n"
     ]
    },
    {
     "name": "stdout",
     "output_type": "stream",
     "text": [
      "[1] \"Two-sided Fisher exact test pvalue: 0.273581277100361 with odds: 5.771864633231\"\n",
      "[1] \"One-sided Fisher exact test pvalue: 0.273581277100361 with odds: 5.771864633231\"\n"
     ]
    },
    {
     "name": "stderr",
     "output_type": "stream",
     "text": [
      "chr6\n",
      "\n"
     ]
    },
    {
     "name": "stdout",
     "output_type": "stream",
     "text": [
      "[1] \"Two-sided Fisher exact test pvalue: 1 with odds: 0\"\n",
      "[1] \"One-sided Fisher exact test pvalue: 1 with odds: 0\"\n"
     ]
    },
    {
     "name": "stderr",
     "output_type": "stream",
     "text": [
      "chr7\n",
      "\n"
     ]
    },
    {
     "name": "stdout",
     "output_type": "stream",
     "text": [
      "[1] \"Two-sided Fisher exact test pvalue: 1 with odds: 0.886473802285646\"\n",
      "[1] \"One-sided Fisher exact test pvalue: 0.700661712899858 with odds: 0.886473802285646\"\n"
     ]
    },
    {
     "name": "stderr",
     "output_type": "stream",
     "text": [
      "chr8\n",
      "\n"
     ]
    },
    {
     "name": "stdout",
     "output_type": "stream",
     "text": [
      "[1] \"Two-sided Fisher exact test pvalue: 0.407868409117669 with odds: 2.62054188304271\"\n",
      "[1] \"One-sided Fisher exact test pvalue: 0.40786840911767 with odds: 2.62054188304271\"\n"
     ]
    },
    {
     "name": "stderr",
     "output_type": "stream",
     "text": [
      "chr9\n",
      "\n"
     ]
    },
    {
     "name": "stdout",
     "output_type": "stream",
     "text": [
      "[1] \"Two-sided Fisher exact test pvalue: 1 with odds: 0\"\n",
      "[1] \"One-sided Fisher exact test pvalue: 1 with odds: 0\"\n"
     ]
    },
    {
     "name": "stderr",
     "output_type": "stream",
     "text": [
      "chr10\n",
      "\n"
     ]
    },
    {
     "name": "stdout",
     "output_type": "stream",
     "text": [
      "[1] \"Two-sided Fisher exact test pvalue: 1 with odds: 0\"\n",
      "[1] \"One-sided Fisher exact test pvalue: 1 with odds: 0\"\n"
     ]
    },
    {
     "name": "stderr",
     "output_type": "stream",
     "text": [
      "chr11\n",
      "\n"
     ]
    },
    {
     "name": "stdout",
     "output_type": "stream",
     "text": [
      "[1] \"Two-sided Fisher exact test pvalue: 1 with odds: 0\"\n",
      "[1] \"One-sided Fisher exact test pvalue: 1 with odds: 0\"\n"
     ]
    },
    {
     "name": "stderr",
     "output_type": "stream",
     "text": [
      "chr12\n",
      "\n"
     ]
    },
    {
     "name": "stdout",
     "output_type": "stream",
     "text": [
      "[1] \"Two-sided Fisher exact test pvalue: 1 with odds: 0.918961829867608\"\n",
      "[1] \"One-sided Fisher exact test pvalue: 0.640832673943328 with odds: 0.918961829867608\"\n"
     ]
    },
    {
     "name": "stderr",
     "output_type": "stream",
     "text": [
      "chr13\n",
      "\n"
     ]
    },
    {
     "name": "stdout",
     "output_type": "stream",
     "text": [
      "[1] \"Two-sided Fisher exact test pvalue: 1 with odds: 0\"\n",
      "[1] \"One-sided Fisher exact test pvalue: 1 with odds: 0\"\n"
     ]
    },
    {
     "name": "stderr",
     "output_type": "stream",
     "text": [
      "chr14\n",
      "\n"
     ]
    },
    {
     "name": "stdout",
     "output_type": "stream",
     "text": [
      "[1] \"Two-sided Fisher exact test pvalue: 1 with odds: 0\"\n",
      "[1] \"One-sided Fisher exact test pvalue: 1 with odds: 0\"\n"
     ]
    },
    {
     "name": "stderr",
     "output_type": "stream",
     "text": [
      "chr15\n",
      "\n"
     ]
    },
    {
     "name": "stdout",
     "output_type": "stream",
     "text": [
      "[1] \"Two-sided Fisher exact test pvalue: 1 with odds: 0\"\n",
      "[1] \"One-sided Fisher exact test pvalue: 1 with odds: 0\"\n"
     ]
    },
    {
     "name": "stderr",
     "output_type": "stream",
     "text": [
      "chr16\n",
      "\n"
     ]
    },
    {
     "name": "stdout",
     "output_type": "stream",
     "text": [
      "[1] \"Two-sided Fisher exact test pvalue: 1 with odds: 0\"\n",
      "[1] \"One-sided Fisher exact test pvalue: 1 with odds: 0\"\n"
     ]
    },
    {
     "name": "stderr",
     "output_type": "stream",
     "text": [
      "chr17\n",
      "\n"
     ]
    },
    {
     "name": "stdout",
     "output_type": "stream",
     "text": [
      "[1] \"Two-sided Fisher exact test pvalue: 1 with odds: 0\"\n",
      "[1] \"One-sided Fisher exact test pvalue: 1 with odds: 0\"\n"
     ]
    },
    {
     "name": "stderr",
     "output_type": "stream",
     "text": [
      "chr18\n",
      "\n"
     ]
    },
    {
     "name": "stdout",
     "output_type": "stream",
     "text": [
      "[1] \"Two-sided Fisher exact test pvalue: 1 with odds: 0\"\n",
      "[1] \"One-sided Fisher exact test pvalue: 1 with odds: 0\"\n"
     ]
    },
    {
     "name": "stderr",
     "output_type": "stream",
     "text": [
      "chr19\n",
      "\n"
     ]
    },
    {
     "name": "stdout",
     "output_type": "stream",
     "text": [
      "[1] \"Two-sided Fisher exact test pvalue: 0.706186206480467 with odds: 1.09781847948715\"\n",
      "[1] \"One-sided Fisher exact test pvalue: 0.56805884591674 with odds: 1.09781847948715\"\n"
     ]
    },
    {
     "name": "stderr",
     "output_type": "stream",
     "text": [
      "chr20\n",
      "\n"
     ]
    },
    {
     "name": "stdout",
     "output_type": "stream",
     "text": [
      "[1] \"Two-sided Fisher exact test pvalue: 1 with odds: 0\"\n",
      "[1] \"One-sided Fisher exact test pvalue: 1 with odds: 0\"\n"
     ]
    },
    {
     "name": "stderr",
     "output_type": "stream",
     "text": [
      "chr21\n",
      "\n"
     ]
    },
    {
     "name": "stdout",
     "output_type": "stream",
     "text": [
      "[1] \"Two-sided Fisher exact test pvalue: 1 with odds: 0\"\n",
      "[1] \"One-sided Fisher exact test pvalue: 1 with odds: 0\"\n"
     ]
    },
    {
     "name": "stderr",
     "output_type": "stream",
     "text": [
      "chr22\n",
      "\n"
     ]
    },
    {
     "name": "stdout",
     "output_type": "stream",
     "text": [
      "[1] \"Two-sided Fisher exact test pvalue: 1 with odds: 0\"\n",
      "[1] \"One-sided Fisher exact test pvalue: 1 with odds: 0\"\n"
     ]
    }
   ],
   "source": [
    "for(i in 1:22){\n",
    "    chromosome = paste0('chr',i)\n",
    "    message(chromosome)\n",
    "    brain <- m6a_gene_anno_bed %>%\n",
    "      filter(context == 'GSE114150_Brain', V1 == chromosome)  \n",
    "    brain_ad <- m6a_gene_bed_ad %>%\n",
    "      filter(context == 'GSE114150_Brain', chrom == chromosome) %>% pull(hg38_ID) %>% unique %>% length\n",
    "    brain_nonad <- (brain %>% pull(hg38_ID) %>% unique %>% length) - brain_ad\n",
    "    \n",
    "    other <- m6a_gene_anno_bed %>%\n",
    "      filter(context != 'GSE114150_Brain', context != 'GSE114150_merged', V1 == chromosome) \n",
    "    other_ad <- m6a_gene_bed_ad %>%\n",
    "      filter(context != 'GSE114150_Brain', context != 'GSE114150_merged', chrom == chromosome)  %>% pull(hg38_ID) %>% unique %>% length\n",
    "    other_nonad <- other %>% pull(hg38_ID) %>% unique %>% length - other_ad\n",
    "    \n",
    "    # Create the contingency table\n",
    "    contingency_table <- matrix(c(brain_ad, brain_nonad, other_ad, other_nonad),\n",
    "                                nrow = 2,\n",
    "                                byrow = TRUE,\n",
    "                                dimnames = list(\"Tissue\" = c(\"Brian\", \"Other\"),\n",
    "                                                \"AD\" = c(\"AD\", \"not_AD\")))\n",
    "    \n",
    "    # Perform Fisher's Exact Test\n",
    "    # two sides\n",
    "    fisher_test_result_two <- fisher.test(contingency_table)\n",
    "    # one side\n",
    "    fisher_test_result_one <- fisher.test(contingency_table, alternative = \"greater\")\n",
    "    \n",
    "    # Print the Fisher test result\n",
    "    print(paste('Two-sided Fisher exact test pvalue:',fisher_test_result_two$p.value, 'with odds:', fisher_test_result_two$estimate))\n",
    "    print(paste('One-sided Fisher exact test pvalue:',fisher_test_result_one$p.value, 'with odds:', fisher_test_result_one$estimate))\n",
    "}"
   ]
  },
  {
   "cell_type": "markdown",
   "id": "aede29e3-82ed-4d65-b87f-414348b30794",
   "metadata": {
    "kernel": "R"
   },
   "source": [
    "Nothing specific if we compare Brain vs pooled_others, may beacause of not enough peaks per chromosome"
   ]
  },
  {
   "cell_type": "markdown",
   "id": "86540def-7df3-4b53-b3c4-21628e6bbafa",
   "metadata": {
    "kernel": "R"
   },
   "source": [
    "#### compare brain and each other tissue"
   ]
  },
  {
   "cell_type": "code",
   "execution_count": 65,
   "id": "71004d32-0570-4962-8368-b8126bd20cd2",
   "metadata": {
    "kernel": "R"
   },
   "outputs": [],
   "source": [
    "contexts <- m6a_gene_anno_bed %>% pull(context) %>% unique\n",
    "contexts <- contexts[contexts!= 'GSE114150_Brain']"
   ]
  },
  {
   "cell_type": "code",
   "execution_count": 69,
   "id": "fbfabbdd-c7ba-4ccb-a6c6-691392fa0566",
   "metadata": {
    "kernel": "R"
   },
   "outputs": [
    {
     "name": "stderr",
     "output_type": "stream",
     "text": [
      "Print One-sided Fisher exact test pvalue < 0.5 only\n",
      "\n",
      "Also printed 2x2 table since some test results have odds as Inf\n",
      "\n",
      "Brian AD vs GSE114150_Liver AD on chr2\n",
      "\n"
     ]
    },
    {
     "name": "stdout",
     "output_type": "stream",
     "text": [
      "                 AD\n",
      "Tissue            AD not_AD\n",
      "  Brian            5   3247\n",
      "  GSE114150_Liver  2   2060\n",
      "[1] \"One-sided Fisher exact test pvalue: 0.446140681483438 with odds: 1.58594927838138\"\n"
     ]
    },
    {
     "name": "stderr",
     "output_type": "stream",
     "text": [
      "Brian AD vs GSE114150_Lung AD on chr2\n",
      "\n"
     ]
    },
    {
     "name": "stdout",
     "output_type": "stream",
     "text": [
      "                AD\n",
      "Tissue           AD not_AD\n",
      "  Brian           5   3247\n",
      "  GSE114150_Lung  2   1886\n",
      "[1] \"One-sided Fisher exact test pvalue: 0.492683275779663 with odds: 1.45200995505478\"\n"
     ]
    },
    {
     "name": "stderr",
     "output_type": "stream",
     "text": [
      "Brian AD vs GSE114150_merged AD on chr2\n",
      "\n"
     ]
    },
    {
     "name": "stdout",
     "output_type": "stream",
     "text": [
      "                  AD\n",
      "Tissue             AD not_AD\n",
      "  Brian             5   3247\n",
      "  GSE114150_merged  6   6545\n",
      "[1] \"One-sided Fisher exact test pvalue: 0.284918845403759 with odds: 1.67970425478151\"\n"
     ]
    },
    {
     "name": "stderr",
     "output_type": "stream",
     "text": [
      "Brian AD vs GSE114150_Stomach AD on chr2\n",
      "\n"
     ]
    },
    {
     "name": "stdout",
     "output_type": "stream",
     "text": [
      "                   AD\n",
      "Tissue              AD not_AD\n",
      "  Brian              5   3247\n",
      "  GSE114150_Stomach  1   1658\n",
      "[1] \"One-sided Fisher exact test pvalue: 0.342240038519065 with odds: 2.5527219156251\"\n"
     ]
    },
    {
     "name": "stderr",
     "output_type": "stream",
     "text": [
      "Brian AD vs GSE114150_Placenta AD on chr5\n",
      "\n"
     ]
    },
    {
     "name": "stdout",
     "output_type": "stream",
     "text": [
      "                    AD\n",
      "Tissue               AD not_AD\n",
      "  Brian               1   2320\n",
      "  GSE114150_Placenta  0   2541\n",
      "[1] \"One-sided Fisher exact test pvalue: 0.47737556561086 with odds: Inf\"\n"
     ]
    },
    {
     "name": "stderr",
     "output_type": "stream",
     "text": [
      "Brian AD vs GSE114150_Kidney AD on chr8\n",
      "\n"
     ]
    },
    {
     "name": "stdout",
     "output_type": "stream",
     "text": [
      "                  AD\n",
      "Tissue             AD not_AD\n",
      "  Brian             1   1895\n",
      "  GSE114150_Kidney  0   2263\n",
      "[1] \"One-sided Fisher exact test pvalue: 0.455878817023322 with odds: Inf\"\n"
     ]
    },
    {
     "name": "stderr",
     "output_type": "stream",
     "text": [
      "Brian AD vs GSE114150_Lung AD on chr12\n",
      "\n"
     ]
    },
    {
     "name": "stdout",
     "output_type": "stream",
     "text": [
      "                AD\n",
      "Tissue           AD not_AD\n",
      "  Brian           5   2173\n",
      "  GSE114150_Lung  2   1356\n",
      "[1] \"One-sided Fisher exact test pvalue: 0.454966193717078 with odds: 1.55987035046571\"\n"
     ]
    },
    {
     "name": "stderr",
     "output_type": "stream",
     "text": [
      "Brian AD vs GSE114150_merged AD on chr12\n",
      "\n"
     ]
    },
    {
     "name": "stdout",
     "output_type": "stream",
     "text": [
      "                  AD\n",
      "Tissue             AD not_AD\n",
      "  Brian             5   2173\n",
      "  GSE114150_merged  7   4296\n",
      "[1] \"One-sided Fisher exact test pvalue: 0.376227224856926 with odds: 1.41210630429866\"\n"
     ]
    }
   ],
   "source": [
    "message('Print One-sided Fisher exact test pvalue < 0.5 only') \n",
    "message('Also printed 2x2 table since some test results have odds as Inf') \n",
    "for(i in 1:22){\n",
    "    chromosome = paste0('chr',i)\n",
    "    brain <- m6a_gene_anno_bed %>%\n",
    "      filter(context == 'GSE114150_Brain', V1 == chromosome)  \n",
    "    brain_ad <- m6a_gene_bed_ad %>%\n",
    "      filter(context == 'GSE114150_Brain', chrom == chromosome) %>% pull(hg38_ID) %>% unique %>% length\n",
    "    brain_nonad <- (brain %>% pull(hg38_ID) %>% unique %>% length) - brain_ad\n",
    "\n",
    "    for(context_target in contexts){\n",
    "        other <- m6a_gene_anno_bed %>%\n",
    "          filter(context == context_target, V1 == chromosome) \n",
    "        other_ad <- m6a_gene_bed_ad %>%\n",
    "          filter(context == context_target, chrom == chromosome)  %>% pull(hg38_ID) %>% unique %>% length\n",
    "        other_nonad <- other %>% pull(hg38_ID) %>% unique %>% length - other_ad\n",
    "        \n",
    "        # Create the contingency table\n",
    "        contingency_table <- matrix(c(brain_ad, brain_nonad, other_ad, other_nonad),\n",
    "                                    nrow = 2,\n",
    "                                    byrow = TRUE,\n",
    "                                    dimnames = list(\"Tissue\" = c(\"Brian\", context_target),\n",
    "                                                    \"AD\" = c(\"AD\", \"not_AD\")))\n",
    "    \n",
    "        \n",
    "            # two sides\n",
    "        fisher_test_result_two <- fisher.test(contingency_table)\n",
    "        # one side\n",
    "        fisher_test_result_one <- fisher.test(contingency_table, alternative = \"greater\")\n",
    "        \n",
    "        # Print the Fisher test result\n",
    "        if (fisher_test_result_one$p.value < 0.5) {\n",
    "    \n",
    "            message(\"Brian AD vs \", context_target, \" AD on \", chromosome)\n",
    "            print(contingency_table)\n",
    "            print(paste('One-sided Fisher exact test pvalue:',fisher_test_result_one$p.value, 'with odds:', fisher_test_result_one$estimate))\n",
    "        }\n",
    "    }\n",
    "}"
   ]
  },
  {
   "cell_type": "markdown",
   "id": "4f122a23-e98c-4d27-bde0-9bb6c84cfaca",
   "metadata": {
    "kernel": "R"
   },
   "source": [
    "## Conclusion:\n",
    "1. In most contexts within the provided data, there is AD enrichment based on Fisher’s test results;\n",
    "2. However, brain tissue does not show greater specificity for AD enrichment compared to other tissues."
   ]
  },
  {
   "cell_type": "code",
   "execution_count": null,
   "id": "89d20d88-a50f-40d0-af11-6d63ef310c2f",
   "metadata": {
    "kernel": "R"
   },
   "outputs": [],
   "source": []
  }
 ],
 "metadata": {
  "kernelspec": {
   "display_name": "R",
   "language": "R",
   "name": "ir"
  },
  "language_info": {
   "codemirror_mode": "r",
   "file_extension": ".r",
   "mimetype": "text/x-r-source",
   "name": "R",
   "pygments_lexer": "r",
   "version": "4.4.1"
  },
  "sos": {
   "kernels": [
    [
     "R",
     "ir",
     "R",
     "#DCDCDA",
     ""
    ]
   ],
   "version": ""
  }
 },
 "nbformat": 4,
 "nbformat_minor": 5
}
