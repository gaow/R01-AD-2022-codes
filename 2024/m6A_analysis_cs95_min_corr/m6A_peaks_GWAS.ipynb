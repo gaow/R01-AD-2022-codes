{
 "cells": [
  {
   "cell_type": "markdown",
   "id": "6dded65c-ccd3-4c1b-bb9f-ca0607975db4",
   "metadata": {
    "kernel": "SoS"
   },
   "source": [
    "# m6A peaks and AD GWAS signals"
   ]
  },
  {
   "cell_type": "markdown",
   "id": "466aa701-0af1-4291-a187-ed31d2e372e7",
   "metadata": {
    "kernel": "SoS"
   },
   "source": [
    "- Data: we have m6A peaks (bed-file like) from different tissues, as well as a version merging all tissues. We also have multiple AD GWAS summary stats from different AD studies where we know the z-score for each variant we analyze, as well as if a variant is in 95% CS from fine-mapping.\n"
   ]
  },
  {
   "cell_type": "markdown",
   "id": "c4a6d3f1-0dca-410c-ae41-7568191dacaa",
   "metadata": {
    "kernel": "SoS"
   },
   "source": [
    "## Overall\n",
    "In this notebook, I aim to map m6A peaks to our finemapped AD variants to explore potential enrichment of m6A peaks. The steps are as follows:\n",
    "\n",
    "1.\tOrganize m6A peak data, including:\n",
    "- Conversion from hg19 to hg38 (not shown in this notebook)\n",
    "- Check m6A peak sizes and downsize those larger than 1kb\n",
    "- Annotate each peak with a possible associated gene\n",
    "2.\tLoad AD finemapped data and Bellenguez sumstats to use as background.\n",
    "3.\tMap m6A peaks to AD finemapped and non-AD finemapped data.\n",
    "4.\tPerform enrichment analysis based on different contexts in Step 3.\n",
    "5.\tCompare whether this enrichment is brain-specific by examining the number of regions with or without AD variants in brain tissue compared to other tissues."
   ]
  },
  {
   "cell_type": "markdown",
   "id": "52da16e2-0987-4cf9-a775-377e235401ff",
   "metadata": {
    "kernel": "SoS"
   },
   "source": [
    "all GWAS analysis are focusing on Bellenguze in notebook"
   ]
  },
  {
   "cell_type": "code",
   "execution_count": 1,
   "id": "99c0997c-5261-49c6-977b-8ae787ba71b0",
   "metadata": {
    "kernel": "R"
   },
   "outputs": [
    {
     "name": "stderr",
     "output_type": "stream",
     "text": [
      "── \u001b[1mAttaching core tidyverse packages\u001b[22m ──────────────────────── tidyverse 2.0.0 ──\n",
      "\u001b[32m✔\u001b[39m \u001b[34mdplyr    \u001b[39m 1.1.4     \u001b[32m✔\u001b[39m \u001b[34mreadr    \u001b[39m 2.1.5\n",
      "\u001b[32m✔\u001b[39m \u001b[34mforcats  \u001b[39m 1.0.0     \u001b[32m✔\u001b[39m \u001b[34mstringr  \u001b[39m 1.5.1\n",
      "\u001b[32m✔\u001b[39m \u001b[34mggplot2  \u001b[39m 3.5.1     \u001b[32m✔\u001b[39m \u001b[34mtibble   \u001b[39m 3.2.1\n",
      "\u001b[32m✔\u001b[39m \u001b[34mlubridate\u001b[39m 1.9.3     \u001b[32m✔\u001b[39m \u001b[34mtidyr    \u001b[39m 1.3.1\n",
      "\u001b[32m✔\u001b[39m \u001b[34mpurrr    \u001b[39m 1.0.2     \n",
      "── \u001b[1mConflicts\u001b[22m ────────────────────────────────────────── tidyverse_conflicts() ──\n",
      "\u001b[31m✖\u001b[39m \u001b[34mpurrr\u001b[39m::\u001b[32m%||%()\u001b[39m   masks \u001b[34mbase\u001b[39m::%||%()\n",
      "\u001b[31m✖\u001b[39m \u001b[34mdplyr\u001b[39m::\u001b[32mfilter()\u001b[39m masks \u001b[34mstats\u001b[39m::filter()\n",
      "\u001b[31m✖\u001b[39m \u001b[34mdplyr\u001b[39m::\u001b[32mlag()\u001b[39m    masks \u001b[34mstats\u001b[39m::lag()\n",
      "\u001b[36mℹ\u001b[39m Use the conflicted package (\u001b[3m\u001b[34m<http://conflicted.r-lib.org/>\u001b[39m\u001b[23m) to force all conflicts to become errors\n",
      "\n",
      "Attaching package: ‘data.table’\n",
      "\n",
      "\n",
      "The following objects are masked from ‘package:lubridate’:\n",
      "\n",
      "    hour, isoweek, mday, minute, month, quarter, second, wday, week,\n",
      "    yday, year\n",
      "\n",
      "\n",
      "The following objects are masked from ‘package:dplyr’:\n",
      "\n",
      "    between, first, last\n",
      "\n",
      "\n",
      "The following object is masked from ‘package:purrr’:\n",
      "\n",
      "    transpose\n",
      "\n",
      "\n",
      "Warning message in fun(libname, pkgname):\n",
      "“bedtoolsr was built with bedtools version 2.30.0 but you have version 2.31.1 installed. Function syntax may have changed and wrapper will not function correctly. To fix this, please install bedtools version 2.30.0 and either add it to your PATH or run:\n",
      "options(bedtools.path = \\\"[bedtools path]\\\")”\n",
      "Loading required package: stats4\n",
      "\n",
      "Loading required package: BiocGenerics\n",
      "\n",
      "\n",
      "Attaching package: ‘BiocGenerics’\n",
      "\n",
      "\n",
      "The following objects are masked from ‘package:lubridate’:\n",
      "\n",
      "    intersect, setdiff, union\n",
      "\n",
      "\n",
      "The following objects are masked from ‘package:dplyr’:\n",
      "\n",
      "    combine, intersect, setdiff, union\n",
      "\n",
      "\n",
      "The following objects are masked from ‘package:stats’:\n",
      "\n",
      "    IQR, mad, sd, var, xtabs\n",
      "\n",
      "\n",
      "The following objects are masked from ‘package:base’:\n",
      "\n",
      "    anyDuplicated, aperm, append, as.data.frame, basename, cbind,\n",
      "    colnames, dirname, do.call, duplicated, eval, evalq, Filter, Find,\n",
      "    get, grep, grepl, intersect, is.unsorted, lapply, Map, mapply,\n",
      "    match, mget, order, paste, pmax, pmax.int, pmin, pmin.int,\n",
      "    Position, rank, rbind, Reduce, rownames, sapply, setdiff, table,\n",
      "    tapply, union, unique, unsplit, which.max, which.min\n",
      "\n",
      "\n",
      "Loading required package: S4Vectors\n",
      "\n",
      "\n",
      "Attaching package: ‘S4Vectors’\n",
      "\n",
      "\n",
      "The following objects are masked from ‘package:data.table’:\n",
      "\n",
      "    first, second\n",
      "\n",
      "\n",
      "The following objects are masked from ‘package:lubridate’:\n",
      "\n",
      "    second, second<-\n",
      "\n",
      "\n",
      "The following objects are masked from ‘package:dplyr’:\n",
      "\n",
      "    first, rename\n",
      "\n",
      "\n",
      "The following object is masked from ‘package:tidyr’:\n",
      "\n",
      "    expand\n",
      "\n",
      "\n",
      "The following object is masked from ‘package:utils’:\n",
      "\n",
      "    findMatches\n",
      "\n",
      "\n",
      "The following objects are masked from ‘package:base’:\n",
      "\n",
      "    expand.grid, I, unname\n",
      "\n",
      "\n",
      "Loading required package: IRanges\n",
      "\n",
      "\n",
      "Attaching package: ‘IRanges’\n",
      "\n",
      "\n",
      "The following object is masked from ‘package:data.table’:\n",
      "\n",
      "    shift\n",
      "\n",
      "\n",
      "The following object is masked from ‘package:lubridate’:\n",
      "\n",
      "    %within%\n",
      "\n",
      "\n",
      "The following objects are masked from ‘package:dplyr’:\n",
      "\n",
      "    collapse, desc, slice\n",
      "\n",
      "\n",
      "The following object is masked from ‘package:purrr’:\n",
      "\n",
      "    reduce\n",
      "\n",
      "\n",
      "Loading required package: GenomeInfoDb\n",
      "\n"
     ]
    }
   ],
   "source": [
    "library(tidyverse)\n",
    "library(data.table)\n",
    "library(bedtoolsr)\n",
    "library(GenomicRanges)\n"
   ]
  },
  {
   "cell_type": "markdown",
   "id": "880f89d6-c9f5-4b38-a55c-14c3aae67a78",
   "metadata": {
    "kernel": "R"
   },
   "source": [
    "## Organize m6A data"
   ]
  },
  {
   "cell_type": "markdown",
   "id": "856aa0bd-7471-4614-a33e-ae4ee5dea9fc",
   "metadata": {
    "kernel": "R"
   },
   "source": [
    "combine m6A region file from all contexts together"
   ]
  },
  {
   "cell_type": "code",
   "execution_count": 7,
   "id": "8588d46c-5ec4-4056-b9b0-71d2b9c02e05",
   "metadata": {
    "kernel": "R"
   },
   "outputs": [],
   "source": [
    "# # file_name <- '~/data/m6A/hg38_convert/GSE114150_Brain_hg19Tohg38.bed'\n",
    "# m6a = data.frame()\n",
    "# for(file_name in list.files('~/data/m6A/hg38_convert/', 'bed$',full.names = T)){\n",
    "#     m6a_tmp <- fread(file_name) %>% mutate(hg38_ID = paste(V1,V2,V3, sep = \":\"), context = basename(file_name) %>% gsub('_hg19Tohg38.bed','',.))\n",
    "#     m6a <- rbind(m6a, m6a_tmp)\n",
    "# }\n"
   ]
  },
  {
   "cell_type": "markdown",
   "id": "f6ff392f-581f-4446-8497-904b7a175d11",
   "metadata": {
    "kernel": "R"
   },
   "source": [
    "### Check the size of m6A peaks. If the peak is > 1 Kb, take the center and extend 500 bp on each side."
   ]
  },
  {
   "cell_type": "code",
   "execution_count": 8,
   "id": "8f040455-1eda-4435-8c0e-28c1677be2b1",
   "metadata": {
    "kernel": "R"
   },
   "outputs": [],
   "source": [
    "# m6a <- m6a %>% mutate(distance = V3-V2, \n",
    "#                center = as.integer((V2+V3)/2),\n",
    "#                start = ifelse(distance <= 1000, V2, center - 500), \n",
    "#                end = ifelse(distance <= 1000, V3, center + 500)) \n",
    "# m6a %>% fwrite(., '~/data/m6A/hg38_convert/GSE114150_hg19Tohg38.all.modifyregion.bed.gz', sep = '\\t')"
   ]
  },
  {
   "cell_type": "markdown",
   "id": "8a5ed12b-5a59-4e62-9026-01c18a4593b1",
   "metadata": {
    "kernel": "R"
   },
   "source": [
    "combined 2 batches of peak data"
   ]
  },
  {
   "cell_type": "code",
   "execution_count": 2,
   "id": "ec2cad92-2a5c-4a95-aa44-68e509fa8424",
   "metadata": {
    "kernel": "R"
   },
   "outputs": [],
   "source": [
    "m6a1 <- fread('~/data/m6A/hg38_convert/GSE114150_hg19Tohg38.all.modifyregion.bed.gz')\n",
    "m6a2 <- fread('~/data/m6A/m6A_RELIC/m6A_adult.all.modifyregion.bed.gz')\n",
    "m6a <- rbind(m6a1, m6a2, fill=T)"
   ]
  },
  {
   "cell_type": "markdown",
   "id": "1886720e-4f64-467d-a47b-19672e8d18e3",
   "metadata": {
    "kernel": "R"
   },
   "source": [
    "Add gene information into each peak. \n",
    "For the peak region we can keep every gene overlapped with it , and for the regions not covered with any gene body we pick the one with nearest TSS to center of m6A region"
   ]
  },
  {
   "cell_type": "code",
   "execution_count": 3,
   "id": "1f1c94ec-3b95-4e8e-af63-37d244b0eef4",
   "metadata": {
    "kernel": "R"
   },
   "outputs": [],
   "source": [
    "gene_region <- fread('~/data/ref_data_Ru/gene_region.tsv')\n",
    "\n",
    "gene_region <- gene_region %>%\n",
    "  mutate(gene_name = str_extract(V9, 'gene_name.*?;'), \n",
    "         gene_name = str_replace_all(gene_name, 'gene_name\\\\s*\"\"?|\"\"|;', \"\"),\n",
    "        TSS = ifelse(V7 == \"+\", V4, V5))"
   ]
  },
  {
   "cell_type": "code",
   "execution_count": 4,
   "id": "d1e2b7ed-8d1b-4a54-8054-88e233bc498a",
   "metadata": {
    "kernel": "R"
   },
   "outputs": [
    {
     "data": {
      "text/html": [
       "<style>\n",
       ".list-inline {list-style: none; margin:0; padding: 0}\n",
       ".list-inline>li {display: inline-block}\n",
       ".list-inline>li:not(:last-child)::after {content: \"\\00b7\"; padding: 0 .5ex}\n",
       "</style>\n",
       "<ol class=list-inline><li>19933</li><li>12</li></ol>\n"
      ],
      "text/latex": [
       "\\begin{enumerate*}\n",
       "\\item 19933\n",
       "\\item 12\n",
       "\\end{enumerate*}\n"
      ],
      "text/markdown": [
       "1. 19933\n",
       "2. 12\n",
       "\n",
       "\n"
      ],
      "text/plain": [
       "[1] 19933    12"
      ]
     },
     "metadata": {},
     "output_type": "display_data"
    }
   ],
   "source": [
    "# we only kept protein coding gene here\n",
    "pro_gene_region <- gene_region %>% filter(str_detect(V9, \"protein_coding\")) \n",
    "\n",
    "colnames(pro_gene_region)[1] <- 'V1'\n",
    "pro_gene_region %>% dim\n"
   ]
  },
  {
   "cell_type": "code",
   "execution_count": 5,
   "id": "492294c9-fcc4-48f4-bb6b-da80229ea2fa",
   "metadata": {
    "kernel": "R",
    "scrolled": true
   },
   "outputs": [
    {
     "data": {
      "text/html": [
       "<style>\n",
       ".list-inline {list-style: none; margin:0; padding: 0}\n",
       ".list-inline>li {display: inline-block}\n",
       ".list-inline>li:not(:last-child)::after {content: \"\\00b7\"; padding: 0 .5ex}\n",
       "</style>\n",
       "<ol class=list-inline><li>605679</li><li>11</li></ol>\n"
      ],
      "text/latex": [
       "\\begin{enumerate*}\n",
       "\\item 605679\n",
       "\\item 11\n",
       "\\end{enumerate*}\n"
      ],
      "text/markdown": [
       "1. 605679\n",
       "2. 11\n",
       "\n",
       "\n"
      ],
      "text/plain": [
       "[1] 605679     11"
      ]
     },
     "metadata": {},
     "output_type": "display_data"
    },
    {
     "data": {
      "text/html": [
       "<table class=\"dataframe\">\n",
       "<caption>A data.table: 6 × 11</caption>\n",
       "<thead>\n",
       "\t<tr><th scope=col>V1</th><th scope=col>V2</th><th scope=col>V3</th><th scope=col>V4</th><th scope=col>hg38_ID</th><th scope=col>context</th><th scope=col>distance</th><th scope=col>center</th><th scope=col>start</th><th scope=col>end</th><th scope=col>V5</th></tr>\n",
       "\t<tr><th scope=col>&lt;chr&gt;</th><th scope=col>&lt;int&gt;</th><th scope=col>&lt;int&gt;</th><th scope=col>&lt;chr&gt;</th><th scope=col>&lt;chr&gt;</th><th scope=col>&lt;chr&gt;</th><th scope=col>&lt;int&gt;</th><th scope=col>&lt;int&gt;</th><th scope=col>&lt;int&gt;</th><th scope=col>&lt;int&gt;</th><th scope=col>&lt;chr&gt;</th></tr>\n",
       "</thead>\n",
       "<tbody>\n",
       "\t<tr><td>chr1</td><td>788796</td><td>789694</td><td>1:724176:725074</td><td>chr1:788796:789694</td><td>GSE114150_Brain</td><td>898</td><td>789245</td><td>788796</td><td>789694</td><td>NA</td></tr>\n",
       "\t<tr><td>chr1</td><td>789859</td><td>790063</td><td>1:725239:725443</td><td>chr1:789859:790063</td><td>GSE114150_Brain</td><td>204</td><td>789961</td><td>789859</td><td>790063</td><td>NA</td></tr>\n",
       "\t<tr><td>chr1</td><td>790159</td><td>790277</td><td>1:725539:725657</td><td>chr1:790159:790277</td><td>GSE114150_Brain</td><td>118</td><td>790218</td><td>790159</td><td>790277</td><td>NA</td></tr>\n",
       "\t<tr><td>chr1</td><td>790486</td><td>790653</td><td>1:725866:726033</td><td>chr1:790486:790653</td><td>GSE114150_Brain</td><td>167</td><td>790569</td><td>790486</td><td>790653</td><td>NA</td></tr>\n",
       "\t<tr><td>chr1</td><td>791162</td><td>791412</td><td>1:726542:726792</td><td>chr1:791162:791412</td><td>GSE114150_Brain</td><td>250</td><td>791287</td><td>791162</td><td>791412</td><td>NA</td></tr>\n",
       "\t<tr><td>chr1</td><td>818005</td><td>818185</td><td>1:753385:753565</td><td>chr1:818005:818185</td><td>GSE114150_Brain</td><td>180</td><td>818095</td><td>818005</td><td>818185</td><td>NA</td></tr>\n",
       "</tbody>\n",
       "</table>\n"
      ],
      "text/latex": [
       "A data.table: 6 × 11\n",
       "\\begin{tabular}{lllllllllll}\n",
       " V1 & V2 & V3 & V4 & hg38\\_ID & context & distance & center & start & end & V5\\\\\n",
       " <chr> & <int> & <int> & <chr> & <chr> & <chr> & <int> & <int> & <int> & <int> & <chr>\\\\\n",
       "\\hline\n",
       "\t chr1 & 788796 & 789694 & 1:724176:725074 & chr1:788796:789694 & GSE114150\\_Brain & 898 & 789245 & 788796 & 789694 & NA\\\\\n",
       "\t chr1 & 789859 & 790063 & 1:725239:725443 & chr1:789859:790063 & GSE114150\\_Brain & 204 & 789961 & 789859 & 790063 & NA\\\\\n",
       "\t chr1 & 790159 & 790277 & 1:725539:725657 & chr1:790159:790277 & GSE114150\\_Brain & 118 & 790218 & 790159 & 790277 & NA\\\\\n",
       "\t chr1 & 790486 & 790653 & 1:725866:726033 & chr1:790486:790653 & GSE114150\\_Brain & 167 & 790569 & 790486 & 790653 & NA\\\\\n",
       "\t chr1 & 791162 & 791412 & 1:726542:726792 & chr1:791162:791412 & GSE114150\\_Brain & 250 & 791287 & 791162 & 791412 & NA\\\\\n",
       "\t chr1 & 818005 & 818185 & 1:753385:753565 & chr1:818005:818185 & GSE114150\\_Brain & 180 & 818095 & 818005 & 818185 & NA\\\\\n",
       "\\end{tabular}\n"
      ],
      "text/markdown": [
       "\n",
       "A data.table: 6 × 11\n",
       "\n",
       "| V1 &lt;chr&gt; | V2 &lt;int&gt; | V3 &lt;int&gt; | V4 &lt;chr&gt; | hg38_ID &lt;chr&gt; | context &lt;chr&gt; | distance &lt;int&gt; | center &lt;int&gt; | start &lt;int&gt; | end &lt;int&gt; | V5 &lt;chr&gt; |\n",
       "|---|---|---|---|---|---|---|---|---|---|---|\n",
       "| chr1 | 788796 | 789694 | 1:724176:725074 | chr1:788796:789694 | GSE114150_Brain | 898 | 789245 | 788796 | 789694 | NA |\n",
       "| chr1 | 789859 | 790063 | 1:725239:725443 | chr1:789859:790063 | GSE114150_Brain | 204 | 789961 | 789859 | 790063 | NA |\n",
       "| chr1 | 790159 | 790277 | 1:725539:725657 | chr1:790159:790277 | GSE114150_Brain | 118 | 790218 | 790159 | 790277 | NA |\n",
       "| chr1 | 790486 | 790653 | 1:725866:726033 | chr1:790486:790653 | GSE114150_Brain | 167 | 790569 | 790486 | 790653 | NA |\n",
       "| chr1 | 791162 | 791412 | 1:726542:726792 | chr1:791162:791412 | GSE114150_Brain | 250 | 791287 | 791162 | 791412 | NA |\n",
       "| chr1 | 818005 | 818185 | 1:753385:753565 | chr1:818005:818185 | GSE114150_Brain | 180 | 818095 | 818005 | 818185 | NA |\n",
       "\n"
      ],
      "text/plain": [
       "  V1   V2     V3     V4              hg38_ID            context        \n",
       "1 chr1 788796 789694 1:724176:725074 chr1:788796:789694 GSE114150_Brain\n",
       "2 chr1 789859 790063 1:725239:725443 chr1:789859:790063 GSE114150_Brain\n",
       "3 chr1 790159 790277 1:725539:725657 chr1:790159:790277 GSE114150_Brain\n",
       "4 chr1 790486 790653 1:725866:726033 chr1:790486:790653 GSE114150_Brain\n",
       "5 chr1 791162 791412 1:726542:726792 chr1:791162:791412 GSE114150_Brain\n",
       "6 chr1 818005 818185 1:753385:753565 chr1:818005:818185 GSE114150_Brain\n",
       "  distance center start  end    V5\n",
       "1 898      789245 788796 789694 NA\n",
       "2 204      789961 789859 790063 NA\n",
       "3 118      790218 790159 790277 NA\n",
       "4 167      790569 790486 790653 NA\n",
       "5 250      791287 791162 791412 NA\n",
       "6 180      818095 818005 818185 NA"
      ]
     },
     "metadata": {},
     "output_type": "display_data"
    }
   ],
   "source": [
    "m6a %>% dim\n",
    "m6a %>% head"
   ]
  },
  {
   "cell_type": "code",
   "execution_count": 200,
   "id": "317e4f51-6b9f-47ba-9402-99eb3c0329ca",
   "metadata": {
    "kernel": "R"
   },
   "outputs": [
    {
     "data": {
      "text/plain": [
       "   Min. 1st Qu.  Median    Mean 3rd Qu.    Max. \n",
       "    0.0   156.0   247.0   346.9   444.0  1000.0 "
      ]
     },
     "metadata": {},
     "output_type": "display_data"
    }
   ],
   "source": [
    "summary(m6a$end - m6a$start)"
   ]
  },
  {
   "cell_type": "markdown",
   "id": "08f6651e-65fb-42e8-968e-da009e970ef8",
   "metadata": {
    "kernel": "R"
   },
   "source": [
    "### Overlap the m6A peaks and gene region annotation file"
   ]
  },
  {
   "cell_type": "code",
   "execution_count": 6,
   "id": "ad7425d9-d0fd-42f3-bdf5-1756eef3e33b",
   "metadata": {
    "kernel": "R"
   },
   "outputs": [],
   "source": [
    "# Load necessary libraries\n",
    "\n",
    "# Convert m6a peaks data and gene region data (pro_gene_region) to GRanges objects\n",
    "m6a_gr <- GRanges(\n",
    "  seqnames = m6a$V1,\n",
    "  ranges = IRanges(start = m6a$start, end = m6a$end)\n",
    ")\n",
    "\n",
    "gene_gr <- GRanges(\n",
    "  seqnames = pro_gene_region$V1,\n",
    "  ranges = IRanges(start = pro_gene_region$V4, end = pro_gene_region$V5),\n",
    "  gene_id = pro_gene_region$gene,\n",
    "  gene_name = pro_gene_region$gene_name\n",
    ")"
   ]
  },
  {
   "cell_type": "markdown",
   "id": "ff7f4487-30e5-42fb-b805-4058e4782173",
   "metadata": {
    "kernel": "R"
   },
   "source": [
    "For the peak region we can keep every gene overlapped with it "
   ]
  },
  {
   "cell_type": "code",
   "execution_count": 7,
   "id": "ae393b71-291b-4b6a-85d8-8c368b247059",
   "metadata": {
    "kernel": "R"
   },
   "outputs": [
    {
     "name": "stderr",
     "output_type": "stream",
     "text": [
      "Warning message in .merge_two_Seqinfo_objects(x, y):\n",
      "“Each of the 2 combined objects has sequence levels not in the other:\n",
      "  - in 'x': chrM\n",
      "  - in 'y': chrMT\n",
      "  Make sure to always combine/compare objects based on the same reference\n",
      "  genome (use suppressWarnings() to suppress this warning).”\n"
     ]
    }
   ],
   "source": [
    "# Find overlaps between m6a data and gene regions\n",
    "overlaps <- findOverlaps(m6a_gr, gene_gr)\n",
    "\n",
    "# Extract overlapping rows and annotate with gene information\n",
    "m6a_with_gene <- m6a[queryHits(overlaps), ]\n",
    "m6a_with_gene$gene_id <- pro_gene_region$gene[subjectHits(overlaps)]\n",
    "m6a_with_gene$gene_name <- pro_gene_region$gene_name[subjectHits(overlaps)]\n",
    "\n",
    "# For non-overlapping rows, find the nearest TSS\n",
    "non_overlapping_indices <- setdiff(seq_len(nrow(m6a)), queryHits(overlaps))\n",
    "m6a_no_gene <- m6a[non_overlapping_indices, ]"
   ]
  },
  {
   "cell_type": "markdown",
   "id": "86bed5f9-618a-4cb6-b7b4-b8f6166d89c9",
   "metadata": {
    "kernel": "R"
   },
   "source": [
    "for the regions not covered with any gene body we pick the one with nearest TSS to center of m6A region"
   ]
  },
  {
   "cell_type": "code",
   "execution_count": 8,
   "id": "54f663e4-209a-47f0-95a8-7a70f2053d30",
   "metadata": {
    "kernel": "R"
   },
   "outputs": [
    {
     "name": "stderr",
     "output_type": "stream",
     "text": [
      "Warning message in .merge_two_Seqinfo_objects(x, y):\n",
      "“Each of the 2 combined objects has sequence levels not in the other:\n",
      "  - in 'x': chrM\n",
      "  - in 'y': chrMT\n",
      "  Make sure to always combine/compare objects based on the same reference\n",
      "  genome (use suppressWarnings() to suppress this warning).”\n"
     ]
    }
   ],
   "source": [
    "# Convert non-overlapping data to GRanges object using the center column\n",
    "m6a_center_gr <- GRanges(\n",
    "  seqnames = m6a_no_gene$V1,\n",
    "  ranges = IRanges(start = m6a_no_gene$center, end = m6a_no_gene$center),  # Use the center column\n",
    "  strand = m6a_no_gene$strand\n",
    ")\n",
    "\n",
    "# Create a GRanges object for gene data using the TSS as the start and end coordinates\n",
    "gene_tss_gr <- GRanges(\n",
    "  seqnames = pro_gene_region$V1,\n",
    "  ranges = IRanges(start = pro_gene_region$TSS, end = pro_gene_region$TSS),  # TSS is used for both start and end\n",
    "  strand = pro_gene_region$V7,\n",
    "  gene_id = pro_gene_region$gene,\n",
    "  gene_name = pro_gene_region$gene_name\n",
    ")\n",
    "\n",
    "# Find the nearest TSS for m6A peaks using the center\n",
    "nearest_tss_indices <- nearest(m6a_center_gr, gene_tss_gr)"
   ]
  },
  {
   "cell_type": "markdown",
   "id": "0aa08d4c-3dd4-4a73-93d7-55c7b0575afb",
   "metadata": {
    "kernel": "R"
   },
   "source": [
    "combine above together"
   ]
  },
  {
   "cell_type": "code",
   "execution_count": 9,
   "id": "4419157f-65d1-45d9-a2cc-0b50c503dbd2",
   "metadata": {
    "kernel": "R",
    "scrolled": true
   },
   "outputs": [
    {
     "data": {
      "text/html": [
       "<style>\n",
       ".list-inline {list-style: none; margin:0; padding: 0}\n",
       ".list-inline>li {display: inline-block}\n",
       ".list-inline>li:not(:last-child)::after {content: \"\\00b7\"; padding: 0 .5ex}\n",
       "</style>\n",
       "<ol class=list-inline><li>71425</li><li>13</li></ol>\n"
      ],
      "text/latex": [
       "\\begin{enumerate*}\n",
       "\\item 71425\n",
       "\\item 13\n",
       "\\end{enumerate*}\n"
      ],
      "text/markdown": [
       "1. 71425\n",
       "2. 13\n",
       "\n",
       "\n"
      ],
      "text/plain": [
       "[1] 71425    13"
      ]
     },
     "metadata": {},
     "output_type": "display_data"
    },
    {
     "data": {
      "text/html": [
       "<table class=\"dataframe\">\n",
       "<caption>A data.table: 6 × 13</caption>\n",
       "<thead>\n",
       "\t<tr><th scope=col>V1</th><th scope=col>V2</th><th scope=col>V3</th><th scope=col>V4</th><th scope=col>hg38_ID</th><th scope=col>context</th><th scope=col>distance</th><th scope=col>center</th><th scope=col>start</th><th scope=col>end</th><th scope=col>V5</th><th scope=col>gene_id</th><th scope=col>gene_name</th></tr>\n",
       "\t<tr><th scope=col>&lt;chr&gt;</th><th scope=col>&lt;int&gt;</th><th scope=col>&lt;int&gt;</th><th scope=col>&lt;chr&gt;</th><th scope=col>&lt;chr&gt;</th><th scope=col>&lt;chr&gt;</th><th scope=col>&lt;int&gt;</th><th scope=col>&lt;int&gt;</th><th scope=col>&lt;int&gt;</th><th scope=col>&lt;int&gt;</th><th scope=col>&lt;chr&gt;</th><th scope=col>&lt;chr&gt;</th><th scope=col>&lt;chr&gt;</th></tr>\n",
       "</thead>\n",
       "<tbody>\n",
       "\t<tr><td>chr1</td><td> 958977</td><td> 959238</td><td>1:894357:894618  </td><td>chr1:958977:959238  </td><td>GSE114150_Brain</td><td> 261</td><td> 959107</td><td> 958977</td><td> 959238</td><td>NA</td><td>ENSG00000188976</td><td>NOC2L   </td></tr>\n",
       "\t<tr><td>chr1</td><td>1027235</td><td>1027730</td><td>1:962615:963110  </td><td>chr1:1027235:1027730</td><td>GSE114150_Brain</td><td> 495</td><td>1027482</td><td>1027235</td><td>1027730</td><td>NA</td><td>ENSG00000188157</td><td>AGRN    </td></tr>\n",
       "\t<tr><td>chr1</td><td>1034120</td><td>1034622</td><td>1:969500:970002  </td><td>chr1:1034120:1034622</td><td>GSE114150_Brain</td><td> 502</td><td>1034371</td><td>1034120</td><td>1034622</td><td>NA</td><td>ENSG00000188157</td><td>AGRN    </td></tr>\n",
       "\t<tr><td>chr1</td><td>1043431</td><td>1043633</td><td>1:978811:979013  </td><td>chr1:1043431:1043633</td><td>GSE114150_Brain</td><td> 202</td><td>1043532</td><td>1043431</td><td>1043633</td><td>NA</td><td>ENSG00000188157</td><td>AGRN    </td></tr>\n",
       "\t<tr><td>chr1</td><td>1054842</td><td>1055887</td><td>1:990222:991267  </td><td>chr1:1054842:1055887</td><td>GSE114150_Brain</td><td>1045</td><td>1055364</td><td>1054864</td><td>1055864</td><td>NA</td><td>ENSG00000188157</td><td>AGRN    </td></tr>\n",
       "\t<tr><td>chr1</td><td>1082006</td><td>1082102</td><td>1:1017386:1017482</td><td>chr1:1082006:1082102</td><td>GSE114150_Brain</td><td>  96</td><td>1082054</td><td>1082006</td><td>1082102</td><td>NA</td><td>ENSG00000131591</td><td>C1orf159</td></tr>\n",
       "</tbody>\n",
       "</table>\n"
      ],
      "text/latex": [
       "A data.table: 6 × 13\n",
       "\\begin{tabular}{lllllllllllll}\n",
       " V1 & V2 & V3 & V4 & hg38\\_ID & context & distance & center & start & end & V5 & gene\\_id & gene\\_name\\\\\n",
       " <chr> & <int> & <int> & <chr> & <chr> & <chr> & <int> & <int> & <int> & <int> & <chr> & <chr> & <chr>\\\\\n",
       "\\hline\n",
       "\t chr1 &  958977 &  959238 & 1:894357:894618   & chr1:958977:959238   & GSE114150\\_Brain &  261 &  959107 &  958977 &  959238 & NA & ENSG00000188976 & NOC2L   \\\\\n",
       "\t chr1 & 1027235 & 1027730 & 1:962615:963110   & chr1:1027235:1027730 & GSE114150\\_Brain &  495 & 1027482 & 1027235 & 1027730 & NA & ENSG00000188157 & AGRN    \\\\\n",
       "\t chr1 & 1034120 & 1034622 & 1:969500:970002   & chr1:1034120:1034622 & GSE114150\\_Brain &  502 & 1034371 & 1034120 & 1034622 & NA & ENSG00000188157 & AGRN    \\\\\n",
       "\t chr1 & 1043431 & 1043633 & 1:978811:979013   & chr1:1043431:1043633 & GSE114150\\_Brain &  202 & 1043532 & 1043431 & 1043633 & NA & ENSG00000188157 & AGRN    \\\\\n",
       "\t chr1 & 1054842 & 1055887 & 1:990222:991267   & chr1:1054842:1055887 & GSE114150\\_Brain & 1045 & 1055364 & 1054864 & 1055864 & NA & ENSG00000188157 & AGRN    \\\\\n",
       "\t chr1 & 1082006 & 1082102 & 1:1017386:1017482 & chr1:1082006:1082102 & GSE114150\\_Brain &   96 & 1082054 & 1082006 & 1082102 & NA & ENSG00000131591 & C1orf159\\\\\n",
       "\\end{tabular}\n"
      ],
      "text/markdown": [
       "\n",
       "A data.table: 6 × 13\n",
       "\n",
       "| V1 &lt;chr&gt; | V2 &lt;int&gt; | V3 &lt;int&gt; | V4 &lt;chr&gt; | hg38_ID &lt;chr&gt; | context &lt;chr&gt; | distance &lt;int&gt; | center &lt;int&gt; | start &lt;int&gt; | end &lt;int&gt; | V5 &lt;chr&gt; | gene_id &lt;chr&gt; | gene_name &lt;chr&gt; |\n",
       "|---|---|---|---|---|---|---|---|---|---|---|---|---|\n",
       "| chr1 |  958977 |  959238 | 1:894357:894618   | chr1:958977:959238   | GSE114150_Brain |  261 |  959107 |  958977 |  959238 | NA | ENSG00000188976 | NOC2L    |\n",
       "| chr1 | 1027235 | 1027730 | 1:962615:963110   | chr1:1027235:1027730 | GSE114150_Brain |  495 | 1027482 | 1027235 | 1027730 | NA | ENSG00000188157 | AGRN     |\n",
       "| chr1 | 1034120 | 1034622 | 1:969500:970002   | chr1:1034120:1034622 | GSE114150_Brain |  502 | 1034371 | 1034120 | 1034622 | NA | ENSG00000188157 | AGRN     |\n",
       "| chr1 | 1043431 | 1043633 | 1:978811:979013   | chr1:1043431:1043633 | GSE114150_Brain |  202 | 1043532 | 1043431 | 1043633 | NA | ENSG00000188157 | AGRN     |\n",
       "| chr1 | 1054842 | 1055887 | 1:990222:991267   | chr1:1054842:1055887 | GSE114150_Brain | 1045 | 1055364 | 1054864 | 1055864 | NA | ENSG00000188157 | AGRN     |\n",
       "| chr1 | 1082006 | 1082102 | 1:1017386:1017482 | chr1:1082006:1082102 | GSE114150_Brain |   96 | 1082054 | 1082006 | 1082102 | NA | ENSG00000131591 | C1orf159 |\n",
       "\n"
      ],
      "text/plain": [
       "  V1   V2      V3      V4                hg38_ID              context        \n",
       "1 chr1  958977  959238 1:894357:894618   chr1:958977:959238   GSE114150_Brain\n",
       "2 chr1 1027235 1027730 1:962615:963110   chr1:1027235:1027730 GSE114150_Brain\n",
       "3 chr1 1034120 1034622 1:969500:970002   chr1:1034120:1034622 GSE114150_Brain\n",
       "4 chr1 1043431 1043633 1:978811:979013   chr1:1043431:1043633 GSE114150_Brain\n",
       "5 chr1 1054842 1055887 1:990222:991267   chr1:1054842:1055887 GSE114150_Brain\n",
       "6 chr1 1082006 1082102 1:1017386:1017482 chr1:1082006:1082102 GSE114150_Brain\n",
       "  distance center  start   end     V5 gene_id         gene_name\n",
       "1  261      959107  958977  959238 NA ENSG00000188976 NOC2L    \n",
       "2  495     1027482 1027235 1027730 NA ENSG00000188157 AGRN     \n",
       "3  502     1034371 1034120 1034622 NA ENSG00000188157 AGRN     \n",
       "4  202     1043532 1043431 1043633 NA ENSG00000188157 AGRN     \n",
       "5 1045     1055364 1054864 1055864 NA ENSG00000188157 AGRN     \n",
       "6   96     1082054 1082006 1082102 NA ENSG00000131591 C1orf159 "
      ]
     },
     "metadata": {},
     "output_type": "display_data"
    }
   ],
   "source": [
    "# Add nearest gene info to non-overlapping peaks\n",
    "m6a_no_gene$gene_id <- gene_tss_gr$gene_id[nearest_tss_indices]\n",
    "m6a_no_gene$gene_name <- gene_tss_gr$gene_name[nearest_tss_indices]\n",
    "\n",
    "# Combine overlapping and non-overlapping data\n",
    "m6a_gene_anno <- bind_rows(m6a_with_gene, m6a_no_gene)\n",
    "\n",
    "# Check dimensions and preview data\n",
    "m6a_no_gene %>% dim()\n",
    "m6a_gene_anno %>% head()"
   ]
  },
  {
   "cell_type": "code",
   "execution_count": 10,
   "id": "54ec779c-3a9b-4cf0-92ca-16d2da9a3516",
   "metadata": {
    "kernel": "R"
   },
   "outputs": [
    {
     "data": {
      "text/html": [
       "0.877276514917199"
      ],
      "text/latex": [
       "0.877276514917199"
      ],
      "text/markdown": [
       "0.877276514917199"
      ],
      "text/plain": [
       "[1] 0.8772765"
      ]
     },
     "metadata": {},
     "output_type": "display_data"
    }
   ],
   "source": [
    "1 - (m6a_no_gene %>% distinct(hg38_ID, context) %>% nrow) / (m6a_gene_anno %>% distinct(hg38_ID, context) %>% nrow)"
   ]
  },
  {
   "cell_type": "markdown",
   "id": "19033e6d-30cd-4366-8e2f-4d752c24eb69",
   "metadata": {
    "kernel": "R"
   },
   "source": [
    " >87% peaks can be overlapped with gene body"
   ]
  },
  {
   "cell_type": "markdown",
   "id": "6ba08e80-9fd0-4b7c-9b63-449c1355e69c",
   "metadata": {
    "kernel": "R"
   },
   "source": [
    "## Load AD GWAS finemapping data\n",
    "We focused on `AD_Bellenguez_2022` data and the variants in `cs_coverage_0.95_min_corr`"
   ]
  },
  {
   "cell_type": "code",
   "execution_count": 11,
   "id": "ba73565a-0ba8-4965-a44f-b47174cc26d9",
   "metadata": {
    "kernel": "R",
    "scrolled": true
   },
   "outputs": [
    {
     "data": {
      "text/html": [
       "<style>\n",
       ".list-inline {list-style: none; margin:0; padding: 0}\n",
       ".list-inline>li {display: inline-block}\n",
       ".list-inline>li:not(:last-child)::after {content: \"\\00b7\"; padding: 0 .5ex}\n",
       "</style>\n",
       "<ol class=list-inline><li>66479</li><li>15</li></ol>\n"
      ],
      "text/latex": [
       "\\begin{enumerate*}\n",
       "\\item 66479\n",
       "\\item 15\n",
       "\\end{enumerate*}\n"
      ],
      "text/markdown": [
       "1. 66479\n",
       "2. 15\n",
       "\n",
       "\n"
      ],
      "text/plain": [
       "[1] 66479    15"
      ]
     },
     "metadata": {},
     "output_type": "display_data"
    },
    {
     "data": {
      "text/html": [
       "<table class=\"dataframe\">\n",
       "<caption>A data.table: 2 × 17</caption>\n",
       "<thead>\n",
       "\t<tr><th scope=col>variant_id</th><th scope=col>z</th><th scope=col>pip</th><th scope=col>cs_coverage_0.95</th><th scope=col>cs_coverage_0.7</th><th scope=col>cs_coverage_0.5</th><th scope=col>cs_coverage_0.95_min_corr</th><th scope=col>cs_coverage_0.7_min_corr</th><th scope=col>cs_coverage_0.5_min_corr</th><th scope=col>cs_coverage_0.95_attainable</th><th scope=col>cs_coverage_0.7_attainable</th><th scope=col>cs_coverage_0.5_attainable</th><th scope=col>study</th><th scope=col>method</th><th scope=col>block</th><th scope=col>chr</th><th scope=col>pos</th></tr>\n",
       "\t<tr><th scope=col>&lt;chr&gt;</th><th scope=col>&lt;dbl&gt;</th><th scope=col>&lt;dbl&gt;</th><th scope=col>&lt;int&gt;</th><th scope=col>&lt;int&gt;</th><th scope=col>&lt;int&gt;</th><th scope=col>&lt;int&gt;</th><th scope=col>&lt;int&gt;</th><th scope=col>&lt;int&gt;</th><th scope=col>&lt;int&gt;</th><th scope=col>&lt;int&gt;</th><th scope=col>&lt;int&gt;</th><th scope=col>&lt;chr&gt;</th><th scope=col>&lt;chr&gt;</th><th scope=col>&lt;chr&gt;</th><th scope=col>&lt;chr&gt;</th><th scope=col>&lt;dbl&gt;</th></tr>\n",
       "</thead>\n",
       "<tbody>\n",
       "\t<tr><td>10:11676714:A:G</td><td>6.975610</td><td>0.979216533</td><td>1</td><td>1</td><td>1</td><td>1</td><td>1</td><td>1</td><td> 1</td><td> 1</td><td> 1</td><td>AD_Bellenguez_2022</td><td>RSS_QC_RAISS_imputed</td><td>chr10_10500888_12817813</td><td>chr10</td><td>11676714</td></tr>\n",
       "\t<tr><td>10:58094891:A:C</td><td>3.678899</td><td>0.001395639</td><td>1</td><td>0</td><td>0</td><td>1</td><td>0</td><td>0</td><td>NA</td><td>NA</td><td>NA</td><td>AD_Bellenguez_2022</td><td>RSS_QC_RAISS_imputed</td><td>chr10_57667362_59558848</td><td>chr10</td><td>58094891</td></tr>\n",
       "</tbody>\n",
       "</table>\n"
      ],
      "text/latex": [
       "A data.table: 2 × 17\n",
       "\\begin{tabular}{lllllllllllllllll}\n",
       " variant\\_id & z & pip & cs\\_coverage\\_0.95 & cs\\_coverage\\_0.7 & cs\\_coverage\\_0.5 & cs\\_coverage\\_0.95\\_min\\_corr & cs\\_coverage\\_0.7\\_min\\_corr & cs\\_coverage\\_0.5\\_min\\_corr & cs\\_coverage\\_0.95\\_attainable & cs\\_coverage\\_0.7\\_attainable & cs\\_coverage\\_0.5\\_attainable & study & method & block & chr & pos\\\\\n",
       " <chr> & <dbl> & <dbl> & <int> & <int> & <int> & <int> & <int> & <int> & <int> & <int> & <int> & <chr> & <chr> & <chr> & <chr> & <dbl>\\\\\n",
       "\\hline\n",
       "\t 10:11676714:A:G & 6.975610 & 0.979216533 & 1 & 1 & 1 & 1 & 1 & 1 &  1 &  1 &  1 & AD\\_Bellenguez\\_2022 & RSS\\_QC\\_RAISS\\_imputed & chr10\\_10500888\\_12817813 & chr10 & 11676714\\\\\n",
       "\t 10:58094891:A:C & 3.678899 & 0.001395639 & 1 & 0 & 0 & 1 & 0 & 0 & NA & NA & NA & AD\\_Bellenguez\\_2022 & RSS\\_QC\\_RAISS\\_imputed & chr10\\_57667362\\_59558848 & chr10 & 58094891\\\\\n",
       "\\end{tabular}\n"
      ],
      "text/markdown": [
       "\n",
       "A data.table: 2 × 17\n",
       "\n",
       "| variant_id &lt;chr&gt; | z &lt;dbl&gt; | pip &lt;dbl&gt; | cs_coverage_0.95 &lt;int&gt; | cs_coverage_0.7 &lt;int&gt; | cs_coverage_0.5 &lt;int&gt; | cs_coverage_0.95_min_corr &lt;int&gt; | cs_coverage_0.7_min_corr &lt;int&gt; | cs_coverage_0.5_min_corr &lt;int&gt; | cs_coverage_0.95_attainable &lt;int&gt; | cs_coverage_0.7_attainable &lt;int&gt; | cs_coverage_0.5_attainable &lt;int&gt; | study &lt;chr&gt; | method &lt;chr&gt; | block &lt;chr&gt; | chr &lt;chr&gt; | pos &lt;dbl&gt; |\n",
       "|---|---|---|---|---|---|---|---|---|---|---|---|---|---|---|---|---|\n",
       "| 10:11676714:A:G | 6.975610 | 0.979216533 | 1 | 1 | 1 | 1 | 1 | 1 |  1 |  1 |  1 | AD_Bellenguez_2022 | RSS_QC_RAISS_imputed | chr10_10500888_12817813 | chr10 | 11676714 |\n",
       "| 10:58094891:A:C | 3.678899 | 0.001395639 | 1 | 0 | 0 | 1 | 0 | 0 | NA | NA | NA | AD_Bellenguez_2022 | RSS_QC_RAISS_imputed | chr10_57667362_59558848 | chr10 | 58094891 |\n",
       "\n"
      ],
      "text/plain": [
       "  variant_id      z        pip         cs_coverage_0.95 cs_coverage_0.7\n",
       "1 10:11676714:A:G 6.975610 0.979216533 1                1              \n",
       "2 10:58094891:A:C 3.678899 0.001395639 1                0              \n",
       "  cs_coverage_0.5 cs_coverage_0.95_min_corr cs_coverage_0.7_min_corr\n",
       "1 1               1                         1                       \n",
       "2 0               1                         0                       \n",
       "  cs_coverage_0.5_min_corr cs_coverage_0.95_attainable\n",
       "1 1                         1                         \n",
       "2 0                        NA                         \n",
       "  cs_coverage_0.7_attainable cs_coverage_0.5_attainable study             \n",
       "1  1                          1                         AD_Bellenguez_2022\n",
       "2 NA                         NA                         AD_Bellenguez_2022\n",
       "  method               block                   chr   pos     \n",
       "1 RSS_QC_RAISS_imputed chr10_10500888_12817813 chr10 11676714\n",
       "2 RSS_QC_RAISS_imputed chr10_57667362_59558848 chr10 58094891"
      ]
     },
     "metadata": {},
     "output_type": "display_data"
    },
    {
     "data": {
      "text/html": [
       "<style>\n",
       ".list-inline {list-style: none; margin:0; padding: 0}\n",
       ".list-inline>li {display: inline-block}\n",
       ".list-inline>li:not(:last-child)::after {content: \"\\00b7\"; padding: 0 .5ex}\n",
       "</style>\n",
       "<ol class=list-inline><li>1284</li><li>17</li></ol>\n"
      ],
      "text/latex": [
       "\\begin{enumerate*}\n",
       "\\item 1284\n",
       "\\item 17\n",
       "\\end{enumerate*}\n"
      ],
      "text/markdown": [
       "1. 1284\n",
       "2. 17\n",
       "\n",
       "\n"
      ],
      "text/plain": [
       "[1] 1284   17"
      ]
     },
     "metadata": {},
     "output_type": "display_data"
    }
   ],
   "source": [
    "gwas <- fread('/mnt/vast/hpc/csg/rf2872/Work/Multivariate/GWAS_finemapping_Apr9/GWAS_finemapping_Apr9.union_export.tsv.gz')\n",
    "\n",
    "gwas %>% dim\n",
    "gwas <- gwas %>% \n",
    "        filter(study == 'AD_Bellenguez_2022') %>% \n",
    "        mutate(chr = str_split(variant_id, \":\", simplify = T) %>% .[,1] %>% paste0(\"chr\",.),\n",
    "                pos = str_split(variant_id, \":\", simplify = T) %>% .[,2] %>% as.numeric) %>% filter(cs_coverage_0.95_min_corr > 0)\n",
    "gwas %>% head(n = 2)\n",
    "gwas %>% dim"
   ]
  },
  {
   "cell_type": "markdown",
   "id": "833e0bcf-064e-4830-82cb-693804c1098b",
   "metadata": {
    "kernel": "R"
   },
   "source": [
    "## Map m6A peaks to AD finemapped variants"
   ]
  },
  {
   "cell_type": "code",
   "execution_count": 12,
   "id": "12627ddb-529f-4d34-909f-7962459df33f",
   "metadata": {
    "kernel": "R"
   },
   "outputs": [],
   "source": [
    "m6a_gene_anno_bed <- m6a_gene_anno[, c(\"V1\", \"start\", \"end\", \"hg38_ID\", \"context\", \"gene_id\", \"gene_name\")]\n",
    "gwas_bed <- gwas[, .(chr, start_variant = as.integer(pos), end_variant = as.integer(pos), variant_id,z,pip,cs_coverage_0.95_min_corr,block, study)]\n",
    "\n",
    "m6a_gene_bed_ad <- bt.intersect(a = m6a_gene_anno_bed, b = gwas_bed, wa = T, wb = T) "
   ]
  },
  {
   "cell_type": "code",
   "execution_count": 13,
   "id": "5f9e91b6-2b2e-4ad9-88a6-04104350d85c",
   "metadata": {
    "kernel": "R"
   },
   "outputs": [
    {
     "data": {
      "text/html": [
       "<style>\n",
       ".list-inline {list-style: none; margin:0; padding: 0}\n",
       ".list-inline>li {display: inline-block}\n",
       ".list-inline>li:not(:last-child)::after {content: \"\\00b7\"; padding: 0 .5ex}\n",
       "</style>\n",
       "<ol class=list-inline><li>272</li><li>16</li></ol>\n"
      ],
      "text/latex": [
       "\\begin{enumerate*}\n",
       "\\item 272\n",
       "\\item 16\n",
       "\\end{enumerate*}\n"
      ],
      "text/markdown": [
       "1. 272\n",
       "2. 16\n",
       "\n",
       "\n"
      ],
      "text/plain": [
       "[1] 272  16"
      ]
     },
     "metadata": {},
     "output_type": "display_data"
    },
    {
     "data": {
      "text/html": [
       "<table class=\"dataframe\">\n",
       "<caption>A data.frame: 6 × 16</caption>\n",
       "<thead>\n",
       "\t<tr><th></th><th scope=col>chrom</th><th scope=col>start</th><th scope=col>end</th><th scope=col>hg38_ID</th><th scope=col>context</th><th scope=col>gene_id</th><th scope=col>gene_name</th><th scope=col>chr</th><th scope=col>start_variant</th><th scope=col>end_variant</th><th scope=col>variant_id</th><th scope=col>z</th><th scope=col>pip</th><th scope=col>cs_coverage_0.95_min_corr</th><th scope=col>block</th><th scope=col>study</th></tr>\n",
       "\t<tr><th></th><th scope=col>&lt;chr&gt;</th><th scope=col>&lt;int&gt;</th><th scope=col>&lt;int&gt;</th><th scope=col>&lt;chr&gt;</th><th scope=col>&lt;chr&gt;</th><th scope=col>&lt;chr&gt;</th><th scope=col>&lt;chr&gt;</th><th scope=col>&lt;chr&gt;</th><th scope=col>&lt;int&gt;</th><th scope=col>&lt;int&gt;</th><th scope=col>&lt;chr&gt;</th><th scope=col>&lt;dbl&gt;</th><th scope=col>&lt;dbl&gt;</th><th scope=col>&lt;int&gt;</th><th scope=col>&lt;chr&gt;</th><th scope=col>&lt;chr&gt;</th></tr>\n",
       "</thead>\n",
       "<tbody>\n",
       "\t<tr><th scope=row>1</th><td>chr12</td><td>113158551</td><td>113159178</td><td>chr12:113158551:113159178</td><td>GSE114150_Brain</td><td>ENSG00000186710</td><td>CFAP73</td><td>chr12</td><td>113159061</td><td>113159061</td><td>12:113159061:G:A</td><td>4.575949</td><td>0.006127578</td><td>1</td><td>chr12_112825713_115165608</td><td>AD_Bellenguez_2022</td></tr>\n",
       "\t<tr><th scope=row>2</th><td>chr12</td><td>113158551</td><td>113159178</td><td>chr12:113158551:113159178</td><td>GSE114150_Brain</td><td>ENSG00000123064</td><td>DDX54 </td><td>chr12</td><td>113159061</td><td>113159061</td><td>12:113159061:G:A</td><td>4.575949</td><td>0.006127578</td><td>1</td><td>chr12_112825713_115165608</td><td>AD_Bellenguez_2022</td></tr>\n",
       "\t<tr><th scope=row>3</th><td>chr12</td><td>113161821</td><td>113162088</td><td>chr12:113161821:113162088</td><td>GSE114150_Brain</td><td>ENSG00000123064</td><td>DDX54 </td><td>chr12</td><td>113162061</td><td>113162061</td><td>12:113162061:T:C</td><td>4.490323</td><td>0.004234860</td><td>1</td><td>chr12_112825713_115165608</td><td>AD_Bellenguez_2022</td></tr>\n",
       "\t<tr><th scope=row>4</th><td>chr12</td><td>113162795</td><td>113163180</td><td>chr12:113162795:113163180</td><td>GSE114150_Brain</td><td>ENSG00000123064</td><td>DDX54 </td><td>chr12</td><td>113163098</td><td>113163098</td><td>12:113163098:A:G</td><td>4.483871</td><td>0.004119767</td><td>1</td><td>chr12_112825713_115165608</td><td>AD_Bellenguez_2022</td></tr>\n",
       "\t<tr><th scope=row>5</th><td>chr12</td><td>113162795</td><td>113163180</td><td>chr12:113162795:113163180</td><td>GSE114150_Brain</td><td>ENSG00000123064</td><td>DDX54 </td><td>chr12</td><td>113163135</td><td>113163135</td><td>12:113163135:C:T</td><td>4.518987</td><td>0.004788665</td><td>1</td><td>chr12_112825713_115165608</td><td>AD_Bellenguez_2022</td></tr>\n",
       "\t<tr><th scope=row>6</th><td>chr12</td><td>113191735</td><td>113192015</td><td>chr12:113191735:113192015</td><td>GSE114150_Brain</td><td>ENSG00000139405</td><td>RITA1 </td><td>chr12</td><td>113191832</td><td>113191832</td><td>12:113191832:G:A</td><td>4.449367</td><td>0.003557680</td><td>1</td><td>chr12_112825713_115165608</td><td>AD_Bellenguez_2022</td></tr>\n",
       "</tbody>\n",
       "</table>\n"
      ],
      "text/latex": [
       "A data.frame: 6 × 16\n",
       "\\begin{tabular}{r|llllllllllllllll}\n",
       "  & chrom & start & end & hg38\\_ID & context & gene\\_id & gene\\_name & chr & start\\_variant & end\\_variant & variant\\_id & z & pip & cs\\_coverage\\_0.95\\_min\\_corr & block & study\\\\\n",
       "  & <chr> & <int> & <int> & <chr> & <chr> & <chr> & <chr> & <chr> & <int> & <int> & <chr> & <dbl> & <dbl> & <int> & <chr> & <chr>\\\\\n",
       "\\hline\n",
       "\t1 & chr12 & 113158551 & 113159178 & chr12:113158551:113159178 & GSE114150\\_Brain & ENSG00000186710 & CFAP73 & chr12 & 113159061 & 113159061 & 12:113159061:G:A & 4.575949 & 0.006127578 & 1 & chr12\\_112825713\\_115165608 & AD\\_Bellenguez\\_2022\\\\\n",
       "\t2 & chr12 & 113158551 & 113159178 & chr12:113158551:113159178 & GSE114150\\_Brain & ENSG00000123064 & DDX54  & chr12 & 113159061 & 113159061 & 12:113159061:G:A & 4.575949 & 0.006127578 & 1 & chr12\\_112825713\\_115165608 & AD\\_Bellenguez\\_2022\\\\\n",
       "\t3 & chr12 & 113161821 & 113162088 & chr12:113161821:113162088 & GSE114150\\_Brain & ENSG00000123064 & DDX54  & chr12 & 113162061 & 113162061 & 12:113162061:T:C & 4.490323 & 0.004234860 & 1 & chr12\\_112825713\\_115165608 & AD\\_Bellenguez\\_2022\\\\\n",
       "\t4 & chr12 & 113162795 & 113163180 & chr12:113162795:113163180 & GSE114150\\_Brain & ENSG00000123064 & DDX54  & chr12 & 113163098 & 113163098 & 12:113163098:A:G & 4.483871 & 0.004119767 & 1 & chr12\\_112825713\\_115165608 & AD\\_Bellenguez\\_2022\\\\\n",
       "\t5 & chr12 & 113162795 & 113163180 & chr12:113162795:113163180 & GSE114150\\_Brain & ENSG00000123064 & DDX54  & chr12 & 113163135 & 113163135 & 12:113163135:C:T & 4.518987 & 0.004788665 & 1 & chr12\\_112825713\\_115165608 & AD\\_Bellenguez\\_2022\\\\\n",
       "\t6 & chr12 & 113191735 & 113192015 & chr12:113191735:113192015 & GSE114150\\_Brain & ENSG00000139405 & RITA1  & chr12 & 113191832 & 113191832 & 12:113191832:G:A & 4.449367 & 0.003557680 & 1 & chr12\\_112825713\\_115165608 & AD\\_Bellenguez\\_2022\\\\\n",
       "\\end{tabular}\n"
      ],
      "text/markdown": [
       "\n",
       "A data.frame: 6 × 16\n",
       "\n",
       "| <!--/--> | chrom &lt;chr&gt; | start &lt;int&gt; | end &lt;int&gt; | hg38_ID &lt;chr&gt; | context &lt;chr&gt; | gene_id &lt;chr&gt; | gene_name &lt;chr&gt; | chr &lt;chr&gt; | start_variant &lt;int&gt; | end_variant &lt;int&gt; | variant_id &lt;chr&gt; | z &lt;dbl&gt; | pip &lt;dbl&gt; | cs_coverage_0.95_min_corr &lt;int&gt; | block &lt;chr&gt; | study &lt;chr&gt; |\n",
       "|---|---|---|---|---|---|---|---|---|---|---|---|---|---|---|---|---|\n",
       "| 1 | chr12 | 113158551 | 113159178 | chr12:113158551:113159178 | GSE114150_Brain | ENSG00000186710 | CFAP73 | chr12 | 113159061 | 113159061 | 12:113159061:G:A | 4.575949 | 0.006127578 | 1 | chr12_112825713_115165608 | AD_Bellenguez_2022 |\n",
       "| 2 | chr12 | 113158551 | 113159178 | chr12:113158551:113159178 | GSE114150_Brain | ENSG00000123064 | DDX54  | chr12 | 113159061 | 113159061 | 12:113159061:G:A | 4.575949 | 0.006127578 | 1 | chr12_112825713_115165608 | AD_Bellenguez_2022 |\n",
       "| 3 | chr12 | 113161821 | 113162088 | chr12:113161821:113162088 | GSE114150_Brain | ENSG00000123064 | DDX54  | chr12 | 113162061 | 113162061 | 12:113162061:T:C | 4.490323 | 0.004234860 | 1 | chr12_112825713_115165608 | AD_Bellenguez_2022 |\n",
       "| 4 | chr12 | 113162795 | 113163180 | chr12:113162795:113163180 | GSE114150_Brain | ENSG00000123064 | DDX54  | chr12 | 113163098 | 113163098 | 12:113163098:A:G | 4.483871 | 0.004119767 | 1 | chr12_112825713_115165608 | AD_Bellenguez_2022 |\n",
       "| 5 | chr12 | 113162795 | 113163180 | chr12:113162795:113163180 | GSE114150_Brain | ENSG00000123064 | DDX54  | chr12 | 113163135 | 113163135 | 12:113163135:C:T | 4.518987 | 0.004788665 | 1 | chr12_112825713_115165608 | AD_Bellenguez_2022 |\n",
       "| 6 | chr12 | 113191735 | 113192015 | chr12:113191735:113192015 | GSE114150_Brain | ENSG00000139405 | RITA1  | chr12 | 113191832 | 113191832 | 12:113191832:G:A | 4.449367 | 0.003557680 | 1 | chr12_112825713_115165608 | AD_Bellenguez_2022 |\n",
       "\n"
      ],
      "text/plain": [
       "  chrom start     end       hg38_ID                   context        \n",
       "1 chr12 113158551 113159178 chr12:113158551:113159178 GSE114150_Brain\n",
       "2 chr12 113158551 113159178 chr12:113158551:113159178 GSE114150_Brain\n",
       "3 chr12 113161821 113162088 chr12:113161821:113162088 GSE114150_Brain\n",
       "4 chr12 113162795 113163180 chr12:113162795:113163180 GSE114150_Brain\n",
       "5 chr12 113162795 113163180 chr12:113162795:113163180 GSE114150_Brain\n",
       "6 chr12 113191735 113192015 chr12:113191735:113192015 GSE114150_Brain\n",
       "  gene_id         gene_name chr   start_variant end_variant variant_id      \n",
       "1 ENSG00000186710 CFAP73    chr12 113159061     113159061   12:113159061:G:A\n",
       "2 ENSG00000123064 DDX54     chr12 113159061     113159061   12:113159061:G:A\n",
       "3 ENSG00000123064 DDX54     chr12 113162061     113162061   12:113162061:T:C\n",
       "4 ENSG00000123064 DDX54     chr12 113163098     113163098   12:113163098:A:G\n",
       "5 ENSG00000123064 DDX54     chr12 113163135     113163135   12:113163135:C:T\n",
       "6 ENSG00000139405 RITA1     chr12 113191832     113191832   12:113191832:G:A\n",
       "  z        pip         cs_coverage_0.95_min_corr block                    \n",
       "1 4.575949 0.006127578 1                         chr12_112825713_115165608\n",
       "2 4.575949 0.006127578 1                         chr12_112825713_115165608\n",
       "3 4.490323 0.004234860 1                         chr12_112825713_115165608\n",
       "4 4.483871 0.004119767 1                         chr12_112825713_115165608\n",
       "5 4.518987 0.004788665 1                         chr12_112825713_115165608\n",
       "6 4.449367 0.003557680 1                         chr12_112825713_115165608\n",
       "  study             \n",
       "1 AD_Bellenguez_2022\n",
       "2 AD_Bellenguez_2022\n",
       "3 AD_Bellenguez_2022\n",
       "4 AD_Bellenguez_2022\n",
       "5 AD_Bellenguez_2022\n",
       "6 AD_Bellenguez_2022"
      ]
     },
     "metadata": {},
     "output_type": "display_data"
    }
   ],
   "source": [
    "colnames(m6a_gene_bed_ad) <- c(\"chrom\", \"start\", \"end\", \"hg38_ID\", \"context\", \"gene_id\", \"gene_name\", colnames(gwas_bed))\n",
    "m6a_gene_bed_ad %>% dim\n",
    "m6a_gene_bed_ad %>% head"
   ]
  },
  {
   "cell_type": "markdown",
   "id": "e2ec1052-3ef6-4d0c-bacc-d2ef705e2038",
   "metadata": {
    "kernel": "R"
   },
   "source": [
    "The reginos numbers can have AD signals in each context are like below"
   ]
  },
  {
   "cell_type": "code",
   "execution_count": 14,
   "id": "090d64fb-ecf0-4014-9af4-1dc86d95c577",
   "metadata": {
    "kernel": "R",
    "scrolled": true
   },
   "outputs": [
    {
     "data": {
      "text/plain": [
       ".\n",
       "      brain_cortex    GSE114150_Brain    GSE114150_Heart   GSE114150_Kidney \n",
       "                23                 18                 16                 26 \n",
       "   GSE114150_Liver     GSE114150_Lung   GSE114150_merged   GSE114150_Muscle \n",
       "                11                  8                 30                 14 \n",
       "GSE114150_Placenta  GSE114150_Stomach               hNPC \n",
       "                19                 10                 12 "
      ]
     },
     "metadata": {},
     "output_type": "display_data"
    }
   ],
   "source": [
    "m6a_gene_bed_ad %>% distinct(variant_id,context,hg38_ID, .keep_all = T) %>% pull(context) %>% table"
   ]
  },
  {
   "cell_type": "code",
   "execution_count": 16,
   "id": "7046afbe-5a8a-4b0e-86b4-cf4a580386f3",
   "metadata": {
    "kernel": "R"
   },
   "outputs": [],
   "source": [
    "fwrite(m6a_gene_bed_ad, \"Oct17_GSE_Bellenguez_ADGWAS_cs95_mincorr_1kb.overlap.tsv\", sep = '\\t')"
   ]
  },
  {
   "cell_type": "markdown",
   "id": "db9dc43a-d9f4-4b1a-9696-a67c5440a2bf",
   "metadata": {
    "kernel": "R"
   },
   "source": [
    "## Results for the comparison of annotated m6A peaks"
   ]
  },
  {
   "cell_type": "markdown",
   "id": "b236cc90-b8d3-4c32-83ef-8fbb1005fd47",
   "metadata": {
    "kernel": "R"
   },
   "source": [
    "### Figure 1: The consistency among different context/tissue\n",
    "Define AD variants as variants in 95% CS from any AD GWAS data, we annotate these variants to see how many are m6A peaks. We see that brain m6A annotates more variants than other data-sets. Notice that this is variant level summary not CS level --- you can imagine limitations summarizing it this way, and how this can be improved to loci level summary if needed. I did not push it because I dont think we will use the UpsetR plot anyways, and I will get loci level information in the FET section i suggested."
   ]
  },
  {
   "cell_type": "code",
   "execution_count": 17,
   "id": "47ee20ac-e401-468e-9952-536d8b6e67f8",
   "metadata": {
    "kernel": "R"
   },
   "outputs": [
    {
     "data": {
      "text/html": [
       "<style>\n",
       ".dl-inline {width: auto; margin:0; padding: 0}\n",
       ".dl-inline>dt, .dl-inline>dd {float: none; width: auto; display: inline-block}\n",
       ".dl-inline>dt::after {content: \":\\0020\"; padding-right: .5ex}\n",
       ".dl-inline>dt:not(:first-of-type) {padding-left: .5ex}\n",
       "</style><dl class=dl-inline><dt>brain_cortex</dt><dd>7</dd><dt>GSE114150_Brain</dt><dd>18</dd><dt>GSE114150_Heart</dt><dd>16</dd><dt>GSE114150_Kidney</dt><dd>26</dd><dt>GSE114150_Liver</dt><dd>11</dd><dt>GSE114150_Lung</dt><dd>8</dd><dt>GSE114150_merged</dt><dd>30</dd><dt>GSE114150_Muscle</dt><dd>14</dd><dt>GSE114150_Placenta</dt><dd>19</dd><dt>GSE114150_Stomach</dt><dd>10</dd><dt>hNPC</dt><dd>7</dd></dl>\n"
      ],
      "text/latex": [
       "\\begin{description*}\n",
       "\\item[brain\\textbackslash{}\\_cortex] 7\n",
       "\\item[GSE114150\\textbackslash{}\\_Brain] 18\n",
       "\\item[GSE114150\\textbackslash{}\\_Heart] 16\n",
       "\\item[GSE114150\\textbackslash{}\\_Kidney] 26\n",
       "\\item[GSE114150\\textbackslash{}\\_Liver] 11\n",
       "\\item[GSE114150\\textbackslash{}\\_Lung] 8\n",
       "\\item[GSE114150\\textbackslash{}\\_merged] 30\n",
       "\\item[GSE114150\\textbackslash{}\\_Muscle] 14\n",
       "\\item[GSE114150\\textbackslash{}\\_Placenta] 19\n",
       "\\item[GSE114150\\textbackslash{}\\_Stomach] 10\n",
       "\\item[hNPC] 7\n",
       "\\end{description*}\n"
      ],
      "text/markdown": [
       "brain_cortex\n",
       ":   7GSE114150_Brain\n",
       ":   18GSE114150_Heart\n",
       ":   16GSE114150_Kidney\n",
       ":   26GSE114150_Liver\n",
       ":   11GSE114150_Lung\n",
       ":   8GSE114150_merged\n",
       ":   30GSE114150_Muscle\n",
       ":   14GSE114150_Placenta\n",
       ":   19GSE114150_Stomach\n",
       ":   10hNPC\n",
       ":   7\n",
       "\n"
      ],
      "text/plain": [
       "      brain_cortex    GSE114150_Brain    GSE114150_Heart   GSE114150_Kidney \n",
       "                 7                 18                 16                 26 \n",
       "   GSE114150_Liver     GSE114150_Lung   GSE114150_merged   GSE114150_Muscle \n",
       "                11                  8                 30                 14 \n",
       "GSE114150_Placenta  GSE114150_Stomach               hNPC \n",
       "                19                 10                  7 "
      ]
     },
     "metadata": {},
     "output_type": "display_data"
    },
    {
     "data": {
      "image/png": "[encoded data removed]",
      "text/plain": [
       "plot without title"
      ]
     },
     "metadata": {
      "image/png": {
       "height": 480,
       "width": 840
      }
     },
     "output_type": "display_data"
    }
   ],
   "source": [
    "library(UpSetR)\n",
    "library(tidyr)\n",
    "library(dplyr)\n",
    "\n",
    "options(repr.plot.width=14, repr.plot.height=8)\n",
    "upset_data <- m6a_gene_bed_ad %>%\n",
    "  select(variant_id, context) %>%\n",
    "  distinct() %>%\n",
    "  mutate(present = 1) %>%\n",
    "  spread(key = context, value = present, fill = 0)\n",
    "upset_data[,-1]%>% colSums\n",
    "# Plot the UpSet plot to show how many variants are shared by contexts\n",
    "upset(upset_data, sets = colnames(upset_data)[-1], order.by = \"freq\", text.scale = 2)"
   ]
  },
  {
   "cell_type": "markdown",
   "id": "b82ae7e3-66dd-49a9-b78c-5f076b22c979",
   "metadata": {
    "kernel": "R"
   },
   "source": [
    "### Figure 2: Summarize the proportion of AD risk variants covered by peaks for each context and chromosome\n",
    "Given a CS contain m6A peaks, we want to see what's the proportion of variants in the CS are m6A peaks. It's like how \"pure\" or \"enriched\" a CS is in terms of m6A modification. The goal here is to rule out if we have a very large CS with just one or two variants being m6A sites. And also to see if the overlap is not cluttered on a certain chromosome with large CS --- these are not clear from upsetR plot. Since we condition on CS containing m6A peak this is a relative metric and explains why brain has move CS+m6A overlaps than kidney but within those that are overlap, they behave similar. As I said I think this figure is more of a diagnosis although it does complement Figure 1 to further suggest that brain is interesting."
   ]
  },
  {
   "cell_type": "code",
   "execution_count": 18,
   "id": "404b68f9-9590-4bb6-bde3-64f2b0b51bf5",
   "metadata": {
    "kernel": "R"
   },
   "outputs": [],
   "source": [
    "# Create a contingency table for intersected_data by context and chr\n",
    "m6a_gene_bed_ad_table <- table(m6a_gene_bed_ad$context, m6a_gene_bed_ad$chrom)\n",
    "\n",
    "# Create a table of gwas_bed counts by chromosome\n",
    "gwas_chr_table <- table(gwas_bed$chr)\n",
    "\n",
    "# Subset gwas_chr_table for chromosomes in intersected_table and repeat rows to match contexts\n",
    "gwas_chr_counts <- gwas_chr_table[match(colnames(m6a_gene_bed_ad_table), names(gwas_chr_table))]\n",
    "\n",
    "# Create a matrix where each row corresponds to a context and contains the chr counts from gwas_bed\n",
    "gwas_chr_matrix <- matrix(gwas_chr_counts, nrow = nrow(m6a_gene_bed_ad_table), ncol = length(gwas_chr_counts), byrow = TRUE)\n",
    "\n",
    "# Normalize the intersected_table by the corresponding gwas_bed counts\n",
    "normalized_table <- m6a_gene_bed_ad_table / gwas_chr_matrix\n"
   ]
  },
  {
   "cell_type": "code",
   "execution_count": 19,
   "id": "c5037447-8fb1-41cf-b384-ca999362cc68",
   "metadata": {
    "kernel": "R"
   },
   "outputs": [
    {
     "data": {
      "image/png": "[encoded data removed]",
      "text/plain": [
       "plot without title"
      ]
     },
     "metadata": {
      "image/png": {
       "height": 480,
       "width": 840
      }
     },
     "output_type": "display_data"
    }
   ],
   "source": [
    "# Convert normalized_table to a data frame\n",
    "normalized_df <- as.data.frame(as.table(normalized_table))\n",
    "\n",
    "# Rename columns for clarity\n",
    "colnames(normalized_df) <- c(\"Context\", \"Chromosome\", \"Proportion\")\n",
    "library(ggplot2)\n",
    "\n",
    "# Plot the normalized table as a heatmap\n",
    "ggplot(normalized_df, aes(x = Chromosome, y = Context, fill = Proportion)) +\n",
    "  geom_tile() +   # Use tiles for the heatmap\n",
    "  scale_fill_gradient(low = \"white\", high = \"blue\") +  # Customize colors\n",
    "  labs(title = \"Normalized Proportions of Context by Chromosome\",\n",
    "       x = \"Chromosome\", \n",
    "       y = \"Context\",\n",
    "       fill = \"Proportion\") +\n",
    "  theme_minimal() +\n",
    "  theme(  axis.text.x = element_text(angle = 45, hjust = 1, size = 14),  # Increase font size for x-axis labels\n",
    "    axis.text.y = element_text(size = 14),  # Increase font size for y-axis labels\n",
    "    axis.title.x = element_text(size = 16),  # Increase font size for x-axis title\n",
    "    axis.title.y = element_text(size = 16),  # Increase font size for y-axis title\n",
    "    plot.title = element_text(size = 18)  # Increase font size for plot title\n",
    "  ) "
   ]
  },
  {
   "cell_type": "markdown",
   "id": "3bf24789-a8e1-454a-8a16-0b80b03dcd38",
   "metadata": {
    "kernel": "R"
   },
   "source": [
    "## AD enrichment analysis "
   ]
  },
  {
   "cell_type": "markdown",
   "id": "8f124e3a-aa29-4277-8e82-7ad00a066906",
   "metadata": {
    "kernel": "R"
   },
   "source": [
    "fisher test with 1. m6A and AD loci, 2. m6a and not AD loci, 3. not m6a and AD loci, 4. not m6a and not AD loci"
   ]
  },
  {
   "cell_type": "markdown",
   "id": "86bd7d20-e8ef-47ff-9e2a-dc8d61776a48",
   "metadata": {
    "kernel": "R"
   },
   "source": [
    "m6a_gene_bed_ad is the peak regions has AD variants in them "
   ]
  },
  {
   "cell_type": "code",
   "execution_count": 20,
   "id": "c694fe72-ce59-470d-9369-5c8ba46901c4",
   "metadata": {
    "kernel": "R"
   },
   "outputs": [
    {
     "data": {
      "text/html": [
       "<table class=\"dataframe\">\n",
       "<caption>A data.frame: 37 × 16</caption>\n",
       "<thead>\n",
       "\t<tr><th scope=col>chrom</th><th scope=col>start</th><th scope=col>end</th><th scope=col>hg38_ID</th><th scope=col>context</th><th scope=col>gene_id</th><th scope=col>gene_name</th><th scope=col>chr</th><th scope=col>start_variant</th><th scope=col>end_variant</th><th scope=col>variant_id</th><th scope=col>z</th><th scope=col>pip</th><th scope=col>cs_coverage_0.95_min_corr</th><th scope=col>block</th><th scope=col>study</th></tr>\n",
       "\t<tr><th scope=col>&lt;chr&gt;</th><th scope=col>&lt;int&gt;</th><th scope=col>&lt;int&gt;</th><th scope=col>&lt;chr&gt;</th><th scope=col>&lt;chr&gt;</th><th scope=col>&lt;chr&gt;</th><th scope=col>&lt;chr&gt;</th><th scope=col>&lt;chr&gt;</th><th scope=col>&lt;int&gt;</th><th scope=col>&lt;int&gt;</th><th scope=col>&lt;chr&gt;</th><th scope=col>&lt;dbl&gt;</th><th scope=col>&lt;dbl&gt;</th><th scope=col>&lt;int&gt;</th><th scope=col>&lt;chr&gt;</th><th scope=col>&lt;chr&gt;</th></tr>\n",
       "</thead>\n",
       "<tbody>\n",
       "\t<tr><td>chr10</td><td> 58269167</td><td> 58269407</td><td>chr10:58269167:58269407  </td><td>GSE114150_merged</td><td>ENSG00000122873</td><td>CISD1  </td><td>chr10</td><td> 58269403</td><td> 58269403</td><td>10:58269403:C:T </td><td>-4.010101</td><td>0.003389421</td><td> 1</td><td>chr10_57667362_59558848  </td><td>AD_Bellenguez_2022</td></tr>\n",
       "\t<tr><td>chr10</td><td> 96266187</td><td> 96266701</td><td>chr10:96266187:96266701  </td><td>GSE114150_merged</td><td>ENSG00000095585</td><td>BLNK   </td><td>chr10</td><td> 96266318</td><td> 96266318</td><td>10:96266318:A:G </td><td> 5.182243</td><td>0.032637387</td><td> 1</td><td>chr10_95280986_98320874  </td><td>AD_Bellenguez_2022</td></tr>\n",
       "\t<tr><td>chr10</td><td> 96266187</td><td> 96266701</td><td>chr10:96266187:96266701  </td><td>GSE114150_merged</td><td>ENSG00000095585</td><td>BLNK   </td><td>chr10</td><td> 96266554</td><td> 96266554</td><td>10:96266554:A:G </td><td> 5.205607</td><td>0.036940414</td><td> 1</td><td>chr10_95280986_98320874  </td><td>AD_Bellenguez_2022</td></tr>\n",
       "\t<tr><td>chr10</td><td> 96266187</td><td> 96266701</td><td>chr10:96266187:96266701  </td><td>GSE114150_merged</td><td>ENSG00000095585</td><td>BLNK   </td><td>chr10</td><td> 96266650</td><td> 96266650</td><td>10:96266650:G:A </td><td> 5.224299</td><td>0.040605957</td><td> 1</td><td>chr10_95280986_98320874  </td><td>AD_Bellenguez_2022</td></tr>\n",
       "\t<tr><td>chr12</td><td>113158529</td><td>113159178</td><td>chr12:113158529:113159178</td><td>GSE114150_merged</td><td>ENSG00000186710</td><td>CFAP73 </td><td>chr12</td><td>113159061</td><td>113159061</td><td>12:113159061:G:A</td><td> 4.575949</td><td>0.006127578</td><td> 1</td><td>chr12_112825713_115165608</td><td>AD_Bellenguez_2022</td></tr>\n",
       "\t<tr><td>chr12</td><td>113158529</td><td>113159178</td><td>chr12:113158529:113159178</td><td>GSE114150_merged</td><td>ENSG00000123064</td><td>DDX54  </td><td>chr12</td><td>113159061</td><td>113159061</td><td>12:113159061:G:A</td><td> 4.575949</td><td>0.006127578</td><td> 1</td><td>chr12_112825713_115165608</td><td>AD_Bellenguez_2022</td></tr>\n",
       "\t<tr><td>chr12</td><td>113161818</td><td>113162088</td><td>chr12:113161818:113162088</td><td>GSE114150_merged</td><td>ENSG00000123064</td><td>DDX54  </td><td>chr12</td><td>113162061</td><td>113162061</td><td>12:113162061:T:C</td><td> 4.490323</td><td>0.004234860</td><td> 1</td><td>chr12_112825713_115165608</td><td>AD_Bellenguez_2022</td></tr>\n",
       "\t<tr><td>chr12</td><td>113162795</td><td>113163268</td><td>chr12:113162795:113163268</td><td>GSE114150_merged</td><td>ENSG00000123064</td><td>DDX54  </td><td>chr12</td><td>113163098</td><td>113163098</td><td>12:113163098:A:G</td><td> 4.483871</td><td>0.004119767</td><td> 1</td><td>chr12_112825713_115165608</td><td>AD_Bellenguez_2022</td></tr>\n",
       "\t<tr><td>chr12</td><td>113162795</td><td>113163268</td><td>chr12:113162795:113163268</td><td>GSE114150_merged</td><td>ENSG00000123064</td><td>DDX54  </td><td>chr12</td><td>113163135</td><td>113163135</td><td>12:113163135:C:T</td><td> 4.518987</td><td>0.004788665</td><td> 1</td><td>chr12_112825713_115165608</td><td>AD_Bellenguez_2022</td></tr>\n",
       "\t<tr><td>chr12</td><td>113191735</td><td>113192065</td><td>chr12:113191735:113192065</td><td>GSE114150_merged</td><td>ENSG00000139405</td><td>RITA1  </td><td>chr12</td><td>113191832</td><td>113191832</td><td>12:113191832:G:A</td><td> 4.449367</td><td>0.003557680</td><td> 1</td><td>chr12_112825713_115165608</td><td>AD_Bellenguez_2022</td></tr>\n",
       "\t<tr><td>chr12</td><td>113220931</td><td>113221081</td><td>chr12:113220931:113221081</td><td>GSE114150_merged</td><td>ENSG00000166578</td><td>IQCD   </td><td>chr12</td><td>113221042</td><td>113221042</td><td>12:113221042:G:A</td><td> 4.563291</td><td>0.005799341</td><td> 1</td><td>chr12_112825713_115165608</td><td>AD_Bellenguez_2022</td></tr>\n",
       "\t<tr><td>chr12</td><td>113220931</td><td>113221081</td><td>chr12:113220931:113221081</td><td>GSE114150_merged</td><td>ENSG00000186815</td><td>TPCN1  </td><td>chr12</td><td>113221042</td><td>113221042</td><td>12:113221042:G:A</td><td> 4.563291</td><td>0.005799341</td><td> 1</td><td>chr12_112825713_115165608</td><td>AD_Bellenguez_2022</td></tr>\n",
       "\t<tr><td>chr12</td><td>113295999</td><td>113296786</td><td>chr12:113295999:113296786</td><td>GSE114150_merged</td><td>ENSG00000186815</td><td>TPCN1  </td><td>chr12</td><td>113296025</td><td>113296025</td><td>12:113296025:C:T</td><td> 4.606250</td><td>0.006995084</td><td> 1</td><td>chr12_112825713_115165608</td><td>AD_Bellenguez_2022</td></tr>\n",
       "\t<tr><td>chr12</td><td>113295999</td><td>113296786</td><td>chr12:113295999:113296786</td><td>GSE114150_merged</td><td>ENSG00000186815</td><td>TPCN1  </td><td>chr12</td><td>113296542</td><td>113296542</td><td>12:113296542:G:A</td><td> 4.593750</td><td>0.006622541</td><td> 1</td><td>chr12_112825713_115165608</td><td>AD_Bellenguez_2022</td></tr>\n",
       "\t<tr><td>chr12</td><td>113295999</td><td>113296786</td><td>chr12:113295999:113296786</td><td>GSE114150_merged</td><td>ENSG00000186815</td><td>TPCN1  </td><td>chr12</td><td>113296659</td><td>113296659</td><td>12:113296659:A:G</td><td> 4.537500</td><td>0.005186406</td><td> 1</td><td>chr12_112825713_115165608</td><td>AD_Bellenguez_2022</td></tr>\n",
       "\t<tr><td>chr12</td><td>113299197</td><td>113300018</td><td>chr12:113299197:113300018</td><td>GSE114150_merged</td><td>ENSG00000089060</td><td>SLC8B1 </td><td>chr12</td><td>113299825</td><td>113299825</td><td>12:113299825:G:A</td><td> 4.600000</td><td>0.006806138</td><td> 1</td><td>chr12_112825713_115165608</td><td>AD_Bellenguez_2022</td></tr>\n",
       "\t<tr><td>chr15</td><td> 58692838</td><td> 58693104</td><td>chr15:58692838:58693104  </td><td>GSE114150_merged</td><td>ENSG00000137845</td><td>ADAM10 </td><td>chr15</td><td> 58692965</td><td> 58692965</td><td>15:58692965:T:G </td><td>-6.527473</td><td>0.032327348</td><td> 1</td><td>chr15_58149891_59314387  </td><td>AD_Bellenguez_2022</td></tr>\n",
       "\t<tr><td>chr19</td><td>  1847506</td><td>  1848461</td><td>chr19:1847506:1848461    </td><td>GSE114150_merged</td><td>ENSG00000079313</td><td>REXO1  </td><td>chr19</td><td>  1847744</td><td>  1847744</td><td>19:1847744:G:A  </td><td>-5.659091</td><td>0.061457253</td><td> 1</td><td>chr19_1507536_3368979    </td><td>AD_Bellenguez_2022</td></tr>\n",
       "\t<tr><td>chr19</td><td>  1854085</td><td>  1854788</td><td>chr19:1854085:1854788    </td><td>GSE114150_merged</td><td>ENSG00000129911</td><td>KLF16  </td><td>chr19</td><td>  1854152</td><td>  1854152</td><td>19:1854152:G:C  </td><td>-5.733333</td><td>0.096541324</td><td> 1</td><td>chr19_1507536_3368979    </td><td>AD_Bellenguez_2022</td></tr>\n",
       "\t<tr><td>chr19</td><td>  1854085</td><td>  1854788</td><td>chr19:1854085:1854788    </td><td>GSE114150_merged</td><td>ENSG00000129911</td><td>KLF16  </td><td>chr19</td><td>  1854254</td><td>  1854254</td><td>19:1854254:G:GC </td><td>-5.815217</td><td>0.165940073</td><td> 1</td><td>chr19_1507536_3368979    </td><td>AD_Bellenguez_2022</td></tr>\n",
       "\t<tr><td>chr19</td><td> 44859766</td><td> 44860140</td><td>chr19:44859766:44860140  </td><td>GSE114150_merged</td><td>ENSG00000130202</td><td>NECTIN2</td><td>chr19</td><td> 44859997</td><td> 44859997</td><td>19:44859997:G:A </td><td>10.449438</td><td>0.192689914</td><td>15</td><td>chr19_42346101_44935906  </td><td>AD_Bellenguez_2022</td></tr>\n",
       "\t<tr><td>chr2 </td><td>134953712</td><td>134954712</td><td>chr2:134953245:134955180 </td><td>GSE114150_merged</td><td>ENSG00000082258</td><td>CCNT2  </td><td>chr2 </td><td>134953946</td><td>134953946</td><td>2:134953946:C:T </td><td> 4.535714</td><td>0.010923557</td><td> 1</td><td>chr2_134400811_137009736 </td><td>AD_Bellenguez_2022</td></tr>\n",
       "\t<tr><td>chr2 </td><td>134953712</td><td>134954712</td><td>chr2:134953245:134955180 </td><td>GSE114150_merged</td><td>ENSG00000082258</td><td>CCNT2  </td><td>chr2 </td><td>134954087</td><td>134954087</td><td>2:134954087:G:A </td><td> 4.511905</td><td>0.009860142</td><td> 1</td><td>chr2_134400811_137009736 </td><td>AD_Bellenguez_2022</td></tr>\n",
       "\t<tr><td>chr2 </td><td>202843035</td><td>202843434</td><td>chr2:202843035:202843434 </td><td>GSE114150_merged</td><td>ENSG00000163596</td><td>ICA1L  </td><td>chr2 </td><td>202843155</td><td>202843155</td><td>2:202843155:G:A </td><td>-5.008333</td><td>0.004282488</td><td> 1</td><td>chr2_201677542_203951659 </td><td>AD_Bellenguez_2022</td></tr>\n",
       "\t<tr><td>chr2 </td><td>202924671</td><td>202925412</td><td>chr2:202924671:202925412 </td><td>GSE114150_merged</td><td>ENSG00000138442</td><td>WDR12  </td><td>chr2 </td><td>202924956</td><td>202924956</td><td>2:202924956:C:T </td><td>-5.025000</td><td>0.004598489</td><td> 1</td><td>chr2_201677542_203951659 </td><td>AD_Bellenguez_2022</td></tr>\n",
       "\t<tr><td>chr2 </td><td>202924671</td><td>202925412</td><td>chr2:202924671:202925412 </td><td>GSE114150_merged</td><td>ENSG00000138380</td><td>CARF   </td><td>chr2 </td><td>202924956</td><td>202924956</td><td>2:202924956:C:T </td><td>-5.025000</td><td>0.004598489</td><td> 1</td><td>chr2_201677542_203951659 </td><td>AD_Bellenguez_2022</td></tr>\n",
       "\t<tr><td>chr2 </td><td>202925517</td><td>202926271</td><td>chr2:202925517:202926271 </td><td>GSE114150_merged</td><td>ENSG00000138442</td><td>WDR12  </td><td>chr2 </td><td>202926166</td><td>202926166</td><td>2:202926166:T:C </td><td>-5.016667</td><td>0.004437132</td><td> 1</td><td>chr2_201677542_203951659 </td><td>AD_Bellenguez_2022</td></tr>\n",
       "\t<tr><td>chr2 </td><td>202925517</td><td>202926271</td><td>chr2:202925517:202926271 </td><td>GSE114150_merged</td><td>ENSG00000138380</td><td>CARF   </td><td>chr2 </td><td>202926166</td><td>202926166</td><td>2:202926166:T:C </td><td>-5.016667</td><td>0.004437132</td><td> 1</td><td>chr2_201677542_203951659 </td><td>AD_Bellenguez_2022</td></tr>\n",
       "\t<tr><td>chr2 </td><td>202946507</td><td>202947507</td><td>chr2:202946437:202947578 </td><td>GSE114150_merged</td><td>ENSG00000138442</td><td>WDR12  </td><td>chr2 </td><td>202946905</td><td>202946905</td><td>2:202946905:G:A </td><td>-4.983333</td><td>0.003854730</td><td> 1</td><td>chr2_201677542_203951659 </td><td>AD_Bellenguez_2022</td></tr>\n",
       "\t<tr><td>chr2 </td><td>202946507</td><td>202947507</td><td>chr2:202946437:202947578 </td><td>GSE114150_merged</td><td>ENSG00000138442</td><td>WDR12  </td><td>chr2 </td><td>202947189</td><td>202947189</td><td>2:202947189:A:C </td><td>-5.008333</td><td>0.004282178</td><td> 1</td><td>chr2_201677542_203951659 </td><td>AD_Bellenguez_2022</td></tr>\n",
       "\t<tr><td>chr2 </td><td>202946507</td><td>202947507</td><td>chr2:202946437:202947578 </td><td>GSE114150_merged</td><td>ENSG00000138380</td><td>CARF   </td><td>chr2 </td><td>202946905</td><td>202946905</td><td>2:202946905:G:A </td><td>-4.983333</td><td>0.003854730</td><td> 1</td><td>chr2_201677542_203951659 </td><td>AD_Bellenguez_2022</td></tr>\n",
       "\t<tr><td>chr2 </td><td>202946507</td><td>202947507</td><td>chr2:202946437:202947578 </td><td>GSE114150_merged</td><td>ENSG00000138380</td><td>CARF   </td><td>chr2 </td><td>202947189</td><td>202947189</td><td>2:202947189:A:C </td><td>-5.008333</td><td>0.004282178</td><td> 1</td><td>chr2_201677542_203951659 </td><td>AD_Bellenguez_2022</td></tr>\n",
       "\t<tr><td>chr2 </td><td>202983419</td><td>202983767</td><td>chr2:202983419:202983767 </td><td>GSE114150_merged</td><td>ENSG00000138442</td><td>WDR12  </td><td>chr2 </td><td>202983679</td><td>202983679</td><td>2:202983679:G:A </td><td>-5.008333</td><td>0.004282489</td><td> 1</td><td>chr2_201677542_203951659 </td><td>AD_Bellenguez_2022</td></tr>\n",
       "\t<tr><td>chr2 </td><td>202983419</td><td>202983767</td><td>chr2:202983419:202983767 </td><td>GSE114150_merged</td><td>ENSG00000138380</td><td>CARF   </td><td>chr2 </td><td>202983679</td><td>202983679</td><td>2:202983679:G:A </td><td>-5.008333</td><td>0.004282489</td><td> 1</td><td>chr2_201677542_203951659 </td><td>AD_Bellenguez_2022</td></tr>\n",
       "\t<tr><td>chr5 </td><td>177515977</td><td>177516942</td><td>chr5:177515977:177516942 </td><td>GSE114150_merged</td><td>ENSG00000183258</td><td>DDX41  </td><td>chr5 </td><td>177516672</td><td>177516672</td><td>5:177516672:C:T </td><td> 4.424731</td><td>0.040098390</td><td> 1</td><td>chr5_176014330_177963776 </td><td>AD_Bellenguez_2022</td></tr>\n",
       "\t<tr><td>chr7 </td><td>100374156</td><td>100374656</td><td>chr7:100374156:100374656 </td><td>GSE114150_merged</td><td>ENSG00000085514</td><td>PILRA  </td><td>chr7 </td><td>100374211</td><td>100374211</td><td>7:100374211:A:G </td><td> 8.556818</td><td>0.205500185</td><td> 1</td><td>chr7_98297733_101733715  </td><td>AD_Bellenguez_2022</td></tr>\n",
       "\t<tr><td>chr8 </td><td> 27604941</td><td> 27605369</td><td>chr8:27604941:27605369   </td><td>GSE114150_merged</td><td>ENSG00000120885</td><td>CLU    </td><td>chr8 </td><td> 27604964</td><td> 27604964</td><td>8:27604964:A:G  </td><td>11.963855</td><td>0.037208520</td><td> 1</td><td>chr8_27515963_29469590   </td><td>AD_Bellenguez_2022</td></tr>\n",
       "</tbody>\n",
       "</table>\n"
      ],
      "text/latex": [
       "A data.frame: 37 × 16\n",
       "\\begin{tabular}{llllllllllllllll}\n",
       " chrom & start & end & hg38\\_ID & context & gene\\_id & gene\\_name & chr & start\\_variant & end\\_variant & variant\\_id & z & pip & cs\\_coverage\\_0.95\\_min\\_corr & block & study\\\\\n",
       " <chr> & <int> & <int> & <chr> & <chr> & <chr> & <chr> & <chr> & <int> & <int> & <chr> & <dbl> & <dbl> & <int> & <chr> & <chr>\\\\\n",
       "\\hline\n",
       "\t chr10 &  58269167 &  58269407 & chr10:58269167:58269407   & GSE114150\\_merged & ENSG00000122873 & CISD1   & chr10 &  58269403 &  58269403 & 10:58269403:C:T  & -4.010101 & 0.003389421 &  1 & chr10\\_57667362\\_59558848   & AD\\_Bellenguez\\_2022\\\\\n",
       "\t chr10 &  96266187 &  96266701 & chr10:96266187:96266701   & GSE114150\\_merged & ENSG00000095585 & BLNK    & chr10 &  96266318 &  96266318 & 10:96266318:A:G  &  5.182243 & 0.032637387 &  1 & chr10\\_95280986\\_98320874   & AD\\_Bellenguez\\_2022\\\\\n",
       "\t chr10 &  96266187 &  96266701 & chr10:96266187:96266701   & GSE114150\\_merged & ENSG00000095585 & BLNK    & chr10 &  96266554 &  96266554 & 10:96266554:A:G  &  5.205607 & 0.036940414 &  1 & chr10\\_95280986\\_98320874   & AD\\_Bellenguez\\_2022\\\\\n",
       "\t chr10 &  96266187 &  96266701 & chr10:96266187:96266701   & GSE114150\\_merged & ENSG00000095585 & BLNK    & chr10 &  96266650 &  96266650 & 10:96266650:G:A  &  5.224299 & 0.040605957 &  1 & chr10\\_95280986\\_98320874   & AD\\_Bellenguez\\_2022\\\\\n",
       "\t chr12 & 113158529 & 113159178 & chr12:113158529:113159178 & GSE114150\\_merged & ENSG00000186710 & CFAP73  & chr12 & 113159061 & 113159061 & 12:113159061:G:A &  4.575949 & 0.006127578 &  1 & chr12\\_112825713\\_115165608 & AD\\_Bellenguez\\_2022\\\\\n",
       "\t chr12 & 113158529 & 113159178 & chr12:113158529:113159178 & GSE114150\\_merged & ENSG00000123064 & DDX54   & chr12 & 113159061 & 113159061 & 12:113159061:G:A &  4.575949 & 0.006127578 &  1 & chr12\\_112825713\\_115165608 & AD\\_Bellenguez\\_2022\\\\\n",
       "\t chr12 & 113161818 & 113162088 & chr12:113161818:113162088 & GSE114150\\_merged & ENSG00000123064 & DDX54   & chr12 & 113162061 & 113162061 & 12:113162061:T:C &  4.490323 & 0.004234860 &  1 & chr12\\_112825713\\_115165608 & AD\\_Bellenguez\\_2022\\\\\n",
       "\t chr12 & 113162795 & 113163268 & chr12:113162795:113163268 & GSE114150\\_merged & ENSG00000123064 & DDX54   & chr12 & 113163098 & 113163098 & 12:113163098:A:G &  4.483871 & 0.004119767 &  1 & chr12\\_112825713\\_115165608 & AD\\_Bellenguez\\_2022\\\\\n",
       "\t chr12 & 113162795 & 113163268 & chr12:113162795:113163268 & GSE114150\\_merged & ENSG00000123064 & DDX54   & chr12 & 113163135 & 113163135 & 12:113163135:C:T &  4.518987 & 0.004788665 &  1 & chr12\\_112825713\\_115165608 & AD\\_Bellenguez\\_2022\\\\\n",
       "\t chr12 & 113191735 & 113192065 & chr12:113191735:113192065 & GSE114150\\_merged & ENSG00000139405 & RITA1   & chr12 & 113191832 & 113191832 & 12:113191832:G:A &  4.449367 & 0.003557680 &  1 & chr12\\_112825713\\_115165608 & AD\\_Bellenguez\\_2022\\\\\n",
       "\t chr12 & 113220931 & 113221081 & chr12:113220931:113221081 & GSE114150\\_merged & ENSG00000166578 & IQCD    & chr12 & 113221042 & 113221042 & 12:113221042:G:A &  4.563291 & 0.005799341 &  1 & chr12\\_112825713\\_115165608 & AD\\_Bellenguez\\_2022\\\\\n",
       "\t chr12 & 113220931 & 113221081 & chr12:113220931:113221081 & GSE114150\\_merged & ENSG00000186815 & TPCN1   & chr12 & 113221042 & 113221042 & 12:113221042:G:A &  4.563291 & 0.005799341 &  1 & chr12\\_112825713\\_115165608 & AD\\_Bellenguez\\_2022\\\\\n",
       "\t chr12 & 113295999 & 113296786 & chr12:113295999:113296786 & GSE114150\\_merged & ENSG00000186815 & TPCN1   & chr12 & 113296025 & 113296025 & 12:113296025:C:T &  4.606250 & 0.006995084 &  1 & chr12\\_112825713\\_115165608 & AD\\_Bellenguez\\_2022\\\\\n",
       "\t chr12 & 113295999 & 113296786 & chr12:113295999:113296786 & GSE114150\\_merged & ENSG00000186815 & TPCN1   & chr12 & 113296542 & 113296542 & 12:113296542:G:A &  4.593750 & 0.006622541 &  1 & chr12\\_112825713\\_115165608 & AD\\_Bellenguez\\_2022\\\\\n",
       "\t chr12 & 113295999 & 113296786 & chr12:113295999:113296786 & GSE114150\\_merged & ENSG00000186815 & TPCN1   & chr12 & 113296659 & 113296659 & 12:113296659:A:G &  4.537500 & 0.005186406 &  1 & chr12\\_112825713\\_115165608 & AD\\_Bellenguez\\_2022\\\\\n",
       "\t chr12 & 113299197 & 113300018 & chr12:113299197:113300018 & GSE114150\\_merged & ENSG00000089060 & SLC8B1  & chr12 & 113299825 & 113299825 & 12:113299825:G:A &  4.600000 & 0.006806138 &  1 & chr12\\_112825713\\_115165608 & AD\\_Bellenguez\\_2022\\\\\n",
       "\t chr15 &  58692838 &  58693104 & chr15:58692838:58693104   & GSE114150\\_merged & ENSG00000137845 & ADAM10  & chr15 &  58692965 &  58692965 & 15:58692965:T:G  & -6.527473 & 0.032327348 &  1 & chr15\\_58149891\\_59314387   & AD\\_Bellenguez\\_2022\\\\\n",
       "\t chr19 &   1847506 &   1848461 & chr19:1847506:1848461     & GSE114150\\_merged & ENSG00000079313 & REXO1   & chr19 &   1847744 &   1847744 & 19:1847744:G:A   & -5.659091 & 0.061457253 &  1 & chr19\\_1507536\\_3368979     & AD\\_Bellenguez\\_2022\\\\\n",
       "\t chr19 &   1854085 &   1854788 & chr19:1854085:1854788     & GSE114150\\_merged & ENSG00000129911 & KLF16   & chr19 &   1854152 &   1854152 & 19:1854152:G:C   & -5.733333 & 0.096541324 &  1 & chr19\\_1507536\\_3368979     & AD\\_Bellenguez\\_2022\\\\\n",
       "\t chr19 &   1854085 &   1854788 & chr19:1854085:1854788     & GSE114150\\_merged & ENSG00000129911 & KLF16   & chr19 &   1854254 &   1854254 & 19:1854254:G:GC  & -5.815217 & 0.165940073 &  1 & chr19\\_1507536\\_3368979     & AD\\_Bellenguez\\_2022\\\\\n",
       "\t chr19 &  44859766 &  44860140 & chr19:44859766:44860140   & GSE114150\\_merged & ENSG00000130202 & NECTIN2 & chr19 &  44859997 &  44859997 & 19:44859997:G:A  & 10.449438 & 0.192689914 & 15 & chr19\\_42346101\\_44935906   & AD\\_Bellenguez\\_2022\\\\\n",
       "\t chr2  & 134953712 & 134954712 & chr2:134953245:134955180  & GSE114150\\_merged & ENSG00000082258 & CCNT2   & chr2  & 134953946 & 134953946 & 2:134953946:C:T  &  4.535714 & 0.010923557 &  1 & chr2\\_134400811\\_137009736  & AD\\_Bellenguez\\_2022\\\\\n",
       "\t chr2  & 134953712 & 134954712 & chr2:134953245:134955180  & GSE114150\\_merged & ENSG00000082258 & CCNT2   & chr2  & 134954087 & 134954087 & 2:134954087:G:A  &  4.511905 & 0.009860142 &  1 & chr2\\_134400811\\_137009736  & AD\\_Bellenguez\\_2022\\\\\n",
       "\t chr2  & 202843035 & 202843434 & chr2:202843035:202843434  & GSE114150\\_merged & ENSG00000163596 & ICA1L   & chr2  & 202843155 & 202843155 & 2:202843155:G:A  & -5.008333 & 0.004282488 &  1 & chr2\\_201677542\\_203951659  & AD\\_Bellenguez\\_2022\\\\\n",
       "\t chr2  & 202924671 & 202925412 & chr2:202924671:202925412  & GSE114150\\_merged & ENSG00000138442 & WDR12   & chr2  & 202924956 & 202924956 & 2:202924956:C:T  & -5.025000 & 0.004598489 &  1 & chr2\\_201677542\\_203951659  & AD\\_Bellenguez\\_2022\\\\\n",
       "\t chr2  & 202924671 & 202925412 & chr2:202924671:202925412  & GSE114150\\_merged & ENSG00000138380 & CARF    & chr2  & 202924956 & 202924956 & 2:202924956:C:T  & -5.025000 & 0.004598489 &  1 & chr2\\_201677542\\_203951659  & AD\\_Bellenguez\\_2022\\\\\n",
       "\t chr2  & 202925517 & 202926271 & chr2:202925517:202926271  & GSE114150\\_merged & ENSG00000138442 & WDR12   & chr2  & 202926166 & 202926166 & 2:202926166:T:C  & -5.016667 & 0.004437132 &  1 & chr2\\_201677542\\_203951659  & AD\\_Bellenguez\\_2022\\\\\n",
       "\t chr2  & 202925517 & 202926271 & chr2:202925517:202926271  & GSE114150\\_merged & ENSG00000138380 & CARF    & chr2  & 202926166 & 202926166 & 2:202926166:T:C  & -5.016667 & 0.004437132 &  1 & chr2\\_201677542\\_203951659  & AD\\_Bellenguez\\_2022\\\\\n",
       "\t chr2  & 202946507 & 202947507 & chr2:202946437:202947578  & GSE114150\\_merged & ENSG00000138442 & WDR12   & chr2  & 202946905 & 202946905 & 2:202946905:G:A  & -4.983333 & 0.003854730 &  1 & chr2\\_201677542\\_203951659  & AD\\_Bellenguez\\_2022\\\\\n",
       "\t chr2  & 202946507 & 202947507 & chr2:202946437:202947578  & GSE114150\\_merged & ENSG00000138442 & WDR12   & chr2  & 202947189 & 202947189 & 2:202947189:A:C  & -5.008333 & 0.004282178 &  1 & chr2\\_201677542\\_203951659  & AD\\_Bellenguez\\_2022\\\\\n",
       "\t chr2  & 202946507 & 202947507 & chr2:202946437:202947578  & GSE114150\\_merged & ENSG00000138380 & CARF    & chr2  & 202946905 & 202946905 & 2:202946905:G:A  & -4.983333 & 0.003854730 &  1 & chr2\\_201677542\\_203951659  & AD\\_Bellenguez\\_2022\\\\\n",
       "\t chr2  & 202946507 & 202947507 & chr2:202946437:202947578  & GSE114150\\_merged & ENSG00000138380 & CARF    & chr2  & 202947189 & 202947189 & 2:202947189:A:C  & -5.008333 & 0.004282178 &  1 & chr2\\_201677542\\_203951659  & AD\\_Bellenguez\\_2022\\\\\n",
       "\t chr2  & 202983419 & 202983767 & chr2:202983419:202983767  & GSE114150\\_merged & ENSG00000138442 & WDR12   & chr2  & 202983679 & 202983679 & 2:202983679:G:A  & -5.008333 & 0.004282489 &  1 & chr2\\_201677542\\_203951659  & AD\\_Bellenguez\\_2022\\\\\n",
       "\t chr2  & 202983419 & 202983767 & chr2:202983419:202983767  & GSE114150\\_merged & ENSG00000138380 & CARF    & chr2  & 202983679 & 202983679 & 2:202983679:G:A  & -5.008333 & 0.004282489 &  1 & chr2\\_201677542\\_203951659  & AD\\_Bellenguez\\_2022\\\\\n",
       "\t chr5  & 177515977 & 177516942 & chr5:177515977:177516942  & GSE114150\\_merged & ENSG00000183258 & DDX41   & chr5  & 177516672 & 177516672 & 5:177516672:C:T  &  4.424731 & 0.040098390 &  1 & chr5\\_176014330\\_177963776  & AD\\_Bellenguez\\_2022\\\\\n",
       "\t chr7  & 100374156 & 100374656 & chr7:100374156:100374656  & GSE114150\\_merged & ENSG00000085514 & PILRA   & chr7  & 100374211 & 100374211 & 7:100374211:A:G  &  8.556818 & 0.205500185 &  1 & chr7\\_98297733\\_101733715   & AD\\_Bellenguez\\_2022\\\\\n",
       "\t chr8  &  27604941 &  27605369 & chr8:27604941:27605369    & GSE114150\\_merged & ENSG00000120885 & CLU     & chr8  &  27604964 &  27604964 & 8:27604964:A:G   & 11.963855 & 0.037208520 &  1 & chr8\\_27515963\\_29469590    & AD\\_Bellenguez\\_2022\\\\\n",
       "\\end{tabular}\n"
      ],
      "text/markdown": [
       "\n",
       "A data.frame: 37 × 16\n",
       "\n",
       "| chrom &lt;chr&gt; | start &lt;int&gt; | end &lt;int&gt; | hg38_ID &lt;chr&gt; | context &lt;chr&gt; | gene_id &lt;chr&gt; | gene_name &lt;chr&gt; | chr &lt;chr&gt; | start_variant &lt;int&gt; | end_variant &lt;int&gt; | variant_id &lt;chr&gt; | z &lt;dbl&gt; | pip &lt;dbl&gt; | cs_coverage_0.95_min_corr &lt;int&gt; | block &lt;chr&gt; | study &lt;chr&gt; |\n",
       "|---|---|---|---|---|---|---|---|---|---|---|---|---|---|---|---|\n",
       "| chr10 |  58269167 |  58269407 | chr10:58269167:58269407   | GSE114150_merged | ENSG00000122873 | CISD1   | chr10 |  58269403 |  58269403 | 10:58269403:C:T  | -4.010101 | 0.003389421 |  1 | chr10_57667362_59558848   | AD_Bellenguez_2022 |\n",
       "| chr10 |  96266187 |  96266701 | chr10:96266187:96266701   | GSE114150_merged | ENSG00000095585 | BLNK    | chr10 |  96266318 |  96266318 | 10:96266318:A:G  |  5.182243 | 0.032637387 |  1 | chr10_95280986_98320874   | AD_Bellenguez_2022 |\n",
       "| chr10 |  96266187 |  96266701 | chr10:96266187:96266701   | GSE114150_merged | ENSG00000095585 | BLNK    | chr10 |  96266554 |  96266554 | 10:96266554:A:G  |  5.205607 | 0.036940414 |  1 | chr10_95280986_98320874   | AD_Bellenguez_2022 |\n",
       "| chr10 |  96266187 |  96266701 | chr10:96266187:96266701   | GSE114150_merged | ENSG00000095585 | BLNK    | chr10 |  96266650 |  96266650 | 10:96266650:G:A  |  5.224299 | 0.040605957 |  1 | chr10_95280986_98320874   | AD_Bellenguez_2022 |\n",
       "| chr12 | 113158529 | 113159178 | chr12:113158529:113159178 | GSE114150_merged | ENSG00000186710 | CFAP73  | chr12 | 113159061 | 113159061 | 12:113159061:G:A |  4.575949 | 0.006127578 |  1 | chr12_112825713_115165608 | AD_Bellenguez_2022 |\n",
       "| chr12 | 113158529 | 113159178 | chr12:113158529:113159178 | GSE114150_merged | ENSG00000123064 | DDX54   | chr12 | 113159061 | 113159061 | 12:113159061:G:A |  4.575949 | 0.006127578 |  1 | chr12_112825713_115165608 | AD_Bellenguez_2022 |\n",
       "| chr12 | 113161818 | 113162088 | chr12:113161818:113162088 | GSE114150_merged | ENSG00000123064 | DDX54   | chr12 | 113162061 | 113162061 | 12:113162061:T:C |  4.490323 | 0.004234860 |  1 | chr12_112825713_115165608 | AD_Bellenguez_2022 |\n",
       "| chr12 | 113162795 | 113163268 | chr12:113162795:113163268 | GSE114150_merged | ENSG00000123064 | DDX54   | chr12 | 113163098 | 113163098 | 12:113163098:A:G |  4.483871 | 0.004119767 |  1 | chr12_112825713_115165608 | AD_Bellenguez_2022 |\n",
       "| chr12 | 113162795 | 113163268 | chr12:113162795:113163268 | GSE114150_merged | ENSG00000123064 | DDX54   | chr12 | 113163135 | 113163135 | 12:113163135:C:T |  4.518987 | 0.004788665 |  1 | chr12_112825713_115165608 | AD_Bellenguez_2022 |\n",
       "| chr12 | 113191735 | 113192065 | chr12:113191735:113192065 | GSE114150_merged | ENSG00000139405 | RITA1   | chr12 | 113191832 | 113191832 | 12:113191832:G:A |  4.449367 | 0.003557680 |  1 | chr12_112825713_115165608 | AD_Bellenguez_2022 |\n",
       "| chr12 | 113220931 | 113221081 | chr12:113220931:113221081 | GSE114150_merged | ENSG00000166578 | IQCD    | chr12 | 113221042 | 113221042 | 12:113221042:G:A |  4.563291 | 0.005799341 |  1 | chr12_112825713_115165608 | AD_Bellenguez_2022 |\n",
       "| chr12 | 113220931 | 113221081 | chr12:113220931:113221081 | GSE114150_merged | ENSG00000186815 | TPCN1   | chr12 | 113221042 | 113221042 | 12:113221042:G:A |  4.563291 | 0.005799341 |  1 | chr12_112825713_115165608 | AD_Bellenguez_2022 |\n",
       "| chr12 | 113295999 | 113296786 | chr12:113295999:113296786 | GSE114150_merged | ENSG00000186815 | TPCN1   | chr12 | 113296025 | 113296025 | 12:113296025:C:T |  4.606250 | 0.006995084 |  1 | chr12_112825713_115165608 | AD_Bellenguez_2022 |\n",
       "| chr12 | 113295999 | 113296786 | chr12:113295999:113296786 | GSE114150_merged | ENSG00000186815 | TPCN1   | chr12 | 113296542 | 113296542 | 12:113296542:G:A |  4.593750 | 0.006622541 |  1 | chr12_112825713_115165608 | AD_Bellenguez_2022 |\n",
       "| chr12 | 113295999 | 113296786 | chr12:113295999:113296786 | GSE114150_merged | ENSG00000186815 | TPCN1   | chr12 | 113296659 | 113296659 | 12:113296659:A:G |  4.537500 | 0.005186406 |  1 | chr12_112825713_115165608 | AD_Bellenguez_2022 |\n",
       "| chr12 | 113299197 | 113300018 | chr12:113299197:113300018 | GSE114150_merged | ENSG00000089060 | SLC8B1  | chr12 | 113299825 | 113299825 | 12:113299825:G:A |  4.600000 | 0.006806138 |  1 | chr12_112825713_115165608 | AD_Bellenguez_2022 |\n",
       "| chr15 |  58692838 |  58693104 | chr15:58692838:58693104   | GSE114150_merged | ENSG00000137845 | ADAM10  | chr15 |  58692965 |  58692965 | 15:58692965:T:G  | -6.527473 | 0.032327348 |  1 | chr15_58149891_59314387   | AD_Bellenguez_2022 |\n",
       "| chr19 |   1847506 |   1848461 | chr19:1847506:1848461     | GSE114150_merged | ENSG00000079313 | REXO1   | chr19 |   1847744 |   1847744 | 19:1847744:G:A   | -5.659091 | 0.061457253 |  1 | chr19_1507536_3368979     | AD_Bellenguez_2022 |\n",
       "| chr19 |   1854085 |   1854788 | chr19:1854085:1854788     | GSE114150_merged | ENSG00000129911 | KLF16   | chr19 |   1854152 |   1854152 | 19:1854152:G:C   | -5.733333 | 0.096541324 |  1 | chr19_1507536_3368979     | AD_Bellenguez_2022 |\n",
       "| chr19 |   1854085 |   1854788 | chr19:1854085:1854788     | GSE114150_merged | ENSG00000129911 | KLF16   | chr19 |   1854254 |   1854254 | 19:1854254:G:GC  | -5.815217 | 0.165940073 |  1 | chr19_1507536_3368979     | AD_Bellenguez_2022 |\n",
       "| chr19 |  44859766 |  44860140 | chr19:44859766:44860140   | GSE114150_merged | ENSG00000130202 | NECTIN2 | chr19 |  44859997 |  44859997 | 19:44859997:G:A  | 10.449438 | 0.192689914 | 15 | chr19_42346101_44935906   | AD_Bellenguez_2022 |\n",
       "| chr2  | 134953712 | 134954712 | chr2:134953245:134955180  | GSE114150_merged | ENSG00000082258 | CCNT2   | chr2  | 134953946 | 134953946 | 2:134953946:C:T  |  4.535714 | 0.010923557 |  1 | chr2_134400811_137009736  | AD_Bellenguez_2022 |\n",
       "| chr2  | 134953712 | 134954712 | chr2:134953245:134955180  | GSE114150_merged | ENSG00000082258 | CCNT2   | chr2  | 134954087 | 134954087 | 2:134954087:G:A  |  4.511905 | 0.009860142 |  1 | chr2_134400811_137009736  | AD_Bellenguez_2022 |\n",
       "| chr2  | 202843035 | 202843434 | chr2:202843035:202843434  | GSE114150_merged | ENSG00000163596 | ICA1L   | chr2  | 202843155 | 202843155 | 2:202843155:G:A  | -5.008333 | 0.004282488 |  1 | chr2_201677542_203951659  | AD_Bellenguez_2022 |\n",
       "| chr2  | 202924671 | 202925412 | chr2:202924671:202925412  | GSE114150_merged | ENSG00000138442 | WDR12   | chr2  | 202924956 | 202924956 | 2:202924956:C:T  | -5.025000 | 0.004598489 |  1 | chr2_201677542_203951659  | AD_Bellenguez_2022 |\n",
       "| chr2  | 202924671 | 202925412 | chr2:202924671:202925412  | GSE114150_merged | ENSG00000138380 | CARF    | chr2  | 202924956 | 202924956 | 2:202924956:C:T  | -5.025000 | 0.004598489 |  1 | chr2_201677542_203951659  | AD_Bellenguez_2022 |\n",
       "| chr2  | 202925517 | 202926271 | chr2:202925517:202926271  | GSE114150_merged | ENSG00000138442 | WDR12   | chr2  | 202926166 | 202926166 | 2:202926166:T:C  | -5.016667 | 0.004437132 |  1 | chr2_201677542_203951659  | AD_Bellenguez_2022 |\n",
       "| chr2  | 202925517 | 202926271 | chr2:202925517:202926271  | GSE114150_merged | ENSG00000138380 | CARF    | chr2  | 202926166 | 202926166 | 2:202926166:T:C  | -5.016667 | 0.004437132 |  1 | chr2_201677542_203951659  | AD_Bellenguez_2022 |\n",
       "| chr2  | 202946507 | 202947507 | chr2:202946437:202947578  | GSE114150_merged | ENSG00000138442 | WDR12   | chr2  | 202946905 | 202946905 | 2:202946905:G:A  | -4.983333 | 0.003854730 |  1 | chr2_201677542_203951659  | AD_Bellenguez_2022 |\n",
       "| chr2  | 202946507 | 202947507 | chr2:202946437:202947578  | GSE114150_merged | ENSG00000138442 | WDR12   | chr2  | 202947189 | 202947189 | 2:202947189:A:C  | -5.008333 | 0.004282178 |  1 | chr2_201677542_203951659  | AD_Bellenguez_2022 |\n",
       "| chr2  | 202946507 | 202947507 | chr2:202946437:202947578  | GSE114150_merged | ENSG00000138380 | CARF    | chr2  | 202946905 | 202946905 | 2:202946905:G:A  | -4.983333 | 0.003854730 |  1 | chr2_201677542_203951659  | AD_Bellenguez_2022 |\n",
       "| chr2  | 202946507 | 202947507 | chr2:202946437:202947578  | GSE114150_merged | ENSG00000138380 | CARF    | chr2  | 202947189 | 202947189 | 2:202947189:A:C  | -5.008333 | 0.004282178 |  1 | chr2_201677542_203951659  | AD_Bellenguez_2022 |\n",
       "| chr2  | 202983419 | 202983767 | chr2:202983419:202983767  | GSE114150_merged | ENSG00000138442 | WDR12   | chr2  | 202983679 | 202983679 | 2:202983679:G:A  | -5.008333 | 0.004282489 |  1 | chr2_201677542_203951659  | AD_Bellenguez_2022 |\n",
       "| chr2  | 202983419 | 202983767 | chr2:202983419:202983767  | GSE114150_merged | ENSG00000138380 | CARF    | chr2  | 202983679 | 202983679 | 2:202983679:G:A  | -5.008333 | 0.004282489 |  1 | chr2_201677542_203951659  | AD_Bellenguez_2022 |\n",
       "| chr5  | 177515977 | 177516942 | chr5:177515977:177516942  | GSE114150_merged | ENSG00000183258 | DDX41   | chr5  | 177516672 | 177516672 | 5:177516672:C:T  |  4.424731 | 0.040098390 |  1 | chr5_176014330_177963776  | AD_Bellenguez_2022 |\n",
       "| chr7  | 100374156 | 100374656 | chr7:100374156:100374656  | GSE114150_merged | ENSG00000085514 | PILRA   | chr7  | 100374211 | 100374211 | 7:100374211:A:G  |  8.556818 | 0.205500185 |  1 | chr7_98297733_101733715   | AD_Bellenguez_2022 |\n",
       "| chr8  |  27604941 |  27605369 | chr8:27604941:27605369    | GSE114150_merged | ENSG00000120885 | CLU     | chr8  |  27604964 |  27604964 | 8:27604964:A:G   | 11.963855 | 0.037208520 |  1 | chr8_27515963_29469590    | AD_Bellenguez_2022 |\n",
       "\n"
      ],
      "text/plain": [
       "   chrom start     end       hg38_ID                   context         \n",
       "1  chr10  58269167  58269407 chr10:58269167:58269407   GSE114150_merged\n",
       "2  chr10  96266187  96266701 chr10:96266187:96266701   GSE114150_merged\n",
       "3  chr10  96266187  96266701 chr10:96266187:96266701   GSE114150_merged\n",
       "4  chr10  96266187  96266701 chr10:96266187:96266701   GSE114150_merged\n",
       "5  chr12 113158529 113159178 chr12:113158529:113159178 GSE114150_merged\n",
       "6  chr12 113158529 113159178 chr12:113158529:113159178 GSE114150_merged\n",
       "7  chr12 113161818 113162088 chr12:113161818:113162088 GSE114150_merged\n",
       "8  chr12 113162795 113163268 chr12:113162795:113163268 GSE114150_merged\n",
       "9  chr12 113162795 113163268 chr12:113162795:113163268 GSE114150_merged\n",
       "10 chr12 113191735 113192065 chr12:113191735:113192065 GSE114150_merged\n",
       "11 chr12 113220931 113221081 chr12:113220931:113221081 GSE114150_merged\n",
       "12 chr12 113220931 113221081 chr12:113220931:113221081 GSE114150_merged\n",
       "13 chr12 113295999 113296786 chr12:113295999:113296786 GSE114150_merged\n",
       "14 chr12 113295999 113296786 chr12:113295999:113296786 GSE114150_merged\n",
       "15 chr12 113295999 113296786 chr12:113295999:113296786 GSE114150_merged\n",
       "16 chr12 113299197 113300018 chr12:113299197:113300018 GSE114150_merged\n",
       "17 chr15  58692838  58693104 chr15:58692838:58693104   GSE114150_merged\n",
       "18 chr19   1847506   1848461 chr19:1847506:1848461     GSE114150_merged\n",
       "19 chr19   1854085   1854788 chr19:1854085:1854788     GSE114150_merged\n",
       "20 chr19   1854085   1854788 chr19:1854085:1854788     GSE114150_merged\n",
       "21 chr19  44859766  44860140 chr19:44859766:44860140   GSE114150_merged\n",
       "22 chr2  134953712 134954712 chr2:134953245:134955180  GSE114150_merged\n",
       "23 chr2  134953712 134954712 chr2:134953245:134955180  GSE114150_merged\n",
       "24 chr2  202843035 202843434 chr2:202843035:202843434  GSE114150_merged\n",
       "25 chr2  202924671 202925412 chr2:202924671:202925412  GSE114150_merged\n",
       "26 chr2  202924671 202925412 chr2:202924671:202925412  GSE114150_merged\n",
       "27 chr2  202925517 202926271 chr2:202925517:202926271  GSE114150_merged\n",
       "28 chr2  202925517 202926271 chr2:202925517:202926271  GSE114150_merged\n",
       "29 chr2  202946507 202947507 chr2:202946437:202947578  GSE114150_merged\n",
       "30 chr2  202946507 202947507 chr2:202946437:202947578  GSE114150_merged\n",
       "31 chr2  202946507 202947507 chr2:202946437:202947578  GSE114150_merged\n",
       "32 chr2  202946507 202947507 chr2:202946437:202947578  GSE114150_merged\n",
       "33 chr2  202983419 202983767 chr2:202983419:202983767  GSE114150_merged\n",
       "34 chr2  202983419 202983767 chr2:202983419:202983767  GSE114150_merged\n",
       "35 chr5  177515977 177516942 chr5:177515977:177516942  GSE114150_merged\n",
       "36 chr7  100374156 100374656 chr7:100374156:100374656  GSE114150_merged\n",
       "37 chr8   27604941  27605369 chr8:27604941:27605369    GSE114150_merged\n",
       "   gene_id         gene_name chr   start_variant end_variant variant_id      \n",
       "1  ENSG00000122873 CISD1     chr10  58269403      58269403   10:58269403:C:T \n",
       "2  ENSG00000095585 BLNK      chr10  96266318      96266318   10:96266318:A:G \n",
       "3  ENSG00000095585 BLNK      chr10  96266554      96266554   10:96266554:A:G \n",
       "4  ENSG00000095585 BLNK      chr10  96266650      96266650   10:96266650:G:A \n",
       "5  ENSG00000186710 CFAP73    chr12 113159061     113159061   12:113159061:G:A\n",
       "6  ENSG00000123064 DDX54     chr12 113159061     113159061   12:113159061:G:A\n",
       "7  ENSG00000123064 DDX54     chr12 113162061     113162061   12:113162061:T:C\n",
       "8  ENSG00000123064 DDX54     chr12 113163098     113163098   12:113163098:A:G\n",
       "9  ENSG00000123064 DDX54     chr12 113163135     113163135   12:113163135:C:T\n",
       "10 ENSG00000139405 RITA1     chr12 113191832     113191832   12:113191832:G:A\n",
       "11 ENSG00000166578 IQCD      chr12 113221042     113221042   12:113221042:G:A\n",
       "12 ENSG00000186815 TPCN1     chr12 113221042     113221042   12:113221042:G:A\n",
       "13 ENSG00000186815 TPCN1     chr12 113296025     113296025   12:113296025:C:T\n",
       "14 ENSG00000186815 TPCN1     chr12 113296542     113296542   12:113296542:G:A\n",
       "15 ENSG00000186815 TPCN1     chr12 113296659     113296659   12:113296659:A:G\n",
       "16 ENSG00000089060 SLC8B1    chr12 113299825     113299825   12:113299825:G:A\n",
       "17 ENSG00000137845 ADAM10    chr15  58692965      58692965   15:58692965:T:G \n",
       "18 ENSG00000079313 REXO1     chr19   1847744       1847744   19:1847744:G:A  \n",
       "19 ENSG00000129911 KLF16     chr19   1854152       1854152   19:1854152:G:C  \n",
       "20 ENSG00000129911 KLF16     chr19   1854254       1854254   19:1854254:G:GC \n",
       "21 ENSG00000130202 NECTIN2   chr19  44859997      44859997   19:44859997:G:A \n",
       "22 ENSG00000082258 CCNT2     chr2  134953946     134953946   2:134953946:C:T \n",
       "23 ENSG00000082258 CCNT2     chr2  134954087     134954087   2:134954087:G:A \n",
       "24 ENSG00000163596 ICA1L     chr2  202843155     202843155   2:202843155:G:A \n",
       "25 ENSG00000138442 WDR12     chr2  202924956     202924956   2:202924956:C:T \n",
       "26 ENSG00000138380 CARF      chr2  202924956     202924956   2:202924956:C:T \n",
       "27 ENSG00000138442 WDR12     chr2  202926166     202926166   2:202926166:T:C \n",
       "28 ENSG00000138380 CARF      chr2  202926166     202926166   2:202926166:T:C \n",
       "29 ENSG00000138442 WDR12     chr2  202946905     202946905   2:202946905:G:A \n",
       "30 ENSG00000138442 WDR12     chr2  202947189     202947189   2:202947189:A:C \n",
       "31 ENSG00000138380 CARF      chr2  202946905     202946905   2:202946905:G:A \n",
       "32 ENSG00000138380 CARF      chr2  202947189     202947189   2:202947189:A:C \n",
       "33 ENSG00000138442 WDR12     chr2  202983679     202983679   2:202983679:G:A \n",
       "34 ENSG00000138380 CARF      chr2  202983679     202983679   2:202983679:G:A \n",
       "35 ENSG00000183258 DDX41     chr5  177516672     177516672   5:177516672:C:T \n",
       "36 ENSG00000085514 PILRA     chr7  100374211     100374211   7:100374211:A:G \n",
       "37 ENSG00000120885 CLU       chr8   27604964      27604964   8:27604964:A:G  \n",
       "   z         pip         cs_coverage_0.95_min_corr block                    \n",
       "1  -4.010101 0.003389421  1                        chr10_57667362_59558848  \n",
       "2   5.182243 0.032637387  1                        chr10_95280986_98320874  \n",
       "3   5.205607 0.036940414  1                        chr10_95280986_98320874  \n",
       "4   5.224299 0.040605957  1                        chr10_95280986_98320874  \n",
       "5   4.575949 0.006127578  1                        chr12_112825713_115165608\n",
       "6   4.575949 0.006127578  1                        chr12_112825713_115165608\n",
       "7   4.490323 0.004234860  1                        chr12_112825713_115165608\n",
       "8   4.483871 0.004119767  1                        chr12_112825713_115165608\n",
       "9   4.518987 0.004788665  1                        chr12_112825713_115165608\n",
       "10  4.449367 0.003557680  1                        chr12_112825713_115165608\n",
       "11  4.563291 0.005799341  1                        chr12_112825713_115165608\n",
       "12  4.563291 0.005799341  1                        chr12_112825713_115165608\n",
       "13  4.606250 0.006995084  1                        chr12_112825713_115165608\n",
       "14  4.593750 0.006622541  1                        chr12_112825713_115165608\n",
       "15  4.537500 0.005186406  1                        chr12_112825713_115165608\n",
       "16  4.600000 0.006806138  1                        chr12_112825713_115165608\n",
       "17 -6.527473 0.032327348  1                        chr15_58149891_59314387  \n",
       "18 -5.659091 0.061457253  1                        chr19_1507536_3368979    \n",
       "19 -5.733333 0.096541324  1                        chr19_1507536_3368979    \n",
       "20 -5.815217 0.165940073  1                        chr19_1507536_3368979    \n",
       "21 10.449438 0.192689914 15                        chr19_42346101_44935906  \n",
       "22  4.535714 0.010923557  1                        chr2_134400811_137009736 \n",
       "23  4.511905 0.009860142  1                        chr2_134400811_137009736 \n",
       "24 -5.008333 0.004282488  1                        chr2_201677542_203951659 \n",
       "25 -5.025000 0.004598489  1                        chr2_201677542_203951659 \n",
       "26 -5.025000 0.004598489  1                        chr2_201677542_203951659 \n",
       "27 -5.016667 0.004437132  1                        chr2_201677542_203951659 \n",
       "28 -5.016667 0.004437132  1                        chr2_201677542_203951659 \n",
       "29 -4.983333 0.003854730  1                        chr2_201677542_203951659 \n",
       "30 -5.008333 0.004282178  1                        chr2_201677542_203951659 \n",
       "31 -4.983333 0.003854730  1                        chr2_201677542_203951659 \n",
       "32 -5.008333 0.004282178  1                        chr2_201677542_203951659 \n",
       "33 -5.008333 0.004282489  1                        chr2_201677542_203951659 \n",
       "34 -5.008333 0.004282489  1                        chr2_201677542_203951659 \n",
       "35  4.424731 0.040098390  1                        chr5_176014330_177963776 \n",
       "36  8.556818 0.205500185  1                        chr7_98297733_101733715  \n",
       "37 11.963855 0.037208520  1                        chr8_27515963_29469590   \n",
       "   study             \n",
       "1  AD_Bellenguez_2022\n",
       "2  AD_Bellenguez_2022\n",
       "3  AD_Bellenguez_2022\n",
       "4  AD_Bellenguez_2022\n",
       "5  AD_Bellenguez_2022\n",
       "6  AD_Bellenguez_2022\n",
       "7  AD_Bellenguez_2022\n",
       "8  AD_Bellenguez_2022\n",
       "9  AD_Bellenguez_2022\n",
       "10 AD_Bellenguez_2022\n",
       "11 AD_Bellenguez_2022\n",
       "12 AD_Bellenguez_2022\n",
       "13 AD_Bellenguez_2022\n",
       "14 AD_Bellenguez_2022\n",
       "15 AD_Bellenguez_2022\n",
       "16 AD_Bellenguez_2022\n",
       "17 AD_Bellenguez_2022\n",
       "18 AD_Bellenguez_2022\n",
       "19 AD_Bellenguez_2022\n",
       "20 AD_Bellenguez_2022\n",
       "21 AD_Bellenguez_2022\n",
       "22 AD_Bellenguez_2022\n",
       "23 AD_Bellenguez_2022\n",
       "24 AD_Bellenguez_2022\n",
       "25 AD_Bellenguez_2022\n",
       "26 AD_Bellenguez_2022\n",
       "27 AD_Bellenguez_2022\n",
       "28 AD_Bellenguez_2022\n",
       "29 AD_Bellenguez_2022\n",
       "30 AD_Bellenguez_2022\n",
       "31 AD_Bellenguez_2022\n",
       "32 AD_Bellenguez_2022\n",
       "33 AD_Bellenguez_2022\n",
       "34 AD_Bellenguez_2022\n",
       "35 AD_Bellenguez_2022\n",
       "36 AD_Bellenguez_2022\n",
       "37 AD_Bellenguez_2022"
      ]
     },
     "metadata": {},
     "output_type": "display_data"
    }
   ],
   "source": [
    "m6a_gene_bed_ad %>% filter(context == 'GSE114150_merged') "
   ]
  },
  {
   "cell_type": "code",
   "execution_count": 29,
   "id": "09a03b50-cff5-48f3-b0d7-db775eed2629",
   "metadata": {
    "kernel": "R",
    "scrolled": true
   },
   "outputs": [
    {
     "data": {
      "text/html": [
       "<table class=\"dataframe\">\n",
       "<caption>A data.frame: 115 × 16</caption>\n",
       "<thead>\n",
       "\t<tr><th scope=col>chrom</th><th scope=col>start</th><th scope=col>end</th><th scope=col>hg38_ID</th><th scope=col>context</th><th scope=col>gene_id</th><th scope=col>gene_name</th><th scope=col>chr</th><th scope=col>start_variant</th><th scope=col>end_variant</th><th scope=col>variant_id</th><th scope=col>z</th><th scope=col>pip</th><th scope=col>cs_coverage_0.95_min_corr</th><th scope=col>block</th><th scope=col>study</th></tr>\n",
       "\t<tr><th scope=col>&lt;chr&gt;</th><th scope=col>&lt;int&gt;</th><th scope=col>&lt;int&gt;</th><th scope=col>&lt;chr&gt;</th><th scope=col>&lt;chr&gt;</th><th scope=col>&lt;chr&gt;</th><th scope=col>&lt;chr&gt;</th><th scope=col>&lt;chr&gt;</th><th scope=col>&lt;int&gt;</th><th scope=col>&lt;int&gt;</th><th scope=col>&lt;chr&gt;</th><th scope=col>&lt;dbl&gt;</th><th scope=col>&lt;dbl&gt;</th><th scope=col>&lt;int&gt;</th><th scope=col>&lt;chr&gt;</th><th scope=col>&lt;chr&gt;</th></tr>\n",
       "</thead>\n",
       "<tbody>\n",
       "\t<tr><td>chr12</td><td>113158551</td><td>113159178</td><td>chr12:113158551:113159178</td><td>GSE114150_Brain</td><td>ENSG00000186710</td><td>CFAP73 </td><td>chr12</td><td>113159061</td><td>113159061</td><td>12:113159061:G:A</td><td> 4.575949</td><td>0.006127578</td><td> 1</td><td>chr12_112825713_115165608</td><td>AD_Bellenguez_2022</td></tr>\n",
       "\t<tr><td>chr12</td><td>113158551</td><td>113159178</td><td>chr12:113158551:113159178</td><td>GSE114150_Brain</td><td>ENSG00000123064</td><td>DDX54  </td><td>chr12</td><td>113159061</td><td>113159061</td><td>12:113159061:G:A</td><td> 4.575949</td><td>0.006127578</td><td> 1</td><td>chr12_112825713_115165608</td><td>AD_Bellenguez_2022</td></tr>\n",
       "\t<tr><td>chr12</td><td>113161821</td><td>113162088</td><td>chr12:113161821:113162088</td><td>GSE114150_Brain</td><td>ENSG00000123064</td><td>DDX54  </td><td>chr12</td><td>113162061</td><td>113162061</td><td>12:113162061:T:C</td><td> 4.490323</td><td>0.004234860</td><td> 1</td><td>chr12_112825713_115165608</td><td>AD_Bellenguez_2022</td></tr>\n",
       "\t<tr><td>chr12</td><td>113162795</td><td>113163180</td><td>chr12:113162795:113163180</td><td>GSE114150_Brain</td><td>ENSG00000123064</td><td>DDX54  </td><td>chr12</td><td>113163098</td><td>113163098</td><td>12:113163098:A:G</td><td> 4.483871</td><td>0.004119767</td><td> 1</td><td>chr12_112825713_115165608</td><td>AD_Bellenguez_2022</td></tr>\n",
       "\t<tr><td>chr12</td><td>113162795</td><td>113163180</td><td>chr12:113162795:113163180</td><td>GSE114150_Brain</td><td>ENSG00000123064</td><td>DDX54  </td><td>chr12</td><td>113163135</td><td>113163135</td><td>12:113163135:C:T</td><td> 4.518987</td><td>0.004788665</td><td> 1</td><td>chr12_112825713_115165608</td><td>AD_Bellenguez_2022</td></tr>\n",
       "\t<tr><td>chr12</td><td>113191735</td><td>113192015</td><td>chr12:113191735:113192015</td><td>GSE114150_Brain</td><td>ENSG00000139405</td><td>RITA1  </td><td>chr12</td><td>113191832</td><td>113191832</td><td>12:113191832:G:A</td><td> 4.449367</td><td>0.003557680</td><td> 1</td><td>chr12_112825713_115165608</td><td>AD_Bellenguez_2022</td></tr>\n",
       "\t<tr><td>chr12</td><td>113220931</td><td>113221081</td><td>chr12:113220931:113221081</td><td>GSE114150_Brain</td><td>ENSG00000166578</td><td>IQCD   </td><td>chr12</td><td>113221042</td><td>113221042</td><td>12:113221042:G:A</td><td> 4.563291</td><td>0.005799341</td><td> 1</td><td>chr12_112825713_115165608</td><td>AD_Bellenguez_2022</td></tr>\n",
       "\t<tr><td>chr12</td><td>113220931</td><td>113221081</td><td>chr12:113220931:113221081</td><td>GSE114150_Brain</td><td>ENSG00000186815</td><td>TPCN1  </td><td>chr12</td><td>113221042</td><td>113221042</td><td>12:113221042:G:A</td><td> 4.563291</td><td>0.005799341</td><td> 1</td><td>chr12_112825713_115165608</td><td>AD_Bellenguez_2022</td></tr>\n",
       "\t<tr><td>chr19</td><td>  1854218</td><td>  1854735</td><td>chr19:1854218:1854735    </td><td>GSE114150_Brain</td><td>ENSG00000129911</td><td>KLF16  </td><td>chr19</td><td>  1854254</td><td>  1854254</td><td>19:1854254:G:GC </td><td>-5.815217</td><td>0.165940073</td><td> 1</td><td>chr19_1507536_3368979    </td><td>AD_Bellenguez_2022</td></tr>\n",
       "\t<tr><td>chr19</td><td> 44859854</td><td> 44860081</td><td>chr19:44859854:44860081  </td><td>GSE114150_Brain</td><td>ENSG00000130202</td><td>NECTIN2</td><td>chr19</td><td> 44859997</td><td> 44859997</td><td>19:44859997:G:A </td><td>10.449438</td><td>0.192689914</td><td>15</td><td>chr19_42346101_44935906  </td><td>AD_Bellenguez_2022</td></tr>\n",
       "\t<tr><td>chr2 </td><td>134953712</td><td>134954712</td><td>chr2:134953245:134955180 </td><td>GSE114150_Brain</td><td>ENSG00000082258</td><td>CCNT2  </td><td>chr2 </td><td>134953946</td><td>134953946</td><td>2:134953946:C:T </td><td> 4.535714</td><td>0.010923557</td><td> 1</td><td>chr2_134400811_137009736 </td><td>AD_Bellenguez_2022</td></tr>\n",
       "\t<tr><td>chr2 </td><td>134953712</td><td>134954712</td><td>chr2:134953245:134955180 </td><td>GSE114150_Brain</td><td>ENSG00000082258</td><td>CCNT2  </td><td>chr2 </td><td>134954087</td><td>134954087</td><td>2:134954087:G:A </td><td> 4.511905</td><td>0.009860142</td><td> 1</td><td>chr2_134400811_137009736 </td><td>AD_Bellenguez_2022</td></tr>\n",
       "\t<tr><td>chr2 </td><td>202843035</td><td>202843434</td><td>chr2:202843035:202843434 </td><td>GSE114150_Brain</td><td>ENSG00000163596</td><td>ICA1L  </td><td>chr2 </td><td>202843155</td><td>202843155</td><td>2:202843155:G:A </td><td>-5.008333</td><td>0.004282488</td><td> 1</td><td>chr2_201677542_203951659 </td><td>AD_Bellenguez_2022</td></tr>\n",
       "\t<tr><td>chr2 </td><td>202924671</td><td>202925412</td><td>chr2:202924671:202925412 </td><td>GSE114150_Brain</td><td>ENSG00000138442</td><td>WDR12  </td><td>chr2 </td><td>202924956</td><td>202924956</td><td>2:202924956:C:T </td><td>-5.025000</td><td>0.004598489</td><td> 1</td><td>chr2_201677542_203951659 </td><td>AD_Bellenguez_2022</td></tr>\n",
       "\t<tr><td>chr2 </td><td>202924671</td><td>202925412</td><td>chr2:202924671:202925412 </td><td>GSE114150_Brain</td><td>ENSG00000138380</td><td>CARF   </td><td>chr2 </td><td>202924956</td><td>202924956</td><td>2:202924956:C:T </td><td>-5.025000</td><td>0.004598489</td><td> 1</td><td>chr2_201677542_203951659 </td><td>AD_Bellenguez_2022</td></tr>\n",
       "\t<tr><td>chr2 </td><td>202946486</td><td>202947486</td><td>chr2:202946450:202947523 </td><td>GSE114150_Brain</td><td>ENSG00000138442</td><td>WDR12  </td><td>chr2 </td><td>202946905</td><td>202946905</td><td>2:202946905:G:A </td><td>-4.983333</td><td>0.003854730</td><td> 1</td><td>chr2_201677542_203951659 </td><td>AD_Bellenguez_2022</td></tr>\n",
       "\t<tr><td>chr2 </td><td>202946486</td><td>202947486</td><td>chr2:202946450:202947523 </td><td>GSE114150_Brain</td><td>ENSG00000138442</td><td>WDR12  </td><td>chr2 </td><td>202947189</td><td>202947189</td><td>2:202947189:A:C </td><td>-5.008333</td><td>0.004282178</td><td> 1</td><td>chr2_201677542_203951659 </td><td>AD_Bellenguez_2022</td></tr>\n",
       "\t<tr><td>chr2 </td><td>202946486</td><td>202947486</td><td>chr2:202946450:202947523 </td><td>GSE114150_Brain</td><td>ENSG00000138380</td><td>CARF   </td><td>chr2 </td><td>202946905</td><td>202946905</td><td>2:202946905:G:A </td><td>-4.983333</td><td>0.003854730</td><td> 1</td><td>chr2_201677542_203951659 </td><td>AD_Bellenguez_2022</td></tr>\n",
       "\t<tr><td>chr2 </td><td>202946486</td><td>202947486</td><td>chr2:202946450:202947523 </td><td>GSE114150_Brain</td><td>ENSG00000138380</td><td>CARF   </td><td>chr2 </td><td>202947189</td><td>202947189</td><td>2:202947189:A:C </td><td>-5.008333</td><td>0.004282178</td><td> 1</td><td>chr2_201677542_203951659 </td><td>AD_Bellenguez_2022</td></tr>\n",
       "\t<tr><td>chr2 </td><td>202983419</td><td>202983739</td><td>chr2:202983419:202983739 </td><td>GSE114150_Brain</td><td>ENSG00000138442</td><td>WDR12  </td><td>chr2 </td><td>202983679</td><td>202983679</td><td>2:202983679:G:A </td><td>-5.008333</td><td>0.004282489</td><td> 1</td><td>chr2_201677542_203951659 </td><td>AD_Bellenguez_2022</td></tr>\n",
       "\t<tr><td>chr2 </td><td>202983419</td><td>202983739</td><td>chr2:202983419:202983739 </td><td>GSE114150_Brain</td><td>ENSG00000138380</td><td>CARF   </td><td>chr2 </td><td>202983679</td><td>202983679</td><td>2:202983679:G:A </td><td>-5.008333</td><td>0.004282489</td><td> 1</td><td>chr2_201677542_203951659 </td><td>AD_Bellenguez_2022</td></tr>\n",
       "\t<tr><td>chr5 </td><td>177515977</td><td>177516937</td><td>chr5:177515977:177516937 </td><td>GSE114150_Brain</td><td>ENSG00000183258</td><td>DDX41  </td><td>chr5 </td><td>177516672</td><td>177516672</td><td>5:177516672:C:T </td><td> 4.424731</td><td>0.040098390</td><td> 1</td><td>chr5_176014330_177963776 </td><td>AD_Bellenguez_2022</td></tr>\n",
       "\t<tr><td>chr7 </td><td>100374156</td><td>100374656</td><td>chr7:100374156:100374656 </td><td>GSE114150_Brain</td><td>ENSG00000085514</td><td>PILRA  </td><td>chr7 </td><td>100374211</td><td>100374211</td><td>7:100374211:A:G </td><td> 8.556818</td><td>0.205500185</td><td> 1</td><td>chr7_98297733_101733715  </td><td>AD_Bellenguez_2022</td></tr>\n",
       "\t<tr><td>chr8 </td><td> 27604960</td><td> 27605366</td><td>chr8:27604960:27605366   </td><td>GSE114150_Brain</td><td>ENSG00000120885</td><td>CLU    </td><td>chr8 </td><td> 27604964</td><td> 27604964</td><td>8:27604964:A:G  </td><td>11.963855</td><td>0.037208520</td><td> 1</td><td>chr8_27515963_29469590   </td><td>AD_Bellenguez_2022</td></tr>\n",
       "\t<tr><td>chr12</td><td>113159016</td><td>113159156</td><td>chr12:113159016:113159156</td><td>brain_cortex   </td><td>ENSG00000186710</td><td>CFAP73 </td><td>chr12</td><td>113159061</td><td>113159061</td><td>12:113159061:G:A</td><td> 4.575949</td><td>0.006127578</td><td> 1</td><td>chr12_112825713_115165608</td><td>AD_Bellenguez_2022</td></tr>\n",
       "\t<tr><td>chr12</td><td>113159016</td><td>113159156</td><td>chr12:113159016:113159156</td><td>brain_cortex   </td><td>ENSG00000123064</td><td>DDX54  </td><td>chr12</td><td>113159061</td><td>113159061</td><td>12:113159061:G:A</td><td> 4.575949</td><td>0.006127578</td><td> 1</td><td>chr12_112825713_115165608</td><td>AD_Bellenguez_2022</td></tr>\n",
       "\t<tr><td>chr12</td><td>113159016</td><td>113159156</td><td>chr12:113159016:113159156</td><td>brain_cortex   </td><td>ENSG00000186710</td><td>CFAP73 </td><td>chr12</td><td>113159061</td><td>113159061</td><td>12:113159061:G:A</td><td> 4.575949</td><td>0.006127578</td><td> 1</td><td>chr12_112825713_115165608</td><td>AD_Bellenguez_2022</td></tr>\n",
       "\t<tr><td>chr12</td><td>113159016</td><td>113159156</td><td>chr12:113159016:113159156</td><td>brain_cortex   </td><td>ENSG00000123064</td><td>DDX54  </td><td>chr12</td><td>113159061</td><td>113159061</td><td>12:113159061:G:A</td><td> 4.575949</td><td>0.006127578</td><td> 1</td><td>chr12_112825713_115165608</td><td>AD_Bellenguez_2022</td></tr>\n",
       "\t<tr><td>chr12</td><td>113159016</td><td>113159156</td><td>chr12:113159016:113159156</td><td>brain_cortex   </td><td>ENSG00000186710</td><td>CFAP73 </td><td>chr12</td><td>113159061</td><td>113159061</td><td>12:113159061:G:A</td><td> 4.575949</td><td>0.006127578</td><td> 1</td><td>chr12_112825713_115165608</td><td>AD_Bellenguez_2022</td></tr>\n",
       "\t<tr><td>chr12</td><td>113159016</td><td>113159156</td><td>chr12:113159016:113159156</td><td>brain_cortex   </td><td>ENSG00000123064</td><td>DDX54  </td><td>chr12</td><td>113159061</td><td>113159061</td><td>12:113159061:G:A</td><td> 4.575949</td><td>0.006127578</td><td> 1</td><td>chr12_112825713_115165608</td><td>AD_Bellenguez_2022</td></tr>\n",
       "\t<tr><td>⋮</td><td>⋮</td><td>⋮</td><td>⋮</td><td>⋮</td><td>⋮</td><td>⋮</td><td>⋮</td><td>⋮</td><td>⋮</td><td>⋮</td><td>⋮</td><td>⋮</td><td>⋮</td><td>⋮</td><td>⋮</td></tr>\n",
       "\t<tr><td>chr12</td><td>113163224</td><td>113164117</td><td>chr12:113163224:113164117</td><td>brain_cortex</td><td>ENSG00000123064</td><td>DDX54 </td><td>chr12</td><td>113163602</td><td>113163602</td><td>12:113163602:T:C</td><td> 4.458065</td><td>0.003691296</td><td>1</td><td>chr12_112825713_115165608</td><td>AD_Bellenguez_2022</td></tr>\n",
       "\t<tr><td>chr19</td><td>  1829160</td><td>  1830160</td><td>chr19:1828583:1830738    </td><td>brain_cortex</td><td>ENSG00000079313</td><td>REXO1 </td><td>chr19</td><td>  1829830</td><td>  1829830</td><td>19:1829830:G:A  </td><td>-5.568182</td><td>0.037866345</td><td>1</td><td>chr19_1507536_3368979    </td><td>AD_Bellenguez_2022</td></tr>\n",
       "\t<tr><td>chr12</td><td>113158741</td><td>113159173</td><td>chr12:113158741:113159173</td><td>brain_cortex</td><td>ENSG00000186710</td><td>CFAP73</td><td>chr12</td><td>113159061</td><td>113159061</td><td>12:113159061:G:A</td><td> 4.575949</td><td>0.006127578</td><td>1</td><td>chr12_112825713_115165608</td><td>AD_Bellenguez_2022</td></tr>\n",
       "\t<tr><td>chr12</td><td>113158741</td><td>113159173</td><td>chr12:113158741:113159173</td><td>brain_cortex</td><td>ENSG00000123064</td><td>DDX54 </td><td>chr12</td><td>113159061</td><td>113159061</td><td>12:113159061:G:A</td><td> 4.575949</td><td>0.006127578</td><td>1</td><td>chr12_112825713_115165608</td><td>AD_Bellenguez_2022</td></tr>\n",
       "\t<tr><td>chr12</td><td>113158741</td><td>113159173</td><td>chr12:113158741:113159173</td><td>brain_cortex</td><td>ENSG00000186710</td><td>CFAP73</td><td>chr12</td><td>113159061</td><td>113159061</td><td>12:113159061:G:A</td><td> 4.575949</td><td>0.006127578</td><td>1</td><td>chr12_112825713_115165608</td><td>AD_Bellenguez_2022</td></tr>\n",
       "\t<tr><td>chr12</td><td>113158741</td><td>113159173</td><td>chr12:113158741:113159173</td><td>brain_cortex</td><td>ENSG00000123064</td><td>DDX54 </td><td>chr12</td><td>113159061</td><td>113159061</td><td>12:113159061:G:A</td><td> 4.575949</td><td>0.006127578</td><td>1</td><td>chr12_112825713_115165608</td><td>AD_Bellenguez_2022</td></tr>\n",
       "\t<tr><td>chr12</td><td>113158741</td><td>113159173</td><td>chr12:113158741:113159173</td><td>brain_cortex</td><td>ENSG00000186710</td><td>CFAP73</td><td>chr12</td><td>113159061</td><td>113159061</td><td>12:113159061:G:A</td><td> 4.575949</td><td>0.006127578</td><td>1</td><td>chr12_112825713_115165608</td><td>AD_Bellenguez_2022</td></tr>\n",
       "\t<tr><td>chr12</td><td>113158741</td><td>113159173</td><td>chr12:113158741:113159173</td><td>brain_cortex</td><td>ENSG00000123064</td><td>DDX54 </td><td>chr12</td><td>113159061</td><td>113159061</td><td>12:113159061:G:A</td><td> 4.575949</td><td>0.006127578</td><td>1</td><td>chr12_112825713_115165608</td><td>AD_Bellenguez_2022</td></tr>\n",
       "\t<tr><td>chr12</td><td>113158986</td><td>113159156</td><td>chr12:113158986:113159156</td><td>brain_cortex</td><td>ENSG00000186710</td><td>CFAP73</td><td>chr12</td><td>113159061</td><td>113159061</td><td>12:113159061:G:A</td><td> 4.575949</td><td>0.006127578</td><td>1</td><td>chr12_112825713_115165608</td><td>AD_Bellenguez_2022</td></tr>\n",
       "\t<tr><td>chr12</td><td>113158986</td><td>113159156</td><td>chr12:113158986:113159156</td><td>brain_cortex</td><td>ENSG00000123064</td><td>DDX54 </td><td>chr12</td><td>113159061</td><td>113159061</td><td>12:113159061:G:A</td><td> 4.575949</td><td>0.006127578</td><td>1</td><td>chr12_112825713_115165608</td><td>AD_Bellenguez_2022</td></tr>\n",
       "\t<tr><td>chr12</td><td>113158986</td><td>113159156</td><td>chr12:113158986:113159156</td><td>brain_cortex</td><td>ENSG00000186710</td><td>CFAP73</td><td>chr12</td><td>113159061</td><td>113159061</td><td>12:113159061:G:A</td><td> 4.575949</td><td>0.006127578</td><td>1</td><td>chr12_112825713_115165608</td><td>AD_Bellenguez_2022</td></tr>\n",
       "\t<tr><td>chr12</td><td>113158986</td><td>113159156</td><td>chr12:113158986:113159156</td><td>brain_cortex</td><td>ENSG00000123064</td><td>DDX54 </td><td>chr12</td><td>113159061</td><td>113159061</td><td>12:113159061:G:A</td><td> 4.575949</td><td>0.006127578</td><td>1</td><td>chr12_112825713_115165608</td><td>AD_Bellenguez_2022</td></tr>\n",
       "\t<tr><td>chr12</td><td>113158986</td><td>113159156</td><td>chr12:113158986:113159156</td><td>brain_cortex</td><td>ENSG00000186710</td><td>CFAP73</td><td>chr12</td><td>113159061</td><td>113159061</td><td>12:113159061:G:A</td><td> 4.575949</td><td>0.006127578</td><td>1</td><td>chr12_112825713_115165608</td><td>AD_Bellenguez_2022</td></tr>\n",
       "\t<tr><td>chr12</td><td>113158986</td><td>113159156</td><td>chr12:113158986:113159156</td><td>brain_cortex</td><td>ENSG00000123064</td><td>DDX54 </td><td>chr12</td><td>113159061</td><td>113159061</td><td>12:113159061:G:A</td><td> 4.575949</td><td>0.006127578</td><td>1</td><td>chr12_112825713_115165608</td><td>AD_Bellenguez_2022</td></tr>\n",
       "\t<tr><td>chr12</td><td>113163224</td><td>113164117</td><td>chr12:113163224:113164117</td><td>brain_cortex</td><td>ENSG00000123064</td><td>DDX54 </td><td>chr12</td><td>113163602</td><td>113163602</td><td>12:113163602:T:C</td><td> 4.458065</td><td>0.003691296</td><td>1</td><td>chr12_112825713_115165608</td><td>AD_Bellenguez_2022</td></tr>\n",
       "\t<tr><td>chr19</td><td>  1829170</td><td>  1830170</td><td>chr19:1828583:1830758    </td><td>brain_cortex</td><td>ENSG00000079313</td><td>REXO1 </td><td>chr19</td><td>  1829830</td><td>  1829830</td><td>19:1829830:G:A  </td><td>-5.568182</td><td>0.037866345</td><td>1</td><td>chr19_1507536_3368979    </td><td>AD_Bellenguez_2022</td></tr>\n",
       "\t<tr><td>chr2 </td><td>134953447</td><td>134954208</td><td>chr2:134953447:134954208 </td><td>hNPC        </td><td>ENSG00000082258</td><td>CCNT2 </td><td>chr2 </td><td>134953946</td><td>134953946</td><td>2:134953946:C:T </td><td> 4.535714</td><td>0.010923557</td><td>1</td><td>chr2_134400811_137009736 </td><td>AD_Bellenguez_2022</td></tr>\n",
       "\t<tr><td>chr2 </td><td>134953447</td><td>134954208</td><td>chr2:134953447:134954208 </td><td>hNPC        </td><td>ENSG00000082258</td><td>CCNT2 </td><td>chr2 </td><td>134954087</td><td>134954087</td><td>2:134954087:G:A </td><td> 4.511905</td><td>0.009860142</td><td>1</td><td>chr2_134400811_137009736 </td><td>AD_Bellenguez_2022</td></tr>\n",
       "\t<tr><td>chr2 </td><td>202888094</td><td>202889094</td><td>chr2:202884498:202892690 </td><td>hNPC        </td><td>ENSG00000138442</td><td>WDR12 </td><td>chr2 </td><td>202888293</td><td>202888293</td><td>2:202888293:G:A </td><td>-5.041667</td><td>0.004942385</td><td>1</td><td>chr2_201677542_203951659 </td><td>AD_Bellenguez_2022</td></tr>\n",
       "\t<tr><td>chr2 </td><td>202888094</td><td>202889094</td><td>chr2:202884498:202892690 </td><td>hNPC        </td><td>ENSG00000138442</td><td>WDR12 </td><td>chr2 </td><td>202888349</td><td>202888349</td><td>2:202888349:T:C </td><td>-5.033333</td><td>0.004766691</td><td>1</td><td>chr2_201677542_203951659 </td><td>AD_Bellenguez_2022</td></tr>\n",
       "\t<tr><td>chr8 </td><td> 27607034</td><td> 27608034</td><td>chr8:27606436:27608633   </td><td>hNPC        </td><td>ENSG00000120885</td><td>CLU   </td><td>chr8 </td><td> 27607412</td><td> 27607412</td><td>8:27607412:A:G  </td><td>11.952381</td><td>0.028314120</td><td>1</td><td>chr8_27515963_29469590   </td><td>AD_Bellenguez_2022</td></tr>\n",
       "\t<tr><td>chr8 </td><td> 27607034</td><td> 27608034</td><td>chr8:27606436:27608633   </td><td>hNPC        </td><td>ENSG00000120885</td><td>CLU   </td><td>chr8 </td><td> 27607795</td><td> 27607795</td><td>8:27607795:T:C  </td><td>12.072289</td><td>0.143118125</td><td>1</td><td>chr8_27515963_29469590   </td><td>AD_Bellenguez_2022</td></tr>\n",
       "\t<tr><td>chr2 </td><td>134952676</td><td>134952845</td><td>chr2:134952676:134952845 </td><td>hNPC        </td><td>ENSG00000082258</td><td>CCNT2 </td><td>chr2 </td><td>134952752</td><td>134952752</td><td>2:134952752:A:G </td><td> 4.511905</td><td>0.009860142</td><td>1</td><td>chr2_134400811_137009736 </td><td>AD_Bellenguez_2022</td></tr>\n",
       "\t<tr><td>chr2 </td><td>134953490</td><td>134954260</td><td>chr2:134953490:134954260 </td><td>hNPC        </td><td>ENSG00000082258</td><td>CCNT2 </td><td>chr2 </td><td>134953946</td><td>134953946</td><td>2:134953946:C:T </td><td> 4.535714</td><td>0.010923557</td><td>1</td><td>chr2_134400811_137009736 </td><td>AD_Bellenguez_2022</td></tr>\n",
       "\t<tr><td>chr2 </td><td>134953490</td><td>134954260</td><td>chr2:134953490:134954260 </td><td>hNPC        </td><td>ENSG00000082258</td><td>CCNT2 </td><td>chr2 </td><td>134954087</td><td>134954087</td><td>2:134954087:G:A </td><td> 4.511905</td><td>0.009860142</td><td>1</td><td>chr2_134400811_137009736 </td><td>AD_Bellenguez_2022</td></tr>\n",
       "\t<tr><td>chr2 </td><td>134952717</td><td>134952798</td><td>chr2:134952717:134952798 </td><td>hNPC        </td><td>ENSG00000082258</td><td>CCNT2 </td><td>chr2 </td><td>134952752</td><td>134952752</td><td>2:134952752:A:G </td><td> 4.511905</td><td>0.009860142</td><td>1</td><td>chr2_134400811_137009736 </td><td>AD_Bellenguez_2022</td></tr>\n",
       "\t<tr><td>chr2 </td><td>134953447</td><td>134954208</td><td>chr2:134953447:134954208 </td><td>hNPC        </td><td>ENSG00000082258</td><td>CCNT2 </td><td>chr2 </td><td>134953946</td><td>134953946</td><td>2:134953946:C:T </td><td> 4.535714</td><td>0.010923557</td><td>1</td><td>chr2_134400811_137009736 </td><td>AD_Bellenguez_2022</td></tr>\n",
       "\t<tr><td>chr2 </td><td>134953447</td><td>134954208</td><td>chr2:134953447:134954208 </td><td>hNPC        </td><td>ENSG00000082258</td><td>CCNT2 </td><td>chr2 </td><td>134954087</td><td>134954087</td><td>2:134954087:G:A </td><td> 4.511905</td><td>0.009860142</td><td>1</td><td>chr2_134400811_137009736 </td><td>AD_Bellenguez_2022</td></tr>\n",
       "\t<tr><td>chr2 </td><td>202888099</td><td>202889099</td><td>chr2:202884498:202892700 </td><td>hNPC        </td><td>ENSG00000138442</td><td>WDR12 </td><td>chr2 </td><td>202888293</td><td>202888293</td><td>2:202888293:G:A </td><td>-5.041667</td><td>0.004942385</td><td>1</td><td>chr2_201677542_203951659 </td><td>AD_Bellenguez_2022</td></tr>\n",
       "\t<tr><td>chr2 </td><td>202888099</td><td>202889099</td><td>chr2:202884498:202892700 </td><td>hNPC        </td><td>ENSG00000138442</td><td>WDR12 </td><td>chr2 </td><td>202888349</td><td>202888349</td><td>2:202888349:T:C </td><td>-5.033333</td><td>0.004766691</td><td>1</td><td>chr2_201677542_203951659 </td><td>AD_Bellenguez_2022</td></tr>\n",
       "</tbody>\n",
       "</table>\n"
      ],
      "text/latex": [
       "A data.frame: 115 × 16\n",
       "\\begin{tabular}{llllllllllllllll}\n",
       " chrom & start & end & hg38\\_ID & context & gene\\_id & gene\\_name & chr & start\\_variant & end\\_variant & variant\\_id & z & pip & cs\\_coverage\\_0.95\\_min\\_corr & block & study\\\\\n",
       " <chr> & <int> & <int> & <chr> & <chr> & <chr> & <chr> & <chr> & <int> & <int> & <chr> & <dbl> & <dbl> & <int> & <chr> & <chr>\\\\\n",
       "\\hline\n",
       "\t chr12 & 113158551 & 113159178 & chr12:113158551:113159178 & GSE114150\\_Brain & ENSG00000186710 & CFAP73  & chr12 & 113159061 & 113159061 & 12:113159061:G:A &  4.575949 & 0.006127578 &  1 & chr12\\_112825713\\_115165608 & AD\\_Bellenguez\\_2022\\\\\n",
       "\t chr12 & 113158551 & 113159178 & chr12:113158551:113159178 & GSE114150\\_Brain & ENSG00000123064 & DDX54   & chr12 & 113159061 & 113159061 & 12:113159061:G:A &  4.575949 & 0.006127578 &  1 & chr12\\_112825713\\_115165608 & AD\\_Bellenguez\\_2022\\\\\n",
       "\t chr12 & 113161821 & 113162088 & chr12:113161821:113162088 & GSE114150\\_Brain & ENSG00000123064 & DDX54   & chr12 & 113162061 & 113162061 & 12:113162061:T:C &  4.490323 & 0.004234860 &  1 & chr12\\_112825713\\_115165608 & AD\\_Bellenguez\\_2022\\\\\n",
       "\t chr12 & 113162795 & 113163180 & chr12:113162795:113163180 & GSE114150\\_Brain & ENSG00000123064 & DDX54   & chr12 & 113163098 & 113163098 & 12:113163098:A:G &  4.483871 & 0.004119767 &  1 & chr12\\_112825713\\_115165608 & AD\\_Bellenguez\\_2022\\\\\n",
       "\t chr12 & 113162795 & 113163180 & chr12:113162795:113163180 & GSE114150\\_Brain & ENSG00000123064 & DDX54   & chr12 & 113163135 & 113163135 & 12:113163135:C:T &  4.518987 & 0.004788665 &  1 & chr12\\_112825713\\_115165608 & AD\\_Bellenguez\\_2022\\\\\n",
       "\t chr12 & 113191735 & 113192015 & chr12:113191735:113192015 & GSE114150\\_Brain & ENSG00000139405 & RITA1   & chr12 & 113191832 & 113191832 & 12:113191832:G:A &  4.449367 & 0.003557680 &  1 & chr12\\_112825713\\_115165608 & AD\\_Bellenguez\\_2022\\\\\n",
       "\t chr12 & 113220931 & 113221081 & chr12:113220931:113221081 & GSE114150\\_Brain & ENSG00000166578 & IQCD    & chr12 & 113221042 & 113221042 & 12:113221042:G:A &  4.563291 & 0.005799341 &  1 & chr12\\_112825713\\_115165608 & AD\\_Bellenguez\\_2022\\\\\n",
       "\t chr12 & 113220931 & 113221081 & chr12:113220931:113221081 & GSE114150\\_Brain & ENSG00000186815 & TPCN1   & chr12 & 113221042 & 113221042 & 12:113221042:G:A &  4.563291 & 0.005799341 &  1 & chr12\\_112825713\\_115165608 & AD\\_Bellenguez\\_2022\\\\\n",
       "\t chr19 &   1854218 &   1854735 & chr19:1854218:1854735     & GSE114150\\_Brain & ENSG00000129911 & KLF16   & chr19 &   1854254 &   1854254 & 19:1854254:G:GC  & -5.815217 & 0.165940073 &  1 & chr19\\_1507536\\_3368979     & AD\\_Bellenguez\\_2022\\\\\n",
       "\t chr19 &  44859854 &  44860081 & chr19:44859854:44860081   & GSE114150\\_Brain & ENSG00000130202 & NECTIN2 & chr19 &  44859997 &  44859997 & 19:44859997:G:A  & 10.449438 & 0.192689914 & 15 & chr19\\_42346101\\_44935906   & AD\\_Bellenguez\\_2022\\\\\n",
       "\t chr2  & 134953712 & 134954712 & chr2:134953245:134955180  & GSE114150\\_Brain & ENSG00000082258 & CCNT2   & chr2  & 134953946 & 134953946 & 2:134953946:C:T  &  4.535714 & 0.010923557 &  1 & chr2\\_134400811\\_137009736  & AD\\_Bellenguez\\_2022\\\\\n",
       "\t chr2  & 134953712 & 134954712 & chr2:134953245:134955180  & GSE114150\\_Brain & ENSG00000082258 & CCNT2   & chr2  & 134954087 & 134954087 & 2:134954087:G:A  &  4.511905 & 0.009860142 &  1 & chr2\\_134400811\\_137009736  & AD\\_Bellenguez\\_2022\\\\\n",
       "\t chr2  & 202843035 & 202843434 & chr2:202843035:202843434  & GSE114150\\_Brain & ENSG00000163596 & ICA1L   & chr2  & 202843155 & 202843155 & 2:202843155:G:A  & -5.008333 & 0.004282488 &  1 & chr2\\_201677542\\_203951659  & AD\\_Bellenguez\\_2022\\\\\n",
       "\t chr2  & 202924671 & 202925412 & chr2:202924671:202925412  & GSE114150\\_Brain & ENSG00000138442 & WDR12   & chr2  & 202924956 & 202924956 & 2:202924956:C:T  & -5.025000 & 0.004598489 &  1 & chr2\\_201677542\\_203951659  & AD\\_Bellenguez\\_2022\\\\\n",
       "\t chr2  & 202924671 & 202925412 & chr2:202924671:202925412  & GSE114150\\_Brain & ENSG00000138380 & CARF    & chr2  & 202924956 & 202924956 & 2:202924956:C:T  & -5.025000 & 0.004598489 &  1 & chr2\\_201677542\\_203951659  & AD\\_Bellenguez\\_2022\\\\\n",
       "\t chr2  & 202946486 & 202947486 & chr2:202946450:202947523  & GSE114150\\_Brain & ENSG00000138442 & WDR12   & chr2  & 202946905 & 202946905 & 2:202946905:G:A  & -4.983333 & 0.003854730 &  1 & chr2\\_201677542\\_203951659  & AD\\_Bellenguez\\_2022\\\\\n",
       "\t chr2  & 202946486 & 202947486 & chr2:202946450:202947523  & GSE114150\\_Brain & ENSG00000138442 & WDR12   & chr2  & 202947189 & 202947189 & 2:202947189:A:C  & -5.008333 & 0.004282178 &  1 & chr2\\_201677542\\_203951659  & AD\\_Bellenguez\\_2022\\\\\n",
       "\t chr2  & 202946486 & 202947486 & chr2:202946450:202947523  & GSE114150\\_Brain & ENSG00000138380 & CARF    & chr2  & 202946905 & 202946905 & 2:202946905:G:A  & -4.983333 & 0.003854730 &  1 & chr2\\_201677542\\_203951659  & AD\\_Bellenguez\\_2022\\\\\n",
       "\t chr2  & 202946486 & 202947486 & chr2:202946450:202947523  & GSE114150\\_Brain & ENSG00000138380 & CARF    & chr2  & 202947189 & 202947189 & 2:202947189:A:C  & -5.008333 & 0.004282178 &  1 & chr2\\_201677542\\_203951659  & AD\\_Bellenguez\\_2022\\\\\n",
       "\t chr2  & 202983419 & 202983739 & chr2:202983419:202983739  & GSE114150\\_Brain & ENSG00000138442 & WDR12   & chr2  & 202983679 & 202983679 & 2:202983679:G:A  & -5.008333 & 0.004282489 &  1 & chr2\\_201677542\\_203951659  & AD\\_Bellenguez\\_2022\\\\\n",
       "\t chr2  & 202983419 & 202983739 & chr2:202983419:202983739  & GSE114150\\_Brain & ENSG00000138380 & CARF    & chr2  & 202983679 & 202983679 & 2:202983679:G:A  & -5.008333 & 0.004282489 &  1 & chr2\\_201677542\\_203951659  & AD\\_Bellenguez\\_2022\\\\\n",
       "\t chr5  & 177515977 & 177516937 & chr5:177515977:177516937  & GSE114150\\_Brain & ENSG00000183258 & DDX41   & chr5  & 177516672 & 177516672 & 5:177516672:C:T  &  4.424731 & 0.040098390 &  1 & chr5\\_176014330\\_177963776  & AD\\_Bellenguez\\_2022\\\\\n",
       "\t chr7  & 100374156 & 100374656 & chr7:100374156:100374656  & GSE114150\\_Brain & ENSG00000085514 & PILRA   & chr7  & 100374211 & 100374211 & 7:100374211:A:G  &  8.556818 & 0.205500185 &  1 & chr7\\_98297733\\_101733715   & AD\\_Bellenguez\\_2022\\\\\n",
       "\t chr8  &  27604960 &  27605366 & chr8:27604960:27605366    & GSE114150\\_Brain & ENSG00000120885 & CLU     & chr8  &  27604964 &  27604964 & 8:27604964:A:G   & 11.963855 & 0.037208520 &  1 & chr8\\_27515963\\_29469590    & AD\\_Bellenguez\\_2022\\\\\n",
       "\t chr12 & 113159016 & 113159156 & chr12:113159016:113159156 & brain\\_cortex    & ENSG00000186710 & CFAP73  & chr12 & 113159061 & 113159061 & 12:113159061:G:A &  4.575949 & 0.006127578 &  1 & chr12\\_112825713\\_115165608 & AD\\_Bellenguez\\_2022\\\\\n",
       "\t chr12 & 113159016 & 113159156 & chr12:113159016:113159156 & brain\\_cortex    & ENSG00000123064 & DDX54   & chr12 & 113159061 & 113159061 & 12:113159061:G:A &  4.575949 & 0.006127578 &  1 & chr12\\_112825713\\_115165608 & AD\\_Bellenguez\\_2022\\\\\n",
       "\t chr12 & 113159016 & 113159156 & chr12:113159016:113159156 & brain\\_cortex    & ENSG00000186710 & CFAP73  & chr12 & 113159061 & 113159061 & 12:113159061:G:A &  4.575949 & 0.006127578 &  1 & chr12\\_112825713\\_115165608 & AD\\_Bellenguez\\_2022\\\\\n",
       "\t chr12 & 113159016 & 113159156 & chr12:113159016:113159156 & brain\\_cortex    & ENSG00000123064 & DDX54   & chr12 & 113159061 & 113159061 & 12:113159061:G:A &  4.575949 & 0.006127578 &  1 & chr12\\_112825713\\_115165608 & AD\\_Bellenguez\\_2022\\\\\n",
       "\t chr12 & 113159016 & 113159156 & chr12:113159016:113159156 & brain\\_cortex    & ENSG00000186710 & CFAP73  & chr12 & 113159061 & 113159061 & 12:113159061:G:A &  4.575949 & 0.006127578 &  1 & chr12\\_112825713\\_115165608 & AD\\_Bellenguez\\_2022\\\\\n",
       "\t chr12 & 113159016 & 113159156 & chr12:113159016:113159156 & brain\\_cortex    & ENSG00000123064 & DDX54   & chr12 & 113159061 & 113159061 & 12:113159061:G:A &  4.575949 & 0.006127578 &  1 & chr12\\_112825713\\_115165608 & AD\\_Bellenguez\\_2022\\\\\n",
       "\t ⋮ & ⋮ & ⋮ & ⋮ & ⋮ & ⋮ & ⋮ & ⋮ & ⋮ & ⋮ & ⋮ & ⋮ & ⋮ & ⋮ & ⋮ & ⋮\\\\\n",
       "\t chr12 & 113163224 & 113164117 & chr12:113163224:113164117 & brain\\_cortex & ENSG00000123064 & DDX54  & chr12 & 113163602 & 113163602 & 12:113163602:T:C &  4.458065 & 0.003691296 & 1 & chr12\\_112825713\\_115165608 & AD\\_Bellenguez\\_2022\\\\\n",
       "\t chr19 &   1829160 &   1830160 & chr19:1828583:1830738     & brain\\_cortex & ENSG00000079313 & REXO1  & chr19 &   1829830 &   1829830 & 19:1829830:G:A   & -5.568182 & 0.037866345 & 1 & chr19\\_1507536\\_3368979     & AD\\_Bellenguez\\_2022\\\\\n",
       "\t chr12 & 113158741 & 113159173 & chr12:113158741:113159173 & brain\\_cortex & ENSG00000186710 & CFAP73 & chr12 & 113159061 & 113159061 & 12:113159061:G:A &  4.575949 & 0.006127578 & 1 & chr12\\_112825713\\_115165608 & AD\\_Bellenguez\\_2022\\\\\n",
       "\t chr12 & 113158741 & 113159173 & chr12:113158741:113159173 & brain\\_cortex & ENSG00000123064 & DDX54  & chr12 & 113159061 & 113159061 & 12:113159061:G:A &  4.575949 & 0.006127578 & 1 & chr12\\_112825713\\_115165608 & AD\\_Bellenguez\\_2022\\\\\n",
       "\t chr12 & 113158741 & 113159173 & chr12:113158741:113159173 & brain\\_cortex & ENSG00000186710 & CFAP73 & chr12 & 113159061 & 113159061 & 12:113159061:G:A &  4.575949 & 0.006127578 & 1 & chr12\\_112825713\\_115165608 & AD\\_Bellenguez\\_2022\\\\\n",
       "\t chr12 & 113158741 & 113159173 & chr12:113158741:113159173 & brain\\_cortex & ENSG00000123064 & DDX54  & chr12 & 113159061 & 113159061 & 12:113159061:G:A &  4.575949 & 0.006127578 & 1 & chr12\\_112825713\\_115165608 & AD\\_Bellenguez\\_2022\\\\\n",
       "\t chr12 & 113158741 & 113159173 & chr12:113158741:113159173 & brain\\_cortex & ENSG00000186710 & CFAP73 & chr12 & 113159061 & 113159061 & 12:113159061:G:A &  4.575949 & 0.006127578 & 1 & chr12\\_112825713\\_115165608 & AD\\_Bellenguez\\_2022\\\\\n",
       "\t chr12 & 113158741 & 113159173 & chr12:113158741:113159173 & brain\\_cortex & ENSG00000123064 & DDX54  & chr12 & 113159061 & 113159061 & 12:113159061:G:A &  4.575949 & 0.006127578 & 1 & chr12\\_112825713\\_115165608 & AD\\_Bellenguez\\_2022\\\\\n",
       "\t chr12 & 113158986 & 113159156 & chr12:113158986:113159156 & brain\\_cortex & ENSG00000186710 & CFAP73 & chr12 & 113159061 & 113159061 & 12:113159061:G:A &  4.575949 & 0.006127578 & 1 & chr12\\_112825713\\_115165608 & AD\\_Bellenguez\\_2022\\\\\n",
       "\t chr12 & 113158986 & 113159156 & chr12:113158986:113159156 & brain\\_cortex & ENSG00000123064 & DDX54  & chr12 & 113159061 & 113159061 & 12:113159061:G:A &  4.575949 & 0.006127578 & 1 & chr12\\_112825713\\_115165608 & AD\\_Bellenguez\\_2022\\\\\n",
       "\t chr12 & 113158986 & 113159156 & chr12:113158986:113159156 & brain\\_cortex & ENSG00000186710 & CFAP73 & chr12 & 113159061 & 113159061 & 12:113159061:G:A &  4.575949 & 0.006127578 & 1 & chr12\\_112825713\\_115165608 & AD\\_Bellenguez\\_2022\\\\\n",
       "\t chr12 & 113158986 & 113159156 & chr12:113158986:113159156 & brain\\_cortex & ENSG00000123064 & DDX54  & chr12 & 113159061 & 113159061 & 12:113159061:G:A &  4.575949 & 0.006127578 & 1 & chr12\\_112825713\\_115165608 & AD\\_Bellenguez\\_2022\\\\\n",
       "\t chr12 & 113158986 & 113159156 & chr12:113158986:113159156 & brain\\_cortex & ENSG00000186710 & CFAP73 & chr12 & 113159061 & 113159061 & 12:113159061:G:A &  4.575949 & 0.006127578 & 1 & chr12\\_112825713\\_115165608 & AD\\_Bellenguez\\_2022\\\\\n",
       "\t chr12 & 113158986 & 113159156 & chr12:113158986:113159156 & brain\\_cortex & ENSG00000123064 & DDX54  & chr12 & 113159061 & 113159061 & 12:113159061:G:A &  4.575949 & 0.006127578 & 1 & chr12\\_112825713\\_115165608 & AD\\_Bellenguez\\_2022\\\\\n",
       "\t chr12 & 113163224 & 113164117 & chr12:113163224:113164117 & brain\\_cortex & ENSG00000123064 & DDX54  & chr12 & 113163602 & 113163602 & 12:113163602:T:C &  4.458065 & 0.003691296 & 1 & chr12\\_112825713\\_115165608 & AD\\_Bellenguez\\_2022\\\\\n",
       "\t chr19 &   1829170 &   1830170 & chr19:1828583:1830758     & brain\\_cortex & ENSG00000079313 & REXO1  & chr19 &   1829830 &   1829830 & 19:1829830:G:A   & -5.568182 & 0.037866345 & 1 & chr19\\_1507536\\_3368979     & AD\\_Bellenguez\\_2022\\\\\n",
       "\t chr2  & 134953447 & 134954208 & chr2:134953447:134954208  & hNPC         & ENSG00000082258 & CCNT2  & chr2  & 134953946 & 134953946 & 2:134953946:C:T  &  4.535714 & 0.010923557 & 1 & chr2\\_134400811\\_137009736  & AD\\_Bellenguez\\_2022\\\\\n",
       "\t chr2  & 134953447 & 134954208 & chr2:134953447:134954208  & hNPC         & ENSG00000082258 & CCNT2  & chr2  & 134954087 & 134954087 & 2:134954087:G:A  &  4.511905 & 0.009860142 & 1 & chr2\\_134400811\\_137009736  & AD\\_Bellenguez\\_2022\\\\\n",
       "\t chr2  & 202888094 & 202889094 & chr2:202884498:202892690  & hNPC         & ENSG00000138442 & WDR12  & chr2  & 202888293 & 202888293 & 2:202888293:G:A  & -5.041667 & 0.004942385 & 1 & chr2\\_201677542\\_203951659  & AD\\_Bellenguez\\_2022\\\\\n",
       "\t chr2  & 202888094 & 202889094 & chr2:202884498:202892690  & hNPC         & ENSG00000138442 & WDR12  & chr2  & 202888349 & 202888349 & 2:202888349:T:C  & -5.033333 & 0.004766691 & 1 & chr2\\_201677542\\_203951659  & AD\\_Bellenguez\\_2022\\\\\n",
       "\t chr8  &  27607034 &  27608034 & chr8:27606436:27608633    & hNPC         & ENSG00000120885 & CLU    & chr8  &  27607412 &  27607412 & 8:27607412:A:G   & 11.952381 & 0.028314120 & 1 & chr8\\_27515963\\_29469590    & AD\\_Bellenguez\\_2022\\\\\n",
       "\t chr8  &  27607034 &  27608034 & chr8:27606436:27608633    & hNPC         & ENSG00000120885 & CLU    & chr8  &  27607795 &  27607795 & 8:27607795:T:C   & 12.072289 & 0.143118125 & 1 & chr8\\_27515963\\_29469590    & AD\\_Bellenguez\\_2022\\\\\n",
       "\t chr2  & 134952676 & 134952845 & chr2:134952676:134952845  & hNPC         & ENSG00000082258 & CCNT2  & chr2  & 134952752 & 134952752 & 2:134952752:A:G  &  4.511905 & 0.009860142 & 1 & chr2\\_134400811\\_137009736  & AD\\_Bellenguez\\_2022\\\\\n",
       "\t chr2  & 134953490 & 134954260 & chr2:134953490:134954260  & hNPC         & ENSG00000082258 & CCNT2  & chr2  & 134953946 & 134953946 & 2:134953946:C:T  &  4.535714 & 0.010923557 & 1 & chr2\\_134400811\\_137009736  & AD\\_Bellenguez\\_2022\\\\\n",
       "\t chr2  & 134953490 & 134954260 & chr2:134953490:134954260  & hNPC         & ENSG00000082258 & CCNT2  & chr2  & 134954087 & 134954087 & 2:134954087:G:A  &  4.511905 & 0.009860142 & 1 & chr2\\_134400811\\_137009736  & AD\\_Bellenguez\\_2022\\\\\n",
       "\t chr2  & 134952717 & 134952798 & chr2:134952717:134952798  & hNPC         & ENSG00000082258 & CCNT2  & chr2  & 134952752 & 134952752 & 2:134952752:A:G  &  4.511905 & 0.009860142 & 1 & chr2\\_134400811\\_137009736  & AD\\_Bellenguez\\_2022\\\\\n",
       "\t chr2  & 134953447 & 134954208 & chr2:134953447:134954208  & hNPC         & ENSG00000082258 & CCNT2  & chr2  & 134953946 & 134953946 & 2:134953946:C:T  &  4.535714 & 0.010923557 & 1 & chr2\\_134400811\\_137009736  & AD\\_Bellenguez\\_2022\\\\\n",
       "\t chr2  & 134953447 & 134954208 & chr2:134953447:134954208  & hNPC         & ENSG00000082258 & CCNT2  & chr2  & 134954087 & 134954087 & 2:134954087:G:A  &  4.511905 & 0.009860142 & 1 & chr2\\_134400811\\_137009736  & AD\\_Bellenguez\\_2022\\\\\n",
       "\t chr2  & 202888099 & 202889099 & chr2:202884498:202892700  & hNPC         & ENSG00000138442 & WDR12  & chr2  & 202888293 & 202888293 & 2:202888293:G:A  & -5.041667 & 0.004942385 & 1 & chr2\\_201677542\\_203951659  & AD\\_Bellenguez\\_2022\\\\\n",
       "\t chr2  & 202888099 & 202889099 & chr2:202884498:202892700  & hNPC         & ENSG00000138442 & WDR12  & chr2  & 202888349 & 202888349 & 2:202888349:T:C  & -5.033333 & 0.004766691 & 1 & chr2\\_201677542\\_203951659  & AD\\_Bellenguez\\_2022\\\\\n",
       "\\end{tabular}\n"
      ],
      "text/markdown": [
       "\n",
       "A data.frame: 115 × 16\n",
       "\n",
       "| chrom &lt;chr&gt; | start &lt;int&gt; | end &lt;int&gt; | hg38_ID &lt;chr&gt; | context &lt;chr&gt; | gene_id &lt;chr&gt; | gene_name &lt;chr&gt; | chr &lt;chr&gt; | start_variant &lt;int&gt; | end_variant &lt;int&gt; | variant_id &lt;chr&gt; | z &lt;dbl&gt; | pip &lt;dbl&gt; | cs_coverage_0.95_min_corr &lt;int&gt; | block &lt;chr&gt; | study &lt;chr&gt; |\n",
       "|---|---|---|---|---|---|---|---|---|---|---|---|---|---|---|---|\n",
       "| chr12 | 113158551 | 113159178 | chr12:113158551:113159178 | GSE114150_Brain | ENSG00000186710 | CFAP73  | chr12 | 113159061 | 113159061 | 12:113159061:G:A |  4.575949 | 0.006127578 |  1 | chr12_112825713_115165608 | AD_Bellenguez_2022 |\n",
       "| chr12 | 113158551 | 113159178 | chr12:113158551:113159178 | GSE114150_Brain | ENSG00000123064 | DDX54   | chr12 | 113159061 | 113159061 | 12:113159061:G:A |  4.575949 | 0.006127578 |  1 | chr12_112825713_115165608 | AD_Bellenguez_2022 |\n",
       "| chr12 | 113161821 | 113162088 | chr12:113161821:113162088 | GSE114150_Brain | ENSG00000123064 | DDX54   | chr12 | 113162061 | 113162061 | 12:113162061:T:C |  4.490323 | 0.004234860 |  1 | chr12_112825713_115165608 | AD_Bellenguez_2022 |\n",
       "| chr12 | 113162795 | 113163180 | chr12:113162795:113163180 | GSE114150_Brain | ENSG00000123064 | DDX54   | chr12 | 113163098 | 113163098 | 12:113163098:A:G |  4.483871 | 0.004119767 |  1 | chr12_112825713_115165608 | AD_Bellenguez_2022 |\n",
       "| chr12 | 113162795 | 113163180 | chr12:113162795:113163180 | GSE114150_Brain | ENSG00000123064 | DDX54   | chr12 | 113163135 | 113163135 | 12:113163135:C:T |  4.518987 | 0.004788665 |  1 | chr12_112825713_115165608 | AD_Bellenguez_2022 |\n",
       "| chr12 | 113191735 | 113192015 | chr12:113191735:113192015 | GSE114150_Brain | ENSG00000139405 | RITA1   | chr12 | 113191832 | 113191832 | 12:113191832:G:A |  4.449367 | 0.003557680 |  1 | chr12_112825713_115165608 | AD_Bellenguez_2022 |\n",
       "| chr12 | 113220931 | 113221081 | chr12:113220931:113221081 | GSE114150_Brain | ENSG00000166578 | IQCD    | chr12 | 113221042 | 113221042 | 12:113221042:G:A |  4.563291 | 0.005799341 |  1 | chr12_112825713_115165608 | AD_Bellenguez_2022 |\n",
       "| chr12 | 113220931 | 113221081 | chr12:113220931:113221081 | GSE114150_Brain | ENSG00000186815 | TPCN1   | chr12 | 113221042 | 113221042 | 12:113221042:G:A |  4.563291 | 0.005799341 |  1 | chr12_112825713_115165608 | AD_Bellenguez_2022 |\n",
       "| chr19 |   1854218 |   1854735 | chr19:1854218:1854735     | GSE114150_Brain | ENSG00000129911 | KLF16   | chr19 |   1854254 |   1854254 | 19:1854254:G:GC  | -5.815217 | 0.165940073 |  1 | chr19_1507536_3368979     | AD_Bellenguez_2022 |\n",
       "| chr19 |  44859854 |  44860081 | chr19:44859854:44860081   | GSE114150_Brain | ENSG00000130202 | NECTIN2 | chr19 |  44859997 |  44859997 | 19:44859997:G:A  | 10.449438 | 0.192689914 | 15 | chr19_42346101_44935906   | AD_Bellenguez_2022 |\n",
       "| chr2  | 134953712 | 134954712 | chr2:134953245:134955180  | GSE114150_Brain | ENSG00000082258 | CCNT2   | chr2  | 134953946 | 134953946 | 2:134953946:C:T  |  4.535714 | 0.010923557 |  1 | chr2_134400811_137009736  | AD_Bellenguez_2022 |\n",
       "| chr2  | 134953712 | 134954712 | chr2:134953245:134955180  | GSE114150_Brain | ENSG00000082258 | CCNT2   | chr2  | 134954087 | 134954087 | 2:134954087:G:A  |  4.511905 | 0.009860142 |  1 | chr2_134400811_137009736  | AD_Bellenguez_2022 |\n",
       "| chr2  | 202843035 | 202843434 | chr2:202843035:202843434  | GSE114150_Brain | ENSG00000163596 | ICA1L   | chr2  | 202843155 | 202843155 | 2:202843155:G:A  | -5.008333 | 0.004282488 |  1 | chr2_201677542_203951659  | AD_Bellenguez_2022 |\n",
       "| chr2  | 202924671 | 202925412 | chr2:202924671:202925412  | GSE114150_Brain | ENSG00000138442 | WDR12   | chr2  | 202924956 | 202924956 | 2:202924956:C:T  | -5.025000 | 0.004598489 |  1 | chr2_201677542_203951659  | AD_Bellenguez_2022 |\n",
       "| chr2  | 202924671 | 202925412 | chr2:202924671:202925412  | GSE114150_Brain | ENSG00000138380 | CARF    | chr2  | 202924956 | 202924956 | 2:202924956:C:T  | -5.025000 | 0.004598489 |  1 | chr2_201677542_203951659  | AD_Bellenguez_2022 |\n",
       "| chr2  | 202946486 | 202947486 | chr2:202946450:202947523  | GSE114150_Brain | ENSG00000138442 | WDR12   | chr2  | 202946905 | 202946905 | 2:202946905:G:A  | -4.983333 | 0.003854730 |  1 | chr2_201677542_203951659  | AD_Bellenguez_2022 |\n",
       "| chr2  | 202946486 | 202947486 | chr2:202946450:202947523  | GSE114150_Brain | ENSG00000138442 | WDR12   | chr2  | 202947189 | 202947189 | 2:202947189:A:C  | -5.008333 | 0.004282178 |  1 | chr2_201677542_203951659  | AD_Bellenguez_2022 |\n",
       "| chr2  | 202946486 | 202947486 | chr2:202946450:202947523  | GSE114150_Brain | ENSG00000138380 | CARF    | chr2  | 202946905 | 202946905 | 2:202946905:G:A  | -4.983333 | 0.003854730 |  1 | chr2_201677542_203951659  | AD_Bellenguez_2022 |\n",
       "| chr2  | 202946486 | 202947486 | chr2:202946450:202947523  | GSE114150_Brain | ENSG00000138380 | CARF    | chr2  | 202947189 | 202947189 | 2:202947189:A:C  | -5.008333 | 0.004282178 |  1 | chr2_201677542_203951659  | AD_Bellenguez_2022 |\n",
       "| chr2  | 202983419 | 202983739 | chr2:202983419:202983739  | GSE114150_Brain | ENSG00000138442 | WDR12   | chr2  | 202983679 | 202983679 | 2:202983679:G:A  | -5.008333 | 0.004282489 |  1 | chr2_201677542_203951659  | AD_Bellenguez_2022 |\n",
       "| chr2  | 202983419 | 202983739 | chr2:202983419:202983739  | GSE114150_Brain | ENSG00000138380 | CARF    | chr2  | 202983679 | 202983679 | 2:202983679:G:A  | -5.008333 | 0.004282489 |  1 | chr2_201677542_203951659  | AD_Bellenguez_2022 |\n",
       "| chr5  | 177515977 | 177516937 | chr5:177515977:177516937  | GSE114150_Brain | ENSG00000183258 | DDX41   | chr5  | 177516672 | 177516672 | 5:177516672:C:T  |  4.424731 | 0.040098390 |  1 | chr5_176014330_177963776  | AD_Bellenguez_2022 |\n",
       "| chr7  | 100374156 | 100374656 | chr7:100374156:100374656  | GSE114150_Brain | ENSG00000085514 | PILRA   | chr7  | 100374211 | 100374211 | 7:100374211:A:G  |  8.556818 | 0.205500185 |  1 | chr7_98297733_101733715   | AD_Bellenguez_2022 |\n",
       "| chr8  |  27604960 |  27605366 | chr8:27604960:27605366    | GSE114150_Brain | ENSG00000120885 | CLU     | chr8  |  27604964 |  27604964 | 8:27604964:A:G   | 11.963855 | 0.037208520 |  1 | chr8_27515963_29469590    | AD_Bellenguez_2022 |\n",
       "| chr12 | 113159016 | 113159156 | chr12:113159016:113159156 | brain_cortex    | ENSG00000186710 | CFAP73  | chr12 | 113159061 | 113159061 | 12:113159061:G:A |  4.575949 | 0.006127578 |  1 | chr12_112825713_115165608 | AD_Bellenguez_2022 |\n",
       "| chr12 | 113159016 | 113159156 | chr12:113159016:113159156 | brain_cortex    | ENSG00000123064 | DDX54   | chr12 | 113159061 | 113159061 | 12:113159061:G:A |  4.575949 | 0.006127578 |  1 | chr12_112825713_115165608 | AD_Bellenguez_2022 |\n",
       "| chr12 | 113159016 | 113159156 | chr12:113159016:113159156 | brain_cortex    | ENSG00000186710 | CFAP73  | chr12 | 113159061 | 113159061 | 12:113159061:G:A |  4.575949 | 0.006127578 |  1 | chr12_112825713_115165608 | AD_Bellenguez_2022 |\n",
       "| chr12 | 113159016 | 113159156 | chr12:113159016:113159156 | brain_cortex    | ENSG00000123064 | DDX54   | chr12 | 113159061 | 113159061 | 12:113159061:G:A |  4.575949 | 0.006127578 |  1 | chr12_112825713_115165608 | AD_Bellenguez_2022 |\n",
       "| chr12 | 113159016 | 113159156 | chr12:113159016:113159156 | brain_cortex    | ENSG00000186710 | CFAP73  | chr12 | 113159061 | 113159061 | 12:113159061:G:A |  4.575949 | 0.006127578 |  1 | chr12_112825713_115165608 | AD_Bellenguez_2022 |\n",
       "| chr12 | 113159016 | 113159156 | chr12:113159016:113159156 | brain_cortex    | ENSG00000123064 | DDX54   | chr12 | 113159061 | 113159061 | 12:113159061:G:A |  4.575949 | 0.006127578 |  1 | chr12_112825713_115165608 | AD_Bellenguez_2022 |\n",
       "| ⋮ | ⋮ | ⋮ | ⋮ | ⋮ | ⋮ | ⋮ | ⋮ | ⋮ | ⋮ | ⋮ | ⋮ | ⋮ | ⋮ | ⋮ | ⋮ |\n",
       "| chr12 | 113163224 | 113164117 | chr12:113163224:113164117 | brain_cortex | ENSG00000123064 | DDX54  | chr12 | 113163602 | 113163602 | 12:113163602:T:C |  4.458065 | 0.003691296 | 1 | chr12_112825713_115165608 | AD_Bellenguez_2022 |\n",
       "| chr19 |   1829160 |   1830160 | chr19:1828583:1830738     | brain_cortex | ENSG00000079313 | REXO1  | chr19 |   1829830 |   1829830 | 19:1829830:G:A   | -5.568182 | 0.037866345 | 1 | chr19_1507536_3368979     | AD_Bellenguez_2022 |\n",
       "| chr12 | 113158741 | 113159173 | chr12:113158741:113159173 | brain_cortex | ENSG00000186710 | CFAP73 | chr12 | 113159061 | 113159061 | 12:113159061:G:A |  4.575949 | 0.006127578 | 1 | chr12_112825713_115165608 | AD_Bellenguez_2022 |\n",
       "| chr12 | 113158741 | 113159173 | chr12:113158741:113159173 | brain_cortex | ENSG00000123064 | DDX54  | chr12 | 113159061 | 113159061 | 12:113159061:G:A |  4.575949 | 0.006127578 | 1 | chr12_112825713_115165608 | AD_Bellenguez_2022 |\n",
       "| chr12 | 113158741 | 113159173 | chr12:113158741:113159173 | brain_cortex | ENSG00000186710 | CFAP73 | chr12 | 113159061 | 113159061 | 12:113159061:G:A |  4.575949 | 0.006127578 | 1 | chr12_112825713_115165608 | AD_Bellenguez_2022 |\n",
       "| chr12 | 113158741 | 113159173 | chr12:113158741:113159173 | brain_cortex | ENSG00000123064 | DDX54  | chr12 | 113159061 | 113159061 | 12:113159061:G:A |  4.575949 | 0.006127578 | 1 | chr12_112825713_115165608 | AD_Bellenguez_2022 |\n",
       "| chr12 | 113158741 | 113159173 | chr12:113158741:113159173 | brain_cortex | ENSG00000186710 | CFAP73 | chr12 | 113159061 | 113159061 | 12:113159061:G:A |  4.575949 | 0.006127578 | 1 | chr12_112825713_115165608 | AD_Bellenguez_2022 |\n",
       "| chr12 | 113158741 | 113159173 | chr12:113158741:113159173 | brain_cortex | ENSG00000123064 | DDX54  | chr12 | 113159061 | 113159061 | 12:113159061:G:A |  4.575949 | 0.006127578 | 1 | chr12_112825713_115165608 | AD_Bellenguez_2022 |\n",
       "| chr12 | 113158986 | 113159156 | chr12:113158986:113159156 | brain_cortex | ENSG00000186710 | CFAP73 | chr12 | 113159061 | 113159061 | 12:113159061:G:A |  4.575949 | 0.006127578 | 1 | chr12_112825713_115165608 | AD_Bellenguez_2022 |\n",
       "| chr12 | 113158986 | 113159156 | chr12:113158986:113159156 | brain_cortex | ENSG00000123064 | DDX54  | chr12 | 113159061 | 113159061 | 12:113159061:G:A |  4.575949 | 0.006127578 | 1 | chr12_112825713_115165608 | AD_Bellenguez_2022 |\n",
       "| chr12 | 113158986 | 113159156 | chr12:113158986:113159156 | brain_cortex | ENSG00000186710 | CFAP73 | chr12 | 113159061 | 113159061 | 12:113159061:G:A |  4.575949 | 0.006127578 | 1 | chr12_112825713_115165608 | AD_Bellenguez_2022 |\n",
       "| chr12 | 113158986 | 113159156 | chr12:113158986:113159156 | brain_cortex | ENSG00000123064 | DDX54  | chr12 | 113159061 | 113159061 | 12:113159061:G:A |  4.575949 | 0.006127578 | 1 | chr12_112825713_115165608 | AD_Bellenguez_2022 |\n",
       "| chr12 | 113158986 | 113159156 | chr12:113158986:113159156 | brain_cortex | ENSG00000186710 | CFAP73 | chr12 | 113159061 | 113159061 | 12:113159061:G:A |  4.575949 | 0.006127578 | 1 | chr12_112825713_115165608 | AD_Bellenguez_2022 |\n",
       "| chr12 | 113158986 | 113159156 | chr12:113158986:113159156 | brain_cortex | ENSG00000123064 | DDX54  | chr12 | 113159061 | 113159061 | 12:113159061:G:A |  4.575949 | 0.006127578 | 1 | chr12_112825713_115165608 | AD_Bellenguez_2022 |\n",
       "| chr12 | 113163224 | 113164117 | chr12:113163224:113164117 | brain_cortex | ENSG00000123064 | DDX54  | chr12 | 113163602 | 113163602 | 12:113163602:T:C |  4.458065 | 0.003691296 | 1 | chr12_112825713_115165608 | AD_Bellenguez_2022 |\n",
       "| chr19 |   1829170 |   1830170 | chr19:1828583:1830758     | brain_cortex | ENSG00000079313 | REXO1  | chr19 |   1829830 |   1829830 | 19:1829830:G:A   | -5.568182 | 0.037866345 | 1 | chr19_1507536_3368979     | AD_Bellenguez_2022 |\n",
       "| chr2  | 134953447 | 134954208 | chr2:134953447:134954208  | hNPC         | ENSG00000082258 | CCNT2  | chr2  | 134953946 | 134953946 | 2:134953946:C:T  |  4.535714 | 0.010923557 | 1 | chr2_134400811_137009736  | AD_Bellenguez_2022 |\n",
       "| chr2  | 134953447 | 134954208 | chr2:134953447:134954208  | hNPC         | ENSG00000082258 | CCNT2  | chr2  | 134954087 | 134954087 | 2:134954087:G:A  |  4.511905 | 0.009860142 | 1 | chr2_134400811_137009736  | AD_Bellenguez_2022 |\n",
       "| chr2  | 202888094 | 202889094 | chr2:202884498:202892690  | hNPC         | ENSG00000138442 | WDR12  | chr2  | 202888293 | 202888293 | 2:202888293:G:A  | -5.041667 | 0.004942385 | 1 | chr2_201677542_203951659  | AD_Bellenguez_2022 |\n",
       "| chr2  | 202888094 | 202889094 | chr2:202884498:202892690  | hNPC         | ENSG00000138442 | WDR12  | chr2  | 202888349 | 202888349 | 2:202888349:T:C  | -5.033333 | 0.004766691 | 1 | chr2_201677542_203951659  | AD_Bellenguez_2022 |\n",
       "| chr8  |  27607034 |  27608034 | chr8:27606436:27608633    | hNPC         | ENSG00000120885 | CLU    | chr8  |  27607412 |  27607412 | 8:27607412:A:G   | 11.952381 | 0.028314120 | 1 | chr8_27515963_29469590    | AD_Bellenguez_2022 |\n",
       "| chr8  |  27607034 |  27608034 | chr8:27606436:27608633    | hNPC         | ENSG00000120885 | CLU    | chr8  |  27607795 |  27607795 | 8:27607795:T:C   | 12.072289 | 0.143118125 | 1 | chr8_27515963_29469590    | AD_Bellenguez_2022 |\n",
       "| chr2  | 134952676 | 134952845 | chr2:134952676:134952845  | hNPC         | ENSG00000082258 | CCNT2  | chr2  | 134952752 | 134952752 | 2:134952752:A:G  |  4.511905 | 0.009860142 | 1 | chr2_134400811_137009736  | AD_Bellenguez_2022 |\n",
       "| chr2  | 134953490 | 134954260 | chr2:134953490:134954260  | hNPC         | ENSG00000082258 | CCNT2  | chr2  | 134953946 | 134953946 | 2:134953946:C:T  |  4.535714 | 0.010923557 | 1 | chr2_134400811_137009736  | AD_Bellenguez_2022 |\n",
       "| chr2  | 134953490 | 134954260 | chr2:134953490:134954260  | hNPC         | ENSG00000082258 | CCNT2  | chr2  | 134954087 | 134954087 | 2:134954087:G:A  |  4.511905 | 0.009860142 | 1 | chr2_134400811_137009736  | AD_Bellenguez_2022 |\n",
       "| chr2  | 134952717 | 134952798 | chr2:134952717:134952798  | hNPC         | ENSG00000082258 | CCNT2  | chr2  | 134952752 | 134952752 | 2:134952752:A:G  |  4.511905 | 0.009860142 | 1 | chr2_134400811_137009736  | AD_Bellenguez_2022 |\n",
       "| chr2  | 134953447 | 134954208 | chr2:134953447:134954208  | hNPC         | ENSG00000082258 | CCNT2  | chr2  | 134953946 | 134953946 | 2:134953946:C:T  |  4.535714 | 0.010923557 | 1 | chr2_134400811_137009736  | AD_Bellenguez_2022 |\n",
       "| chr2  | 134953447 | 134954208 | chr2:134953447:134954208  | hNPC         | ENSG00000082258 | CCNT2  | chr2  | 134954087 | 134954087 | 2:134954087:G:A  |  4.511905 | 0.009860142 | 1 | chr2_134400811_137009736  | AD_Bellenguez_2022 |\n",
       "| chr2  | 202888099 | 202889099 | chr2:202884498:202892700  | hNPC         | ENSG00000138442 | WDR12  | chr2  | 202888293 | 202888293 | 2:202888293:G:A  | -5.041667 | 0.004942385 | 1 | chr2_201677542_203951659  | AD_Bellenguez_2022 |\n",
       "| chr2  | 202888099 | 202889099 | chr2:202884498:202892700  | hNPC         | ENSG00000138442 | WDR12  | chr2  | 202888349 | 202888349 | 2:202888349:T:C  | -5.033333 | 0.004766691 | 1 | chr2_201677542_203951659  | AD_Bellenguez_2022 |\n",
       "\n"
      ],
      "text/plain": [
       "    chrom start     end       hg38_ID                   context        \n",
       "1   chr12 113158551 113159178 chr12:113158551:113159178 GSE114150_Brain\n",
       "2   chr12 113158551 113159178 chr12:113158551:113159178 GSE114150_Brain\n",
       "3   chr12 113161821 113162088 chr12:113161821:113162088 GSE114150_Brain\n",
       "4   chr12 113162795 113163180 chr12:113162795:113163180 GSE114150_Brain\n",
       "5   chr12 113162795 113163180 chr12:113162795:113163180 GSE114150_Brain\n",
       "6   chr12 113191735 113192015 chr12:113191735:113192015 GSE114150_Brain\n",
       "7   chr12 113220931 113221081 chr12:113220931:113221081 GSE114150_Brain\n",
       "8   chr12 113220931 113221081 chr12:113220931:113221081 GSE114150_Brain\n",
       "9   chr19   1854218   1854735 chr19:1854218:1854735     GSE114150_Brain\n",
       "10  chr19  44859854  44860081 chr19:44859854:44860081   GSE114150_Brain\n",
       "11  chr2  134953712 134954712 chr2:134953245:134955180  GSE114150_Brain\n",
       "12  chr2  134953712 134954712 chr2:134953245:134955180  GSE114150_Brain\n",
       "13  chr2  202843035 202843434 chr2:202843035:202843434  GSE114150_Brain\n",
       "14  chr2  202924671 202925412 chr2:202924671:202925412  GSE114150_Brain\n",
       "15  chr2  202924671 202925412 chr2:202924671:202925412  GSE114150_Brain\n",
       "16  chr2  202946486 202947486 chr2:202946450:202947523  GSE114150_Brain\n",
       "17  chr2  202946486 202947486 chr2:202946450:202947523  GSE114150_Brain\n",
       "18  chr2  202946486 202947486 chr2:202946450:202947523  GSE114150_Brain\n",
       "19  chr2  202946486 202947486 chr2:202946450:202947523  GSE114150_Brain\n",
       "20  chr2  202983419 202983739 chr2:202983419:202983739  GSE114150_Brain\n",
       "21  chr2  202983419 202983739 chr2:202983419:202983739  GSE114150_Brain\n",
       "22  chr5  177515977 177516937 chr5:177515977:177516937  GSE114150_Brain\n",
       "23  chr7  100374156 100374656 chr7:100374156:100374656  GSE114150_Brain\n",
       "24  chr8   27604960  27605366 chr8:27604960:27605366    GSE114150_Brain\n",
       "25  chr12 113159016 113159156 chr12:113159016:113159156 brain_cortex   \n",
       "26  chr12 113159016 113159156 chr12:113159016:113159156 brain_cortex   \n",
       "27  chr12 113159016 113159156 chr12:113159016:113159156 brain_cortex   \n",
       "28  chr12 113159016 113159156 chr12:113159016:113159156 brain_cortex   \n",
       "29  chr12 113159016 113159156 chr12:113159016:113159156 brain_cortex   \n",
       "30  chr12 113159016 113159156 chr12:113159016:113159156 brain_cortex   \n",
       "⋮   ⋮     ⋮         ⋮         ⋮                         ⋮              \n",
       "86  chr12 113163224 113164117 chr12:113163224:113164117 brain_cortex   \n",
       "87  chr19   1829160   1830160 chr19:1828583:1830738     brain_cortex   \n",
       "88  chr12 113158741 113159173 chr12:113158741:113159173 brain_cortex   \n",
       "89  chr12 113158741 113159173 chr12:113158741:113159173 brain_cortex   \n",
       "90  chr12 113158741 113159173 chr12:113158741:113159173 brain_cortex   \n",
       "91  chr12 113158741 113159173 chr12:113158741:113159173 brain_cortex   \n",
       "92  chr12 113158741 113159173 chr12:113158741:113159173 brain_cortex   \n",
       "93  chr12 113158741 113159173 chr12:113158741:113159173 brain_cortex   \n",
       "94  chr12 113158986 113159156 chr12:113158986:113159156 brain_cortex   \n",
       "95  chr12 113158986 113159156 chr12:113158986:113159156 brain_cortex   \n",
       "96  chr12 113158986 113159156 chr12:113158986:113159156 brain_cortex   \n",
       "97  chr12 113158986 113159156 chr12:113158986:113159156 brain_cortex   \n",
       "98  chr12 113158986 113159156 chr12:113158986:113159156 brain_cortex   \n",
       "99  chr12 113158986 113159156 chr12:113158986:113159156 brain_cortex   \n",
       "100 chr12 113163224 113164117 chr12:113163224:113164117 brain_cortex   \n",
       "101 chr19   1829170   1830170 chr19:1828583:1830758     brain_cortex   \n",
       "102 chr2  134953447 134954208 chr2:134953447:134954208  hNPC           \n",
       "103 chr2  134953447 134954208 chr2:134953447:134954208  hNPC           \n",
       "104 chr2  202888094 202889094 chr2:202884498:202892690  hNPC           \n",
       "105 chr2  202888094 202889094 chr2:202884498:202892690  hNPC           \n",
       "106 chr8   27607034  27608034 chr8:27606436:27608633    hNPC           \n",
       "107 chr8   27607034  27608034 chr8:27606436:27608633    hNPC           \n",
       "108 chr2  134952676 134952845 chr2:134952676:134952845  hNPC           \n",
       "109 chr2  134953490 134954260 chr2:134953490:134954260  hNPC           \n",
       "110 chr2  134953490 134954260 chr2:134953490:134954260  hNPC           \n",
       "111 chr2  134952717 134952798 chr2:134952717:134952798  hNPC           \n",
       "112 chr2  134953447 134954208 chr2:134953447:134954208  hNPC           \n",
       "113 chr2  134953447 134954208 chr2:134953447:134954208  hNPC           \n",
       "114 chr2  202888099 202889099 chr2:202884498:202892700  hNPC           \n",
       "115 chr2  202888099 202889099 chr2:202884498:202892700  hNPC           \n",
       "    gene_id         gene_name chr   start_variant end_variant variant_id      \n",
       "1   ENSG00000186710 CFAP73    chr12 113159061     113159061   12:113159061:G:A\n",
       "2   ENSG00000123064 DDX54     chr12 113159061     113159061   12:113159061:G:A\n",
       "3   ENSG00000123064 DDX54     chr12 113162061     113162061   12:113162061:T:C\n",
       "4   ENSG00000123064 DDX54     chr12 113163098     113163098   12:113163098:A:G\n",
       "5   ENSG00000123064 DDX54     chr12 113163135     113163135   12:113163135:C:T\n",
       "6   ENSG00000139405 RITA1     chr12 113191832     113191832   12:113191832:G:A\n",
       "7   ENSG00000166578 IQCD      chr12 113221042     113221042   12:113221042:G:A\n",
       "8   ENSG00000186815 TPCN1     chr12 113221042     113221042   12:113221042:G:A\n",
       "9   ENSG00000129911 KLF16     chr19   1854254       1854254   19:1854254:G:GC \n",
       "10  ENSG00000130202 NECTIN2   chr19  44859997      44859997   19:44859997:G:A \n",
       "11  ENSG00000082258 CCNT2     chr2  134953946     134953946   2:134953946:C:T \n",
       "12  ENSG00000082258 CCNT2     chr2  134954087     134954087   2:134954087:G:A \n",
       "13  ENSG00000163596 ICA1L     chr2  202843155     202843155   2:202843155:G:A \n",
       "14  ENSG00000138442 WDR12     chr2  202924956     202924956   2:202924956:C:T \n",
       "15  ENSG00000138380 CARF      chr2  202924956     202924956   2:202924956:C:T \n",
       "16  ENSG00000138442 WDR12     chr2  202946905     202946905   2:202946905:G:A \n",
       "17  ENSG00000138442 WDR12     chr2  202947189     202947189   2:202947189:A:C \n",
       "18  ENSG00000138380 CARF      chr2  202946905     202946905   2:202946905:G:A \n",
       "19  ENSG00000138380 CARF      chr2  202947189     202947189   2:202947189:A:C \n",
       "20  ENSG00000138442 WDR12     chr2  202983679     202983679   2:202983679:G:A \n",
       "21  ENSG00000138380 CARF      chr2  202983679     202983679   2:202983679:G:A \n",
       "22  ENSG00000183258 DDX41     chr5  177516672     177516672   5:177516672:C:T \n",
       "23  ENSG00000085514 PILRA     chr7  100374211     100374211   7:100374211:A:G \n",
       "24  ENSG00000120885 CLU       chr8   27604964      27604964   8:27604964:A:G  \n",
       "25  ENSG00000186710 CFAP73    chr12 113159061     113159061   12:113159061:G:A\n",
       "26  ENSG00000123064 DDX54     chr12 113159061     113159061   12:113159061:G:A\n",
       "27  ENSG00000186710 CFAP73    chr12 113159061     113159061   12:113159061:G:A\n",
       "28  ENSG00000123064 DDX54     chr12 113159061     113159061   12:113159061:G:A\n",
       "29  ENSG00000186710 CFAP73    chr12 113159061     113159061   12:113159061:G:A\n",
       "30  ENSG00000123064 DDX54     chr12 113159061     113159061   12:113159061:G:A\n",
       "⋮   ⋮               ⋮         ⋮     ⋮             ⋮           ⋮               \n",
       "86  ENSG00000123064 DDX54     chr12 113163602     113163602   12:113163602:T:C\n",
       "87  ENSG00000079313 REXO1     chr19   1829830       1829830   19:1829830:G:A  \n",
       "88  ENSG00000186710 CFAP73    chr12 113159061     113159061   12:113159061:G:A\n",
       "89  ENSG00000123064 DDX54     chr12 113159061     113159061   12:113159061:G:A\n",
       "90  ENSG00000186710 CFAP73    chr12 113159061     113159061   12:113159061:G:A\n",
       "91  ENSG00000123064 DDX54     chr12 113159061     113159061   12:113159061:G:A\n",
       "92  ENSG00000186710 CFAP73    chr12 113159061     113159061   12:113159061:G:A\n",
       "93  ENSG00000123064 DDX54     chr12 113159061     113159061   12:113159061:G:A\n",
       "94  ENSG00000186710 CFAP73    chr12 113159061     113159061   12:113159061:G:A\n",
       "95  ENSG00000123064 DDX54     chr12 113159061     113159061   12:113159061:G:A\n",
       "96  ENSG00000186710 CFAP73    chr12 113159061     113159061   12:113159061:G:A\n",
       "97  ENSG00000123064 DDX54     chr12 113159061     113159061   12:113159061:G:A\n",
       "98  ENSG00000186710 CFAP73    chr12 113159061     113159061   12:113159061:G:A\n",
       "99  ENSG00000123064 DDX54     chr12 113159061     113159061   12:113159061:G:A\n",
       "100 ENSG00000123064 DDX54     chr12 113163602     113163602   12:113163602:T:C\n",
       "101 ENSG00000079313 REXO1     chr19   1829830       1829830   19:1829830:G:A  \n",
       "102 ENSG00000082258 CCNT2     chr2  134953946     134953946   2:134953946:C:T \n",
       "103 ENSG00000082258 CCNT2     chr2  134954087     134954087   2:134954087:G:A \n",
       "104 ENSG00000138442 WDR12     chr2  202888293     202888293   2:202888293:G:A \n",
       "105 ENSG00000138442 WDR12     chr2  202888349     202888349   2:202888349:T:C \n",
       "106 ENSG00000120885 CLU       chr8   27607412      27607412   8:27607412:A:G  \n",
       "107 ENSG00000120885 CLU       chr8   27607795      27607795   8:27607795:T:C  \n",
       "108 ENSG00000082258 CCNT2     chr2  134952752     134952752   2:134952752:A:G \n",
       "109 ENSG00000082258 CCNT2     chr2  134953946     134953946   2:134953946:C:T \n",
       "110 ENSG00000082258 CCNT2     chr2  134954087     134954087   2:134954087:G:A \n",
       "111 ENSG00000082258 CCNT2     chr2  134952752     134952752   2:134952752:A:G \n",
       "112 ENSG00000082258 CCNT2     chr2  134953946     134953946   2:134953946:C:T \n",
       "113 ENSG00000082258 CCNT2     chr2  134954087     134954087   2:134954087:G:A \n",
       "114 ENSG00000138442 WDR12     chr2  202888293     202888293   2:202888293:G:A \n",
       "115 ENSG00000138442 WDR12     chr2  202888349     202888349   2:202888349:T:C \n",
       "    z         pip         cs_coverage_0.95_min_corr block                    \n",
       "1    4.575949 0.006127578  1                        chr12_112825713_115165608\n",
       "2    4.575949 0.006127578  1                        chr12_112825713_115165608\n",
       "3    4.490323 0.004234860  1                        chr12_112825713_115165608\n",
       "4    4.483871 0.004119767  1                        chr12_112825713_115165608\n",
       "5    4.518987 0.004788665  1                        chr12_112825713_115165608\n",
       "6    4.449367 0.003557680  1                        chr12_112825713_115165608\n",
       "7    4.563291 0.005799341  1                        chr12_112825713_115165608\n",
       "8    4.563291 0.005799341  1                        chr12_112825713_115165608\n",
       "9   -5.815217 0.165940073  1                        chr19_1507536_3368979    \n",
       "10  10.449438 0.192689914 15                        chr19_42346101_44935906  \n",
       "11   4.535714 0.010923557  1                        chr2_134400811_137009736 \n",
       "12   4.511905 0.009860142  1                        chr2_134400811_137009736 \n",
       "13  -5.008333 0.004282488  1                        chr2_201677542_203951659 \n",
       "14  -5.025000 0.004598489  1                        chr2_201677542_203951659 \n",
       "15  -5.025000 0.004598489  1                        chr2_201677542_203951659 \n",
       "16  -4.983333 0.003854730  1                        chr2_201677542_203951659 \n",
       "17  -5.008333 0.004282178  1                        chr2_201677542_203951659 \n",
       "18  -4.983333 0.003854730  1                        chr2_201677542_203951659 \n",
       "19  -5.008333 0.004282178  1                        chr2_201677542_203951659 \n",
       "20  -5.008333 0.004282489  1                        chr2_201677542_203951659 \n",
       "21  -5.008333 0.004282489  1                        chr2_201677542_203951659 \n",
       "22   4.424731 0.040098390  1                        chr5_176014330_177963776 \n",
       "23   8.556818 0.205500185  1                        chr7_98297733_101733715  \n",
       "24  11.963855 0.037208520  1                        chr8_27515963_29469590   \n",
       "25   4.575949 0.006127578  1                        chr12_112825713_115165608\n",
       "26   4.575949 0.006127578  1                        chr12_112825713_115165608\n",
       "27   4.575949 0.006127578  1                        chr12_112825713_115165608\n",
       "28   4.575949 0.006127578  1                        chr12_112825713_115165608\n",
       "29   4.575949 0.006127578  1                        chr12_112825713_115165608\n",
       "30   4.575949 0.006127578  1                        chr12_112825713_115165608\n",
       "⋮   ⋮         ⋮           ⋮                         ⋮                        \n",
       "86   4.458065 0.003691296 1                         chr12_112825713_115165608\n",
       "87  -5.568182 0.037866345 1                         chr19_1507536_3368979    \n",
       "88   4.575949 0.006127578 1                         chr12_112825713_115165608\n",
       "89   4.575949 0.006127578 1                         chr12_112825713_115165608\n",
       "90   4.575949 0.006127578 1                         chr12_112825713_115165608\n",
       "91   4.575949 0.006127578 1                         chr12_112825713_115165608\n",
       "92   4.575949 0.006127578 1                         chr12_112825713_115165608\n",
       "93   4.575949 0.006127578 1                         chr12_112825713_115165608\n",
       "94   4.575949 0.006127578 1                         chr12_112825713_115165608\n",
       "95   4.575949 0.006127578 1                         chr12_112825713_115165608\n",
       "96   4.575949 0.006127578 1                         chr12_112825713_115165608\n",
       "97   4.575949 0.006127578 1                         chr12_112825713_115165608\n",
       "98   4.575949 0.006127578 1                         chr12_112825713_115165608\n",
       "99   4.575949 0.006127578 1                         chr12_112825713_115165608\n",
       "100  4.458065 0.003691296 1                         chr12_112825713_115165608\n",
       "101 -5.568182 0.037866345 1                         chr19_1507536_3368979    \n",
       "102  4.535714 0.010923557 1                         chr2_134400811_137009736 \n",
       "103  4.511905 0.009860142 1                         chr2_134400811_137009736 \n",
       "104 -5.041667 0.004942385 1                         chr2_201677542_203951659 \n",
       "105 -5.033333 0.004766691 1                         chr2_201677542_203951659 \n",
       "106 11.952381 0.028314120 1                         chr8_27515963_29469590   \n",
       "107 12.072289 0.143118125 1                         chr8_27515963_29469590   \n",
       "108  4.511905 0.009860142 1                         chr2_134400811_137009736 \n",
       "109  4.535714 0.010923557 1                         chr2_134400811_137009736 \n",
       "110  4.511905 0.009860142 1                         chr2_134400811_137009736 \n",
       "111  4.511905 0.009860142 1                         chr2_134400811_137009736 \n",
       "112  4.535714 0.010923557 1                         chr2_134400811_137009736 \n",
       "113  4.511905 0.009860142 1                         chr2_134400811_137009736 \n",
       "114 -5.041667 0.004942385 1                         chr2_201677542_203951659 \n",
       "115 -5.033333 0.004766691 1                         chr2_201677542_203951659 \n",
       "    study             \n",
       "1   AD_Bellenguez_2022\n",
       "2   AD_Bellenguez_2022\n",
       "3   AD_Bellenguez_2022\n",
       "4   AD_Bellenguez_2022\n",
       "5   AD_Bellenguez_2022\n",
       "6   AD_Bellenguez_2022\n",
       "7   AD_Bellenguez_2022\n",
       "8   AD_Bellenguez_2022\n",
       "9   AD_Bellenguez_2022\n",
       "10  AD_Bellenguez_2022\n",
       "11  AD_Bellenguez_2022\n",
       "12  AD_Bellenguez_2022\n",
       "13  AD_Bellenguez_2022\n",
       "14  AD_Bellenguez_2022\n",
       "15  AD_Bellenguez_2022\n",
       "16  AD_Bellenguez_2022\n",
       "17  AD_Bellenguez_2022\n",
       "18  AD_Bellenguez_2022\n",
       "19  AD_Bellenguez_2022\n",
       "20  AD_Bellenguez_2022\n",
       "21  AD_Bellenguez_2022\n",
       "22  AD_Bellenguez_2022\n",
       "23  AD_Bellenguez_2022\n",
       "24  AD_Bellenguez_2022\n",
       "25  AD_Bellenguez_2022\n",
       "26  AD_Bellenguez_2022\n",
       "27  AD_Bellenguez_2022\n",
       "28  AD_Bellenguez_2022\n",
       "29  AD_Bellenguez_2022\n",
       "30  AD_Bellenguez_2022\n",
       "⋮   ⋮                 \n",
       "86  AD_Bellenguez_2022\n",
       "87  AD_Bellenguez_2022\n",
       "88  AD_Bellenguez_2022\n",
       "89  AD_Bellenguez_2022\n",
       "90  AD_Bellenguez_2022\n",
       "91  AD_Bellenguez_2022\n",
       "92  AD_Bellenguez_2022\n",
       "93  AD_Bellenguez_2022\n",
       "94  AD_Bellenguez_2022\n",
       "95  AD_Bellenguez_2022\n",
       "96  AD_Bellenguez_2022\n",
       "97  AD_Bellenguez_2022\n",
       "98  AD_Bellenguez_2022\n",
       "99  AD_Bellenguez_2022\n",
       "100 AD_Bellenguez_2022\n",
       "101 AD_Bellenguez_2022\n",
       "102 AD_Bellenguez_2022\n",
       "103 AD_Bellenguez_2022\n",
       "104 AD_Bellenguez_2022\n",
       "105 AD_Bellenguez_2022\n",
       "106 AD_Bellenguez_2022\n",
       "107 AD_Bellenguez_2022\n",
       "108 AD_Bellenguez_2022\n",
       "109 AD_Bellenguez_2022\n",
       "110 AD_Bellenguez_2022\n",
       "111 AD_Bellenguez_2022\n",
       "112 AD_Bellenguez_2022\n",
       "113 AD_Bellenguez_2022\n",
       "114 AD_Bellenguez_2022\n",
       "115 AD_Bellenguez_2022"
      ]
     },
     "metadata": {},
     "output_type": "display_data"
    }
   ],
   "source": [
    "m6a_gene_bed_ad %>% filter(context %in% c('GSE114150_Brain','brain_cortex','hNPC')) "
   ]
  },
  {
   "cell_type": "markdown",
   "id": "0a4bdc38-1c4d-4b7f-9528-71769e9209b1",
   "metadata": {
    "kernel": "R"
   },
   "source": [
    "### load GWAS sumstats to get all GWAS variants "
   ]
  },
  {
   "cell_type": "code",
   "execution_count": 22,
   "id": "0f275711-04f3-43cf-8047-05c0d4144a87",
   "metadata": {
    "kernel": "R"
   },
   "outputs": [],
   "source": [
    "all_gwas <- fread('/mnt/vast/hpc/csg/hs3393/RSS_QC/GWAS_finemapping_Apr9/RSS_QC_RAISS_imputed_concatenate_result/AD_Bellenguez_2022_RSS_QC_RAISS_imputed.tsv.gz')"
   ]
  },
  {
   "cell_type": "code",
   "execution_count": 23,
   "id": "85106c13-603a-4020-8193-6b96dcc0ed05",
   "metadata": {
    "kernel": "R"
   },
   "outputs": [],
   "source": [
    "# extract the GWAS table without AD loci\n",
    "non_ad_df <- all_gwas %>% filter(!(variant_id %in% gwas[gwas$study =='AD_Bellenguez_2022',]$variant_id))%>% \n",
    "            mutate(chr = str_split(variant_id, \":\", simplify = T) %>% .[,1] %>% paste0(\"chr\",.),\n",
    "                pos = str_split(variant_id, \":\", simplify = T) %>% .[,2] %>% as.numeric) "
   ]
  },
  {
   "cell_type": "markdown",
   "id": "27b49772-c9b9-4af2-8276-9181e969b518",
   "metadata": {
    "kernel": "R"
   },
   "source": [
    "### map the m6a region to non-AD GWAS table"
   ]
  },
  {
   "cell_type": "code",
   "execution_count": 24,
   "id": "a31deef0-1b69-4714-af68-abfa74a5595f",
   "metadata": {
    "kernel": "R"
   },
   "outputs": [],
   "source": [
    "m6a_gene_anno_bed <- m6a_gene_anno[, c(\"V1\", \"start\", \"end\", \"hg38_ID\", \"context\", \"gene_id\", \"gene_name\")]\n",
    "non_adgwas_bed <- non_ad_df[, .(chr, start_variant = as.integer(pos), end_variant = as.integer(pos), variant_id)]\n",
    "\n",
    "m6a_non_gene_bed_ad <- bt.intersect(a = m6a_gene_anno_bed, b = non_adgwas_bed, wa = T, wb = T) "
   ]
  },
  {
   "cell_type": "code",
   "execution_count": 25,
   "id": "ddff43da-8dbc-409a-a214-65bd4dd21818",
   "metadata": {
    "kernel": "R"
   },
   "outputs": [
    {
     "data": {
      "text/html": [
       "<table class=\"dataframe\">\n",
       "<caption>A data.frame: 6 × 11</caption>\n",
       "<thead>\n",
       "\t<tr><th></th><th scope=col>chrom</th><th scope=col>start</th><th scope=col>end</th><th scope=col>hg38_ID</th><th scope=col>context</th><th scope=col>gene_id</th><th scope=col>gene_name</th><th scope=col>chr</th><th scope=col>start_variant</th><th scope=col>end_variant</th><th scope=col>variant_id</th></tr>\n",
       "\t<tr><th></th><th scope=col>&lt;chr&gt;</th><th scope=col>&lt;int&gt;</th><th scope=col>&lt;int&gt;</th><th scope=col>&lt;chr&gt;</th><th scope=col>&lt;chr&gt;</th><th scope=col>&lt;chr&gt;</th><th scope=col>&lt;chr&gt;</th><th scope=col>&lt;chr&gt;</th><th scope=col>&lt;int&gt;</th><th scope=col>&lt;int&gt;</th><th scope=col>&lt;chr&gt;</th></tr>\n",
       "</thead>\n",
       "<tbody>\n",
       "\t<tr><th scope=row>1</th><td>chr1</td><td> 958977</td><td> 959238</td><td>chr1:958977:959238  </td><td>GSE114150_Brain</td><td>ENSG00000188976</td><td>NOC2L</td><td>chr1</td><td> 959139</td><td> 959139</td><td>1:959139:G:A </td></tr>\n",
       "\t<tr><th scope=row>2</th><td>chr1</td><td> 958977</td><td> 959238</td><td>chr1:958977:959238  </td><td>GSE114150_Brain</td><td>ENSG00000188976</td><td>NOC2L</td><td>chr1</td><td> 959193</td><td> 959193</td><td>1:959193:G:A </td></tr>\n",
       "\t<tr><th scope=row>3</th><td>chr1</td><td>1027235</td><td>1027730</td><td>chr1:1027235:1027730</td><td>GSE114150_Brain</td><td>ENSG00000188157</td><td>AGRN </td><td>chr1</td><td>1027340</td><td>1027340</td><td>1:1027340:C:T</td></tr>\n",
       "\t<tr><th scope=row>4</th><td>chr1</td><td>1027235</td><td>1027730</td><td>chr1:1027235:1027730</td><td>GSE114150_Brain</td><td>ENSG00000188157</td><td>AGRN </td><td>chr1</td><td>1027450</td><td>1027450</td><td>1:1027450:T:G</td></tr>\n",
       "\t<tr><th scope=row>5</th><td>chr1</td><td>1027235</td><td>1027730</td><td>chr1:1027235:1027730</td><td>GSE114150_Brain</td><td>ENSG00000188157</td><td>AGRN </td><td>chr1</td><td>1027511</td><td>1027511</td><td>1:1027511:C:T</td></tr>\n",
       "\t<tr><th scope=row>6</th><td>chr1</td><td>1027235</td><td>1027730</td><td>chr1:1027235:1027730</td><td>GSE114150_Brain</td><td>ENSG00000188157</td><td>AGRN </td><td>chr1</td><td>1027633</td><td>1027633</td><td>1:1027633:C:T</td></tr>\n",
       "</tbody>\n",
       "</table>\n"
      ],
      "text/latex": [
       "A data.frame: 6 × 11\n",
       "\\begin{tabular}{r|lllllllllll}\n",
       "  & chrom & start & end & hg38\\_ID & context & gene\\_id & gene\\_name & chr & start\\_variant & end\\_variant & variant\\_id\\\\\n",
       "  & <chr> & <int> & <int> & <chr> & <chr> & <chr> & <chr> & <chr> & <int> & <int> & <chr>\\\\\n",
       "\\hline\n",
       "\t1 & chr1 &  958977 &  959238 & chr1:958977:959238   & GSE114150\\_Brain & ENSG00000188976 & NOC2L & chr1 &  959139 &  959139 & 1:959139:G:A \\\\\n",
       "\t2 & chr1 &  958977 &  959238 & chr1:958977:959238   & GSE114150\\_Brain & ENSG00000188976 & NOC2L & chr1 &  959193 &  959193 & 1:959193:G:A \\\\\n",
       "\t3 & chr1 & 1027235 & 1027730 & chr1:1027235:1027730 & GSE114150\\_Brain & ENSG00000188157 & AGRN  & chr1 & 1027340 & 1027340 & 1:1027340:C:T\\\\\n",
       "\t4 & chr1 & 1027235 & 1027730 & chr1:1027235:1027730 & GSE114150\\_Brain & ENSG00000188157 & AGRN  & chr1 & 1027450 & 1027450 & 1:1027450:T:G\\\\\n",
       "\t5 & chr1 & 1027235 & 1027730 & chr1:1027235:1027730 & GSE114150\\_Brain & ENSG00000188157 & AGRN  & chr1 & 1027511 & 1027511 & 1:1027511:C:T\\\\\n",
       "\t6 & chr1 & 1027235 & 1027730 & chr1:1027235:1027730 & GSE114150\\_Brain & ENSG00000188157 & AGRN  & chr1 & 1027633 & 1027633 & 1:1027633:C:T\\\\\n",
       "\\end{tabular}\n"
      ],
      "text/markdown": [
       "\n",
       "A data.frame: 6 × 11\n",
       "\n",
       "| <!--/--> | chrom &lt;chr&gt; | start &lt;int&gt; | end &lt;int&gt; | hg38_ID &lt;chr&gt; | context &lt;chr&gt; | gene_id &lt;chr&gt; | gene_name &lt;chr&gt; | chr &lt;chr&gt; | start_variant &lt;int&gt; | end_variant &lt;int&gt; | variant_id &lt;chr&gt; |\n",
       "|---|---|---|---|---|---|---|---|---|---|---|---|\n",
       "| 1 | chr1 |  958977 |  959238 | chr1:958977:959238   | GSE114150_Brain | ENSG00000188976 | NOC2L | chr1 |  959139 |  959139 | 1:959139:G:A  |\n",
       "| 2 | chr1 |  958977 |  959238 | chr1:958977:959238   | GSE114150_Brain | ENSG00000188976 | NOC2L | chr1 |  959193 |  959193 | 1:959193:G:A  |\n",
       "| 3 | chr1 | 1027235 | 1027730 | chr1:1027235:1027730 | GSE114150_Brain | ENSG00000188157 | AGRN  | chr1 | 1027340 | 1027340 | 1:1027340:C:T |\n",
       "| 4 | chr1 | 1027235 | 1027730 | chr1:1027235:1027730 | GSE114150_Brain | ENSG00000188157 | AGRN  | chr1 | 1027450 | 1027450 | 1:1027450:T:G |\n",
       "| 5 | chr1 | 1027235 | 1027730 | chr1:1027235:1027730 | GSE114150_Brain | ENSG00000188157 | AGRN  | chr1 | 1027511 | 1027511 | 1:1027511:C:T |\n",
       "| 6 | chr1 | 1027235 | 1027730 | chr1:1027235:1027730 | GSE114150_Brain | ENSG00000188157 | AGRN  | chr1 | 1027633 | 1027633 | 1:1027633:C:T |\n",
       "\n"
      ],
      "text/plain": [
       "  chrom start   end     hg38_ID              context         gene_id        \n",
       "1 chr1   958977  959238 chr1:958977:959238   GSE114150_Brain ENSG00000188976\n",
       "2 chr1   958977  959238 chr1:958977:959238   GSE114150_Brain ENSG00000188976\n",
       "3 chr1  1027235 1027730 chr1:1027235:1027730 GSE114150_Brain ENSG00000188157\n",
       "4 chr1  1027235 1027730 chr1:1027235:1027730 GSE114150_Brain ENSG00000188157\n",
       "5 chr1  1027235 1027730 chr1:1027235:1027730 GSE114150_Brain ENSG00000188157\n",
       "6 chr1  1027235 1027730 chr1:1027235:1027730 GSE114150_Brain ENSG00000188157\n",
       "  gene_name chr  start_variant end_variant variant_id   \n",
       "1 NOC2L     chr1  959139        959139     1:959139:G:A \n",
       "2 NOC2L     chr1  959193        959193     1:959193:G:A \n",
       "3 AGRN      chr1 1027340       1027340     1:1027340:C:T\n",
       "4 AGRN      chr1 1027450       1027450     1:1027450:T:G\n",
       "5 AGRN      chr1 1027511       1027511     1:1027511:C:T\n",
       "6 AGRN      chr1 1027633       1027633     1:1027633:C:T"
      ]
     },
     "metadata": {},
     "output_type": "display_data"
    }
   ],
   "source": [
    "colnames(m6a_non_gene_bed_ad) <- c(\"chrom\", \"start\", \"end\", \"hg38_ID\", \"context\", \"gene_id\", \"gene_name\", colnames(non_adgwas_bed))\n",
    "m6a_non_gene_bed_ad %>% head"
   ]
  },
  {
   "cell_type": "markdown",
   "id": "924d0846-eeb0-45af-9de5-8085e010da18",
   "metadata": {
    "kernel": "R"
   },
   "source": [
    "### Enrichment analysis with fisher test\n",
    "To generate 2x2 table:    \n",
    "- ad_m6a: The number of variants within both AD loci and are m6A sites.\n",
    "- ad_non_m6a: The number of variants within AD loci but not m6A sites.\n",
    "- m6a_non_ad: The number of variants outside of AD loci but are m6A sites.\n",
    "- non_m6a_non_ad: The number variants outside of AD loci also not m6A sites.\n",
    "    \n",
    "The first two categories can be calculated by finding the intersection between the m6A regions and the AD GWAS loci. The latter two categories can be calculated by finding the intersection between the m6A regions and the non-AD GWAS loci."
   ]
  },
  {
   "cell_type": "markdown",
   "id": "6c954d6b-65c1-48d3-9956-62976c87e05c",
   "metadata": {
    "kernel": "R"
   },
   "source": [
    "`intersected_data` from above analysis is the intersected table for m6A peak regions and AD GWAS loci table\n",
    "\n",
    "`intersected_data_non_ad` here is the intersected table for m6A peak regions and non-AD GWAS loci table\n"
   ]
  },
  {
   "cell_type": "markdown",
   "id": "c168d802-cd30-48a2-8ee6-e7021591836d",
   "metadata": {
    "kernel": "R"
   },
   "source": [
    "The FET section: the table is focused on Bellenguez et al 2022 and is on variant level. Although I eyeballed 11 CS (we can get an accurate number) and I  know that Bellenguez has maybe 70 CS fine-mapped. So 11 out of 70 CS contain some m6A peaks. The test is still on variants though because I dont know how to make the test on CS .."
   ]
  },
  {
   "cell_type": "code",
   "execution_count": 26,
   "id": "b9d8eaa3-e571-4b03-a3ed-f831fe21e17f",
   "metadata": {
    "kernel": "R"
   },
   "outputs": [],
   "source": [
    "perform_fisher_test <- function(adgwas, all_gwas, m6a_ad, m6a_not_ad, test_context, greater = FALSE) {\n",
    "  # Define the total number of AD variants\n",
    "  ad <- length(adgwas[adgwas$study == 'AD_Bellenguez_2022',]$variant_id %>% unique())\n",
    "  \n",
    "  # Number of AD loci in m6A regions\n",
    "  ad_m6a_df <- m6a_ad %>% filter(context %in% test_context)\n",
    "  ad_m6a <- length(ad_m6a_df$variant_id %>% unique())\n",
    "  \n",
    "  # Number of AD loci outside m6A regions\n",
    "  ad_non_m6a <- ad - ad_m6a\n",
    "  \n",
    "  # Total number of non-AD variants from GWAS concatenate sumstats\n",
    "  non_ad <- length(all_gwas$variant_id %>% unique()) - ad\n",
    "  \n",
    "  # Number of non-AD loci in m6A regions\n",
    "  m6a_non_ad_df <- m6a_not_ad %>% filter(context %in% test_context)\n",
    "  m6a_non_ad <- length(m6a_non_ad_df$variant_id %>% unique())\n",
    "  \n",
    "  # Number of non-AD loci outside m6A regions\n",
    "  non_m6a_non_ad <- non_ad - m6a_non_ad\n",
    "  \n",
    "  # Create the contingency table\n",
    "  contingency_table <- matrix(c(ad_m6a, ad_non_m6a, m6a_non_ad, non_m6a_non_ad),\n",
    "                              nrow = 2,\n",
    "                              byrow = TRUE,\n",
    "                              dimnames = list(\"AD\" = c(\"AD\", \"not_AD\"),\n",
    "                                              \"m6A\" = c(\"m6A\", \"not_m6A\")))\n",
    "  \n",
    "\n",
    "  # Perform Fisher's Exact Test\n",
    "  if(greater) fisher_test_result <- fisher.test(contingency_table, alternative = \"less\") else fisher_test_result <- fisher.test(contingency_table)\n",
    "\n",
    "  return(list(data = contingency_table, res = fisher_test_result))\n",
    "}\n"
   ]
  },
  {
   "cell_type": "code",
   "execution_count": 27,
   "id": "094f14a8-d882-4900-a29a-c24c0ab9f05c",
   "metadata": {
    "kernel": "R"
   },
   "outputs": [
    {
     "data": {
      "text/plain": [
       ".\n",
       "      brain_cortex    GSE114150_Brain    GSE114150_Heart   GSE114150_Kidney \n",
       "                 7                 18                 16                 26 \n",
       "   GSE114150_Liver     GSE114150_Lung   GSE114150_merged   GSE114150_Muscle \n",
       "                11                  8                 30                 14 \n",
       "GSE114150_Placenta  GSE114150_Stomach               hNPC \n",
       "                19                 10                  7 "
      ]
     },
     "metadata": {},
     "output_type": "display_data"
    }
   ],
   "source": [
    "# The number of variants within both AD loci and are m6A sites in different contexts\n",
    "m6a_gene_bed_ad %>% distinct(context, variant_id, .keep_all = TRUE) %>% pull(context) %>% table"
   ]
  },
  {
   "cell_type": "code",
   "execution_count": 28,
   "id": "5e8e8dd4-67f6-4742-b7ef-88e514347657",
   "metadata": {
    "kernel": "R",
    "scrolled": true
   },
   "outputs": [
    {
     "data": {
      "text/plain": [
       ".\n",
       "      brain_cortex    GSE114150_Brain    GSE114150_Heart   GSE114150_Kidney \n",
       "             42514              75191              42598              86650 \n",
       "   GSE114150_Liver     GSE114150_Lung   GSE114150_merged   GSE114150_Muscle \n",
       "             38289              39834             140595              55354 \n",
       "GSE114150_Placenta  GSE114150_Stomach               hNPC \n",
       "             64046              38073              25200 "
      ]
     },
     "metadata": {},
     "output_type": "display_data"
    }
   ],
   "source": [
    "# The number of variants within both non-AD loci and are m6A sites in different contexts\n",
    "m6a_non_gene_bed_ad %>% distinct(context, variant_id, .keep_all = TRUE) %>% pull(context) %>% table"
   ]
  },
  {
   "cell_type": "markdown",
   "id": "0270fa45-bcfc-4370-85df-837f81c65177",
   "metadata": {
    "kernel": "R"
   },
   "source": [
    "Just show the details for `merged` and `Brain` here"
   ]
  },
  {
   "cell_type": "code",
   "execution_count": 30,
   "id": "1deddbbb-b033-4c9b-8c0c-5c70ab0681d5",
   "metadata": {
    "kernel": "R"
   },
   "outputs": [
    {
     "data": {
      "text/plain": [
       "$data\n",
       "        m6A\n",
       "AD          m6A  not_m6A\n",
       "  AD         27     1256\n",
       "  not_AD 117002 12089633\n",
       "\n",
       "$res\n",
       "\n",
       "\tFisher's Exact Test for Count Data\n",
       "\n",
       "data:  contingency_table\n",
       "p-value = 0.0002374\n",
       "alternative hypothesis: true odds ratio is not equal to 1\n",
       "95 percent confidence interval:\n",
       " 1.457832 3.247748\n",
       "sample estimates:\n",
       "odds ratio \n",
       "   2.22118 \n",
       "\n"
      ]
     },
     "metadata": {},
     "output_type": "display_data"
    }
   ],
   "source": [
    "# Two-sided test\n",
    "perform_fisher_test(adgwas = gwas, all_gwas = all_gwas, m6a_ad = m6a_gene_bed_ad, m6a_not_ad = m6a_non_gene_bed_ad, test_context = c('GSE114150_Brain','brain_cortex','hNPC')) "
   ]
  },
  {
   "cell_type": "markdown",
   "id": "dbef856f-57ca-47b9-beaa-5c75c47d7bf6",
   "metadata": {
    "kernel": "R"
   },
   "source": [
    "for other contexts, just show the pvalue for them ( two-sided)"
   ]
  },
  {
   "cell_type": "code",
   "execution_count": 31,
   "id": "d3352e77-c6a4-40d2-b50f-6518231c82d4",
   "metadata": {
    "kernel": "R"
   },
   "outputs": [
    {
     "name": "stderr",
     "output_type": "stream",
     "text": [
      "GSE114150_Brain:0.00170783178965425\n",
      "\n",
      "GSE114150_Heart:1.82234233114467e-05\n",
      "\n",
      "GSE114150_Kidney:3.2503989334749e-06\n",
      "\n",
      "GSE114150_Liver:0.00292249902068156\n",
      "\n",
      "GSE114150_Lung:0.0778295043433078\n",
      "\n",
      "GSE114150_merged:0.000346147666541701\n",
      "\n",
      "GSE114150_Muscle:0.00271227729392887\n",
      "\n",
      "GSE114150_Placenta:7.50263296649612e-05\n",
      "\n",
      "GSE114150_Stomach:0.00805683048277676\n",
      "\n",
      "brain_cortex:0.22698141180543\n",
      "\n",
      "hNPC:0.0186637752663764\n",
      "\n"
     ]
    }
   ],
   "source": [
    "contexts <- m6a_gene_anno_bed %>% pull(context) %>% unique\n",
    "for(test_context in contexts){\n",
    "    message(test_context,\":\",perform_fisher_test(adgwas = gwas, all_gwas = all_gwas, m6a_ad = m6a_gene_bed_ad, m6a_not_ad = m6a_non_gene_bed_ad, test_context = test_context)$res$p.value)\n",
    "}"
   ]
  },
  {
   "cell_type": "markdown",
   "id": "67bcef0b-e29e-4f17-8552-1eb0d98bbabd",
   "metadata": {
    "kernel": "R"
   },
   "source": [
    "In most contexts, there is an enrichment of AD loci in m6A regions, which may be inflated due to the non-independence of variants in LD?"
   ]
  },
  {
   "cell_type": "markdown",
   "id": "97eb67dd-4eb6-498f-ba09-ff75d48d02f4",
   "metadata": {
    "kernel": "R"
   },
   "source": [
    "## compare brain m6A peaks vs. m6A peaks in all other tissues\n",
    "set A = brain specific, set B = both brain and other tissues, set C = other tissues but not brains. \n",
    "\n",
    "\n",
    "The test would be  1) number of \"brain m6A\" overlapping with Bellenguez 2022 AD CS  (AD CS hereafter) 2) number of \"brain m6A\" non-overlapping with AD CS, 3) number of \"non-brain m6A\" overlapping with AD CS , 4) number of \"non-brain m6A\" non-overlapping with AD CS."
   ]
  },
  {
   "cell_type": "markdown",
   "id": "cfe43c39-949c-406d-ac5f-95adb9c2ac4d",
   "metadata": {
    "kernel": "R"
   },
   "source": [
    "when we talk about the overlap between peak regions here, if we only focus on the exactly region: same start and end. Then brain and other tissue do not have overlap. "
   ]
  },
  {
   "cell_type": "code",
   "execution_count": 32,
   "id": "8cf2824a-1185-468e-bee0-14dae1d9f382",
   "metadata": {
    "kernel": "R",
    "scrolled": true
   },
   "outputs": [
    {
     "name": "stderr",
     "output_type": "stream",
     "text": [
      "Loading required package: grid\n",
      "\n",
      "Loading required package: futile.logger\n",
      "\n"
     ]
    },
    {
     "data": {
      "image/png": "[encoded data removed]",
      "text/plain": [
       "plot without title"
      ]
     },
     "metadata": {
      "image/png": {
       "height": 480,
       "width": 840
      }
     },
     "output_type": "display_data"
    }
   ],
   "source": [
    "library(VennDiagram)\n",
    "library(dplyr)\n",
    "\n",
    "brain <- m6a_gene_bed_ad %>%\n",
    "  filter(context %in% c('GSE114150_Brain','brain_cortex','hNPC')) %>%\n",
    "  pull(hg38_ID)\n",
    "\n",
    "other <- m6a_gene_bed_ad %>%\n",
    "  filter(!(context %in% c('GSE114150_Brain','brain_cortex','hNPC')),!(context %in% c('GSE114150_Brain','brain_cortex','hNPC'))) %>%\n",
    "  pull(hg38_ID)\n",
    "\n",
    "merged <- m6a_gene_bed_ad %>%\n",
    "  filter(context == 'GSE114150_merged') %>%\n",
    "  pull(hg38_ID)\n",
    "\n",
    "venn_data <- list(\n",
    "  \"Brain\" = brain,\n",
    "  \"Other Tissues\" = other,\n",
    "  \"Merged\" = merged\n",
    ")\n",
    "\n",
    "venn.plot <- venn.diagram(\n",
    "  x = venn_data,\n",
    "  filename = NULL,  \n",
    "  fill = c(\"#66c2a5\", \"#fc8d62\", \"#8da0cb\"),  # \n",
    "  alpha = 0.6,  # \n",
    "  cex = 2,  # \n",
    "  fontface = \"bold\",  # \n",
    "  fontfamily = \"sans\",  # \n",
    "  cat.col = c(\"#66c2a5\", \"#fc8d62\", \"#8da0cb\"),  # \n",
    "  cat.cex = 1.8,  # \n",
    "  cat.fontface = \"bold\",  # \n",
    "  cat.pos = c(-20, 20, 20),  # \n",
    "  cat.dist = c(0.05, 0.05, 0.05),  # \n",
    "  margin = 0.05,  # \n",
    "  lwd = 2,  # \n",
    "  lty = \"solid\",  # \n",
    "  col = \"black\"  # \n",
    ")\n",
    "\n",
    "grid.draw(venn.plot)"
   ]
  },
  {
   "cell_type": "markdown",
   "id": "88e5ffa2-a84d-4a09-ae1f-b5b9caa3e0e2",
   "metadata": {
    "kernel": "R"
   },
   "source": [
    "If we accept overlapping regions, meaning that regions with different start and end coordinates (e.g., chr1:1-100 and chr1:20-120) can be considered the same, then almost all brain peaks are covered by peaks from other tissues. However, the numbers shown in the plot do not reflect the actual number of peaks, as they are influenced by the cutoffs applied to define peak regions. Moreover, I am unsure how to easily compare the regions based on this overlapping definition."
   ]
  },
  {
   "cell_type": "code",
   "execution_count": null,
   "id": "43327838-39c3-4ecc-9cd0-9eeaf8275d25",
   "metadata": {
    "kernel": "R"
   },
   "outputs": [],
   "source": [
    "\n",
    "# # Helper function to convert region string into GRanges object\n",
    "# convert_to_granges <- function(region_list) {\n",
    "#   parsed_regions <- do.call(rbind, strsplit(region_list, \":\"))\n",
    "#   gr <- GRanges(seqnames = parsed_regions[,1],\n",
    "#                 ranges = IRanges(start = as.numeric(parsed_regions[,2]),\n",
    "#                                  end = as.numeric(parsed_regions[,3])))\n",
    "#   return(gr)\n",
    "# }\n",
    "\n",
    "# # Convert both region sets to GRanges\n",
    "# gr_brain <- convert_to_granges(brain)\n",
    "# gr_other <- convert_to_granges(other)\n",
    "\n",
    "# # Find overlaps between the two sets\n",
    "# overlaps <- findOverlaps(gr_brain, gr_other)\n",
    "\n",
    "# # Prepare counts for Venn diagram\n",
    "# unique_brain <- length(setdiff(seq_along(gr_brain), queryHits(overlaps)))\n",
    "# unique_other <- length(setdiff(seq_along(gr_other), subjectHits(overlaps)))\n",
    "# overlap_count <- length(queryHits(overlaps))\n",
    "\n",
    "# # Generate Venn diagram\n",
    "# venn.plot <- draw.pairwise.venn(area1 = unique_brain + overlap_count,\n",
    "#                                 area2 = unique_other + overlap_count,\n",
    "#                                 cross.area = overlap_count,\n",
    "#                                 category = c(\"Brain\", \"Other\"),\n",
    "#                                 fill = c(\"#66c2a5\", \"#fc8d62\"),\n",
    "#                                 alpha = 0.5,\n",
    "#                                 cex = 2,\n",
    "#                                 cat.cex = 2,\n",
    "#                                 cat.pos = c(-20, 20))\n",
    "\n",
    "# # Display the Venn diagram\n",
    "# grid.draw(venn.plot)"
   ]
  },
  {
   "cell_type": "markdown",
   "id": "7853a3ba-3cf2-4a3f-94a1-975df9c34538",
   "metadata": {
    "kernel": "R"
   },
   "source": [
    "So I am here still using the former difinition to check sets, so there is actually no overlapped region between Brain and Other tissues, which means we don't have `B` set, the compare is simply between A and C"
   ]
  },
  {
   "cell_type": "markdown",
   "id": "e3941228-a359-466b-9c9a-f73c301d8572",
   "metadata": {
    "kernel": "R"
   },
   "source": [
    "### use all AD signals in Bellenguez data here"
   ]
  },
  {
   "cell_type": "markdown",
   "id": "83a89624-1125-414c-ad21-6af523373929",
   "metadata": {
    "kernel": "R"
   },
   "source": [
    "#### compare brain and combined other tissues"
   ]
  },
  {
   "cell_type": "markdown",
   "id": "d2ad955c-1e9a-4256-b6f0-1ed8036f54b1",
   "metadata": {
    "kernel": "R"
   },
   "source": [
    "#### A+B vs B+C"
   ]
  },
  {
   "cell_type": "code",
   "execution_count": 34,
   "id": "1ffe9fe7-2fe2-4676-8173-2ca875888630",
   "metadata": {
    "kernel": "R"
   },
   "outputs": [
    {
     "data": {
      "text/html": [
       "40"
      ],
      "text/latex": [
       "40"
      ],
      "text/markdown": [
       "40"
      ],
      "text/plain": [
       "[1] 40"
      ]
     },
     "metadata": {},
     "output_type": "display_data"
    },
    {
     "data": {
      "text/html": [
       "192180"
      ],
      "text/latex": [
       "192180"
      ],
      "text/markdown": [
       "192180"
      ],
      "text/plain": [
       "[1] 192180"
      ]
     },
     "metadata": {},
     "output_type": "display_data"
    }
   ],
   "source": [
    "brain <- m6a_gene_anno_bed %>%\n",
    "  filter(context %in% c('GSE114150_Brain','brain_cortex','hNPC'))  \n",
    "brain_ad <- m6a_gene_bed_ad %>%\n",
    "  filter(context %in% c('GSE114150_Brain','brain_cortex','hNPC')) %>% pull(hg38_ID) %>% unique %>% length\n",
    "brain_nonad <- brain %>% pull(hg38_ID) %>% unique %>% length - brain_ad\n",
    "brain_ad\n",
    "brain_nonad"
   ]
  },
  {
   "cell_type": "code",
   "execution_count": 43,
   "id": "4ecf56e1-96cf-4dac-add8-7ad0f6c293c1",
   "metadata": {
    "kernel": "R"
   },
   "outputs": [
    {
     "data": {
      "text/html": [
       "100"
      ],
      "text/latex": [
       "100"
      ],
      "text/markdown": [
       "100"
      ],
      "text/plain": [
       "[1] 100"
      ]
     },
     "metadata": {},
     "output_type": "display_data"
    },
    {
     "data": {
      "text/html": [
       "313753"
      ],
      "text/latex": [
       "313753"
      ],
      "text/markdown": [
       "313753"
      ],
      "text/plain": [
       "[1] 313753"
      ]
     },
     "metadata": {},
     "output_type": "display_data"
    }
   ],
   "source": [
    "other <- m6a_gene_anno_bed %>%\n",
    "  filter(!(context %in% c('GSE114150_Brain','brain_cortex','hNPC')),!(context %in% c('GSE114150_Brain','brain_cortex','hNPC'))) \n",
    "other_ad <- m6a_gene_bed_ad %>%\n",
    "  filter(!(context %in% c('GSE114150_Brain','brain_cortex','hNPC')),!(context %in% c('GSE114150_Brain','brain_cortex','hNPC')))  %>% pull(hg38_ID) %>% unique %>% length\n",
    "other_nonad <- other %>% pull(hg38_ID) %>% unique %>% length - other_ad\n",
    "other_ad\n",
    "other_nonad"
   ]
  },
  {
   "cell_type": "code",
   "execution_count": 44,
   "id": "63087560-11df-439c-8df6-eb1233d1e1ad",
   "metadata": {
    "kernel": "R",
    "scrolled": true
   },
   "outputs": [
    {
     "name": "stdout",
     "output_type": "stream",
     "text": [
      "       AD\n",
      "Tissue   AD not_AD\n",
      "  Brian  40 192180\n",
      "  Other 100 313753\n",
      "\n",
      "\tFisher's Exact Test for Count Data\n",
      "\n",
      "data:  contingency_table\n",
      "p-value = 0.02331\n",
      "alternative hypothesis: true odds ratio is not equal to 1\n",
      "95 percent confidence interval:\n",
      " 0.4408235 0.9512129\n",
      "sample estimates:\n",
      "odds ratio \n",
      " 0.6530407 \n",
      "\n",
      "\n",
      "\tFisher's Exact Test for Count Data\n",
      "\n",
      "data:  contingency_table\n",
      "p-value = 0.01249\n",
      "alternative hypothesis: true odds ratio is less than 1\n",
      "95 percent confidence interval:\n",
      " 0.0000000 0.8991921\n",
      "sample estimates:\n",
      "odds ratio \n",
      " 0.6530407 \n",
      "\n"
     ]
    }
   ],
   "source": [
    "# Create the contingency table\n",
    "contingency_table <- matrix(c(brain_ad, brain_nonad, other_ad, other_nonad),\n",
    "                            nrow = 2,\n",
    "                            byrow = TRUE,\n",
    "                            dimnames = list(\"Tissue\" = c(\"Brain\", \"Other\"),\n",
    "                                            \"AD\" = c(\"AD\", \"not_AD\")))\n",
    "\n",
    "# Print the contingency table\n",
    "print(contingency_table)\n",
    "\n",
    "# Perform Fisher's Exact Test\n",
    "# two sides\n",
    "fisher_test_result_two <- fisher.test(contingency_table)\n",
    "# one side\n",
    "fisher_test_result_one <- fisher.test(contingency_table, alternative = \"less\")\n",
    "\n",
    "# Print the Fisher test result\n",
    "print(fisher_test_result_two)\n",
    "print(fisher_test_result_one)"
   ]
  },
  {
   "cell_type": "markdown",
   "id": "e33db260-4145-4c2d-9083-682d6a2b18c4",
   "metadata": {
    "kernel": "R"
   },
   "source": [
    "#### A+B vs C"
   ]
  },
  {
   "cell_type": "code",
   "execution_count": 65,
   "id": "52c6d5bf-cc75-4ac2-a288-badc44ade526",
   "metadata": {
    "kernel": "R"
   },
   "outputs": [],
   "source": [
    "brain <- m6a_gene_anno_bed %>%\n",
    "  filter(context %in% c('GSE114150_Brain','brain_cortex','hNPC'))  \n",
    "brain_ad_id <- m6a_gene_bed_ad %>%\n",
    "  filter(context %in% c('GSE114150_Brain','brain_cortex','hNPC')) %>% pull(hg38_ID)\n"
   ]
  },
  {
   "cell_type": "code",
   "execution_count": 66,
   "id": "1f64654d-0af2-4a21-a6e1-437a4e60fcab",
   "metadata": {
    "kernel": "R"
   },
   "outputs": [],
   "source": [
    "other <- m6a_gene_anno_bed %>%\n",
    "  filter(!(context %in% c('GSE114150_Brain','brain_cortex','hNPC')),!(context %in% c('GSE114150_Brain','brain_cortex','hNPC'))) \n",
    "other_ad_id <- m6a_gene_bed_ad %>%\n",
    "  filter(!(context %in% c('GSE114150_Brain','brain_cortex','hNPC')),!(context %in% c('GSE114150_Brain','brain_cortex','hNPC')))  %>% pull(hg38_ID) \n"
   ]
  },
  {
   "cell_type": "code",
   "execution_count": null,
   "id": "8f9cf2e8-24ab-4a00-9f0f-9baeae6c9239",
   "metadata": {
    "kernel": "R"
   },
   "outputs": [],
   "source": [
    "B <- intersect(brain_ad_id, other_ad_id)"
   ]
  },
  {
   "cell_type": "code",
   "execution_count": null,
   "id": "241bacf3-8964-4520-aeef-c26ab312822b",
   "metadata": {
    "kernel": "R"
   },
   "outputs": [],
   "source": [
    "brain_ad <- brain_ad_id %>% unique %>% length\n",
    "brain_nonad <- brain %>% pull(hg38_ID) %>% unique %>% length - brain_ad\n",
    "brain_ad\n",
    "brain_nonad"
   ]
  },
  {
   "cell_type": "code",
   "execution_count": null,
   "id": "4e87b7dc-b54b-477f-b964-c078e86fae5a",
   "metadata": {
    "kernel": "R"
   },
   "outputs": [
    {
     "data": {
      "text/html": [
       "40"
      ],
      "text/latex": [
       "40"
      ],
      "text/markdown": [
       "40"
      ],
      "text/plain": [
       "[1] 40"
      ]
     },
     "metadata": {},
     "output_type": "display_data"
    },
    {
     "data": {
      "text/html": [
       "192180"
      ],
      "text/latex": [
       "192180"
      ],
      "text/markdown": [
       "192180"
      ],
      "text/plain": [
       "[1] 192180"
      ]
     },
     "metadata": {},
     "output_type": "display_data"
    },
    {
     "data": {
      "text/html": [
       "95"
      ],
      "text/latex": [
       "95"
      ],
      "text/markdown": [
       "95"
      ],
      "text/plain": [
       "[1] 95"
      ]
     },
     "metadata": {},
     "output_type": "display_data"
    },
    {
     "data": {
      "text/html": [
       "313758"
      ],
      "text/latex": [
       "313758"
      ],
      "text/markdown": [
       "313758"
      ],
      "text/plain": [
       "[1] 313758"
      ]
     },
     "metadata": {},
     "output_type": "display_data"
    }
   ],
   "source": [
    "other_ad <- other_ad_id %>% unique %>% length - length(B)\n",
    "other_nonad <- other %>% pull(hg38_ID) %>% unique %>% length - other_ad\n",
    "other_ad\n",
    "other_nonad"
   ]
  },
  {
   "cell_type": "code",
   "execution_count": 51,
   "id": "3c0a7257-f033-44b8-9b43-22808fb9166e",
   "metadata": {
    "kernel": "R",
    "scrolled": true
   },
   "outputs": [
    {
     "name": "stdout",
     "output_type": "stream",
     "text": [
      "       AD\n",
      "Tissue  AD not_AD\n",
      "  Brian 40 192180\n",
      "  Other 95 313758\n",
      "\n",
      "\tFisher's Exact Test for Count Data\n",
      "\n",
      "data:  contingency_table\n",
      "p-value = 0.05074\n",
      "alternative hypothesis: true odds ratio is not equal to 1\n",
      "95 percent confidence interval:\n",
      " 0.4627387 1.0045790\n",
      "sample estimates:\n",
      "odds ratio \n",
      "  0.687422 \n",
      "\n",
      "\n",
      "\tFisher's Exact Test for Count Data\n",
      "\n",
      "data:  contingency_table\n",
      "p-value = 0.02653\n",
      "alternative hypothesis: true odds ratio is less than 1\n",
      "95 percent confidence interval:\n",
      " 0.0000000 0.9491015\n",
      "sample estimates:\n",
      "odds ratio \n",
      "  0.687422 \n",
      "\n"
     ]
    }
   ],
   "source": [
    "# Create the contingency table\n",
    "contingency_table <- matrix(c(brain_ad, brain_nonad, other_ad, other_nonad),\n",
    "                            nrow = 2,\n",
    "                            byrow = TRUE,\n",
    "                            dimnames = list(\"Tissue\" = c(\"Brain\", \"Other\"),\n",
    "                                            \"AD\" = c(\"AD\", \"not_AD\")))\n",
    "\n",
    "# Print the contingency table\n",
    "print(contingency_table)\n",
    "\n",
    "# Perform Fisher's Exact Test\n",
    "# two sides\n",
    "fisher_test_result_two <- fisher.test(contingency_table)\n",
    "# one side\n",
    "fisher_test_result_one <- fisher.test(contingency_table, alternative = \"less\")\n",
    "\n",
    "# Print the Fisher test result\n",
    "print(fisher_test_result_two)\n",
    "print(fisher_test_result_one)"
   ]
  },
  {
   "cell_type": "markdown",
   "id": "0f224f60-1fb9-4c4f-a46c-333a387bc14f",
   "metadata": {
    "kernel": "R"
   },
   "source": [
    "#### A vs B+C"
   ]
  },
  {
   "cell_type": "code",
   "execution_count": 70,
   "id": "ace3c3df-08dd-46b5-a462-75841941fc61",
   "metadata": {
    "kernel": "R"
   },
   "outputs": [],
   "source": [
    "brain <- m6a_gene_anno_bed %>%\n",
    "  filter(context %in% c('GSE114150_Brain','brain_cortex','hNPC'))  \n",
    "brain_ad_id <- m6a_gene_bed_ad %>%\n",
    "  filter(context %in% c('GSE114150_Brain','brain_cortex','hNPC')) %>% pull(hg38_ID)\n"
   ]
  },
  {
   "cell_type": "code",
   "execution_count": 71,
   "id": "05f3ba23-f547-4497-9c16-26f128a87bc2",
   "metadata": {
    "kernel": "R"
   },
   "outputs": [],
   "source": [
    "other <- m6a_gene_anno_bed %>%\n",
    "  filter(!(context %in% c('GSE114150_Brain','brain_cortex','hNPC')),!(context %in% c('GSE114150_Brain','brain_cortex','hNPC'))) \n",
    "other_ad_id <- m6a_gene_bed_ad %>%\n",
    "  filter(!(context %in% c('GSE114150_Brain','brain_cortex','hNPC')),!(context %in% c('GSE114150_Brain','brain_cortex','hNPC')))  %>% pull(hg38_ID) \n"
   ]
  },
  {
   "cell_type": "code",
   "execution_count": 72,
   "id": "d0e3441d-7b0f-425b-8180-32382051679f",
   "metadata": {
    "kernel": "R"
   },
   "outputs": [],
   "source": [
    "B <- intersect(brain_ad_id, other_ad_id)"
   ]
  },
  {
   "cell_type": "code",
   "execution_count": 74,
   "id": "6f2eec66-b254-40d0-88a8-2d4eff1974c0",
   "metadata": {
    "kernel": "R"
   },
   "outputs": [
    {
     "data": {
      "text/html": [
       "35"
      ],
      "text/latex": [
       "35"
      ],
      "text/markdown": [
       "35"
      ],
      "text/plain": [
       "[1] 35"
      ]
     },
     "metadata": {},
     "output_type": "display_data"
    },
    {
     "data": {
      "text/html": [
       "192185"
      ],
      "text/latex": [
       "192185"
      ],
      "text/markdown": [
       "192185"
      ],
      "text/plain": [
       "[1] 192185"
      ]
     },
     "metadata": {},
     "output_type": "display_data"
    }
   ],
   "source": [
    "brain_ad <- brain_ad_id %>% unique %>% length - length(B)\n",
    "brain_nonad <- brain %>% pull(hg38_ID) %>% unique %>% length - brain_ad\n",
    "brain_ad\n",
    "brain_nonad"
   ]
  },
  {
   "cell_type": "code",
   "execution_count": 75,
   "id": "f9a439ae-0567-421e-8149-a34177b7af4f",
   "metadata": {
    "kernel": "R"
   },
   "outputs": [
    {
     "data": {
      "text/html": [
       "100"
      ],
      "text/latex": [
       "100"
      ],
      "text/markdown": [
       "100"
      ],
      "text/plain": [
       "[1] 100"
      ]
     },
     "metadata": {},
     "output_type": "display_data"
    },
    {
     "data": {
      "text/html": [
       "313753"
      ],
      "text/latex": [
       "313753"
      ],
      "text/markdown": [
       "313753"
      ],
      "text/plain": [
       "[1] 313753"
      ]
     },
     "metadata": {},
     "output_type": "display_data"
    }
   ],
   "source": [
    "other_ad <- other_ad_id %>% unique %>% length\n",
    "other_nonad <- other %>% pull(hg38_ID) %>% unique %>% length - other_ad\n",
    "other_ad\n",
    "other_nonad"
   ]
  },
  {
   "cell_type": "code",
   "execution_count": 89,
   "id": "9c9ba274-b7b2-4b82-bf81-af9b875fd240",
   "metadata": {
    "kernel": "R"
   },
   "outputs": [
    {
     "data": {
      "text/html": [
       "484553"
      ],
      "text/latex": [
       "484553"
      ],
      "text/markdown": [
       "484553"
      ],
      "text/plain": [
       "[1] 484553"
      ]
     },
     "metadata": {},
     "output_type": "display_data"
    }
   ],
   "source": [
    "unique(m6a$hg38_ID) %>% length"
   ]
  },
  {
   "cell_type": "code",
   "execution_count": 76,
   "id": "9330a834-6a27-4835-9273-ef439e3c8147",
   "metadata": {
    "kernel": "R",
    "scrolled": true
   },
   "outputs": [
    {
     "name": "stdout",
     "output_type": "stream",
     "text": [
      "       AD\n",
      "Tissue   AD not_AD\n",
      "  Brian  35 192185\n",
      "  Other 100 313753\n",
      "\n",
      "\tFisher's Exact Test for Count Data\n",
      "\n",
      "data:  contingency_table\n",
      "p-value = 0.003392\n",
      "alternative hypothesis: true odds ratio is not equal to 1\n",
      "95 percent confidence interval:\n",
      " 0.3772178 0.8474251\n",
      "sample estimates:\n",
      "odds ratio \n",
      " 0.5713963 \n",
      "\n",
      "\n",
      "\tFisher's Exact Test for Count Data\n",
      "\n",
      "data:  contingency_table\n",
      "p-value = 0.002097\n",
      "alternative hypothesis: true odds ratio is less than 1\n",
      "95 percent confidence interval:\n",
      " 0.0000000 0.7992191\n",
      "sample estimates:\n",
      "odds ratio \n",
      " 0.5713963 \n",
      "\n"
     ]
    }
   ],
   "source": [
    "# Create the contingency table\n",
    "contingency_table <- matrix(c(brain_ad, brain_nonad, other_ad, other_nonad),\n",
    "                            nrow = 2,\n",
    "                            byrow = TRUE,\n",
    "                            dimnames = list(\"Tissue\" = c(\"Brain\", \"Other\"),\n",
    "                                            \"AD\" = c(\"AD\", \"not_AD\")))\n",
    "\n",
    "# Print the contingency table\n",
    "print(contingency_table)\n",
    "\n",
    "# Perform Fisher's Exact Test\n",
    "# two sides\n",
    "fisher_test_result_two <- fisher.test(contingency_table)\n",
    "# one side\n",
    "fisher_test_result_one <- fisher.test(contingency_table, alternative = \"less\")\n",
    "\n",
    "# Print the Fisher test result\n",
    "print(fisher_test_result_two)\n",
    "print(fisher_test_result_one)"
   ]
  },
  {
   "cell_type": "markdown",
   "id": "2cb2e9be-5c08-468e-adea-4fc82b677e5a",
   "metadata": {
    "kernel": "R"
   },
   "source": [
    "#### compare brain and each other tissue (A+B vs B+C)"
   ]
  },
  {
   "cell_type": "code",
   "execution_count": 79,
   "id": "55158c86-a726-474c-b3f3-271946dd3876",
   "metadata": {
    "kernel": "R"
   },
   "outputs": [],
   "source": [
    "contexts <- m6a_gene_anno_bed %>% pull(context) %>% unique\n",
    "# contexts <- contexts[contexts!= 'GSE114150_Brain' & contexts!= 'GSE114150_merged']\n",
    "contexts <- contexts[!(contexts %in% c('GSE114150_Brain','brain_cortex','hNPC'))]"
   ]
  },
  {
   "cell_type": "code",
   "execution_count": 81,
   "id": "a81b6115-2512-45f1-a77b-87c2cb665cb8",
   "metadata": {
    "kernel": "R"
   },
   "outputs": [
    {
     "data": {
      "text/html": [
       "40"
      ],
      "text/latex": [
       "40"
      ],
      "text/markdown": [
       "40"
      ],
      "text/plain": [
       "[1] 40"
      ]
     },
     "metadata": {},
     "output_type": "display_data"
    }
   ],
   "source": [
    "brain_ad <- brain_ad_id %>% unique %>% length\n",
    "brain_ad"
   ]
  },
  {
   "cell_type": "code",
   "execution_count": 83,
   "id": "912f2005-9b23-4398-b55a-a1751a4fb8d4",
   "metadata": {
    "kernel": "R",
    "scrolled": true
   },
   "outputs": [
    {
     "name": "stderr",
     "output_type": "stream",
     "text": [
      "Brain AD vs GSE114150_Heart AD\n",
      "\n"
     ]
    },
    {
     "name": "stdout",
     "output_type": "stream",
     "text": [
      "                 AD\n",
      "Tissue            AD not_AD\n",
      "  Brain           40 192180\n",
      "  GSE114150_Heart 13  34035\n",
      "[1] \"Two-sided Fisher exact test pvalue: 0.0798669773276005 with odds: 0.544924186423124\"\n",
      "[1] \"One-sided Fisher exact test pvalue: 0.0474717761380388 with odds: 0.544924186423124\"\n"
     ]
    },
    {
     "name": "stderr",
     "output_type": "stream",
     "text": [
      "Brain AD vs GSE114150_Kidney AD\n",
      "\n"
     ]
    },
    {
     "name": "stdout",
     "output_type": "stream",
     "text": [
      "                  AD\n",
      "Tissue             AD not_AD\n",
      "  Brain            40 192180\n",
      "  GSE114150_Kidney 20  58513\n",
      "[1] \"Two-sided Fisher exact test pvalue: 0.0912703448140147 with odds: 0.608941326859937\"\n",
      "[1] \"One-sided Fisher exact test pvalue: 0.0507575509050511 with odds: 0.608941326859937\"\n"
     ]
    },
    {
     "name": "stderr",
     "output_type": "stream",
     "text": [
      "Brain AD vs GSE114150_Liver AD\n",
      "\n"
     ]
    },
    {
     "name": "stdout",
     "output_type": "stream",
     "text": [
      "                 AD\n",
      "Tissue            AD not_AD\n",
      "  Brain           40 192180\n",
      "  GSE114150_Liver  8  31989\n",
      "[1] \"Two-sided Fisher exact test pvalue: 0.678036591259316 with odds: 0.832276172363369\"\n",
      "[1] \"One-sided Fisher exact test pvalue: 0.376833999373478 with odds: 0.832276172363369\"\n"
     ]
    },
    {
     "name": "stderr",
     "output_type": "stream",
     "text": [
      "Brain AD vs GSE114150_Lung AD\n",
      "\n"
     ]
    },
    {
     "name": "stdout",
     "output_type": "stream",
     "text": [
      "                AD\n",
      "Tissue           AD not_AD\n",
      "  Brain          40 192180\n",
      "  GSE114150_Lung  6  30120\n",
      "[1] \"Two-sided Fisher exact test pvalue: 1 with odds: 1.04485825600217\"\n",
      "[1] \"One-sided Fisher exact test pvalue: 0.604889716423336 with odds: 1.04485825600217\"\n"
     ]
    },
    {
     "name": "stderr",
     "output_type": "stream",
     "text": [
      "Brain AD vs GSE114150_merged AD\n",
      "\n"
     ]
    },
    {
     "name": "stdout",
     "output_type": "stream",
     "text": [
      "                  AD\n",
      "Tissue             AD not_AD\n",
      "  Brain            40 192180\n",
      "  GSE114150_merged 22  90676\n",
      "[1] \"Two-sided Fisher exact test pvalue: 0.586906151288917 with odds: 0.857880891668237\"\n",
      "[1] \"One-sided Fisher exact test pvalue: 0.324678653737352 with odds: 0.857880891668237\"\n"
     ]
    },
    {
     "name": "stderr",
     "output_type": "stream",
     "text": [
      "Brain AD vs GSE114150_Muscle AD\n",
      "\n"
     ]
    },
    {
     "name": "stdout",
     "output_type": "stream",
     "text": [
      "                  AD\n",
      "Tissue             AD not_AD\n",
      "  Brain            40 192180\n",
      "  GSE114150_Muscle 11  37190\n",
      "[1] \"Two-sided Fisher exact test pvalue: 0.339214636377801 with odds: 0.703698859351318\"\n",
      "[1] \"One-sided Fisher exact test pvalue: 0.194741065197104 with odds: 0.703698859351318\"\n"
     ]
    },
    {
     "name": "stderr",
     "output_type": "stream",
     "text": [
      "Brain AD vs GSE114150_Placenta AD\n",
      "\n"
     ]
    },
    {
     "name": "stdout",
     "output_type": "stream",
     "text": [
      "                    AD\n",
      "Tissue               AD not_AD\n",
      "  Brain              40 192180\n",
      "  GSE114150_Placenta 15  47946\n",
      "[1] \"Two-sided Fisher exact test pvalue: 0.177972738438143 with odds: 0.665295015166369\"\n",
      "[1] \"One-sided Fisher exact test pvalue: 0.119715997712698 with odds: 0.665295015166369\"\n"
     ]
    },
    {
     "name": "stderr",
     "output_type": "stream",
     "text": [
      "Brain AD vs GSE114150_Stomach AD\n",
      "\n"
     ]
    },
    {
     "name": "stdout",
     "output_type": "stream",
     "text": [
      "                   AD\n",
      "Tissue              AD not_AD\n",
      "  Brain             40 192180\n",
      "  GSE114150_Stomach  7  26795\n",
      "[1] \"Two-sided Fisher exact test pvalue: 0.507967304024405 with odds: 0.796724755995968\"\n",
      "[1] \"One-sided Fisher exact test pvalue: 0.350921405037717 with odds: 0.796724755995968\"\n"
     ]
    }
   ],
   "source": [
    "brain <- m6a_gene_anno_bed %>%\n",
    "  filter(context %in% c('GSE114150_Brain','brain_cortex','hNPC'))  \n",
    "brain_ad <- m6a_gene_bed_ad %>%\n",
    "  filter(context %in% c('GSE114150_Brain','brain_cortex','hNPC')) %>% pull(hg38_ID) %>% unique %>% length\n",
    "brain_nonad <- brain %>% pull(hg38_ID) %>% unique %>% length - brain_ad\n",
    "\n",
    "for(context_target in contexts){\n",
    "    other <- m6a_gene_anno_bed %>%\n",
    "      filter(context %in% context_target) \n",
    "    other_ad <- m6a_gene_bed_ad %>%\n",
    "      filter(context %in% context_target)  %>% pull(hg38_ID) %>% unique %>% length\n",
    "    other_nonad <- other %>% pull(hg38_ID) %>% unique %>% length - other_ad\n",
    "    \n",
    "    # Create the contingency table\n",
    "    contingency_table <- matrix(c(brain_ad, brain_nonad, other_ad, other_nonad),\n",
    "                                nrow = 2,\n",
    "                                byrow = TRUE,\n",
    "                                dimnames = list(\"Tissue\" = c(\"Brain\", context_target),\n",
    "                                                \"AD\" = c(\"AD\", \"not_AD\")))\n",
    "\n",
    "    message(\"Brain AD vs \", context_target, \" AD\")\n",
    "    \n",
    "    # Print the contingency table\n",
    "    print(contingency_table)\n",
    "        # two sides\n",
    "    fisher_test_result_two <- fisher.test(contingency_table)\n",
    "    # one side\n",
    "    fisher_test_result_one <- fisher.test(contingency_table, alternative = \"less\")\n",
    "    \n",
    "    # Print the Fisher test result\n",
    "    print(paste('Two-sided Fisher exact test pvalue:',fisher_test_result_two$p.value, 'with odds:', fisher_test_result_two$estimate))\n",
    "    print(paste('One-sided Fisher exact test pvalue:',fisher_test_result_one$p.value, 'with odds:', fisher_test_result_one$estimate))\n",
    "}"
   ]
  },
  {
   "cell_type": "markdown",
   "id": "b0ac72ee-68ce-43ad-a3a7-c88df60ea945",
   "metadata": {
    "kernel": "R"
   },
   "source": [
    "There is no significant difference between Brain-AD enrichment and other tissue-AD enrichment. No matter for two-sided or one-sided. "
   ]
  },
  {
   "cell_type": "markdown",
   "id": "7871967e-828e-4cf6-9702-3d25436af5f5",
   "metadata": {
    "kernel": "R"
   },
   "source": [
    "### in 245 gene list\n",
    "Then I am wondering if we can get significant difference if we use our AD genelist as background... Which is a 245 genelist from our sharing QTL-AD sharing evidence, could be a potential AD risk gene list. "
   ]
  },
  {
   "cell_type": "markdown",
   "id": "308fe5a9-0b39-4ccf-981f-0b30e5d52cf6",
   "metadata": {
    "kernel": "R"
   },
   "source": [
    "#### compare brain and combined other tissues"
   ]
  },
  {
   "cell_type": "code",
   "execution_count": 93,
   "id": "c15da46f-fbb0-46ac-b166-92b062abc970",
   "metadata": {
    "kernel": "R",
    "scrolled": true
   },
   "outputs": [],
   "source": [
    "ad_genes <- fread('/mnt/vast/hpc/csg/rf2872/data/resource_Ru/Fungen_xQTL.overlapped.gwas.min_corr_gwas95_qtl70.Apr.tsv')"
   ]
  },
  {
   "cell_type": "code",
   "execution_count": 94,
   "id": "9743c2ff-57af-4e14-b474-080ebc3aaeb7",
   "metadata": {
    "kernel": "R"
   },
   "outputs": [
    {
     "data": {
      "text/html": [
       "17"
      ],
      "text/latex": [
       "17"
      ],
      "text/markdown": [
       "17"
      ],
      "text/plain": [
       "[1] 17"
      ]
     },
     "metadata": {},
     "output_type": "display_data"
    },
    {
     "data": {
      "text/html": [
       "4026"
      ],
      "text/latex": [
       "4026"
      ],
      "text/markdown": [
       "4026"
      ],
      "text/plain": [
       "[1] 4026"
      ]
     },
     "metadata": {},
     "output_type": "display_data"
    }
   ],
   "source": [
    "brain <- m6a_gene_anno_bed %>%\n",
    "  filter(context %in% c('GSE114150_Brain','brain_cortex','hNPC'), gene_id %in% ad_genes$region_id)  \n",
    "brain_ad <- m6a_gene_bed_ad %>%\n",
    "  filter(context %in% c('GSE114150_Brain','brain_cortex','hNPC'), gene_id %in% ad_genes$region_id) %>% pull(hg38_ID) %>% unique %>% length\n",
    "brain_nonad <- (brain %>% pull(hg38_ID) %>% unique %>% length) - brain_ad\n",
    "brain_ad\n",
    "brain_nonad"
   ]
  },
  {
   "cell_type": "code",
   "execution_count": 95,
   "id": "b6a1e302-12ce-417d-9a41-24d71cc88779",
   "metadata": {
    "kernel": "R"
   },
   "outputs": [
    {
     "data": {
      "text/html": [
       "58"
      ],
      "text/latex": [
       "58"
      ],
      "text/markdown": [
       "58"
      ],
      "text/plain": [
       "[1] 58"
      ]
     },
     "metadata": {},
     "output_type": "display_data"
    },
    {
     "data": {
      "text/html": [
       "5782"
      ],
      "text/latex": [
       "5782"
      ],
      "text/markdown": [
       "5782"
      ],
      "text/plain": [
       "[1] 5782"
      ]
     },
     "metadata": {},
     "output_type": "display_data"
    }
   ],
   "source": [
    "other <- m6a_gene_anno_bed %>%\n",
    "  filter(context != 'GSE114150_Brain',!(context %in% c('GSE114150_Brain','brain_cortex','hNPC')), gene_id %in% ad_genes$region_id) \n",
    "other_ad <- m6a_gene_bed_ad %>%\n",
    "  filter(context != 'GSE114150_Brain',!(context %in% c('GSE114150_Brain','brain_cortex','hNPC')), gene_id %in% ad_genes$region_id)  %>% pull(hg38_ID) %>% unique %>% length\n",
    "other_nonad <- other %>% pull(hg38_ID) %>% unique %>% length - other_ad\n",
    "other_ad\n",
    "other_nonad"
   ]
  },
  {
   "cell_type": "code",
   "execution_count": 96,
   "id": "ac433881-ea2d-43d4-98ed-3c1ac04b95ff",
   "metadata": {
    "kernel": "R"
   },
   "outputs": [
    {
     "name": "stdout",
     "output_type": "stream",
     "text": [
      "       AD\n",
      "Tissue  AD not_AD\n",
      "  Brain 17   4026\n",
      "  Other 58   5782\n",
      "\n",
      "\tFisher's Exact Test for Count Data\n",
      "\n",
      "data:  contingency_table\n",
      "p-value = 0.001297\n",
      "alternative hypothesis: true odds ratio is not equal to 1\n",
      "95 percent confidence interval:\n",
      " 0.2294586 0.7343725\n",
      "sample estimates:\n",
      "odds ratio \n",
      " 0.4209809 \n",
      "\n",
      "\n",
      "\tFisher's Exact Test for Count Data\n",
      "\n",
      "data:  contingency_table\n",
      "p-value = 0.0006672\n",
      "alternative hypothesis: true odds ratio is less than 1\n",
      "95 percent confidence interval:\n",
      " 0.0000000 0.6780796\n",
      "sample estimates:\n",
      "odds ratio \n",
      " 0.4209809 \n",
      "\n"
     ]
    }
   ],
   "source": [
    "# Create the contingency table\n",
    "contingency_table <- matrix(c(brain_ad, brain_nonad, other_ad, other_nonad),\n",
    "                            nrow = 2,\n",
    "                            byrow = TRUE,\n",
    "                            dimnames = list(\"Tissue\" = c(\"Brain\", \"Other\"),\n",
    "                                            \"AD\" = c(\"AD\", \"not_AD\")))\n",
    "\n",
    "# Print the contingency table\n",
    "print(contingency_table)\n",
    "\n",
    "# Perform Fisher's Exact Test\n",
    "# two sides\n",
    "fisher_test_result_two <- fisher.test(contingency_table)\n",
    "# one side\n",
    "fisher_test_result_one <- fisher.test(contingency_table, alternative = \"less\")\n",
    "\n",
    "# Print the Fisher test result\n",
    "print(fisher_test_result_two)\n",
    "print(fisher_test_result_one)"
   ]
  },
  {
   "cell_type": "markdown",
   "id": "cd86dd5b-c86e-4a88-bf92-6c6271fc1c45",
   "metadata": {
    "kernel": "R"
   },
   "source": [
    "#### compare brain and each other tissue"
   ]
  },
  {
   "cell_type": "code",
   "execution_count": 97,
   "id": "cd7bc447-c5ab-4cc6-84c4-2ae45f2b303f",
   "metadata": {
    "kernel": "R"
   },
   "outputs": [],
   "source": [
    "contexts <- m6a_gene_anno_bed %>% pull(context) %>% unique\n",
    "contexts <- contexts[!(contexts %in% c('GSE114150_Brain','brain_cortex','hNPC'))]"
   ]
  },
  {
   "cell_type": "code",
   "execution_count": 98,
   "id": "0ef5ffcf-7fb2-4243-b169-33eb4adf723e",
   "metadata": {
    "kernel": "R",
    "scrolled": true
   },
   "outputs": [
    {
     "name": "stderr",
     "output_type": "stream",
     "text": [
      "Brain AD vs GSE114150_Heart AD\n",
      "\n"
     ]
    },
    {
     "name": "stdout",
     "output_type": "stream",
     "text": [
      "                 AD\n",
      "Tissue            AD not_AD\n",
      "  Brain           17   4026\n",
      "  GSE114150_Heart  7    647\n",
      "[1] \"Two-sided Fisher exact test pvalue: 0.0671128823664204 with odds: 0.390400218134402\"\n",
      "[1] \"One-sided Fisher exact test pvalue: 0.0400076374220546 with odds: 0.390400218134402\"\n"
     ]
    },
    {
     "name": "stderr",
     "output_type": "stream",
     "text": [
      "Brain AD vs GSE114150_Kidney AD\n",
      "\n"
     ]
    },
    {
     "name": "stdout",
     "output_type": "stream",
     "text": [
      "                  AD\n",
      "Tissue             AD not_AD\n",
      "  Brain            17   4026\n",
      "  GSE114150_Kidney 13   1065\n",
      "[1] \"Two-sided Fisher exact test pvalue: 0.00565356995854378 with odds: 0.346016515522075\"\n",
      "[1] \"One-sided Fisher exact test pvalue: 0.00483963519945738 with odds: 0.346016515522075\"\n"
     ]
    },
    {
     "name": "stderr",
     "output_type": "stream",
     "text": [
      "Brain AD vs GSE114150_Liver AD\n",
      "\n"
     ]
    },
    {
     "name": "stdout",
     "output_type": "stream",
     "text": [
      "                 AD\n",
      "Tissue            AD not_AD\n",
      "  Brain           17   4026\n",
      "  GSE114150_Liver  5    575\n",
      "[1] \"Two-sided Fisher exact test pvalue: 0.184376971598073 with odds: 0.485685813977198\"\n",
      "[1] \"One-sided Fisher exact test pvalue: 0.132373403250322 with odds: 0.485685813977198\"\n"
     ]
    },
    {
     "name": "stderr",
     "output_type": "stream",
     "text": [
      "Brain AD vs GSE114150_Lung AD\n",
      "\n"
     ]
    },
    {
     "name": "stdout",
     "output_type": "stream",
     "text": [
      "                AD\n",
      "Tissue           AD not_AD\n",
      "  Brain          17   4026\n",
      "  GSE114150_Lung  3    556\n",
      "[1] \"Two-sided Fisher exact test pvalue: 0.72708233445845 with odds: 0.782626104842636\"\n",
      "[1] \"One-sided Fisher exact test pvalue: 0.445272733066076 with odds: 0.782626104842636\"\n"
     ]
    },
    {
     "name": "stderr",
     "output_type": "stream",
     "text": [
      "Brain AD vs GSE114150_merged AD\n",
      "\n"
     ]
    },
    {
     "name": "stdout",
     "output_type": "stream",
     "text": [
      "                  AD\n",
      "Tissue             AD not_AD\n",
      "  Brain            17   4026\n",
      "  GSE114150_merged 15   1576\n",
      "[1] \"Two-sided Fisher exact test pvalue: 0.0282708725670436 with odds: 0.443716249276424\"\n",
      "[1] \"One-sided Fisher exact test pvalue: 0.0188200773582708 with odds: 0.443716249276424\"\n"
     ]
    },
    {
     "name": "stderr",
     "output_type": "stream",
     "text": [
      "Brain AD vs GSE114150_Muscle AD\n",
      "\n"
     ]
    },
    {
     "name": "stdout",
     "output_type": "stream",
     "text": [
      "                  AD\n",
      "Tissue             AD not_AD\n",
      "  Brain            17   4026\n",
      "  GSE114150_Muscle  5    654\n",
      "[1] \"Two-sided Fisher exact test pvalue: 0.221543011573333 with odds: 0.55239603754197\"\n",
      "[1] \"One-sided Fisher exact test pvalue: 0.185751888173067 with odds: 0.55239603754197\"\n"
     ]
    },
    {
     "name": "stderr",
     "output_type": "stream",
     "text": [
      "Brain AD vs GSE114150_Placenta AD\n",
      "\n"
     ]
    },
    {
     "name": "stdout",
     "output_type": "stream",
     "text": [
      "                    AD\n",
      "Tissue               AD not_AD\n",
      "  Brain              17   4026\n",
      "  GSE114150_Placenta  9    837\n",
      "[1] \"Two-sided Fisher exact test pvalue: 0.0325126360311409 with odds: 0.392799876149823\"\n",
      "[1] \"One-sided Fisher exact test pvalue: 0.0254573938573027 with odds: 0.392799876149823\"\n"
     ]
    },
    {
     "name": "stderr",
     "output_type": "stream",
     "text": [
      "Brain AD vs GSE114150_Stomach AD\n",
      "\n"
     ]
    },
    {
     "name": "stdout",
     "output_type": "stream",
     "text": [
      "                   AD\n",
      "Tissue              AD not_AD\n",
      "  Brain             17   4026\n",
      "  GSE114150_Stomach  3    510\n",
      "[1] \"Two-sided Fisher exact test pvalue: 0.486344624638883 with odds: 0.717896043866572\"\n",
      "[1] \"One-sided Fisher exact test pvalue: 0.395123498975609 with odds: 0.717896043866572\"\n"
     ]
    }
   ],
   "source": [
    "brain <- m6a_gene_anno_bed %>%\n",
    "  filter(context %in% c('GSE114150_Brain','brain_cortex','hNPC'), gene_id %in% ad_genes$region_id)  \n",
    "brain_ad <- m6a_gene_bed_ad %>%\n",
    "  filter(context %in% c('GSE114150_Brain','brain_cortex','hNPC'), gene_id %in% ad_genes$region_id) %>% pull(hg38_ID) %>% unique %>% length\n",
    "brain_nonad <- brain %>% pull(hg38_ID) %>% unique %>% length - brain_ad\n",
    "\n",
    "for(context_target in contexts){\n",
    "    other <- m6a_gene_anno_bed %>%\n",
    "      filter(context == context_target, gene_id %in% ad_genes$region_id) \n",
    "    other_ad <- m6a_gene_bed_ad %>%\n",
    "      filter(context == context_target, gene_id %in% ad_genes$region_id)  %>% pull(hg38_ID) %>% unique %>% length\n",
    "    other_nonad <- other %>% pull(hg38_ID) %>% unique %>% length - other_ad\n",
    "    \n",
    "    # Create the contingency table\n",
    "    contingency_table <- matrix(c(brain_ad, brain_nonad, other_ad, other_nonad),\n",
    "                                nrow = 2,\n",
    "                                byrow = TRUE,\n",
    "                                dimnames = list(\"Tissue\" = c(\"Brain\", context_target),\n",
    "                                                \"AD\" = c(\"AD\", \"not_AD\")))\n",
    "\n",
    "    message(\"Brain AD vs \", context_target, \" AD\")\n",
    "    \n",
    "    # Print the contingency table\n",
    "    print(contingency_table)\n",
    "        # two sides\n",
    "    fisher_test_result_two <- fisher.test(contingency_table)\n",
    "    # one side\n",
    "    fisher_test_result_one <- fisher.test(contingency_table, alternative = \"less\")\n",
    "    \n",
    "     # Print the Fisher test result\n",
    "    print(paste('Two-sided Fisher exact test pvalue:',fisher_test_result_two$p.value, 'with odds:', fisher_test_result_two$estimate))\n",
    "    print(paste('One-sided Fisher exact test pvalue:',fisher_test_result_one$p.value, 'with odds:', fisher_test_result_one$estimate))\n",
    "}"
   ]
  },
  {
   "cell_type": "markdown",
   "id": "3c878226-9938-481d-bf7c-3d40f8ff8ae3",
   "metadata": {
    "kernel": "R"
   },
   "source": [
    "which is even more unsignificant..."
   ]
  },
  {
   "cell_type": "markdown",
   "id": "17666c7b-d4bb-4b31-bcb5-991703b7b460",
   "metadata": {
    "kernel": "R"
   },
   "source": [
    "### in different chromosome\n",
    "what about if we focus on different chromosome?.. If there is some chromosome can show Brain peak specificty, e.g. chr19?"
   ]
  },
  {
   "cell_type": "markdown",
   "id": "eb656f78-9aa2-401e-b92a-5a0c45c20e73",
   "metadata": {
    "kernel": "R"
   },
   "source": [
    "#### compare brain and combined other tissues"
   ]
  },
  {
   "cell_type": "code",
   "execution_count": 90,
   "id": "e6fa8d03-b3f1-4da5-a694-ac2861bad2ec",
   "metadata": {
    "kernel": "R"
   },
   "outputs": [
    {
     "name": "stderr",
     "output_type": "stream",
     "text": [
      "chr1\n",
      "\n"
     ]
    },
    {
     "name": "stdout",
     "output_type": "stream",
     "text": [
      "[1] \"Two-sided Fisher exact test pvalue: 1 with odds: 0\"\n",
      "[1] \"One-sided Fisher exact test pvalue: 1 with odds: 0\"\n"
     ]
    },
    {
     "name": "stderr",
     "output_type": "stream",
     "text": [
      "chr2\n",
      "\n"
     ]
    },
    {
     "name": "stdout",
     "output_type": "stream",
     "text": [
      "[1] \"Two-sided Fisher exact test pvalue: 0.617026210337101 with odds: 0.792991909288732\"\n",
      "[1] \"One-sided Fisher exact test pvalue: 0.312139659819771 with odds: 0.792991909288732\"\n"
     ]
    },
    {
     "name": "stderr",
     "output_type": "stream",
     "text": [
      "chr3\n",
      "\n"
     ]
    },
    {
     "name": "stdout",
     "output_type": "stream",
     "text": [
      "[1] \"Two-sided Fisher exact test pvalue: 1 with odds: 0\"\n",
      "[1] \"One-sided Fisher exact test pvalue: 1 with odds: 0\"\n"
     ]
    },
    {
     "name": "stderr",
     "output_type": "stream",
     "text": [
      "chr4\n",
      "\n"
     ]
    },
    {
     "name": "stdout",
     "output_type": "stream",
     "text": [
      "[1] \"Two-sided Fisher exact test pvalue: 1 with odds: 0\"\n",
      "[1] \"One-sided Fisher exact test pvalue: 1 with odds: 0\"\n"
     ]
    },
    {
     "name": "stderr",
     "output_type": "stream",
     "text": [
      "chr5\n",
      "\n"
     ]
    },
    {
     "name": "stdout",
     "output_type": "stream",
     "text": [
      "[1] \"Two-sided Fisher exact test pvalue: 1 with odds: 0.862864263988636\"\n",
      "[1] \"One-sided Fisher exact test pvalue: 0.694988552477589 with odds: 0.862864263988636\"\n"
     ]
    },
    {
     "name": "stderr",
     "output_type": "stream",
     "text": [
      "chr6\n",
      "\n"
     ]
    },
    {
     "name": "stdout",
     "output_type": "stream",
     "text": [
      "[1] \"Two-sided Fisher exact test pvalue: 1 with odds: 0\"\n",
      "[1] \"One-sided Fisher exact test pvalue: 1 with odds: 0\"\n"
     ]
    },
    {
     "name": "stderr",
     "output_type": "stream",
     "text": [
      "chr7\n",
      "\n"
     ]
    },
    {
     "name": "stdout",
     "output_type": "stream",
     "text": [
      "[1] \"Two-sided Fisher exact test pvalue: 0.163795732809965 with odds: 0.227771060715472\"\n",
      "[1] \"One-sided Fisher exact test pvalue: 0.122475972939805 with odds: 0.227771060715472\"\n"
     ]
    },
    {
     "name": "stderr",
     "output_type": "stream",
     "text": [
      "chr8\n",
      "\n"
     ]
    },
    {
     "name": "stdout",
     "output_type": "stream",
     "text": [
      "[1] \"Two-sided Fisher exact test pvalue: 1 with odds: 1.07111315412027\"\n",
      "[1] \"One-sided Fisher exact test pvalue: 0.710455026326322 with odds: 1.07111315412027\"\n"
     ]
    },
    {
     "name": "stderr",
     "output_type": "stream",
     "text": [
      "chr9\n",
      "\n"
     ]
    },
    {
     "name": "stdout",
     "output_type": "stream",
     "text": [
      "[1] \"Two-sided Fisher exact test pvalue: 1 with odds: 0\"\n",
      "[1] \"One-sided Fisher exact test pvalue: 1 with odds: 0\"\n"
     ]
    },
    {
     "name": "stderr",
     "output_type": "stream",
     "text": [
      "chr10\n",
      "\n"
     ]
    },
    {
     "name": "stdout",
     "output_type": "stream",
     "text": [
      "[1] \"Two-sided Fisher exact test pvalue: 0.431476303677237 with odds: 0.3607213520339\"\n",
      "[1] \"One-sided Fisher exact test pvalue: 0.306741002538812 with odds: 0.3607213520339\"\n"
     ]
    },
    {
     "name": "stderr",
     "output_type": "stream",
     "text": [
      "chr11\n",
      "\n"
     ]
    },
    {
     "name": "stdout",
     "output_type": "stream",
     "text": [
      "[1] \"Two-sided Fisher exact test pvalue: 1 with odds: 0\"\n",
      "[1] \"One-sided Fisher exact test pvalue: 1 with odds: 0\"\n"
     ]
    },
    {
     "name": "stderr",
     "output_type": "stream",
     "text": [
      "chr12\n",
      "\n"
     ]
    },
    {
     "name": "stdout",
     "output_type": "stream",
     "text": [
      "[1] \"Two-sided Fisher exact test pvalue: 0.491356902554451 with odds: 0.807767996820338\"\n",
      "[1] \"One-sided Fisher exact test pvalue: 0.27434716585589 with odds: 0.807767996820338\"\n"
     ]
    },
    {
     "name": "stderr",
     "output_type": "stream",
     "text": [
      "chr13\n",
      "\n"
     ]
    },
    {
     "name": "stdout",
     "output_type": "stream",
     "text": [
      "[1] \"Two-sided Fisher exact test pvalue: 1 with odds: 0\"\n",
      "[1] \"One-sided Fisher exact test pvalue: 1 with odds: 0\"\n"
     ]
    },
    {
     "name": "stderr",
     "output_type": "stream",
     "text": [
      "chr14\n",
      "\n"
     ]
    },
    {
     "name": "stdout",
     "output_type": "stream",
     "text": [
      "[1] \"Two-sided Fisher exact test pvalue: 1 with odds: 0\"\n",
      "[1] \"One-sided Fisher exact test pvalue: 1 with odds: 0\"\n"
     ]
    },
    {
     "name": "stderr",
     "output_type": "stream",
     "text": [
      "chr15\n",
      "\n"
     ]
    },
    {
     "name": "stdout",
     "output_type": "stream",
     "text": [
      "[1] \"Two-sided Fisher exact test pvalue: 0.303822832990416 with odds: 0\"\n",
      "[1] \"One-sided Fisher exact test pvalue: 0.164402813026746 with odds: 0\"\n"
     ]
    },
    {
     "name": "stderr",
     "output_type": "stream",
     "text": [
      "chr16\n",
      "\n"
     ]
    },
    {
     "name": "stdout",
     "output_type": "stream",
     "text": [
      "[1] \"Two-sided Fisher exact test pvalue: 1 with odds: 0\"\n",
      "[1] \"One-sided Fisher exact test pvalue: 1 with odds: 0\"\n"
     ]
    },
    {
     "name": "stderr",
     "output_type": "stream",
     "text": [
      "chr17\n",
      "\n"
     ]
    },
    {
     "name": "stdout",
     "output_type": "stream",
     "text": [
      "[1] \"Two-sided Fisher exact test pvalue: 1 with odds: 0\"\n",
      "[1] \"One-sided Fisher exact test pvalue: 1 with odds: 0\"\n"
     ]
    },
    {
     "name": "stderr",
     "output_type": "stream",
     "text": [
      "chr18\n",
      "\n"
     ]
    },
    {
     "name": "stdout",
     "output_type": "stream",
     "text": [
      "[1] \"Two-sided Fisher exact test pvalue: 1 with odds: 0\"\n",
      "[1] \"One-sided Fisher exact test pvalue: 1 with odds: 0\"\n"
     ]
    },
    {
     "name": "stderr",
     "output_type": "stream",
     "text": [
      "chr19\n",
      "\n"
     ]
    },
    {
     "name": "stdout",
     "output_type": "stream",
     "text": [
      "[1] \"Two-sided Fisher exact test pvalue: 0.244446364479433 with odds: 0.493180731141171\"\n",
      "[1] \"One-sided Fisher exact test pvalue: 0.123363619557514 with odds: 0.493180731141171\"\n"
     ]
    },
    {
     "name": "stderr",
     "output_type": "stream",
     "text": [
      "chr20\n",
      "\n"
     ]
    },
    {
     "name": "stdout",
     "output_type": "stream",
     "text": [
      "[1] \"Two-sided Fisher exact test pvalue: 1 with odds: 0\"\n",
      "[1] \"One-sided Fisher exact test pvalue: 1 with odds: 0\"\n"
     ]
    },
    {
     "name": "stderr",
     "output_type": "stream",
     "text": [
      "chr21\n",
      "\n"
     ]
    },
    {
     "name": "stdout",
     "output_type": "stream",
     "text": [
      "[1] \"Two-sided Fisher exact test pvalue: 1 with odds: 0\"\n",
      "[1] \"One-sided Fisher exact test pvalue: 1 with odds: 0\"\n"
     ]
    },
    {
     "name": "stderr",
     "output_type": "stream",
     "text": [
      "chr22\n",
      "\n"
     ]
    },
    {
     "name": "stdout",
     "output_type": "stream",
     "text": [
      "[1] \"Two-sided Fisher exact test pvalue: 1 with odds: 0\"\n",
      "[1] \"One-sided Fisher exact test pvalue: 1 with odds: 0\"\n"
     ]
    }
   ],
   "source": [
    "for(i in 1:22){\n",
    "    chromosome = paste0('chr',i)\n",
    "    message(chromosome)\n",
    "    brain <- m6a_gene_anno_bed %>%\n",
    "      filter(context %in% c('GSE114150_Brain','brain_cortex','hNPC'), V1 == chromosome)  \n",
    "    brain_ad <- m6a_gene_bed_ad %>%\n",
    "      filter(context %in% c('GSE114150_Brain','brain_cortex','hNPC'), chrom == chromosome) %>% pull(hg38_ID) %>% unique %>% length\n",
    "    brain_nonad <- (brain %>% pull(hg38_ID) %>% unique %>% length) - brain_ad\n",
    "    \n",
    "    other <- m6a_gene_anno_bed %>%\n",
    "      filter(context != 'GSE114150_Brain',!(context %in% c('GSE114150_Brain','brain_cortex','hNPC')), V1 == chromosome) \n",
    "    other_ad <- m6a_gene_bed_ad %>%\n",
    "      filter(context != 'GSE114150_Brain',!(context %in% c('GSE114150_Brain','brain_cortex','hNPC')), chrom == chromosome)  %>% pull(hg38_ID) %>% unique %>% length\n",
    "    other_nonad <- other %>% pull(hg38_ID) %>% unique %>% length - other_ad\n",
    "    \n",
    "    # Create the contingency table\n",
    "    contingency_table <- matrix(c(brain_ad, brain_nonad, other_ad, other_nonad),\n",
    "                                nrow = 2,\n",
    "                                byrow = TRUE,\n",
    "                                dimnames = list(\"Tissue\" = c(\"Brain\", \"Other\"),\n",
    "                                                \"AD\" = c(\"AD\", \"not_AD\")))\n",
    "    \n",
    "    # Perform Fisher's Exact Test\n",
    "    # two sides\n",
    "    fisher_test_result_two <- fisher.test(contingency_table)\n",
    "    # one side\n",
    "    fisher_test_result_one <- fisher.test(contingency_table, alternative = \"less\")\n",
    "    \n",
    "    # Print the Fisher test result\n",
    "    print(paste('Two-sided Fisher exact test pvalue:',fisher_test_result_two$p.value, 'with odds:', fisher_test_result_two$estimate))\n",
    "    print(paste('One-sided Fisher exact test pvalue:',fisher_test_result_one$p.value, 'with odds:', fisher_test_result_one$estimate))\n",
    "}"
   ]
  },
  {
   "cell_type": "markdown",
   "id": "aede29e3-82ed-4d65-b87f-414348b30794",
   "metadata": {
    "kernel": "R"
   },
   "source": [
    "Nothing specific if we compare Brain vs pooled_others, may beacause of not enough peaks per chromosome"
   ]
  },
  {
   "cell_type": "markdown",
   "id": "86540def-7df3-4b53-b3c4-21628e6bbafa",
   "metadata": {
    "kernel": "R"
   },
   "source": [
    "#### compare brain and each other tissue"
   ]
  },
  {
   "cell_type": "code",
   "execution_count": 92,
   "id": "fbfabbdd-c7ba-4ccb-a6c6-691392fa0566",
   "metadata": {
    "kernel": "R"
   },
   "outputs": [
    {
     "name": "stderr",
     "output_type": "stream",
     "text": [
      "Print One-sided Fisher exact test pvalue < 0.7 only\n",
      "\n",
      "Also printed 2x2 table since some test results have odds as Inf\n",
      "\n"
     ]
    }
   ],
   "source": [
    "message('Print One-sided Fisher exact test pvalue < 0.7 only') \n",
    "message('Also printed 2x2 table since some test results have odds as Inf') \n",
    "for(i in 1:22){\n",
    "    chromosome = paste0('chr',i)\n",
    "    brain <- m6a_gene_anno_bed %>%\n",
    "      filter(context %in% c('GSE114150_Brain','brain_cortex','hNPC'), V1 == chromosome)  \n",
    "    brain_ad <- m6a_gene_bed_ad %>%\n",
    "      filter(context %in% c('GSE114150_Brain','brain_cortex','hNPC'), chrom == chromosome) %>% pull(hg38_ID) %>% unique %>% length\n",
    "    brain_nonad <- (brain %>% pull(hg38_ID) %>% unique %>% length) - brain_ad\n",
    "\n",
    "    for(context_target in contexts){\n",
    "        other <- m6a_gene_anno_bed %>%\n",
    "          filter(context == context_target, V1 == chromosome) \n",
    "        other_ad <- m6a_gene_bed_ad %>%\n",
    "          filter(context == context_target, chrom == chromosome)  %>% pull(hg38_ID) %>% unique %>% length\n",
    "        other_nonad <- other %>% pull(hg38_ID) %>% unique %>% length - other_ad\n",
    "        \n",
    "        # Create the contingency table\n",
    "        contingency_table <- matrix(c(brain_ad, brain_nonad, other_ad, other_nonad),\n",
    "                                    nrow = 2,\n",
    "                                    byrow = TRUE,\n",
    "                                    dimnames = list(\"Tissue\" = c(\"Brain\", context_target),\n",
    "                                                    \"AD\" = c(\"AD\", \"not_AD\")))\n",
    "    \n",
    "        \n",
    "            # two sides\n",
    "        fisher_test_result_two <- fisher.test(contingency_table)\n",
    "        # one side\n",
    "        fisher_test_result_one <- fisher.test(contingency_table, alternative = \"less\")\n",
    "        \n",
    "        # Print the Fisher test result\n",
    "        if (fisher_test_result_one$p.value < 0.1) {\n",
    "    \n",
    "            message(\"Brain AD vs \", context_target, \" AD on \", chromosome)\n",
    "            print(contingency_table)\n",
    "            print(paste('One-sided Fisher exact test pvalue:',fisher_test_result_one$p.value, 'with odds:', fisher_test_result_one$estimate))\n",
    "        }\n",
    "    }\n",
    "}"
   ]
  },
  {
   "cell_type": "markdown",
   "id": "43620b08-cd47-4277-8d8a-594de2dbf149",
   "metadata": {
    "kernel": "R"
   },
   "source": [
    "## Case"
   ]
  },
  {
   "cell_type": "code",
   "execution_count": 99,
   "id": "f6091c09-fc9d-4912-bd35-c9487c42b40b",
   "metadata": {
    "kernel": "R"
   },
   "outputs": [],
   "source": [
    "brain <- m6a_gene_anno_bed %>%\n",
    "  filter(context %in% c('GSE114150_Brain','brain_cortex','hNPC'))  \n",
    "brain_ad_id <- m6a_gene_bed_ad %>%\n",
    "  filter(context %in% c('GSE114150_Brain','brain_cortex','hNPC')) %>% pull(hg38_ID)\n"
   ]
  },
  {
   "cell_type": "code",
   "execution_count": 100,
   "id": "60e313f5-12b5-4059-a25c-631071889285",
   "metadata": {
    "kernel": "R"
   },
   "outputs": [
    {
     "data": {
      "text/html": [
       "<style>\n",
       ".list-inline {list-style: none; margin:0; padding: 0}\n",
       ".list-inline>li {display: inline-block}\n",
       ".list-inline>li:not(:last-child)::after {content: \"\\00b7\"; padding: 0 .5ex}\n",
       "</style>\n",
       "<ol class=list-inline><li>'chr12:113158551:113159178'</li><li>'chr12:113158551:113159178'</li><li>'chr12:113161821:113162088'</li><li>'chr12:113162795:113163180'</li><li>'chr12:113162795:113163180'</li><li>'chr12:113191735:113192015'</li><li>'chr12:113220931:113221081'</li><li>'chr12:113220931:113221081'</li><li>'chr19:1854218:1854735'</li><li>'chr19:44859854:44860081'</li><li>'chr2:134953245:134955180'</li><li>'chr2:134953245:134955180'</li><li>'chr2:202843035:202843434'</li><li>'chr2:202924671:202925412'</li><li>'chr2:202924671:202925412'</li><li>'chr2:202946450:202947523'</li><li>'chr2:202946450:202947523'</li><li>'chr2:202946450:202947523'</li><li>'chr2:202946450:202947523'</li><li>'chr2:202983419:202983739'</li><li>'chr2:202983419:202983739'</li><li>'chr5:177515977:177516937'</li><li>'chr7:100374156:100374656'</li><li>'chr8:27604960:27605366'</li><li>'chr12:113159016:113159156'</li><li>'chr12:113159016:113159156'</li><li>'chr12:113159016:113159156'</li><li>'chr12:113159016:113159156'</li><li>'chr12:113159016:113159156'</li><li>'chr12:113159016:113159156'</li><li>'chr12:113162998:113163165'</li><li>'chr12:113162998:113163165'</li><li>'chr12:113163184:113164127'</li><li>'chr12:113158888:113159170'</li><li>'chr12:113158888:113159170'</li><li>'chr12:113158888:113159170'</li><li>'chr12:113158888:113159170'</li><li>'chr12:113158888:113159170'</li><li>'chr12:113158888:113159170'</li><li>'chr12:113162999:113163368'</li><li>'chr12:113162999:113163368'</li><li>'chr12:113159016:113159156'</li><li>'chr12:113159016:113159156'</li><li>'chr12:113159016:113159156'</li><li>'chr12:113159016:113159156'</li><li>'chr12:113159016:113159156'</li><li>'chr12:113159016:113159156'</li><li>'chr12:113162998:113163165'</li><li>'chr12:113162998:113163165'</li><li>'chr12:113163184:113164127'</li><li>'chr2:202871461:202871765'</li><li>'chr12:113158906:113159116'</li><li>'chr12:113158906:113159116'</li><li>'chr12:113158906:113159116'</li><li>'chr12:113158906:113159116'</li><li>'chr12:113158906:113159116'</li><li>'chr12:113158906:113159116'</li><li>'chr12:113162998:113164237'</li><li>'chr12:113162998:113164237'</li><li>'chr19:1828363:1830708'</li><li>'chr10:58267721:58267871'</li><li>'chr12:113158853:113159155'</li><li>'chr12:113158853:113159155'</li><li>'chr12:113158853:113159155'</li><li>'chr12:113158853:113159155'</li><li>'chr12:113158853:113159155'</li><li>'chr12:113158853:113159155'</li><li>'chr12:113163005:113163356'</li><li>'chr12:113163005:113163356'</li><li>'chr2:202871461:202871765'</li><li>'chr12:113158906:113159116'</li><li>'chr12:113158906:113159116'</li><li>'chr12:113158906:113159116'</li><li>'chr12:113158906:113159116'</li><li>'chr12:113158906:113159116'</li><li>'chr12:113158906:113159116'</li><li>'chr12:113162998:113164227'</li><li>'chr12:113162998:113164227'</li><li>'chr19:1828363:1830708'</li><li>'chr12:113158986:113159156'</li><li>'chr12:113158986:113159156'</li><li>'chr12:113158986:113159156'</li><li>'chr12:113158986:113159156'</li><li>'chr12:113158986:113159156'</li><li>'chr12:113158986:113159156'</li><li>'chr12:113163224:113164117'</li><li>'chr19:1828583:1830738'</li><li>'chr12:113158741:113159173'</li><li>'chr12:113158741:113159173'</li><li>'chr12:113158741:113159173'</li><li>'chr12:113158741:113159173'</li><li>'chr12:113158741:113159173'</li><li>'chr12:113158741:113159173'</li><li>'chr12:113158986:113159156'</li><li>'chr12:113158986:113159156'</li><li>'chr12:113158986:113159156'</li><li>'chr12:113158986:113159156'</li><li>'chr12:113158986:113159156'</li><li>'chr12:113158986:113159156'</li><li>'chr12:113163224:113164117'</li><li>'chr19:1828583:1830758'</li><li>'chr2:134953447:134954208'</li><li>'chr2:134953447:134954208'</li><li>'chr2:202884498:202892690'</li><li>'chr2:202884498:202892690'</li><li>'chr8:27606436:27608633'</li><li>'chr8:27606436:27608633'</li><li>'chr2:134952676:134952845'</li><li>'chr2:134953490:134954260'</li><li>'chr2:134953490:134954260'</li><li>'chr2:134952717:134952798'</li><li>'chr2:134953447:134954208'</li><li>'chr2:134953447:134954208'</li><li>'chr2:202884498:202892700'</li><li>'chr2:202884498:202892700'</li></ol>\n"
      ],
      "text/latex": [
       "\\begin{enumerate*}\n",
       "\\item 'chr12:113158551:113159178'\n",
       "\\item 'chr12:113158551:113159178'\n",
       "\\item 'chr12:113161821:113162088'\n",
       "\\item 'chr12:113162795:113163180'\n",
       "\\item 'chr12:113162795:113163180'\n",
       "\\item 'chr12:113191735:113192015'\n",
       "\\item 'chr12:113220931:113221081'\n",
       "\\item 'chr12:113220931:113221081'\n",
       "\\item 'chr19:1854218:1854735'\n",
       "\\item 'chr19:44859854:44860081'\n",
       "\\item 'chr2:134953245:134955180'\n",
       "\\item 'chr2:134953245:134955180'\n",
       "\\item 'chr2:202843035:202843434'\n",
       "\\item 'chr2:202924671:202925412'\n",
       "\\item 'chr2:202924671:202925412'\n",
       "\\item 'chr2:202946450:202947523'\n",
       "\\item 'chr2:202946450:202947523'\n",
       "\\item 'chr2:202946450:202947523'\n",
       "\\item 'chr2:202946450:202947523'\n",
       "\\item 'chr2:202983419:202983739'\n",
       "\\item 'chr2:202983419:202983739'\n",
       "\\item 'chr5:177515977:177516937'\n",
       "\\item 'chr7:100374156:100374656'\n",
       "\\item 'chr8:27604960:27605366'\n",
       "\\item 'chr12:113159016:113159156'\n",
       "\\item 'chr12:113159016:113159156'\n",
       "\\item 'chr12:113159016:113159156'\n",
       "\\item 'chr12:113159016:113159156'\n",
       "\\item 'chr12:113159016:113159156'\n",
       "\\item 'chr12:113159016:113159156'\n",
       "\\item 'chr12:113162998:113163165'\n",
       "\\item 'chr12:113162998:113163165'\n",
       "\\item 'chr12:113163184:113164127'\n",
       "\\item 'chr12:113158888:113159170'\n",
       "\\item 'chr12:113158888:113159170'\n",
       "\\item 'chr12:113158888:113159170'\n",
       "\\item 'chr12:113158888:113159170'\n",
       "\\item 'chr12:113158888:113159170'\n",
       "\\item 'chr12:113158888:113159170'\n",
       "\\item 'chr12:113162999:113163368'\n",
       "\\item 'chr12:113162999:113163368'\n",
       "\\item 'chr12:113159016:113159156'\n",
       "\\item 'chr12:113159016:113159156'\n",
       "\\item 'chr12:113159016:113159156'\n",
       "\\item 'chr12:113159016:113159156'\n",
       "\\item 'chr12:113159016:113159156'\n",
       "\\item 'chr12:113159016:113159156'\n",
       "\\item 'chr12:113162998:113163165'\n",
       "\\item 'chr12:113162998:113163165'\n",
       "\\item 'chr12:113163184:113164127'\n",
       "\\item 'chr2:202871461:202871765'\n",
       "\\item 'chr12:113158906:113159116'\n",
       "\\item 'chr12:113158906:113159116'\n",
       "\\item 'chr12:113158906:113159116'\n",
       "\\item 'chr12:113158906:113159116'\n",
       "\\item 'chr12:113158906:113159116'\n",
       "\\item 'chr12:113158906:113159116'\n",
       "\\item 'chr12:113162998:113164237'\n",
       "\\item 'chr12:113162998:113164237'\n",
       "\\item 'chr19:1828363:1830708'\n",
       "\\item 'chr10:58267721:58267871'\n",
       "\\item 'chr12:113158853:113159155'\n",
       "\\item 'chr12:113158853:113159155'\n",
       "\\item 'chr12:113158853:113159155'\n",
       "\\item 'chr12:113158853:113159155'\n",
       "\\item 'chr12:113158853:113159155'\n",
       "\\item 'chr12:113158853:113159155'\n",
       "\\item 'chr12:113163005:113163356'\n",
       "\\item 'chr12:113163005:113163356'\n",
       "\\item 'chr2:202871461:202871765'\n",
       "\\item 'chr12:113158906:113159116'\n",
       "\\item 'chr12:113158906:113159116'\n",
       "\\item 'chr12:113158906:113159116'\n",
       "\\item 'chr12:113158906:113159116'\n",
       "\\item 'chr12:113158906:113159116'\n",
       "\\item 'chr12:113158906:113159116'\n",
       "\\item 'chr12:113162998:113164227'\n",
       "\\item 'chr12:113162998:113164227'\n",
       "\\item 'chr19:1828363:1830708'\n",
       "\\item 'chr12:113158986:113159156'\n",
       "\\item 'chr12:113158986:113159156'\n",
       "\\item 'chr12:113158986:113159156'\n",
       "\\item 'chr12:113158986:113159156'\n",
       "\\item 'chr12:113158986:113159156'\n",
       "\\item 'chr12:113158986:113159156'\n",
       "\\item 'chr12:113163224:113164117'\n",
       "\\item 'chr19:1828583:1830738'\n",
       "\\item 'chr12:113158741:113159173'\n",
       "\\item 'chr12:113158741:113159173'\n",
       "\\item 'chr12:113158741:113159173'\n",
       "\\item 'chr12:113158741:113159173'\n",
       "\\item 'chr12:113158741:113159173'\n",
       "\\item 'chr12:113158741:113159173'\n",
       "\\item 'chr12:113158986:113159156'\n",
       "\\item 'chr12:113158986:113159156'\n",
       "\\item 'chr12:113158986:113159156'\n",
       "\\item 'chr12:113158986:113159156'\n",
       "\\item 'chr12:113158986:113159156'\n",
       "\\item 'chr12:113158986:113159156'\n",
       "\\item 'chr12:113163224:113164117'\n",
       "\\item 'chr19:1828583:1830758'\n",
       "\\item 'chr2:134953447:134954208'\n",
       "\\item 'chr2:134953447:134954208'\n",
       "\\item 'chr2:202884498:202892690'\n",
       "\\item 'chr2:202884498:202892690'\n",
       "\\item 'chr8:27606436:27608633'\n",
       "\\item 'chr8:27606436:27608633'\n",
       "\\item 'chr2:134952676:134952845'\n",
       "\\item 'chr2:134953490:134954260'\n",
       "\\item 'chr2:134953490:134954260'\n",
       "\\item 'chr2:134952717:134952798'\n",
       "\\item 'chr2:134953447:134954208'\n",
       "\\item 'chr2:134953447:134954208'\n",
       "\\item 'chr2:202884498:202892700'\n",
       "\\item 'chr2:202884498:202892700'\n",
       "\\end{enumerate*}\n"
      ],
      "text/markdown": [
       "1. 'chr12:113158551:113159178'\n",
       "2. 'chr12:113158551:113159178'\n",
       "3. 'chr12:113161821:113162088'\n",
       "4. 'chr12:113162795:113163180'\n",
       "5. 'chr12:113162795:113163180'\n",
       "6. 'chr12:113191735:113192015'\n",
       "7. 'chr12:113220931:113221081'\n",
       "8. 'chr12:113220931:113221081'\n",
       "9. 'chr19:1854218:1854735'\n",
       "10. 'chr19:44859854:44860081'\n",
       "11. 'chr2:134953245:134955180'\n",
       "12. 'chr2:134953245:134955180'\n",
       "13. 'chr2:202843035:202843434'\n",
       "14. 'chr2:202924671:202925412'\n",
       "15. 'chr2:202924671:202925412'\n",
       "16. 'chr2:202946450:202947523'\n",
       "17. 'chr2:202946450:202947523'\n",
       "18. 'chr2:202946450:202947523'\n",
       "19. 'chr2:202946450:202947523'\n",
       "20. 'chr2:202983419:202983739'\n",
       "21. 'chr2:202983419:202983739'\n",
       "22. 'chr5:177515977:177516937'\n",
       "23. 'chr7:100374156:100374656'\n",
       "24. 'chr8:27604960:27605366'\n",
       "25. 'chr12:113159016:113159156'\n",
       "26. 'chr12:113159016:113159156'\n",
       "27. 'chr12:113159016:113159156'\n",
       "28. 'chr12:113159016:113159156'\n",
       "29. 'chr12:113159016:113159156'\n",
       "30. 'chr12:113159016:113159156'\n",
       "31. 'chr12:113162998:113163165'\n",
       "32. 'chr12:113162998:113163165'\n",
       "33. 'chr12:113163184:113164127'\n",
       "34. 'chr12:113158888:113159170'\n",
       "35. 'chr12:113158888:113159170'\n",
       "36. 'chr12:113158888:113159170'\n",
       "37. 'chr12:113158888:113159170'\n",
       "38. 'chr12:113158888:113159170'\n",
       "39. 'chr12:113158888:113159170'\n",
       "40. 'chr12:113162999:113163368'\n",
       "41. 'chr12:113162999:113163368'\n",
       "42. 'chr12:113159016:113159156'\n",
       "43. 'chr12:113159016:113159156'\n",
       "44. 'chr12:113159016:113159156'\n",
       "45. 'chr12:113159016:113159156'\n",
       "46. 'chr12:113159016:113159156'\n",
       "47. 'chr12:113159016:113159156'\n",
       "48. 'chr12:113162998:113163165'\n",
       "49. 'chr12:113162998:113163165'\n",
       "50. 'chr12:113163184:113164127'\n",
       "51. 'chr2:202871461:202871765'\n",
       "52. 'chr12:113158906:113159116'\n",
       "53. 'chr12:113158906:113159116'\n",
       "54. 'chr12:113158906:113159116'\n",
       "55. 'chr12:113158906:113159116'\n",
       "56. 'chr12:113158906:113159116'\n",
       "57. 'chr12:113158906:113159116'\n",
       "58. 'chr12:113162998:113164237'\n",
       "59. 'chr12:113162998:113164237'\n",
       "60. 'chr19:1828363:1830708'\n",
       "61. 'chr10:58267721:58267871'\n",
       "62. 'chr12:113158853:113159155'\n",
       "63. 'chr12:113158853:113159155'\n",
       "64. 'chr12:113158853:113159155'\n",
       "65. 'chr12:113158853:113159155'\n",
       "66. 'chr12:113158853:113159155'\n",
       "67. 'chr12:113158853:113159155'\n",
       "68. 'chr12:113163005:113163356'\n",
       "69. 'chr12:113163005:113163356'\n",
       "70. 'chr2:202871461:202871765'\n",
       "71. 'chr12:113158906:113159116'\n",
       "72. 'chr12:113158906:113159116'\n",
       "73. 'chr12:113158906:113159116'\n",
       "74. 'chr12:113158906:113159116'\n",
       "75. 'chr12:113158906:113159116'\n",
       "76. 'chr12:113158906:113159116'\n",
       "77. 'chr12:113162998:113164227'\n",
       "78. 'chr12:113162998:113164227'\n",
       "79. 'chr19:1828363:1830708'\n",
       "80. 'chr12:113158986:113159156'\n",
       "81. 'chr12:113158986:113159156'\n",
       "82. 'chr12:113158986:113159156'\n",
       "83. 'chr12:113158986:113159156'\n",
       "84. 'chr12:113158986:113159156'\n",
       "85. 'chr12:113158986:113159156'\n",
       "86. 'chr12:113163224:113164117'\n",
       "87. 'chr19:1828583:1830738'\n",
       "88. 'chr12:113158741:113159173'\n",
       "89. 'chr12:113158741:113159173'\n",
       "90. 'chr12:113158741:113159173'\n",
       "91. 'chr12:113158741:113159173'\n",
       "92. 'chr12:113158741:113159173'\n",
       "93. 'chr12:113158741:113159173'\n",
       "94. 'chr12:113158986:113159156'\n",
       "95. 'chr12:113158986:113159156'\n",
       "96. 'chr12:113158986:113159156'\n",
       "97. 'chr12:113158986:113159156'\n",
       "98. 'chr12:113158986:113159156'\n",
       "99. 'chr12:113158986:113159156'\n",
       "100. 'chr12:113163224:113164117'\n",
       "101. 'chr19:1828583:1830758'\n",
       "102. 'chr2:134953447:134954208'\n",
       "103. 'chr2:134953447:134954208'\n",
       "104. 'chr2:202884498:202892690'\n",
       "105. 'chr2:202884498:202892690'\n",
       "106. 'chr8:27606436:27608633'\n",
       "107. 'chr8:27606436:27608633'\n",
       "108. 'chr2:134952676:134952845'\n",
       "109. 'chr2:134953490:134954260'\n",
       "110. 'chr2:134953490:134954260'\n",
       "111. 'chr2:134952717:134952798'\n",
       "112. 'chr2:134953447:134954208'\n",
       "113. 'chr2:134953447:134954208'\n",
       "114. 'chr2:202884498:202892700'\n",
       "115. 'chr2:202884498:202892700'\n",
       "\n",
       "\n"
      ],
      "text/plain": [
       "  [1] \"chr12:113158551:113159178\" \"chr12:113158551:113159178\"\n",
       "  [3] \"chr12:113161821:113162088\" \"chr12:113162795:113163180\"\n",
       "  [5] \"chr12:113162795:113163180\" \"chr12:113191735:113192015\"\n",
       "  [7] \"chr12:113220931:113221081\" \"chr12:113220931:113221081\"\n",
       "  [9] \"chr19:1854218:1854735\"     \"chr19:44859854:44860081\"  \n",
       " [11] \"chr2:134953245:134955180\"  \"chr2:134953245:134955180\" \n",
       " [13] \"chr2:202843035:202843434\"  \"chr2:202924671:202925412\" \n",
       " [15] \"chr2:202924671:202925412\"  \"chr2:202946450:202947523\" \n",
       " [17] \"chr2:202946450:202947523\"  \"chr2:202946450:202947523\" \n",
       " [19] \"chr2:202946450:202947523\"  \"chr2:202983419:202983739\" \n",
       " [21] \"chr2:202983419:202983739\"  \"chr5:177515977:177516937\" \n",
       " [23] \"chr7:100374156:100374656\"  \"chr8:27604960:27605366\"   \n",
       " [25] \"chr12:113159016:113159156\" \"chr12:113159016:113159156\"\n",
       " [27] \"chr12:113159016:113159156\" \"chr12:113159016:113159156\"\n",
       " [29] \"chr12:113159016:113159156\" \"chr12:113159016:113159156\"\n",
       " [31] \"chr12:113162998:113163165\" \"chr12:113162998:113163165\"\n",
       " [33] \"chr12:113163184:113164127\" \"chr12:113158888:113159170\"\n",
       " [35] \"chr12:113158888:113159170\" \"chr12:113158888:113159170\"\n",
       " [37] \"chr12:113158888:113159170\" \"chr12:113158888:113159170\"\n",
       " [39] \"chr12:113158888:113159170\" \"chr12:113162999:113163368\"\n",
       " [41] \"chr12:113162999:113163368\" \"chr12:113159016:113159156\"\n",
       " [43] \"chr12:113159016:113159156\" \"chr12:113159016:113159156\"\n",
       " [45] \"chr12:113159016:113159156\" \"chr12:113159016:113159156\"\n",
       " [47] \"chr12:113159016:113159156\" \"chr12:113162998:113163165\"\n",
       " [49] \"chr12:113162998:113163165\" \"chr12:113163184:113164127\"\n",
       " [51] \"chr2:202871461:202871765\"  \"chr12:113158906:113159116\"\n",
       " [53] \"chr12:113158906:113159116\" \"chr12:113158906:113159116\"\n",
       " [55] \"chr12:113158906:113159116\" \"chr12:113158906:113159116\"\n",
       " [57] \"chr12:113158906:113159116\" \"chr12:113162998:113164237\"\n",
       " [59] \"chr12:113162998:113164237\" \"chr19:1828363:1830708\"    \n",
       " [61] \"chr10:58267721:58267871\"   \"chr12:113158853:113159155\"\n",
       " [63] \"chr12:113158853:113159155\" \"chr12:113158853:113159155\"\n",
       " [65] \"chr12:113158853:113159155\" \"chr12:113158853:113159155\"\n",
       " [67] \"chr12:113158853:113159155\" \"chr12:113163005:113163356\"\n",
       " [69] \"chr12:113163005:113163356\" \"chr2:202871461:202871765\" \n",
       " [71] \"chr12:113158906:113159116\" \"chr12:113158906:113159116\"\n",
       " [73] \"chr12:113158906:113159116\" \"chr12:113158906:113159116\"\n",
       " [75] \"chr12:113158906:113159116\" \"chr12:113158906:113159116\"\n",
       " [77] \"chr12:113162998:113164227\" \"chr12:113162998:113164227\"\n",
       " [79] \"chr19:1828363:1830708\"     \"chr12:113158986:113159156\"\n",
       " [81] \"chr12:113158986:113159156\" \"chr12:113158986:113159156\"\n",
       " [83] \"chr12:113158986:113159156\" \"chr12:113158986:113159156\"\n",
       " [85] \"chr12:113158986:113159156\" \"chr12:113163224:113164117\"\n",
       " [87] \"chr19:1828583:1830738\"     \"chr12:113158741:113159173\"\n",
       " [89] \"chr12:113158741:113159173\" \"chr12:113158741:113159173\"\n",
       " [91] \"chr12:113158741:113159173\" \"chr12:113158741:113159173\"\n",
       " [93] \"chr12:113158741:113159173\" \"chr12:113158986:113159156\"\n",
       " [95] \"chr12:113158986:113159156\" \"chr12:113158986:113159156\"\n",
       " [97] \"chr12:113158986:113159156\" \"chr12:113158986:113159156\"\n",
       " [99] \"chr12:113158986:113159156\" \"chr12:113163224:113164117\"\n",
       "[101] \"chr19:1828583:1830758\"     \"chr2:134953447:134954208\" \n",
       "[103] \"chr2:134953447:134954208\"  \"chr2:202884498:202892690\" \n",
       "[105] \"chr2:202884498:202892690\"  \"chr8:27606436:27608633\"   \n",
       "[107] \"chr8:27606436:27608633\"    \"chr2:134952676:134952845\" \n",
       "[109] \"chr2:134953490:134954260\"  \"chr2:134953490:134954260\" \n",
       "[111] \"chr2:134952717:134952798\"  \"chr2:134953447:134954208\" \n",
       "[113] \"chr2:134953447:134954208\"  \"chr2:202884498:202892700\" \n",
       "[115] \"chr2:202884498:202892700\" "
      ]
     },
     "metadata": {},
     "output_type": "display_data"
    }
   ],
   "source": [
    "brain_ad_id"
   ]
  },
  {
   "cell_type": "code",
   "execution_count": 114,
   "id": "1fba113d-7d7f-4aa7-ba36-4e6d04e88960",
   "metadata": {
    "kernel": "R"
   },
   "outputs": [
    {
     "data": {
      "text/html": [
       "<table class=\"dataframe\">\n",
       "<caption>A data.frame: 6 × 16</caption>\n",
       "<thead>\n",
       "\t<tr><th></th><th scope=col>chrom</th><th scope=col>start</th><th scope=col>end</th><th scope=col>hg38_ID</th><th scope=col>context</th><th scope=col>gene_id</th><th scope=col>gene_name</th><th scope=col>chr</th><th scope=col>start_variant</th><th scope=col>end_variant</th><th scope=col>variant_id</th><th scope=col>z</th><th scope=col>pip</th><th scope=col>cs_coverage_0.95_min_corr</th><th scope=col>block</th><th scope=col>study</th></tr>\n",
       "\t<tr><th></th><th scope=col>&lt;chr&gt;</th><th scope=col>&lt;int&gt;</th><th scope=col>&lt;int&gt;</th><th scope=col>&lt;chr&gt;</th><th scope=col>&lt;chr&gt;</th><th scope=col>&lt;chr&gt;</th><th scope=col>&lt;chr&gt;</th><th scope=col>&lt;chr&gt;</th><th scope=col>&lt;int&gt;</th><th scope=col>&lt;int&gt;</th><th scope=col>&lt;chr&gt;</th><th scope=col>&lt;dbl&gt;</th><th scope=col>&lt;dbl&gt;</th><th scope=col>&lt;int&gt;</th><th scope=col>&lt;chr&gt;</th><th scope=col>&lt;chr&gt;</th></tr>\n",
       "</thead>\n",
       "<tbody>\n",
       "\t<tr><th scope=row>1</th><td>chr12</td><td>113158551</td><td>113159178</td><td>chr12:113158551:113159178</td><td>GSE114150_Brain</td><td>ENSG00000186710</td><td>CFAP73</td><td>chr12</td><td>113159061</td><td>113159061</td><td>12:113159061:G:A</td><td>4.575949</td><td>0.006127578</td><td>1</td><td>chr12_112825713_115165608</td><td>AD_Bellenguez_2022</td></tr>\n",
       "\t<tr><th scope=row>2</th><td>chr12</td><td>113158551</td><td>113159178</td><td>chr12:113158551:113159178</td><td>GSE114150_Brain</td><td>ENSG00000123064</td><td>DDX54 </td><td>chr12</td><td>113159061</td><td>113159061</td><td>12:113159061:G:A</td><td>4.575949</td><td>0.006127578</td><td>1</td><td>chr12_112825713_115165608</td><td>AD_Bellenguez_2022</td></tr>\n",
       "\t<tr><th scope=row>3</th><td>chr12</td><td>113161821</td><td>113162088</td><td>chr12:113161821:113162088</td><td>GSE114150_Brain</td><td>ENSG00000123064</td><td>DDX54 </td><td>chr12</td><td>113162061</td><td>113162061</td><td>12:113162061:T:C</td><td>4.490323</td><td>0.004234860</td><td>1</td><td>chr12_112825713_115165608</td><td>AD_Bellenguez_2022</td></tr>\n",
       "\t<tr><th scope=row>4</th><td>chr12</td><td>113162795</td><td>113163180</td><td>chr12:113162795:113163180</td><td>GSE114150_Brain</td><td>ENSG00000123064</td><td>DDX54 </td><td>chr12</td><td>113163098</td><td>113163098</td><td>12:113163098:A:G</td><td>4.483871</td><td>0.004119767</td><td>1</td><td>chr12_112825713_115165608</td><td>AD_Bellenguez_2022</td></tr>\n",
       "\t<tr><th scope=row>5</th><td>chr12</td><td>113162795</td><td>113163180</td><td>chr12:113162795:113163180</td><td>GSE114150_Brain</td><td>ENSG00000123064</td><td>DDX54 </td><td>chr12</td><td>113163135</td><td>113163135</td><td>12:113163135:C:T</td><td>4.518987</td><td>0.004788665</td><td>1</td><td>chr12_112825713_115165608</td><td>AD_Bellenguez_2022</td></tr>\n",
       "\t<tr><th scope=row>6</th><td>chr12</td><td>113191735</td><td>113192015</td><td>chr12:113191735:113192015</td><td>GSE114150_Brain</td><td>ENSG00000139405</td><td>RITA1 </td><td>chr12</td><td>113191832</td><td>113191832</td><td>12:113191832:G:A</td><td>4.449367</td><td>0.003557680</td><td>1</td><td>chr12_112825713_115165608</td><td>AD_Bellenguez_2022</td></tr>\n",
       "</tbody>\n",
       "</table>\n"
      ],
      "text/latex": [
       "A data.frame: 6 × 16\n",
       "\\begin{tabular}{r|llllllllllllllll}\n",
       "  & chrom & start & end & hg38\\_ID & context & gene\\_id & gene\\_name & chr & start\\_variant & end\\_variant & variant\\_id & z & pip & cs\\_coverage\\_0.95\\_min\\_corr & block & study\\\\\n",
       "  & <chr> & <int> & <int> & <chr> & <chr> & <chr> & <chr> & <chr> & <int> & <int> & <chr> & <dbl> & <dbl> & <int> & <chr> & <chr>\\\\\n",
       "\\hline\n",
       "\t1 & chr12 & 113158551 & 113159178 & chr12:113158551:113159178 & GSE114150\\_Brain & ENSG00000186710 & CFAP73 & chr12 & 113159061 & 113159061 & 12:113159061:G:A & 4.575949 & 0.006127578 & 1 & chr12\\_112825713\\_115165608 & AD\\_Bellenguez\\_2022\\\\\n",
       "\t2 & chr12 & 113158551 & 113159178 & chr12:113158551:113159178 & GSE114150\\_Brain & ENSG00000123064 & DDX54  & chr12 & 113159061 & 113159061 & 12:113159061:G:A & 4.575949 & 0.006127578 & 1 & chr12\\_112825713\\_115165608 & AD\\_Bellenguez\\_2022\\\\\n",
       "\t3 & chr12 & 113161821 & 113162088 & chr12:113161821:113162088 & GSE114150\\_Brain & ENSG00000123064 & DDX54  & chr12 & 113162061 & 113162061 & 12:113162061:T:C & 4.490323 & 0.004234860 & 1 & chr12\\_112825713\\_115165608 & AD\\_Bellenguez\\_2022\\\\\n",
       "\t4 & chr12 & 113162795 & 113163180 & chr12:113162795:113163180 & GSE114150\\_Brain & ENSG00000123064 & DDX54  & chr12 & 113163098 & 113163098 & 12:113163098:A:G & 4.483871 & 0.004119767 & 1 & chr12\\_112825713\\_115165608 & AD\\_Bellenguez\\_2022\\\\\n",
       "\t5 & chr12 & 113162795 & 113163180 & chr12:113162795:113163180 & GSE114150\\_Brain & ENSG00000123064 & DDX54  & chr12 & 113163135 & 113163135 & 12:113163135:C:T & 4.518987 & 0.004788665 & 1 & chr12\\_112825713\\_115165608 & AD\\_Bellenguez\\_2022\\\\\n",
       "\t6 & chr12 & 113191735 & 113192015 & chr12:113191735:113192015 & GSE114150\\_Brain & ENSG00000139405 & RITA1  & chr12 & 113191832 & 113191832 & 12:113191832:G:A & 4.449367 & 0.003557680 & 1 & chr12\\_112825713\\_115165608 & AD\\_Bellenguez\\_2022\\\\\n",
       "\\end{tabular}\n"
      ],
      "text/markdown": [
       "\n",
       "A data.frame: 6 × 16\n",
       "\n",
       "| <!--/--> | chrom &lt;chr&gt; | start &lt;int&gt; | end &lt;int&gt; | hg38_ID &lt;chr&gt; | context &lt;chr&gt; | gene_id &lt;chr&gt; | gene_name &lt;chr&gt; | chr &lt;chr&gt; | start_variant &lt;int&gt; | end_variant &lt;int&gt; | variant_id &lt;chr&gt; | z &lt;dbl&gt; | pip &lt;dbl&gt; | cs_coverage_0.95_min_corr &lt;int&gt; | block &lt;chr&gt; | study &lt;chr&gt; |\n",
       "|---|---|---|---|---|---|---|---|---|---|---|---|---|---|---|---|---|\n",
       "| 1 | chr12 | 113158551 | 113159178 | chr12:113158551:113159178 | GSE114150_Brain | ENSG00000186710 | CFAP73 | chr12 | 113159061 | 113159061 | 12:113159061:G:A | 4.575949 | 0.006127578 | 1 | chr12_112825713_115165608 | AD_Bellenguez_2022 |\n",
       "| 2 | chr12 | 113158551 | 113159178 | chr12:113158551:113159178 | GSE114150_Brain | ENSG00000123064 | DDX54  | chr12 | 113159061 | 113159061 | 12:113159061:G:A | 4.575949 | 0.006127578 | 1 | chr12_112825713_115165608 | AD_Bellenguez_2022 |\n",
       "| 3 | chr12 | 113161821 | 113162088 | chr12:113161821:113162088 | GSE114150_Brain | ENSG00000123064 | DDX54  | chr12 | 113162061 | 113162061 | 12:113162061:T:C | 4.490323 | 0.004234860 | 1 | chr12_112825713_115165608 | AD_Bellenguez_2022 |\n",
       "| 4 | chr12 | 113162795 | 113163180 | chr12:113162795:113163180 | GSE114150_Brain | ENSG00000123064 | DDX54  | chr12 | 113163098 | 113163098 | 12:113163098:A:G | 4.483871 | 0.004119767 | 1 | chr12_112825713_115165608 | AD_Bellenguez_2022 |\n",
       "| 5 | chr12 | 113162795 | 113163180 | chr12:113162795:113163180 | GSE114150_Brain | ENSG00000123064 | DDX54  | chr12 | 113163135 | 113163135 | 12:113163135:C:T | 4.518987 | 0.004788665 | 1 | chr12_112825713_115165608 | AD_Bellenguez_2022 |\n",
       "| 6 | chr12 | 113191735 | 113192015 | chr12:113191735:113192015 | GSE114150_Brain | ENSG00000139405 | RITA1  | chr12 | 113191832 | 113191832 | 12:113191832:G:A | 4.449367 | 0.003557680 | 1 | chr12_112825713_115165608 | AD_Bellenguez_2022 |\n",
       "\n"
      ],
      "text/plain": [
       "  chrom start     end       hg38_ID                   context        \n",
       "1 chr12 113158551 113159178 chr12:113158551:113159178 GSE114150_Brain\n",
       "2 chr12 113158551 113159178 chr12:113158551:113159178 GSE114150_Brain\n",
       "3 chr12 113161821 113162088 chr12:113161821:113162088 GSE114150_Brain\n",
       "4 chr12 113162795 113163180 chr12:113162795:113163180 GSE114150_Brain\n",
       "5 chr12 113162795 113163180 chr12:113162795:113163180 GSE114150_Brain\n",
       "6 chr12 113191735 113192015 chr12:113191735:113192015 GSE114150_Brain\n",
       "  gene_id         gene_name chr   start_variant end_variant variant_id      \n",
       "1 ENSG00000186710 CFAP73    chr12 113159061     113159061   12:113159061:G:A\n",
       "2 ENSG00000123064 DDX54     chr12 113159061     113159061   12:113159061:G:A\n",
       "3 ENSG00000123064 DDX54     chr12 113162061     113162061   12:113162061:T:C\n",
       "4 ENSG00000123064 DDX54     chr12 113163098     113163098   12:113163098:A:G\n",
       "5 ENSG00000123064 DDX54     chr12 113163135     113163135   12:113163135:C:T\n",
       "6 ENSG00000139405 RITA1     chr12 113191832     113191832   12:113191832:G:A\n",
       "  z        pip         cs_coverage_0.95_min_corr block                    \n",
       "1 4.575949 0.006127578 1                         chr12_112825713_115165608\n",
       "2 4.575949 0.006127578 1                         chr12_112825713_115165608\n",
       "3 4.490323 0.004234860 1                         chr12_112825713_115165608\n",
       "4 4.483871 0.004119767 1                         chr12_112825713_115165608\n",
       "5 4.518987 0.004788665 1                         chr12_112825713_115165608\n",
       "6 4.449367 0.003557680 1                         chr12_112825713_115165608\n",
       "  study             \n",
       "1 AD_Bellenguez_2022\n",
       "2 AD_Bellenguez_2022\n",
       "3 AD_Bellenguez_2022\n",
       "4 AD_Bellenguez_2022\n",
       "5 AD_Bellenguez_2022\n",
       "6 AD_Bellenguez_2022"
      ]
     },
     "metadata": {},
     "output_type": "display_data"
    }
   ],
   "source": [
    "m6a_gene_bed_ad %>% head"
   ]
  },
  {
   "cell_type": "code",
   "execution_count": 201,
   "id": "70ba212f-64c0-40c7-b5ab-bb1deb3093cc",
   "metadata": {
    "kernel": "R"
   },
   "outputs": [
    {
     "data": {
      "text/plain": [
       "   Min. 1st Qu.  Median    Mean 3rd Qu.    Max. \n",
       "   81.0   221.0   360.0   472.3   703.5  1000.0 "
      ]
     },
     "metadata": {},
     "output_type": "display_data"
    }
   ],
   "source": [
    "summary(m6a_gene_bed_ad$end - m6a_gene_bed_ad$start)"
   ]
  },
  {
   "cell_type": "code",
   "execution_count": 123,
   "id": "5398fdca-14fe-4350-9d2e-a9646d0149b6",
   "metadata": {
    "kernel": "R"
   },
   "outputs": [
    {
     "data": {
      "text/html": [
       "<table class=\"dataframe\">\n",
       "<caption>A data.table: 6 × 10</caption>\n",
       "<thead>\n",
       "\t<tr><th scope=col>##collapsed version generated by GTEx pipeline</th><th scope=col>V2</th><th scope=col>V3</th><th scope=col>V4</th><th scope=col>V5</th><th scope=col>V6</th><th scope=col>V7</th><th scope=col>V8</th><th scope=col>V9</th><th scope=col>gene</th></tr>\n",
       "\t<tr><th scope=col>&lt;chr&gt;</th><th scope=col>&lt;chr&gt;</th><th scope=col>&lt;chr&gt;</th><th scope=col>&lt;int&gt;</th><th scope=col>&lt;int&gt;</th><th scope=col>&lt;chr&gt;</th><th scope=col>&lt;chr&gt;</th><th scope=col>&lt;chr&gt;</th><th scope=col>&lt;chr&gt;</th><th scope=col>&lt;chr&gt;</th></tr>\n",
       "</thead>\n",
       "<tbody>\n",
       "\t<tr><td>chr1</td><td>havana </td><td>gene</td><td>11869</td><td>14409</td><td>.</td><td>+</td><td>.</td><td>gene_id \"\"ENSG00000223972\"\"; transcript_id \"\"ENSG00000223972\"\"; gene_type \"\"transcribed_unprocessed_pseudogene\"\"; gene_name \"\"DDX11L1\"\"; transcript_type \"\"transcribed_unprocessed_pseudogene\"\"; transcript_name \"\"DDX11L1\"\"; gene_version \"\"5\"\"; gene_source \"\"havana\"\";</td><td>ENSG00000223972</td></tr>\n",
       "\t<tr><td>chr1</td><td>havana </td><td>gene</td><td>14404</td><td>29570</td><td>.</td><td>-</td><td>.</td><td>gene_id \"\"ENSG00000227232\"\"; transcript_id \"\"ENSG00000227232\"\"; gene_type \"\"unprocessed_pseudogene\"\"; gene_name \"\"WASH7P\"\"; transcript_type \"\"unprocessed_pseudogene\"\"; transcript_name \"\"WASH7P\"\"; gene_version \"\"5\"\"; gene_source \"\"havana\"\";                          </td><td>ENSG00000227232</td></tr>\n",
       "\t<tr><td>chr1</td><td>mirbase</td><td>gene</td><td>17369</td><td>17436</td><td>.</td><td>-</td><td>.</td><td>gene_id \"\"ENSG00000278267\"\"; transcript_id \"\"ENSG00000278267\"\"; gene_type \"\"miRNA\"\"; gene_name \"\"MIR6859-1\"\"; transcript_type \"\"miRNA\"\"; transcript_name \"\"MIR6859-1\"\"; gene_version \"\"1\"\"; gene_source \"\"mirbase\"\";                                                     </td><td>ENSG00000278267</td></tr>\n",
       "\t<tr><td>chr1</td><td>havana </td><td>gene</td><td>29554</td><td>31109</td><td>.</td><td>+</td><td>.</td><td>gene_id \"\"ENSG00000243485\"\"; transcript_id \"\"ENSG00000243485\"\"; gene_type \"\"lncRNA\"\"; gene_name \"\"MIR1302-2HG\"\"; transcript_type \"\"lncRNA\"\"; transcript_name \"\"MIR1302-2HG\"\"; gene_version \"\"5\"\"; gene_source \"\"havana\"\";                                                </td><td>ENSG00000243485</td></tr>\n",
       "\t<tr><td>chr1</td><td>mirbase</td><td>gene</td><td>30366</td><td>30503</td><td>.</td><td>+</td><td>.</td><td>gene_id \"\"ENSG00000284332\"\"; transcript_id \"\"ENSG00000284332\"\"; gene_type \"\"miRNA\"\"; gene_name \"\"MIR1302-2\"\"; transcript_type \"\"miRNA\"\"; transcript_name \"\"MIR1302-2\"\"; gene_version \"\"1\"\"; gene_source \"\"mirbase\"\";                                                     </td><td>ENSG00000284332</td></tr>\n",
       "\t<tr><td>chr1</td><td>havana </td><td>gene</td><td>34554</td><td>36081</td><td>.</td><td>-</td><td>.</td><td>gene_id \"\"ENSG00000237613\"\"; transcript_id \"\"ENSG00000237613\"\"; gene_type \"\"lncRNA\"\"; gene_name \"\"FAM138A\"\"; transcript_type \"\"lncRNA\"\"; transcript_name \"\"FAM138A\"\"; gene_version \"\"2\"\"; gene_source \"\"havana\"\";                                                        </td><td>ENSG00000237613</td></tr>\n",
       "</tbody>\n",
       "</table>\n"
      ],
      "text/latex": [
       "A data.table: 6 × 10\n",
       "\\begin{tabular}{llllllllll}\n",
       " \\#\\#collapsed version generated by GTEx pipeline & V2 & V3 & V4 & V5 & V6 & V7 & V8 & V9 & gene\\\\\n",
       " <chr> & <chr> & <chr> & <int> & <int> & <chr> & <chr> & <chr> & <chr> & <chr>\\\\\n",
       "\\hline\n",
       "\t chr1 & havana  & gene & 11869 & 14409 & . & + & . & gene\\_id \"\"ENSG00000223972\"\"; transcript\\_id \"\"ENSG00000223972\"\"; gene\\_type \"\"transcribed\\_unprocessed\\_pseudogene\"\"; gene\\_name \"\"DDX11L1\"\"; transcript\\_type \"\"transcribed\\_unprocessed\\_pseudogene\"\"; transcript\\_name \"\"DDX11L1\"\"; gene\\_version \"\"5\"\"; gene\\_source \"\"havana\"\"; & ENSG00000223972\\\\\n",
       "\t chr1 & havana  & gene & 14404 & 29570 & . & - & . & gene\\_id \"\"ENSG00000227232\"\"; transcript\\_id \"\"ENSG00000227232\"\"; gene\\_type \"\"unprocessed\\_pseudogene\"\"; gene\\_name \"\"WASH7P\"\"; transcript\\_type \"\"unprocessed\\_pseudogene\"\"; transcript\\_name \"\"WASH7P\"\"; gene\\_version \"\"5\"\"; gene\\_source \"\"havana\"\";                           & ENSG00000227232\\\\\n",
       "\t chr1 & mirbase & gene & 17369 & 17436 & . & - & . & gene\\_id \"\"ENSG00000278267\"\"; transcript\\_id \"\"ENSG00000278267\"\"; gene\\_type \"\"miRNA\"\"; gene\\_name \"\"MIR6859-1\"\"; transcript\\_type \"\"miRNA\"\"; transcript\\_name \"\"MIR6859-1\"\"; gene\\_version \"\"1\"\"; gene\\_source \"\"mirbase\"\";                                                      & ENSG00000278267\\\\\n",
       "\t chr1 & havana  & gene & 29554 & 31109 & . & + & . & gene\\_id \"\"ENSG00000243485\"\"; transcript\\_id \"\"ENSG00000243485\"\"; gene\\_type \"\"lncRNA\"\"; gene\\_name \"\"MIR1302-2HG\"\"; transcript\\_type \"\"lncRNA\"\"; transcript\\_name \"\"MIR1302-2HG\"\"; gene\\_version \"\"5\"\"; gene\\_source \"\"havana\"\";                                                 & ENSG00000243485\\\\\n",
       "\t chr1 & mirbase & gene & 30366 & 30503 & . & + & . & gene\\_id \"\"ENSG00000284332\"\"; transcript\\_id \"\"ENSG00000284332\"\"; gene\\_type \"\"miRNA\"\"; gene\\_name \"\"MIR1302-2\"\"; transcript\\_type \"\"miRNA\"\"; transcript\\_name \"\"MIR1302-2\"\"; gene\\_version \"\"1\"\"; gene\\_source \"\"mirbase\"\";                                                      & ENSG00000284332\\\\\n",
       "\t chr1 & havana  & gene & 34554 & 36081 & . & - & . & gene\\_id \"\"ENSG00000237613\"\"; transcript\\_id \"\"ENSG00000237613\"\"; gene\\_type \"\"lncRNA\"\"; gene\\_name \"\"FAM138A\"\"; transcript\\_type \"\"lncRNA\"\"; transcript\\_name \"\"FAM138A\"\"; gene\\_version \"\"2\"\"; gene\\_source \"\"havana\"\";                                                         & ENSG00000237613\\\\\n",
       "\\end{tabular}\n"
      ],
      "text/markdown": [
       "\n",
       "A data.table: 6 × 10\n",
       "\n",
       "| ##collapsed version generated by GTEx pipeline &lt;chr&gt; | V2 &lt;chr&gt; | V3 &lt;chr&gt; | V4 &lt;int&gt; | V5 &lt;int&gt; | V6 &lt;chr&gt; | V7 &lt;chr&gt; | V8 &lt;chr&gt; | V9 &lt;chr&gt; | gene &lt;chr&gt; |\n",
       "|---|---|---|---|---|---|---|---|---|---|\n",
       "| chr1 | havana  | gene | 11869 | 14409 | . | + | . | gene_id \"\"ENSG00000223972\"\"; transcript_id \"\"ENSG00000223972\"\"; gene_type \"\"transcribed_unprocessed_pseudogene\"\"; gene_name \"\"DDX11L1\"\"; transcript_type \"\"transcribed_unprocessed_pseudogene\"\"; transcript_name \"\"DDX11L1\"\"; gene_version \"\"5\"\"; gene_source \"\"havana\"\"; | ENSG00000223972 |\n",
       "| chr1 | havana  | gene | 14404 | 29570 | . | - | . | gene_id \"\"ENSG00000227232\"\"; transcript_id \"\"ENSG00000227232\"\"; gene_type \"\"unprocessed_pseudogene\"\"; gene_name \"\"WASH7P\"\"; transcript_type \"\"unprocessed_pseudogene\"\"; transcript_name \"\"WASH7P\"\"; gene_version \"\"5\"\"; gene_source \"\"havana\"\";                           | ENSG00000227232 |\n",
       "| chr1 | mirbase | gene | 17369 | 17436 | . | - | . | gene_id \"\"ENSG00000278267\"\"; transcript_id \"\"ENSG00000278267\"\"; gene_type \"\"miRNA\"\"; gene_name \"\"MIR6859-1\"\"; transcript_type \"\"miRNA\"\"; transcript_name \"\"MIR6859-1\"\"; gene_version \"\"1\"\"; gene_source \"\"mirbase\"\";                                                      | ENSG00000278267 |\n",
       "| chr1 | havana  | gene | 29554 | 31109 | . | + | . | gene_id \"\"ENSG00000243485\"\"; transcript_id \"\"ENSG00000243485\"\"; gene_type \"\"lncRNA\"\"; gene_name \"\"MIR1302-2HG\"\"; transcript_type \"\"lncRNA\"\"; transcript_name \"\"MIR1302-2HG\"\"; gene_version \"\"5\"\"; gene_source \"\"havana\"\";                                                 | ENSG00000243485 |\n",
       "| chr1 | mirbase | gene | 30366 | 30503 | . | + | . | gene_id \"\"ENSG00000284332\"\"; transcript_id \"\"ENSG00000284332\"\"; gene_type \"\"miRNA\"\"; gene_name \"\"MIR1302-2\"\"; transcript_type \"\"miRNA\"\"; transcript_name \"\"MIR1302-2\"\"; gene_version \"\"1\"\"; gene_source \"\"mirbase\"\";                                                      | ENSG00000284332 |\n",
       "| chr1 | havana  | gene | 34554 | 36081 | . | - | . | gene_id \"\"ENSG00000237613\"\"; transcript_id \"\"ENSG00000237613\"\"; gene_type \"\"lncRNA\"\"; gene_name \"\"FAM138A\"\"; transcript_type \"\"lncRNA\"\"; transcript_name \"\"FAM138A\"\"; gene_version \"\"2\"\"; gene_source \"\"havana\"\";                                                         | ENSG00000237613 |\n",
       "\n"
      ],
      "text/plain": [
       "  ##collapsed version generated by GTEx pipeline V2      V3   V4    V5    V6 V7\n",
       "1 chr1                                           havana  gene 11869 14409 .  + \n",
       "2 chr1                                           havana  gene 14404 29570 .  - \n",
       "3 chr1                                           mirbase gene 17369 17436 .  - \n",
       "4 chr1                                           havana  gene 29554 31109 .  + \n",
       "5 chr1                                           mirbase gene 30366 30503 .  + \n",
       "6 chr1                                           havana  gene 34554 36081 .  - \n",
       "  V8\n",
       "1 . \n",
       "2 . \n",
       "3 . \n",
       "4 . \n",
       "5 . \n",
       "6 . \n",
       "  V9                                                                                                                                                                                                                                                                       \n",
       "1 gene_id \"\"ENSG00000223972\"\"; transcript_id \"\"ENSG00000223972\"\"; gene_type \"\"transcribed_unprocessed_pseudogene\"\"; gene_name \"\"DDX11L1\"\"; transcript_type \"\"transcribed_unprocessed_pseudogene\"\"; transcript_name \"\"DDX11L1\"\"; gene_version \"\"5\"\"; gene_source \"\"havana\"\";\n",
       "2 gene_id \"\"ENSG00000227232\"\"; transcript_id \"\"ENSG00000227232\"\"; gene_type \"\"unprocessed_pseudogene\"\"; gene_name \"\"WASH7P\"\"; transcript_type \"\"unprocessed_pseudogene\"\"; transcript_name \"\"WASH7P\"\"; gene_version \"\"5\"\"; gene_source \"\"havana\"\";                          \n",
       "3 gene_id \"\"ENSG00000278267\"\"; transcript_id \"\"ENSG00000278267\"\"; gene_type \"\"miRNA\"\"; gene_name \"\"MIR6859-1\"\"; transcript_type \"\"miRNA\"\"; transcript_name \"\"MIR6859-1\"\"; gene_version \"\"1\"\"; gene_source \"\"mirbase\"\";                                                     \n",
       "4 gene_id \"\"ENSG00000243485\"\"; transcript_id \"\"ENSG00000243485\"\"; gene_type \"\"lncRNA\"\"; gene_name \"\"MIR1302-2HG\"\"; transcript_type \"\"lncRNA\"\"; transcript_name \"\"MIR1302-2HG\"\"; gene_version \"\"5\"\"; gene_source \"\"havana\"\";                                                \n",
       "5 gene_id \"\"ENSG00000284332\"\"; transcript_id \"\"ENSG00000284332\"\"; gene_type \"\"miRNA\"\"; gene_name \"\"MIR1302-2\"\"; transcript_type \"\"miRNA\"\"; transcript_name \"\"MIR1302-2\"\"; gene_version \"\"1\"\"; gene_source \"\"mirbase\"\";                                                     \n",
       "6 gene_id \"\"ENSG00000237613\"\"; transcript_id \"\"ENSG00000237613\"\"; gene_type \"\"lncRNA\"\"; gene_name \"\"FAM138A\"\"; transcript_type \"\"lncRNA\"\"; transcript_name \"\"FAM138A\"\"; gene_version \"\"2\"\"; gene_source \"\"havana\"\";                                                        \n",
       "  gene           \n",
       "1 ENSG00000223972\n",
       "2 ENSG00000227232\n",
       "3 ENSG00000278267\n",
       "4 ENSG00000243485\n",
       "5 ENSG00000284332\n",
       "6 ENSG00000237613"
      ]
     },
     "metadata": {},
     "output_type": "display_data"
    }
   ],
   "source": [
    "gene_region <- fread('~/data/ref_data_Ru/gene_region.tsv')\n",
    "gene_region %>% head"
   ]
  },
  {
   "cell_type": "code",
   "execution_count": 143,
   "id": "cafd2432-6315-4723-907f-55cc250b80c5",
   "metadata": {
    "kernel": "R"
   },
   "outputs": [],
   "source": [
    "m6a_gene_bed_ad_df <- merge(m6a_gene_bed_ad, gene_region %>% select(V4, V5, V7, gene), by.x = 'gene_id', by.y = 'gene')\n"
   ]
  },
  {
   "cell_type": "code",
   "execution_count": 144,
   "id": "bf4123b2-93a0-4f0c-b161-7587ab213b83",
   "metadata": {
    "kernel": "R"
   },
   "outputs": [],
   "source": [
    "# Rename the last two columns as gene_start and gene_end\n",
    "colnames(m6a_gene_bed_ad_df)[ncol(m6a_gene_bed_ad_df) - 2] <- \"gene_start\"\n",
    "colnames(m6a_gene_bed_ad_df)[ncol(m6a_gene_bed_ad_df) - 1] <- \"gene_end\"\n",
    "colnames(m6a_gene_bed_ad_df)[ncol(m6a_gene_bed_ad_df)] <- \"strand\""
   ]
  },
  {
   "cell_type": "code",
   "execution_count": 137,
   "id": "acbfc6eb-cb03-474e-b739-0122ae97a77b",
   "metadata": {
    "kernel": "R"
   },
   "outputs": [],
   "source": [
    "m6a_gene_bed_ad_df <- m6a_gene_bed_ad_df %>% mutate(gene_start_back = gene_start,\n",
    "                             gene_start = ifelse(strand == '-', gene_end, gene_start),\n",
    "                             gene_end = ifelse(strand == '-', gene_start_back, gene_end)) %>% select(-gene_start_back)"
   ]
  },
  {
   "cell_type": "code",
   "execution_count": 195,
   "id": "ec330e43-9c67-4a89-8060-836b1a7f1893",
   "metadata": {
    "kernel": "R"
   },
   "outputs": [],
   "source": [
    "genes <- m6a_gene_bed_ad_df %>% pull(gene_name) %>% unique"
   ]
  },
  {
   "cell_type": "code",
   "execution_count": 255,
   "id": "cc82bf12-367e-4cba-be01-887360ca7d8a",
   "metadata": {
    "kernel": "R"
   },
   "outputs": [
    {
     "name": "stderr",
     "output_type": "stream",
     "text": [
      "Warning message:\n",
      "\"\u001b[1m\u001b[22mRemoved 6 rows containing missing values or values outside the scale range\n",
      "(`geom_rect()`).\"\n",
      "Warning message in RColorBrewer::brewer.pal(n, pal):\n",
      "\"n too large, allowed maximum for palette Dark2 is 8\n",
      "Returning the palette you asked for with that many colors\n",
      "\"\n",
      "Warning message:\n",
      "\"\u001b[1m\u001b[22mRemoved 7 rows containing missing values or values outside the scale range\n",
      "(`geom_segment()`).\"\n"
     ]
    }
   ],
   "source": [
    "library(ggplot2)\n",
    "library(dplyr)\n",
    "p <- list()\n",
    "for(gene in genes){\n",
    "    region_data <- m6a_gene_bed_ad_df %>% filter(gene_name == gene) \n",
    "    \n",
    "    # Set extension length (e.g., 5000 bp upstream and downstream)\n",
    "    extension <- 5000\n",
    "        \n",
    "    # Calculate plot boundaries\n",
    "    plot_from <- min(region_data$gene_start, region_data$start, region_data$start_variant) - extension\n",
    "    plot_to <- max(region_data$gene_end, region_data$end, region_data$end_variant) + extension\n",
    "    gwas_region <- gwas %>% filter(chr == unique(region_data$chrom), pos >= plot_from, pos <= plot_to)\n",
    "    gwas_region$cs_coverage_0.95_min_corr <- as.factor(gwas_region$cs_coverage_0.95_min_corr)\n",
    "    non_overlap_peaks <- m6a_gene_anno %>% filter(gene_name == gene, !(hg38_ID %in% region_data$hg38_ID))\n",
    "\n",
    "\n",
    "    # prepare data for each track \n",
    "    gene_data <- region_data %>%\n",
    "          mutate(type = \"Gene\", start = gene_start, end = gene_end)\n",
    "    peak_data <- region_data %>%\n",
    "          mutate(type = \"Peak\", start = start, end = end)\n",
    "        non_overlap_peaks <- m6a_gene_anno %>% filter(gene_name == gene, !(hg38_ID %in% region_data$hg38_ID))\n",
    "    non_ovlp_peak_data <- non_overlap_peaks %>%\n",
    "          mutate(type = \"Peak\", start = start, end = end)\n",
    "    gwas_data <- gwas_region %>%\n",
    "          mutate(type = \"GWAS\", start = pos, pip = pip)\n",
    "\n",
    "   # Define custom color palette for contexts\n",
    "    # Define custom color palette for contexts\n",
    "    custom_colors <- c(\n",
    "      \"GSE114150_Brain\" = \"#8B0000\",  # Dark Red\n",
    "      \"brain_cortex\" = \"#B22222\",     # Firebrick Red\n",
    "      \"hNPC\" = \"#CD5C5C\",             # Indian Red\n",
    "      \"Other\" = \"paleturquoise3\"             # Pale Green\n",
    "    )\n",
    "    \n",
    "    # Reorder peak data to prioritize brain-related contexts\n",
    "    peak_data <- peak_data %>%\n",
    "      mutate(context = ifelse(\n",
    "        context %in% c(\"GSE114150_Brain\", \"brain_cortex\", \"hNPC\"), \n",
    "        context, \n",
    "        \"Other\"\n",
    "      )) %>%\n",
    "      arrange(desc(context))  # Arrange so brain-related contexts come last (appear on top)\n",
    "    \n",
    "    non_ovlp_peak_data <- non_ovlp_peak_data %>%\n",
    "      mutate(context = ifelse(\n",
    "        context %in% c(\"GSE114150_Brain\", \"brain_cortex\", \"hNPC\"), \n",
    "        context, \n",
    "        \"Other\"\n",
    "      )) %>%\n",
    "      arrange(desc(context))  # Same reordering for non-overlapping peaks\n",
    "    \n",
    "    # Plot using ggplot2\n",
    "    p_region <- ggplot() +\n",
    "      # Gene segments with arrows based on strand\n",
    "      geom_segment(\n",
    "        data = gene_data,\n",
    "        aes(\n",
    "          x = start, xend = end, \n",
    "          y = 1, yend = 1\n",
    "        ),\n",
    "        arrow = arrow(type = \"open\", angle = 25, length = unit(0.2, \"inches\")),  \n",
    "        size = 1.5,\n",
    "        lineend = \"round\"\n",
    "      ) +\n",
    "      # Rectangles for Peaks on their own track\n",
    "      geom_rect(\n",
    "        data = peak_data,\n",
    "        aes(\n",
    "          xmin = start, xmax = end, \n",
    "          ymin = 2.2, ymax = 2.8, \n",
    "          fill = context\n",
    "        ),\n",
    "        alpha = 0.5\n",
    "      ) +\n",
    "      # Rectangles for non-overlapping Peaks\n",
    "      geom_rect(\n",
    "        data = non_ovlp_peak_data,\n",
    "        aes(\n",
    "          xmin = start, xmax = end, \n",
    "          ymin = 1.5, ymax = 2.1, \n",
    "          fill = context\n",
    "        ),\n",
    "        alpha = 0.2\n",
    "      ) +\n",
    "      # GWAS PIP values as vertical segments\n",
    "      geom_segment(\n",
    "        data = gwas_data,\n",
    "        aes(\n",
    "          x = start, xend = start, \n",
    "          y = 3.1, yend = 3.1 + pip,\n",
    "          color = as.factor(cs_coverage_0.95_min_corr)\n",
    "        ),\n",
    "        size = 1.2\n",
    "      ) +\n",
    "      # Labels for genes\n",
    "      geom_text(\n",
    "        data = gene_data,\n",
    "        aes(\n",
    "          x = (start + end) / 2, \n",
    "          y = 1.2, \n",
    "          label = gene_name\n",
    "        ),\n",
    "        size = 6\n",
    "      ) +\n",
    "      scale_y_continuous(\n",
    "        limits = c(0.5, 3.5),\n",
    "        breaks = c(1, 1.8, 2.4, 3.1), \n",
    "        labels = c(\"Gene\", \"Peak NOT with AD\", \"Peak with AD\", \"GWAS PIP\")\n",
    "      ) +\n",
    "      # Apply custom colors for peak contexts\n",
    "      scale_fill_manual(values = custom_colors) +\n",
    "      # Use Brewer palette for discrete cs_coverage_0.95 values\n",
    "      scale_color_brewer(palette = \"Dark2\") +\n",
    "      theme_minimal() +\n",
    "      theme(\n",
    "        axis.title.y = element_blank(),\n",
    "        axis.text.x = element_text(size = 16),\n",
    "        axis.text.y = element_text(size = 16),\n",
    "        plot.title = element_text(size = 20, face = \"bold\"),\n",
    "        legend.title = element_text(size = 16),\n",
    "        legend.text = element_text(size = 14),\n",
    "        panel.grid.major.y = element_blank(),\n",
    "        panel.grid.minor = element_blank()\n",
    "      ) +\n",
    "      labs(\n",
    "        title = paste(\"m6A Peaks, and GWAS PIP for\", gene, \"region\"),\n",
    "        x = \"Genomic Position (bp)\",\n",
    "        fill = \"Context\",\n",
    "        color = \"CS Coverage (min corr)\"\n",
    "      ) +\n",
    "      xlim(plot_from, plot_to)\n",
    "    p[[gene]] <- p_region\n",
    "    ggsave(paste0('plots/track_plots_',gene, '.pdf'),p_region, height = 6, width = 12)\n",
    "}"
   ]
  },
  {
   "cell_type": "markdown",
   "id": "6ccd809c-dff5-45da-aae4-a4def7b9d20a",
   "metadata": {
    "kernel": "R"
   },
   "source": [
    "### show details of several interesting cases"
   ]
  },
  {
   "cell_type": "code",
   "execution_count": 256,
   "id": "af4f9018-305a-4112-872f-2334c12495ec",
   "metadata": {
    "kernel": "R",
    "scrolled": true
   },
   "outputs": [
    {
     "name": "stderr",
     "output_type": "stream",
     "text": [
      "Warning message:\n",
      "\"\u001b[1m\u001b[22mRemoved 6 rows containing missing values or values outside the scale range\n",
      "(`geom_rect()`).\"\n"
     ]
    },
    {
     "data": {
      "image/png": "[encoded data removed]",
      "text/plain": [
       "plot without title"
      ]
     },
     "metadata": {
      "image/png": {
       "height": 480,
       "width": 840
      }
     },
     "output_type": "display_data"
    }
   ],
   "source": [
    "p[['CLU']]"
   ]
  },
  {
   "cell_type": "markdown",
   "id": "f08b6fde-8656-438e-b8fa-5ff72f7b3537",
   "metadata": {
    "kernel": "R"
   },
   "source": [
    "CLU can be found with both cs_coverage_0.95 and cs_coverage_0.95_min_corr criteria"
   ]
  },
  {
   "cell_type": "code",
   "execution_count": 257,
   "id": "575114d3-6bac-4c4b-bb89-b1582e063c69",
   "metadata": {
    "kernel": "R"
   },
   "outputs": [
    {
     "data": {
      "image/png": "[encoded data removed]",
      "text/plain": [
       "plot without title"
      ]
     },
     "metadata": {
      "image/png": {
       "height": 480,
       "width": 840
      }
     },
     "output_type": "display_data"
    }
   ],
   "source": [
    "p[[12]]"
   ]
  },
  {
   "cell_type": "code",
   "execution_count": 258,
   "id": "319e230e-577f-46bd-9e7d-eb8f30112ae3",
   "metadata": {
    "kernel": "R"
   },
   "outputs": [
    {
     "data": {
      "text/html": [
       "<table class=\"dataframe\">\n",
       "<caption>A data.table: 6 × 17</caption>\n",
       "<thead>\n",
       "\t<tr><th scope=col>variant_id</th><th scope=col>z</th><th scope=col>pip</th><th scope=col>cs_coverage_0.95</th><th scope=col>cs_coverage_0.7</th><th scope=col>cs_coverage_0.5</th><th scope=col>cs_coverage_0.95_min_corr</th><th scope=col>cs_coverage_0.7_min_corr</th><th scope=col>cs_coverage_0.5_min_corr</th><th scope=col>cs_coverage_0.95_attainable</th><th scope=col>cs_coverage_0.7_attainable</th><th scope=col>cs_coverage_0.5_attainable</th><th scope=col>study</th><th scope=col>method</th><th scope=col>block</th><th scope=col>chr</th><th scope=col>pos</th></tr>\n",
       "\t<tr><th scope=col>&lt;chr&gt;</th><th scope=col>&lt;dbl&gt;</th><th scope=col>&lt;dbl&gt;</th><th scope=col>&lt;int&gt;</th><th scope=col>&lt;int&gt;</th><th scope=col>&lt;int&gt;</th><th scope=col>&lt;int&gt;</th><th scope=col>&lt;int&gt;</th><th scope=col>&lt;int&gt;</th><th scope=col>&lt;int&gt;</th><th scope=col>&lt;int&gt;</th><th scope=col>&lt;int&gt;</th><th scope=col>&lt;chr&gt;</th><th scope=col>&lt;chr&gt;</th><th scope=col>&lt;chr&gt;</th><th scope=col>&lt;chr&gt;</th><th scope=col>&lt;dbl&gt;</th></tr>\n",
       "</thead>\n",
       "<tbody>\n",
       "\t<tr><td>2:202878716:TC:T    </td><td>-5.163934</td><td>0.008586984</td><td>0</td><td>0</td><td>0</td><td>1</td><td>1</td><td>1</td><td>NA</td><td>NA</td><td>NA</td><td>AD_Bellenguez_2022</td><td>RSS_QC_RAISS_imputed</td><td>chr2_201677542_203951659</td><td>chr2</td><td>202878716</td></tr>\n",
       "\t<tr><td>2:202833084:GA:G    </td><td>-5.155738</td><td>0.008266730</td><td>0</td><td>0</td><td>0</td><td>1</td><td>1</td><td>1</td><td>NA</td><td>NA</td><td>NA</td><td>AD_Bellenguez_2022</td><td>RSS_QC_RAISS_imputed</td><td>chr2_201677542_203951659</td><td>chr2</td><td>202833084</td></tr>\n",
       "\t<tr><td>2:202896433:TA:T    </td><td>-5.139344</td><td>0.007661123</td><td>0</td><td>0</td><td>0</td><td>1</td><td>1</td><td>1</td><td>NA</td><td>NA</td><td>NA</td><td>AD_Bellenguez_2022</td><td>RSS_QC_RAISS_imputed</td><td>chr2_201677542_203951659</td><td>chr2</td><td>202896433</td></tr>\n",
       "\t<tr><td>2:202821511:GTTTCC:G</td><td>-5.130081</td><td>0.007345753</td><td>0</td><td>0</td><td>0</td><td>1</td><td>1</td><td>1</td><td>NA</td><td>NA</td><td>NA</td><td>AD_Bellenguez_2022</td><td>RSS_QC_RAISS_imputed</td><td>chr2_201677542_203951659</td><td>chr2</td><td>202821511</td></tr>\n",
       "\t<tr><td>2:202887295:G:A     </td><td>-5.122951</td><td>0.007108885</td><td>0</td><td>0</td><td>0</td><td>1</td><td>1</td><td>1</td><td>NA</td><td>NA</td><td>NA</td><td>AD_Bellenguez_2022</td><td>RSS_QC_RAISS_imputed</td><td>chr2_201677542_203951659</td><td>chr2</td><td>202887295</td></tr>\n",
       "\t<tr><td>2:202881162:T:C     </td><td>-5.100000</td><td>0.006401449</td><td>0</td><td>0</td><td>0</td><td>1</td><td>1</td><td>1</td><td>NA</td><td>NA</td><td>NA</td><td>AD_Bellenguez_2022</td><td>RSS_QC_RAISS_imputed</td><td>chr2_201677542_203951659</td><td>chr2</td><td>202881162</td></tr>\n",
       "</tbody>\n",
       "</table>\n"
      ],
      "text/latex": [
       "A data.table: 6 × 17\n",
       "\\begin{tabular}{lllllllllllllllll}\n",
       " variant\\_id & z & pip & cs\\_coverage\\_0.95 & cs\\_coverage\\_0.7 & cs\\_coverage\\_0.5 & cs\\_coverage\\_0.95\\_min\\_corr & cs\\_coverage\\_0.7\\_min\\_corr & cs\\_coverage\\_0.5\\_min\\_corr & cs\\_coverage\\_0.95\\_attainable & cs\\_coverage\\_0.7\\_attainable & cs\\_coverage\\_0.5\\_attainable & study & method & block & chr & pos\\\\\n",
       " <chr> & <dbl> & <dbl> & <int> & <int> & <int> & <int> & <int> & <int> & <int> & <int> & <int> & <chr> & <chr> & <chr> & <chr> & <dbl>\\\\\n",
       "\\hline\n",
       "\t 2:202878716:TC:T     & -5.163934 & 0.008586984 & 0 & 0 & 0 & 1 & 1 & 1 & NA & NA & NA & AD\\_Bellenguez\\_2022 & RSS\\_QC\\_RAISS\\_imputed & chr2\\_201677542\\_203951659 & chr2 & 202878716\\\\\n",
       "\t 2:202833084:GA:G     & -5.155738 & 0.008266730 & 0 & 0 & 0 & 1 & 1 & 1 & NA & NA & NA & AD\\_Bellenguez\\_2022 & RSS\\_QC\\_RAISS\\_imputed & chr2\\_201677542\\_203951659 & chr2 & 202833084\\\\\n",
       "\t 2:202896433:TA:T     & -5.139344 & 0.007661123 & 0 & 0 & 0 & 1 & 1 & 1 & NA & NA & NA & AD\\_Bellenguez\\_2022 & RSS\\_QC\\_RAISS\\_imputed & chr2\\_201677542\\_203951659 & chr2 & 202896433\\\\\n",
       "\t 2:202821511:GTTTCC:G & -5.130081 & 0.007345753 & 0 & 0 & 0 & 1 & 1 & 1 & NA & NA & NA & AD\\_Bellenguez\\_2022 & RSS\\_QC\\_RAISS\\_imputed & chr2\\_201677542\\_203951659 & chr2 & 202821511\\\\\n",
       "\t 2:202887295:G:A      & -5.122951 & 0.007108885 & 0 & 0 & 0 & 1 & 1 & 1 & NA & NA & NA & AD\\_Bellenguez\\_2022 & RSS\\_QC\\_RAISS\\_imputed & chr2\\_201677542\\_203951659 & chr2 & 202887295\\\\\n",
       "\t 2:202881162:T:C      & -5.100000 & 0.006401449 & 0 & 0 & 0 & 1 & 1 & 1 & NA & NA & NA & AD\\_Bellenguez\\_2022 & RSS\\_QC\\_RAISS\\_imputed & chr2\\_201677542\\_203951659 & chr2 & 202881162\\\\\n",
       "\\end{tabular}\n"
      ],
      "text/markdown": [
       "\n",
       "A data.table: 6 × 17\n",
       "\n",
       "| variant_id &lt;chr&gt; | z &lt;dbl&gt; | pip &lt;dbl&gt; | cs_coverage_0.95 &lt;int&gt; | cs_coverage_0.7 &lt;int&gt; | cs_coverage_0.5 &lt;int&gt; | cs_coverage_0.95_min_corr &lt;int&gt; | cs_coverage_0.7_min_corr &lt;int&gt; | cs_coverage_0.5_min_corr &lt;int&gt; | cs_coverage_0.95_attainable &lt;int&gt; | cs_coverage_0.7_attainable &lt;int&gt; | cs_coverage_0.5_attainable &lt;int&gt; | study &lt;chr&gt; | method &lt;chr&gt; | block &lt;chr&gt; | chr &lt;chr&gt; | pos &lt;dbl&gt; |\n",
       "|---|---|---|---|---|---|---|---|---|---|---|---|---|---|---|---|---|\n",
       "| 2:202878716:TC:T     | -5.163934 | 0.008586984 | 0 | 0 | 0 | 1 | 1 | 1 | NA | NA | NA | AD_Bellenguez_2022 | RSS_QC_RAISS_imputed | chr2_201677542_203951659 | chr2 | 202878716 |\n",
       "| 2:202833084:GA:G     | -5.155738 | 0.008266730 | 0 | 0 | 0 | 1 | 1 | 1 | NA | NA | NA | AD_Bellenguez_2022 | RSS_QC_RAISS_imputed | chr2_201677542_203951659 | chr2 | 202833084 |\n",
       "| 2:202896433:TA:T     | -5.139344 | 0.007661123 | 0 | 0 | 0 | 1 | 1 | 1 | NA | NA | NA | AD_Bellenguez_2022 | RSS_QC_RAISS_imputed | chr2_201677542_203951659 | chr2 | 202896433 |\n",
       "| 2:202821511:GTTTCC:G | -5.130081 | 0.007345753 | 0 | 0 | 0 | 1 | 1 | 1 | NA | NA | NA | AD_Bellenguez_2022 | RSS_QC_RAISS_imputed | chr2_201677542_203951659 | chr2 | 202821511 |\n",
       "| 2:202887295:G:A      | -5.122951 | 0.007108885 | 0 | 0 | 0 | 1 | 1 | 1 | NA | NA | NA | AD_Bellenguez_2022 | RSS_QC_RAISS_imputed | chr2_201677542_203951659 | chr2 | 202887295 |\n",
       "| 2:202881162:T:C      | -5.100000 | 0.006401449 | 0 | 0 | 0 | 1 | 1 | 1 | NA | NA | NA | AD_Bellenguez_2022 | RSS_QC_RAISS_imputed | chr2_201677542_203951659 | chr2 | 202881162 |\n",
       "\n"
      ],
      "text/plain": [
       "  variant_id           z         pip         cs_coverage_0.95 cs_coverage_0.7\n",
       "1 2:202878716:TC:T     -5.163934 0.008586984 0                0              \n",
       "2 2:202833084:GA:G     -5.155738 0.008266730 0                0              \n",
       "3 2:202896433:TA:T     -5.139344 0.007661123 0                0              \n",
       "4 2:202821511:GTTTCC:G -5.130081 0.007345753 0                0              \n",
       "5 2:202887295:G:A      -5.122951 0.007108885 0                0              \n",
       "6 2:202881162:T:C      -5.100000 0.006401449 0                0              \n",
       "  cs_coverage_0.5 cs_coverage_0.95_min_corr cs_coverage_0.7_min_corr\n",
       "1 0               1                         1                       \n",
       "2 0               1                         1                       \n",
       "3 0               1                         1                       \n",
       "4 0               1                         1                       \n",
       "5 0               1                         1                       \n",
       "6 0               1                         1                       \n",
       "  cs_coverage_0.5_min_corr cs_coverage_0.95_attainable\n",
       "1 1                        NA                         \n",
       "2 1                        NA                         \n",
       "3 1                        NA                         \n",
       "4 1                        NA                         \n",
       "5 1                        NA                         \n",
       "6 1                        NA                         \n",
       "  cs_coverage_0.7_attainable cs_coverage_0.5_attainable study             \n",
       "1 NA                         NA                         AD_Bellenguez_2022\n",
       "2 NA                         NA                         AD_Bellenguez_2022\n",
       "3 NA                         NA                         AD_Bellenguez_2022\n",
       "4 NA                         NA                         AD_Bellenguez_2022\n",
       "5 NA                         NA                         AD_Bellenguez_2022\n",
       "6 NA                         NA                         AD_Bellenguez_2022\n",
       "  method               block                    chr  pos      \n",
       "1 RSS_QC_RAISS_imputed chr2_201677542_203951659 chr2 202878716\n",
       "2 RSS_QC_RAISS_imputed chr2_201677542_203951659 chr2 202833084\n",
       "3 RSS_QC_RAISS_imputed chr2_201677542_203951659 chr2 202896433\n",
       "4 RSS_QC_RAISS_imputed chr2_201677542_203951659 chr2 202821511\n",
       "5 RSS_QC_RAISS_imputed chr2_201677542_203951659 chr2 202887295\n",
       "6 RSS_QC_RAISS_imputed chr2_201677542_203951659 chr2 202881162"
      ]
     },
     "metadata": {},
     "output_type": "display_data"
    },
    {
     "data": {
      "text/html": [
       "<style>\n",
       ".list-inline {list-style: none; margin:0; padding: 0}\n",
       ".list-inline>li {display: inline-block}\n",
       ".list-inline>li:not(:last-child)::after {content: \"\\00b7\"; padding: 0 .5ex}\n",
       "</style>\n",
       "<ol class=list-inline><li>226</li><li>17</li></ol>\n"
      ],
      "text/latex": [
       "\\begin{enumerate*}\n",
       "\\item 226\n",
       "\\item 17\n",
       "\\end{enumerate*}\n"
      ],
      "text/markdown": [
       "1. 226\n",
       "2. 17\n",
       "\n",
       "\n"
      ],
      "text/plain": [
       "[1] 226  17"
      ]
     },
     "metadata": {},
     "output_type": "display_data"
    }
   ],
   "source": [
    "region_data <- m6a_gene_bed_ad_df %>% filter(gene_name == 'CARF') \n",
    "\n",
    "extension <- 5000\n",
    "    \n",
    "plot_from <- min(region_data$gene_start, region_data$start, region_data$start_variant) - extension\n",
    "plot_to <- max(region_data$gene_end, region_data$end, region_data$end_variant) + extension\n",
    "gwas_region_block <- gwas %>% filter(chr == unique(region_data$chrom), pos >= plot_from, pos <= plot_to) %>% pull(block) %>% unique\n",
    "gwas %>% filter(block == gwas_region_block, cs_coverage_0.95_min_corr == 1) %>% arrange(desc(pip)) %>% head\n",
    "gwas %>% filter(block == gwas_region_block, cs_coverage_0.95_min_corr == 1) %>% arrange(desc(pip)) %>% dim"
   ]
  },
  {
   "cell_type": "code",
   "execution_count": 259,
   "id": "5e985686-5da6-4624-aad9-5214919b571c",
   "metadata": {
    "kernel": "R"
   },
   "outputs": [
    {
     "data": {
      "image/png": "[encoded data removed]",
      "text/plain": [
       "plot without title"
      ]
     },
     "metadata": {
      "image/png": {
       "height": 480,
       "width": 840
      }
     },
     "output_type": "display_data"
    }
   ],
   "source": [
    "p[[13]]"
   ]
  },
  {
   "cell_type": "code",
   "execution_count": 260,
   "id": "0f659e3f-efad-4a5e-8351-82e589aec208",
   "metadata": {
    "kernel": "R"
   },
   "outputs": [
    {
     "data": {
      "text/html": [
       "<table class=\"dataframe\">\n",
       "<caption>A data.table: 6 × 17</caption>\n",
       "<thead>\n",
       "\t<tr><th scope=col>variant_id</th><th scope=col>z</th><th scope=col>pip</th><th scope=col>cs_coverage_0.95</th><th scope=col>cs_coverage_0.7</th><th scope=col>cs_coverage_0.5</th><th scope=col>cs_coverage_0.95_min_corr</th><th scope=col>cs_coverage_0.7_min_corr</th><th scope=col>cs_coverage_0.5_min_corr</th><th scope=col>cs_coverage_0.95_attainable</th><th scope=col>cs_coverage_0.7_attainable</th><th scope=col>cs_coverage_0.5_attainable</th><th scope=col>study</th><th scope=col>method</th><th scope=col>block</th><th scope=col>chr</th><th scope=col>pos</th></tr>\n",
       "\t<tr><th scope=col>&lt;chr&gt;</th><th scope=col>&lt;dbl&gt;</th><th scope=col>&lt;dbl&gt;</th><th scope=col>&lt;int&gt;</th><th scope=col>&lt;int&gt;</th><th scope=col>&lt;int&gt;</th><th scope=col>&lt;int&gt;</th><th scope=col>&lt;int&gt;</th><th scope=col>&lt;int&gt;</th><th scope=col>&lt;int&gt;</th><th scope=col>&lt;int&gt;</th><th scope=col>&lt;int&gt;</th><th scope=col>&lt;chr&gt;</th><th scope=col>&lt;chr&gt;</th><th scope=col>&lt;chr&gt;</th><th scope=col>&lt;chr&gt;</th><th scope=col>&lt;dbl&gt;</th></tr>\n",
       "</thead>\n",
       "<tbody>\n",
       "\t<tr><td>2:202878716:TC:T    </td><td>-5.163934</td><td>0.008586984</td><td>0</td><td>0</td><td>0</td><td>1</td><td>1</td><td>1</td><td>NA</td><td>NA</td><td>NA</td><td>AD_Bellenguez_2022</td><td>RSS_QC_RAISS_imputed</td><td>chr2_201677542_203951659</td><td>chr2</td><td>202878716</td></tr>\n",
       "\t<tr><td>2:202833084:GA:G    </td><td>-5.155738</td><td>0.008266730</td><td>0</td><td>0</td><td>0</td><td>1</td><td>1</td><td>1</td><td>NA</td><td>NA</td><td>NA</td><td>AD_Bellenguez_2022</td><td>RSS_QC_RAISS_imputed</td><td>chr2_201677542_203951659</td><td>chr2</td><td>202833084</td></tr>\n",
       "\t<tr><td>2:202896433:TA:T    </td><td>-5.139344</td><td>0.007661123</td><td>0</td><td>0</td><td>0</td><td>1</td><td>1</td><td>1</td><td>NA</td><td>NA</td><td>NA</td><td>AD_Bellenguez_2022</td><td>RSS_QC_RAISS_imputed</td><td>chr2_201677542_203951659</td><td>chr2</td><td>202896433</td></tr>\n",
       "\t<tr><td>2:202821511:GTTTCC:G</td><td>-5.130081</td><td>0.007345753</td><td>0</td><td>0</td><td>0</td><td>1</td><td>1</td><td>1</td><td>NA</td><td>NA</td><td>NA</td><td>AD_Bellenguez_2022</td><td>RSS_QC_RAISS_imputed</td><td>chr2_201677542_203951659</td><td>chr2</td><td>202821511</td></tr>\n",
       "\t<tr><td>2:202887295:G:A     </td><td>-5.122951</td><td>0.007108885</td><td>0</td><td>0</td><td>0</td><td>1</td><td>1</td><td>1</td><td>NA</td><td>NA</td><td>NA</td><td>AD_Bellenguez_2022</td><td>RSS_QC_RAISS_imputed</td><td>chr2_201677542_203951659</td><td>chr2</td><td>202887295</td></tr>\n",
       "\t<tr><td>2:202881162:T:C     </td><td>-5.100000</td><td>0.006401449</td><td>0</td><td>0</td><td>0</td><td>1</td><td>1</td><td>1</td><td>NA</td><td>NA</td><td>NA</td><td>AD_Bellenguez_2022</td><td>RSS_QC_RAISS_imputed</td><td>chr2_201677542_203951659</td><td>chr2</td><td>202881162</td></tr>\n",
       "</tbody>\n",
       "</table>\n"
      ],
      "text/latex": [
       "A data.table: 6 × 17\n",
       "\\begin{tabular}{lllllllllllllllll}\n",
       " variant\\_id & z & pip & cs\\_coverage\\_0.95 & cs\\_coverage\\_0.7 & cs\\_coverage\\_0.5 & cs\\_coverage\\_0.95\\_min\\_corr & cs\\_coverage\\_0.7\\_min\\_corr & cs\\_coverage\\_0.5\\_min\\_corr & cs\\_coverage\\_0.95\\_attainable & cs\\_coverage\\_0.7\\_attainable & cs\\_coverage\\_0.5\\_attainable & study & method & block & chr & pos\\\\\n",
       " <chr> & <dbl> & <dbl> & <int> & <int> & <int> & <int> & <int> & <int> & <int> & <int> & <int> & <chr> & <chr> & <chr> & <chr> & <dbl>\\\\\n",
       "\\hline\n",
       "\t 2:202878716:TC:T     & -5.163934 & 0.008586984 & 0 & 0 & 0 & 1 & 1 & 1 & NA & NA & NA & AD\\_Bellenguez\\_2022 & RSS\\_QC\\_RAISS\\_imputed & chr2\\_201677542\\_203951659 & chr2 & 202878716\\\\\n",
       "\t 2:202833084:GA:G     & -5.155738 & 0.008266730 & 0 & 0 & 0 & 1 & 1 & 1 & NA & NA & NA & AD\\_Bellenguez\\_2022 & RSS\\_QC\\_RAISS\\_imputed & chr2\\_201677542\\_203951659 & chr2 & 202833084\\\\\n",
       "\t 2:202896433:TA:T     & -5.139344 & 0.007661123 & 0 & 0 & 0 & 1 & 1 & 1 & NA & NA & NA & AD\\_Bellenguez\\_2022 & RSS\\_QC\\_RAISS\\_imputed & chr2\\_201677542\\_203951659 & chr2 & 202896433\\\\\n",
       "\t 2:202821511:GTTTCC:G & -5.130081 & 0.007345753 & 0 & 0 & 0 & 1 & 1 & 1 & NA & NA & NA & AD\\_Bellenguez\\_2022 & RSS\\_QC\\_RAISS\\_imputed & chr2\\_201677542\\_203951659 & chr2 & 202821511\\\\\n",
       "\t 2:202887295:G:A      & -5.122951 & 0.007108885 & 0 & 0 & 0 & 1 & 1 & 1 & NA & NA & NA & AD\\_Bellenguez\\_2022 & RSS\\_QC\\_RAISS\\_imputed & chr2\\_201677542\\_203951659 & chr2 & 202887295\\\\\n",
       "\t 2:202881162:T:C      & -5.100000 & 0.006401449 & 0 & 0 & 0 & 1 & 1 & 1 & NA & NA & NA & AD\\_Bellenguez\\_2022 & RSS\\_QC\\_RAISS\\_imputed & chr2\\_201677542\\_203951659 & chr2 & 202881162\\\\\n",
       "\\end{tabular}\n"
      ],
      "text/markdown": [
       "\n",
       "A data.table: 6 × 17\n",
       "\n",
       "| variant_id &lt;chr&gt; | z &lt;dbl&gt; | pip &lt;dbl&gt; | cs_coverage_0.95 &lt;int&gt; | cs_coverage_0.7 &lt;int&gt; | cs_coverage_0.5 &lt;int&gt; | cs_coverage_0.95_min_corr &lt;int&gt; | cs_coverage_0.7_min_corr &lt;int&gt; | cs_coverage_0.5_min_corr &lt;int&gt; | cs_coverage_0.95_attainable &lt;int&gt; | cs_coverage_0.7_attainable &lt;int&gt; | cs_coverage_0.5_attainable &lt;int&gt; | study &lt;chr&gt; | method &lt;chr&gt; | block &lt;chr&gt; | chr &lt;chr&gt; | pos &lt;dbl&gt; |\n",
       "|---|---|---|---|---|---|---|---|---|---|---|---|---|---|---|---|---|\n",
       "| 2:202878716:TC:T     | -5.163934 | 0.008586984 | 0 | 0 | 0 | 1 | 1 | 1 | NA | NA | NA | AD_Bellenguez_2022 | RSS_QC_RAISS_imputed | chr2_201677542_203951659 | chr2 | 202878716 |\n",
       "| 2:202833084:GA:G     | -5.155738 | 0.008266730 | 0 | 0 | 0 | 1 | 1 | 1 | NA | NA | NA | AD_Bellenguez_2022 | RSS_QC_RAISS_imputed | chr2_201677542_203951659 | chr2 | 202833084 |\n",
       "| 2:202896433:TA:T     | -5.139344 | 0.007661123 | 0 | 0 | 0 | 1 | 1 | 1 | NA | NA | NA | AD_Bellenguez_2022 | RSS_QC_RAISS_imputed | chr2_201677542_203951659 | chr2 | 202896433 |\n",
       "| 2:202821511:GTTTCC:G | -5.130081 | 0.007345753 | 0 | 0 | 0 | 1 | 1 | 1 | NA | NA | NA | AD_Bellenguez_2022 | RSS_QC_RAISS_imputed | chr2_201677542_203951659 | chr2 | 202821511 |\n",
       "| 2:202887295:G:A      | -5.122951 | 0.007108885 | 0 | 0 | 0 | 1 | 1 | 1 | NA | NA | NA | AD_Bellenguez_2022 | RSS_QC_RAISS_imputed | chr2_201677542_203951659 | chr2 | 202887295 |\n",
       "| 2:202881162:T:C      | -5.100000 | 0.006401449 | 0 | 0 | 0 | 1 | 1 | 1 | NA | NA | NA | AD_Bellenguez_2022 | RSS_QC_RAISS_imputed | chr2_201677542_203951659 | chr2 | 202881162 |\n",
       "\n"
      ],
      "text/plain": [
       "  variant_id           z         pip         cs_coverage_0.95 cs_coverage_0.7\n",
       "1 2:202878716:TC:T     -5.163934 0.008586984 0                0              \n",
       "2 2:202833084:GA:G     -5.155738 0.008266730 0                0              \n",
       "3 2:202896433:TA:T     -5.139344 0.007661123 0                0              \n",
       "4 2:202821511:GTTTCC:G -5.130081 0.007345753 0                0              \n",
       "5 2:202887295:G:A      -5.122951 0.007108885 0                0              \n",
       "6 2:202881162:T:C      -5.100000 0.006401449 0                0              \n",
       "  cs_coverage_0.5 cs_coverage_0.95_min_corr cs_coverage_0.7_min_corr\n",
       "1 0               1                         1                       \n",
       "2 0               1                         1                       \n",
       "3 0               1                         1                       \n",
       "4 0               1                         1                       \n",
       "5 0               1                         1                       \n",
       "6 0               1                         1                       \n",
       "  cs_coverage_0.5_min_corr cs_coverage_0.95_attainable\n",
       "1 1                        NA                         \n",
       "2 1                        NA                         \n",
       "3 1                        NA                         \n",
       "4 1                        NA                         \n",
       "5 1                        NA                         \n",
       "6 1                        NA                         \n",
       "  cs_coverage_0.7_attainable cs_coverage_0.5_attainable study             \n",
       "1 NA                         NA                         AD_Bellenguez_2022\n",
       "2 NA                         NA                         AD_Bellenguez_2022\n",
       "3 NA                         NA                         AD_Bellenguez_2022\n",
       "4 NA                         NA                         AD_Bellenguez_2022\n",
       "5 NA                         NA                         AD_Bellenguez_2022\n",
       "6 NA                         NA                         AD_Bellenguez_2022\n",
       "  method               block                    chr  pos      \n",
       "1 RSS_QC_RAISS_imputed chr2_201677542_203951659 chr2 202878716\n",
       "2 RSS_QC_RAISS_imputed chr2_201677542_203951659 chr2 202833084\n",
       "3 RSS_QC_RAISS_imputed chr2_201677542_203951659 chr2 202896433\n",
       "4 RSS_QC_RAISS_imputed chr2_201677542_203951659 chr2 202821511\n",
       "5 RSS_QC_RAISS_imputed chr2_201677542_203951659 chr2 202887295\n",
       "6 RSS_QC_RAISS_imputed chr2_201677542_203951659 chr2 202881162"
      ]
     },
     "metadata": {},
     "output_type": "display_data"
    },
    {
     "data": {
      "text/html": [
       "<style>\n",
       ".list-inline {list-style: none; margin:0; padding: 0}\n",
       ".list-inline>li {display: inline-block}\n",
       ".list-inline>li:not(:last-child)::after {content: \"\\00b7\"; padding: 0 .5ex}\n",
       "</style>\n",
       "<ol class=list-inline><li>226</li><li>17</li></ol>\n"
      ],
      "text/latex": [
       "\\begin{enumerate*}\n",
       "\\item 226\n",
       "\\item 17\n",
       "\\end{enumerate*}\n"
      ],
      "text/markdown": [
       "1. 226\n",
       "2. 17\n",
       "\n",
       "\n"
      ],
      "text/plain": [
       "[1] 226  17"
      ]
     },
     "metadata": {},
     "output_type": "display_data"
    }
   ],
   "source": [
    "region_data <- m6a_gene_bed_ad_df %>% filter(gene_name == 'WDR12') \n",
    "\n",
    "extension <- 5000\n",
    "    \n",
    "plot_from <- min(region_data$gene_start, region_data$start, region_data$start_variant) - extension\n",
    "plot_to <- max(region_data$gene_end, region_data$end, region_data$end_variant) + extension\n",
    "gwas_region_block <- gwas %>% filter(chr == unique(region_data$chrom), pos >= plot_from, pos <= plot_to) %>% pull(block) %>% unique\n",
    "gwas %>% filter(block == gwas_region_block, cs_coverage_0.95_min_corr == 1) %>% arrange(desc(pip)) %>% head\n",
    "gwas %>% filter(block == gwas_region_block, cs_coverage_0.95_min_corr == 1) %>% arrange(desc(pip)) %>% dim"
   ]
  },
  {
   "cell_type": "markdown",
   "id": "47089aac-0dba-475f-aa19-23b4f8bf7a41",
   "metadata": {
    "kernel": "R"
   },
   "source": [
    "for $CARF$ and $WDR12$, the GWAS cs is only detected in cs_coverage_0.95_min_corr, probobaly because that cs is huge and without pip > 0.025 ( or some threshold) so be filtered in cs_coverage_0.95"
   ]
  },
  {
   "cell_type": "markdown",
   "id": "61da7173-b048-4e1b-a699-4b072b1582a1",
   "metadata": {
    "kernel": "R"
   },
   "source": [
    "## Conclusion:\n",
    "1. In most contexts within the provided data, there is AD enrichment based on Fisher’s test results;\n",
    "2. However, brain tissue does not show greater specificity for AD enrichment compared to other tissues;\n",
    "3. While CLU can show some interesting pattern in specific region. "
   ]
  }
 ],
 "metadata": {
  "kernelspec": {
   "display_name": "SoS",
   "language": "sos",
   "name": "sos"
  },
  "language_info": {
   "codemirror_mode": "sos",
   "file_extension": ".sos",
   "mimetype": "text/x-sos",
   "name": "sos",
   "nbconvert_exporter": "sos_notebook.converter.SoS_Exporter",
   "pygments_lexer": "sos"
  },
  "sos": {
   "kernels": [
    [
     "R",
     "ir",
     "R",
     "#DCDCDA",
     ""
    ]
   ],
   "version": ""
  }
 },
 "nbformat": 4,
 "nbformat_minor": 5
}
